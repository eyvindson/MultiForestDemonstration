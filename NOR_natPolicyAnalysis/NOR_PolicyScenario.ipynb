{
 "cells": [
  {
   "cell_type": "markdown",
   "metadata": {},
   "source": [
    "# MultiForest optimization notebook\n",
    "# NORWAY"
   ]
  },
  {
   "cell_type": "markdown",
   "metadata": {},
   "source": [
    "Above the code cells, there are short instructions how the users can modify the codes in the cells.<br>\n",
    "If there are no instructions, no changes should be needed for the cell by default.\n",
    "\n",
    "A detailed description is provided in the <b>README.md</b>.\n",
    "\n",
    "## Basic definitions\n",
    "Simulated forest data - name and climate scenario"
   ]
  },
  {
   "cell_type": "code",
   "execution_count": 1,
   "metadata": {},
   "outputs": [],
   "source": [
    "RCP = \"RCP45\" # NDC scenario"
   ]
  },
  {
   "cell_type": "markdown",
   "metadata": {},
   "source": [
    "Specify policy scenario:\n",
    "\n",
    "- \"FS\" -  National Forest Strategy\n",
    "- \"BDS\" - Biodiversity Strategy\n",
    "- \"BES\" - Bioeconomy Strategy"
   ]
  },
  {
   "cell_type": "code",
   "execution_count": 2,
   "metadata": {},
   "outputs": [],
   "source": [
    "scenario =\"BES\""
   ]
  },
  {
   "cell_type": "markdown",
   "metadata": {},
   "source": [
    "## Read .py class & data"
   ]
  },
  {
   "cell_type": "code",
   "execution_count": 3,
   "metadata": {},
   "outputs": [],
   "source": [
    "import wget\n",
    "import os\n",
    "import numpy as np\n",
    "import pandas as pd\n",
    "import sys"
   ]
  },
  {
   "cell_type": "code",
   "execution_count": 4,
   "metadata": {
    "scrolled": true
   },
   "outputs": [
    {
     "ename": "ModuleNotFoundError",
     "evalue": "No module named 'multiFunctionalOptimizationNor'",
     "output_type": "error",
     "traceback": [
      "\u001b[0;31m---------------------------------------------------------------------------\u001b[0m",
      "\u001b[0;31mModuleNotFoundError\u001b[0m                       Traceback (most recent call last)",
      "\u001b[0;32m<ipython-input-4-48c6ae635ac2>\u001b[0m in \u001b[0;36m<module>\u001b[0;34m\u001b[0m\n\u001b[1;32m      3\u001b[0m     \u001b[0msys\u001b[0m\u001b[0;34m.\u001b[0m\u001b[0mpath\u001b[0m\u001b[0;34m.\u001b[0m\u001b[0mappend\u001b[0m\u001b[0;34m(\u001b[0m\u001b[0mmodule_path\u001b[0m\u001b[0;34m+\u001b[0m\u001b[0;34m\"/py_class\"\u001b[0m\u001b[0;34m)\u001b[0m\u001b[0;34m\u001b[0m\u001b[0;34m\u001b[0m\u001b[0m\n\u001b[1;32m      4\u001b[0m \u001b[0;34m\u001b[0m\u001b[0m\n\u001b[0;32m----> 5\u001b[0;31m \u001b[0;32mimport\u001b[0m \u001b[0mmultiFunctionalOptimizationNor\u001b[0m \u001b[0;32mas\u001b[0m \u001b[0mMFO\u001b[0m\u001b[0;34m\u001b[0m\u001b[0;34m\u001b[0m\u001b[0m\n\u001b[0m",
      "\u001b[0;31mModuleNotFoundError\u001b[0m: No module named 'multiFunctionalOptimizationNor'"
     ]
    }
   ],
   "source": [
    "module_path = os.path.abspath(os.path.join('..'))\n",
    "if module_path not in sys.path:\n",
    "    sys.path.append(module_path+\"/py_class\")\n",
    "\n",
    "import multiFunctionalOptimizationNor as MFO"
   ]
  },
  {
   "cell_type": "code",
   "execution_count": null,
   "metadata": {},
   "outputs": [],
   "source": [
    "from importlib import reload\n",
    "reload(MFO)"
   ]
  },
  {
   "cell_type": "code",
   "execution_count": 5,
   "metadata": {},
   "outputs": [
    {
     "ename": "NameError",
     "evalue": "name 'MFO' is not defined",
     "output_type": "error",
     "traceback": [
      "\u001b[0;31m---------------------------------------------------------------------------\u001b[0m",
      "\u001b[0;31mNameError\u001b[0m                                 Traceback (most recent call last)",
      "\u001b[0;32m<ipython-input-5-c74a7cf9c01a>\u001b[0m in \u001b[0;36m<module>\u001b[0;34m\u001b[0m\n\u001b[0;32m----> 1\u001b[0;31m \u001b[0mmfo\u001b[0m \u001b[0;34m=\u001b[0m \u001b[0mMFO\u001b[0m\u001b[0;34m.\u001b[0m\u001b[0mMultiFunctionalOptimization\u001b[0m\u001b[0;34m(\u001b[0m\u001b[0msolver\u001b[0m \u001b[0;34m=\u001b[0m \u001b[0;34m'CPLEX'\u001b[0m\u001b[0;34m)\u001b[0m\u001b[0;34m\u001b[0m\u001b[0;34m\u001b[0m\u001b[0m\n\u001b[0m",
      "\u001b[0;31mNameError\u001b[0m: name 'MFO' is not defined"
     ]
    }
   ],
   "source": [
    "mfo = MFO.MultiFunctionalOptimization(solver = 'CPLEX')"
   ]
  },
  {
   "cell_type": "markdown",
   "metadata": {},
   "source": [
    "<b>You need to \"unrar\" the file testData.rar first</b>"
   ]
  },
  {
   "cell_type": "code",
   "execution_count": 6,
   "metadata": {},
   "outputs": [
    {
     "data": {
      "text/plain": [
       "'testData.csv'"
      ]
     },
     "execution_count": 6,
     "metadata": {},
     "output_type": "execute_result"
    }
   ],
   "source": [
    "filename = \"testData.csv\"\n",
    "filename"
   ]
  },
  {
   "cell_type": "code",
   "execution_count": 8,
   "metadata": {},
   "outputs": [
    {
     "data": {
      "text/plain": [
       "'testData.csv'"
      ]
     },
     "execution_count": 8,
     "metadata": {},
     "output_type": "execute_result"
    }
   ],
   "source": [
    "filename"
   ]
  },
  {
   "cell_type": "code",
   "execution_count": 9,
   "metadata": {},
   "outputs": [
    {
     "name": "stdout",
     "output_type": "stream",
     "text": [
      "CPU times: user 1.25 s, sys: 1.6 s, total: 2.85 s\n",
      "Wall time: 2.85 s\n"
     ]
    }
   ],
   "source": [
    "%%time\n",
    "mfo.readData(filename,standsEnu = \"plot_id\",delimeter = \",\",\n",
    "             areaCol = \"tsd_ha2total\", \n",
    "             sampleRatio=1) #If no sample ratio given, the ratio is assumed to be 1\n",
    "                             #0.2 means 20% of the data"
   ]
  },
  {
   "cell_type": "code",
   "execution_count": 10,
   "metadata": {},
   "outputs": [
    {
     "data": {
      "text/plain": [
       "Index(['plot_id', 'year', 'regime', 'period', 'pulp_vol_m3',\n",
       "       'harv_cost_nok_m3', 'harv_cost_u150', 'harv_cost_u200',\n",
       "       'net_increment_m3', 'is_old', 'is_broadleave', 'MiS_classified_plot',\n",
       "       'bilberry_cover_pr', 'GROT_kt_TotNor', 'vol_saw_m3', 'saw_CO2_t',\n",
       "       'vol_panels_m3', 'panels_CO2_t', 'albedo', 'is_steep_terrain',\n",
       "       'is_vernskog', 'is_city_forest', 'shan', 'class_dbh', 'ha2total',\n",
       "       'management', 'harv_net_Mnok_TotNor', 'harv_vol_Mm3_TotNor',\n",
       "       'saw_vol_Mm3_TotNor', 'pulp_vol_Mm3_TotNor', 'dead_vol_Mm3_TotNor',\n",
       "       'tsd_ha2total', 'CO2_forest_Mil_Kt_TotNor',\n",
       "       'CO2_forest_Mil_Kt_TotNor_no_albedo', 'saw_CO2_change_Kt_TotNor',\n",
       "       'saw_CO2_Kt_TotNor', 'panels_CO2_change_Kt_TotNor', 'HWP_C02_TotNor',\n",
       "       'Bilberry_ha_TotNor', 'MiS_ha', 'SawTimber_Mm3_year', 'pulp_Mm3_year',\n",
       "       'GROT_t', 'GROT_m3', 'GROT_Mm3', 'Residues_Mm3_year',\n",
       "       'harvest_demands_Mm3_year', 'regime.class', 'finalFelling', 'is_CCF',\n",
       "       'is_nomanagement', 'is_vers_or_ste', 'FinaL_versk', 'FinaL_city',\n",
       "       'High_classdbh', 'Sha_highclassdbh_Tot_Nor', 'Relative_albedo',\n",
       "       'Relative_shan', 'Relative_ha2total', 'Relative_dead_vol_Mm3_TotNor',\n",
       "       'Relative_tsd_ha2total', 'Relative_CO2_forest_Mil_Kt_TotNor',\n",
       "       'Relative_CO2_forest_Mil_Kt_TotNor_no_albedo',\n",
       "       'Relative_Bilberry_ha_TotNor', 'Relative_MiS_ha',\n",
       "       'Relative_Sha_highclassdbh_Tot_Nor'],\n",
       "      dtype='object')"
      ]
     },
     "execution_count": 10,
     "metadata": {},
     "output_type": "execute_result"
    }
   ],
   "source": [
    "mfo.data.columns"
   ]
  },
  {
   "cell_type": "code",
   "execution_count": 11,
   "metadata": {},
   "outputs": [],
   "source": [
    "mfo.finalizeData(initialTime = 2023)"
   ]
  },
  {
   "cell_type": "code",
   "execution_count": 12,
   "metadata": {},
   "outputs": [
    {
     "data": {
      "text/html": [
       "<div>\n",
       "<style scoped>\n",
       "    .dataframe tbody tr th:only-of-type {\n",
       "        vertical-align: middle;\n",
       "    }\n",
       "\n",
       "    .dataframe tbody tr th {\n",
       "        vertical-align: top;\n",
       "    }\n",
       "\n",
       "    .dataframe thead th {\n",
       "        text-align: right;\n",
       "    }\n",
       "</style>\n",
       "<table border=\"1\" class=\"dataframe\">\n",
       "  <thead>\n",
       "    <tr style=\"text-align: right;\">\n",
       "      <th></th>\n",
       "      <th></th>\n",
       "      <th></th>\n",
       "      <th>period</th>\n",
       "      <th>pulp_vol_m3</th>\n",
       "      <th>harv_cost_nok_m3</th>\n",
       "      <th>harv_cost_u150</th>\n",
       "      <th>harv_cost_u200</th>\n",
       "      <th>net_increment_m3</th>\n",
       "      <th>is_old</th>\n",
       "      <th>is_broadleave</th>\n",
       "      <th>MiS_classified_plot</th>\n",
       "      <th>bilberry_cover_pr</th>\n",
       "      <th>...</th>\n",
       "      <th>Relative_albedo</th>\n",
       "      <th>Relative_shan</th>\n",
       "      <th>Relative_ha2total</th>\n",
       "      <th>Relative_dead_vol_Mm3_TotNor</th>\n",
       "      <th>Relative_tsd_ha2total</th>\n",
       "      <th>Relative_CO2_forest_Mil_Kt_TotNor</th>\n",
       "      <th>Relative_CO2_forest_Mil_Kt_TotNor_no_albedo</th>\n",
       "      <th>Relative_Bilberry_ha_TotNor</th>\n",
       "      <th>Relative_MiS_ha</th>\n",
       "      <th>Relative_Sha_highclassdbh_Tot_Nor</th>\n",
       "    </tr>\n",
       "    <tr>\n",
       "      <th>plot_id</th>\n",
       "      <th>year</th>\n",
       "      <th>regime</th>\n",
       "      <th></th>\n",
       "      <th></th>\n",
       "      <th></th>\n",
       "      <th></th>\n",
       "      <th></th>\n",
       "      <th></th>\n",
       "      <th></th>\n",
       "      <th></th>\n",
       "      <th></th>\n",
       "      <th></th>\n",
       "      <th></th>\n",
       "      <th></th>\n",
       "      <th></th>\n",
       "      <th></th>\n",
       "      <th></th>\n",
       "      <th></th>\n",
       "      <th></th>\n",
       "      <th></th>\n",
       "      <th></th>\n",
       "      <th></th>\n",
       "      <th></th>\n",
       "    </tr>\n",
       "  </thead>\n",
       "  <tbody>\n",
       "    <tr>\n",
       "      <th rowspan=\"5\" valign=\"top\">A03187-1</th>\n",
       "      <th rowspan=\"5\" valign=\"top\">2023</th>\n",
       "      <th>SimOpt_extensive_0</th>\n",
       "      <td>t1</td>\n",
       "      <td>35612.018505</td>\n",
       "      <td>909.320021</td>\n",
       "      <td>0</td>\n",
       "      <td>0</td>\n",
       "      <td>2195.434622</td>\n",
       "      <td>0</td>\n",
       "      <td>0</td>\n",
       "      <td>0</td>\n",
       "      <td>2</td>\n",
       "      <td>...</td>\n",
       "      <td>0.000519</td>\n",
       "      <td>0.000000</td>\n",
       "      <td>0.000266</td>\n",
       "      <td>0.0</td>\n",
       "      <td>0.000266</td>\n",
       "      <td>-0.005028</td>\n",
       "      <td>-0.005667</td>\n",
       "      <td>0.000069</td>\n",
       "      <td>0.0</td>\n",
       "      <td>0.000000</td>\n",
       "    </tr>\n",
       "    <tr>\n",
       "      <th>SimOpt_extensive_1</th>\n",
       "      <td>t1</td>\n",
       "      <td>0.000000</td>\n",
       "      <td>0.000000</td>\n",
       "      <td>0</td>\n",
       "      <td>0</td>\n",
       "      <td>4592.344651</td>\n",
       "      <td>0</td>\n",
       "      <td>0</td>\n",
       "      <td>0</td>\n",
       "      <td>4</td>\n",
       "      <td>...</td>\n",
       "      <td>0.000458</td>\n",
       "      <td>0.000202</td>\n",
       "      <td>0.000266</td>\n",
       "      <td>0.0</td>\n",
       "      <td>0.000266</td>\n",
       "      <td>0.001362</td>\n",
       "      <td>0.001304</td>\n",
       "      <td>0.000138</td>\n",
       "      <td>0.0</td>\n",
       "      <td>0.000126</td>\n",
       "    </tr>\n",
       "    <tr>\n",
       "      <th>SimOpt_extensive_10</th>\n",
       "      <td>t1</td>\n",
       "      <td>0.000000</td>\n",
       "      <td>0.000000</td>\n",
       "      <td>0</td>\n",
       "      <td>0</td>\n",
       "      <td>4592.344651</td>\n",
       "      <td>0</td>\n",
       "      <td>0</td>\n",
       "      <td>0</td>\n",
       "      <td>4</td>\n",
       "      <td>...</td>\n",
       "      <td>0.000458</td>\n",
       "      <td>0.000202</td>\n",
       "      <td>0.000266</td>\n",
       "      <td>0.0</td>\n",
       "      <td>0.000266</td>\n",
       "      <td>0.001362</td>\n",
       "      <td>0.001304</td>\n",
       "      <td>0.000138</td>\n",
       "      <td>0.0</td>\n",
       "      <td>0.000126</td>\n",
       "    </tr>\n",
       "    <tr>\n",
       "      <th>SimOpt_extensive_11</th>\n",
       "      <td>t1</td>\n",
       "      <td>0.000000</td>\n",
       "      <td>0.000000</td>\n",
       "      <td>0</td>\n",
       "      <td>0</td>\n",
       "      <td>4592.344651</td>\n",
       "      <td>0</td>\n",
       "      <td>0</td>\n",
       "      <td>0</td>\n",
       "      <td>4</td>\n",
       "      <td>...</td>\n",
       "      <td>0.000458</td>\n",
       "      <td>0.000202</td>\n",
       "      <td>0.000266</td>\n",
       "      <td>0.0</td>\n",
       "      <td>0.000266</td>\n",
       "      <td>0.001362</td>\n",
       "      <td>0.001304</td>\n",
       "      <td>0.000138</td>\n",
       "      <td>0.0</td>\n",
       "      <td>0.000126</td>\n",
       "    </tr>\n",
       "    <tr>\n",
       "      <th>SimOpt_extensive_12</th>\n",
       "      <td>t1</td>\n",
       "      <td>0.000000</td>\n",
       "      <td>0.000000</td>\n",
       "      <td>0</td>\n",
       "      <td>0</td>\n",
       "      <td>4592.344651</td>\n",
       "      <td>0</td>\n",
       "      <td>0</td>\n",
       "      <td>0</td>\n",
       "      <td>4</td>\n",
       "      <td>...</td>\n",
       "      <td>0.000458</td>\n",
       "      <td>0.000202</td>\n",
       "      <td>0.000266</td>\n",
       "      <td>0.0</td>\n",
       "      <td>0.000266</td>\n",
       "      <td>0.001362</td>\n",
       "      <td>0.001304</td>\n",
       "      <td>0.000138</td>\n",
       "      <td>0.0</td>\n",
       "      <td>0.000126</td>\n",
       "    </tr>\n",
       "  </tbody>\n",
       "</table>\n",
       "<p>5 rows × 63 columns</p>\n",
       "</div>"
      ],
      "text/plain": [
       "                                  period   pulp_vol_m3  harv_cost_nok_m3  \\\n",
       "plot_id  year regime                                                       \n",
       "A03187-1 2023 SimOpt_extensive_0      t1  35612.018505        909.320021   \n",
       "              SimOpt_extensive_1      t1      0.000000          0.000000   \n",
       "              SimOpt_extensive_10     t1      0.000000          0.000000   \n",
       "              SimOpt_extensive_11     t1      0.000000          0.000000   \n",
       "              SimOpt_extensive_12     t1      0.000000          0.000000   \n",
       "\n",
       "                                   harv_cost_u150  harv_cost_u200  \\\n",
       "plot_id  year regime                                                \n",
       "A03187-1 2023 SimOpt_extensive_0                0               0   \n",
       "              SimOpt_extensive_1                0               0   \n",
       "              SimOpt_extensive_10               0               0   \n",
       "              SimOpt_extensive_11               0               0   \n",
       "              SimOpt_extensive_12               0               0   \n",
       "\n",
       "                                   net_increment_m3  is_old  is_broadleave  \\\n",
       "plot_id  year regime                                                         \n",
       "A03187-1 2023 SimOpt_extensive_0        2195.434622       0              0   \n",
       "              SimOpt_extensive_1        4592.344651       0              0   \n",
       "              SimOpt_extensive_10       4592.344651       0              0   \n",
       "              SimOpt_extensive_11       4592.344651       0              0   \n",
       "              SimOpt_extensive_12       4592.344651       0              0   \n",
       "\n",
       "                                   MiS_classified_plot  bilberry_cover_pr  \\\n",
       "plot_id  year regime                                                        \n",
       "A03187-1 2023 SimOpt_extensive_0                     0                  2   \n",
       "              SimOpt_extensive_1                     0                  4   \n",
       "              SimOpt_extensive_10                    0                  4   \n",
       "              SimOpt_extensive_11                    0                  4   \n",
       "              SimOpt_extensive_12                    0                  4   \n",
       "\n",
       "                                   ...  Relative_albedo  Relative_shan  \\\n",
       "plot_id  year regime               ...                                   \n",
       "A03187-1 2023 SimOpt_extensive_0   ...         0.000519       0.000000   \n",
       "              SimOpt_extensive_1   ...         0.000458       0.000202   \n",
       "              SimOpt_extensive_10  ...         0.000458       0.000202   \n",
       "              SimOpt_extensive_11  ...         0.000458       0.000202   \n",
       "              SimOpt_extensive_12  ...         0.000458       0.000202   \n",
       "\n",
       "                                   Relative_ha2total  \\\n",
       "plot_id  year regime                                   \n",
       "A03187-1 2023 SimOpt_extensive_0            0.000266   \n",
       "              SimOpt_extensive_1            0.000266   \n",
       "              SimOpt_extensive_10           0.000266   \n",
       "              SimOpt_extensive_11           0.000266   \n",
       "              SimOpt_extensive_12           0.000266   \n",
       "\n",
       "                                   Relative_dead_vol_Mm3_TotNor  \\\n",
       "plot_id  year regime                                              \n",
       "A03187-1 2023 SimOpt_extensive_0                            0.0   \n",
       "              SimOpt_extensive_1                            0.0   \n",
       "              SimOpt_extensive_10                           0.0   \n",
       "              SimOpt_extensive_11                           0.0   \n",
       "              SimOpt_extensive_12                           0.0   \n",
       "\n",
       "                                   Relative_tsd_ha2total  \\\n",
       "plot_id  year regime                                       \n",
       "A03187-1 2023 SimOpt_extensive_0                0.000266   \n",
       "              SimOpt_extensive_1                0.000266   \n",
       "              SimOpt_extensive_10               0.000266   \n",
       "              SimOpt_extensive_11               0.000266   \n",
       "              SimOpt_extensive_12               0.000266   \n",
       "\n",
       "                                   Relative_CO2_forest_Mil_Kt_TotNor  \\\n",
       "plot_id  year regime                                                   \n",
       "A03187-1 2023 SimOpt_extensive_0                           -0.005028   \n",
       "              SimOpt_extensive_1                            0.001362   \n",
       "              SimOpt_extensive_10                           0.001362   \n",
       "              SimOpt_extensive_11                           0.001362   \n",
       "              SimOpt_extensive_12                           0.001362   \n",
       "\n",
       "                                   Relative_CO2_forest_Mil_Kt_TotNor_no_albedo  \\\n",
       "plot_id  year regime                                                             \n",
       "A03187-1 2023 SimOpt_extensive_0                                     -0.005667   \n",
       "              SimOpt_extensive_1                                      0.001304   \n",
       "              SimOpt_extensive_10                                     0.001304   \n",
       "              SimOpt_extensive_11                                     0.001304   \n",
       "              SimOpt_extensive_12                                     0.001304   \n",
       "\n",
       "                                   Relative_Bilberry_ha_TotNor  \\\n",
       "plot_id  year regime                                             \n",
       "A03187-1 2023 SimOpt_extensive_0                      0.000069   \n",
       "              SimOpt_extensive_1                      0.000138   \n",
       "              SimOpt_extensive_10                     0.000138   \n",
       "              SimOpt_extensive_11                     0.000138   \n",
       "              SimOpt_extensive_12                     0.000138   \n",
       "\n",
       "                                   Relative_MiS_ha  \\\n",
       "plot_id  year regime                                 \n",
       "A03187-1 2023 SimOpt_extensive_0               0.0   \n",
       "              SimOpt_extensive_1               0.0   \n",
       "              SimOpt_extensive_10              0.0   \n",
       "              SimOpt_extensive_11              0.0   \n",
       "              SimOpt_extensive_12              0.0   \n",
       "\n",
       "                                   Relative_Sha_highclassdbh_Tot_Nor  \n",
       "plot_id  year regime                                                  \n",
       "A03187-1 2023 SimOpt_extensive_0                            0.000000  \n",
       "              SimOpt_extensive_1                            0.000126  \n",
       "              SimOpt_extensive_10                           0.000126  \n",
       "              SimOpt_extensive_11                           0.000126  \n",
       "              SimOpt_extensive_12                           0.000126  \n",
       "\n",
       "[5 rows x 63 columns]"
      ]
     },
     "execution_count": 12,
     "metadata": {},
     "output_type": "execute_result"
    }
   ],
   "source": [
    "mfo.initialData.head()"
   ]
  },
  {
   "cell_type": "code",
   "execution_count": 13,
   "metadata": {},
   "outputs": [
    {
     "data": {
      "text/html": [
       "<div>\n",
       "<style scoped>\n",
       "    .dataframe tbody tr th:only-of-type {\n",
       "        vertical-align: middle;\n",
       "    }\n",
       "\n",
       "    .dataframe tbody tr th {\n",
       "        vertical-align: top;\n",
       "    }\n",
       "\n",
       "    .dataframe thead th {\n",
       "        text-align: right;\n",
       "    }\n",
       "</style>\n",
       "<table border=\"1\" class=\"dataframe\">\n",
       "  <thead>\n",
       "    <tr style=\"text-align: right;\">\n",
       "      <th></th>\n",
       "      <th></th>\n",
       "      <th></th>\n",
       "      <th>period</th>\n",
       "      <th>pulp_vol_m3</th>\n",
       "      <th>harv_cost_nok_m3</th>\n",
       "      <th>harv_cost_u150</th>\n",
       "      <th>harv_cost_u200</th>\n",
       "      <th>net_increment_m3</th>\n",
       "      <th>is_old</th>\n",
       "      <th>is_broadleave</th>\n",
       "      <th>MiS_classified_plot</th>\n",
       "      <th>bilberry_cover_pr</th>\n",
       "      <th>...</th>\n",
       "      <th>Relative_Relative_albedo</th>\n",
       "      <th>Relative_Relative_shan</th>\n",
       "      <th>Relative_Relative_ha2total</th>\n",
       "      <th>Relative_Relative_dead_vol_Mm3_TotNor</th>\n",
       "      <th>Relative_Relative_tsd_ha2total</th>\n",
       "      <th>Relative_Relative_CO2_forest_Mil_Kt_TotNor</th>\n",
       "      <th>Relative_Relative_CO2_forest_Mil_Kt_TotNor_no_albedo</th>\n",
       "      <th>Relative_Relative_Bilberry_ha_TotNor</th>\n",
       "      <th>Relative_Relative_MiS_ha</th>\n",
       "      <th>Relative_Relative_Sha_highclassdbh_Tot_Nor</th>\n",
       "    </tr>\n",
       "    <tr>\n",
       "      <th>plot_id</th>\n",
       "      <th>year</th>\n",
       "      <th>regime</th>\n",
       "      <th></th>\n",
       "      <th></th>\n",
       "      <th></th>\n",
       "      <th></th>\n",
       "      <th></th>\n",
       "      <th></th>\n",
       "      <th></th>\n",
       "      <th></th>\n",
       "      <th></th>\n",
       "      <th></th>\n",
       "      <th></th>\n",
       "      <th></th>\n",
       "      <th></th>\n",
       "      <th></th>\n",
       "      <th></th>\n",
       "      <th></th>\n",
       "      <th></th>\n",
       "      <th></th>\n",
       "      <th></th>\n",
       "      <th></th>\n",
       "      <th></th>\n",
       "    </tr>\n",
       "  </thead>\n",
       "  <tbody>\n",
       "    <tr>\n",
       "      <th rowspan=\"5\" valign=\"top\">A03187-1</th>\n",
       "      <th rowspan=\"5\" valign=\"top\">2028</th>\n",
       "      <th>SimOpt_extensive_0</th>\n",
       "      <td>t2</td>\n",
       "      <td>0.00000</td>\n",
       "      <td>0.000000</td>\n",
       "      <td>0</td>\n",
       "      <td>0</td>\n",
       "      <td>0.000000</td>\n",
       "      <td>0</td>\n",
       "      <td>0</td>\n",
       "      <td>0</td>\n",
       "      <td>2</td>\n",
       "      <td>...</td>\n",
       "      <td>9.025961e-07</td>\n",
       "      <td>0.000000e+00</td>\n",
       "      <td>4.010508e-07</td>\n",
       "      <td>0.000000e+00</td>\n",
       "      <td>4.010508e-07</td>\n",
       "      <td>-3.667306e-07</td>\n",
       "      <td>-4.093759e-07</td>\n",
       "      <td>7.773096e-08</td>\n",
       "      <td>0.0</td>\n",
       "      <td>0.000000e+00</td>\n",
       "    </tr>\n",
       "    <tr>\n",
       "      <th>SimOpt_extensive_1</th>\n",
       "      <td>t2</td>\n",
       "      <td>32727.61897</td>\n",
       "      <td>909.320021</td>\n",
       "      <td>0</td>\n",
       "      <td>0</td>\n",
       "      <td>2810.612023</td>\n",
       "      <td>0</td>\n",
       "      <td>0</td>\n",
       "      <td>0</td>\n",
       "      <td>2</td>\n",
       "      <td>...</td>\n",
       "      <td>9.025961e-07</td>\n",
       "      <td>0.000000e+00</td>\n",
       "      <td>4.010508e-07</td>\n",
       "      <td>0.000000e+00</td>\n",
       "      <td>4.010508e-07</td>\n",
       "      <td>-1.846004e-06</td>\n",
       "      <td>-2.021645e-06</td>\n",
       "      <td>7.773096e-08</td>\n",
       "      <td>0.0</td>\n",
       "      <td>0.000000e+00</td>\n",
       "    </tr>\n",
       "    <tr>\n",
       "      <th>SimOpt_extensive_10</th>\n",
       "      <td>t2</td>\n",
       "      <td>0.00000</td>\n",
       "      <td>0.000000</td>\n",
       "      <td>0</td>\n",
       "      <td>0</td>\n",
       "      <td>3994.338879</td>\n",
       "      <td>0</td>\n",
       "      <td>0</td>\n",
       "      <td>0</td>\n",
       "      <td>4</td>\n",
       "      <td>...</td>\n",
       "      <td>7.912492e-07</td>\n",
       "      <td>2.396545e-07</td>\n",
       "      <td>4.010508e-07</td>\n",
       "      <td>2.977858e-08</td>\n",
       "      <td>4.010508e-07</td>\n",
       "      <td>4.211540e-07</td>\n",
       "      <td>3.723546e-07</td>\n",
       "      <td>1.554619e-07</td>\n",
       "      <td>0.0</td>\n",
       "      <td>1.166514e-07</td>\n",
       "    </tr>\n",
       "    <tr>\n",
       "      <th>SimOpt_extensive_11</th>\n",
       "      <td>t2</td>\n",
       "      <td>0.00000</td>\n",
       "      <td>0.000000</td>\n",
       "      <td>0</td>\n",
       "      <td>0</td>\n",
       "      <td>3994.338879</td>\n",
       "      <td>0</td>\n",
       "      <td>0</td>\n",
       "      <td>0</td>\n",
       "      <td>4</td>\n",
       "      <td>...</td>\n",
       "      <td>7.912492e-07</td>\n",
       "      <td>2.396545e-07</td>\n",
       "      <td>4.010508e-07</td>\n",
       "      <td>2.977858e-08</td>\n",
       "      <td>4.010508e-07</td>\n",
       "      <td>4.211540e-07</td>\n",
       "      <td>3.723546e-07</td>\n",
       "      <td>1.554619e-07</td>\n",
       "      <td>0.0</td>\n",
       "      <td>1.166514e-07</td>\n",
       "    </tr>\n",
       "    <tr>\n",
       "      <th>SimOpt_extensive_12</th>\n",
       "      <td>t2</td>\n",
       "      <td>0.00000</td>\n",
       "      <td>0.000000</td>\n",
       "      <td>0</td>\n",
       "      <td>0</td>\n",
       "      <td>3994.338879</td>\n",
       "      <td>0</td>\n",
       "      <td>0</td>\n",
       "      <td>0</td>\n",
       "      <td>4</td>\n",
       "      <td>...</td>\n",
       "      <td>7.912492e-07</td>\n",
       "      <td>2.396545e-07</td>\n",
       "      <td>4.010508e-07</td>\n",
       "      <td>2.977858e-08</td>\n",
       "      <td>4.010508e-07</td>\n",
       "      <td>4.211540e-07</td>\n",
       "      <td>3.723546e-07</td>\n",
       "      <td>1.554619e-07</td>\n",
       "      <td>0.0</td>\n",
       "      <td>1.166514e-07</td>\n",
       "    </tr>\n",
       "  </tbody>\n",
       "</table>\n",
       "<p>5 rows × 96 columns</p>\n",
       "</div>"
      ],
      "text/plain": [
       "                                  period  pulp_vol_m3  harv_cost_nok_m3  \\\n",
       "plot_id  year regime                                                      \n",
       "A03187-1 2028 SimOpt_extensive_0      t2      0.00000          0.000000   \n",
       "              SimOpt_extensive_1      t2  32727.61897        909.320021   \n",
       "              SimOpt_extensive_10     t2      0.00000          0.000000   \n",
       "              SimOpt_extensive_11     t2      0.00000          0.000000   \n",
       "              SimOpt_extensive_12     t2      0.00000          0.000000   \n",
       "\n",
       "                                   harv_cost_u150  harv_cost_u200  \\\n",
       "plot_id  year regime                                                \n",
       "A03187-1 2028 SimOpt_extensive_0                0               0   \n",
       "              SimOpt_extensive_1                0               0   \n",
       "              SimOpt_extensive_10               0               0   \n",
       "              SimOpt_extensive_11               0               0   \n",
       "              SimOpt_extensive_12               0               0   \n",
       "\n",
       "                                   net_increment_m3  is_old  is_broadleave  \\\n",
       "plot_id  year regime                                                         \n",
       "A03187-1 2028 SimOpt_extensive_0           0.000000       0              0   \n",
       "              SimOpt_extensive_1        2810.612023       0              0   \n",
       "              SimOpt_extensive_10       3994.338879       0              0   \n",
       "              SimOpt_extensive_11       3994.338879       0              0   \n",
       "              SimOpt_extensive_12       3994.338879       0              0   \n",
       "\n",
       "                                   MiS_classified_plot  bilberry_cover_pr  \\\n",
       "plot_id  year regime                                                        \n",
       "A03187-1 2028 SimOpt_extensive_0                     0                  2   \n",
       "              SimOpt_extensive_1                     0                  2   \n",
       "              SimOpt_extensive_10                    0                  4   \n",
       "              SimOpt_extensive_11                    0                  4   \n",
       "              SimOpt_extensive_12                    0                  4   \n",
       "\n",
       "                                   ...  Relative_Relative_albedo  \\\n",
       "plot_id  year regime               ...                             \n",
       "A03187-1 2028 SimOpt_extensive_0   ...              9.025961e-07   \n",
       "              SimOpt_extensive_1   ...              9.025961e-07   \n",
       "              SimOpt_extensive_10  ...              7.912492e-07   \n",
       "              SimOpt_extensive_11  ...              7.912492e-07   \n",
       "              SimOpt_extensive_12  ...              7.912492e-07   \n",
       "\n",
       "                                   Relative_Relative_shan  \\\n",
       "plot_id  year regime                                        \n",
       "A03187-1 2028 SimOpt_extensive_0             0.000000e+00   \n",
       "              SimOpt_extensive_1             0.000000e+00   \n",
       "              SimOpt_extensive_10            2.396545e-07   \n",
       "              SimOpt_extensive_11            2.396545e-07   \n",
       "              SimOpt_extensive_12            2.396545e-07   \n",
       "\n",
       "                                   Relative_Relative_ha2total  \\\n",
       "plot_id  year regime                                            \n",
       "A03187-1 2028 SimOpt_extensive_0                 4.010508e-07   \n",
       "              SimOpt_extensive_1                 4.010508e-07   \n",
       "              SimOpt_extensive_10                4.010508e-07   \n",
       "              SimOpt_extensive_11                4.010508e-07   \n",
       "              SimOpt_extensive_12                4.010508e-07   \n",
       "\n",
       "                                   Relative_Relative_dead_vol_Mm3_TotNor  \\\n",
       "plot_id  year regime                                                       \n",
       "A03187-1 2028 SimOpt_extensive_0                            0.000000e+00   \n",
       "              SimOpt_extensive_1                            0.000000e+00   \n",
       "              SimOpt_extensive_10                           2.977858e-08   \n",
       "              SimOpt_extensive_11                           2.977858e-08   \n",
       "              SimOpt_extensive_12                           2.977858e-08   \n",
       "\n",
       "                                   Relative_Relative_tsd_ha2total  \\\n",
       "plot_id  year regime                                                \n",
       "A03187-1 2028 SimOpt_extensive_0                     4.010508e-07   \n",
       "              SimOpt_extensive_1                     4.010508e-07   \n",
       "              SimOpt_extensive_10                    4.010508e-07   \n",
       "              SimOpt_extensive_11                    4.010508e-07   \n",
       "              SimOpt_extensive_12                    4.010508e-07   \n",
       "\n",
       "                                   Relative_Relative_CO2_forest_Mil_Kt_TotNor  \\\n",
       "plot_id  year regime                                                            \n",
       "A03187-1 2028 SimOpt_extensive_0                                -3.667306e-07   \n",
       "              SimOpt_extensive_1                                -1.846004e-06   \n",
       "              SimOpt_extensive_10                                4.211540e-07   \n",
       "              SimOpt_extensive_11                                4.211540e-07   \n",
       "              SimOpt_extensive_12                                4.211540e-07   \n",
       "\n",
       "                                   Relative_Relative_CO2_forest_Mil_Kt_TotNor_no_albedo  \\\n",
       "plot_id  year regime                                                                      \n",
       "A03187-1 2028 SimOpt_extensive_0                                       -4.093759e-07      \n",
       "              SimOpt_extensive_1                                       -2.021645e-06      \n",
       "              SimOpt_extensive_10                                       3.723546e-07      \n",
       "              SimOpt_extensive_11                                       3.723546e-07      \n",
       "              SimOpt_extensive_12                                       3.723546e-07      \n",
       "\n",
       "                                   Relative_Relative_Bilberry_ha_TotNor  \\\n",
       "plot_id  year regime                                                      \n",
       "A03187-1 2028 SimOpt_extensive_0                           7.773096e-08   \n",
       "              SimOpt_extensive_1                           7.773096e-08   \n",
       "              SimOpt_extensive_10                          1.554619e-07   \n",
       "              SimOpt_extensive_11                          1.554619e-07   \n",
       "              SimOpt_extensive_12                          1.554619e-07   \n",
       "\n",
       "                                   Relative_Relative_MiS_ha  \\\n",
       "plot_id  year regime                                          \n",
       "A03187-1 2028 SimOpt_extensive_0                        0.0   \n",
       "              SimOpt_extensive_1                        0.0   \n",
       "              SimOpt_extensive_10                       0.0   \n",
       "              SimOpt_extensive_11                       0.0   \n",
       "              SimOpt_extensive_12                       0.0   \n",
       "\n",
       "                                   Relative_Relative_Sha_highclassdbh_Tot_Nor  \n",
       "plot_id  year regime                                                           \n",
       "A03187-1 2028 SimOpt_extensive_0                                 0.000000e+00  \n",
       "              SimOpt_extensive_1                                 0.000000e+00  \n",
       "              SimOpt_extensive_10                                1.166514e-07  \n",
       "              SimOpt_extensive_11                                1.166514e-07  \n",
       "              SimOpt_extensive_12                                1.166514e-07  \n",
       "\n",
       "[5 rows x 96 columns]"
      ]
     },
     "execution_count": 13,
     "metadata": {},
     "output_type": "execute_result"
    }
   ],
   "source": [
    "mfo.data.head()"
   ]
  },
  {
   "cell_type": "markdown",
   "metadata": {},
   "source": [
    "## Objectives"
   ]
  },
  {
   "cell_type": "markdown",
   "metadata": {},
   "source": [
    "### NFS - Forest Strategy"
   ]
  },
  {
   "cell_type": "code",
   "execution_count": 14,
   "metadata": {},
   "outputs": [],
   "source": [
    "if scenario == 'NFS':\n",
    "    \n",
    "    wood_production_bionergy = {\n",
    "    # harvest net value - maximise\n",
    "    \"harvest_netvalue_Mnok_min\": [\"Maximize netvalue (MAX Millions nok/m2) min\",\n",
    "                                  \"harv_net_Mnok_TotNor\", \"max\",\"min\",\"sum\"], \n",
    "    \"harvest_netvalue_Mnok_sum\": [\"Maximize netvalue (MAX Millions nok/m2) max\",\n",
    "                                  \"harv_net_Mnok_TotNor\", \"max\",\"sum\",\"sum\"], \n",
    "        \n",
    "    # GROT in plots with cost under 150 NOK   - maximise\n",
    "     \"GROTIncreaseInHarvCost150\":[\"Maximize GROT in plots with harvest cost under 150 (maX)\",\n",
    "                                  \"GROT_kt_TotNor\", \"max\",\"minYearlyIncrease\",\"subsetSum\",\"harv_cost_u150\"],\n",
    "     \"GROTMaxMinnHarvCost150\":[\"Maximize GROT in plots with harvest cost under 150 (MAX)\",\n",
    "                               \"GROT_kt_TotNor\", \"max\",\"min\",\"subsetSum\",\"harv_cost_u150\"],\n",
    "    }\n",
    "    \n",
    "    Biodiversity = {\n",
    "    # MIS area  - maximise\n",
    "    \"MiSIncrease\":[\"Not decreasing area of MiS classified plots (not decrease)\",\n",
    "                       \"Relative_MiS_ha\", \n",
    "                       \"max\",\"min\",\"sum\"],\n",
    "    }\n",
    "    \n",
    "    Climate_regulation = {\n",
    "    # C02 in wooden products  - maximise\n",
    "    \"CO2_HWP_increase\":[\"CO2_HWPMinimum yearly increase  (maximize\",\n",
    "                            \"HWP_C02_TotNor\", \"max\",\"minYearlyIncrease\",\"sum\"],\n",
    "\n",
    "    \"CO2_HWP_kt\": [\"Co2 storage in wooden products (maximize kilotonnnes over all years)\",\n",
    "                   \"HWP_C02_TotNor\", \"max\",\"sum\",\"sum\"],\n",
    "    }\n",
    "    objectives = {\n",
    "        **wood_production_bionergy,\n",
    "        **Biodiversity,\n",
    "        **Climate_regulation,\n",
    "    }\n",
    "    \n",
    "    print(\"objectives for NFS loaded\")"
   ]
  },
  {
   "cell_type": "markdown",
   "metadata": {},
   "source": [
    "### BDS - Biodiversity Strategy"
   ]
  },
  {
   "cell_type": "code",
   "execution_count": 15,
   "metadata": {},
   "outputs": [],
   "source": [
    "if scenario == 'BDS':\n",
    "    \n",
    "    \n",
    "    Biodiversity = {\n",
    "        \n",
    "    # MIS area  - no decline\n",
    "    \"MiSIncrease\":[\"Not decreasing area of MiS classified plots (max)\",\n",
    "                   \"MiS_ha\", \n",
    "                   \"max\",\"minYearlyIncrease\",\"sum\"],\n",
    "        \n",
    "    # MIS area  - maximise\n",
    "    \"MiSMaxMin\":[\"Not decreasing area of MiS classified plots (max)\",\n",
    "                 \"Relative_MiS_ha\", \n",
    "                 \"max\",\"min\",\"sum\"],\n",
    "        \n",
    "    # deadWood  - no decline\n",
    "    \"deadWoodIncrease\":[\"Minimum yearly incrase in vol Millions m3 of dead wood (max)\",\n",
    "                        \"dead_vol_Mm3_TotNor\",\n",
    "                        \"max\",\"minYearlyIncrease\",\"sum\"],\n",
    "    # deadWood  - maximise   \n",
    "    \"deadWoodMaxMin\":[\"Minimum yearly incrase in vol Millions m3 of dead wood (max)\",\n",
    "                      \"Relative_dead_vol_Mm3_TotNor\",\n",
    "                      \"max\",\"min\",\"sum\"],\n",
    "        \n",
    "    # blueberry - no decline\n",
    "    \"blueberryIncrease\":[\"Minimum yearly incrase in area of blueberry cover(max)\",\n",
    "                         \"bilberry_cover_pr\",\n",
    "                         \"max\",\"minYearlyIncrease\",\"areaWeightedSum\"],\n",
    "        \n",
    "    # blueberry  - maximise  \n",
    "    \"blueberryMaxMin\":[\"MaxMin in area of blueberry cover (max)\",\n",
    "                       \"Relative_Bilberry_ha_TotNor\",\n",
    "                       \"max\",\"min\",\"sum\"],\n",
    "    }\n",
    "    \n",
    "    \n",
    "    Erosion_and_water = {\n",
    "    # decrease harvest in protected areas and in steep terrain - minimize\n",
    "    \"Decrease_harv_in_vernskog_or_steep\": [\"Decrease harvest in verskog ha harvested(minimize ha over all years)\",\n",
    "                                              \"FinaL_versk\",\n",
    "                                              \"min\",\"max\",\"areaWeightedSum\"],\n",
    "    }\n",
    "    \n",
    "    Recreation = {\n",
    "    # harvest in cityForest plot - minimize\n",
    "    \"harvest_in_cityForest\": [\"MinSum city forest (not decreasing)\", \n",
    "                              \"FinaL_city\",\n",
    "                              \"min\", \"max\", \"areaWeightedSum\"],\n",
    "    # plots with high Shann - maximize\n",
    "    \"ShannonIncrease\":[\"MAxMin Shanon in plots with larger dbh (not decrease)\",\n",
    "                       \"Relative_Sha_highclassdbh_Tot_Nor\", \n",
    "                       \"max\", \"min\",\"sum\"] ,\n",
    "  } \n",
    "        \n",
    "    objectives = {\n",
    "        **Biodiversity,\n",
    "        **Erosion_and_water,\n",
    "        **Recreation,\n",
    "    }\n",
    "    \n",
    "    print(\"objectives for BDS loaded\")"
   ]
  },
  {
   "cell_type": "markdown",
   "metadata": {},
   "source": [
    "### BES - Bioeconomy Strategy"
   ]
  },
  {
   "cell_type": "code",
   "execution_count": 16,
   "metadata": {},
   "outputs": [
    {
     "name": "stdout",
     "output_type": "stream",
     "text": [
      "objectives for BES loaded\n"
     ]
    }
   ],
   "source": [
    "if scenario == 'BES':\n",
    "    \n",
    "    wood_production_bionergy = {\n",
    "    \n",
    "    # harvest net value - maximise\n",
    "    \"harvest_netvalue_Mnok_min\": [\"Maximize netvalue (MAX Millions nok/m2) min\",\n",
    "                                  \"harv_net_Mnok_TotNor\", \"max\",\"min\",\"sum\"], \n",
    "    \"harvest_netvalue_Mnok_sum\": [\"Maximize netvalue (MAX Millions nok/m2) max\",\n",
    "                                  \"harv_net_Mnok_TotNor\", \"max\",\"sum\",\"sum\"], \n",
    "        \n",
    "    # GROT in plots with cost under 150 NOK   - maximise\n",
    "    \"GROTIncreaseInHarvCost200\":[\"Maximize GROT in plots with harvest cost under 200 (maX)\",\n",
    "                                 \"GROT_kt_TotNor\", \"max\",\"minYearlyIncrease\",\"subsetSum\",\"harv_cost_u200\"],\n",
    "    \"GROTMaxMinnHarvCost200\":[\"Maximize GROT in plots with harvest cost under 200 (MAX)\",\n",
    "                               \"GROT_kt_TotNor\", \"max\",\"min\",\"subsetSum\",\"harv_cost_u200\"],\n",
    "    }\n",
    "    \n",
    "    Biodiversity = {\n",
    "        \n",
    "    # MIS area  - maximise\n",
    "    \"MiSMaxMin\":[\"Not decreasing area of MiS classified plots (max)\",\n",
    "                 \"Relative_MiS_ha\", \n",
    "                 \"max\",\"min\",\"sum\"],\n",
    "        \n",
    "    }\n",
    "    \n",
    "    Climate_regulation = {\n",
    "    # C02 in wooden products  - maximise\n",
    "    \"CO2_HWP_kt\": [\" Max Co2 storage in wooden products (maximize kt over all years)\",\n",
    "                   \"HWP_C02_TotNor\", \"max\",\"sum\",\"sum\"],\n",
    "    \n",
    "    \"CO2_in_forest\": [\" Max Co2 uptake in forest\",\n",
    "                      \"CO2_forest_Mil_Kt_TotNor\", \"max\",\"sum\",\"sum\"],\n",
    "    }\n",
    "    \n",
    "    \n",
    "    Recreation = {\n",
    "    # harvest in cityForest plot - minimize\n",
    "    \"harvest_in_cityForest\": [\"MinSum city forest (not decreasing)\", \n",
    "                              \"FinaL_city\",\n",
    "                              \"min\", \"sum\", \"areaWeightedSum\"],\n",
    "    # plots with high Shann - maximize\n",
    "    \"ShannonIncrease\":[\"MAxMin Shanon in plots with larger dbh (not decrease)\",\n",
    "                       \"Relative_Sha_highclassdbh_Tot_Nor\", \n",
    "                       \"max\", \"min\",\"sum\"] ,\n",
    "  } \n",
    "        \n",
    "    objectives = {\n",
    "        **wood_production_bionergy,\n",
    "        **Biodiversity,\n",
    "        **Climate_regulation,\n",
    "        **Recreation,\n",
    "    }\n",
    "    \n",
    "    print(\"objectives for BES loaded\")"
   ]
  },
  {
   "cell_type": "code",
   "execution_count": 17,
   "metadata": {},
   "outputs": [
    {
     "data": {
      "text/plain": [
       "{'harvest_netvalue_Mnok': ['Maximize netvalue (MAX Millions nok/m2) min',\n",
       "  'harv_net_Mnok_TotNor',\n",
       "  'max',\n",
       "  'min',\n",
       "  'sum'],\n",
       " 'GROTIncreaseInHarvCost200': ['Maximize GROT in plots with harvest cost under 200 (maX)',\n",
       "  'GROT_kt_TotNor',\n",
       "  'max',\n",
       "  'min',\n",
       "  'subsetSum',\n",
       "  'harv_cost_u200'],\n",
       " 'MiSMaxMin': ['Not decreasing area of MiS classified plots (max)',\n",
       "  'Relative_MiS_ha',\n",
       "  'max',\n",
       "  'min',\n",
       "  'sum'],\n",
       " 'CO2_HWP_kt': ['Co2 storage in wooden products (maximize kilotonnnes over all years)',\n",
       "  'HWP_C02_TotNor',\n",
       "  'max',\n",
       "  'average',\n",
       "  'sum'],\n",
       " 'CO2_in_forest': [' Max Co2 uptake in forest',\n",
       "  'CO2_forest_Mil_Kt_TotNor_no_albedo',\n",
       "  'max',\n",
       "  'sum',\n",
       "  'sum'],\n",
       " 'harvest_in_cityForest': ['MinSum city forest (not decreasing)',\n",
       "  'FinaL_city',\n",
       "  'min',\n",
       "  'max',\n",
       "  'areaWeightedSum'],\n",
       " 'ShannonIncrease': ['MAxMin Shanon in plots with larger dbh (not decrease)',\n",
       "  'Relative_Sha_highclassdbh_Tot_Nor',\n",
       "  'max',\n",
       "  'min',\n",
       "  'sum']}"
      ]
     },
     "execution_count": 17,
     "metadata": {},
     "output_type": "execute_result"
    }
   ],
   "source": [
    "objectives"
   ]
  },
  {
   "cell_type": "code",
   "execution_count": 18,
   "metadata": {},
   "outputs": [
    {
     "data": {
      "text/plain": [
       "7"
      ]
     },
     "execution_count": 18,
     "metadata": {},
     "output_type": "execute_result"
    }
   ],
   "source": [
    "len(objectives)"
   ]
  },
  {
   "cell_type": "code",
   "execution_count": 19,
   "metadata": {},
   "outputs": [
    {
     "data": {
      "text/plain": [
       "dict_keys(['harvest_netvalue_Mnok', 'GROTIncreaseInHarvCost200', 'MiSMaxMin', 'CO2_HWP_kt', 'CO2_in_forest', 'harvest_in_cityForest', 'ShannonIncrease'])"
      ]
     },
     "execution_count": 19,
     "metadata": {},
     "output_type": "execute_result"
    }
   ],
   "source": [
    "objectives.keys()"
   ]
  },
  {
   "cell_type": "code",
   "execution_count": 20,
   "metadata": {},
   "outputs": [
    {
     "data": {
      "text/plain": [
       "Index(['period', 'pulp_vol_m3', 'harv_cost_nok_m3', 'harv_cost_u150',\n",
       "       'harv_cost_u200', 'net_increment_m3', 'is_old', 'is_broadleave',\n",
       "       'MiS_classified_plot', 'bilberry_cover_pr', 'GROT_kt_TotNor',\n",
       "       'vol_saw_m3', 'saw_CO2_t', 'vol_panels_m3', 'panels_CO2_t', 'albedo',\n",
       "       'is_steep_terrain', 'is_vernskog', 'is_city_forest', 'shan',\n",
       "       'class_dbh', 'ha2total', 'management', 'harv_net_Mnok_TotNor',\n",
       "       'harv_vol_Mm3_TotNor', 'saw_vol_Mm3_TotNor', 'pulp_vol_Mm3_TotNor',\n",
       "       'dead_vol_Mm3_TotNor', 'tsd_ha2total', 'CO2_forest_Mil_Kt_TotNor',\n",
       "       'CO2_forest_Mil_Kt_TotNor_no_albedo', 'saw_CO2_change_Kt_TotNor',\n",
       "       'saw_CO2_Kt_TotNor', 'panels_CO2_change_Kt_TotNor', 'HWP_C02_TotNor',\n",
       "       'Bilberry_ha_TotNor', 'MiS_ha', 'SawTimber_Mm3_year', 'pulp_Mm3_year',\n",
       "       'GROT_t', 'GROT_m3', 'GROT_Mm3', 'Residues_Mm3_year',\n",
       "       'harvest_demands_Mm3_year', 'regime.class', 'finalFelling', 'is_CCF',\n",
       "       'is_nomanagement', 'is_vers_or_ste', 'FinaL_versk', 'FinaL_city',\n",
       "       'High_classdbh', 'Sha_highclassdbh_Tot_Nor', 'Relative_albedo',\n",
       "       'Relative_shan', 'Relative_ha2total', 'Relative_dead_vol_Mm3_TotNor',\n",
       "       'Relative_tsd_ha2total', 'Relative_CO2_forest_Mil_Kt_TotNor',\n",
       "       'Relative_CO2_forest_Mil_Kt_TotNor_no_albedo',\n",
       "       'Relative_Bilberry_ha_TotNor', 'Relative_MiS_ha',\n",
       "       'Relative_Sha_highclassdbh_Tot_Nor', 'Relative_pulp_vol_m3',\n",
       "       'Relative_harv_cost_nok_m3', 'Relative_net_increment_m3',\n",
       "       'Relative_GROT_kt_TotNor', 'Relative_vol_saw_m3', 'Relative_saw_CO2_t',\n",
       "       'Relative_vol_panels_m3', 'Relative_panels_CO2_t',\n",
       "       'Relative_harv_net_Mnok_TotNor', 'Relative_harv_vol_Mm3_TotNor',\n",
       "       'Relative_saw_vol_Mm3_TotNor', 'Relative_pulp_vol_Mm3_TotNor',\n",
       "       'Relative_saw_CO2_change_Kt_TotNor', 'Relative_saw_CO2_Kt_TotNor',\n",
       "       'Relative_panels_CO2_change_Kt_TotNor', 'Relative_HWP_C02_TotNor',\n",
       "       'Relative_SawTimber_Mm3_year', 'Relative_pulp_Mm3_year',\n",
       "       'Relative_GROT_t', 'Relative_GROT_m3', 'Relative_GROT_Mm3',\n",
       "       'Relative_Residues_Mm3_year', 'Relative_harvest_demands_Mm3_year',\n",
       "       'Relative_Relative_albedo', 'Relative_Relative_shan',\n",
       "       'Relative_Relative_ha2total', 'Relative_Relative_dead_vol_Mm3_TotNor',\n",
       "       'Relative_Relative_tsd_ha2total',\n",
       "       'Relative_Relative_CO2_forest_Mil_Kt_TotNor',\n",
       "       'Relative_Relative_CO2_forest_Mil_Kt_TotNor_no_albedo',\n",
       "       'Relative_Relative_Bilberry_ha_TotNor', 'Relative_Relative_MiS_ha',\n",
       "       'Relative_Relative_Sha_highclassdbh_Tot_Nor'],\n",
       "      dtype='object')"
      ]
     },
     "execution_count": 20,
     "metadata": {},
     "output_type": "execute_result"
    }
   ],
   "source": [
    "mfo.data.columns"
   ]
  },
  {
   "cell_type": "code",
   "execution_count": 21,
   "metadata": {
    "scrolled": true
   },
   "outputs": [
    {
     "data": {
      "text/plain": [
       "'Defining objectives'"
      ]
     },
     "metadata": {},
     "output_type": "display_data"
    },
    {
     "data": {
      "text/plain": [
       "'Aggregating stand wise'"
      ]
     },
     "metadata": {},
     "output_type": "display_data"
    },
    {
     "name": "stderr",
     "output_type": "stream",
     "text": [
      "100%|██████████| 7/7 [00:57<00:00,  8.28s/it]\n"
     ]
    },
    {
     "data": {
      "text/plain": [
       "'Aggregating year wise'"
      ]
     },
     "metadata": {},
     "output_type": "display_data"
    },
    {
     "name": "stdout",
     "output_type": "stream",
     "text": [
      "100%|██████████| 7/7 [00:00<00:00, 4295.56it/s]\n"
     ]
    },
    {
     "data": {
      "text/plain": [
       "'Objectives added'"
      ]
     },
     "metadata": {},
     "output_type": "display_data"
    }
   ],
   "source": [
    "mfo.defineObjectives(objectives)"
   ]
  },
  {
   "cell_type": "markdown",
   "metadata": {},
   "source": [
    "# GLOBIOM"
   ]
  },
  {
   "cell_type": "code",
   "execution_count": 23,
   "metadata": {},
   "outputs": [],
   "source": [
    "demands = pd.read_csv('NOR_globiomNDC_all.csv') "
   ]
  },
  {
   "cell_type": "code",
   "execution_count": 24,
   "metadata": {},
   "outputs": [],
   "source": [
    "Globiom_dem = demands[\"Globiom_demands\"]*5\n",
    "Globiom_dem = Globiom_dem.to_list()"
   ]
  },
  {
   "cell_type": "code",
   "execution_count": 25,
   "metadata": {},
   "outputs": [],
   "source": [
    "mfo.addGlobiomTargets(\n",
    "    {\n",
    "    \n",
    "    \"GHarvDemands\": Globiom_dem\n",
    "    },\n",
    "    {\n",
    "         #'saw_vol_Mm3_TotNor', 'pulp_vol_Mm3_TotNor'\n",
    "        \n",
    "        #Log is converted primarily into log, and sencondary into pulp; no transferrate, both are volumes under bark\n",
    "        \"harv_vol_Mm3_TotNor\":\n",
    "            {\"GHarvDemands\":[1,\"primary\"]},\n",
    "            \n",
    "                          \n",
    "    },exactMatching=True\n",
    "    \n",
    ")"
   ]
  },
  {
   "cell_type": "markdown",
   "metadata": {},
   "source": [
    "## Define Enabled Constrains"
   ]
  },
  {
   "cell_type": "code",
   "execution_count": 26,
   "metadata": {},
   "outputs": [],
   "source": [
    "constraints = {\n",
    "    \"TotalHarvestDec\": [\"Species reduction\",\n",
    "                   \"Max harvest reduction 10%\", \"harv_vol_Mm3_TotNor\",1, 0.10]}"
   ]
  },
  {
   "cell_type": "code",
   "execution_count": 27,
   "metadata": {},
   "outputs": [],
   "source": [
    "mfo.defineConstraints(constraints)"
   ]
  },
  {
   "cell_type": "markdown",
   "metadata": {},
   "source": [
    "## Calculate objective ranges"
   ]
  },
  {
   "cell_type": "code",
   "execution_count": 28,
   "metadata": {},
   "outputs": [
    {
     "data": {
      "text/html": [
       "<div>\n",
       "<style scoped>\n",
       "    .dataframe tbody tr th:only-of-type {\n",
       "        vertical-align: middle;\n",
       "    }\n",
       "\n",
       "    .dataframe tbody tr th {\n",
       "        vertical-align: top;\n",
       "    }\n",
       "\n",
       "    .dataframe thead th {\n",
       "        text-align: right;\n",
       "    }\n",
       "</style>\n",
       "<table border=\"1\" class=\"dataframe\">\n",
       "  <thead>\n",
       "    <tr style=\"text-align: right;\">\n",
       "      <th></th>\n",
       "      <th></th>\n",
       "      <th></th>\n",
       "      <th>period</th>\n",
       "      <th>pulp_vol_m3</th>\n",
       "      <th>harv_cost_nok_m3</th>\n",
       "      <th>harv_cost_u150</th>\n",
       "      <th>harv_cost_u200</th>\n",
       "      <th>net_increment_m3</th>\n",
       "      <th>is_old</th>\n",
       "      <th>is_broadleave</th>\n",
       "      <th>MiS_classified_plot</th>\n",
       "      <th>bilberry_cover_pr</th>\n",
       "      <th>...</th>\n",
       "      <th>Relative_Relative_albedo</th>\n",
       "      <th>Relative_Relative_shan</th>\n",
       "      <th>Relative_Relative_ha2total</th>\n",
       "      <th>Relative_Relative_dead_vol_Mm3_TotNor</th>\n",
       "      <th>Relative_Relative_tsd_ha2total</th>\n",
       "      <th>Relative_Relative_CO2_forest_Mil_Kt_TotNor</th>\n",
       "      <th>Relative_Relative_CO2_forest_Mil_Kt_TotNor_no_albedo</th>\n",
       "      <th>Relative_Relative_Bilberry_ha_TotNor</th>\n",
       "      <th>Relative_Relative_MiS_ha</th>\n",
       "      <th>Relative_Relative_Sha_highclassdbh_Tot_Nor</th>\n",
       "    </tr>\n",
       "    <tr>\n",
       "      <th>plot_id</th>\n",
       "      <th>year</th>\n",
       "      <th>regime</th>\n",
       "      <th></th>\n",
       "      <th></th>\n",
       "      <th></th>\n",
       "      <th></th>\n",
       "      <th></th>\n",
       "      <th></th>\n",
       "      <th></th>\n",
       "      <th></th>\n",
       "      <th></th>\n",
       "      <th></th>\n",
       "      <th></th>\n",
       "      <th></th>\n",
       "      <th></th>\n",
       "      <th></th>\n",
       "      <th></th>\n",
       "      <th></th>\n",
       "      <th></th>\n",
       "      <th></th>\n",
       "      <th></th>\n",
       "      <th></th>\n",
       "      <th></th>\n",
       "    </tr>\n",
       "  </thead>\n",
       "  <tbody>\n",
       "    <tr>\n",
       "      <th rowspan=\"5\" valign=\"top\">A03187-1</th>\n",
       "      <th rowspan=\"5\" valign=\"top\">2028</th>\n",
       "      <th>SimOpt_extensive_0</th>\n",
       "      <td>t2</td>\n",
       "      <td>0.00000</td>\n",
       "      <td>0.000000</td>\n",
       "      <td>0</td>\n",
       "      <td>0</td>\n",
       "      <td>0.000000</td>\n",
       "      <td>0</td>\n",
       "      <td>0</td>\n",
       "      <td>0</td>\n",
       "      <td>2</td>\n",
       "      <td>...</td>\n",
       "      <td>9.025961e-07</td>\n",
       "      <td>0.000000e+00</td>\n",
       "      <td>4.010508e-07</td>\n",
       "      <td>0.000000e+00</td>\n",
       "      <td>4.010508e-07</td>\n",
       "      <td>-3.667306e-07</td>\n",
       "      <td>-4.093759e-07</td>\n",
       "      <td>7.773096e-08</td>\n",
       "      <td>0.000000</td>\n",
       "      <td>0.000000e+00</td>\n",
       "    </tr>\n",
       "    <tr>\n",
       "      <th>SimOpt_extensive_1</th>\n",
       "      <td>t2</td>\n",
       "      <td>32727.61897</td>\n",
       "      <td>909.320021</td>\n",
       "      <td>0</td>\n",
       "      <td>0</td>\n",
       "      <td>2810.612023</td>\n",
       "      <td>0</td>\n",
       "      <td>0</td>\n",
       "      <td>0</td>\n",
       "      <td>2</td>\n",
       "      <td>...</td>\n",
       "      <td>9.025961e-07</td>\n",
       "      <td>0.000000e+00</td>\n",
       "      <td>4.010508e-07</td>\n",
       "      <td>0.000000e+00</td>\n",
       "      <td>4.010508e-07</td>\n",
       "      <td>-1.846004e-06</td>\n",
       "      <td>-2.021645e-06</td>\n",
       "      <td>7.773096e-08</td>\n",
       "      <td>0.000000</td>\n",
       "      <td>0.000000e+00</td>\n",
       "    </tr>\n",
       "    <tr>\n",
       "      <th>SimOpt_extensive_10</th>\n",
       "      <td>t2</td>\n",
       "      <td>0.00000</td>\n",
       "      <td>0.000000</td>\n",
       "      <td>0</td>\n",
       "      <td>0</td>\n",
       "      <td>3994.338879</td>\n",
       "      <td>0</td>\n",
       "      <td>0</td>\n",
       "      <td>0</td>\n",
       "      <td>4</td>\n",
       "      <td>...</td>\n",
       "      <td>7.912492e-07</td>\n",
       "      <td>2.396545e-07</td>\n",
       "      <td>4.010508e-07</td>\n",
       "      <td>2.977858e-08</td>\n",
       "      <td>4.010508e-07</td>\n",
       "      <td>4.211540e-07</td>\n",
       "      <td>3.723546e-07</td>\n",
       "      <td>1.554619e-07</td>\n",
       "      <td>0.000000</td>\n",
       "      <td>1.166514e-07</td>\n",
       "    </tr>\n",
       "    <tr>\n",
       "      <th>SimOpt_extensive_11</th>\n",
       "      <td>t2</td>\n",
       "      <td>0.00000</td>\n",
       "      <td>0.000000</td>\n",
       "      <td>0</td>\n",
       "      <td>0</td>\n",
       "      <td>3994.338879</td>\n",
       "      <td>0</td>\n",
       "      <td>0</td>\n",
       "      <td>0</td>\n",
       "      <td>4</td>\n",
       "      <td>...</td>\n",
       "      <td>7.912492e-07</td>\n",
       "      <td>2.396545e-07</td>\n",
       "      <td>4.010508e-07</td>\n",
       "      <td>2.977858e-08</td>\n",
       "      <td>4.010508e-07</td>\n",
       "      <td>4.211540e-07</td>\n",
       "      <td>3.723546e-07</td>\n",
       "      <td>1.554619e-07</td>\n",
       "      <td>0.000000</td>\n",
       "      <td>1.166514e-07</td>\n",
       "    </tr>\n",
       "    <tr>\n",
       "      <th>SimOpt_extensive_12</th>\n",
       "      <td>t2</td>\n",
       "      <td>0.00000</td>\n",
       "      <td>0.000000</td>\n",
       "      <td>0</td>\n",
       "      <td>0</td>\n",
       "      <td>3994.338879</td>\n",
       "      <td>0</td>\n",
       "      <td>0</td>\n",
       "      <td>0</td>\n",
       "      <td>4</td>\n",
       "      <td>...</td>\n",
       "      <td>7.912492e-07</td>\n",
       "      <td>2.396545e-07</td>\n",
       "      <td>4.010508e-07</td>\n",
       "      <td>2.977858e-08</td>\n",
       "      <td>4.010508e-07</td>\n",
       "      <td>4.211540e-07</td>\n",
       "      <td>3.723546e-07</td>\n",
       "      <td>1.554619e-07</td>\n",
       "      <td>0.000000</td>\n",
       "      <td>1.166514e-07</td>\n",
       "    </tr>\n",
       "    <tr>\n",
       "      <th>...</th>\n",
       "      <th>...</th>\n",
       "      <th>...</th>\n",
       "      <td>...</td>\n",
       "      <td>...</td>\n",
       "      <td>...</td>\n",
       "      <td>...</td>\n",
       "      <td>...</td>\n",
       "      <td>...</td>\n",
       "      <td>...</td>\n",
       "      <td>...</td>\n",
       "      <td>...</td>\n",
       "      <td>...</td>\n",
       "      <td>...</td>\n",
       "      <td>...</td>\n",
       "      <td>...</td>\n",
       "      <td>...</td>\n",
       "      <td>...</td>\n",
       "      <td>...</td>\n",
       "      <td>...</td>\n",
       "      <td>...</td>\n",
       "      <td>...</td>\n",
       "      <td>...</td>\n",
       "      <td>...</td>\n",
       "    </tr>\n",
       "    <tr>\n",
       "      <th rowspan=\"5\" valign=\"top\">H08221-0</th>\n",
       "      <th rowspan=\"2\" valign=\"top\">2093</th>\n",
       "      <th>SimOpt_extensive_long_0</th>\n",
       "      <td>t15</td>\n",
       "      <td>0.00000</td>\n",
       "      <td>0.000000</td>\n",
       "      <td>0</td>\n",
       "      <td>0</td>\n",
       "      <td>0.000000</td>\n",
       "      <td>0</td>\n",
       "      <td>0</td>\n",
       "      <td>0</td>\n",
       "      <td>2</td>\n",
       "      <td>...</td>\n",
       "      <td>1.088301e-06</td>\n",
       "      <td>0.000000e+00</td>\n",
       "      <td>7.303183e-06</td>\n",
       "      <td>1.803647e-06</td>\n",
       "      <td>7.303183e-06</td>\n",
       "      <td>-4.654305e-06</td>\n",
       "      <td>-4.606389e-06</td>\n",
       "      <td>1.415490e-06</td>\n",
       "      <td>0.000000</td>\n",
       "      <td>0.000000e+00</td>\n",
       "    </tr>\n",
       "    <tr>\n",
       "      <th>SimOpt_no_management_0</th>\n",
       "      <td>t15</td>\n",
       "      <td>0.00000</td>\n",
       "      <td>0.000000</td>\n",
       "      <td>0</td>\n",
       "      <td>0</td>\n",
       "      <td>-25382.949604</td>\n",
       "      <td>0</td>\n",
       "      <td>0</td>\n",
       "      <td>0</td>\n",
       "      <td>3</td>\n",
       "      <td>...</td>\n",
       "      <td>9.494990e-07</td>\n",
       "      <td>7.122338e-07</td>\n",
       "      <td>7.303183e-06</td>\n",
       "      <td>6.141842e-06</td>\n",
       "      <td>7.303183e-06</td>\n",
       "      <td>1.351492e-06</td>\n",
       "      <td>1.020937e-06</td>\n",
       "      <td>2.123235e-06</td>\n",
       "      <td>0.000000</td>\n",
       "      <td>6.313058e-06</td>\n",
       "    </tr>\n",
       "    <tr>\n",
       "      <th rowspan=\"3\" valign=\"top\">2098</th>\n",
       "      <th>SimOpt_extensive_0</th>\n",
       "      <td>t16</td>\n",
       "      <td>0.00000</td>\n",
       "      <td>0.000000</td>\n",
       "      <td>0</td>\n",
       "      <td>0</td>\n",
       "      <td>142467.765186</td>\n",
       "      <td>0</td>\n",
       "      <td>1</td>\n",
       "      <td>1</td>\n",
       "      <td>2</td>\n",
       "      <td>...</td>\n",
       "      <td>9.681839e-07</td>\n",
       "      <td>9.791785e-07</td>\n",
       "      <td>7.303183e-06</td>\n",
       "      <td>5.496034e-07</td>\n",
       "      <td>7.303183e-06</td>\n",
       "      <td>1.769237e-05</td>\n",
       "      <td>1.786760e-05</td>\n",
       "      <td>1.415490e-06</td>\n",
       "      <td>0.000012</td>\n",
       "      <td>8.679187e-06</td>\n",
       "    </tr>\n",
       "    <tr>\n",
       "      <th>SimOpt_extensive_long_0</th>\n",
       "      <td>t16</td>\n",
       "      <td>0.00000</td>\n",
       "      <td>0.000000</td>\n",
       "      <td>0</td>\n",
       "      <td>0</td>\n",
       "      <td>0.000000</td>\n",
       "      <td>0</td>\n",
       "      <td>0</td>\n",
       "      <td>0</td>\n",
       "      <td>2</td>\n",
       "      <td>...</td>\n",
       "      <td>1.047881e-06</td>\n",
       "      <td>0.000000e+00</td>\n",
       "      <td>7.303183e-06</td>\n",
       "      <td>1.803647e-06</td>\n",
       "      <td>7.303183e-06</td>\n",
       "      <td>-5.412060e-06</td>\n",
       "      <td>-4.050062e-06</td>\n",
       "      <td>1.415490e-06</td>\n",
       "      <td>0.000000</td>\n",
       "      <td>0.000000e+00</td>\n",
       "    </tr>\n",
       "    <tr>\n",
       "      <th>SimOpt_no_management_0</th>\n",
       "      <td>t16</td>\n",
       "      <td>0.00000</td>\n",
       "      <td>0.000000</td>\n",
       "      <td>0</td>\n",
       "      <td>0</td>\n",
       "      <td>18267.237080</td>\n",
       "      <td>0</td>\n",
       "      <td>0</td>\n",
       "      <td>0</td>\n",
       "      <td>3</td>\n",
       "      <td>...</td>\n",
       "      <td>9.384406e-07</td>\n",
       "      <td>7.228733e-07</td>\n",
       "      <td>7.303183e-06</td>\n",
       "      <td>6.927970e-06</td>\n",
       "      <td>7.303183e-06</td>\n",
       "      <td>2.640400e-06</td>\n",
       "      <td>3.143965e-06</td>\n",
       "      <td>2.123235e-06</td>\n",
       "      <td>0.000000</td>\n",
       "      <td>6.407364e-06</td>\n",
       "    </tr>\n",
       "  </tbody>\n",
       "</table>\n",
       "<p>748275 rows × 96 columns</p>\n",
       "</div>"
      ],
      "text/plain": [
       "                                      period  pulp_vol_m3  harv_cost_nok_m3  \\\n",
       "plot_id  year regime                                                          \n",
       "A03187-1 2028 SimOpt_extensive_0          t2      0.00000          0.000000   \n",
       "              SimOpt_extensive_1          t2  32727.61897        909.320021   \n",
       "              SimOpt_extensive_10         t2      0.00000          0.000000   \n",
       "              SimOpt_extensive_11         t2      0.00000          0.000000   \n",
       "              SimOpt_extensive_12         t2      0.00000          0.000000   \n",
       "...                                      ...          ...               ...   \n",
       "H08221-0 2093 SimOpt_extensive_long_0    t15      0.00000          0.000000   \n",
       "              SimOpt_no_management_0     t15      0.00000          0.000000   \n",
       "         2098 SimOpt_extensive_0         t16      0.00000          0.000000   \n",
       "              SimOpt_extensive_long_0    t16      0.00000          0.000000   \n",
       "              SimOpt_no_management_0     t16      0.00000          0.000000   \n",
       "\n",
       "                                       harv_cost_u150  harv_cost_u200  \\\n",
       "plot_id  year regime                                                    \n",
       "A03187-1 2028 SimOpt_extensive_0                    0               0   \n",
       "              SimOpt_extensive_1                    0               0   \n",
       "              SimOpt_extensive_10                   0               0   \n",
       "              SimOpt_extensive_11                   0               0   \n",
       "              SimOpt_extensive_12                   0               0   \n",
       "...                                               ...             ...   \n",
       "H08221-0 2093 SimOpt_extensive_long_0               0               0   \n",
       "              SimOpt_no_management_0                0               0   \n",
       "         2098 SimOpt_extensive_0                    0               0   \n",
       "              SimOpt_extensive_long_0               0               0   \n",
       "              SimOpt_no_management_0                0               0   \n",
       "\n",
       "                                       net_increment_m3  is_old  \\\n",
       "plot_id  year regime                                              \n",
       "A03187-1 2028 SimOpt_extensive_0               0.000000       0   \n",
       "              SimOpt_extensive_1            2810.612023       0   \n",
       "              SimOpt_extensive_10           3994.338879       0   \n",
       "              SimOpt_extensive_11           3994.338879       0   \n",
       "              SimOpt_extensive_12           3994.338879       0   \n",
       "...                                                 ...     ...   \n",
       "H08221-0 2093 SimOpt_extensive_long_0          0.000000       0   \n",
       "              SimOpt_no_management_0      -25382.949604       0   \n",
       "         2098 SimOpt_extensive_0          142467.765186       0   \n",
       "              SimOpt_extensive_long_0          0.000000       0   \n",
       "              SimOpt_no_management_0       18267.237080       0   \n",
       "\n",
       "                                       is_broadleave  MiS_classified_plot  \\\n",
       "plot_id  year regime                                                        \n",
       "A03187-1 2028 SimOpt_extensive_0                   0                    0   \n",
       "              SimOpt_extensive_1                   0                    0   \n",
       "              SimOpt_extensive_10                  0                    0   \n",
       "              SimOpt_extensive_11                  0                    0   \n",
       "              SimOpt_extensive_12                  0                    0   \n",
       "...                                              ...                  ...   \n",
       "H08221-0 2093 SimOpt_extensive_long_0              0                    0   \n",
       "              SimOpt_no_management_0               0                    0   \n",
       "         2098 SimOpt_extensive_0                   1                    1   \n",
       "              SimOpt_extensive_long_0              0                    0   \n",
       "              SimOpt_no_management_0               0                    0   \n",
       "\n",
       "                                       bilberry_cover_pr  ...  \\\n",
       "plot_id  year regime                                      ...   \n",
       "A03187-1 2028 SimOpt_extensive_0                       2  ...   \n",
       "              SimOpt_extensive_1                       2  ...   \n",
       "              SimOpt_extensive_10                      4  ...   \n",
       "              SimOpt_extensive_11                      4  ...   \n",
       "              SimOpt_extensive_12                      4  ...   \n",
       "...                                                  ...  ...   \n",
       "H08221-0 2093 SimOpt_extensive_long_0                  2  ...   \n",
       "              SimOpt_no_management_0                   3  ...   \n",
       "         2098 SimOpt_extensive_0                       2  ...   \n",
       "              SimOpt_extensive_long_0                  2  ...   \n",
       "              SimOpt_no_management_0                   3  ...   \n",
       "\n",
       "                                       Relative_Relative_albedo  \\\n",
       "plot_id  year regime                                              \n",
       "A03187-1 2028 SimOpt_extensive_0                   9.025961e-07   \n",
       "              SimOpt_extensive_1                   9.025961e-07   \n",
       "              SimOpt_extensive_10                  7.912492e-07   \n",
       "              SimOpt_extensive_11                  7.912492e-07   \n",
       "              SimOpt_extensive_12                  7.912492e-07   \n",
       "...                                                         ...   \n",
       "H08221-0 2093 SimOpt_extensive_long_0              1.088301e-06   \n",
       "              SimOpt_no_management_0               9.494990e-07   \n",
       "         2098 SimOpt_extensive_0                   9.681839e-07   \n",
       "              SimOpt_extensive_long_0              1.047881e-06   \n",
       "              SimOpt_no_management_0               9.384406e-07   \n",
       "\n",
       "                                       Relative_Relative_shan  \\\n",
       "plot_id  year regime                                            \n",
       "A03187-1 2028 SimOpt_extensive_0                 0.000000e+00   \n",
       "              SimOpt_extensive_1                 0.000000e+00   \n",
       "              SimOpt_extensive_10                2.396545e-07   \n",
       "              SimOpt_extensive_11                2.396545e-07   \n",
       "              SimOpt_extensive_12                2.396545e-07   \n",
       "...                                                       ...   \n",
       "H08221-0 2093 SimOpt_extensive_long_0            0.000000e+00   \n",
       "              SimOpt_no_management_0             7.122338e-07   \n",
       "         2098 SimOpt_extensive_0                 9.791785e-07   \n",
       "              SimOpt_extensive_long_0            0.000000e+00   \n",
       "              SimOpt_no_management_0             7.228733e-07   \n",
       "\n",
       "                                       Relative_Relative_ha2total  \\\n",
       "plot_id  year regime                                                \n",
       "A03187-1 2028 SimOpt_extensive_0                     4.010508e-07   \n",
       "              SimOpt_extensive_1                     4.010508e-07   \n",
       "              SimOpt_extensive_10                    4.010508e-07   \n",
       "              SimOpt_extensive_11                    4.010508e-07   \n",
       "              SimOpt_extensive_12                    4.010508e-07   \n",
       "...                                                           ...   \n",
       "H08221-0 2093 SimOpt_extensive_long_0                7.303183e-06   \n",
       "              SimOpt_no_management_0                 7.303183e-06   \n",
       "         2098 SimOpt_extensive_0                     7.303183e-06   \n",
       "              SimOpt_extensive_long_0                7.303183e-06   \n",
       "              SimOpt_no_management_0                 7.303183e-06   \n",
       "\n",
       "                                       Relative_Relative_dead_vol_Mm3_TotNor  \\\n",
       "plot_id  year regime                                                           \n",
       "A03187-1 2028 SimOpt_extensive_0                                0.000000e+00   \n",
       "              SimOpt_extensive_1                                0.000000e+00   \n",
       "              SimOpt_extensive_10                               2.977858e-08   \n",
       "              SimOpt_extensive_11                               2.977858e-08   \n",
       "              SimOpt_extensive_12                               2.977858e-08   \n",
       "...                                                                      ...   \n",
       "H08221-0 2093 SimOpt_extensive_long_0                           1.803647e-06   \n",
       "              SimOpt_no_management_0                            6.141842e-06   \n",
       "         2098 SimOpt_extensive_0                                5.496034e-07   \n",
       "              SimOpt_extensive_long_0                           1.803647e-06   \n",
       "              SimOpt_no_management_0                            6.927970e-06   \n",
       "\n",
       "                                       Relative_Relative_tsd_ha2total  \\\n",
       "plot_id  year regime                                                    \n",
       "A03187-1 2028 SimOpt_extensive_0                         4.010508e-07   \n",
       "              SimOpt_extensive_1                         4.010508e-07   \n",
       "              SimOpt_extensive_10                        4.010508e-07   \n",
       "              SimOpt_extensive_11                        4.010508e-07   \n",
       "              SimOpt_extensive_12                        4.010508e-07   \n",
       "...                                                               ...   \n",
       "H08221-0 2093 SimOpt_extensive_long_0                    7.303183e-06   \n",
       "              SimOpt_no_management_0                     7.303183e-06   \n",
       "         2098 SimOpt_extensive_0                         7.303183e-06   \n",
       "              SimOpt_extensive_long_0                    7.303183e-06   \n",
       "              SimOpt_no_management_0                     7.303183e-06   \n",
       "\n",
       "                                       Relative_Relative_CO2_forest_Mil_Kt_TotNor  \\\n",
       "plot_id  year regime                                                                \n",
       "A03187-1 2028 SimOpt_extensive_0                                    -3.667306e-07   \n",
       "              SimOpt_extensive_1                                    -1.846004e-06   \n",
       "              SimOpt_extensive_10                                    4.211540e-07   \n",
       "              SimOpt_extensive_11                                    4.211540e-07   \n",
       "              SimOpt_extensive_12                                    4.211540e-07   \n",
       "...                                                                           ...   \n",
       "H08221-0 2093 SimOpt_extensive_long_0                               -4.654305e-06   \n",
       "              SimOpt_no_management_0                                 1.351492e-06   \n",
       "         2098 SimOpt_extensive_0                                     1.769237e-05   \n",
       "              SimOpt_extensive_long_0                               -5.412060e-06   \n",
       "              SimOpt_no_management_0                                 2.640400e-06   \n",
       "\n",
       "                                       Relative_Relative_CO2_forest_Mil_Kt_TotNor_no_albedo  \\\n",
       "plot_id  year regime                                                                          \n",
       "A03187-1 2028 SimOpt_extensive_0                                           -4.093759e-07      \n",
       "              SimOpt_extensive_1                                           -2.021645e-06      \n",
       "              SimOpt_extensive_10                                           3.723546e-07      \n",
       "              SimOpt_extensive_11                                           3.723546e-07      \n",
       "              SimOpt_extensive_12                                           3.723546e-07      \n",
       "...                                                                                  ...      \n",
       "H08221-0 2093 SimOpt_extensive_long_0                                      -4.606389e-06      \n",
       "              SimOpt_no_management_0                                        1.020937e-06      \n",
       "         2098 SimOpt_extensive_0                                            1.786760e-05      \n",
       "              SimOpt_extensive_long_0                                      -4.050062e-06      \n",
       "              SimOpt_no_management_0                                        3.143965e-06      \n",
       "\n",
       "                                       Relative_Relative_Bilberry_ha_TotNor  \\\n",
       "plot_id  year regime                                                          \n",
       "A03187-1 2028 SimOpt_extensive_0                               7.773096e-08   \n",
       "              SimOpt_extensive_1                               7.773096e-08   \n",
       "              SimOpt_extensive_10                              1.554619e-07   \n",
       "              SimOpt_extensive_11                              1.554619e-07   \n",
       "              SimOpt_extensive_12                              1.554619e-07   \n",
       "...                                                                     ...   \n",
       "H08221-0 2093 SimOpt_extensive_long_0                          1.415490e-06   \n",
       "              SimOpt_no_management_0                           2.123235e-06   \n",
       "         2098 SimOpt_extensive_0                               1.415490e-06   \n",
       "              SimOpt_extensive_long_0                          1.415490e-06   \n",
       "              SimOpt_no_management_0                           2.123235e-06   \n",
       "\n",
       "                                       Relative_Relative_MiS_ha  \\\n",
       "plot_id  year regime                                              \n",
       "A03187-1 2028 SimOpt_extensive_0                       0.000000   \n",
       "              SimOpt_extensive_1                       0.000000   \n",
       "              SimOpt_extensive_10                      0.000000   \n",
       "              SimOpt_extensive_11                      0.000000   \n",
       "              SimOpt_extensive_12                      0.000000   \n",
       "...                                                         ...   \n",
       "H08221-0 2093 SimOpt_extensive_long_0                  0.000000   \n",
       "              SimOpt_no_management_0                   0.000000   \n",
       "         2098 SimOpt_extensive_0                       0.000012   \n",
       "              SimOpt_extensive_long_0                  0.000000   \n",
       "              SimOpt_no_management_0                   0.000000   \n",
       "\n",
       "                                       Relative_Relative_Sha_highclassdbh_Tot_Nor  \n",
       "plot_id  year regime                                                               \n",
       "A03187-1 2028 SimOpt_extensive_0                                     0.000000e+00  \n",
       "              SimOpt_extensive_1                                     0.000000e+00  \n",
       "              SimOpt_extensive_10                                    1.166514e-07  \n",
       "              SimOpt_extensive_11                                    1.166514e-07  \n",
       "              SimOpt_extensive_12                                    1.166514e-07  \n",
       "...                                                                           ...  \n",
       "H08221-0 2093 SimOpt_extensive_long_0                                0.000000e+00  \n",
       "              SimOpt_no_management_0                                 6.313058e-06  \n",
       "         2098 SimOpt_extensive_0                                     8.679187e-06  \n",
       "              SimOpt_extensive_long_0                                0.000000e+00  \n",
       "              SimOpt_no_management_0                                 6.407364e-06  \n",
       "\n",
       "[748275 rows x 96 columns]"
      ]
     },
     "execution_count": 28,
     "metadata": {},
     "output_type": "execute_result"
    }
   ],
   "source": [
    "mfo.data"
   ]
  },
  {
   "cell_type": "markdown",
   "metadata": {},
   "source": [
    "You can run the following function twice to improve ranges accuracy.\n",
    "\n",
    "Especially, if some objectives get as lowerbounds 0:s, then it makes sense to reoptimize"
   ]
  },
  {
   "cell_type": "code",
   "execution_count": 29,
   "metadata": {
    "scrolled": false
   },
   "outputs": [
    {
     "data": {
      "text/plain": [
       "'Calculating objective ranges'"
      ]
     },
     "metadata": {},
     "output_type": "display_data"
    },
    {
     "name": "stdout",
     "output_type": "stream",
     "text": [
      "\r",
      "  0%|          | 0/8 [00:00<?, ?it/s]"
     ]
    },
    {
     "data": {
      "text/plain": [
       "'Optimizing for Maximize netvalue (MAX Millions nok/m2) min'"
      ]
     },
     "metadata": {},
     "output_type": "display_data"
    },
    {
     "data": {
      "text/plain": [
       "'Found an optimal solution in 0 seconds'"
      ]
     },
     "metadata": {},
     "output_type": "display_data"
    },
    {
     "data": {
      "text/plain": [
       "'Objective values are:'"
      ]
     },
     "metadata": {},
     "output_type": "display_data"
    },
    {
     "data": {
      "text/plain": [
       "'Maximize netvalue (MAX Millions nok/m2) min'"
      ]
     },
     "metadata": {},
     "output_type": "display_data"
    },
    {
     "data": {
      "text/plain": [
       "4501.226477720805"
      ]
     },
     "metadata": {},
     "output_type": "display_data"
    },
    {
     "data": {
      "text/plain": [
       "'Maximize GROT in plots with harvest cost under 200 (maX)'"
      ]
     },
     "metadata": {},
     "output_type": "display_data"
    },
    {
     "data": {
      "text/plain": [
       "1076.0580763785827"
      ]
     },
     "metadata": {},
     "output_type": "display_data"
    },
    {
     "data": {
      "text/plain": [
       "'Not decreasing area of MiS classified plots (max)'"
      ]
     },
     "metadata": {},
     "output_type": "display_data"
    },
    {
     "data": {
      "text/plain": [
       "0.016164022907203382"
      ]
     },
     "metadata": {},
     "output_type": "display_data"
    },
    {
     "data": {
      "text/plain": [
       "'Co2 storage in wooden products (maximize kilotonnnes over all years)'"
      ]
     },
     "metadata": {},
     "output_type": "display_data"
    },
    {
     "data": {
      "text/plain": [
       "35995.19083008727"
      ]
     },
     "metadata": {},
     "output_type": "display_data"
    },
    {
     "data": {
      "text/plain": [
       "' Max Co2 uptake in forest'"
      ]
     },
     "metadata": {},
     "output_type": "display_data"
    },
    {
     "data": {
      "text/plain": [
       "-56.73982571474144"
      ]
     },
     "metadata": {},
     "output_type": "display_data"
    },
    {
     "data": {
      "text/plain": [
       "'MinSum city forest (not decreasing)'"
      ]
     },
     "metadata": {},
     "output_type": "display_data"
    },
    {
     "data": {
      "text/plain": [
       "25.901741682467513"
      ]
     },
     "metadata": {},
     "output_type": "display_data"
    },
    {
     "data": {
      "text/plain": [
       "'MAxMin Shanon in plots with larger dbh (not decrease)'"
      ]
     },
     "metadata": {},
     "output_type": "display_data"
    },
    {
     "data": {
      "text/plain": [
       "0.016582755545323406"
      ]
     },
     "metadata": {},
     "output_type": "display_data"
    },
    {
     "data": {
      "text/plain": [
       "'Relative meeting of globiom target for GHarvDemands'"
      ]
     },
     "metadata": {},
     "output_type": "display_data"
    },
    {
     "data": {
      "text/plain": [
       "64.07760707833532"
      ]
     },
     "metadata": {},
     "output_type": "display_data"
    },
    {
     "name": "stdout",
     "output_type": "stream",
     "text": [
      "\r",
      " 12%|█▎        | 1/8 [00:03<00:23,  3.31s/it]"
     ]
    },
    {
     "data": {
      "text/plain": [
       "'Optimizing for Maximize GROT in plots with harvest cost under 200 (maX)'"
      ]
     },
     "metadata": {},
     "output_type": "display_data"
    },
    {
     "data": {
      "text/plain": [
       "'Found an optimal solution in 0 seconds'"
      ]
     },
     "metadata": {},
     "output_type": "display_data"
    },
    {
     "data": {
      "text/plain": [
       "'Objective values are:'"
      ]
     },
     "metadata": {},
     "output_type": "display_data"
    },
    {
     "data": {
      "text/plain": [
       "'Maximize netvalue (MAX Millions nok/m2) min'"
      ]
     },
     "metadata": {},
     "output_type": "display_data"
    },
    {
     "data": {
      "text/plain": [
       "2098.6474874516653"
      ]
     },
     "metadata": {},
     "output_type": "display_data"
    },
    {
     "data": {
      "text/plain": [
       "'Maximize GROT in plots with harvest cost under 200 (maX)'"
      ]
     },
     "metadata": {},
     "output_type": "display_data"
    },
    {
     "data": {
      "text/plain": [
       "3141.1176958830956"
      ]
     },
     "metadata": {},
     "output_type": "display_data"
    },
    {
     "data": {
      "text/plain": [
       "'Not decreasing area of MiS classified plots (max)'"
      ]
     },
     "metadata": {},
     "output_type": "display_data"
    },
    {
     "data": {
      "text/plain": [
       "0.01623255826468918"
      ]
     },
     "metadata": {},
     "output_type": "display_data"
    },
    {
     "data": {
      "text/plain": [
       "'Co2 storage in wooden products (maximize kilotonnnes over all years)'"
      ]
     },
     "metadata": {},
     "output_type": "display_data"
    },
    {
     "data": {
      "text/plain": [
       "33796.989067071125"
      ]
     },
     "metadata": {},
     "output_type": "display_data"
    },
    {
     "data": {
      "text/plain": [
       "' Max Co2 uptake in forest'"
      ]
     },
     "metadata": {},
     "output_type": "display_data"
    },
    {
     "data": {
      "text/plain": [
       "141.87305227882607"
      ]
     },
     "metadata": {},
     "output_type": "display_data"
    },
    {
     "data": {
      "text/plain": [
       "'MinSum city forest (not decreasing)'"
      ]
     },
     "metadata": {},
     "output_type": "display_data"
    },
    {
     "data": {
      "text/plain": [
       "22.085061195149947"
      ]
     },
     "metadata": {},
     "output_type": "display_data"
    },
    {
     "data": {
      "text/plain": [
       "'MAxMin Shanon in plots with larger dbh (not decrease)'"
      ]
     },
     "metadata": {},
     "output_type": "display_data"
    },
    {
     "data": {
      "text/plain": [
       "0.020042861280938462"
      ]
     },
     "metadata": {},
     "output_type": "display_data"
    },
    {
     "data": {
      "text/plain": [
       "'Relative meeting of globiom target for GHarvDemands'"
      ]
     },
     "metadata": {},
     "output_type": "display_data"
    },
    {
     "data": {
      "text/plain": [
       "70.10483685085461"
      ]
     },
     "metadata": {},
     "output_type": "display_data"
    },
    {
     "name": "stdout",
     "output_type": "stream",
     "text": [
      "\r",
      " 25%|██▌       | 2/8 [00:05<00:18,  3.12s/it]"
     ]
    },
    {
     "data": {
      "text/plain": [
       "'Optimizing for Not decreasing area of MiS classified plots (max)'"
      ]
     },
     "metadata": {},
     "output_type": "display_data"
    },
    {
     "data": {
      "text/plain": [
       "'Found an optimal solution in 0 seconds'"
      ]
     },
     "metadata": {},
     "output_type": "display_data"
    },
    {
     "data": {
      "text/plain": [
       "'Objective values are:'"
      ]
     },
     "metadata": {},
     "output_type": "display_data"
    },
    {
     "data": {
      "text/plain": [
       "'Maximize netvalue (MAX Millions nok/m2) min'"
      ]
     },
     "metadata": {},
     "output_type": "display_data"
    },
    {
     "data": {
      "text/plain": [
       "354.95587616744314"
      ]
     },
     "metadata": {},
     "output_type": "display_data"
    },
    {
     "data": {
      "text/plain": [
       "'Maximize GROT in plots with harvest cost under 200 (maX)'"
      ]
     },
     "metadata": {},
     "output_type": "display_data"
    },
    {
     "data": {
      "text/plain": [
       "251.41699110478226"
      ]
     },
     "metadata": {},
     "output_type": "display_data"
    },
    {
     "data": {
      "text/plain": [
       "'Not decreasing area of MiS classified plots (max)'"
      ]
     },
     "metadata": {},
     "output_type": "display_data"
    },
    {
     "data": {
      "text/plain": [
       "0.030196875462928166"
      ]
     },
     "metadata": {},
     "output_type": "display_data"
    },
    {
     "data": {
      "text/plain": [
       "'Co2 storage in wooden products (maximize kilotonnnes over all years)'"
      ]
     },
     "metadata": {},
     "output_type": "display_data"
    },
    {
     "data": {
      "text/plain": [
       "34192.03962191931"
      ]
     },
     "metadata": {},
     "output_type": "display_data"
    },
    {
     "data": {
      "text/plain": [
       "' Max Co2 uptake in forest'"
      ]
     },
     "metadata": {},
     "output_type": "display_data"
    },
    {
     "data": {
      "text/plain": [
       "208.4787421587518"
      ]
     },
     "metadata": {},
     "output_type": "display_data"
    },
    {
     "data": {
      "text/plain": [
       "'MinSum city forest (not decreasing)'"
      ]
     },
     "metadata": {},
     "output_type": "display_data"
    },
    {
     "data": {
      "text/plain": [
       "20.63835019999999"
      ]
     },
     "metadata": {},
     "output_type": "display_data"
    },
    {
     "data": {
      "text/plain": [
       "'MAxMin Shanon in plots with larger dbh (not decrease)'"
      ]
     },
     "metadata": {},
     "output_type": "display_data"
    },
    {
     "data": {
      "text/plain": [
       "0.022859360441774577"
      ]
     },
     "metadata": {},
     "output_type": "display_data"
    },
    {
     "data": {
      "text/plain": [
       "'Relative meeting of globiom target for GHarvDemands'"
      ]
     },
     "metadata": {},
     "output_type": "display_data"
    },
    {
     "data": {
      "text/plain": [
       "72.36422551055757"
      ]
     },
     "metadata": {},
     "output_type": "display_data"
    },
    {
     "name": "stdout",
     "output_type": "stream",
     "text": [
      "\r",
      " 38%|███▊      | 3/8 [00:08<00:14,  2.95s/it]"
     ]
    },
    {
     "data": {
      "text/plain": [
       "'Optimizing for Co2 storage in wooden products (maximize kilotonnnes over all years)'"
      ]
     },
     "metadata": {},
     "output_type": "display_data"
    },
    {
     "data": {
      "text/plain": [
       "'Found an optimal solution in 0 seconds'"
      ]
     },
     "metadata": {},
     "output_type": "display_data"
    },
    {
     "data": {
      "text/plain": [
       "'Objective values are:'"
      ]
     },
     "metadata": {},
     "output_type": "display_data"
    },
    {
     "data": {
      "text/plain": [
       "'Maximize netvalue (MAX Millions nok/m2) min'"
      ]
     },
     "metadata": {},
     "output_type": "display_data"
    },
    {
     "data": {
      "text/plain": [
       "475.134458201771"
      ]
     },
     "metadata": {},
     "output_type": "display_data"
    },
    {
     "data": {
      "text/plain": [
       "'Maximize GROT in plots with harvest cost under 200 (maX)'"
      ]
     },
     "metadata": {},
     "output_type": "display_data"
    },
    {
     "data": {
      "text/plain": [
       "119.90890594912987"
      ]
     },
     "metadata": {},
     "output_type": "display_data"
    },
    {
     "data": {
      "text/plain": [
       "'Not decreasing area of MiS classified plots (max)'"
      ]
     },
     "metadata": {},
     "output_type": "display_data"
    },
    {
     "data": {
      "text/plain": [
       "0.017457487581872193"
      ]
     },
     "metadata": {},
     "output_type": "display_data"
    },
    {
     "data": {
      "text/plain": [
       "'Co2 storage in wooden products (maximize kilotonnnes over all years)'"
      ]
     },
     "metadata": {},
     "output_type": "display_data"
    },
    {
     "data": {
      "text/plain": [
       "66271.92907105086"
      ]
     },
     "metadata": {},
     "output_type": "display_data"
    },
    {
     "data": {
      "text/plain": [
       "' Max Co2 uptake in forest'"
      ]
     },
     "metadata": {},
     "output_type": "display_data"
    },
    {
     "data": {
      "text/plain": [
       "-11.201779849474441"
      ]
     },
     "metadata": {},
     "output_type": "display_data"
    },
    {
     "data": {
      "text/plain": [
       "'MinSum city forest (not decreasing)'"
      ]
     },
     "metadata": {},
     "output_type": "display_data"
    },
    {
     "data": {
      "text/plain": [
       "83.18426740000011"
      ]
     },
     "metadata": {},
     "output_type": "display_data"
    },
    {
     "data": {
      "text/plain": [
       "'MAxMin Shanon in plots with larger dbh (not decrease)'"
      ]
     },
     "metadata": {},
     "output_type": "display_data"
    },
    {
     "data": {
      "text/plain": [
       "0.018395001501980843"
      ]
     },
     "metadata": {},
     "output_type": "display_data"
    },
    {
     "data": {
      "text/plain": [
       "'Relative meeting of globiom target for GHarvDemands'"
      ]
     },
     "metadata": {},
     "output_type": "display_data"
    },
    {
     "data": {
      "text/plain": [
       "78.66180666156478"
      ]
     },
     "metadata": {},
     "output_type": "display_data"
    },
    {
     "name": "stdout",
     "output_type": "stream",
     "text": [
      "\r",
      " 50%|█████     | 4/8 [00:11<00:11,  2.81s/it]"
     ]
    },
    {
     "data": {
      "text/plain": [
       "'Optimizing for  Max Co2 uptake in forest'"
      ]
     },
     "metadata": {},
     "output_type": "display_data"
    },
    {
     "data": {
      "text/plain": [
       "'Found an optimal solution in 0 seconds'"
      ]
     },
     "metadata": {},
     "output_type": "display_data"
    },
    {
     "data": {
      "text/plain": [
       "'Objective values are:'"
      ]
     },
     "metadata": {},
     "output_type": "display_data"
    },
    {
     "data": {
      "text/plain": [
       "'Maximize netvalue (MAX Millions nok/m2) min'"
      ]
     },
     "metadata": {},
     "output_type": "display_data"
    },
    {
     "data": {
      "text/plain": [
       "-96.16689197217983"
      ]
     },
     "metadata": {},
     "output_type": "display_data"
    },
    {
     "data": {
      "text/plain": [
       "'Maximize GROT in plots with harvest cost under 200 (maX)'"
      ]
     },
     "metadata": {},
     "output_type": "display_data"
    },
    {
     "data": {
      "text/plain": [
       "9.241174044258539"
      ]
     },
     "metadata": {},
     "output_type": "display_data"
    },
    {
     "data": {
      "text/plain": [
       "'Not decreasing area of MiS classified plots (max)'"
      ]
     },
     "metadata": {},
     "output_type": "display_data"
    },
    {
     "data": {
      "text/plain": [
       "0.024469259001093625"
      ]
     },
     "metadata": {},
     "output_type": "display_data"
    },
    {
     "data": {
      "text/plain": [
       "'Co2 storage in wooden products (maximize kilotonnnes over all years)'"
      ]
     },
     "metadata": {},
     "output_type": "display_data"
    },
    {
     "data": {
      "text/plain": [
       "15656.110023792167"
      ]
     },
     "metadata": {},
     "output_type": "display_data"
    },
    {
     "data": {
      "text/plain": [
       "' Max Co2 uptake in forest'"
      ]
     },
     "metadata": {},
     "output_type": "display_data"
    },
    {
     "data": {
      "text/plain": [
       "761.5702892247259"
      ]
     },
     "metadata": {},
     "output_type": "display_data"
    },
    {
     "data": {
      "text/plain": [
       "'MinSum city forest (not decreasing)'"
      ]
     },
     "metadata": {},
     "output_type": "display_data"
    },
    {
     "data": {
      "text/plain": [
       "2.7938377999999995"
      ]
     },
     "metadata": {},
     "output_type": "display_data"
    },
    {
     "data": {
      "text/plain": [
       "'MAxMin Shanon in plots with larger dbh (not decrease)'"
      ]
     },
     "metadata": {},
     "output_type": "display_data"
    },
    {
     "data": {
      "text/plain": [
       "0.03002346053363325"
      ]
     },
     "metadata": {},
     "output_type": "display_data"
    },
    {
     "data": {
      "text/plain": [
       "'Relative meeting of globiom target for GHarvDemands'"
      ]
     },
     "metadata": {},
     "output_type": "display_data"
    },
    {
     "data": {
      "text/plain": [
       "84.27502080790725"
      ]
     },
     "metadata": {},
     "output_type": "display_data"
    },
    {
     "name": "stdout",
     "output_type": "stream",
     "text": [
      "\r",
      " 62%|██████▎   | 5/8 [00:13<00:08,  2.73s/it]"
     ]
    },
    {
     "data": {
      "text/plain": [
       "'Optimizing for MinSum city forest (not decreasing)'"
      ]
     },
     "metadata": {},
     "output_type": "display_data"
    },
    {
     "data": {
      "text/plain": [
       "'Found an optimal solution in 0 seconds'"
      ]
     },
     "metadata": {},
     "output_type": "display_data"
    },
    {
     "data": {
      "text/plain": [
       "'Objective values are:'"
      ]
     },
     "metadata": {},
     "output_type": "display_data"
    },
    {
     "data": {
      "text/plain": [
       "'Maximize netvalue (MAX Millions nok/m2) min'"
      ]
     },
     "metadata": {},
     "output_type": "display_data"
    },
    {
     "data": {
      "text/plain": [
       "0.0"
      ]
     },
     "metadata": {},
     "output_type": "display_data"
    },
    {
     "data": {
      "text/plain": [
       "'Maximize GROT in plots with harvest cost under 200 (maX)'"
      ]
     },
     "metadata": {},
     "output_type": "display_data"
    },
    {
     "data": {
      "text/plain": [
       "0.0"
      ]
     },
     "metadata": {},
     "output_type": "display_data"
    },
    {
     "data": {
      "text/plain": [
       "'Not decreasing area of MiS classified plots (max)'"
      ]
     },
     "metadata": {},
     "output_type": "display_data"
    },
    {
     "data": {
      "text/plain": [
       "0.0130275725809908"
      ]
     },
     "metadata": {},
     "output_type": "display_data"
    },
    {
     "data": {
      "text/plain": [
       "'Co2 storage in wooden products (maximize kilotonnnes over all years)'"
      ]
     },
     "metadata": {},
     "output_type": "display_data"
    },
    {
     "data": {
      "text/plain": [
       "22443.40291733706"
      ]
     },
     "metadata": {},
     "output_type": "display_data"
    },
    {
     "data": {
      "text/plain": [
       "' Max Co2 uptake in forest'"
      ]
     },
     "metadata": {},
     "output_type": "display_data"
    },
    {
     "data": {
      "text/plain": [
       "566.8557222931057"
      ]
     },
     "metadata": {},
     "output_type": "display_data"
    },
    {
     "data": {
      "text/plain": [
       "'MinSum city forest (not decreasing)'"
      ]
     },
     "metadata": {},
     "output_type": "display_data"
    },
    {
     "data": {
      "text/plain": [
       "0.0"
      ]
     },
     "metadata": {},
     "output_type": "display_data"
    },
    {
     "data": {
      "text/plain": [
       "'MAxMin Shanon in plots with larger dbh (not decrease)'"
      ]
     },
     "metadata": {},
     "output_type": "display_data"
    },
    {
     "data": {
      "text/plain": [
       "0.019851176992433755"
      ]
     },
     "metadata": {},
     "output_type": "display_data"
    },
    {
     "data": {
      "text/plain": [
       "'Relative meeting of globiom target for GHarvDemands'"
      ]
     },
     "metadata": {},
     "output_type": "display_data"
    },
    {
     "data": {
      "text/plain": [
       "84.82280465499998"
      ]
     },
     "metadata": {},
     "output_type": "display_data"
    },
    {
     "name": "stdout",
     "output_type": "stream",
     "text": [
      "\r",
      " 75%|███████▌  | 6/8 [00:16<00:05,  2.69s/it]"
     ]
    },
    {
     "data": {
      "text/plain": [
       "'Optimizing for MAxMin Shanon in plots with larger dbh (not decrease)'"
      ]
     },
     "metadata": {},
     "output_type": "display_data"
    },
    {
     "data": {
      "text/plain": [
       "'Found an optimal solution in 1 seconds'"
      ]
     },
     "metadata": {},
     "output_type": "display_data"
    },
    {
     "data": {
      "text/plain": [
       "'Objective values are:'"
      ]
     },
     "metadata": {},
     "output_type": "display_data"
    },
    {
     "data": {
      "text/plain": [
       "'Maximize netvalue (MAX Millions nok/m2) min'"
      ]
     },
     "metadata": {},
     "output_type": "display_data"
    },
    {
     "data": {
      "text/plain": [
       "-0.6531450283223279"
      ]
     },
     "metadata": {},
     "output_type": "display_data"
    },
    {
     "data": {
      "text/plain": [
       "'Maximize GROT in plots with harvest cost under 200 (maX)'"
      ]
     },
     "metadata": {},
     "output_type": "display_data"
    },
    {
     "data": {
      "text/plain": [
       "376.076077789672"
      ]
     },
     "metadata": {},
     "output_type": "display_data"
    },
    {
     "data": {
      "text/plain": [
       "'Not decreasing area of MiS classified plots (max)'"
      ]
     },
     "metadata": {},
     "output_type": "display_data"
    },
    {
     "data": {
      "text/plain": [
       "0.026585692848316973"
      ]
     },
     "metadata": {},
     "output_type": "display_data"
    },
    {
     "data": {
      "text/plain": [
       "'Co2 storage in wooden products (maximize kilotonnnes over all years)'"
      ]
     },
     "metadata": {},
     "output_type": "display_data"
    },
    {
     "data": {
      "text/plain": [
       "24574.847828287355"
      ]
     },
     "metadata": {},
     "output_type": "display_data"
    },
    {
     "data": {
      "text/plain": [
       "' Max Co2 uptake in forest'"
      ]
     },
     "metadata": {},
     "output_type": "display_data"
    },
    {
     "data": {
      "text/plain": [
       "363.68228458583565"
      ]
     },
     "metadata": {},
     "output_type": "display_data"
    },
    {
     "data": {
      "text/plain": [
       "'MinSum city forest (not decreasing)'"
      ]
     },
     "metadata": {},
     "output_type": "display_data"
    },
    {
     "data": {
      "text/plain": [
       "10.724732199999998"
      ]
     },
     "metadata": {},
     "output_type": "display_data"
    },
    {
     "data": {
      "text/plain": [
       "'MAxMin Shanon in plots with larger dbh (not decrease)'"
      ]
     },
     "metadata": {},
     "output_type": "display_data"
    },
    {
     "data": {
      "text/plain": [
       "0.036379481978631854"
      ]
     },
     "metadata": {},
     "output_type": "display_data"
    },
    {
     "data": {
      "text/plain": [
       "'Relative meeting of globiom target for GHarvDemands'"
      ]
     },
     "metadata": {},
     "output_type": "display_data"
    },
    {
     "data": {
      "text/plain": [
       "74.78958848407743"
      ]
     },
     "metadata": {},
     "output_type": "display_data"
    },
    {
     "name": "stdout",
     "output_type": "stream",
     "text": [
      "\r",
      " 88%|████████▊ | 7/8 [00:19<00:02,  2.94s/it]"
     ]
    },
    {
     "data": {
      "text/plain": [
       "'Optimizing for Relative meeting of globiom target for GHarvDemands'"
      ]
     },
     "metadata": {},
     "output_type": "display_data"
    },
    {
     "data": {
      "text/plain": [
       "'Found an optimal solution in 0 seconds'"
      ]
     },
     "metadata": {},
     "output_type": "display_data"
    },
    {
     "data": {
      "text/plain": [
       "'Objective values are:'"
      ]
     },
     "metadata": {},
     "output_type": "display_data"
    },
    {
     "data": {
      "text/plain": [
       "'Maximize netvalue (MAX Millions nok/m2) min'"
      ]
     },
     "metadata": {},
     "output_type": "display_data"
    },
    {
     "data": {
      "text/plain": [
       "705.0845100111567"
      ]
     },
     "metadata": {},
     "output_type": "display_data"
    },
    {
     "data": {
      "text/plain": [
       "'Maximize GROT in plots with harvest cost under 200 (maX)'"
      ]
     },
     "metadata": {},
     "output_type": "display_data"
    },
    {
     "data": {
      "text/plain": [
       "1007.3663569160553"
      ]
     },
     "metadata": {},
     "output_type": "display_data"
    },
    {
     "data": {
      "text/plain": [
       "'Not decreasing area of MiS classified plots (max)'"
      ]
     },
     "metadata": {},
     "output_type": "display_data"
    },
    {
     "data": {
      "text/plain": [
       "0.010083426071801372"
      ]
     },
     "metadata": {},
     "output_type": "display_data"
    },
    {
     "data": {
      "text/plain": [
       "'Co2 storage in wooden products (maximize kilotonnnes over all years)'"
      ]
     },
     "metadata": {},
     "output_type": "display_data"
    },
    {
     "data": {
      "text/plain": [
       "41034.339709116"
      ]
     },
     "metadata": {},
     "output_type": "display_data"
    },
    {
     "data": {
      "text/plain": [
       "' Max Co2 uptake in forest'"
      ]
     },
     "metadata": {},
     "output_type": "display_data"
    },
    {
     "data": {
      "text/plain": [
       "-157.1580934836277"
      ]
     },
     "metadata": {},
     "output_type": "display_data"
    },
    {
     "data": {
      "text/plain": [
       "'MinSum city forest (not decreasing)'"
      ]
     },
     "metadata": {},
     "output_type": "display_data"
    },
    {
     "data": {
      "text/plain": [
       "31.903825199999982"
      ]
     },
     "metadata": {},
     "output_type": "display_data"
    },
    {
     "data": {
      "text/plain": [
       "'MAxMin Shanon in plots with larger dbh (not decrease)'"
      ]
     },
     "metadata": {},
     "output_type": "display_data"
    },
    {
     "data": {
      "text/plain": [
       "0.011373641641874547"
      ]
     },
     "metadata": {},
     "output_type": "display_data"
    },
    {
     "data": {
      "text/plain": [
       "'Relative meeting of globiom target for GHarvDemands'"
      ]
     },
     "metadata": {},
     "output_type": "display_data"
    },
    {
     "data": {
      "text/plain": [
       "52.02125090303836"
      ]
     },
     "metadata": {},
     "output_type": "display_data"
    },
    {
     "name": "stdout",
     "output_type": "stream",
     "text": [
      "100%|██████████| 8/8 [00:22<00:00,  2.84s/it]\n",
      "CPU times: user 26 s, sys: 7.46 s, total: 33.4 s\n",
      "Wall time: 22.8 s\n"
     ]
    }
   ],
   "source": [
    "%%time\n",
    "mfo.calculateObjectiveRanges(debug=True)"
   ]
  },
  {
   "cell_type": "code",
   "execution_count": 30,
   "metadata": {},
   "outputs": [
    {
     "data": {
      "text/plain": [
       "{'harvest_netvalue_Mnok': (-96.16689197217983, 4501.226477720805),\n",
       " 'GROTIncreaseInHarvCost200': (0.0, 3141.1176958830956),\n",
       " 'MiSMaxMin': (0.010083426071801372, 0.030196875462928166),\n",
       " 'CO2_HWP_kt': (15656.110023792167, 66271.92907105086),\n",
       " 'CO2_in_forest': (-157.1580934836277, 761.5702892247259),\n",
       " 'harvest_in_cityForest': (0.0, 83.18426740000011),\n",
       " 'ShannonIncrease': (0.011373641641874547, 0.036379481978631854),\n",
       " 'GlobiomTargetForGHarvDemands': (52.02125090303836, 84.82280465499998)}"
      ]
     },
     "execution_count": 30,
     "metadata": {},
     "output_type": "execute_result"
    }
   ],
   "source": [
    "mfo.objectiveRanges"
   ]
  },
  {
   "cell_type": "markdown",
   "metadata": {},
   "source": [
    "## Show GUI"
   ]
  },
  {
   "cell_type": "markdown",
   "metadata": {},
   "source": [
    "- If \"Enabled constraints\" should be considered, start with ticking box \"NO ClearCut on...\" and push \"Change constraints\"\n",
    "- Epsilon constraints are only considered if sliders are moved and button \"Set epsilon constraints\" is pushed\n",
    "- By pushing \"OPTIMIZE\" an optimal solution under the given constraints and reference points is searched\n",
    "\n",
    "<b>SEE example figure below for scenario BES</b>"
   ]
  },
  {
   "cell_type": "markdown",
   "metadata": {},
   "source": [
    "![image](./NORGUIExample.png)"
   ]
  },
  {
   "cell_type": "code",
   "execution_count": 31,
   "metadata": {
    "scrolled": false
   },
   "outputs": [
    {
     "data": {
      "text/html": [
       "<style>\n",
       "            .widget-label { min-width: 60% !important; }\n",
       "        </style>"
      ],
      "text/plain": [
       "<IPython.core.display.HTML object>"
      ]
     },
     "metadata": {},
     "output_type": "display_data"
    },
    {
     "data": {
      "text/html": [
       "<h2>Epsilon constraint values</h2>"
      ],
      "text/plain": [
       "<IPython.core.display.HTML object>"
      ]
     },
     "metadata": {},
     "output_type": "display_data"
    },
    {
     "data": {
      "application/vnd.jupyter.widget-view+json": {
       "model_id": "7cc08598250b42edbca12243276d7fe4",
       "version_major": 2,
       "version_minor": 0
      },
      "text/plain": [
       "interactive(children=(FloatSlider(value=-96.16689197217983, description='Maximize netvalue (MAX Millions nok/m…"
      ]
     },
     "metadata": {},
     "output_type": "display_data"
    },
    {
     "data": {
      "text/html": [
       "<h2>Reference point</h2>"
      ],
      "text/plain": [
       "<IPython.core.display.HTML object>"
      ]
     },
     "metadata": {},
     "output_type": "display_data"
    },
    {
     "data": {
      "application/vnd.jupyter.widget-view+json": {
       "model_id": "59848e3f6a124a9cbdff764765c8f119",
       "version_major": 2,
       "version_minor": 0
      },
      "text/plain": [
       "interactive(children=(FloatSlider(value=2202.5297928743125, description='Maximize netvalue (MAX Millions nok/m…"
      ]
     },
     "metadata": {},
     "output_type": "display_data"
    },
    {
     "data": {
      "text/html": [
       "<h2>Enabled constraints</h2>"
      ],
      "text/plain": [
       "<IPython.core.display.HTML object>"
      ]
     },
     "metadata": {},
     "output_type": "display_data"
    },
    {
     "data": {
      "application/vnd.jupyter.widget-view+json": {
       "model_id": "ec0da5ad55dd43f0980a7d711e598731",
       "version_major": 2,
       "version_minor": 0
      },
      "text/plain": [
       "interactive(children=(Checkbox(value=False, description='Max harvest reduction 10%'), Button(description='Chan…"
      ]
     },
     "metadata": {},
     "output_type": "display_data"
    },
    {
     "data": {
      "application/vnd.jupyter.widget-view+json": {
       "model_id": "d970ddaa083f453fb9a005f238f62f53",
       "version_major": 2,
       "version_minor": 0
      },
      "text/plain": [
       "Button(description='Print solution', style=ButtonStyle())"
      ]
     },
     "metadata": {},
     "output_type": "display_data"
    }
   ],
   "source": [
    "mfo.showGUI(debug=True)"
   ]
  },
  {
   "cell_type": "markdown",
   "metadata": {},
   "source": [
    "## Visualization of optimal solution"
   ]
  },
  {
   "cell_type": "code",
   "execution_count": 32,
   "metadata": {},
   "outputs": [],
   "source": [
    "regimeAmounts = {regime:0 for regime in mfo.regimes}\n",
    "for key in mfo.regimesDecision.keys():\n",
    "    regimeAmounts[key[1]] +=mfo.regimesDecision[key].solution_value()*mfo.standAreas.loc[key[0],\"tsd_ha2total\"]/mfo.standAreas[\"tsd_ha2total\"].sum()"
   ]
  },
  {
   "cell_type": "code",
   "execution_count": 33,
   "metadata": {
    "scrolled": false
   },
   "outputs": [
    {
     "name": "stdout",
     "output_type": "stream",
     "text": [
      "Populating the interactive namespace from numpy and matplotlib\n"
     ]
    }
   ],
   "source": [
    "%pylab notebook"
   ]
  },
  {
   "cell_type": "code",
   "execution_count": 34,
   "metadata": {
    "scrolled": true
   },
   "outputs": [
    {
     "data": {
      "text/plain": [
       "[0.16827590724306465,\n",
       " 0.010105828927157627,\n",
       " 0.007247029130428476,\n",
       " 0.0073809814008910825,\n",
       " 0.00923369803709415,\n",
       " 0.01413127677898914,\n",
       " 0.0,\n",
       " 0.0005483695522599257,\n",
       " 0.0,\n",
       " 0.0,\n",
       " 0.0,\n",
       " 0.020826378197095145,\n",
       " 0.01129114483584906,\n",
       " 0.03166100080886694,\n",
       " 0.026772092308807234,\n",
       " 0.010113966175983294,\n",
       " 0.0188490559197776,\n",
       " 0.01726608933556354,\n",
       " 0.0027523649822961834,\n",
       " 0.18257932725470483,\n",
       " 0.011661421563337352,\n",
       " 0.0011717803314846014,\n",
       " 0.003195764540412549,\n",
       " 0.0032667510348289254,\n",
       " 0.0060719526267838456,\n",
       " 0.0,\n",
       " 0.0,\n",
       " 0.0,\n",
       " 0.0,\n",
       " 0.0,\n",
       " 0.012238521000935214,\n",
       " 0.009264457591711302,\n",
       " 0.0060127350157871875,\n",
       " 0.00665728625225086,\n",
       " 0.0,\n",
       " 0.009424669534729032,\n",
       " 0.0020412818283226403,\n",
       " 0.0011185175891443924,\n",
       " 0.03432953625425855,\n",
       " 0.127028142742739,\n",
       " 0.10212585435632493,\n",
       " 0.011072695538107063,\n",
       " 0.003195764540412549,\n",
       " 0.0005326274234020915,\n",
       " 0.001065254846804183,\n",
       " 0.0005326274234020915,\n",
       " 0.0005326274234020915,\n",
       " 0.0,\n",
       " 0.0,\n",
       " 0.0,\n",
       " 0.0,\n",
       " 0.0,\n",
       " 0.004793646810618824,\n",
       " 0.003195764540412549,\n",
       " 0.0035113335974026275,\n",
       " 0.004793646810618824,\n",
       " 0.001065254846804183,\n",
       " 0.003195764540412549,\n",
       " 0.001065254846804183,\n",
       " 0.0,\n",
       " 0.016456504047220752,\n",
       " 0.0009054666197835556,\n",
       " 0.0,\n",
       " 0.0,\n",
       " 0.0,\n",
       " 0.0,\n",
       " 0.0,\n",
       " 0.0,\n",
       " 0.0,\n",
       " 0.0,\n",
       " 0.01027970927166037,\n",
       " 0.011877591541866647,\n",
       " 0.004953435037639451,\n",
       " 0.001065254846804183,\n",
       " 0.001075826421232393,\n",
       " 0.0018593151404341722,\n",
       " 0.001065254846804183,\n",
       " 0.0,\n",
       " 0.0015978822702062746,\n",
       " 0.0,\n",
       " 0.0005326274234020915,\n",
       " 0.001065254846804183,\n",
       " 0.0018464722298311535,\n",
       " 0.0,\n",
       " 0.0,\n",
       " 0.0,\n",
       " 0.0,\n",
       " 0.0,\n",
       " 0.001065254846804183,\n",
       " 0.0,\n",
       " 0.0034088155097733858,\n",
       " 0.0005326274234020915,\n",
       " 0.0,\n",
       " 0.002130509693608366,\n",
       " 0.0015978822702062746,\n",
       " 0.0,\n",
       " 0.01438094043185648,\n",
       " 0.003089239055732131,\n",
       " 0.006018689884443636]"
      ]
     },
     "execution_count": 34,
     "metadata": {},
     "output_type": "execute_result"
    }
   ],
   "source": [
    "[val for val in regimeAmounts.values()]"
   ]
  },
  {
   "cell_type": "code",
   "execution_count": 35,
   "metadata": {
    "scrolled": false
   },
   "outputs": [
    {
     "data": {
      "application/javascript": [
       "/* Put everything inside the global mpl namespace */\n",
       "window.mpl = {};\n",
       "\n",
       "\n",
       "mpl.get_websocket_type = function() {\n",
       "    if (typeof(WebSocket) !== 'undefined') {\n",
       "        return WebSocket;\n",
       "    } else if (typeof(MozWebSocket) !== 'undefined') {\n",
       "        return MozWebSocket;\n",
       "    } else {\n",
       "        alert('Your browser does not have WebSocket support. ' +\n",
       "              'Please try Chrome, Safari or Firefox ≥ 6. ' +\n",
       "              'Firefox 4 and 5 are also supported but you ' +\n",
       "              'have to enable WebSockets in about:config.');\n",
       "    };\n",
       "}\n",
       "\n",
       "mpl.figure = function(figure_id, websocket, ondownload, parent_element) {\n",
       "    this.id = figure_id;\n",
       "\n",
       "    this.ws = websocket;\n",
       "\n",
       "    this.supports_binary = (this.ws.binaryType != undefined);\n",
       "\n",
       "    if (!this.supports_binary) {\n",
       "        var warnings = document.getElementById(\"mpl-warnings\");\n",
       "        if (warnings) {\n",
       "            warnings.style.display = 'block';\n",
       "            warnings.textContent = (\n",
       "                \"This browser does not support binary websocket messages. \" +\n",
       "                    \"Performance may be slow.\");\n",
       "        }\n",
       "    }\n",
       "\n",
       "    this.imageObj = new Image();\n",
       "\n",
       "    this.context = undefined;\n",
       "    this.message = undefined;\n",
       "    this.canvas = undefined;\n",
       "    this.rubberband_canvas = undefined;\n",
       "    this.rubberband_context = undefined;\n",
       "    this.format_dropdown = undefined;\n",
       "\n",
       "    this.image_mode = 'full';\n",
       "\n",
       "    this.root = $('<div/>');\n",
       "    this._root_extra_style(this.root)\n",
       "    this.root.attr('style', 'display: inline-block');\n",
       "\n",
       "    $(parent_element).append(this.root);\n",
       "\n",
       "    this._init_header(this);\n",
       "    this._init_canvas(this);\n",
       "    this._init_toolbar(this);\n",
       "\n",
       "    var fig = this;\n",
       "\n",
       "    this.waiting = false;\n",
       "\n",
       "    this.ws.onopen =  function () {\n",
       "            fig.send_message(\"supports_binary\", {value: fig.supports_binary});\n",
       "            fig.send_message(\"send_image_mode\", {});\n",
       "            if (mpl.ratio != 1) {\n",
       "                fig.send_message(\"set_dpi_ratio\", {'dpi_ratio': mpl.ratio});\n",
       "            }\n",
       "            fig.send_message(\"refresh\", {});\n",
       "        }\n",
       "\n",
       "    this.imageObj.onload = function() {\n",
       "            if (fig.image_mode == 'full') {\n",
       "                // Full images could contain transparency (where diff images\n",
       "                // almost always do), so we need to clear the canvas so that\n",
       "                // there is no ghosting.\n",
       "                fig.context.clearRect(0, 0, fig.canvas.width, fig.canvas.height);\n",
       "            }\n",
       "            fig.context.drawImage(fig.imageObj, 0, 0);\n",
       "        };\n",
       "\n",
       "    this.imageObj.onunload = function() {\n",
       "        fig.ws.close();\n",
       "    }\n",
       "\n",
       "    this.ws.onmessage = this._make_on_message_function(this);\n",
       "\n",
       "    this.ondownload = ondownload;\n",
       "}\n",
       "\n",
       "mpl.figure.prototype._init_header = function() {\n",
       "    var titlebar = $(\n",
       "        '<div class=\"ui-dialog-titlebar ui-widget-header ui-corner-all ' +\n",
       "        'ui-helper-clearfix\"/>');\n",
       "    var titletext = $(\n",
       "        '<div class=\"ui-dialog-title\" style=\"width: 100%; ' +\n",
       "        'text-align: center; padding: 3px;\"/>');\n",
       "    titlebar.append(titletext)\n",
       "    this.root.append(titlebar);\n",
       "    this.header = titletext[0];\n",
       "}\n",
       "\n",
       "\n",
       "\n",
       "mpl.figure.prototype._canvas_extra_style = function(canvas_div) {\n",
       "\n",
       "}\n",
       "\n",
       "\n",
       "mpl.figure.prototype._root_extra_style = function(canvas_div) {\n",
       "\n",
       "}\n",
       "\n",
       "mpl.figure.prototype._init_canvas = function() {\n",
       "    var fig = this;\n",
       "\n",
       "    var canvas_div = $('<div/>');\n",
       "\n",
       "    canvas_div.attr('style', 'position: relative; clear: both; outline: 0');\n",
       "\n",
       "    function canvas_keyboard_event(event) {\n",
       "        return fig.key_event(event, event['data']);\n",
       "    }\n",
       "\n",
       "    canvas_div.keydown('key_press', canvas_keyboard_event);\n",
       "    canvas_div.keyup('key_release', canvas_keyboard_event);\n",
       "    this.canvas_div = canvas_div\n",
       "    this._canvas_extra_style(canvas_div)\n",
       "    this.root.append(canvas_div);\n",
       "\n",
       "    var canvas = $('<canvas/>');\n",
       "    canvas.addClass('mpl-canvas');\n",
       "    canvas.attr('style', \"left: 0; top: 0; z-index: 0; outline: 0\")\n",
       "\n",
       "    this.canvas = canvas[0];\n",
       "    this.context = canvas[0].getContext(\"2d\");\n",
       "\n",
       "    var backingStore = this.context.backingStorePixelRatio ||\n",
       "\tthis.context.webkitBackingStorePixelRatio ||\n",
       "\tthis.context.mozBackingStorePixelRatio ||\n",
       "\tthis.context.msBackingStorePixelRatio ||\n",
       "\tthis.context.oBackingStorePixelRatio ||\n",
       "\tthis.context.backingStorePixelRatio || 1;\n",
       "\n",
       "    mpl.ratio = (window.devicePixelRatio || 1) / backingStore;\n",
       "\n",
       "    var rubberband = $('<canvas/>');\n",
       "    rubberband.attr('style', \"position: absolute; left: 0; top: 0; z-index: 1;\")\n",
       "\n",
       "    var pass_mouse_events = true;\n",
       "\n",
       "    canvas_div.resizable({\n",
       "        start: function(event, ui) {\n",
       "            pass_mouse_events = false;\n",
       "        },\n",
       "        resize: function(event, ui) {\n",
       "            fig.request_resize(ui.size.width, ui.size.height);\n",
       "        },\n",
       "        stop: function(event, ui) {\n",
       "            pass_mouse_events = true;\n",
       "            fig.request_resize(ui.size.width, ui.size.height);\n",
       "        },\n",
       "    });\n",
       "\n",
       "    function mouse_event_fn(event) {\n",
       "        if (pass_mouse_events)\n",
       "            return fig.mouse_event(event, event['data']);\n",
       "    }\n",
       "\n",
       "    rubberband.mousedown('button_press', mouse_event_fn);\n",
       "    rubberband.mouseup('button_release', mouse_event_fn);\n",
       "    // Throttle sequential mouse events to 1 every 20ms.\n",
       "    rubberband.mousemove('motion_notify', mouse_event_fn);\n",
       "\n",
       "    rubberband.mouseenter('figure_enter', mouse_event_fn);\n",
       "    rubberband.mouseleave('figure_leave', mouse_event_fn);\n",
       "\n",
       "    canvas_div.on(\"wheel\", function (event) {\n",
       "        event = event.originalEvent;\n",
       "        event['data'] = 'scroll'\n",
       "        if (event.deltaY < 0) {\n",
       "            event.step = 1;\n",
       "        } else {\n",
       "            event.step = -1;\n",
       "        }\n",
       "        mouse_event_fn(event);\n",
       "    });\n",
       "\n",
       "    canvas_div.append(canvas);\n",
       "    canvas_div.append(rubberband);\n",
       "\n",
       "    this.rubberband = rubberband;\n",
       "    this.rubberband_canvas = rubberband[0];\n",
       "    this.rubberband_context = rubberband[0].getContext(\"2d\");\n",
       "    this.rubberband_context.strokeStyle = \"#000000\";\n",
       "\n",
       "    this._resize_canvas = function(width, height) {\n",
       "        // Keep the size of the canvas, canvas container, and rubber band\n",
       "        // canvas in synch.\n",
       "        canvas_div.css('width', width)\n",
       "        canvas_div.css('height', height)\n",
       "\n",
       "        canvas.attr('width', width * mpl.ratio);\n",
       "        canvas.attr('height', height * mpl.ratio);\n",
       "        canvas.attr('style', 'width: ' + width + 'px; height: ' + height + 'px;');\n",
       "\n",
       "        rubberband.attr('width', width);\n",
       "        rubberband.attr('height', height);\n",
       "    }\n",
       "\n",
       "    // Set the figure to an initial 600x600px, this will subsequently be updated\n",
       "    // upon first draw.\n",
       "    this._resize_canvas(600, 600);\n",
       "\n",
       "    // Disable right mouse context menu.\n",
       "    $(this.rubberband_canvas).bind(\"contextmenu\",function(e){\n",
       "        return false;\n",
       "    });\n",
       "\n",
       "    function set_focus () {\n",
       "        canvas.focus();\n",
       "        canvas_div.focus();\n",
       "    }\n",
       "\n",
       "    window.setTimeout(set_focus, 100);\n",
       "}\n",
       "\n",
       "mpl.figure.prototype._init_toolbar = function() {\n",
       "    var fig = this;\n",
       "\n",
       "    var nav_element = $('<div/>');\n",
       "    nav_element.attr('style', 'width: 100%');\n",
       "    this.root.append(nav_element);\n",
       "\n",
       "    // Define a callback function for later on.\n",
       "    function toolbar_event(event) {\n",
       "        return fig.toolbar_button_onclick(event['data']);\n",
       "    }\n",
       "    function toolbar_mouse_event(event) {\n",
       "        return fig.toolbar_button_onmouseover(event['data']);\n",
       "    }\n",
       "\n",
       "    for(var toolbar_ind in mpl.toolbar_items) {\n",
       "        var name = mpl.toolbar_items[toolbar_ind][0];\n",
       "        var tooltip = mpl.toolbar_items[toolbar_ind][1];\n",
       "        var image = mpl.toolbar_items[toolbar_ind][2];\n",
       "        var method_name = mpl.toolbar_items[toolbar_ind][3];\n",
       "\n",
       "        if (!name) {\n",
       "            // put a spacer in here.\n",
       "            continue;\n",
       "        }\n",
       "        var button = $('<button/>');\n",
       "        button.addClass('ui-button ui-widget ui-state-default ui-corner-all ' +\n",
       "                        'ui-button-icon-only');\n",
       "        button.attr('role', 'button');\n",
       "        button.attr('aria-disabled', 'false');\n",
       "        button.click(method_name, toolbar_event);\n",
       "        button.mouseover(tooltip, toolbar_mouse_event);\n",
       "\n",
       "        var icon_img = $('<span/>');\n",
       "        icon_img.addClass('ui-button-icon-primary ui-icon');\n",
       "        icon_img.addClass(image);\n",
       "        icon_img.addClass('ui-corner-all');\n",
       "\n",
       "        var tooltip_span = $('<span/>');\n",
       "        tooltip_span.addClass('ui-button-text');\n",
       "        tooltip_span.html(tooltip);\n",
       "\n",
       "        button.append(icon_img);\n",
       "        button.append(tooltip_span);\n",
       "\n",
       "        nav_element.append(button);\n",
       "    }\n",
       "\n",
       "    var fmt_picker_span = $('<span/>');\n",
       "\n",
       "    var fmt_picker = $('<select/>');\n",
       "    fmt_picker.addClass('mpl-toolbar-option ui-widget ui-widget-content');\n",
       "    fmt_picker_span.append(fmt_picker);\n",
       "    nav_element.append(fmt_picker_span);\n",
       "    this.format_dropdown = fmt_picker[0];\n",
       "\n",
       "    for (var ind in mpl.extensions) {\n",
       "        var fmt = mpl.extensions[ind];\n",
       "        var option = $(\n",
       "            '<option/>', {selected: fmt === mpl.default_extension}).html(fmt);\n",
       "        fmt_picker.append(option);\n",
       "    }\n",
       "\n",
       "    // Add hover states to the ui-buttons\n",
       "    $( \".ui-button\" ).hover(\n",
       "        function() { $(this).addClass(\"ui-state-hover\");},\n",
       "        function() { $(this).removeClass(\"ui-state-hover\");}\n",
       "    );\n",
       "\n",
       "    var status_bar = $('<span class=\"mpl-message\"/>');\n",
       "    nav_element.append(status_bar);\n",
       "    this.message = status_bar[0];\n",
       "}\n",
       "\n",
       "mpl.figure.prototype.request_resize = function(x_pixels, y_pixels) {\n",
       "    // Request matplotlib to resize the figure. Matplotlib will then trigger a resize in the client,\n",
       "    // which will in turn request a refresh of the image.\n",
       "    this.send_message('resize', {'width': x_pixels, 'height': y_pixels});\n",
       "}\n",
       "\n",
       "mpl.figure.prototype.send_message = function(type, properties) {\n",
       "    properties['type'] = type;\n",
       "    properties['figure_id'] = this.id;\n",
       "    this.ws.send(JSON.stringify(properties));\n",
       "}\n",
       "\n",
       "mpl.figure.prototype.send_draw_message = function() {\n",
       "    if (!this.waiting) {\n",
       "        this.waiting = true;\n",
       "        this.ws.send(JSON.stringify({type: \"draw\", figure_id: this.id}));\n",
       "    }\n",
       "}\n",
       "\n",
       "\n",
       "mpl.figure.prototype.handle_save = function(fig, msg) {\n",
       "    var format_dropdown = fig.format_dropdown;\n",
       "    var format = format_dropdown.options[format_dropdown.selectedIndex].value;\n",
       "    fig.ondownload(fig, format);\n",
       "}\n",
       "\n",
       "\n",
       "mpl.figure.prototype.handle_resize = function(fig, msg) {\n",
       "    var size = msg['size'];\n",
       "    if (size[0] != fig.canvas.width || size[1] != fig.canvas.height) {\n",
       "        fig._resize_canvas(size[0], size[1]);\n",
       "        fig.send_message(\"refresh\", {});\n",
       "    };\n",
       "}\n",
       "\n",
       "mpl.figure.prototype.handle_rubberband = function(fig, msg) {\n",
       "    var x0 = msg['x0'] / mpl.ratio;\n",
       "    var y0 = (fig.canvas.height - msg['y0']) / mpl.ratio;\n",
       "    var x1 = msg['x1'] / mpl.ratio;\n",
       "    var y1 = (fig.canvas.height - msg['y1']) / mpl.ratio;\n",
       "    x0 = Math.floor(x0) + 0.5;\n",
       "    y0 = Math.floor(y0) + 0.5;\n",
       "    x1 = Math.floor(x1) + 0.5;\n",
       "    y1 = Math.floor(y1) + 0.5;\n",
       "    var min_x = Math.min(x0, x1);\n",
       "    var min_y = Math.min(y0, y1);\n",
       "    var width = Math.abs(x1 - x0);\n",
       "    var height = Math.abs(y1 - y0);\n",
       "\n",
       "    fig.rubberband_context.clearRect(\n",
       "        0, 0, fig.canvas.width / mpl.ratio, fig.canvas.height / mpl.ratio);\n",
       "\n",
       "    fig.rubberband_context.strokeRect(min_x, min_y, width, height);\n",
       "}\n",
       "\n",
       "mpl.figure.prototype.handle_figure_label = function(fig, msg) {\n",
       "    // Updates the figure title.\n",
       "    fig.header.textContent = msg['label'];\n",
       "}\n",
       "\n",
       "mpl.figure.prototype.handle_cursor = function(fig, msg) {\n",
       "    var cursor = msg['cursor'];\n",
       "    switch(cursor)\n",
       "    {\n",
       "    case 0:\n",
       "        cursor = 'pointer';\n",
       "        break;\n",
       "    case 1:\n",
       "        cursor = 'default';\n",
       "        break;\n",
       "    case 2:\n",
       "        cursor = 'crosshair';\n",
       "        break;\n",
       "    case 3:\n",
       "        cursor = 'move';\n",
       "        break;\n",
       "    }\n",
       "    fig.rubberband_canvas.style.cursor = cursor;\n",
       "}\n",
       "\n",
       "mpl.figure.prototype.handle_message = function(fig, msg) {\n",
       "    fig.message.textContent = msg['message'];\n",
       "}\n",
       "\n",
       "mpl.figure.prototype.handle_draw = function(fig, msg) {\n",
       "    // Request the server to send over a new figure.\n",
       "    fig.send_draw_message();\n",
       "}\n",
       "\n",
       "mpl.figure.prototype.handle_image_mode = function(fig, msg) {\n",
       "    fig.image_mode = msg['mode'];\n",
       "}\n",
       "\n",
       "mpl.figure.prototype.updated_canvas_event = function() {\n",
       "    // Called whenever the canvas gets updated.\n",
       "    this.send_message(\"ack\", {});\n",
       "}\n",
       "\n",
       "// A function to construct a web socket function for onmessage handling.\n",
       "// Called in the figure constructor.\n",
       "mpl.figure.prototype._make_on_message_function = function(fig) {\n",
       "    return function socket_on_message(evt) {\n",
       "        if (evt.data instanceof Blob) {\n",
       "            /* FIXME: We get \"Resource interpreted as Image but\n",
       "             * transferred with MIME type text/plain:\" errors on\n",
       "             * Chrome.  But how to set the MIME type?  It doesn't seem\n",
       "             * to be part of the websocket stream */\n",
       "            evt.data.type = \"image/png\";\n",
       "\n",
       "            /* Free the memory for the previous frames */\n",
       "            if (fig.imageObj.src) {\n",
       "                (window.URL || window.webkitURL).revokeObjectURL(\n",
       "                    fig.imageObj.src);\n",
       "            }\n",
       "\n",
       "            fig.imageObj.src = (window.URL || window.webkitURL).createObjectURL(\n",
       "                evt.data);\n",
       "            fig.updated_canvas_event();\n",
       "            fig.waiting = false;\n",
       "            return;\n",
       "        }\n",
       "        else if (typeof evt.data === 'string' && evt.data.slice(0, 21) == \"data:image/png;base64\") {\n",
       "            fig.imageObj.src = evt.data;\n",
       "            fig.updated_canvas_event();\n",
       "            fig.waiting = false;\n",
       "            return;\n",
       "        }\n",
       "\n",
       "        var msg = JSON.parse(evt.data);\n",
       "        var msg_type = msg['type'];\n",
       "\n",
       "        // Call the  \"handle_{type}\" callback, which takes\n",
       "        // the figure and JSON message as its only arguments.\n",
       "        try {\n",
       "            var callback = fig[\"handle_\" + msg_type];\n",
       "        } catch (e) {\n",
       "            console.log(\"No handler for the '\" + msg_type + \"' message type: \", msg);\n",
       "            return;\n",
       "        }\n",
       "\n",
       "        if (callback) {\n",
       "            try {\n",
       "                // console.log(\"Handling '\" + msg_type + \"' message: \", msg);\n",
       "                callback(fig, msg);\n",
       "            } catch (e) {\n",
       "                console.log(\"Exception inside the 'handler_\" + msg_type + \"' callback:\", e, e.stack, msg);\n",
       "            }\n",
       "        }\n",
       "    };\n",
       "}\n",
       "\n",
       "// from http://stackoverflow.com/questions/1114465/getting-mouse-location-in-canvas\n",
       "mpl.findpos = function(e) {\n",
       "    //this section is from http://www.quirksmode.org/js/events_properties.html\n",
       "    var targ;\n",
       "    if (!e)\n",
       "        e = window.event;\n",
       "    if (e.target)\n",
       "        targ = e.target;\n",
       "    else if (e.srcElement)\n",
       "        targ = e.srcElement;\n",
       "    if (targ.nodeType == 3) // defeat Safari bug\n",
       "        targ = targ.parentNode;\n",
       "\n",
       "    // jQuery normalizes the pageX and pageY\n",
       "    // pageX,Y are the mouse positions relative to the document\n",
       "    // offset() returns the position of the element relative to the document\n",
       "    var x = e.pageX - $(targ).offset().left;\n",
       "    var y = e.pageY - $(targ).offset().top;\n",
       "\n",
       "    return {\"x\": x, \"y\": y};\n",
       "};\n",
       "\n",
       "/*\n",
       " * return a copy of an object with only non-object keys\n",
       " * we need this to avoid circular references\n",
       " * http://stackoverflow.com/a/24161582/3208463\n",
       " */\n",
       "function simpleKeys (original) {\n",
       "  return Object.keys(original).reduce(function (obj, key) {\n",
       "    if (typeof original[key] !== 'object')\n",
       "        obj[key] = original[key]\n",
       "    return obj;\n",
       "  }, {});\n",
       "}\n",
       "\n",
       "mpl.figure.prototype.mouse_event = function(event, name) {\n",
       "    var canvas_pos = mpl.findpos(event)\n",
       "\n",
       "    if (name === 'button_press')\n",
       "    {\n",
       "        this.canvas.focus();\n",
       "        this.canvas_div.focus();\n",
       "    }\n",
       "\n",
       "    var x = canvas_pos.x * mpl.ratio;\n",
       "    var y = canvas_pos.y * mpl.ratio;\n",
       "\n",
       "    this.send_message(name, {x: x, y: y, button: event.button,\n",
       "                             step: event.step,\n",
       "                             guiEvent: simpleKeys(event)});\n",
       "\n",
       "    /* This prevents the web browser from automatically changing to\n",
       "     * the text insertion cursor when the button is pressed.  We want\n",
       "     * to control all of the cursor setting manually through the\n",
       "     * 'cursor' event from matplotlib */\n",
       "    event.preventDefault();\n",
       "    return false;\n",
       "}\n",
       "\n",
       "mpl.figure.prototype._key_event_extra = function(event, name) {\n",
       "    // Handle any extra behaviour associated with a key event\n",
       "}\n",
       "\n",
       "mpl.figure.prototype.key_event = function(event, name) {\n",
       "\n",
       "    // Prevent repeat events\n",
       "    if (name == 'key_press')\n",
       "    {\n",
       "        if (event.which === this._key)\n",
       "            return;\n",
       "        else\n",
       "            this._key = event.which;\n",
       "    }\n",
       "    if (name == 'key_release')\n",
       "        this._key = null;\n",
       "\n",
       "    var value = '';\n",
       "    if (event.ctrlKey && event.which != 17)\n",
       "        value += \"ctrl+\";\n",
       "    if (event.altKey && event.which != 18)\n",
       "        value += \"alt+\";\n",
       "    if (event.shiftKey && event.which != 16)\n",
       "        value += \"shift+\";\n",
       "\n",
       "    value += 'k';\n",
       "    value += event.which.toString();\n",
       "\n",
       "    this._key_event_extra(event, name);\n",
       "\n",
       "    this.send_message(name, {key: value,\n",
       "                             guiEvent: simpleKeys(event)});\n",
       "    return false;\n",
       "}\n",
       "\n",
       "mpl.figure.prototype.toolbar_button_onclick = function(name) {\n",
       "    if (name == 'download') {\n",
       "        this.handle_save(this, null);\n",
       "    } else {\n",
       "        this.send_message(\"toolbar_button\", {name: name});\n",
       "    }\n",
       "};\n",
       "\n",
       "mpl.figure.prototype.toolbar_button_onmouseover = function(tooltip) {\n",
       "    this.message.textContent = tooltip;\n",
       "};\n",
       "mpl.toolbar_items = [[\"Home\", \"Reset original view\", \"fa fa-home icon-home\", \"home\"], [\"Back\", \"Back to previous view\", \"fa fa-arrow-left icon-arrow-left\", \"back\"], [\"Forward\", \"Forward to next view\", \"fa fa-arrow-right icon-arrow-right\", \"forward\"], [\"\", \"\", \"\", \"\"], [\"Pan\", \"Pan axes with left mouse, zoom with right\", \"fa fa-arrows icon-move\", \"pan\"], [\"Zoom\", \"Zoom to rectangle\", \"fa fa-square-o icon-check-empty\", \"zoom\"], [\"\", \"\", \"\", \"\"], [\"Download\", \"Download plot\", \"fa fa-floppy-o icon-save\", \"download\"]];\n",
       "\n",
       "mpl.extensions = [\"eps\", \"pdf\", \"png\", \"ps\", \"raw\", \"svg\"];\n",
       "\n",
       "mpl.default_extension = \"png\";var comm_websocket_adapter = function(comm) {\n",
       "    // Create a \"websocket\"-like object which calls the given IPython comm\n",
       "    // object with the appropriate methods. Currently this is a non binary\n",
       "    // socket, so there is still some room for performance tuning.\n",
       "    var ws = {};\n",
       "\n",
       "    ws.close = function() {\n",
       "        comm.close()\n",
       "    };\n",
       "    ws.send = function(m) {\n",
       "        //console.log('sending', m);\n",
       "        comm.send(m);\n",
       "    };\n",
       "    // Register the callback with on_msg.\n",
       "    comm.on_msg(function(msg) {\n",
       "        //console.log('receiving', msg['content']['data'], msg);\n",
       "        // Pass the mpl event to the overridden (by mpl) onmessage function.\n",
       "        ws.onmessage(msg['content']['data'])\n",
       "    });\n",
       "    return ws;\n",
       "}\n",
       "\n",
       "mpl.mpl_figure_comm = function(comm, msg) {\n",
       "    // This is the function which gets called when the mpl process\n",
       "    // starts-up an IPython Comm through the \"matplotlib\" channel.\n",
       "\n",
       "    var id = msg.content.data.id;\n",
       "    // Get hold of the div created by the display call when the Comm\n",
       "    // socket was opened in Python.\n",
       "    var element = $(\"#\" + id);\n",
       "    var ws_proxy = comm_websocket_adapter(comm)\n",
       "\n",
       "    function ondownload(figure, format) {\n",
       "        window.open(figure.imageObj.src);\n",
       "    }\n",
       "\n",
       "    var fig = new mpl.figure(id, ws_proxy,\n",
       "                           ondownload,\n",
       "                           element.get(0));\n",
       "\n",
       "    // Call onopen now - mpl needs it, as it is assuming we've passed it a real\n",
       "    // web socket which is closed, not our websocket->open comm proxy.\n",
       "    ws_proxy.onopen();\n",
       "\n",
       "    fig.parent_element = element.get(0);\n",
       "    fig.cell_info = mpl.find_output_cell(\"<div id='\" + id + \"'></div>\");\n",
       "    if (!fig.cell_info) {\n",
       "        console.error(\"Failed to find cell for figure\", id, fig);\n",
       "        return;\n",
       "    }\n",
       "\n",
       "    var output_index = fig.cell_info[2]\n",
       "    var cell = fig.cell_info[0];\n",
       "\n",
       "};\n",
       "\n",
       "mpl.figure.prototype.handle_close = function(fig, msg) {\n",
       "    var width = fig.canvas.width/mpl.ratio\n",
       "    fig.root.unbind('remove')\n",
       "\n",
       "    // Update the output cell to use the data from the current canvas.\n",
       "    fig.push_to_output();\n",
       "    var dataURL = fig.canvas.toDataURL();\n",
       "    // Re-enable the keyboard manager in IPython - without this line, in FF,\n",
       "    // the notebook keyboard shortcuts fail.\n",
       "    IPython.keyboard_manager.enable()\n",
       "    $(fig.parent_element).html('<img src=\"' + dataURL + '\" width=\"' + width + '\">');\n",
       "    fig.close_ws(fig, msg);\n",
       "}\n",
       "\n",
       "mpl.figure.prototype.close_ws = function(fig, msg){\n",
       "    fig.send_message('closing', msg);\n",
       "    // fig.ws.close()\n",
       "}\n",
       "\n",
       "mpl.figure.prototype.push_to_output = function(remove_interactive) {\n",
       "    // Turn the data on the canvas into data in the output cell.\n",
       "    var width = this.canvas.width/mpl.ratio\n",
       "    var dataURL = this.canvas.toDataURL();\n",
       "    this.cell_info[1]['text/html'] = '<img src=\"' + dataURL + '\" width=\"' + width + '\">';\n",
       "}\n",
       "\n",
       "mpl.figure.prototype.updated_canvas_event = function() {\n",
       "    // Tell IPython that the notebook contents must change.\n",
       "    IPython.notebook.set_dirty(true);\n",
       "    this.send_message(\"ack\", {});\n",
       "    var fig = this;\n",
       "    // Wait a second, then push the new image to the DOM so\n",
       "    // that it is saved nicely (might be nice to debounce this).\n",
       "    setTimeout(function () { fig.push_to_output() }, 1000);\n",
       "}\n",
       "\n",
       "mpl.figure.prototype._init_toolbar = function() {\n",
       "    var fig = this;\n",
       "\n",
       "    var nav_element = $('<div/>');\n",
       "    nav_element.attr('style', 'width: 100%');\n",
       "    this.root.append(nav_element);\n",
       "\n",
       "    // Define a callback function for later on.\n",
       "    function toolbar_event(event) {\n",
       "        return fig.toolbar_button_onclick(event['data']);\n",
       "    }\n",
       "    function toolbar_mouse_event(event) {\n",
       "        return fig.toolbar_button_onmouseover(event['data']);\n",
       "    }\n",
       "\n",
       "    for(var toolbar_ind in mpl.toolbar_items){\n",
       "        var name = mpl.toolbar_items[toolbar_ind][0];\n",
       "        var tooltip = mpl.toolbar_items[toolbar_ind][1];\n",
       "        var image = mpl.toolbar_items[toolbar_ind][2];\n",
       "        var method_name = mpl.toolbar_items[toolbar_ind][3];\n",
       "\n",
       "        if (!name) { continue; };\n",
       "\n",
       "        var button = $('<button class=\"btn btn-default\" href=\"#\" title=\"' + name + '\"><i class=\"fa ' + image + ' fa-lg\"></i></button>');\n",
       "        button.click(method_name, toolbar_event);\n",
       "        button.mouseover(tooltip, toolbar_mouse_event);\n",
       "        nav_element.append(button);\n",
       "    }\n",
       "\n",
       "    // Add the status bar.\n",
       "    var status_bar = $('<span class=\"mpl-message\" style=\"text-align:right; float: right;\"/>');\n",
       "    nav_element.append(status_bar);\n",
       "    this.message = status_bar[0];\n",
       "\n",
       "    // Add the close button to the window.\n",
       "    var buttongrp = $('<div class=\"btn-group inline pull-right\"></div>');\n",
       "    var button = $('<button class=\"btn btn-mini btn-primary\" href=\"#\" title=\"Stop Interaction\"><i class=\"fa fa-power-off icon-remove icon-large\"></i></button>');\n",
       "    button.click(function (evt) { fig.handle_close(fig, {}); } );\n",
       "    button.mouseover('Stop Interaction', toolbar_mouse_event);\n",
       "    buttongrp.append(button);\n",
       "    var titlebar = this.root.find($('.ui-dialog-titlebar'));\n",
       "    titlebar.prepend(buttongrp);\n",
       "}\n",
       "\n",
       "mpl.figure.prototype._root_extra_style = function(el){\n",
       "    var fig = this\n",
       "    el.on(\"remove\", function(){\n",
       "\tfig.close_ws(fig, {});\n",
       "    });\n",
       "}\n",
       "\n",
       "mpl.figure.prototype._canvas_extra_style = function(el){\n",
       "    // this is important to make the div 'focusable\n",
       "    el.attr('tabindex', 0)\n",
       "    // reach out to IPython and tell the keyboard manager to turn it's self\n",
       "    // off when our div gets focus\n",
       "\n",
       "    // location in version 3\n",
       "    if (IPython.notebook.keyboard_manager) {\n",
       "        IPython.notebook.keyboard_manager.register_events(el);\n",
       "    }\n",
       "    else {\n",
       "        // location in version 2\n",
       "        IPython.keyboard_manager.register_events(el);\n",
       "    }\n",
       "\n",
       "}\n",
       "\n",
       "mpl.figure.prototype._key_event_extra = function(event, name) {\n",
       "    var manager = IPython.notebook.keyboard_manager;\n",
       "    if (!manager)\n",
       "        manager = IPython.keyboard_manager;\n",
       "\n",
       "    // Check for shift+enter\n",
       "    if (event.shiftKey && event.which == 13) {\n",
       "        this.canvas_div.blur();\n",
       "        // select the cell after this one\n",
       "        var index = IPython.notebook.find_cell_index(this.cell_info[0]);\n",
       "        IPython.notebook.select(index + 1);\n",
       "    }\n",
       "}\n",
       "\n",
       "mpl.figure.prototype.handle_save = function(fig, msg) {\n",
       "    fig.ondownload(fig, null);\n",
       "}\n",
       "\n",
       "\n",
       "mpl.find_output_cell = function(html_output) {\n",
       "    // Return the cell and output element which can be found *uniquely* in the notebook.\n",
       "    // Note - this is a bit hacky, but it is done because the \"notebook_saving.Notebook\"\n",
       "    // IPython event is triggered only after the cells have been serialised, which for\n",
       "    // our purposes (turning an active figure into a static one), is too late.\n",
       "    var cells = IPython.notebook.get_cells();\n",
       "    var ncells = cells.length;\n",
       "    for (var i=0; i<ncells; i++) {\n",
       "        var cell = cells[i];\n",
       "        if (cell.cell_type === 'code'){\n",
       "            for (var j=0; j<cell.output_area.outputs.length; j++) {\n",
       "                var data = cell.output_area.outputs[j];\n",
       "                if (data.data) {\n",
       "                    // IPython >= 3 moved mimebundle to data attribute of output\n",
       "                    data = data.data;\n",
       "                }\n",
       "                if (data['text/html'] == html_output) {\n",
       "                    return [cell, data, j];\n",
       "                }\n",
       "            }\n",
       "        }\n",
       "    }\n",
       "}\n",
       "\n",
       "// Register the function which deals with the matplotlib target/channel.\n",
       "// The kernel may be null if the page has been refreshed.\n",
       "if (IPython.notebook.kernel != null) {\n",
       "    IPython.notebook.kernel.comm_manager.register_target('matplotlib', mpl.mpl_figure_comm);\n",
       "}\n"
      ],
      "text/plain": [
       "<IPython.core.display.Javascript object>"
      ]
     },
     "metadata": {},
     "output_type": "display_data"
    },
    {
     "data": {
      "text/html": [
       "<img src=\"data:image/png;base64,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\" width=\"640\">"
      ],
      "text/plain": [
       "<IPython.core.display.HTML object>"
      ]
     },
     "metadata": {},
     "output_type": "display_data"
    },
    {
     "data": {
      "text/plain": [
       "[<matplotlib.lines.Line2D at 0x7f30ff82db20>]"
      ]
     },
     "execution_count": 35,
     "metadata": {},
     "output_type": "execute_result"
    }
   ],
   "source": [
    "plt.plot([key for key in regimeAmounts.keys()],[val for val in regimeAmounts.values()])"
   ]
  },
  {
   "cell_type": "code",
   "execution_count": 36,
   "metadata": {
    "scrolled": false
   },
   "outputs": [
    {
     "data": {
      "text/plain": [
       "([<matplotlib.axis.XTick at 0x7f310d04c310>,\n",
       "  <matplotlib.axis.XTick at 0x7f310d04c2e0>,\n",
       "  <matplotlib.axis.XTick at 0x7f310d0516a0>,\n",
       "  <matplotlib.axis.XTick at 0x7f310dbd5670>,\n",
       "  <matplotlib.axis.XTick at 0x7f310dbd5b80>,\n",
       "  <matplotlib.axis.XTick at 0x7f310dbca0d0>,\n",
       "  <matplotlib.axis.XTick at 0x7f310dbca5e0>,\n",
       "  <matplotlib.axis.XTick at 0x7f310dbcaaf0>,\n",
       "  <matplotlib.axis.XTick at 0x7f310dbb9040>,\n",
       "  <matplotlib.axis.XTick at 0x7f310dbca7c0>,\n",
       "  <matplotlib.axis.XTick at 0x7f310dbd5850>,\n",
       "  <matplotlib.axis.XTick at 0x7f310dbb9580>,\n",
       "  <matplotlib.axis.XTick at 0x7f310dbb9a90>,\n",
       "  <matplotlib.axis.XTick at 0x7f310dbb9fa0>,\n",
       "  <matplotlib.axis.XTick at 0x7f310dbae4f0>,\n",
       "  <matplotlib.axis.XTick at 0x7f310dbaea00>,\n",
       "  <matplotlib.axis.XTick at 0x7f310dbaef10>,\n",
       "  <matplotlib.axis.XTick at 0x7f310dbb0460>,\n",
       "  <matplotlib.axis.XTick at 0x7f310dbb0970>,\n",
       "  <matplotlib.axis.XTick at 0x7f310dbae250>,\n",
       "  <matplotlib.axis.XTick at 0x7f310ce644f0>,\n",
       "  <matplotlib.axis.XTick at 0x7f310dbb04c0>,\n",
       "  <matplotlib.axis.XTick at 0x7f310dbb0e80>,\n",
       "  <matplotlib.axis.XTick at 0x7f310dbb43d0>,\n",
       "  <matplotlib.axis.XTick at 0x7f310dbb48e0>,\n",
       "  <matplotlib.axis.XTick at 0x7f310dbb4df0>,\n",
       "  <matplotlib.axis.XTick at 0x7f30ff766820>,\n",
       "  <matplotlib.axis.XTick at 0x7f30ff766550>,\n",
       "  <matplotlib.axis.XTick at 0x7f310dbb4a60>,\n",
       "  <matplotlib.axis.XTick at 0x7f310dbb0040>,\n",
       "  <matplotlib.axis.XTick at 0x7f310dbaec70>,\n",
       "  <matplotlib.axis.XTick at 0x7f30ff766ee0>,\n",
       "  <matplotlib.axis.XTick at 0x7f30ff77c310>,\n",
       "  <matplotlib.axis.XTick at 0x7f30ff77c7f0>,\n",
       "  <matplotlib.axis.XTick at 0x7f30ff77cdc0>,\n",
       "  <matplotlib.axis.XTick at 0x7f30ff7740a0>,\n",
       "  <matplotlib.axis.XTick at 0x7f30ff7747f0>,\n",
       "  <matplotlib.axis.XTick at 0x7f30ff774b80>,\n",
       "  <matplotlib.axis.XTick at 0x7f30ff774340>,\n",
       "  <matplotlib.axis.XTick at 0x7f30ff77c4f0>,\n",
       "  <matplotlib.axis.XTick at 0x7f310ce64520>,\n",
       "  <matplotlib.axis.XTick at 0x7f30ff742220>,\n",
       "  <matplotlib.axis.XTick at 0x7f30ff742670>,\n",
       "  <matplotlib.axis.XTick at 0x7f30ff742a00>,\n",
       "  <matplotlib.axis.XTick at 0x7f30ff769190>,\n",
       "  <matplotlib.axis.XTick at 0x7f30ff7696d0>,\n",
       "  <matplotlib.axis.XTick at 0x7f30ff769be0>,\n",
       "  <matplotlib.axis.XTick at 0x7f30ff76f130>,\n",
       "  <matplotlib.axis.XTick at 0x7f30ff7692e0>,\n",
       "  <matplotlib.axis.XTick at 0x7f30ff742070>,\n",
       "  <matplotlib.axis.XTick at 0x7f30ff77cfd0>,\n",
       "  <matplotlib.axis.XTick at 0x7f30ff76f640>,\n",
       "  <matplotlib.axis.XTick at 0x7f30ff76fb50>,\n",
       "  <matplotlib.axis.XTick at 0x7f30ff74e0a0>,\n",
       "  <matplotlib.axis.XTick at 0x7f30ff74e5b0>,\n",
       "  <matplotlib.axis.XTick at 0x7f30ff74eac0>,\n",
       "  <matplotlib.axis.XTick at 0x7f30ff74efd0>,\n",
       "  <matplotlib.axis.XTick at 0x7f30ff74f520>,\n",
       "  <matplotlib.axis.XTick at 0x7f30ff74e220>,\n",
       "  <matplotlib.axis.XTick at 0x7f30ff77cf10>,\n",
       "  <matplotlib.axis.XTick at 0x7f30ff74f5b0>,\n",
       "  <matplotlib.axis.XTick at 0x7f30ff74f9a0>,\n",
       "  <matplotlib.axis.XTick at 0x7f30ff74feb0>,\n",
       "  <matplotlib.axis.XTick at 0x7f30ff757400>,\n",
       "  <matplotlib.axis.XTick at 0x7f30ff757910>,\n",
       "  <matplotlib.axis.XTick at 0x7f30ff757e20>,\n",
       "  <matplotlib.axis.XTick at 0x7f30ff7602b0>,\n",
       "  <matplotlib.axis.XTick at 0x7f30ff757af0>,\n",
       "  <matplotlib.axis.XTick at 0x7f30ff74fa90>,\n",
       "  <matplotlib.axis.XTick at 0x7f30ff74eb20>,\n",
       "  <matplotlib.axis.XTick at 0x7f30ff760a30>,\n",
       "  <matplotlib.axis.XTick at 0x7f30ff764970>,\n",
       "  <matplotlib.axis.XTick at 0x7f30ff764520>,\n",
       "  <matplotlib.axis.XTick at 0x7f30ff764c10>,\n",
       "  <matplotlib.axis.XTick at 0x7f310cb76190>,\n",
       "  <matplotlib.axis.XTick at 0x7f310cb76730>,\n",
       "  <matplotlib.axis.XTick at 0x7f310cb76cd0>,\n",
       "  <matplotlib.axis.XTick at 0x7f30ff764070>,\n",
       "  <matplotlib.axis.XTick at 0x7f30ff7574f0>,\n",
       "  <matplotlib.axis.XTick at 0x7f310cb762b0>,\n",
       "  <matplotlib.axis.XTick at 0x7f310cb6e460>,\n",
       "  <matplotlib.axis.XTick at 0x7f310cb6ea00>,\n",
       "  <matplotlib.axis.XTick at 0x7f310cb6efa0>,\n",
       "  <matplotlib.axis.XTick at 0x7f310cb6b580>,\n",
       "  <matplotlib.axis.XTick at 0x7f310cb6bb20>,\n",
       "  <matplotlib.axis.XTick at 0x7f310cb6a130>,\n",
       "  <matplotlib.axis.XTick at 0x7f310cb6b5e0>,\n",
       "  <matplotlib.axis.XTick at 0x7f310cb6e070>,\n",
       "  <matplotlib.axis.XTick at 0x7f30ff764d60>,\n",
       "  <matplotlib.axis.XTick at 0x7f310cb6a910>,\n",
       "  <matplotlib.axis.XTick at 0x7f310cb6aeb0>,\n",
       "  <matplotlib.axis.XTick at 0x7f310cb65490>,\n",
       "  <matplotlib.axis.XTick at 0x7f310cb65a30>,\n",
       "  <matplotlib.axis.XTick at 0x7f310cb65fd0>,\n",
       "  <matplotlib.axis.XTick at 0x7f310cb985b0>,\n",
       "  <matplotlib.axis.XTick at 0x7f310cb98b50>,\n",
       "  <matplotlib.axis.XTick at 0x7f310cb6e130>,\n",
       "  <matplotlib.axis.XTick at 0x7f310cb6a4c0>,\n",
       "  <matplotlib.axis.XTick at 0x7f30ff74f610>],\n",
       " [Text(0, 0, 'SimOpt_extensive_0'),\n",
       "  Text(0, 0, 'SimOpt_extensive_1'),\n",
       "  Text(0, 0, 'SimOpt_extensive_10'),\n",
       "  Text(0, 0, 'SimOpt_extensive_11'),\n",
       "  Text(0, 0, 'SimOpt_extensive_12'),\n",
       "  Text(0, 0, 'SimOpt_extensive_13'),\n",
       "  Text(0, 0, 'SimOpt_extensive_14'),\n",
       "  Text(0, 0, 'SimOpt_extensive_15'),\n",
       "  Text(0, 0, 'SimOpt_extensive_16'),\n",
       "  Text(0, 0, 'SimOpt_extensive_17'),\n",
       "  Text(0, 0, 'SimOpt_extensive_18'),\n",
       "  Text(0, 0, 'SimOpt_extensive_2'),\n",
       "  Text(0, 0, 'SimOpt_extensive_3'),\n",
       "  Text(0, 0, 'SimOpt_extensive_4'),\n",
       "  Text(0, 0, 'SimOpt_extensive_5'),\n",
       "  Text(0, 0, 'SimOpt_extensive_6'),\n",
       "  Text(0, 0, 'SimOpt_extensive_7'),\n",
       "  Text(0, 0, 'SimOpt_extensive_8'),\n",
       "  Text(0, 0, 'SimOpt_extensive_9'),\n",
       "  Text(0, 0, 'SimOpt_extensive_long_0'),\n",
       "  Text(0, 0, 'SimOpt_extensive_long_1'),\n",
       "  Text(0, 0, 'SimOpt_extensive_long_10'),\n",
       "  Text(0, 0, 'SimOpt_extensive_long_11'),\n",
       "  Text(0, 0, 'SimOpt_extensive_long_12'),\n",
       "  Text(0, 0, 'SimOpt_extensive_long_13'),\n",
       "  Text(0, 0, 'SimOpt_extensive_long_14'),\n",
       "  Text(0, 0, 'SimOpt_extensive_long_15'),\n",
       "  Text(0, 0, 'SimOpt_extensive_long_16'),\n",
       "  Text(0, 0, 'SimOpt_extensive_long_17'),\n",
       "  Text(0, 0, 'SimOpt_extensive_long_18'),\n",
       "  Text(0, 0, 'SimOpt_extensive_long_2'),\n",
       "  Text(0, 0, 'SimOpt_extensive_long_3'),\n",
       "  Text(0, 0, 'SimOpt_extensive_long_4'),\n",
       "  Text(0, 0, 'SimOpt_extensive_long_5'),\n",
       "  Text(0, 0, 'SimOpt_extensive_long_6'),\n",
       "  Text(0, 0, 'SimOpt_extensive_long_7'),\n",
       "  Text(0, 0, 'SimOpt_extensive_long_8'),\n",
       "  Text(0, 0, 'SimOpt_extensive_long_9'),\n",
       "  Text(0, 0, 'SimOpt_no_management_0'),\n",
       "  Text(0, 0, 'SimOpt_int_0'),\n",
       "  Text(0, 0, 'SimOpt_int_short_0'),\n",
       "  Text(0, 0, 'SimOpt_multispecies_0'),\n",
       "  Text(0, 0, 'SimOpt_int_1'),\n",
       "  Text(0, 0, 'SimOpt_int_10'),\n",
       "  Text(0, 0, 'SimOpt_int_11'),\n",
       "  Text(0, 0, 'SimOpt_int_12'),\n",
       "  Text(0, 0, 'SimOpt_int_13'),\n",
       "  Text(0, 0, 'SimOpt_int_14'),\n",
       "  Text(0, 0, 'SimOpt_int_15'),\n",
       "  Text(0, 0, 'SimOpt_int_16'),\n",
       "  Text(0, 0, 'SimOpt_int_17'),\n",
       "  Text(0, 0, 'SimOpt_int_18'),\n",
       "  Text(0, 0, 'SimOpt_int_2'),\n",
       "  Text(0, 0, 'SimOpt_int_3'),\n",
       "  Text(0, 0, 'SimOpt_int_4'),\n",
       "  Text(0, 0, 'SimOpt_int_5'),\n",
       "  Text(0, 0, 'SimOpt_int_6'),\n",
       "  Text(0, 0, 'SimOpt_int_7'),\n",
       "  Text(0, 0, 'SimOpt_int_8'),\n",
       "  Text(0, 0, 'SimOpt_int_9'),\n",
       "  Text(0, 0, 'SimOpt_int_short_1'),\n",
       "  Text(0, 0, 'SimOpt_int_short_10'),\n",
       "  Text(0, 0, 'SimOpt_int_short_11'),\n",
       "  Text(0, 0, 'SimOpt_int_short_12'),\n",
       "  Text(0, 0, 'SimOpt_int_short_13'),\n",
       "  Text(0, 0, 'SimOpt_int_short_14'),\n",
       "  Text(0, 0, 'SimOpt_int_short_15'),\n",
       "  Text(0, 0, 'SimOpt_int_short_16'),\n",
       "  Text(0, 0, 'SimOpt_int_short_17'),\n",
       "  Text(0, 0, 'SimOpt_int_short_18'),\n",
       "  Text(0, 0, 'SimOpt_int_short_2'),\n",
       "  Text(0, 0, 'SimOpt_int_short_3'),\n",
       "  Text(0, 0, 'SimOpt_int_short_4'),\n",
       "  Text(0, 0, 'SimOpt_int_short_5'),\n",
       "  Text(0, 0, 'SimOpt_int_short_6'),\n",
       "  Text(0, 0, 'SimOpt_int_short_7'),\n",
       "  Text(0, 0, 'SimOpt_int_short_8'),\n",
       "  Text(0, 0, 'SimOpt_int_short_9'),\n",
       "  Text(0, 0, 'SimOpt_multispecies_1'),\n",
       "  Text(0, 0, 'SimOpt_multispecies_10'),\n",
       "  Text(0, 0, 'SimOpt_multispecies_11'),\n",
       "  Text(0, 0, 'SimOpt_multispecies_12'),\n",
       "  Text(0, 0, 'SimOpt_multispecies_13'),\n",
       "  Text(0, 0, 'SimOpt_multispecies_14'),\n",
       "  Text(0, 0, 'SimOpt_multispecies_15'),\n",
       "  Text(0, 0, 'SimOpt_multispecies_16'),\n",
       "  Text(0, 0, 'SimOpt_multispecies_17'),\n",
       "  Text(0, 0, 'SimOpt_multispecies_18'),\n",
       "  Text(0, 0, 'SimOpt_multispecies_2'),\n",
       "  Text(0, 0, 'SimOpt_multispecies_3'),\n",
       "  Text(0, 0, 'SimOpt_multispecies_4'),\n",
       "  Text(0, 0, 'SimOpt_multispecies_5'),\n",
       "  Text(0, 0, 'SimOpt_multispecies_6'),\n",
       "  Text(0, 0, 'SimOpt_multispecies_7'),\n",
       "  Text(0, 0, 'SimOpt_multispecies_8'),\n",
       "  Text(0, 0, 'SimOpt_multispecies_9'),\n",
       "  Text(0, 0, 'SimOpt_ccover_0'),\n",
       "  Text(0, 0, 'SimOpt_ccover_1'),\n",
       "  Text(0, 0, 'SimOpt_ccover_2')])"
      ]
     },
     "execution_count": 36,
     "metadata": {},
     "output_type": "execute_result"
    }
   ],
   "source": [
    "plt.bar(range(len(regimeAmounts)), list(regimeAmounts.values()), align='center')\n",
    "plt.xticks(range(len(regimeAmounts)), list(regimeAmounts.keys()),rotation=\"vertical\")"
   ]
  },
  {
   "cell_type": "markdown",
   "metadata": {},
   "source": [
    "## Export data as csv\n",
    "- Solution_alldata contains the optimal regime per stand AND the timely development of indicator values plus all other input columns (represented_are_by_NFIplot, region, NUTS2)\n",
    "- Solution contains only the selected optimal regime and its share (if multiple regimes per stand are selected)"
   ]
  },
  {
   "cell_type": "code",
   "execution_count": 37,
   "metadata": {},
   "outputs": [],
   "source": [
    "try:\n",
    "    os.mkdir(\"results\")\n",
    "except FileExistsError:\n",
    "    pass\n",
    "b = []\n",
    "c = []\n",
    "for key in mfo.regimesDecision.keys():\n",
    "    if mfo.regimesDecision[key].solution_value() > 0:\n",
    "        b = b+ [(key[0],x*5+2012, key[1]) for x in range(0,21)]\n",
    "        c = c+ [(key[0],key[1],mfo.regimesDecision[key].solution_value())]\n",
    "data2b = mfo.data.iloc[mfo.data.index.isin(b)]\n",
    "data2b.to_csv(\"./results/\"+scenario+\"_\"+RCP+\"_data.csv\")\n",
    "c1 = pd.DataFrame(c)\n",
    "c1.to_csv(\"./results/\"+scenario+\"_\"+RCP+\"_solutions.csv\")"
   ]
  },
  {
   "cell_type": "markdown",
   "metadata": {},
   "source": [
    "## Export objective ranges"
   ]
  },
  {
   "cell_type": "markdown",
   "metadata": {},
   "source": [
    "Save as json file"
   ]
  },
  {
   "cell_type": "code",
   "execution_count": 38,
   "metadata": {},
   "outputs": [],
   "source": [
    "import json\n",
    "mfo.objectiveRanges\n",
    "\n",
    "with open('./results/objectiveRanges_'+scenario+'_'+RCP+'.json', 'w') as json_file:\n",
    "  json.dump(mfo.objectiveRanges, json_file)"
   ]
  },
  {
   "cell_type": "markdown",
   "metadata": {},
   "source": [
    "Save as CSV."
   ]
  },
  {
   "cell_type": "code",
   "execution_count": 39,
   "metadata": {},
   "outputs": [],
   "source": [
    "df = pd.read_json('./results/objectiveRanges_'+scenario+'_'+RCP+'.json')\n",
    "\n",
    "df.to_csv('./results/objectiveRanges_'+scenario+'_'+RCP+'.csv')"
   ]
  },
  {
   "cell_type": "markdown",
   "metadata": {},
   "source": [
    "## Export objective values\n",
    "The optimal solution for each objective."
   ]
  },
  {
   "cell_type": "code",
   "execution_count": 40,
   "metadata": {},
   "outputs": [],
   "source": [
    "with open(\"./results/objectiveValues_\"+scenario+\"_\"+RCP+\".csv\",\"w\") as file:\n",
    "    delim = \"\"\n",
    "    for objName in mfo.objectiveTypes.keys():\n",
    "        file.write(delim+objName)\n",
    "        delim = \",\"\n",
    "    file.write(\"\\n\")\n",
    "    delim = \"\"\n",
    "    for objName in mfo.objectiveTypes.keys():\n",
    "        file.write(delim+str(mfo.objective[objName].solution_value()))\n",
    "        delim = \",\"\n",
    "    file.write(\"\\n\")"
   ]
  },
  {
   "cell_type": "code",
   "execution_count": null,
   "metadata": {},
   "outputs": [],
   "source": []
  }
 ],
 "metadata": {
  "kernelspec": {
   "display_name": "Python 3",
   "language": "python",
   "name": "python3"
  },
  "language_info": {
   "codemirror_mode": {
    "name": "ipython",
    "version": 3
   },
   "file_extension": ".py",
   "mimetype": "text/x-python",
   "name": "python",
   "nbconvert_exporter": "python",
   "pygments_lexer": "ipython3",
   "version": "3.8.3"
  }
 },
 "nbformat": 4,
 "nbformat_minor": 2
}
