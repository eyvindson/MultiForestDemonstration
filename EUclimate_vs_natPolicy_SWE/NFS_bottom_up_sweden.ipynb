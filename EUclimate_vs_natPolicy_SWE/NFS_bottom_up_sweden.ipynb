{
 "cells": [
  {
   "cell_type": "markdown",
   "metadata": {},
   "source": [
    "# EU climate change mitigation targets compromise forest ecosystem services and biodiversity\n",
    "\n",
    "## Sweden"
   ]
  },
  {
   "cell_type": "markdown",
   "metadata": {},
   "source": [
    "Above the code cells, there will be instructions how the users should modify the codes in the cells. If there are no instructions, then by default no changes should be needed for the cell."
   ]
  },
  {
   "cell_type": "markdown",
   "metadata": {},
   "source": [
    "## Read the data"
   ]
  },
  {
   "cell_type": "code",
   "execution_count": null,
   "metadata": {},
   "outputs": [],
   "source": [
    "import os\n",
    "import sys\n",
    "module_path = os.path.abspath(os.path.join('..'))\n",
    "if module_path not in sys.path:\n",
    "    sys.path.append(module_path+\"/py_class\")\n",
    "\n",
    "import multiFunctionalOptimizationSwe as MFO"
   ]
  },
  {
   "cell_type": "code",
   "execution_count": null,
   "metadata": {},
   "outputs": [],
   "source": [
    "from importlib import reload\n",
    "reload(MFO)"
   ]
  },
  {
   "cell_type": "markdown",
   "metadata": {},
   "source": [
    "You can choose solver by defining \"solver=XXX\" in the argument. Possible options are \"CPLEX\", \"CLP\" and \"GLOP\""
   ]
  },
  {
   "cell_type": "code",
   "execution_count": null,
   "metadata": {},
   "outputs": [],
   "source": [
    "mfo = MFO.MultiFunctionalOptimization(solver = \"CLP\")"
   ]
  },
  {
   "cell_type": "markdown",
   "metadata": {},
   "source": [
    "Define CC scenario data"
   ]
  },
  {
   "cell_type": "code",
   "execution_count": null,
   "metadata": {},
   "outputs": [],
   "source": [
    "RCP = \"RCP0\"\n",
    "objectives_globiom = 'globiom_RCP0_V1'"
   ]
  },
  {
   "cell_type": "code",
   "execution_count": null,
   "metadata": {},
   "outputs": [],
   "source": [
    "#RCP = \"RCP45\"\n",
    "#objectives_globiom = 'globiom_RCP45_V1'"
   ]
  },
  {
   "cell_type": "markdown",
   "metadata": {},
   "source": [
    "1.5 degrees = RCP0 (no CC), NDC = RCP 4.5"
   ]
  },
  {
   "cell_type": "code",
   "execution_count": null,
   "metadata": {},
   "outputs": [],
   "source": [
    "scenario = \"BAU\""
   ]
  },
  {
   "cell_type": "code",
   "execution_count": null,
   "metadata": {},
   "outputs": [],
   "source": [
    "import wget\n",
    "import os\n",
    "import numpy as np\n",
    "import pandas as pd"
   ]
  },
  {
   "cell_type": "markdown",
   "metadata": {},
   "source": [
    "NoCC:"
   ]
  },
  {
   "cell_type": "code",
   "execution_count": null,
   "metadata": {
    "scrolled": true
   },
   "outputs": [],
   "source": [
    "%%time\n",
    "mfo.readData(\"Sweden_5%_RCP0.zip\",\n",
    "             standsEnu = \"Description\", regimesEnu = [\"ControlCategoryName\", \"AlternativeNo\"], timeEnu = \"period\",\n",
    "             sampleRatio = 1, #If no sample ratio given, the ratio is assumed to be 1\n",
    "             areaCol = \"RepresentedArea\"\n",
    "            )"
   ]
  },
  {
   "cell_type": "markdown",
   "metadata": {},
   "source": [
    "RCP45:"
   ]
  },
  {
   "cell_type": "code",
   "execution_count": null,
   "metadata": {},
   "outputs": [],
   "source": [
    "#%%time\n",
    "#mfo.readData(\"Sweden_5%_RCP45.csv\",\n",
    "#             standsEnu = \"Description\", regimesEnu = [\"ControlCategoryName\", \"AlternativeNo\"], timeEnu = \"period\",\n",
    "#             sampleRatio = 1,\n",
    "#             areaCol = \"RepresentedArea\"\n",
    "#            )"
   ]
  },
  {
   "cell_type": "markdown",
   "metadata": {},
   "source": [
    "Remove forestry regimes connected to intensification:"
   ]
  },
  {
   "cell_type": "code",
   "execution_count": null,
   "metadata": {},
   "outputs": [],
   "source": [
    "indexNames = mfo.data[(mfo.data['ControlCategoryName'] == 'Int_Prod') | (mfo.data['ControlCategoryName'] == 'Int_HybridExotic') | (mfo.data['ControlCategoryName'] == 'Int_Contorta')].index\n",
    "mfo.data.drop(indexNames, inplace = True)"
   ]
  },
  {
   "cell_type": "markdown",
   "metadata": {},
   "source": [
    "Create a column for Pulpfuel i.e. pulp plus firewood"
   ]
  },
  {
   "cell_type": "code",
   "execution_count": null,
   "metadata": {},
   "outputs": [],
   "source": [
    "mfo.data['PulpFuel'] = mfo.data.SumPulpVolumeTotal.values + mfo.data.SumHarvestFuelwoodTotal.values"
   ]
  },
  {
   "cell_type": "markdown",
   "metadata": {},
   "source": [
    "Create column for simulated harvest for globiom optimisation"
   ]
  },
  {
   "cell_type": "code",
   "execution_count": null,
   "metadata": {},
   "outputs": [],
   "source": [
    "mfo.data['SimulatedSAWlog'] = mfo.data.SumTimberVolumeTotal.values/5"
   ]
  },
  {
   "cell_type": "code",
   "execution_count": null,
   "metadata": {},
   "outputs": [],
   "source": [
    "mfo.data['SimulatedResidue'] = mfo.data.SumHarvestResiduesTotal.values/5"
   ]
  },
  {
   "cell_type": "code",
   "execution_count": null,
   "metadata": {},
   "outputs": [],
   "source": [
    "mfo.data['SimulatedPulPFuel'] = mfo.data.PulpFuel.values/5"
   ]
  },
  {
   "cell_type": "markdown",
   "metadata": {},
   "source": [
    "Create a new column for old decidious forest: older than 80 years and more than 30% deciduous"
   ]
  },
  {
   "cell_type": "code",
   "execution_count": null,
   "metadata": {},
   "outputs": [],
   "source": [
    "mfo.data['DeciduousRatio'] = mfo.data.VolumeDecidous.values/mfo.data.StandingVolume.values"
   ]
  },
  {
   "cell_type": "code",
   "execution_count": null,
   "metadata": {},
   "outputs": [],
   "source": [
    "mfo.data[\"old_deciduous_rich_forest_area\"] = (mfo.data['DeciduousRatio'].values>0.3)*(mfo.data[\"Age\"].values>80)*mfo.data[\"RepresentedArea\"].values"
   ]
  },
  {
   "cell_type": "markdown",
   "metadata": {},
   "source": [
    "Create bolean indicator for set asides to calculate share of forest set aside from management"
   ]
  },
  {
   "cell_type": "code",
   "execution_count": null,
   "metadata": {},
   "outputs": [],
   "source": [
    "mfo.data['SetAside'] = np.where(mfo.data.ControlCategoryName == 'SetAside (Unmanaged)',True,False)"
   ]
  },
  {
   "cell_type": "markdown",
   "metadata": {},
   "source": [
    "Create periodic increment on managed land to be used in the constraints section further down"
   ]
  },
  {
   "cell_type": "code",
   "execution_count": null,
   "metadata": {},
   "outputs": [],
   "source": [
    "mfo.data['managed'] = np.where(mfo.data.ControlCategoryName == 'SetAside (Unmanaged)',False,True)"
   ]
  },
  {
   "cell_type": "markdown",
   "metadata": {},
   "source": [
    "Create an upper and lower limit for harvest volumes: 90-110% of the periodic increment"
   ]
  },
  {
   "cell_type": "code",
   "execution_count": null,
   "metadata": {},
   "outputs": [],
   "source": [
    "mfo.data['110%_of_periodic_increment_managed'] = mfo.data.AnnualIncrementNetTotal.values*5*mfo.data.managed.values*1.1\n",
    "mfo.data['90%_of_periodic_increment_managed'] = mfo.data.AnnualIncrementNetTotal.values*5*mfo.data.managed.values*0.9"
   ]
  },
  {
   "cell_type": "markdown",
   "metadata": {},
   "source": [
    "Manual calculation of Total values:"
   ]
  },
  {
   "cell_type": "code",
   "execution_count": null,
   "metadata": {},
   "outputs": [],
   "source": [
    "mfo.data[\"Total_VolumeDeciduous\"] = mfo.data[\"VolumeDecidous\"] * mfo.data[\"RepresentedArea\"]\n",
    "mfo.data[\"Total_DeadWoodVolume\"] = mfo.data[\"DeadWoodVolume\"] * mfo.data[\"RepresentedArea\"]\n",
    "mfo.data[\"Total_RecreationIndex\"] = mfo.data[\"RecreationIndex\"] * mfo.data[\"RepresentedArea\"]\n",
    "mfo.data[\"Total_TotalCarbon\"] = mfo.data[\"TotalCarbon\"] * mfo.data[\"RepresentedArea\"]"
   ]
  },
  {
   "cell_type": "markdown",
   "metadata": {},
   "source": [
    "## Finalise data:"
   ]
  },
  {
   "cell_type": "code",
   "execution_count": null,
   "metadata": {},
   "outputs": [],
   "source": [
    "mfo.finalizeData(initialTime=0, initialRegime=\"ControlCategoryNameInitial state_AlternativeNo1\")"
   ]
  },
  {
   "cell_type": "markdown",
   "metadata": {},
   "source": [
    "## GLOBIOM demands VERSION 1\n",
    "E.g., used for \"bottom up\" approach, on top of national scenario optimizations, no assortment transfer possible."
   ]
  },
  {
   "cell_type": "code",
   "execution_count": null,
   "metadata": {},
   "outputs": [],
   "source": [
    "# --------------\n",
    "# 1.5 degree scenario; matches with RCP0 (no CC)\n",
    "# --------------\n",
    "\n",
    "if objectives_globiom == 'globiom_RCP0_V1':\n",
    "    \n",
    "    # read the csv with the globiom demands \n",
    "    # data was created in R (package \"zoo\")to extend the time series of globiom that they match with each simulation step\n",
    "    demands1p5 = pd.read_csv(\"G1p5_5%.csv\") \n",
    "\n",
    "    # extract individual columns and turn them into a list that goes into the objective problem\n",
    "    sawlog1p5 = demands1p5[\"GSawlog_uB\"]\n",
    "    sawlog1p5 = sawlog1p5.to_list()\n",
    "    \n",
    "    pulpfuel1p5 = demands1p5[\"GPulpFuel_uB\"]\n",
    "    pulpfuel1p5 = pulpfuel1p5.to_list()\n",
    "\n",
    "    residues1p5 = demands1p5[\"GResidues\"]\n",
    "    residues1p5 = residues1p5.to_list()\n",
    "    \n",
    "    GLOBdemand_RCP0 = {\n",
    "        \n",
    "    # Maximize Sawlog according to GLOBIOM demand at RCP1.5 scenario\n",
    "    \"GSawlog_RCP0\":(\"Sawlog harvest levels according to GLOBIOM at RCP0\",\n",
    "                    \"SimulatedSAWlog\",\"max\",\"periodicTargets\",\"areaWeightedSum\", sawlog1p5),\n",
    "        \n",
    "    # Maximize pulp wood according to GLOBIOM demand at RCP1.5 scenario\n",
    "    \"GPulpFuel_RCP0\":(\"Pulp harvest levels according to GLOBIOM at RCP0\",\n",
    "                      \"SimulatedPulPFuel\",\"max\",\"periodicTargets\",\"areaWeightedSum\", pulpfuel1p5),\n",
    "        \n",
    "    # Maximize residues according to GLOBIOM demand at RCP1.5 scenario\n",
    "    \"GResidues_RCP0\":(\"Residues levels according to GLOBIOM at RCP0\",\n",
    "                       \"SimulatedResidue\",\"max\",\"periodicTargets\",\"areaWeightedSum\", residues1p5)\n",
    "        \n",
    "    }\n",
    "    \n",
    "    print(\"used RCP0\") \n",
    "    \n",
    "elif objectives_globiom == 'globiom_RCP45_V1':\n",
    "    \n",
    "    demands4p5 = pd.read_csv(\"G4p5_5%.csv\") \n",
    "\n",
    "    sawlog4p5 = demands4p5[\"GSawlog_uB\"]\n",
    "    sawlog4p5 = sawlog4p5.to_list()\n",
    "    \n",
    "    pulpfuel4p5 = demands4p5[\"GPulpFuel_uB\"]\n",
    "    pulpfuel4p5 = pulpfuel4p5.to_list()\n",
    "\n",
    "    residues4p5 = demands4p5[\"GResidues\"]\n",
    "    residues4p5 = residues4p5.to_list()\n",
    "    \n",
    "    GLOBdemand_RCP45 = {\n",
    "        \n",
    "    # Maximize Sawlog according to GLOBIOM demand at RCP4.5 scenario\n",
    "    \"GSawlog_RCP45\":(\"Sawlog harvest levels according to GLOBIOM at RCP4.5\",\n",
    "                     \"SimulatedSAWlog\",\"max\",\"periodicTargets\",\"areaWeightedSum\", sawlog4p5),\n",
    "        \n",
    "    # Maximize pulp wood according to GLOBIOM demand at RCP4.5 scenario\n",
    "    \"GPulpFuel_RCP45\":(\"PulpFuel harvest levels according to GLOBIOM at RCP4.5\",\n",
    "                       \"SimulatedPulPFuel\",\"max\",\"periodicTargets\",\"areaWeightedSum\", pulpfuel4p5),\n",
    "   \n",
    "    # Maximize residues according to GLOBIOM demand at RCP4.5 scenario\n",
    "    \"GResidues_RCP45\":(\"Residues levels according to GLOBIOM at RCP4.5\",\n",
    "                       \"SimulatedResidue\",\"max\",\"periodicTargets\",\"areaWeightedSum\", residues4p5)\n",
    "    \n",
    "    }\n",
    "    print(\"used RCP45\")\n",
    "\n",
    "else:\n",
    "    globiom = {}\n",
    "    print(\"no demands considered\")"
   ]
  },
  {
   "cell_type": "markdown",
   "metadata": {},
   "source": [
    "## Start defining the optimization problem"
   ]
  },
  {
   "cell_type": "markdown",
   "metadata": {},
   "source": [
    "#### Define objectives"
   ]
  },
  {
   "cell_type": "markdown",
   "metadata": {},
   "source": [
    "Objective format: Unique_key : (Long human readable name,column name in data, max/min objective, year wise aggregation, stand wise aggregation [, target year])\n",
    "\n",
    "Options for \"objective\": \"max\"imise or \"min\"imise it\n",
    "year wise aggregation: \"min\" (minimum value), \"average\", \"firstYear\", \"sum\", \"targetYearWithSlope\",\"targetYear\"\n",
    "stand wise aggregation: \"sum\", \"areaWeightedAverage\", \"areaWeightedSum\"\n",
    "targe yeart: any year except the first one"
   ]
  },
  {
   "cell_type": "markdown",
   "metadata": {},
   "source": [
    "Objective dictionary structure: \"Unique short name\":(\"Long human readable name\",\"column name in the data\")"
   ]
  },
  {
   "cell_type": "code",
   "execution_count": null,
   "metadata": {},
   "outputs": [],
   "source": [
    "Wood = {\n",
    "\"NetPresentValue\":(\"Total sum net present value of cut forest\",\"NPV\",\"max\",\"firstYear\",\"areaWeightedSum\"),\n",
    "\"HarvestEvenFlow\":(\"Average harvest\",\"SumVolumeCutTotal\",\"max\",\"min\",\"areaWeightedAverage\")\n",
    "}"
   ]
  },
  {
   "cell_type": "code",
   "execution_count": null,
   "metadata": {},
   "outputs": [],
   "source": [
    "Recreation = { \n",
    "\"RecreationIndex\":(\"No decrease in recreation index\",\"Relative_Total_RecreationIndex\",\"max\",\"min\",\"sum\")\n",
    "}"
   ]
  },
  {
   "cell_type": "code",
   "execution_count": null,
   "metadata": {},
   "outputs": [],
   "source": [
    "Climate = { \n",
    "\"TotalCarbon\":(\"No decrease carbon stocks\",\"Relative_Total_TotalCarbon\",\"max\",\"min\",\"sum\")\n",
    "}"
   ]
  },
  {
   "cell_type": "code",
   "execution_count": null,
   "metadata": {},
   "outputs": [],
   "source": [
    "Biodiversity = {\n",
    "\"DeadWoodVolume\":(\"No decrease in deadwood volume\",\"Relative_Total_DeadWoodVolume\",\"max\",\"min\",\"sum\"),  \n",
    "\"OldDeciduous\":(\"No decrease in old deciduous area\",\"Relative_old_deciduous_rich_forest_area\",\"max\",\"min\",\"sum\"),\n",
    "\"SetAside\":(\"Share of set aside forest\",\"SetAside\",\"max\",\"firstYear\",\"areaWeightedAverage\")\n",
    "}"
   ]
  },
  {
   "cell_type": "code",
   "execution_count": null,
   "metadata": {},
   "outputs": [],
   "source": [
    "Resilience = {\n",
    "\"DeciduousVolume\":(\"No decrease in volume deciduous trees\",\"Relative_Total_VolumeDeciduous\",\"max\",\"min\",\"sum\")\n",
    "}"
   ]
  },
  {
   "cell_type": "code",
   "execution_count": null,
   "metadata": {},
   "outputs": [],
   "source": [
    "# OBS! Switch to correct Globiom demand here!!!!!!!!!!!!!!!!!!!!!!!!!!!!\n",
    "objectives = {\n",
    "    **GLOBdemand_RCP0,\n",
    "    #**GLOBdemand_RCP45, \n",
    "    **Wood,\n",
    "    **Recreation,\n",
    "    **Climate,\n",
    "    **Biodiversity,\n",
    "    **Resilience\n",
    "}"
   ]
  },
  {
   "cell_type": "code",
   "execution_count": null,
   "metadata": {
    "scrolled": true
   },
   "outputs": [],
   "source": [
    "mfo.defineObjectives(objectives)"
   ]
  },
  {
   "cell_type": "markdown",
   "metadata": {},
   "source": [
    "#### Define constraints"
   ]
  },
  {
   "cell_type": "code",
   "execution_count": null,
   "metadata": {},
   "outputs": [],
   "source": [
    "constraints = {\n",
    "\"HarvestGrowth_upper\":[\"less than\", \"Each period maximally 110% of the growth is harvested\",\"SumVolumeCutTotal\",\"areaWeightedSum\",\"110%_of_periodic_increment_managed\",\"areaWeightedSum\"],\n",
    "\"HarvestGrowth_lower\":[\"less than\", \"Each period minimally 90% of the growth is harvested\",\"90%_of_periodic_increment_managed\",\"areaWeightedSum\",\"SumVolumeCutTotal\",\"areaWeightedSum\"]\n",
    "}"
   ]
  },
  {
   "cell_type": "code",
   "execution_count": null,
   "metadata": {},
   "outputs": [],
   "source": [
    "mfo.defineConstraints(constraints)"
   ]
  },
  {
   "cell_type": "markdown",
   "metadata": {},
   "source": [
    "## Calculate objective ranges"
   ]
  },
  {
   "cell_type": "code",
   "execution_count": null,
   "metadata": {
    "scrolled": true
   },
   "outputs": [],
   "source": [
    "%%time\n",
    "mfo.calculateObjectiveRanges()"
   ]
  },
  {
   "cell_type": "code",
   "execution_count": null,
   "metadata": {},
   "outputs": [],
   "source": [
    "mfo.objectiveRanges"
   ]
  },
  {
   "cell_type": "markdown",
   "metadata": {},
   "source": [
    "## Export the objetive ranges\n",
    "\n",
    "Can save re-calculation times if big data sets are optimised"
   ]
  },
  {
   "cell_type": "code",
   "execution_count": null,
   "metadata": {},
   "outputs": [],
   "source": [
    "import json\n",
    "mfo.objectiveRanges\n",
    "\n",
    "with open(\"objectiveRanges_V1_\"+RCP+\"_\"+scenario+\".json\", \"w\") as json_file:\n",
    "    json.dump(mfo.objectiveRanges, json_file)"
   ]
  },
  {
   "cell_type": "markdown",
   "metadata": {},
   "source": [
    "Save the objectives ranges also as CSV"
   ]
  },
  {
   "cell_type": "code",
   "execution_count": null,
   "metadata": {},
   "outputs": [],
   "source": [
    "import pandas\n",
    "df = pandas.read_json(\"objectiveRanges_V1_\"+RCP+\"_\"+scenario+\".json\")\n",
    "df.to_csv(\"objectiveRanges_V1_\"+RCP+\"_\"+scenario+\".csv\")"
   ]
  },
  {
   "cell_type": "markdown",
   "metadata": {},
   "source": [
    "## Show the GUI"
   ]
  },
  {
   "cell_type": "code",
   "execution_count": null,
   "metadata": {
    "scrolled": false
   },
   "outputs": [],
   "source": [
    "mfo.showGUI(debug=True)"
   ]
  },
  {
   "cell_type": "markdown",
   "metadata": {},
   "source": [
    "## Export solution data as csv"
   ]
  },
  {
   "cell_type": "code",
   "execution_count": null,
   "metadata": {},
   "outputs": [],
   "source": [
    "import os\n",
    "\n",
    "b = []\n",
    "c = []\n",
    "for key in mfo.regimesDecision.keys():\n",
    "    if mfo.regimesDecision[key].solution_value() > 0:\n",
    "        b = b+ [(key[0],x, key[1]) for x in range(0,21)]\n",
    "        c = c+ [(key[0],key[1],mfo.regimesDecision[key].solution_value())]\n",
    "data2b = mfo.data.iloc[mfo.data.index.isin(b)]\n",
    "data2b.to_csv(\"solution_alldata_V1_\"+RCP+\"_\"+scenario+\"_data.csv\")\n",
    "c1 = pd.DataFrame(c)\n",
    "c1.to_csv(\"solution_V1_\"+RCP+\"_\"+scenario+\"_solutions.csv\")"
   ]
  },
  {
   "cell_type": "markdown",
   "metadata": {},
   "source": [
    "## Export objective values\n",
    "\n",
    "The optimal solution for each objective."
   ]
  },
  {
   "cell_type": "code",
   "execution_count": null,
   "metadata": {},
   "outputs": [],
   "source": [
    "with open(\"objectiveValues_V1_\"+scenario+'_'+RCP+\".csv\",\"w\") as file: \n",
    "    delim = \"\" \n",
    "    for objName in mfo.objectiveTypes.keys(): \n",
    "        file.write(delim+objName) \n",
    "        delim = \",\" \n",
    "    file.write(\"\\n\") \n",
    "    delim = \"\" \n",
    "    for objName in mfo.objectiveTypes.keys(): \n",
    "        file.write(delim+str(mfo.objective[objName].solution_value())) \n",
    "        delim = \",\" \n",
    "    file.write(\"\\n\")"
   ]
  }
 ],
 "metadata": {
  "kernelspec": {
   "display_name": "Python 3",
   "language": "python",
   "name": "python3"
  },
  "language_info": {
   "codemirror_mode": {
    "name": "ipython",
    "version": 3
   },
   "file_extension": ".py",
   "mimetype": "text/x-python",
   "name": "python",
   "nbconvert_exporter": "python",
   "pygments_lexer": "ipython3",
   "version": "3.8.3"
  }
 },
 "nbformat": 4,
 "nbformat_minor": 2
}
