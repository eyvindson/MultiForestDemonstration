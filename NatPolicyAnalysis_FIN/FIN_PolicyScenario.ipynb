{
 "cells": [
  {
   "cell_type": "markdown",
   "metadata": {},
   "source": [
    "# MultiForest optimization notebook\n",
    "\n",
    "## FINLAND - national policy scenario optimization"
   ]
  },
  {
   "cell_type": "markdown",
   "metadata": {},
   "source": [
    "Above the code cells, there are short instructions how the users can modify the codes in the cells.<br>\n",
    "If there are no instructions, no changes should be needed for the cell by default.\n",
    "\n",
    "A detailed description is provided in the <b>README.md</b>."
   ]
  },
  {
   "cell_type": "markdown",
   "metadata": {},
   "source": [
    "## Basic definitions"
   ]
  },
  {
   "cell_type": "markdown",
   "metadata": {},
   "source": [
    "Simulated forest data (climate scenario and name); sample size of data "
   ]
  },
  {
   "cell_type": "code",
   "execution_count": 2,
   "metadata": {},
   "outputs": [],
   "source": [
    "RCP = \"RCP0\" # no climate change\n",
    "filename = \"rslt_\"+RCP+\"_CentralFinland.zip\" # Test data from Central Finland with 2925 forest stands"
   ]
  },
  {
   "cell_type": "markdown",
   "metadata": {},
   "source": [
    "Specify policy scenario: \n",
    "* \"NFS\" - National Forest Strategy\n",
    "* \"BDS\" - Biodiversity Strategy\n",
    "* \"BES\" - Bioeconomy Strategy"
   ]
  },
  {
   "cell_type": "code",
   "execution_count": 3,
   "metadata": {},
   "outputs": [],
   "source": [
    "scenario = \"BES\" "
   ]
  },
  {
   "cell_type": "markdown",
   "metadata": {},
   "source": [
    "Name definition for saved output, rule: _scenario_RCP_extension"
   ]
  },
  {
   "cell_type": "code",
   "execution_count": 4,
   "metadata": {},
   "outputs": [],
   "source": [
    "extension = \"test\" # some additional info to the saved output "
   ]
  },
  {
   "cell_type": "markdown",
   "metadata": {},
   "source": [
    "## Read .py class"
   ]
  },
  {
   "cell_type": "code",
   "execution_count": 5,
   "metadata": {},
   "outputs": [],
   "source": [
    "import wget\n",
    "import os\n",
    "import pandas as pd\n",
    "import sys"
   ]
  },
  {
   "cell_type": "code",
   "execution_count": 6,
   "metadata": {},
   "outputs": [],
   "source": [
    "module_path = os.path.abspath(os.path.join('..'))\n",
    "if module_path not in sys.path:\n",
    "    sys.path.append(module_path+\"/py_class\")\n",
    "\n",
    "import multiFunctionalOptimization as MFO"
   ]
  },
  {
   "cell_type": "code",
   "execution_count": 7,
   "metadata": {},
   "outputs": [
    {
     "data": {
      "text/plain": [
       "<module 'multiFunctionalOptimization' from '/home/ubuntu/workspace/mf_optimization_demo/py_class/multiFunctionalOptimization.py'>"
      ]
     },
     "execution_count": 7,
     "metadata": {},
     "output_type": "execute_result"
    }
   ],
   "source": [
    "from importlib import reload\n",
    "reload(MFO)"
   ]
  },
  {
   "cell_type": "markdown",
   "metadata": {},
   "source": [
    "If no solver is specified, the open source solver CLP is used"
   ]
  },
  {
   "cell_type": "code",
   "execution_count": 8,
   "metadata": {},
   "outputs": [
    {
     "data": {
      "text/plain": [
       "'Using CPLEX'"
      ]
     },
     "metadata": {},
     "output_type": "display_data"
    }
   ],
   "source": [
    "mfo = MFO.MultiFunctionalOptimization(solver = 'CPLEX') "
   ]
  },
  {
   "cell_type": "markdown",
   "metadata": {},
   "source": [
    "## Read data"
   ]
  },
  {
   "cell_type": "code",
   "execution_count": 9,
   "metadata": {},
   "outputs": [
    {
     "data": {
      "text/plain": [
       "'sample size 1789/3579(49%)'"
      ]
     },
     "metadata": {},
     "output_type": "display_data"
    },
    {
     "name": "stdout",
     "output_type": "stream",
     "text": [
      "CPU times: user 4.73 s, sys: 1.5 s, total: 6.23 s\n",
      "Wall time: 6.23 s\n"
     ]
    }
   ],
   "source": [
    "%%time\n",
    "mfo.readData(filename,\n",
    "             sampleRatio=0.5 #If no sample ratio given, the ratio is assumed to be 1.\n",
    "            )                "
   ]
  },
  {
   "cell_type": "markdown",
   "metadata": {},
   "source": [
    "## Create some new variables in the data"
   ]
  },
  {
   "cell_type": "markdown",
   "metadata": {},
   "source": [
    "Calculate total (per stand) values from relative values:\n",
    "* \"Relative to Area\" = simulated indicator value relate to one hectar -> scaled to represented area of NFI plot <br>\n",
    "* (\"Relative to volume\" = indicator relates to standing Volume -> scaled to the represented volume of the plot) <br>\n",
    "* (\"Absolute Value\" = takes the inticator value as it is)"
   ]
  },
  {
   "cell_type": "code",
   "execution_count": 10,
   "metadata": {},
   "outputs": [],
   "source": [
    "columnTypes = {\n",
    "    'i_Vm3':(float,\"Relative to Area\"),\n",
    "    'Harvested_V':(float,\"Relative to Area\"),\n",
    "    'Harvested_V_log_under_bark':(float,\"Relative to Area\"), \n",
    "    'Harvested_V_pulp_under_bark':(float,\"Relative to Area\"),\n",
    "    'Harvested_V_under_bark':(float,\"Relative to Area\"), \n",
    "    'Biomass':(float,\"Relative to Area\"),\n",
    "    'ALL_MARKETED_MUSHROOMS':(float,\"Relative to Area\"), \n",
    "    'BILBERRY':(float,\"Relative to Area\"), \n",
    "    'COWBERRY':(float,\"Relative to Area\"),\n",
    "    'HSI_MOOSE':(float,\"Relative to Area\"),\n",
    "    'CAPERCAILLIE':(float,\"Relative to Area\"), \n",
    "    'HAZEL_GROUSE':(float,\"Relative to Area\"), \n",
    "    'V_total_deadwood':(float,\"Relative to Area\"), \n",
    "    'N_where_D_gt_40':(float,\"Relative to Area\"),\n",
    "    'prc_V_deciduous':(float,\"Relative to Area\"),\n",
    "    'CARBON_SINK':(float,\"Relative to Area\"), \n",
    "    'Recreation':(float,\"Relative to Area\"),\n",
    "    'Scenic':(float,\"Relative to Area\")\n",
    "}"
   ]
  },
  {
   "cell_type": "code",
   "execution_count": 11,
   "metadata": {},
   "outputs": [],
   "source": [
    "mfo.calculateTotalValuesFromRelativeValues(columnTypes=columnTypes)"
   ]
  },
  {
   "cell_type": "markdown",
   "metadata": {},
   "source": [
    "List the new created columns: <br>\n",
    "* Total_... hectare value multiplied by represented area (or volume)"
   ]
  },
  {
   "cell_type": "code",
   "execution_count": 12,
   "metadata": {},
   "outputs": [
    {
     "data": {
      "text/plain": [
       "['Total_i_Vm3',\n",
       " 'Total_Harvested_V',\n",
       " 'Total_Harvested_V_log_under_bark',\n",
       " 'Total_Harvested_V_pulp_under_bark',\n",
       " 'Total_Harvested_V_under_bark',\n",
       " 'Total_Biomass',\n",
       " 'Total_ALL_MARKETED_MUSHROOMS',\n",
       " 'Total_BILBERRY',\n",
       " 'Total_COWBERRY',\n",
       " 'Total_HSI_MOOSE',\n",
       " 'Total_CAPERCAILLIE',\n",
       " 'Total_HAZEL_GROUSE',\n",
       " 'Total_V_total_deadwood',\n",
       " 'Total_N_where_D_gt_40',\n",
       " 'Total_prc_V_deciduous',\n",
       " 'Total_CARBON_SINK',\n",
       " 'Total_Recreation',\n",
       " 'Total_Scenic']"
      ]
     },
     "execution_count": 12,
     "metadata": {},
     "output_type": "execute_result"
    }
   ],
   "source": [
    "[name for name in mfo.data.columns if \"Total_\" in name and \"Relative\" not in name]"
   ]
  },
  {
   "cell_type": "markdown",
   "metadata": {},
   "source": [
    "## Create new column\n",
    "1) Column indicating if regime is \"CCF_3, CCF_4, BAUwGTR\" (TRUE/FLASE) <br>\n",
    "Important for FES Biodiversity, allowed regimes for conservation sites.\n",
    "\n",
    "2) Column indicating if regime is \"SA\" (TRUE/FALSE)<br>\n",
    "Important for FES Biodiversity, allowed regimes for statutory protection sites.\n",
    "\n",
    "3) Column indicating if regime is \"BAUwT_B, BAUwT_5_B, BAUwT_15_B, BAUwT_30_B, BAUwT_GTR_B\" <br>\n",
    "Important for FES Resillience, allowed regimes for climate change adaption."
   ]
  },
  {
   "cell_type": "code",
   "execution_count": 13,
   "metadata": {},
   "outputs": [],
   "source": [
    "regimeClassNames = {\"regimeClass0name\":\"CCF\",\"regimeClass1name\":\"SA\",\"regimeClass2name\":\"Broadleave\"}\n",
    "regimeClassregimes = {\"regimeClass0regimes\":[\"CCF_3\",\"CCF_4\",\"BAUwGTR\"],\"regimeClass1regimes\":[\"SA\"],\"regimeClass2regimes\":[\"BAUwT_B\", \"BAUwT_5_B\", \"BAUwT_15_B\", \"BAUwT_30_B\", \"BAUwT_GTR_B\"]}"
   ]
  },
  {
   "cell_type": "code",
   "execution_count": 14,
   "metadata": {},
   "outputs": [],
   "source": [
    "mfo.addRegimeClassifications(regimeClassNames = regimeClassNames,regimeClassregimes=regimeClassregimes)"
   ]
  },
  {
   "cell_type": "markdown",
   "metadata": {},
   "source": [
    "## Define initial value\n",
    "1) Define initial values, recognized by the regime \"initial_state\", which only occurs at the first year (here 2016)\n",
    "\n",
    "2) Create new variables that describe the <b>relative change to initial situation (start year) \"Relative_\"</b>:"
   ]
  },
  {
   "cell_type": "code",
   "execution_count": 15,
   "metadata": {},
   "outputs": [],
   "source": [
    "mfo.finalizeData(initialRegime=\"initial_state\")"
   ]
  },
  {
   "cell_type": "markdown",
   "metadata": {},
   "source": [
    "New variables created:"
   ]
  },
  {
   "cell_type": "code",
   "execution_count": 16,
   "metadata": {},
   "outputs": [
    {
     "data": {
      "text/plain": [
       "['Relative_V',\n",
       " 'Relative_Age',\n",
       " 'Relative_AGE_ba',\n",
       " 'Relative_ALL_MARKETED_MUSHROOMS',\n",
       " 'Relative_BILBERRY',\n",
       " 'Relative_COWBERRY',\n",
       " 'Relative_HSI_MOOSE',\n",
       " 'Relative_CAPERCAILLIE',\n",
       " 'Relative_HAZEL_GROUSE',\n",
       " 'Relative_V_total_deadwood',\n",
       " 'Relative_N_where_D_gt_40',\n",
       " 'Relative_prc_V_deciduous',\n",
       " 'Relative_CARBON_STORAGE_Update',\n",
       " 'Relative_Recreation',\n",
       " 'Relative_Scenic',\n",
       " 'Relative_Total_ALL_MARKETED_MUSHROOMS',\n",
       " 'Relative_Total_BILBERRY',\n",
       " 'Relative_Total_COWBERRY',\n",
       " 'Relative_Total_HSI_MOOSE',\n",
       " 'Relative_Total_CAPERCAILLIE',\n",
       " 'Relative_Total_HAZEL_GROUSE',\n",
       " 'Relative_Total_V_total_deadwood',\n",
       " 'Relative_Total_N_where_D_gt_40',\n",
       " 'Relative_Total_prc_V_deciduous',\n",
       " 'Relative_Total_Recreation',\n",
       " 'Relative_Total_Scenic']"
      ]
     },
     "execution_count": 16,
     "metadata": {},
     "output_type": "execute_result"
    }
   ],
   "source": [
    "[name for name in mfo.data.columns if \"Relative_\" in name]"
   ]
  },
  {
   "cell_type": "code",
   "execution_count": 17,
   "metadata": {},
   "outputs": [
    {
     "data": {
      "text/html": [
       "<div>\n",
       "<style scoped>\n",
       "    .dataframe tbody tr th:only-of-type {\n",
       "        vertical-align: middle;\n",
       "    }\n",
       "\n",
       "    .dataframe tbody tr th {\n",
       "        vertical-align: top;\n",
       "    }\n",
       "\n",
       "    .dataframe thead th {\n",
       "        text-align: right;\n",
       "    }\n",
       "</style>\n",
       "<table border=\"1\" class=\"dataframe\">\n",
       "  <thead>\n",
       "    <tr style=\"text-align: right;\">\n",
       "      <th></th>\n",
       "      <th></th>\n",
       "      <th></th>\n",
       "      <th>V</th>\n",
       "      <th>i_Vm3</th>\n",
       "      <th>Harvested_V</th>\n",
       "      <th>Harvested_V_log_under_bark</th>\n",
       "      <th>Harvested_V_pulp_under_bark</th>\n",
       "      <th>Harvested_V_under_bark</th>\n",
       "      <th>MAIN_SP</th>\n",
       "      <th>Age</th>\n",
       "      <th>AGE_ba</th>\n",
       "      <th>SC</th>\n",
       "      <th>...</th>\n",
       "      <th>Relative_Total_BILBERRY</th>\n",
       "      <th>Relative_Total_COWBERRY</th>\n",
       "      <th>Relative_Total_HSI_MOOSE</th>\n",
       "      <th>Relative_Total_CAPERCAILLIE</th>\n",
       "      <th>Relative_Total_HAZEL_GROUSE</th>\n",
       "      <th>Relative_Total_V_total_deadwood</th>\n",
       "      <th>Relative_Total_N_where_D_gt_40</th>\n",
       "      <th>Relative_Total_prc_V_deciduous</th>\n",
       "      <th>Relative_Total_Recreation</th>\n",
       "      <th>Relative_Total_Scenic</th>\n",
       "    </tr>\n",
       "    <tr>\n",
       "      <th>id</th>\n",
       "      <th>year</th>\n",
       "      <th>regime</th>\n",
       "      <th></th>\n",
       "      <th></th>\n",
       "      <th></th>\n",
       "      <th></th>\n",
       "      <th></th>\n",
       "      <th></th>\n",
       "      <th></th>\n",
       "      <th></th>\n",
       "      <th></th>\n",
       "      <th></th>\n",
       "      <th></th>\n",
       "      <th></th>\n",
       "      <th></th>\n",
       "      <th></th>\n",
       "      <th></th>\n",
       "      <th></th>\n",
       "      <th></th>\n",
       "      <th></th>\n",
       "      <th></th>\n",
       "      <th></th>\n",
       "      <th></th>\n",
       "    </tr>\n",
       "  </thead>\n",
       "  <tbody>\n",
       "    <tr>\n",
       "      <th rowspan=\"5\" valign=\"top\">99011014</th>\n",
       "      <th>2021</th>\n",
       "      <th>SA</th>\n",
       "      <td>409.58</td>\n",
       "      <td>7.20</td>\n",
       "      <td>0.0</td>\n",
       "      <td>0.0</td>\n",
       "      <td>0.0</td>\n",
       "      <td>0.0</td>\n",
       "      <td>2</td>\n",
       "      <td>84.0</td>\n",
       "      <td>83.53</td>\n",
       "      <td>1</td>\n",
       "      <td>...</td>\n",
       "      <td>0.0</td>\n",
       "      <td>0.000339</td>\n",
       "      <td>0.0</td>\n",
       "      <td>0.0</td>\n",
       "      <td>0.000147</td>\n",
       "      <td>0.002044</td>\n",
       "      <td>0.0</td>\n",
       "      <td>0.000082</td>\n",
       "      <td>0.000689</td>\n",
       "      <td>0.000711</td>\n",
       "    </tr>\n",
       "    <tr>\n",
       "      <th>2026</th>\n",
       "      <th>SA</th>\n",
       "      <td>445.49</td>\n",
       "      <td>7.29</td>\n",
       "      <td>0.0</td>\n",
       "      <td>0.0</td>\n",
       "      <td>0.0</td>\n",
       "      <td>0.0</td>\n",
       "      <td>2</td>\n",
       "      <td>89.0</td>\n",
       "      <td>88.57</td>\n",
       "      <td>1</td>\n",
       "      <td>...</td>\n",
       "      <td>0.0</td>\n",
       "      <td>0.000329</td>\n",
       "      <td>0.0</td>\n",
       "      <td>0.0</td>\n",
       "      <td>0.000088</td>\n",
       "      <td>0.003213</td>\n",
       "      <td>0.0</td>\n",
       "      <td>0.000082</td>\n",
       "      <td>0.000696</td>\n",
       "      <td>0.000729</td>\n",
       "    </tr>\n",
       "    <tr>\n",
       "      <th>2031</th>\n",
       "      <th>SA</th>\n",
       "      <td>480.72</td>\n",
       "      <td>7.17</td>\n",
       "      <td>0.0</td>\n",
       "      <td>0.0</td>\n",
       "      <td>0.0</td>\n",
       "      <td>0.0</td>\n",
       "      <td>2</td>\n",
       "      <td>94.0</td>\n",
       "      <td>93.60</td>\n",
       "      <td>1</td>\n",
       "      <td>...</td>\n",
       "      <td>0.0</td>\n",
       "      <td>0.000320</td>\n",
       "      <td>0.0</td>\n",
       "      <td>0.0</td>\n",
       "      <td>0.000029</td>\n",
       "      <td>0.004253</td>\n",
       "      <td>0.0</td>\n",
       "      <td>0.000082</td>\n",
       "      <td>0.000703</td>\n",
       "      <td>0.000747</td>\n",
       "    </tr>\n",
       "    <tr>\n",
       "      <th>2036</th>\n",
       "      <th>SA</th>\n",
       "      <td>503.77</td>\n",
       "      <td>4.75</td>\n",
       "      <td>0.0</td>\n",
       "      <td>0.0</td>\n",
       "      <td>0.0</td>\n",
       "      <td>0.0</td>\n",
       "      <td>2</td>\n",
       "      <td>99.0</td>\n",
       "      <td>98.62</td>\n",
       "      <td>1</td>\n",
       "      <td>...</td>\n",
       "      <td>0.0</td>\n",
       "      <td>0.000314</td>\n",
       "      <td>0.0</td>\n",
       "      <td>0.0</td>\n",
       "      <td>0.000000</td>\n",
       "      <td>0.004918</td>\n",
       "      <td>0.0</td>\n",
       "      <td>0.000082</td>\n",
       "      <td>0.000707</td>\n",
       "      <td>0.000765</td>\n",
       "    </tr>\n",
       "    <tr>\n",
       "      <th>2041</th>\n",
       "      <th>SA</th>\n",
       "      <td>518.69</td>\n",
       "      <td>3.13</td>\n",
       "      <td>0.0</td>\n",
       "      <td>0.0</td>\n",
       "      <td>0.0</td>\n",
       "      <td>0.0</td>\n",
       "      <td>2</td>\n",
       "      <td>104.0</td>\n",
       "      <td>103.63</td>\n",
       "      <td>1</td>\n",
       "      <td>...</td>\n",
       "      <td>0.0</td>\n",
       "      <td>0.000311</td>\n",
       "      <td>0.0</td>\n",
       "      <td>0.0</td>\n",
       "      <td>0.000000</td>\n",
       "      <td>0.005344</td>\n",
       "      <td>0.0</td>\n",
       "      <td>0.000055</td>\n",
       "      <td>0.000710</td>\n",
       "      <td>0.000783</td>\n",
       "    </tr>\n",
       "  </tbody>\n",
       "</table>\n",
       "<p>5 rows × 78 columns</p>\n",
       "</div>"
      ],
      "text/plain": [
       "                           V  i_Vm3  Harvested_V  Harvested_V_log_under_bark  \\\n",
       "id       year regime                                                           \n",
       "99011014 2021 SA      409.58   7.20          0.0                         0.0   \n",
       "         2026 SA      445.49   7.29          0.0                         0.0   \n",
       "         2031 SA      480.72   7.17          0.0                         0.0   \n",
       "         2036 SA      503.77   4.75          0.0                         0.0   \n",
       "         2041 SA      518.69   3.13          0.0                         0.0   \n",
       "\n",
       "                      Harvested_V_pulp_under_bark  Harvested_V_under_bark  \\\n",
       "id       year regime                                                        \n",
       "99011014 2021 SA                              0.0                     0.0   \n",
       "         2026 SA                              0.0                     0.0   \n",
       "         2031 SA                              0.0                     0.0   \n",
       "         2036 SA                              0.0                     0.0   \n",
       "         2041 SA                              0.0                     0.0   \n",
       "\n",
       "                      MAIN_SP    Age  AGE_ba  SC  ...  \\\n",
       "id       year regime                              ...   \n",
       "99011014 2021 SA            2   84.0   83.53   1  ...   \n",
       "         2026 SA            2   89.0   88.57   1  ...   \n",
       "         2031 SA            2   94.0   93.60   1  ...   \n",
       "         2036 SA            2   99.0   98.62   1  ...   \n",
       "         2041 SA            2  104.0  103.63   1  ...   \n",
       "\n",
       "                      Relative_Total_BILBERRY  Relative_Total_COWBERRY  \\\n",
       "id       year regime                                                     \n",
       "99011014 2021 SA                          0.0                 0.000339   \n",
       "         2026 SA                          0.0                 0.000329   \n",
       "         2031 SA                          0.0                 0.000320   \n",
       "         2036 SA                          0.0                 0.000314   \n",
       "         2041 SA                          0.0                 0.000311   \n",
       "\n",
       "                      Relative_Total_HSI_MOOSE  Relative_Total_CAPERCAILLIE  \\\n",
       "id       year regime                                                          \n",
       "99011014 2021 SA                           0.0                          0.0   \n",
       "         2026 SA                           0.0                          0.0   \n",
       "         2031 SA                           0.0                          0.0   \n",
       "         2036 SA                           0.0                          0.0   \n",
       "         2041 SA                           0.0                          0.0   \n",
       "\n",
       "                      Relative_Total_HAZEL_GROUSE  \\\n",
       "id       year regime                                \n",
       "99011014 2021 SA                         0.000147   \n",
       "         2026 SA                         0.000088   \n",
       "         2031 SA                         0.000029   \n",
       "         2036 SA                         0.000000   \n",
       "         2041 SA                         0.000000   \n",
       "\n",
       "                      Relative_Total_V_total_deadwood  \\\n",
       "id       year regime                                    \n",
       "99011014 2021 SA                             0.002044   \n",
       "         2026 SA                             0.003213   \n",
       "         2031 SA                             0.004253   \n",
       "         2036 SA                             0.004918   \n",
       "         2041 SA                             0.005344   \n",
       "\n",
       "                      Relative_Total_N_where_D_gt_40  \\\n",
       "id       year regime                                   \n",
       "99011014 2021 SA                                 0.0   \n",
       "         2026 SA                                 0.0   \n",
       "         2031 SA                                 0.0   \n",
       "         2036 SA                                 0.0   \n",
       "         2041 SA                                 0.0   \n",
       "\n",
       "                      Relative_Total_prc_V_deciduous  \\\n",
       "id       year regime                                   \n",
       "99011014 2021 SA                            0.000082   \n",
       "         2026 SA                            0.000082   \n",
       "         2031 SA                            0.000082   \n",
       "         2036 SA                            0.000082   \n",
       "         2041 SA                            0.000055   \n",
       "\n",
       "                      Relative_Total_Recreation  Relative_Total_Scenic  \n",
       "id       year regime                                                    \n",
       "99011014 2021 SA                       0.000689               0.000711  \n",
       "         2026 SA                       0.000696               0.000729  \n",
       "         2031 SA                       0.000703               0.000747  \n",
       "         2036 SA                       0.000707               0.000765  \n",
       "         2041 SA                       0.000710               0.000783  \n",
       "\n",
       "[5 rows x 78 columns]"
      ]
     },
     "execution_count": 17,
     "metadata": {},
     "output_type": "execute_result"
    }
   ],
   "source": [
    "mfo.data.head()"
   ]
  },
  {
   "cell_type": "code",
   "execution_count": 18,
   "metadata": {},
   "outputs": [
    {
     "data": {
      "text/html": [
       "<div>\n",
       "<style scoped>\n",
       "    .dataframe tbody tr th:only-of-type {\n",
       "        vertical-align: middle;\n",
       "    }\n",
       "\n",
       "    .dataframe tbody tr th {\n",
       "        vertical-align: top;\n",
       "    }\n",
       "\n",
       "    .dataframe thead th {\n",
       "        text-align: right;\n",
       "    }\n",
       "</style>\n",
       "<table border=\"1\" class=\"dataframe\">\n",
       "  <thead>\n",
       "    <tr style=\"text-align: right;\">\n",
       "      <th></th>\n",
       "      <th></th>\n",
       "      <th></th>\n",
       "      <th>V</th>\n",
       "      <th>i_Vm3</th>\n",
       "      <th>Harvested_V</th>\n",
       "      <th>Harvested_V_log_under_bark</th>\n",
       "      <th>Harvested_V_pulp_under_bark</th>\n",
       "      <th>Harvested_V_under_bark</th>\n",
       "      <th>MAIN_SP</th>\n",
       "      <th>Age</th>\n",
       "      <th>AGE_ba</th>\n",
       "      <th>SC</th>\n",
       "      <th>...</th>\n",
       "      <th>Total_HAZEL_GROUSE</th>\n",
       "      <th>Total_V_total_deadwood</th>\n",
       "      <th>Total_N_where_D_gt_40</th>\n",
       "      <th>Total_prc_V_deciduous</th>\n",
       "      <th>Total_CARBON_SINK</th>\n",
       "      <th>Total_Recreation</th>\n",
       "      <th>Total_Scenic</th>\n",
       "      <th>CCF_forests</th>\n",
       "      <th>SA_forests</th>\n",
       "      <th>Broadleave_forests</th>\n",
       "    </tr>\n",
       "    <tr>\n",
       "      <th>id</th>\n",
       "      <th>year</th>\n",
       "      <th>regime</th>\n",
       "      <th></th>\n",
       "      <th></th>\n",
       "      <th></th>\n",
       "      <th></th>\n",
       "      <th></th>\n",
       "      <th></th>\n",
       "      <th></th>\n",
       "      <th></th>\n",
       "      <th></th>\n",
       "      <th></th>\n",
       "      <th></th>\n",
       "      <th></th>\n",
       "      <th></th>\n",
       "      <th></th>\n",
       "      <th></th>\n",
       "      <th></th>\n",
       "      <th></th>\n",
       "      <th></th>\n",
       "      <th></th>\n",
       "      <th></th>\n",
       "      <th></th>\n",
       "    </tr>\n",
       "  </thead>\n",
       "  <tbody>\n",
       "    <tr>\n",
       "      <th>99011014</th>\n",
       "      <th>2016</th>\n",
       "      <th>initial_state</th>\n",
       "      <td>374.02</td>\n",
       "      <td>0.0</td>\n",
       "      <td>0.0</td>\n",
       "      <td>0.0</td>\n",
       "      <td>0.0</td>\n",
       "      <td>0.0</td>\n",
       "      <td>2</td>\n",
       "      <td>80.0</td>\n",
       "      <td>79.48</td>\n",
       "      <td>1</td>\n",
       "      <td>...</td>\n",
       "      <td>27.79</td>\n",
       "      <td>1492.72</td>\n",
       "      <td>0.0</td>\n",
       "      <td>1191.0</td>\n",
       "      <td>0.0</td>\n",
       "      <td>2503.879</td>\n",
       "      <td>2317.289</td>\n",
       "      <td>False</td>\n",
       "      <td>False</td>\n",
       "      <td>False</td>\n",
       "    </tr>\n",
       "    <tr>\n",
       "      <th>99011016</th>\n",
       "      <th>2016</th>\n",
       "      <th>initial_state</th>\n",
       "      <td>141.85</td>\n",
       "      <td>0.0</td>\n",
       "      <td>0.0</td>\n",
       "      <td>0.0</td>\n",
       "      <td>0.0</td>\n",
       "      <td>0.0</td>\n",
       "      <td>1</td>\n",
       "      <td>89.0</td>\n",
       "      <td>71.71</td>\n",
       "      <td>4</td>\n",
       "      <td>...</td>\n",
       "      <td>258.05</td>\n",
       "      <td>1413.32</td>\n",
       "      <td>0.0</td>\n",
       "      <td>5161.0</td>\n",
       "      <td>0.0</td>\n",
       "      <td>2374.854</td>\n",
       "      <td>2432.816</td>\n",
       "      <td>False</td>\n",
       "      <td>False</td>\n",
       "      <td>False</td>\n",
       "    </tr>\n",
       "    <tr>\n",
       "      <th>99011019</th>\n",
       "      <th>2016</th>\n",
       "      <th>initial_state</th>\n",
       "      <td>142.53</td>\n",
       "      <td>0.0</td>\n",
       "      <td>0.0</td>\n",
       "      <td>0.0</td>\n",
       "      <td>0.0</td>\n",
       "      <td>0.0</td>\n",
       "      <td>1</td>\n",
       "      <td>60.0</td>\n",
       "      <td>57.78</td>\n",
       "      <td>4</td>\n",
       "      <td>...</td>\n",
       "      <td>0.00</td>\n",
       "      <td>1413.32</td>\n",
       "      <td>0.0</td>\n",
       "      <td>0.0</td>\n",
       "      <td>0.0</td>\n",
       "      <td>2239.477</td>\n",
       "      <td>2069.561</td>\n",
       "      <td>False</td>\n",
       "      <td>False</td>\n",
       "      <td>False</td>\n",
       "    </tr>\n",
       "    <tr>\n",
       "      <th>99011020</th>\n",
       "      <th>2016</th>\n",
       "      <th>initial_state</th>\n",
       "      <td>238.93</td>\n",
       "      <td>0.0</td>\n",
       "      <td>0.0</td>\n",
       "      <td>0.0</td>\n",
       "      <td>0.0</td>\n",
       "      <td>0.0</td>\n",
       "      <td>1</td>\n",
       "      <td>85.0</td>\n",
       "      <td>74.00</td>\n",
       "      <td>4</td>\n",
       "      <td>...</td>\n",
       "      <td>39.70</td>\n",
       "      <td>1409.35</td>\n",
       "      <td>0.0</td>\n",
       "      <td>1588.0</td>\n",
       "      <td>0.0</td>\n",
       "      <td>2317.289</td>\n",
       "      <td>2360.165</td>\n",
       "      <td>False</td>\n",
       "      <td>False</td>\n",
       "      <td>False</td>\n",
       "    </tr>\n",
       "    <tr>\n",
       "      <th>99011021</th>\n",
       "      <th>2016</th>\n",
       "      <th>initial_state</th>\n",
       "      <td>289.15</td>\n",
       "      <td>0.0</td>\n",
       "      <td>0.0</td>\n",
       "      <td>0.0</td>\n",
       "      <td>0.0</td>\n",
       "      <td>0.0</td>\n",
       "      <td>1</td>\n",
       "      <td>89.0</td>\n",
       "      <td>79.30</td>\n",
       "      <td>4</td>\n",
       "      <td>...</td>\n",
       "      <td>0.00</td>\n",
       "      <td>1417.29</td>\n",
       "      <td>0.0</td>\n",
       "      <td>0.0</td>\n",
       "      <td>0.0</td>\n",
       "      <td>2408.202</td>\n",
       "      <td>2418.921</td>\n",
       "      <td>False</td>\n",
       "      <td>False</td>\n",
       "      <td>False</td>\n",
       "    </tr>\n",
       "  </tbody>\n",
       "</table>\n",
       "<p>5 rows × 52 columns</p>\n",
       "</div>"
      ],
      "text/plain": [
       "                                  V  i_Vm3  Harvested_V  \\\n",
       "id       year regime                                      \n",
       "99011014 2016 initial_state  374.02    0.0          0.0   \n",
       "99011016 2016 initial_state  141.85    0.0          0.0   \n",
       "99011019 2016 initial_state  142.53    0.0          0.0   \n",
       "99011020 2016 initial_state  238.93    0.0          0.0   \n",
       "99011021 2016 initial_state  289.15    0.0          0.0   \n",
       "\n",
       "                             Harvested_V_log_under_bark  \\\n",
       "id       year regime                                      \n",
       "99011014 2016 initial_state                         0.0   \n",
       "99011016 2016 initial_state                         0.0   \n",
       "99011019 2016 initial_state                         0.0   \n",
       "99011020 2016 initial_state                         0.0   \n",
       "99011021 2016 initial_state                         0.0   \n",
       "\n",
       "                             Harvested_V_pulp_under_bark  \\\n",
       "id       year regime                                       \n",
       "99011014 2016 initial_state                          0.0   \n",
       "99011016 2016 initial_state                          0.0   \n",
       "99011019 2016 initial_state                          0.0   \n",
       "99011020 2016 initial_state                          0.0   \n",
       "99011021 2016 initial_state                          0.0   \n",
       "\n",
       "                             Harvested_V_under_bark  MAIN_SP   Age  AGE_ba  \\\n",
       "id       year regime                                                         \n",
       "99011014 2016 initial_state                     0.0        2  80.0   79.48   \n",
       "99011016 2016 initial_state                     0.0        1  89.0   71.71   \n",
       "99011019 2016 initial_state                     0.0        1  60.0   57.78   \n",
       "99011020 2016 initial_state                     0.0        1  85.0   74.00   \n",
       "99011021 2016 initial_state                     0.0        1  89.0   79.30   \n",
       "\n",
       "                             SC  ...  Total_HAZEL_GROUSE  \\\n",
       "id       year regime             ...                       \n",
       "99011014 2016 initial_state   1  ...               27.79   \n",
       "99011016 2016 initial_state   4  ...              258.05   \n",
       "99011019 2016 initial_state   4  ...                0.00   \n",
       "99011020 2016 initial_state   4  ...               39.70   \n",
       "99011021 2016 initial_state   4  ...                0.00   \n",
       "\n",
       "                             Total_V_total_deadwood  Total_N_where_D_gt_40  \\\n",
       "id       year regime                                                         \n",
       "99011014 2016 initial_state                 1492.72                    0.0   \n",
       "99011016 2016 initial_state                 1413.32                    0.0   \n",
       "99011019 2016 initial_state                 1413.32                    0.0   \n",
       "99011020 2016 initial_state                 1409.35                    0.0   \n",
       "99011021 2016 initial_state                 1417.29                    0.0   \n",
       "\n",
       "                             Total_prc_V_deciduous  Total_CARBON_SINK  \\\n",
       "id       year regime                                                    \n",
       "99011014 2016 initial_state                 1191.0                0.0   \n",
       "99011016 2016 initial_state                 5161.0                0.0   \n",
       "99011019 2016 initial_state                    0.0                0.0   \n",
       "99011020 2016 initial_state                 1588.0                0.0   \n",
       "99011021 2016 initial_state                    0.0                0.0   \n",
       "\n",
       "                             Total_Recreation  Total_Scenic  CCF_forests  \\\n",
       "id       year regime                                                       \n",
       "99011014 2016 initial_state          2503.879      2317.289        False   \n",
       "99011016 2016 initial_state          2374.854      2432.816        False   \n",
       "99011019 2016 initial_state          2239.477      2069.561        False   \n",
       "99011020 2016 initial_state          2317.289      2360.165        False   \n",
       "99011021 2016 initial_state          2408.202      2418.921        False   \n",
       "\n",
       "                             SA_forests  Broadleave_forests  \n",
       "id       year regime                                         \n",
       "99011014 2016 initial_state       False               False  \n",
       "99011016 2016 initial_state       False               False  \n",
       "99011019 2016 initial_state       False               False  \n",
       "99011020 2016 initial_state       False               False  \n",
       "99011021 2016 initial_state       False               False  \n",
       "\n",
       "[5 rows x 52 columns]"
      ]
     },
     "execution_count": 18,
     "metadata": {},
     "output_type": "execute_result"
    }
   ],
   "source": [
    "mfo.initialData.head()"
   ]
  },
  {
   "cell_type": "markdown",
   "metadata": {},
   "source": [
    "## Define the optimization problem for policy scenarios\n",
    "See README.md for details.\n",
    "\n",
    "<b>Objective format:</b>\n",
    "\n",
    "Unique_key :[Long human readable name, column name in data, max/min objective, year wise aggregation, stand wise aggregation (, target year )]\n",
    "\n",
    "1) \"Unique_key\" : [ (2) \"Long human readable name\", (3) \"column name\", (4) \"max/min objective\", (5) \"year wise aggregation\", (6) \"stand wise aggregation\" (, (7) target year ) ]\n",
    "\n",
    "<b>Options for \"objective\":</b> \"max\"imise or \"min\"imise it <br>\n",
    "<b>year wise aggregation:</b> \"min\" (minimum value), \"average\", \"firstYear\", \"targetYearWithSlope\",\"targetYear\",\"lastYear\" <br>\n",
    "<b>stand wise aggregation:</b> \"sum\", \"areaWeightedAverage\", \"areaWeightedSum\" <br>\n",
    "<b>targe yeart:</b> any year except the first one"
   ]
  },
  {
   "cell_type": "markdown",
   "metadata": {},
   "source": [
    "### NFS - National Forest Strategy"
   ]
  },
  {
   "cell_type": "code",
   "execution_count": 19,
   "metadata": {},
   "outputs": [],
   "source": [
    "if scenario == 'NFS':\n",
    "    \n",
    "    wood_production_bioenergy = { \n",
    "    # Increment - target 2025\n",
    "    \"Total_i_Vm3_2025\": [\"Total annual timber volume increment by 2025 (m3)\",\n",
    "                         \"Total_i_Vm3\",\n",
    "                         \"max\",\"targetYearWithSlope\",\"sum\",2025], \n",
    "    # Increment - target 2050\n",
    "    \"Total_i_Vm3_2050\": [\"Total annual timber volume increment by 2050 (m3)\",\n",
    "                         \"Total_i_Vm3\",\n",
    "                         \"max\",\"targetYearWithSlope\",\"sum\",2050], \n",
    "    # Harvested roundwood - target 2025\n",
    "    \"Total_Harvested_V_2025\" :[\"Total annual harvested timber volume by 2025 (log & pulp) (m3)\",\n",
    "                               \"Total_Harvested_V\",\n",
    "                               \"max\",\"targetYearWithSlope\",\"sum\",2025], \n",
    "    # Harvested biomass - target 2025\n",
    "    \"Total_Biomass_2025\": [\"Total annual harvested biomass volume by 2025 (m3)\",\n",
    "                           \"Total_Biomass\",\n",
    "                           \"max\",\"targetYearWithSlope\",\"sum\",2025]\n",
    "    }\n",
    "    \n",
    "    nonwood = { \n",
    "    # Bilberry - no decline, maximise it\n",
    "    \"Relative_BILBERRY\": [\"Bilberry yield (relative to 2016, max minimum over yrs)\",\n",
    "                          \"Relative_Total_BILBERRY\",\n",
    "                          \"max\",\"min\",\"sum\"],\n",
    "    # Cowberry - no decline, maximise it\n",
    "    \"Relative_COWBERRY\": [\"Cowberry yield (relative to 2016, max minimum over yrs)\",\n",
    "                          \"Relative_Total_COWBERRY\",\n",
    "                          \"max\",\"min\",\"sum\"],\n",
    "    # Mushrooms - no decline, maximise it\n",
    "    \"Relative_ALL_MARKETED_MUSHROOMS\": [\"All marketed mushroom yield (relative to 2016, max minimum over yrs)\",\n",
    "                         \"Relative_Total_ALL_MARKETED_MUSHROOMS\",\n",
    "                         \"max\",\"min\",\"sum\"]    \n",
    "    }\n",
    "    \n",
    "    game = {\n",
    "    # HSI moose - maximise  \n",
    "    \"Sum_Total_HSI_MOOSE\": [\"Total habitat index for MOOSE (max average over all years)\",\n",
    "                           \"Total_HSI_MOOSE\",\n",
    "                           \"max\",\"average\",\"sum\"],\n",
    "    # HSI hazel grouse - maximise\n",
    "    \"Sum_Total_HAZEL_GROUSE\": [\"Total habitat index for HAZEL_GROUSE (max average over yrs)\",\n",
    "                           \"Total_HAZEL_GROUSE\",\n",
    "                           \"max\",\"average\",\"sum\"],\n",
    "    # HSI capercaillie - maximise\n",
    "    \"Sum_Total_CAPERCAILLIE\": [\"Total habitat index for CAPERCAILLIE (max average over yrs)\",\n",
    "                           \"Total_CAPERCAILLIE\",\n",
    "                           \"max\",\"average\",\"sum\"]    \n",
    "    }\n",
    "    \n",
    "    biodiversity = {\n",
    "    # Deadwood - target 2025\n",
    "    \"Average_Deadwood_V_2025\": [\"Average Deadwood volume by 2025 (m3/ha)\", \n",
    "                                \"V_total_deadwood\",\n",
    "                                \"max\", \"targetYear\", \"areaWeightedAverage\", 2025], \n",
    "    # Large trees (>40 cm) - maximise\n",
    "    \"Total_N_where_D_gt_40\": [\"Total No. of trees diameter >= 40 cm  (max end value)\",\n",
    "                              \"Total_N_where_D_gt_40\",\n",
    "                              \"max\",\"lastYear\",\"sum\"],    \n",
    "    # Deciduous tree volume - maximise\n",
    "    \"Total_prc_V_deciduous\":  [\"Total %-share of deciduous trees (related to V) (max end value)\", \n",
    "                               \"Total_prc_V_deciduous\",\n",
    "                               \"max\", \"lastYear\",\"sum\"],\n",
    "    # Conservation regime - target\n",
    "    \"Ratio_CCF_forests\": [\"Ratio of BC sites in commercial forests (%, CCF_3, CCF_4 and BAUwGTR)\",\n",
    "                          \"CCF_forests\",\n",
    "                          \"max\",\"firstYear\",\"areaWeightedAverage\"]\n",
    "    }\n",
    "    \n",
    "    climate_regulation = {\n",
    "    # Carbon sink - target 2025\n",
    "    \"Total_CARBON_SINK_2025\": [\"Total sequestration in carbon dioxide by 2025 (t CO2)\",\n",
    "                               \"Total_CARBON_SINK\",\n",
    "                               \"max\",\"targetYearWithSlope\",\"sum\",2025] \n",
    "    }\n",
    "    \n",
    "    recreation = {\n",
    "    # Recreation index - maximise\n",
    "    \"Sum_Total_Recreation\" : [\"Total Recreation index (max minimum over yrs)\",\n",
    "                              \"Total_Recreation\",\n",
    "                              \"max\",\"min\",\"sum\"],\n",
    "    \n",
    "    # Scenic index - maximise\n",
    "    \"Sum_Total_Scenic\" : [\"Total Scenic index (max minimum over yrs)\",\n",
    "                          \"Total_Scenic\",\n",
    "                          \"max\",\"min\",\"sum\"]\n",
    "    }\n",
    "    \n",
    "    resilience = {\n",
    "    # CC adaption regimes - maximise\n",
    "    \"Ratio_Broadleave_forests\": [\"Ratio of adaptive management regimes (%, increasing broadleave share)\",\n",
    "                                 \"Broadleave_forests\",\n",
    "                                 \"max\",\"firstYear\",\"areaWeightedAverage\"]\n",
    "    }\n",
    "    \n",
    "    objectives = {\n",
    "              **wood_production_bioenergy,\n",
    "              **nonwood,\n",
    "              **game,\n",
    "              **biodiversity,\n",
    "              **climate_regulation,\n",
    "              **recreation,\n",
    "              **resilience\n",
    "    }\n",
    "    \n",
    "    print(\"objectives for NFS loaded\")"
   ]
  },
  {
   "cell_type": "markdown",
   "metadata": {},
   "source": [
    "### BDS - Biodiversity Strategy"
   ]
  },
  {
   "cell_type": "code",
   "execution_count": 20,
   "metadata": {},
   "outputs": [],
   "source": [
    "if scenario == 'BDS':\n",
    "    \n",
    "    wood_production_bioenergy = { \n",
    "    # Harvested roundwood - maximise (even flow)\n",
    "    \"Average_Harvested_V\" : [\"Average harvested timber volume (log & pulp) (m3/ha, evenflow)\",\n",
    "                             \"Harvested_V\",\n",
    "                             \"max\",\"min\",\"areaWeightedAverage\"]\n",
    "    }\n",
    "    \n",
    "    game = {\n",
    "    # HSI moose - maximise       \n",
    "    \"Sum_Total_HSI_MOOSE\": [\"Total habitat index for MOOSE (max average over all years)\",\n",
    "                           \"Total_HSI_MOOSE\",\n",
    "                           \"max\",\"average\",\"sum\"],\n",
    "    # HSI hazel grouse - maximise\n",
    "    \"Sum_Total_HAZEL_GROUSE\": [\"Total habitat index for HAZEL_GROUSE (max average over yrs)\",\n",
    "                           \"Total_HAZEL_GROUSE\",\n",
    "                           \"max\",\"average\",\"sum\"],\n",
    "    # HSI carpercaillie - maximise\n",
    "    \"Sum_Total_CAPERCAILLIE\": [\"Total habitat index for CAPERCAILLIE (max average over yrs)\",\n",
    "                           \"Total_CAPERCAILLIE\",\n",
    "                           \"max\",\"average\",\"sum\"]    \n",
    "    }\n",
    "    \n",
    "    biodiversity = {\n",
    "    # Deadwood - target 2050, increase by XX%\n",
    "    \"relative_Amount_Deadwood_2050\" : [\"Total Deadwood volume by 2050 (%, relative to 2016 values)\",\n",
    "                                       \"Relative_Total_V_total_deadwood\",\n",
    "                                       \"max\",\"targetYearWithSlope\",\"sum\",2050],\n",
    "    # Large trees - target 2050, increase by XX%\n",
    "    \"relative_N_where_D_gt_40_2050\": [\"Total No. of trees diameter >= 40 cm  by 2050 (%, relative to 2016 values)\",\n",
    "                                      \"Relative_Total_N_where_D_gt_40\",\n",
    "                                      \"max\",\"targetYear\",\"sum\",2050],\n",
    "    # Deciduous tree volume - target 2050, increase by XX% \n",
    "    \"relative_prc_V_deciduous_2050\": [\"Total share of deciduous trees by 2050 (related to V) (%, relative to 2016 values)\",\n",
    "                                      \"Relative_Total_prc_V_deciduous\",\n",
    "                                      \"max\",\"targetYearWithSlope\",\"sum\",2050],\n",
    "    # Regime SA - target\n",
    "    \"Ratio_CCF_forests\": [\"Ratio of BC sites in commercial forests (%, CCF_3, CCF_4 and BAUwGTR)\",\n",
    "                          \"CCF_forests\",\n",
    "                          \"max\",\"firstYear\",\"areaWeightedAverage\"],\n",
    "    # Conservation regimes - target\n",
    "    \"Ratio_SA_forests\": [\"Ratio of protected areas (%, SA forests)\",\n",
    "                         \"SA_forests\",\n",
    "                         \"max\",\"firstYear\",\"areaWeightedAverage\"]    \n",
    "    \n",
    "    }\n",
    "    \n",
    "    recreation = {\n",
    "    # Recreation index - maximise\n",
    "    \"Sum_Total_Recreation\" : [\"Total Recreation index (max minimum over yrs)\",\n",
    "                              \"Total_Recreation\",\n",
    "                              \"max\",\"min\",\"sum\"],\n",
    "    # Scenic index - maximise\n",
    "    \"Sum_Total_Scenic\" : [\"Total Scenic index (max minimum over yrs)\",\n",
    "                          \"Total_Scenic\",\n",
    "                          \"max\",\"min\",\"sum\"]\n",
    "    }\n",
    "    \n",
    "    objectives = {\n",
    "              **wood_production_bioenergy,\n",
    "              **game,\n",
    "              **biodiversity,\n",
    "              **recreation\n",
    "    }\n",
    "    \n",
    "    print(\"objectives for BDS loaded\")"
   ]
  },
  {
   "cell_type": "markdown",
   "metadata": {},
   "source": [
    "### BES - Bioeconomy strategy"
   ]
  },
  {
   "cell_type": "code",
   "execution_count": 21,
   "metadata": {},
   "outputs": [
    {
     "name": "stdout",
     "output_type": "stream",
     "text": [
      "objectives for BES loaded\n"
     ]
    }
   ],
   "source": [
    "if scenario == 'BES':\n",
    "    \n",
    "    wood_production_bioenergy = { \n",
    "    # Harvested roundwood - maximise even flow\n",
    "    \"Average_Harvested_V\" : [\"Average harvested timber volume (log & pulp) (m3/ha, evenflow)\",\n",
    "                             \"Harvested_V\",\n",
    "                             \"max\",\"min\",\"areaWeightedAverage\"],\n",
    "    # Harvested biomass - maximise even flow\n",
    "    \"Biomass_Evenflow\": [\"Average harvested biomass volume (m3/ha, evenflow)\",\n",
    "                         \"Biomass\",\n",
    "                         \"max\",\"min\",\"areaWeightedAverage\"]\n",
    "    }\n",
    "    \n",
    "    biodiversity = {\n",
    "    # Deadwood - no decline (no target value)\n",
    "    \"relative_Amount_Deadwood_2050\" : [\"Total Deadwood volume by 2050 (%, relative to 2016 values)\",\n",
    "                                       \"Relative_Total_V_total_deadwood\",\n",
    "                                       \"max\",\"targetYearWithSlope\",\"sum\",2050],\n",
    "    # Large trees - no decline (no target value)\n",
    "    \"relative_N_where_D_gt_40_2050\": [\"Total No. of trees diameter >= 40 cm  by 2050 (%, relative to 2016 values)\",\n",
    "                                      \"Relative_Total_N_where_D_gt_40\",\n",
    "                                      \"max\",\"targetYear\",\"sum\",2050],\n",
    "    # Deciduous tree volume - no decline (no target value)\n",
    "    \"relative_prc_V_deciduous_2050\": [\"Total share of deciduous trees by 2050 (related to V) (%, relative to 2016 values)\",\n",
    "                                      \"Relative_Total_prc_V_deciduous\",\n",
    "                                      \"max\",\"targetYearWithSlope\",\"sum\",2050]\n",
    "    }\n",
    "    \n",
    "    recreation = {\n",
    "    # Recreation index - maximise\n",
    "    \"Sum_Total_Recreation\" : [\"Total Recreation index (max minimum over all years)\",\n",
    "                              \"Total_Recreation\",\n",
    "                              \"max\",\"min\",\"sum\"],\n",
    "    # Scenic index - maximise\n",
    "    \"Sum_Total_Scenic\" : [\"Total Scenic index (max minimum over all years)\",\n",
    "                          \"Total_Scenic\",\n",
    "                          \"max\",\"min\",\"sum\"]\n",
    "    }\n",
    "    \n",
    "    objectives = {\n",
    "              **wood_production_bioenergy,\n",
    "              **biodiversity,\n",
    "              **recreation,\n",
    "    }\n",
    "    \n",
    "    print(\"objectives for BES loaded\")"
   ]
  },
  {
   "cell_type": "code",
   "execution_count": 22,
   "metadata": {},
   "outputs": [
    {
     "data": {
      "text/plain": [
       "7"
      ]
     },
     "execution_count": 22,
     "metadata": {},
     "output_type": "execute_result"
    }
   ],
   "source": [
    "len(objectives)"
   ]
  },
  {
   "cell_type": "code",
   "execution_count": 23,
   "metadata": {},
   "outputs": [
    {
     "data": {
      "text/plain": [
       "dict_keys(['Average_Harvested_V', 'Biomass_Evenflow', 'relative_Amount_Deadwood_2050', 'relative_N_where_D_gt_40_2050', 'relative_prc_V_deciduous_2050', 'Sum_Total_Recreation', 'Sum_Total_Scenic'])"
      ]
     },
     "execution_count": 23,
     "metadata": {},
     "output_type": "execute_result"
    }
   ],
   "source": [
    "objectives.keys()"
   ]
  },
  {
   "cell_type": "code",
   "execution_count": 24,
   "metadata": {},
   "outputs": [
    {
     "data": {
      "text/plain": [
       "Index(['V', 'i_Vm3', 'Harvested_V', 'Harvested_V_log_under_bark',\n",
       "       'Harvested_V_pulp_under_bark', 'Harvested_V_under_bark', 'MAIN_SP',\n",
       "       'Age', 'AGE_ba', 'SC', 'Biomass', 'ALL_MARKETED_MUSHROOMS', 'BILBERRY',\n",
       "       'COWBERRY', 'HSI_MOOSE', 'CAPERCAILLIE', 'HAZEL_GROUSE',\n",
       "       'V_total_deadwood', 'N_where_D_gt_40', 'prc_V_deciduous', 'PEAT',\n",
       "       'clearcut', 'CARBON_SINK', 'CARBON_STORAGE_Update', 'Recreation',\n",
       "       'Scenic', 'scenario', 'represented_area_by_NFIplot', 'region',\n",
       "       'NUTS2_GL', 'protection', 'Total_i_Vm3', 'Total_Harvested_V',\n",
       "       'Total_Harvested_V_log_under_bark', 'Total_Harvested_V_pulp_under_bark',\n",
       "       'Total_Harvested_V_under_bark', 'Total_Biomass',\n",
       "       'Total_ALL_MARKETED_MUSHROOMS', 'Total_BILBERRY', 'Total_COWBERRY',\n",
       "       'Total_HSI_MOOSE', 'Total_CAPERCAILLIE', 'Total_HAZEL_GROUSE',\n",
       "       'Total_V_total_deadwood', 'Total_N_where_D_gt_40',\n",
       "       'Total_prc_V_deciduous', 'Total_CARBON_SINK', 'Total_Recreation',\n",
       "       'Total_Scenic', 'CCF_forests', 'SA_forests', 'Broadleave_forests',\n",
       "       'Relative_V', 'Relative_Age', 'Relative_AGE_ba',\n",
       "       'Relative_ALL_MARKETED_MUSHROOMS', 'Relative_BILBERRY',\n",
       "       'Relative_COWBERRY', 'Relative_HSI_MOOSE', 'Relative_CAPERCAILLIE',\n",
       "       'Relative_HAZEL_GROUSE', 'Relative_V_total_deadwood',\n",
       "       'Relative_N_where_D_gt_40', 'Relative_prc_V_deciduous',\n",
       "       'Relative_CARBON_STORAGE_Update', 'Relative_Recreation',\n",
       "       'Relative_Scenic', 'Relative_Total_ALL_MARKETED_MUSHROOMS',\n",
       "       'Relative_Total_BILBERRY', 'Relative_Total_COWBERRY',\n",
       "       'Relative_Total_HSI_MOOSE', 'Relative_Total_CAPERCAILLIE',\n",
       "       'Relative_Total_HAZEL_GROUSE', 'Relative_Total_V_total_deadwood',\n",
       "       'Relative_Total_N_where_D_gt_40', 'Relative_Total_prc_V_deciduous',\n",
       "       'Relative_Total_Recreation', 'Relative_Total_Scenic'],\n",
       "      dtype='object')"
      ]
     },
     "execution_count": 24,
     "metadata": {},
     "output_type": "execute_result"
    }
   ],
   "source": [
    "mfo.data.columns"
   ]
  },
  {
   "cell_type": "code",
   "execution_count": 25,
   "metadata": {},
   "outputs": [
    {
     "data": {
      "text/plain": [
       "[('prc_V_deciduous', dtype('float64')),\n",
       " ('Total_prc_V_deciduous', dtype('float64')),\n",
       " ('Relative_prc_V_deciduous', dtype('float64')),\n",
       " ('Relative_Total_prc_V_deciduous', dtype('float64'))]"
      ]
     },
     "execution_count": 25,
     "metadata": {},
     "output_type": "execute_result"
    }
   ],
   "source": [
    "[(col,mfo.data.dtypes[col]) for col in mfo.data.columns if \"prc\" in col]"
   ]
  },
  {
   "cell_type": "markdown",
   "metadata": {},
   "source": [
    "## Define initial values NOT available in data, but needed for objective\n",
    "\n",
    "Examples are increment, harvests, biomass and carbon sink. They are required for the \"targetYearWithSlope\" objective, but values only occur after the first simulation period. National values are taken from the policy or forest statistics. \n",
    "\n",
    "<b>For the Central Finland test data, national values are simply divided by 19 (number of considered provinces).</b> "
   ]
  },
  {
   "cell_type": "code",
   "execution_count": 26,
   "metadata": {},
   "outputs": [],
   "source": [
    "initialValues = {\"Total_i_Vm3\":107*10**6 / 19,               # from National Forest Policy            \n",
    "                 \"Total_Harvested_V\": 72.3*10**6 / 19,       # from National Forest Policy \n",
    "                 \"Total_Biomass\": 2.9*10**6 / 19,            # from National Forest Policy  \n",
    "                 \"Total_CARBON_SINK\" : 34.1*10**6 / 19,      # from National Forest Policy  \n",
    "                                            \n",
    "                 \"SA_forests\" : 0.106,     # from ForestStatistics 2018\n",
    "                 \"CCF_forests\" : 0.015,    # from ForestStatistics 2018\n",
    "                 \"BAUwGTR_forests\":0.015}  # from ForestStatistics 2018"
   ]
  },
  {
   "cell_type": "code",
   "execution_count": 27,
   "metadata": {
    "scrolled": true
   },
   "outputs": [
    {
     "data": {
      "text/plain": [
       "'Defining objectives'"
      ]
     },
     "metadata": {},
     "output_type": "display_data"
    },
    {
     "data": {
      "text/plain": [
       "'Aggregating stand wise'"
      ]
     },
     "metadata": {},
     "output_type": "display_data"
    },
    {
     "name": "stderr",
     "output_type": "stream",
     "text": [
      "100%|██████████| 7/7 [00:54<00:00,  7.81s/it]\n"
     ]
    },
    {
     "data": {
      "text/plain": [
       "'Aggregating year wise'"
      ]
     },
     "metadata": {},
     "output_type": "display_data"
    },
    {
     "name": "stdout",
     "output_type": "stream",
     "text": [
      "100%|██████████| 7/7 [00:00<00:00, 3087.61it/s]\n"
     ]
    },
    {
     "data": {
      "text/plain": [
       "'Objectives added'"
      ]
     },
     "metadata": {},
     "output_type": "display_data"
    }
   ],
   "source": [
    "mfo.defineObjectives(objectives,initialValues = initialValues)"
   ]
  },
  {
   "cell_type": "markdown",
   "metadata": {},
   "source": [
    "## Define enabled constraints"
   ]
  },
  {
   "cell_type": "code",
   "execution_count": 28,
   "metadata": {},
   "outputs": [],
   "source": [
    "CCFregimes = [regime for regime in mfo.regimes if \"CCF\" in regime] + [\"SA\"]"
   ]
  },
  {
   "cell_type": "code",
   "execution_count": 29,
   "metadata": {},
   "outputs": [
    {
     "data": {
      "text/plain": [
       "['CCF_1', 'CCF_2', 'CCF_3', 'CCF_4', 'SA']"
      ]
     },
     "execution_count": 29,
     "metadata": {},
     "output_type": "execute_result"
    }
   ],
   "source": [
    "CCFregimes"
   ]
  },
  {
   "cell_type": "markdown",
   "metadata": {},
   "source": [
    "Constraint format:\n",
    "- Shortname: \"constraint type\",\"allowed regimes\",\"human readable name\",(regimes),\"column in data\")"
   ]
  },
  {
   "cell_type": "code",
   "execution_count": 30,
   "metadata": {},
   "outputs": [],
   "source": [
    "constraintTypes = {\"CCFonPeat\":[\"Allowed regimes\",\"Only CCF on peat lands\",CCFregimes,\"PEAT\"]}"
   ]
  },
  {
   "cell_type": "code",
   "execution_count": 31,
   "metadata": {},
   "outputs": [],
   "source": [
    "mfo.defineConstraints(constraintTypes)"
   ]
  },
  {
   "cell_type": "markdown",
   "metadata": {},
   "source": [
    "## Calculate objective ranges\n",
    "The ideal and anti-ideal solution for the individual objective functions."
   ]
  },
  {
   "cell_type": "code",
   "execution_count": 32,
   "metadata": {},
   "outputs": [
    {
     "data": {
      "text/html": [
       "<div>\n",
       "<style scoped>\n",
       "    .dataframe tbody tr th:only-of-type {\n",
       "        vertical-align: middle;\n",
       "    }\n",
       "\n",
       "    .dataframe tbody tr th {\n",
       "        vertical-align: top;\n",
       "    }\n",
       "\n",
       "    .dataframe thead th {\n",
       "        text-align: right;\n",
       "    }\n",
       "</style>\n",
       "<table border=\"1\" class=\"dataframe\">\n",
       "  <thead>\n",
       "    <tr style=\"text-align: right;\">\n",
       "      <th></th>\n",
       "      <th></th>\n",
       "      <th></th>\n",
       "      <th>V</th>\n",
       "      <th>i_Vm3</th>\n",
       "      <th>Harvested_V</th>\n",
       "      <th>Harvested_V_log_under_bark</th>\n",
       "      <th>Harvested_V_pulp_under_bark</th>\n",
       "      <th>Harvested_V_under_bark</th>\n",
       "      <th>MAIN_SP</th>\n",
       "      <th>Age</th>\n",
       "      <th>AGE_ba</th>\n",
       "      <th>SC</th>\n",
       "      <th>...</th>\n",
       "      <th>Relative_Total_BILBERRY</th>\n",
       "      <th>Relative_Total_COWBERRY</th>\n",
       "      <th>Relative_Total_HSI_MOOSE</th>\n",
       "      <th>Relative_Total_CAPERCAILLIE</th>\n",
       "      <th>Relative_Total_HAZEL_GROUSE</th>\n",
       "      <th>Relative_Total_V_total_deadwood</th>\n",
       "      <th>Relative_Total_N_where_D_gt_40</th>\n",
       "      <th>Relative_Total_prc_V_deciduous</th>\n",
       "      <th>Relative_Total_Recreation</th>\n",
       "      <th>Relative_Total_Scenic</th>\n",
       "    </tr>\n",
       "    <tr>\n",
       "      <th>id</th>\n",
       "      <th>year</th>\n",
       "      <th>regime</th>\n",
       "      <th></th>\n",
       "      <th></th>\n",
       "      <th></th>\n",
       "      <th></th>\n",
       "      <th></th>\n",
       "      <th></th>\n",
       "      <th></th>\n",
       "      <th></th>\n",
       "      <th></th>\n",
       "      <th></th>\n",
       "      <th></th>\n",
       "      <th></th>\n",
       "      <th></th>\n",
       "      <th></th>\n",
       "      <th></th>\n",
       "      <th></th>\n",
       "      <th></th>\n",
       "      <th></th>\n",
       "      <th></th>\n",
       "      <th></th>\n",
       "      <th></th>\n",
       "    </tr>\n",
       "  </thead>\n",
       "  <tbody>\n",
       "    <tr>\n",
       "      <th rowspan=\"5\" valign=\"top\">99011014</th>\n",
       "      <th>2021</th>\n",
       "      <th>SA</th>\n",
       "      <td>409.58</td>\n",
       "      <td>7.20</td>\n",
       "      <td>0.00</td>\n",
       "      <td>0.00</td>\n",
       "      <td>0.00</td>\n",
       "      <td>0.00</td>\n",
       "      <td>2</td>\n",
       "      <td>84.0</td>\n",
       "      <td>83.53</td>\n",
       "      <td>1</td>\n",
       "      <td>...</td>\n",
       "      <td>0.000000</td>\n",
       "      <td>0.000339</td>\n",
       "      <td>0.0</td>\n",
       "      <td>0.0</td>\n",
       "      <td>0.000147</td>\n",
       "      <td>0.002044</td>\n",
       "      <td>0.0</td>\n",
       "      <td>0.000082</td>\n",
       "      <td>0.000689</td>\n",
       "      <td>0.000711</td>\n",
       "    </tr>\n",
       "    <tr>\n",
       "      <th>2026</th>\n",
       "      <th>SA</th>\n",
       "      <td>445.49</td>\n",
       "      <td>7.29</td>\n",
       "      <td>0.00</td>\n",
       "      <td>0.00</td>\n",
       "      <td>0.00</td>\n",
       "      <td>0.00</td>\n",
       "      <td>2</td>\n",
       "      <td>89.0</td>\n",
       "      <td>88.57</td>\n",
       "      <td>1</td>\n",
       "      <td>...</td>\n",
       "      <td>0.000000</td>\n",
       "      <td>0.000329</td>\n",
       "      <td>0.0</td>\n",
       "      <td>0.0</td>\n",
       "      <td>0.000088</td>\n",
       "      <td>0.003213</td>\n",
       "      <td>0.0</td>\n",
       "      <td>0.000082</td>\n",
       "      <td>0.000696</td>\n",
       "      <td>0.000729</td>\n",
       "    </tr>\n",
       "    <tr>\n",
       "      <th>2031</th>\n",
       "      <th>SA</th>\n",
       "      <td>480.72</td>\n",
       "      <td>7.17</td>\n",
       "      <td>0.00</td>\n",
       "      <td>0.00</td>\n",
       "      <td>0.00</td>\n",
       "      <td>0.00</td>\n",
       "      <td>2</td>\n",
       "      <td>94.0</td>\n",
       "      <td>93.60</td>\n",
       "      <td>1</td>\n",
       "      <td>...</td>\n",
       "      <td>0.000000</td>\n",
       "      <td>0.000320</td>\n",
       "      <td>0.0</td>\n",
       "      <td>0.0</td>\n",
       "      <td>0.000029</td>\n",
       "      <td>0.004253</td>\n",
       "      <td>0.0</td>\n",
       "      <td>0.000082</td>\n",
       "      <td>0.000703</td>\n",
       "      <td>0.000747</td>\n",
       "    </tr>\n",
       "    <tr>\n",
       "      <th>2036</th>\n",
       "      <th>SA</th>\n",
       "      <td>503.77</td>\n",
       "      <td>4.75</td>\n",
       "      <td>0.00</td>\n",
       "      <td>0.00</td>\n",
       "      <td>0.00</td>\n",
       "      <td>0.00</td>\n",
       "      <td>2</td>\n",
       "      <td>99.0</td>\n",
       "      <td>98.62</td>\n",
       "      <td>1</td>\n",
       "      <td>...</td>\n",
       "      <td>0.000000</td>\n",
       "      <td>0.000314</td>\n",
       "      <td>0.0</td>\n",
       "      <td>0.0</td>\n",
       "      <td>0.000000</td>\n",
       "      <td>0.004918</td>\n",
       "      <td>0.0</td>\n",
       "      <td>0.000082</td>\n",
       "      <td>0.000707</td>\n",
       "      <td>0.000765</td>\n",
       "    </tr>\n",
       "    <tr>\n",
       "      <th>2041</th>\n",
       "      <th>SA</th>\n",
       "      <td>518.69</td>\n",
       "      <td>3.13</td>\n",
       "      <td>0.00</td>\n",
       "      <td>0.00</td>\n",
       "      <td>0.00</td>\n",
       "      <td>0.00</td>\n",
       "      <td>2</td>\n",
       "      <td>104.0</td>\n",
       "      <td>103.63</td>\n",
       "      <td>1</td>\n",
       "      <td>...</td>\n",
       "      <td>0.000000</td>\n",
       "      <td>0.000311</td>\n",
       "      <td>0.0</td>\n",
       "      <td>0.0</td>\n",
       "      <td>0.000000</td>\n",
       "      <td>0.005344</td>\n",
       "      <td>0.0</td>\n",
       "      <td>0.000055</td>\n",
       "      <td>0.000710</td>\n",
       "      <td>0.000783</td>\n",
       "    </tr>\n",
       "    <tr>\n",
       "      <th>...</th>\n",
       "      <th>...</th>\n",
       "      <th>...</th>\n",
       "      <td>...</td>\n",
       "      <td>...</td>\n",
       "      <td>...</td>\n",
       "      <td>...</td>\n",
       "      <td>...</td>\n",
       "      <td>...</td>\n",
       "      <td>...</td>\n",
       "      <td>...</td>\n",
       "      <td>...</td>\n",
       "      <td>...</td>\n",
       "      <td>...</td>\n",
       "      <td>...</td>\n",
       "      <td>...</td>\n",
       "      <td>...</td>\n",
       "      <td>...</td>\n",
       "      <td>...</td>\n",
       "      <td>...</td>\n",
       "      <td>...</td>\n",
       "      <td>...</td>\n",
       "      <td>...</td>\n",
       "      <td>...</td>\n",
       "    </tr>\n",
       "    <tr>\n",
       "      <th rowspan=\"5\" valign=\"top\">99043411</th>\n",
       "      <th rowspan=\"5\" valign=\"top\">2116</th>\n",
       "      <th>CCF_1</th>\n",
       "      <td>133.70</td>\n",
       "      <td>4.66</td>\n",
       "      <td>0.00</td>\n",
       "      <td>0.00</td>\n",
       "      <td>0.00</td>\n",
       "      <td>0.00</td>\n",
       "      <td>6</td>\n",
       "      <td>138.8</td>\n",
       "      <td>108.70</td>\n",
       "      <td>3</td>\n",
       "      <td>...</td>\n",
       "      <td>0.000882</td>\n",
       "      <td>0.000336</td>\n",
       "      <td>0.0</td>\n",
       "      <td>0.0</td>\n",
       "      <td>0.000000</td>\n",
       "      <td>0.000150</td>\n",
       "      <td>0.0</td>\n",
       "      <td>0.002117</td>\n",
       "      <td>0.000551</td>\n",
       "      <td>0.000823</td>\n",
       "    </tr>\n",
       "    <tr>\n",
       "      <th>CCF_2</th>\n",
       "      <td>90.95</td>\n",
       "      <td>5.64</td>\n",
       "      <td>21.71</td>\n",
       "      <td>8.22</td>\n",
       "      <td>10.63</td>\n",
       "      <td>18.85</td>\n",
       "      <td>6</td>\n",
       "      <td>138.8</td>\n",
       "      <td>103.28</td>\n",
       "      <td>3</td>\n",
       "      <td>...</td>\n",
       "      <td>0.000535</td>\n",
       "      <td>0.000382</td>\n",
       "      <td>0.0</td>\n",
       "      <td>0.0</td>\n",
       "      <td>0.000000</td>\n",
       "      <td>0.000164</td>\n",
       "      <td>0.0</td>\n",
       "      <td>0.002007</td>\n",
       "      <td>0.000538</td>\n",
       "      <td>0.000822</td>\n",
       "    </tr>\n",
       "    <tr>\n",
       "      <th>CCF_3</th>\n",
       "      <td>164.46</td>\n",
       "      <td>4.69</td>\n",
       "      <td>0.00</td>\n",
       "      <td>0.00</td>\n",
       "      <td>0.00</td>\n",
       "      <td>0.00</td>\n",
       "      <td>6</td>\n",
       "      <td>138.8</td>\n",
       "      <td>121.35</td>\n",
       "      <td>3</td>\n",
       "      <td>...</td>\n",
       "      <td>0.000814</td>\n",
       "      <td>0.000315</td>\n",
       "      <td>0.0</td>\n",
       "      <td>0.0</td>\n",
       "      <td>0.000000</td>\n",
       "      <td>0.000170</td>\n",
       "      <td>0.0</td>\n",
       "      <td>0.002447</td>\n",
       "      <td>0.000574</td>\n",
       "      <td>0.000838</td>\n",
       "    </tr>\n",
       "    <tr>\n",
       "      <th>CCF_4</th>\n",
       "      <td>237.52</td>\n",
       "      <td>4.70</td>\n",
       "      <td>0.00</td>\n",
       "      <td>0.00</td>\n",
       "      <td>0.00</td>\n",
       "      <td>0.00</td>\n",
       "      <td>6</td>\n",
       "      <td>138.8</td>\n",
       "      <td>132.80</td>\n",
       "      <td>3</td>\n",
       "      <td>...</td>\n",
       "      <td>0.000936</td>\n",
       "      <td>0.000276</td>\n",
       "      <td>0.0</td>\n",
       "      <td>0.0</td>\n",
       "      <td>0.000000</td>\n",
       "      <td>0.000203</td>\n",
       "      <td>0.0</td>\n",
       "      <td>0.002640</td>\n",
       "      <td>0.000647</td>\n",
       "      <td>0.000886</td>\n",
       "    </tr>\n",
       "    <tr>\n",
       "      <th>SA</th>\n",
       "      <td>212.45</td>\n",
       "      <td>0.47</td>\n",
       "      <td>0.00</td>\n",
       "      <td>0.00</td>\n",
       "      <td>0.00</td>\n",
       "      <td>0.00</td>\n",
       "      <td>3</td>\n",
       "      <td>138.8</td>\n",
       "      <td>138.79</td>\n",
       "      <td>3</td>\n",
       "      <td>...</td>\n",
       "      <td>0.000908</td>\n",
       "      <td>0.000266</td>\n",
       "      <td>0.0</td>\n",
       "      <td>0.0</td>\n",
       "      <td>0.000000</td>\n",
       "      <td>0.000580</td>\n",
       "      <td>0.0</td>\n",
       "      <td>0.002750</td>\n",
       "      <td>0.000635</td>\n",
       "      <td>0.000905</td>\n",
       "    </tr>\n",
       "  </tbody>\n",
       "</table>\n",
       "<p>769400 rows × 78 columns</p>\n",
       "</div>"
      ],
      "text/plain": [
       "                           V  i_Vm3  Harvested_V  Harvested_V_log_under_bark  \\\n",
       "id       year regime                                                           \n",
       "99011014 2021 SA      409.58   7.20         0.00                        0.00   \n",
       "         2026 SA      445.49   7.29         0.00                        0.00   \n",
       "         2031 SA      480.72   7.17         0.00                        0.00   \n",
       "         2036 SA      503.77   4.75         0.00                        0.00   \n",
       "         2041 SA      518.69   3.13         0.00                        0.00   \n",
       "...                      ...    ...          ...                         ...   \n",
       "99043411 2116 CCF_1   133.70   4.66         0.00                        0.00   \n",
       "              CCF_2    90.95   5.64        21.71                        8.22   \n",
       "              CCF_3   164.46   4.69         0.00                        0.00   \n",
       "              CCF_4   237.52   4.70         0.00                        0.00   \n",
       "              SA      212.45   0.47         0.00                        0.00   \n",
       "\n",
       "                      Harvested_V_pulp_under_bark  Harvested_V_under_bark  \\\n",
       "id       year regime                                                        \n",
       "99011014 2021 SA                             0.00                    0.00   \n",
       "         2026 SA                             0.00                    0.00   \n",
       "         2031 SA                             0.00                    0.00   \n",
       "         2036 SA                             0.00                    0.00   \n",
       "         2041 SA                             0.00                    0.00   \n",
       "...                                           ...                     ...   \n",
       "99043411 2116 CCF_1                          0.00                    0.00   \n",
       "              CCF_2                         10.63                   18.85   \n",
       "              CCF_3                          0.00                    0.00   \n",
       "              CCF_4                          0.00                    0.00   \n",
       "              SA                             0.00                    0.00   \n",
       "\n",
       "                      MAIN_SP    Age  AGE_ba  SC  ...  \\\n",
       "id       year regime                              ...   \n",
       "99011014 2021 SA            2   84.0   83.53   1  ...   \n",
       "         2026 SA            2   89.0   88.57   1  ...   \n",
       "         2031 SA            2   94.0   93.60   1  ...   \n",
       "         2036 SA            2   99.0   98.62   1  ...   \n",
       "         2041 SA            2  104.0  103.63   1  ...   \n",
       "...                       ...    ...     ...  ..  ...   \n",
       "99043411 2116 CCF_1         6  138.8  108.70   3  ...   \n",
       "              CCF_2         6  138.8  103.28   3  ...   \n",
       "              CCF_3         6  138.8  121.35   3  ...   \n",
       "              CCF_4         6  138.8  132.80   3  ...   \n",
       "              SA            3  138.8  138.79   3  ...   \n",
       "\n",
       "                      Relative_Total_BILBERRY  Relative_Total_COWBERRY  \\\n",
       "id       year regime                                                     \n",
       "99011014 2021 SA                     0.000000                 0.000339   \n",
       "         2026 SA                     0.000000                 0.000329   \n",
       "         2031 SA                     0.000000                 0.000320   \n",
       "         2036 SA                     0.000000                 0.000314   \n",
       "         2041 SA                     0.000000                 0.000311   \n",
       "...                                       ...                      ...   \n",
       "99043411 2116 CCF_1                  0.000882                 0.000336   \n",
       "              CCF_2                  0.000535                 0.000382   \n",
       "              CCF_3                  0.000814                 0.000315   \n",
       "              CCF_4                  0.000936                 0.000276   \n",
       "              SA                     0.000908                 0.000266   \n",
       "\n",
       "                      Relative_Total_HSI_MOOSE  Relative_Total_CAPERCAILLIE  \\\n",
       "id       year regime                                                          \n",
       "99011014 2021 SA                           0.0                          0.0   \n",
       "         2026 SA                           0.0                          0.0   \n",
       "         2031 SA                           0.0                          0.0   \n",
       "         2036 SA                           0.0                          0.0   \n",
       "         2041 SA                           0.0                          0.0   \n",
       "...                                        ...                          ...   \n",
       "99043411 2116 CCF_1                        0.0                          0.0   \n",
       "              CCF_2                        0.0                          0.0   \n",
       "              CCF_3                        0.0                          0.0   \n",
       "              CCF_4                        0.0                          0.0   \n",
       "              SA                           0.0                          0.0   \n",
       "\n",
       "                      Relative_Total_HAZEL_GROUSE  \\\n",
       "id       year regime                                \n",
       "99011014 2021 SA                         0.000147   \n",
       "         2026 SA                         0.000088   \n",
       "         2031 SA                         0.000029   \n",
       "         2036 SA                         0.000000   \n",
       "         2041 SA                         0.000000   \n",
       "...                                           ...   \n",
       "99043411 2116 CCF_1                      0.000000   \n",
       "              CCF_2                      0.000000   \n",
       "              CCF_3                      0.000000   \n",
       "              CCF_4                      0.000000   \n",
       "              SA                         0.000000   \n",
       "\n",
       "                      Relative_Total_V_total_deadwood  \\\n",
       "id       year regime                                    \n",
       "99011014 2021 SA                             0.002044   \n",
       "         2026 SA                             0.003213   \n",
       "         2031 SA                             0.004253   \n",
       "         2036 SA                             0.004918   \n",
       "         2041 SA                             0.005344   \n",
       "...                                               ...   \n",
       "99043411 2116 CCF_1                          0.000150   \n",
       "              CCF_2                          0.000164   \n",
       "              CCF_3                          0.000170   \n",
       "              CCF_4                          0.000203   \n",
       "              SA                             0.000580   \n",
       "\n",
       "                      Relative_Total_N_where_D_gt_40  \\\n",
       "id       year regime                                   \n",
       "99011014 2021 SA                                 0.0   \n",
       "         2026 SA                                 0.0   \n",
       "         2031 SA                                 0.0   \n",
       "         2036 SA                                 0.0   \n",
       "         2041 SA                                 0.0   \n",
       "...                                              ...   \n",
       "99043411 2116 CCF_1                              0.0   \n",
       "              CCF_2                              0.0   \n",
       "              CCF_3                              0.0   \n",
       "              CCF_4                              0.0   \n",
       "              SA                                 0.0   \n",
       "\n",
       "                      Relative_Total_prc_V_deciduous  \\\n",
       "id       year regime                                   \n",
       "99011014 2021 SA                            0.000082   \n",
       "         2026 SA                            0.000082   \n",
       "         2031 SA                            0.000082   \n",
       "         2036 SA                            0.000082   \n",
       "         2041 SA                            0.000055   \n",
       "...                                              ...   \n",
       "99043411 2116 CCF_1                         0.002117   \n",
       "              CCF_2                         0.002007   \n",
       "              CCF_3                         0.002447   \n",
       "              CCF_4                         0.002640   \n",
       "              SA                            0.002750   \n",
       "\n",
       "                      Relative_Total_Recreation  Relative_Total_Scenic  \n",
       "id       year regime                                                    \n",
       "99011014 2021 SA                       0.000689               0.000711  \n",
       "         2026 SA                       0.000696               0.000729  \n",
       "         2031 SA                       0.000703               0.000747  \n",
       "         2036 SA                       0.000707               0.000765  \n",
       "         2041 SA                       0.000710               0.000783  \n",
       "...                                         ...                    ...  \n",
       "99043411 2116 CCF_1                    0.000551               0.000823  \n",
       "              CCF_2                    0.000538               0.000822  \n",
       "              CCF_3                    0.000574               0.000838  \n",
       "              CCF_4                    0.000647               0.000886  \n",
       "              SA                       0.000635               0.000905  \n",
       "\n",
       "[769400 rows x 78 columns]"
      ]
     },
     "execution_count": 32,
     "metadata": {},
     "output_type": "execute_result"
    }
   ],
   "source": [
    "mfo.data"
   ]
  },
  {
   "cell_type": "code",
   "execution_count": 33,
   "metadata": {
    "scrolled": false
   },
   "outputs": [
    {
     "data": {
      "text/plain": [
       "'Calculating objective ranges'"
      ]
     },
     "metadata": {},
     "output_type": "display_data"
    },
    {
     "name": "stdout",
     "output_type": "stream",
     "text": [
      "\r",
      "  0%|          | 0/7 [00:00<?, ?it/s]"
     ]
    },
    {
     "data": {
      "text/plain": [
       "'Optimizing for Average harvested timber volume (log & pulp) (m3/ha, evenflow)'"
      ]
     },
     "metadata": {},
     "output_type": "display_data"
    },
    {
     "data": {
      "text/plain": [
       "'Found an optimal solution in 1 seconds'"
      ]
     },
     "metadata": {},
     "output_type": "display_data"
    },
    {
     "data": {
      "text/plain": [
       "'Objective values are:'"
      ]
     },
     "metadata": {},
     "output_type": "display_data"
    },
    {
     "data": {
      "text/plain": [
       "'Average harvested timber volume (log & pulp) (m3/ha, evenflow)'"
      ]
     },
     "metadata": {},
     "output_type": "display_data"
    },
    {
     "data": {
      "text/plain": [
       "5.153204327374458"
      ]
     },
     "metadata": {},
     "output_type": "display_data"
    },
    {
     "data": {
      "text/plain": [
       "'Average harvested biomass volume (m3/ha, evenflow)'"
      ]
     },
     "metadata": {},
     "output_type": "display_data"
    },
    {
     "data": {
      "text/plain": [
       "0.26978669887024775"
      ]
     },
     "metadata": {},
     "output_type": "display_data"
    },
    {
     "data": {
      "text/plain": [
       "'Total Deadwood volume by 2050 (%, relative to 2016 values)'"
      ]
     },
     "metadata": {},
     "output_type": "display_data"
    },
    {
     "data": {
      "text/plain": [
       "0.8548854792710009"
      ]
     },
     "metadata": {},
     "output_type": "display_data"
    },
    {
     "data": {
      "text/plain": [
       "'Total No. of trees diameter >= 40 cm  by 2050 (%, relative to 2016 values)'"
      ]
     },
     "metadata": {},
     "output_type": "display_data"
    },
    {
     "data": {
      "text/plain": [
       "0.5831212892281596"
      ]
     },
     "metadata": {},
     "output_type": "display_data"
    },
    {
     "data": {
      "text/plain": [
       "'Total share of deciduous trees by 2050 (related to V) (%, relative to 2016 values)'"
      ]
     },
     "metadata": {},
     "output_type": "display_data"
    },
    {
     "data": {
      "text/plain": [
       "0.4720974826498283"
      ]
     },
     "metadata": {},
     "output_type": "display_data"
    },
    {
     "data": {
      "text/plain": [
       "'Total Recreation index (max minimum over all years)'"
      ]
     },
     "metadata": {},
     "output_type": "display_data"
    },
    {
     "data": {
      "text/plain": [
       "6752512.893602777"
      ]
     },
     "metadata": {},
     "output_type": "display_data"
    },
    {
     "data": {
      "text/plain": [
       "'Total Scenic index (max minimum over all years)'"
      ]
     },
     "metadata": {},
     "output_type": "display_data"
    },
    {
     "data": {
      "text/plain": [
       "6117077.43685122"
      ]
     },
     "metadata": {},
     "output_type": "display_data"
    },
    {
     "name": "stdout",
     "output_type": "stream",
     "text": [
      "\r",
      " 14%|█▍        | 1/7 [00:04<00:27,  4.57s/it]"
     ]
    },
    {
     "data": {
      "text/plain": [
       "'Optimizing for Average harvested biomass volume (m3/ha, evenflow)'"
      ]
     },
     "metadata": {},
     "output_type": "display_data"
    },
    {
     "data": {
      "text/plain": [
       "'Found an optimal solution in 0 seconds'"
      ]
     },
     "metadata": {},
     "output_type": "display_data"
    },
    {
     "data": {
      "text/plain": [
       "'Objective values are:'"
      ]
     },
     "metadata": {},
     "output_type": "display_data"
    },
    {
     "data": {
      "text/plain": [
       "'Average harvested timber volume (log & pulp) (m3/ha, evenflow)'"
      ]
     },
     "metadata": {},
     "output_type": "display_data"
    },
    {
     "data": {
      "text/plain": [
       "3.394357601922918"
      ]
     },
     "metadata": {},
     "output_type": "display_data"
    },
    {
     "data": {
      "text/plain": [
       "'Average harvested biomass volume (m3/ha, evenflow)'"
      ]
     },
     "metadata": {},
     "output_type": "display_data"
    },
    {
     "data": {
      "text/plain": [
       "0.6683348035327452"
      ]
     },
     "metadata": {},
     "output_type": "display_data"
    },
    {
     "data": {
      "text/plain": [
       "'Total Deadwood volume by 2050 (%, relative to 2016 values)'"
      ]
     },
     "metadata": {},
     "output_type": "display_data"
    },
    {
     "data": {
      "text/plain": [
       "1.1700362648669749"
      ]
     },
     "metadata": {},
     "output_type": "display_data"
    },
    {
     "data": {
      "text/plain": [
       "'Total No. of trees diameter >= 40 cm  by 2050 (%, relative to 2016 values)'"
      ]
     },
     "metadata": {},
     "output_type": "display_data"
    },
    {
     "data": {
      "text/plain": [
       "0.3333333333333334"
      ]
     },
     "metadata": {},
     "output_type": "display_data"
    },
    {
     "data": {
      "text/plain": [
       "'Total share of deciduous trees by 2050 (related to V) (%, relative to 2016 values)'"
      ]
     },
     "metadata": {},
     "output_type": "display_data"
    },
    {
     "data": {
      "text/plain": [
       "0.08981859562798014"
      ]
     },
     "metadata": {},
     "output_type": "display_data"
    },
    {
     "data": {
      "text/plain": [
       "'Total Recreation index (max minimum over all years)'"
      ]
     },
     "metadata": {},
     "output_type": "display_data"
    },
    {
     "data": {
      "text/plain": [
       "6734729.643279577"
      ]
     },
     "metadata": {},
     "output_type": "display_data"
    },
    {
     "data": {
      "text/plain": [
       "'Total Scenic index (max minimum over all years)'"
      ]
     },
     "metadata": {},
     "output_type": "display_data"
    },
    {
     "data": {
      "text/plain": [
       "6080800.820732711"
      ]
     },
     "metadata": {},
     "output_type": "display_data"
    },
    {
     "name": "stdout",
     "output_type": "stream",
     "text": [
      "\r",
      " 29%|██▊       | 2/7 [00:08<00:21,  4.38s/it]"
     ]
    },
    {
     "data": {
      "text/plain": [
       "'Optimizing for Total Deadwood volume by 2050 (%, relative to 2016 values)'"
      ]
     },
     "metadata": {},
     "output_type": "display_data"
    },
    {
     "data": {
      "text/plain": [
       "'Found an optimal solution in 0 seconds'"
      ]
     },
     "metadata": {},
     "output_type": "display_data"
    },
    {
     "data": {
      "text/plain": [
       "'Objective values are:'"
      ]
     },
     "metadata": {},
     "output_type": "display_data"
    },
    {
     "data": {
      "text/plain": [
       "'Average harvested timber volume (log & pulp) (m3/ha, evenflow)'"
      ]
     },
     "metadata": {},
     "output_type": "display_data"
    },
    {
     "data": {
      "text/plain": [
       "0.0"
      ]
     },
     "metadata": {},
     "output_type": "display_data"
    },
    {
     "data": {
      "text/plain": [
       "'Average harvested biomass volume (m3/ha, evenflow)'"
      ]
     },
     "metadata": {},
     "output_type": "display_data"
    },
    {
     "data": {
      "text/plain": [
       "0.0"
      ]
     },
     "metadata": {},
     "output_type": "display_data"
    },
    {
     "data": {
      "text/plain": [
       "'Total Deadwood volume by 2050 (%, relative to 2016 values)'"
      ]
     },
     "metadata": {},
     "output_type": "display_data"
    },
    {
     "data": {
      "text/plain": [
       "4.720384770498175"
      ]
     },
     "metadata": {},
     "output_type": "display_data"
    },
    {
     "data": {
      "text/plain": [
       "'Total No. of trees diameter >= 40 cm  by 2050 (%, relative to 2016 values)'"
      ]
     },
     "metadata": {},
     "output_type": "display_data"
    },
    {
     "data": {
      "text/plain": [
       "6.171755725190841"
      ]
     },
     "metadata": {},
     "output_type": "display_data"
    },
    {
     "data": {
      "text/plain": [
       "'Total share of deciduous trees by 2050 (related to V) (%, relative to 2016 values)'"
      ]
     },
     "metadata": {},
     "output_type": "display_data"
    },
    {
     "data": {
      "text/plain": [
       "0.4782907581048774"
      ]
     },
     "metadata": {},
     "output_type": "display_data"
    },
    {
     "data": {
      "text/plain": [
       "'Total Recreation index (max minimum over all years)'"
      ]
     },
     "metadata": {},
     "output_type": "display_data"
    },
    {
     "data": {
      "text/plain": [
       "7468148.032000015"
      ]
     },
     "metadata": {},
     "output_type": "display_data"
    },
    {
     "data": {
      "text/plain": [
       "'Total Scenic index (max minimum over all years)'"
      ]
     },
     "metadata": {},
     "output_type": "display_data"
    },
    {
     "data": {
      "text/plain": [
       "6921648.154000009"
      ]
     },
     "metadata": {},
     "output_type": "display_data"
    },
    {
     "name": "stdout",
     "output_type": "stream",
     "text": [
      "\r",
      " 43%|████▎     | 3/7 [00:12<00:17,  4.29s/it]"
     ]
    },
    {
     "data": {
      "text/plain": [
       "'Optimizing for Total No. of trees diameter >= 40 cm  by 2050 (%, relative to 2016 values)'"
      ]
     },
     "metadata": {},
     "output_type": "display_data"
    },
    {
     "data": {
      "text/plain": [
       "'Found an optimal solution in 0 seconds'"
      ]
     },
     "metadata": {},
     "output_type": "display_data"
    },
    {
     "data": {
      "text/plain": [
       "'Objective values are:'"
      ]
     },
     "metadata": {},
     "output_type": "display_data"
    },
    {
     "data": {
      "text/plain": [
       "'Average harvested timber volume (log & pulp) (m3/ha, evenflow)'"
      ]
     },
     "metadata": {},
     "output_type": "display_data"
    },
    {
     "data": {
      "text/plain": [
       "1.2677697037451088"
      ]
     },
     "metadata": {},
     "output_type": "display_data"
    },
    {
     "data": {
      "text/plain": [
       "'Average harvested biomass volume (m3/ha, evenflow)'"
      ]
     },
     "metadata": {},
     "output_type": "display_data"
    },
    {
     "data": {
      "text/plain": [
       "0.0020346562325321404"
      ]
     },
     "metadata": {},
     "output_type": "display_data"
    },
    {
     "data": {
      "text/plain": [
       "'Total Deadwood volume by 2050 (%, relative to 2016 values)'"
      ]
     },
     "metadata": {},
     "output_type": "display_data"
    },
    {
     "data": {
      "text/plain": [
       "1.4998808680234317"
      ]
     },
     "metadata": {},
     "output_type": "display_data"
    },
    {
     "data": {
      "text/plain": [
       "'Total No. of trees diameter >= 40 cm  by 2050 (%, relative to 2016 values)'"
      ]
     },
     "metadata": {},
     "output_type": "display_data"
    },
    {
     "data": {
      "text/plain": [
       "20.39588634435963"
      ]
     },
     "metadata": {},
     "output_type": "display_data"
    },
    {
     "data": {
      "text/plain": [
       "'Total share of deciduous trees by 2050 (related to V) (%, relative to 2016 values)'"
      ]
     },
     "metadata": {},
     "output_type": "display_data"
    },
    {
     "data": {
      "text/plain": [
       "1.0785950632899812"
      ]
     },
     "metadata": {},
     "output_type": "display_data"
    },
    {
     "data": {
      "text/plain": [
       "'Total Recreation index (max minimum over all years)'"
      ]
     },
     "metadata": {},
     "output_type": "display_data"
    },
    {
     "data": {
      "text/plain": [
       "6851637.9980000155"
      ]
     },
     "metadata": {},
     "output_type": "display_data"
    },
    {
     "data": {
      "text/plain": [
       "'Total Scenic index (max minimum over all years)'"
      ]
     },
     "metadata": {},
     "output_type": "display_data"
    },
    {
     "data": {
      "text/plain": [
       "6372434.383999997"
      ]
     },
     "metadata": {},
     "output_type": "display_data"
    },
    {
     "name": "stdout",
     "output_type": "stream",
     "text": [
      "\r",
      " 57%|█████▋    | 4/7 [00:16<00:12,  4.13s/it]"
     ]
    },
    {
     "data": {
      "text/plain": [
       "'Optimizing for Total share of deciduous trees by 2050 (related to V) (%, relative to 2016 values)'"
      ]
     },
     "metadata": {},
     "output_type": "display_data"
    },
    {
     "data": {
      "text/plain": [
       "'Found an optimal solution in 0 seconds'"
      ]
     },
     "metadata": {},
     "output_type": "display_data"
    },
    {
     "data": {
      "text/plain": [
       "'Objective values are:'"
      ]
     },
     "metadata": {},
     "output_type": "display_data"
    },
    {
     "data": {
      "text/plain": [
       "'Average harvested timber volume (log & pulp) (m3/ha, evenflow)'"
      ]
     },
     "metadata": {},
     "output_type": "display_data"
    },
    {
     "data": {
      "text/plain": [
       "2.1196996842946887"
      ]
     },
     "metadata": {},
     "output_type": "display_data"
    },
    {
     "data": {
      "text/plain": [
       "'Average harvested biomass volume (m3/ha, evenflow)'"
      ]
     },
     "metadata": {},
     "output_type": "display_data"
    },
    {
     "data": {
      "text/plain": [
       "0.017238680827277808"
      ]
     },
     "metadata": {},
     "output_type": "display_data"
    },
    {
     "data": {
      "text/plain": [
       "'Total Deadwood volume by 2050 (%, relative to 2016 values)'"
      ]
     },
     "metadata": {},
     "output_type": "display_data"
    },
    {
     "data": {
      "text/plain": [
       "1.2213384040339776"
      ]
     },
     "metadata": {},
     "output_type": "display_data"
    },
    {
     "data": {
      "text/plain": [
       "'Total No. of trees diameter >= 40 cm  by 2050 (%, relative to 2016 values)'"
      ]
     },
     "metadata": {},
     "output_type": "display_data"
    },
    {
     "data": {
      "text/plain": [
       "3.9083969465648867"
      ]
     },
     "metadata": {},
     "output_type": "display_data"
    },
    {
     "data": {
      "text/plain": [
       "'Total share of deciduous trees by 2050 (related to V) (%, relative to 2016 values)'"
      ]
     },
     "metadata": {},
     "output_type": "display_data"
    },
    {
     "data": {
      "text/plain": [
       "1.4016673177073269"
      ]
     },
     "metadata": {},
     "output_type": "display_data"
    },
    {
     "data": {
      "text/plain": [
       "'Total Recreation index (max minimum over all years)'"
      ]
     },
     "metadata": {},
     "output_type": "display_data"
    },
    {
     "data": {
      "text/plain": [
       "6774415.267878579"
      ]
     },
     "metadata": {},
     "output_type": "display_data"
    },
    {
     "data": {
      "text/plain": [
       "'Total Scenic index (max minimum over all years)'"
      ]
     },
     "metadata": {},
     "output_type": "display_data"
    },
    {
     "data": {
      "text/plain": [
       "6267905.052098856"
      ]
     },
     "metadata": {},
     "output_type": "display_data"
    },
    {
     "name": "stdout",
     "output_type": "stream",
     "text": [
      "\r",
      " 71%|███████▏  | 5/7 [00:20<00:08,  4.09s/it]"
     ]
    },
    {
     "data": {
      "text/plain": [
       "'Optimizing for Total Recreation index (max minimum over all years)'"
      ]
     },
     "metadata": {},
     "output_type": "display_data"
    },
    {
     "data": {
      "text/plain": [
       "'Found an optimal solution in 1 seconds'"
      ]
     },
     "metadata": {},
     "output_type": "display_data"
    },
    {
     "data": {
      "text/plain": [
       "'Objective values are:'"
      ]
     },
     "metadata": {},
     "output_type": "display_data"
    },
    {
     "data": {
      "text/plain": [
       "'Average harvested timber volume (log & pulp) (m3/ha, evenflow)'"
      ]
     },
     "metadata": {},
     "output_type": "display_data"
    },
    {
     "data": {
      "text/plain": [
       "1.3811179429849072"
      ]
     },
     "metadata": {},
     "output_type": "display_data"
    },
    {
     "data": {
      "text/plain": [
       "'Average harvested biomass volume (m3/ha, evenflow)'"
      ]
     },
     "metadata": {},
     "output_type": "display_data"
    },
    {
     "data": {
      "text/plain": [
       "0.08211850195640025"
      ]
     },
     "metadata": {},
     "output_type": "display_data"
    },
    {
     "data": {
      "text/plain": [
       "'Total Deadwood volume by 2050 (%, relative to 2016 values)'"
      ]
     },
     "metadata": {},
     "output_type": "display_data"
    },
    {
     "data": {
      "text/plain": [
       "3.171442354296291"
      ]
     },
     "metadata": {},
     "output_type": "display_data"
    },
    {
     "data": {
      "text/plain": [
       "'Total No. of trees diameter >= 40 cm  by 2050 (%, relative to 2016 values)'"
      ]
     },
     "metadata": {},
     "output_type": "display_data"
    },
    {
     "data": {
      "text/plain": [
       "11.16348600508906"
      ]
     },
     "metadata": {},
     "output_type": "display_data"
    },
    {
     "data": {
      "text/plain": [
       "'Total share of deciduous trees by 2050 (related to V) (%, relative to 2016 values)'"
      ]
     },
     "metadata": {},
     "output_type": "display_data"
    },
    {
     "data": {
      "text/plain": [
       "0.5242452299439372"
      ]
     },
     "metadata": {},
     "output_type": "display_data"
    },
    {
     "data": {
      "text/plain": [
       "'Total Recreation index (max minimum over all years)'"
      ]
     },
     "metadata": {},
     "output_type": "display_data"
    },
    {
     "data": {
      "text/plain": [
       "7599694.349055961"
      ]
     },
     "metadata": {},
     "output_type": "display_data"
    },
    {
     "data": {
      "text/plain": [
       "'Total Scenic index (max minimum over all years)'"
      ]
     },
     "metadata": {},
     "output_type": "display_data"
    },
    {
     "data": {
      "text/plain": [
       "6922196.674700715"
      ]
     },
     "metadata": {},
     "output_type": "display_data"
    },
    {
     "name": "stdout",
     "output_type": "stream",
     "text": [
      "\r",
      " 86%|████████▌ | 6/7 [00:24<00:04,  4.16s/it]"
     ]
    },
    {
     "data": {
      "text/plain": [
       "'Optimizing for Total Scenic index (max minimum over all years)'"
      ]
     },
     "metadata": {},
     "output_type": "display_data"
    },
    {
     "data": {
      "text/plain": [
       "'Found an optimal solution in 0 seconds'"
      ]
     },
     "metadata": {},
     "output_type": "display_data"
    },
    {
     "data": {
      "text/plain": [
       "'Objective values are:'"
      ]
     },
     "metadata": {},
     "output_type": "display_data"
    },
    {
     "data": {
      "text/plain": [
       "'Average harvested timber volume (log & pulp) (m3/ha, evenflow)'"
      ]
     },
     "metadata": {},
     "output_type": "display_data"
    },
    {
     "data": {
      "text/plain": [
       "1.1008044515817315"
      ]
     },
     "metadata": {},
     "output_type": "display_data"
    },
    {
     "data": {
      "text/plain": [
       "'Average harvested biomass volume (m3/ha, evenflow)'"
      ]
     },
     "metadata": {},
     "output_type": "display_data"
    },
    {
     "data": {
      "text/plain": [
       "0.08728339854667419"
      ]
     },
     "metadata": {},
     "output_type": "display_data"
    },
    {
     "data": {
      "text/plain": [
       "'Total Deadwood volume by 2050 (%, relative to 2016 values)'"
      ]
     },
     "metadata": {},
     "output_type": "display_data"
    },
    {
     "data": {
      "text/plain": [
       "3.4224042980279528"
      ]
     },
     "metadata": {},
     "output_type": "display_data"
    },
    {
     "data": {
      "text/plain": [
       "'Total No. of trees diameter >= 40 cm  by 2050 (%, relative to 2016 values)'"
      ]
     },
     "metadata": {},
     "output_type": "display_data"
    },
    {
     "data": {
      "text/plain": [
       "6.5199321458863455"
      ]
     },
     "metadata": {},
     "output_type": "display_data"
    },
    {
     "data": {
      "text/plain": [
       "'Total share of deciduous trees by 2050 (related to V) (%, relative to 2016 values)'"
      ]
     },
     "metadata": {},
     "output_type": "display_data"
    },
    {
     "data": {
      "text/plain": [
       "0.6052465146973907"
      ]
     },
     "metadata": {},
     "output_type": "display_data"
    },
    {
     "data": {
      "text/plain": [
       "'Total Recreation index (max minimum over all years)'"
      ]
     },
     "metadata": {},
     "output_type": "display_data"
    },
    {
     "data": {
      "text/plain": [
       "7560858.430247516"
      ]
     },
     "metadata": {},
     "output_type": "display_data"
    },
    {
     "data": {
      "text/plain": [
       "'Total Scenic index (max minimum over all years)'"
      ]
     },
     "metadata": {},
     "output_type": "display_data"
    },
    {
     "data": {
      "text/plain": [
       "6987017.443732449"
      ]
     },
     "metadata": {},
     "output_type": "display_data"
    },
    {
     "name": "stdout",
     "output_type": "stream",
     "text": [
      "100%|██████████| 7/7 [00:28<00:00,  4.11s/it]\n",
      "CPU times: user 30.7 s, sys: 16.8 s, total: 47.6 s\n",
      "Wall time: 28.8 s\n"
     ]
    }
   ],
   "source": [
    "%%time\n",
    "mfo.calculateObjectiveRanges(debug=True)"
   ]
  },
  {
   "cell_type": "code",
   "execution_count": 34,
   "metadata": {},
   "outputs": [
    {
     "data": {
      "text/plain": [
       "{'Average_Harvested_V': (0.0, 5.153204327374458),\n",
       " 'Biomass_Evenflow': (0.0, 0.6683348035327452),\n",
       " 'relative_Amount_Deadwood_2050': (0.8548854792710009, 4.720384770498175),\n",
       " 'relative_N_where_D_gt_40_2050': (0.3333333333333334, 20.39588634435963),\n",
       " 'relative_prc_V_deciduous_2050': (0.08981859562798014, 1.4016673177073269),\n",
       " 'Sum_Total_Recreation': (6734729.643279577, 7599694.349055961),\n",
       " 'Sum_Total_Scenic': (6080800.820732711, 6987017.443732449)}"
      ]
     },
     "execution_count": 34,
     "metadata": {},
     "output_type": "execute_result"
    }
   ],
   "source": [
    "mfo.objectiveRanges"
   ]
  },
  {
   "cell_type": "markdown",
   "metadata": {},
   "source": [
    "## Show GUI"
   ]
  },
  {
   "cell_type": "markdown",
   "metadata": {},
   "source": [
    "* If \"Enabled constraints\" should be considered, start with ticking box \"only CCF ...\" and push \"Change constraints\"\n",
    "* Epsilon constraints are only considered if sliders are moved and button \"Set epsilon constraints\" is pushed\n",
    "* By pushing \"OPTIMIZE\" an optimal solution under the given constraints and reference points is searched\n",
    "\n",
    "<b>SEE example figure below for scenario BES</b>"
   ]
  },
  {
   "cell_type": "markdown",
   "metadata": {},
   "source": [
    "![image](./MFGUIExample.png)"
   ]
  },
  {
   "cell_type": "code",
   "execution_count": 35,
   "metadata": {},
   "outputs": [
    {
     "data": {
      "text/html": [
       "<style>\n",
       "            .widget-label { min-width: 60% !important; }\n",
       "        </style>"
      ],
      "text/plain": [
       "<IPython.core.display.HTML object>"
      ]
     },
     "metadata": {},
     "output_type": "display_data"
    },
    {
     "data": {
      "text/html": [
       "<h2>Epsilon constraint values</h2>"
      ],
      "text/plain": [
       "<IPython.core.display.HTML object>"
      ]
     },
     "metadata": {},
     "output_type": "display_data"
    },
    {
     "data": {
      "application/vnd.jupyter.widget-view+json": {
       "model_id": "2316865bb8064780aaf5d252f72a1b5f",
       "version_major": 2,
       "version_minor": 0
      },
      "text/plain": [
       "interactive(children=(FloatSlider(value=0.0, description='Average harvested timber volume (log & pulp) (m3/ha,…"
      ]
     },
     "metadata": {},
     "output_type": "display_data"
    },
    {
     "data": {
      "text/html": [
       "<h2>Reference point</h2>"
      ],
      "text/plain": [
       "<IPython.core.display.HTML object>"
      ]
     },
     "metadata": {},
     "output_type": "display_data"
    },
    {
     "data": {
      "application/vnd.jupyter.widget-view+json": {
       "model_id": "bc9ee90bbd4c48b78a5bf8085905aa6a",
       "version_major": 2,
       "version_minor": 0
      },
      "text/plain": [
       "interactive(children=(FloatSlider(value=2.576602163687229, description='Average harvested timber volume (log &…"
      ]
     },
     "metadata": {},
     "output_type": "display_data"
    },
    {
     "data": {
      "text/html": [
       "<h2>Enabled constraints</h2>"
      ],
      "text/plain": [
       "<IPython.core.display.HTML object>"
      ]
     },
     "metadata": {},
     "output_type": "display_data"
    },
    {
     "data": {
      "application/vnd.jupyter.widget-view+json": {
       "model_id": "b43bbd19d86348298754f85bff7b4ccd",
       "version_major": 2,
       "version_minor": 0
      },
      "text/plain": [
       "interactive(children=(Checkbox(value=False, description='Only CCF on peat lands'), Button(description='Change …"
      ]
     },
     "metadata": {},
     "output_type": "display_data"
    },
    {
     "data": {
      "application/vnd.jupyter.widget-view+json": {
       "model_id": "522c6ccbb63f4e5480af5e652140a37a",
       "version_major": 2,
       "version_minor": 0
      },
      "text/plain": [
       "Button(description='Print solution', style=ButtonStyle())"
      ]
     },
     "metadata": {},
     "output_type": "display_data"
    }
   ],
   "source": [
    "mfo.showGUI(debug=True)"
   ]
  },
  {
   "cell_type": "markdown",
   "metadata": {},
   "source": [
    "## Visualization of optimal solution"
   ]
  },
  {
   "cell_type": "code",
   "execution_count": 36,
   "metadata": {},
   "outputs": [],
   "source": [
    "regimeAmounts = {regime:0 for regime in mfo.regimes}\n",
    "for key in mfo.regimesDecision.keys():\n",
    "    regimeAmounts[key[1]] +=mfo.regimesDecision[key].solution_value()*mfo.standAreas.loc[key[0],\"represented_area_by_NFIplot\"]/mfo.standAreas[\"represented_area_by_NFIplot\"].sum()"
   ]
  },
  {
   "cell_type": "code",
   "execution_count": 37,
   "metadata": {},
   "outputs": [
    {
     "name": "stdout",
     "output_type": "stream",
     "text": [
      "Populating the interactive namespace from numpy and matplotlib\n"
     ]
    }
   ],
   "source": [
    "%pylab notebook"
   ]
  },
  {
   "cell_type": "code",
   "execution_count": 38,
   "metadata": {},
   "outputs": [],
   "source": [
    "#[val for val in regimeAmounts.values()]"
   ]
  },
  {
   "cell_type": "code",
   "execution_count": 39,
   "metadata": {},
   "outputs": [
    {
     "data": {
      "application/javascript": [
       "/* Put everything inside the global mpl namespace */\n",
       "window.mpl = {};\n",
       "\n",
       "\n",
       "mpl.get_websocket_type = function() {\n",
       "    if (typeof(WebSocket) !== 'undefined') {\n",
       "        return WebSocket;\n",
       "    } else if (typeof(MozWebSocket) !== 'undefined') {\n",
       "        return MozWebSocket;\n",
       "    } else {\n",
       "        alert('Your browser does not have WebSocket support. ' +\n",
       "              'Please try Chrome, Safari or Firefox ≥ 6. ' +\n",
       "              'Firefox 4 and 5 are also supported but you ' +\n",
       "              'have to enable WebSockets in about:config.');\n",
       "    };\n",
       "}\n",
       "\n",
       "mpl.figure = function(figure_id, websocket, ondownload, parent_element) {\n",
       "    this.id = figure_id;\n",
       "\n",
       "    this.ws = websocket;\n",
       "\n",
       "    this.supports_binary = (this.ws.binaryType != undefined);\n",
       "\n",
       "    if (!this.supports_binary) {\n",
       "        var warnings = document.getElementById(\"mpl-warnings\");\n",
       "        if (warnings) {\n",
       "            warnings.style.display = 'block';\n",
       "            warnings.textContent = (\n",
       "                \"This browser does not support binary websocket messages. \" +\n",
       "                    \"Performance may be slow.\");\n",
       "        }\n",
       "    }\n",
       "\n",
       "    this.imageObj = new Image();\n",
       "\n",
       "    this.context = undefined;\n",
       "    this.message = undefined;\n",
       "    this.canvas = undefined;\n",
       "    this.rubberband_canvas = undefined;\n",
       "    this.rubberband_context = undefined;\n",
       "    this.format_dropdown = undefined;\n",
       "\n",
       "    this.image_mode = 'full';\n",
       "\n",
       "    this.root = $('<div/>');\n",
       "    this._root_extra_style(this.root)\n",
       "    this.root.attr('style', 'display: inline-block');\n",
       "\n",
       "    $(parent_element).append(this.root);\n",
       "\n",
       "    this._init_header(this);\n",
       "    this._init_canvas(this);\n",
       "    this._init_toolbar(this);\n",
       "\n",
       "    var fig = this;\n",
       "\n",
       "    this.waiting = false;\n",
       "\n",
       "    this.ws.onopen =  function () {\n",
       "            fig.send_message(\"supports_binary\", {value: fig.supports_binary});\n",
       "            fig.send_message(\"send_image_mode\", {});\n",
       "            if (mpl.ratio != 1) {\n",
       "                fig.send_message(\"set_dpi_ratio\", {'dpi_ratio': mpl.ratio});\n",
       "            }\n",
       "            fig.send_message(\"refresh\", {});\n",
       "        }\n",
       "\n",
       "    this.imageObj.onload = function() {\n",
       "            if (fig.image_mode == 'full') {\n",
       "                // Full images could contain transparency (where diff images\n",
       "                // almost always do), so we need to clear the canvas so that\n",
       "                // there is no ghosting.\n",
       "                fig.context.clearRect(0, 0, fig.canvas.width, fig.canvas.height);\n",
       "            }\n",
       "            fig.context.drawImage(fig.imageObj, 0, 0);\n",
       "        };\n",
       "\n",
       "    this.imageObj.onunload = function() {\n",
       "        fig.ws.close();\n",
       "    }\n",
       "\n",
       "    this.ws.onmessage = this._make_on_message_function(this);\n",
       "\n",
       "    this.ondownload = ondownload;\n",
       "}\n",
       "\n",
       "mpl.figure.prototype._init_header = function() {\n",
       "    var titlebar = $(\n",
       "        '<div class=\"ui-dialog-titlebar ui-widget-header ui-corner-all ' +\n",
       "        'ui-helper-clearfix\"/>');\n",
       "    var titletext = $(\n",
       "        '<div class=\"ui-dialog-title\" style=\"width: 100%; ' +\n",
       "        'text-align: center; padding: 3px;\"/>');\n",
       "    titlebar.append(titletext)\n",
       "    this.root.append(titlebar);\n",
       "    this.header = titletext[0];\n",
       "}\n",
       "\n",
       "\n",
       "\n",
       "mpl.figure.prototype._canvas_extra_style = function(canvas_div) {\n",
       "\n",
       "}\n",
       "\n",
       "\n",
       "mpl.figure.prototype._root_extra_style = function(canvas_div) {\n",
       "\n",
       "}\n",
       "\n",
       "mpl.figure.prototype._init_canvas = function() {\n",
       "    var fig = this;\n",
       "\n",
       "    var canvas_div = $('<div/>');\n",
       "\n",
       "    canvas_div.attr('style', 'position: relative; clear: both; outline: 0');\n",
       "\n",
       "    function canvas_keyboard_event(event) {\n",
       "        return fig.key_event(event, event['data']);\n",
       "    }\n",
       "\n",
       "    canvas_div.keydown('key_press', canvas_keyboard_event);\n",
       "    canvas_div.keyup('key_release', canvas_keyboard_event);\n",
       "    this.canvas_div = canvas_div\n",
       "    this._canvas_extra_style(canvas_div)\n",
       "    this.root.append(canvas_div);\n",
       "\n",
       "    var canvas = $('<canvas/>');\n",
       "    canvas.addClass('mpl-canvas');\n",
       "    canvas.attr('style', \"left: 0; top: 0; z-index: 0; outline: 0\")\n",
       "\n",
       "    this.canvas = canvas[0];\n",
       "    this.context = canvas[0].getContext(\"2d\");\n",
       "\n",
       "    var backingStore = this.context.backingStorePixelRatio ||\n",
       "\tthis.context.webkitBackingStorePixelRatio ||\n",
       "\tthis.context.mozBackingStorePixelRatio ||\n",
       "\tthis.context.msBackingStorePixelRatio ||\n",
       "\tthis.context.oBackingStorePixelRatio ||\n",
       "\tthis.context.backingStorePixelRatio || 1;\n",
       "\n",
       "    mpl.ratio = (window.devicePixelRatio || 1) / backingStore;\n",
       "\n",
       "    var rubberband = $('<canvas/>');\n",
       "    rubberband.attr('style', \"position: absolute; left: 0; top: 0; z-index: 1;\")\n",
       "\n",
       "    var pass_mouse_events = true;\n",
       "\n",
       "    canvas_div.resizable({\n",
       "        start: function(event, ui) {\n",
       "            pass_mouse_events = false;\n",
       "        },\n",
       "        resize: function(event, ui) {\n",
       "            fig.request_resize(ui.size.width, ui.size.height);\n",
       "        },\n",
       "        stop: function(event, ui) {\n",
       "            pass_mouse_events = true;\n",
       "            fig.request_resize(ui.size.width, ui.size.height);\n",
       "        },\n",
       "    });\n",
       "\n",
       "    function mouse_event_fn(event) {\n",
       "        if (pass_mouse_events)\n",
       "            return fig.mouse_event(event, event['data']);\n",
       "    }\n",
       "\n",
       "    rubberband.mousedown('button_press', mouse_event_fn);\n",
       "    rubberband.mouseup('button_release', mouse_event_fn);\n",
       "    // Throttle sequential mouse events to 1 every 20ms.\n",
       "    rubberband.mousemove('motion_notify', mouse_event_fn);\n",
       "\n",
       "    rubberband.mouseenter('figure_enter', mouse_event_fn);\n",
       "    rubberband.mouseleave('figure_leave', mouse_event_fn);\n",
       "\n",
       "    canvas_div.on(\"wheel\", function (event) {\n",
       "        event = event.originalEvent;\n",
       "        event['data'] = 'scroll'\n",
       "        if (event.deltaY < 0) {\n",
       "            event.step = 1;\n",
       "        } else {\n",
       "            event.step = -1;\n",
       "        }\n",
       "        mouse_event_fn(event);\n",
       "    });\n",
       "\n",
       "    canvas_div.append(canvas);\n",
       "    canvas_div.append(rubberband);\n",
       "\n",
       "    this.rubberband = rubberband;\n",
       "    this.rubberband_canvas = rubberband[0];\n",
       "    this.rubberband_context = rubberband[0].getContext(\"2d\");\n",
       "    this.rubberband_context.strokeStyle = \"#000000\";\n",
       "\n",
       "    this._resize_canvas = function(width, height) {\n",
       "        // Keep the size of the canvas, canvas container, and rubber band\n",
       "        // canvas in synch.\n",
       "        canvas_div.css('width', width)\n",
       "        canvas_div.css('height', height)\n",
       "\n",
       "        canvas.attr('width', width * mpl.ratio);\n",
       "        canvas.attr('height', height * mpl.ratio);\n",
       "        canvas.attr('style', 'width: ' + width + 'px; height: ' + height + 'px;');\n",
       "\n",
       "        rubberband.attr('width', width);\n",
       "        rubberband.attr('height', height);\n",
       "    }\n",
       "\n",
       "    // Set the figure to an initial 600x600px, this will subsequently be updated\n",
       "    // upon first draw.\n",
       "    this._resize_canvas(600, 600);\n",
       "\n",
       "    // Disable right mouse context menu.\n",
       "    $(this.rubberband_canvas).bind(\"contextmenu\",function(e){\n",
       "        return false;\n",
       "    });\n",
       "\n",
       "    function set_focus () {\n",
       "        canvas.focus();\n",
       "        canvas_div.focus();\n",
       "    }\n",
       "\n",
       "    window.setTimeout(set_focus, 100);\n",
       "}\n",
       "\n",
       "mpl.figure.prototype._init_toolbar = function() {\n",
       "    var fig = this;\n",
       "\n",
       "    var nav_element = $('<div/>');\n",
       "    nav_element.attr('style', 'width: 100%');\n",
       "    this.root.append(nav_element);\n",
       "\n",
       "    // Define a callback function for later on.\n",
       "    function toolbar_event(event) {\n",
       "        return fig.toolbar_button_onclick(event['data']);\n",
       "    }\n",
       "    function toolbar_mouse_event(event) {\n",
       "        return fig.toolbar_button_onmouseover(event['data']);\n",
       "    }\n",
       "\n",
       "    for(var toolbar_ind in mpl.toolbar_items) {\n",
       "        var name = mpl.toolbar_items[toolbar_ind][0];\n",
       "        var tooltip = mpl.toolbar_items[toolbar_ind][1];\n",
       "        var image = mpl.toolbar_items[toolbar_ind][2];\n",
       "        var method_name = mpl.toolbar_items[toolbar_ind][3];\n",
       "\n",
       "        if (!name) {\n",
       "            // put a spacer in here.\n",
       "            continue;\n",
       "        }\n",
       "        var button = $('<button/>');\n",
       "        button.addClass('ui-button ui-widget ui-state-default ui-corner-all ' +\n",
       "                        'ui-button-icon-only');\n",
       "        button.attr('role', 'button');\n",
       "        button.attr('aria-disabled', 'false');\n",
       "        button.click(method_name, toolbar_event);\n",
       "        button.mouseover(tooltip, toolbar_mouse_event);\n",
       "\n",
       "        var icon_img = $('<span/>');\n",
       "        icon_img.addClass('ui-button-icon-primary ui-icon');\n",
       "        icon_img.addClass(image);\n",
       "        icon_img.addClass('ui-corner-all');\n",
       "\n",
       "        var tooltip_span = $('<span/>');\n",
       "        tooltip_span.addClass('ui-button-text');\n",
       "        tooltip_span.html(tooltip);\n",
       "\n",
       "        button.append(icon_img);\n",
       "        button.append(tooltip_span);\n",
       "\n",
       "        nav_element.append(button);\n",
       "    }\n",
       "\n",
       "    var fmt_picker_span = $('<span/>');\n",
       "\n",
       "    var fmt_picker = $('<select/>');\n",
       "    fmt_picker.addClass('mpl-toolbar-option ui-widget ui-widget-content');\n",
       "    fmt_picker_span.append(fmt_picker);\n",
       "    nav_element.append(fmt_picker_span);\n",
       "    this.format_dropdown = fmt_picker[0];\n",
       "\n",
       "    for (var ind in mpl.extensions) {\n",
       "        var fmt = mpl.extensions[ind];\n",
       "        var option = $(\n",
       "            '<option/>', {selected: fmt === mpl.default_extension}).html(fmt);\n",
       "        fmt_picker.append(option);\n",
       "    }\n",
       "\n",
       "    // Add hover states to the ui-buttons\n",
       "    $( \".ui-button\" ).hover(\n",
       "        function() { $(this).addClass(\"ui-state-hover\");},\n",
       "        function() { $(this).removeClass(\"ui-state-hover\");}\n",
       "    );\n",
       "\n",
       "    var status_bar = $('<span class=\"mpl-message\"/>');\n",
       "    nav_element.append(status_bar);\n",
       "    this.message = status_bar[0];\n",
       "}\n",
       "\n",
       "mpl.figure.prototype.request_resize = function(x_pixels, y_pixels) {\n",
       "    // Request matplotlib to resize the figure. Matplotlib will then trigger a resize in the client,\n",
       "    // which will in turn request a refresh of the image.\n",
       "    this.send_message('resize', {'width': x_pixels, 'height': y_pixels});\n",
       "}\n",
       "\n",
       "mpl.figure.prototype.send_message = function(type, properties) {\n",
       "    properties['type'] = type;\n",
       "    properties['figure_id'] = this.id;\n",
       "    this.ws.send(JSON.stringify(properties));\n",
       "}\n",
       "\n",
       "mpl.figure.prototype.send_draw_message = function() {\n",
       "    if (!this.waiting) {\n",
       "        this.waiting = true;\n",
       "        this.ws.send(JSON.stringify({type: \"draw\", figure_id: this.id}));\n",
       "    }\n",
       "}\n",
       "\n",
       "\n",
       "mpl.figure.prototype.handle_save = function(fig, msg) {\n",
       "    var format_dropdown = fig.format_dropdown;\n",
       "    var format = format_dropdown.options[format_dropdown.selectedIndex].value;\n",
       "    fig.ondownload(fig, format);\n",
       "}\n",
       "\n",
       "\n",
       "mpl.figure.prototype.handle_resize = function(fig, msg) {\n",
       "    var size = msg['size'];\n",
       "    if (size[0] != fig.canvas.width || size[1] != fig.canvas.height) {\n",
       "        fig._resize_canvas(size[0], size[1]);\n",
       "        fig.send_message(\"refresh\", {});\n",
       "    };\n",
       "}\n",
       "\n",
       "mpl.figure.prototype.handle_rubberband = function(fig, msg) {\n",
       "    var x0 = msg['x0'] / mpl.ratio;\n",
       "    var y0 = (fig.canvas.height - msg['y0']) / mpl.ratio;\n",
       "    var x1 = msg['x1'] / mpl.ratio;\n",
       "    var y1 = (fig.canvas.height - msg['y1']) / mpl.ratio;\n",
       "    x0 = Math.floor(x0) + 0.5;\n",
       "    y0 = Math.floor(y0) + 0.5;\n",
       "    x1 = Math.floor(x1) + 0.5;\n",
       "    y1 = Math.floor(y1) + 0.5;\n",
       "    var min_x = Math.min(x0, x1);\n",
       "    var min_y = Math.min(y0, y1);\n",
       "    var width = Math.abs(x1 - x0);\n",
       "    var height = Math.abs(y1 - y0);\n",
       "\n",
       "    fig.rubberband_context.clearRect(\n",
       "        0, 0, fig.canvas.width / mpl.ratio, fig.canvas.height / mpl.ratio);\n",
       "\n",
       "    fig.rubberband_context.strokeRect(min_x, min_y, width, height);\n",
       "}\n",
       "\n",
       "mpl.figure.prototype.handle_figure_label = function(fig, msg) {\n",
       "    // Updates the figure title.\n",
       "    fig.header.textContent = msg['label'];\n",
       "}\n",
       "\n",
       "mpl.figure.prototype.handle_cursor = function(fig, msg) {\n",
       "    var cursor = msg['cursor'];\n",
       "    switch(cursor)\n",
       "    {\n",
       "    case 0:\n",
       "        cursor = 'pointer';\n",
       "        break;\n",
       "    case 1:\n",
       "        cursor = 'default';\n",
       "        break;\n",
       "    case 2:\n",
       "        cursor = 'crosshair';\n",
       "        break;\n",
       "    case 3:\n",
       "        cursor = 'move';\n",
       "        break;\n",
       "    }\n",
       "    fig.rubberband_canvas.style.cursor = cursor;\n",
       "}\n",
       "\n",
       "mpl.figure.prototype.handle_message = function(fig, msg) {\n",
       "    fig.message.textContent = msg['message'];\n",
       "}\n",
       "\n",
       "mpl.figure.prototype.handle_draw = function(fig, msg) {\n",
       "    // Request the server to send over a new figure.\n",
       "    fig.send_draw_message();\n",
       "}\n",
       "\n",
       "mpl.figure.prototype.handle_image_mode = function(fig, msg) {\n",
       "    fig.image_mode = msg['mode'];\n",
       "}\n",
       "\n",
       "mpl.figure.prototype.updated_canvas_event = function() {\n",
       "    // Called whenever the canvas gets updated.\n",
       "    this.send_message(\"ack\", {});\n",
       "}\n",
       "\n",
       "// A function to construct a web socket function for onmessage handling.\n",
       "// Called in the figure constructor.\n",
       "mpl.figure.prototype._make_on_message_function = function(fig) {\n",
       "    return function socket_on_message(evt) {\n",
       "        if (evt.data instanceof Blob) {\n",
       "            /* FIXME: We get \"Resource interpreted as Image but\n",
       "             * transferred with MIME type text/plain:\" errors on\n",
       "             * Chrome.  But how to set the MIME type?  It doesn't seem\n",
       "             * to be part of the websocket stream */\n",
       "            evt.data.type = \"image/png\";\n",
       "\n",
       "            /* Free the memory for the previous frames */\n",
       "            if (fig.imageObj.src) {\n",
       "                (window.URL || window.webkitURL).revokeObjectURL(\n",
       "                    fig.imageObj.src);\n",
       "            }\n",
       "\n",
       "            fig.imageObj.src = (window.URL || window.webkitURL).createObjectURL(\n",
       "                evt.data);\n",
       "            fig.updated_canvas_event();\n",
       "            fig.waiting = false;\n",
       "            return;\n",
       "        }\n",
       "        else if (typeof evt.data === 'string' && evt.data.slice(0, 21) == \"data:image/png;base64\") {\n",
       "            fig.imageObj.src = evt.data;\n",
       "            fig.updated_canvas_event();\n",
       "            fig.waiting = false;\n",
       "            return;\n",
       "        }\n",
       "\n",
       "        var msg = JSON.parse(evt.data);\n",
       "        var msg_type = msg['type'];\n",
       "\n",
       "        // Call the  \"handle_{type}\" callback, which takes\n",
       "        // the figure and JSON message as its only arguments.\n",
       "        try {\n",
       "            var callback = fig[\"handle_\" + msg_type];\n",
       "        } catch (e) {\n",
       "            console.log(\"No handler for the '\" + msg_type + \"' message type: \", msg);\n",
       "            return;\n",
       "        }\n",
       "\n",
       "        if (callback) {\n",
       "            try {\n",
       "                // console.log(\"Handling '\" + msg_type + \"' message: \", msg);\n",
       "                callback(fig, msg);\n",
       "            } catch (e) {\n",
       "                console.log(\"Exception inside the 'handler_\" + msg_type + \"' callback:\", e, e.stack, msg);\n",
       "            }\n",
       "        }\n",
       "    };\n",
       "}\n",
       "\n",
       "// from http://stackoverflow.com/questions/1114465/getting-mouse-location-in-canvas\n",
       "mpl.findpos = function(e) {\n",
       "    //this section is from http://www.quirksmode.org/js/events_properties.html\n",
       "    var targ;\n",
       "    if (!e)\n",
       "        e = window.event;\n",
       "    if (e.target)\n",
       "        targ = e.target;\n",
       "    else if (e.srcElement)\n",
       "        targ = e.srcElement;\n",
       "    if (targ.nodeType == 3) // defeat Safari bug\n",
       "        targ = targ.parentNode;\n",
       "\n",
       "    // jQuery normalizes the pageX and pageY\n",
       "    // pageX,Y are the mouse positions relative to the document\n",
       "    // offset() returns the position of the element relative to the document\n",
       "    var x = e.pageX - $(targ).offset().left;\n",
       "    var y = e.pageY - $(targ).offset().top;\n",
       "\n",
       "    return {\"x\": x, \"y\": y};\n",
       "};\n",
       "\n",
       "/*\n",
       " * return a copy of an object with only non-object keys\n",
       " * we need this to avoid circular references\n",
       " * http://stackoverflow.com/a/24161582/3208463\n",
       " */\n",
       "function simpleKeys (original) {\n",
       "  return Object.keys(original).reduce(function (obj, key) {\n",
       "    if (typeof original[key] !== 'object')\n",
       "        obj[key] = original[key]\n",
       "    return obj;\n",
       "  }, {});\n",
       "}\n",
       "\n",
       "mpl.figure.prototype.mouse_event = function(event, name) {\n",
       "    var canvas_pos = mpl.findpos(event)\n",
       "\n",
       "    if (name === 'button_press')\n",
       "    {\n",
       "        this.canvas.focus();\n",
       "        this.canvas_div.focus();\n",
       "    }\n",
       "\n",
       "    var x = canvas_pos.x * mpl.ratio;\n",
       "    var y = canvas_pos.y * mpl.ratio;\n",
       "\n",
       "    this.send_message(name, {x: x, y: y, button: event.button,\n",
       "                             step: event.step,\n",
       "                             guiEvent: simpleKeys(event)});\n",
       "\n",
       "    /* This prevents the web browser from automatically changing to\n",
       "     * the text insertion cursor when the button is pressed.  We want\n",
       "     * to control all of the cursor setting manually through the\n",
       "     * 'cursor' event from matplotlib */\n",
       "    event.preventDefault();\n",
       "    return false;\n",
       "}\n",
       "\n",
       "mpl.figure.prototype._key_event_extra = function(event, name) {\n",
       "    // Handle any extra behaviour associated with a key event\n",
       "}\n",
       "\n",
       "mpl.figure.prototype.key_event = function(event, name) {\n",
       "\n",
       "    // Prevent repeat events\n",
       "    if (name == 'key_press')\n",
       "    {\n",
       "        if (event.which === this._key)\n",
       "            return;\n",
       "        else\n",
       "            this._key = event.which;\n",
       "    }\n",
       "    if (name == 'key_release')\n",
       "        this._key = null;\n",
       "\n",
       "    var value = '';\n",
       "    if (event.ctrlKey && event.which != 17)\n",
       "        value += \"ctrl+\";\n",
       "    if (event.altKey && event.which != 18)\n",
       "        value += \"alt+\";\n",
       "    if (event.shiftKey && event.which != 16)\n",
       "        value += \"shift+\";\n",
       "\n",
       "    value += 'k';\n",
       "    value += event.which.toString();\n",
       "\n",
       "    this._key_event_extra(event, name);\n",
       "\n",
       "    this.send_message(name, {key: value,\n",
       "                             guiEvent: simpleKeys(event)});\n",
       "    return false;\n",
       "}\n",
       "\n",
       "mpl.figure.prototype.toolbar_button_onclick = function(name) {\n",
       "    if (name == 'download') {\n",
       "        this.handle_save(this, null);\n",
       "    } else {\n",
       "        this.send_message(\"toolbar_button\", {name: name});\n",
       "    }\n",
       "};\n",
       "\n",
       "mpl.figure.prototype.toolbar_button_onmouseover = function(tooltip) {\n",
       "    this.message.textContent = tooltip;\n",
       "};\n",
       "mpl.toolbar_items = [[\"Home\", \"Reset original view\", \"fa fa-home icon-home\", \"home\"], [\"Back\", \"Back to previous view\", \"fa fa-arrow-left icon-arrow-left\", \"back\"], [\"Forward\", \"Forward to next view\", \"fa fa-arrow-right icon-arrow-right\", \"forward\"], [\"\", \"\", \"\", \"\"], [\"Pan\", \"Pan axes with left mouse, zoom with right\", \"fa fa-arrows icon-move\", \"pan\"], [\"Zoom\", \"Zoom to rectangle\", \"fa fa-square-o icon-check-empty\", \"zoom\"], [\"\", \"\", \"\", \"\"], [\"Download\", \"Download plot\", \"fa fa-floppy-o icon-save\", \"download\"]];\n",
       "\n",
       "mpl.extensions = [\"eps\", \"pdf\", \"png\", \"ps\", \"raw\", \"svg\"];\n",
       "\n",
       "mpl.default_extension = \"png\";var comm_websocket_adapter = function(comm) {\n",
       "    // Create a \"websocket\"-like object which calls the given IPython comm\n",
       "    // object with the appropriate methods. Currently this is a non binary\n",
       "    // socket, so there is still some room for performance tuning.\n",
       "    var ws = {};\n",
       "\n",
       "    ws.close = function() {\n",
       "        comm.close()\n",
       "    };\n",
       "    ws.send = function(m) {\n",
       "        //console.log('sending', m);\n",
       "        comm.send(m);\n",
       "    };\n",
       "    // Register the callback with on_msg.\n",
       "    comm.on_msg(function(msg) {\n",
       "        //console.log('receiving', msg['content']['data'], msg);\n",
       "        // Pass the mpl event to the overridden (by mpl) onmessage function.\n",
       "        ws.onmessage(msg['content']['data'])\n",
       "    });\n",
       "    return ws;\n",
       "}\n",
       "\n",
       "mpl.mpl_figure_comm = function(comm, msg) {\n",
       "    // This is the function which gets called when the mpl process\n",
       "    // starts-up an IPython Comm through the \"matplotlib\" channel.\n",
       "\n",
       "    var id = msg.content.data.id;\n",
       "    // Get hold of the div created by the display call when the Comm\n",
       "    // socket was opened in Python.\n",
       "    var element = $(\"#\" + id);\n",
       "    var ws_proxy = comm_websocket_adapter(comm)\n",
       "\n",
       "    function ondownload(figure, format) {\n",
       "        window.open(figure.imageObj.src);\n",
       "    }\n",
       "\n",
       "    var fig = new mpl.figure(id, ws_proxy,\n",
       "                           ondownload,\n",
       "                           element.get(0));\n",
       "\n",
       "    // Call onopen now - mpl needs it, as it is assuming we've passed it a real\n",
       "    // web socket which is closed, not our websocket->open comm proxy.\n",
       "    ws_proxy.onopen();\n",
       "\n",
       "    fig.parent_element = element.get(0);\n",
       "    fig.cell_info = mpl.find_output_cell(\"<div id='\" + id + \"'></div>\");\n",
       "    if (!fig.cell_info) {\n",
       "        console.error(\"Failed to find cell for figure\", id, fig);\n",
       "        return;\n",
       "    }\n",
       "\n",
       "    var output_index = fig.cell_info[2]\n",
       "    var cell = fig.cell_info[0];\n",
       "\n",
       "};\n",
       "\n",
       "mpl.figure.prototype.handle_close = function(fig, msg) {\n",
       "    var width = fig.canvas.width/mpl.ratio\n",
       "    fig.root.unbind('remove')\n",
       "\n",
       "    // Update the output cell to use the data from the current canvas.\n",
       "    fig.push_to_output();\n",
       "    var dataURL = fig.canvas.toDataURL();\n",
       "    // Re-enable the keyboard manager in IPython - without this line, in FF,\n",
       "    // the notebook keyboard shortcuts fail.\n",
       "    IPython.keyboard_manager.enable()\n",
       "    $(fig.parent_element).html('<img src=\"' + dataURL + '\" width=\"' + width + '\">');\n",
       "    fig.close_ws(fig, msg);\n",
       "}\n",
       "\n",
       "mpl.figure.prototype.close_ws = function(fig, msg){\n",
       "    fig.send_message('closing', msg);\n",
       "    // fig.ws.close()\n",
       "}\n",
       "\n",
       "mpl.figure.prototype.push_to_output = function(remove_interactive) {\n",
       "    // Turn the data on the canvas into data in the output cell.\n",
       "    var width = this.canvas.width/mpl.ratio\n",
       "    var dataURL = this.canvas.toDataURL();\n",
       "    this.cell_info[1]['text/html'] = '<img src=\"' + dataURL + '\" width=\"' + width + '\">';\n",
       "}\n",
       "\n",
       "mpl.figure.prototype.updated_canvas_event = function() {\n",
       "    // Tell IPython that the notebook contents must change.\n",
       "    IPython.notebook.set_dirty(true);\n",
       "    this.send_message(\"ack\", {});\n",
       "    var fig = this;\n",
       "    // Wait a second, then push the new image to the DOM so\n",
       "    // that it is saved nicely (might be nice to debounce this).\n",
       "    setTimeout(function () { fig.push_to_output() }, 1000);\n",
       "}\n",
       "\n",
       "mpl.figure.prototype._init_toolbar = function() {\n",
       "    var fig = this;\n",
       "\n",
       "    var nav_element = $('<div/>');\n",
       "    nav_element.attr('style', 'width: 100%');\n",
       "    this.root.append(nav_element);\n",
       "\n",
       "    // Define a callback function for later on.\n",
       "    function toolbar_event(event) {\n",
       "        return fig.toolbar_button_onclick(event['data']);\n",
       "    }\n",
       "    function toolbar_mouse_event(event) {\n",
       "        return fig.toolbar_button_onmouseover(event['data']);\n",
       "    }\n",
       "\n",
       "    for(var toolbar_ind in mpl.toolbar_items){\n",
       "        var name = mpl.toolbar_items[toolbar_ind][0];\n",
       "        var tooltip = mpl.toolbar_items[toolbar_ind][1];\n",
       "        var image = mpl.toolbar_items[toolbar_ind][2];\n",
       "        var method_name = mpl.toolbar_items[toolbar_ind][3];\n",
       "\n",
       "        if (!name) { continue; };\n",
       "\n",
       "        var button = $('<button class=\"btn btn-default\" href=\"#\" title=\"' + name + '\"><i class=\"fa ' + image + ' fa-lg\"></i></button>');\n",
       "        button.click(method_name, toolbar_event);\n",
       "        button.mouseover(tooltip, toolbar_mouse_event);\n",
       "        nav_element.append(button);\n",
       "    }\n",
       "\n",
       "    // Add the status bar.\n",
       "    var status_bar = $('<span class=\"mpl-message\" style=\"text-align:right; float: right;\"/>');\n",
       "    nav_element.append(status_bar);\n",
       "    this.message = status_bar[0];\n",
       "\n",
       "    // Add the close button to the window.\n",
       "    var buttongrp = $('<div class=\"btn-group inline pull-right\"></div>');\n",
       "    var button = $('<button class=\"btn btn-mini btn-primary\" href=\"#\" title=\"Stop Interaction\"><i class=\"fa fa-power-off icon-remove icon-large\"></i></button>');\n",
       "    button.click(function (evt) { fig.handle_close(fig, {}); } );\n",
       "    button.mouseover('Stop Interaction', toolbar_mouse_event);\n",
       "    buttongrp.append(button);\n",
       "    var titlebar = this.root.find($('.ui-dialog-titlebar'));\n",
       "    titlebar.prepend(buttongrp);\n",
       "}\n",
       "\n",
       "mpl.figure.prototype._root_extra_style = function(el){\n",
       "    var fig = this\n",
       "    el.on(\"remove\", function(){\n",
       "\tfig.close_ws(fig, {});\n",
       "    });\n",
       "}\n",
       "\n",
       "mpl.figure.prototype._canvas_extra_style = function(el){\n",
       "    // this is important to make the div 'focusable\n",
       "    el.attr('tabindex', 0)\n",
       "    // reach out to IPython and tell the keyboard manager to turn it's self\n",
       "    // off when our div gets focus\n",
       "\n",
       "    // location in version 3\n",
       "    if (IPython.notebook.keyboard_manager) {\n",
       "        IPython.notebook.keyboard_manager.register_events(el);\n",
       "    }\n",
       "    else {\n",
       "        // location in version 2\n",
       "        IPython.keyboard_manager.register_events(el);\n",
       "    }\n",
       "\n",
       "}\n",
       "\n",
       "mpl.figure.prototype._key_event_extra = function(event, name) {\n",
       "    var manager = IPython.notebook.keyboard_manager;\n",
       "    if (!manager)\n",
       "        manager = IPython.keyboard_manager;\n",
       "\n",
       "    // Check for shift+enter\n",
       "    if (event.shiftKey && event.which == 13) {\n",
       "        this.canvas_div.blur();\n",
       "        // select the cell after this one\n",
       "        var index = IPython.notebook.find_cell_index(this.cell_info[0]);\n",
       "        IPython.notebook.select(index + 1);\n",
       "    }\n",
       "}\n",
       "\n",
       "mpl.figure.prototype.handle_save = function(fig, msg) {\n",
       "    fig.ondownload(fig, null);\n",
       "}\n",
       "\n",
       "\n",
       "mpl.find_output_cell = function(html_output) {\n",
       "    // Return the cell and output element which can be found *uniquely* in the notebook.\n",
       "    // Note - this is a bit hacky, but it is done because the \"notebook_saving.Notebook\"\n",
       "    // IPython event is triggered only after the cells have been serialised, which for\n",
       "    // our purposes (turning an active figure into a static one), is too late.\n",
       "    var cells = IPython.notebook.get_cells();\n",
       "    var ncells = cells.length;\n",
       "    for (var i=0; i<ncells; i++) {\n",
       "        var cell = cells[i];\n",
       "        if (cell.cell_type === 'code'){\n",
       "            for (var j=0; j<cell.output_area.outputs.length; j++) {\n",
       "                var data = cell.output_area.outputs[j];\n",
       "                if (data.data) {\n",
       "                    // IPython >= 3 moved mimebundle to data attribute of output\n",
       "                    data = data.data;\n",
       "                }\n",
       "                if (data['text/html'] == html_output) {\n",
       "                    return [cell, data, j];\n",
       "                }\n",
       "            }\n",
       "        }\n",
       "    }\n",
       "}\n",
       "\n",
       "// Register the function which deals with the matplotlib target/channel.\n",
       "// The kernel may be null if the page has been refreshed.\n",
       "if (IPython.notebook.kernel != null) {\n",
       "    IPython.notebook.kernel.comm_manager.register_target('matplotlib', mpl.mpl_figure_comm);\n",
       "}\n"
      ],
      "text/plain": [
       "<IPython.core.display.Javascript object>"
      ]
     },
     "metadata": {},
     "output_type": "display_data"
    },
    {
     "data": {
      "text/html": [
       "<img src=\"data:image/png;base64,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\" width=\"640\">"
      ],
      "text/plain": [
       "<IPython.core.display.HTML object>"
      ]
     },
     "metadata": {},
     "output_type": "display_data"
    },
    {
     "data": {
      "text/plain": [
       "[<matplotlib.lines.Line2D at 0x7f6e7b5c6c10>]"
      ]
     },
     "execution_count": 39,
     "metadata": {},
     "output_type": "execute_result"
    }
   ],
   "source": [
    "plt.plot([key for key in regimeAmounts.keys()],[val for val in regimeAmounts.values()])"
   ]
  },
  {
   "cell_type": "code",
   "execution_count": 40,
   "metadata": {},
   "outputs": [
    {
     "data": {
      "text/plain": [
       "([<matplotlib.axis.XTick at 0x7f6e7b5f1e80>,\n",
       "  <matplotlib.axis.XTick at 0x7f6e7b5f1e50>,\n",
       "  <matplotlib.axis.XTick at 0x7f6e7b5f1250>,\n",
       "  <matplotlib.axis.XTick at 0x7f6e7b5799a0>,\n",
       "  <matplotlib.axis.XTick at 0x7f6e7b579eb0>,\n",
       "  <matplotlib.axis.XTick at 0x7f6e7b505400>,\n",
       "  <matplotlib.axis.XTick at 0x7f6e7b505910>,\n",
       "  <matplotlib.axis.XTick at 0x7f6e7b579ac0>,\n",
       "  <matplotlib.axis.XTick at 0x7f6e7b505160>,\n",
       "  <matplotlib.axis.XTick at 0x7f6e7b50c1c0>,\n",
       "  <matplotlib.axis.XTick at 0x7f6e7b50c6d0>,\n",
       "  <matplotlib.axis.XTick at 0x7f6e7b50cbe0>,\n",
       "  <matplotlib.axis.XTick at 0x7f6e7b511130>,\n",
       "  <matplotlib.axis.XTick at 0x7f6e7b511640>,\n",
       "  <matplotlib.axis.XTick at 0x7f6e7b511b50>,\n",
       "  <matplotlib.axis.XTick at 0x7f6e7b5170a0>,\n",
       "  <matplotlib.axis.XTick at 0x7f6e7b5175b0>,\n",
       "  <matplotlib.axis.XTick at 0x7f6e7b5112b0>,\n",
       "  <matplotlib.axis.XTick at 0x7f6e7b50c340>,\n",
       "  <matplotlib.axis.XTick at 0x7f6e7b517730>,\n",
       "  <matplotlib.axis.XTick at 0x7f6e7b517ac0>,\n",
       "  <matplotlib.axis.XTick at 0x7f6e7b517fd0>,\n",
       "  <matplotlib.axis.XTick at 0x7f6e7b51d520>,\n",
       "  <matplotlib.axis.XTick at 0x7f6e7b51da30>,\n",
       "  <matplotlib.axis.XTick at 0x7f6e7b51df40>,\n",
       "  <matplotlib.axis.XTick at 0x7f6e7b522490>,\n",
       "  <matplotlib.axis.XTick at 0x7f6e7b51d730>,\n",
       "  <matplotlib.axis.XTick at 0x7f6e7b5177c0>,\n",
       "  <matplotlib.axis.XTick at 0x7f6e7b511bb0>],\n",
       " [Text(0, 0, 'SA'),\n",
       "  Text(0, 0, 'BAU'),\n",
       "  Text(0, 0, 'BAU_15'),\n",
       "  Text(0, 0, 'BAU_30'),\n",
       "  Text(0, 0, 'BAU_5'),\n",
       "  Text(0, 0, 'BAU_F'),\n",
       "  Text(0, 0, 'BAU_m5'),\n",
       "  Text(0, 0, 'BAU_m5_F'),\n",
       "  Text(0, 0, 'BAUwGTR'),\n",
       "  Text(0, 0, 'BAUwoT'),\n",
       "  Text(0, 0, 'BAUwoT_m20'),\n",
       "  Text(0, 0, 'BAUwoT_m20_F'),\n",
       "  Text(0, 0, 'CCF_1'),\n",
       "  Text(0, 0, 'CCF_2'),\n",
       "  Text(0, 0, 'CCF_3'),\n",
       "  Text(0, 0, 'CCF_4'),\n",
       "  Text(0, 0, 'BAUwT'),\n",
       "  Text(0, 0, 'BAUwT_15'),\n",
       "  Text(0, 0, 'BAUwT_30'),\n",
       "  Text(0, 0, 'BAUwT_5'),\n",
       "  Text(0, 0, 'BAUwT_F'),\n",
       "  Text(0, 0, 'BAUwT_GTR'),\n",
       "  Text(0, 0, 'BAUwT_m5'),\n",
       "  Text(0, 0, 'BAUwT_m5_F'),\n",
       "  Text(0, 0, 'BAUwT_15_B'),\n",
       "  Text(0, 0, 'BAUwT_30_B'),\n",
       "  Text(0, 0, 'BAUwT_5_B'),\n",
       "  Text(0, 0, 'BAUwT_B'),\n",
       "  Text(0, 0, 'BAUwT_GTR_B')])"
      ]
     },
     "execution_count": 40,
     "metadata": {},
     "output_type": "execute_result"
    }
   ],
   "source": [
    "plt.bar(range(len(regimeAmounts)), list(regimeAmounts.values()), align='center')\n",
    "plt.xticks(range(len(regimeAmounts)), list(regimeAmounts.keys()),rotation=\"vertical\")"
   ]
  },
  {
   "cell_type": "markdown",
   "metadata": {},
   "source": [
    "## Export data as csv\n",
    "\n",
    "- <b>Solution_alldata</b> contains the optimal regime per stand AND the timely development of indicator values plus all other input columns (represented_are_by_NFIplot, region, NUTS2)\n",
    "- <b>Solution</b> contains only the selected optimal regime and its share (if multiple regimes per stand are selected)\n"
   ]
  },
  {
   "cell_type": "code",
   "execution_count": 41,
   "metadata": {},
   "outputs": [],
   "source": [
    "try:\n",
    "    os.mkdir(\"results\")\n",
    "except FileExistsError:\n",
    "    pass\n",
    "b = []\n",
    "c = []\n",
    "for key in mfo.regimesDecision.keys():\n",
    "    if mfo.regimesDecision[key].solution_value() > 0:\n",
    "        b = b+ [(key[0],x*5+2016, key[1]) for x in range(0,21)]\n",
    "        c = c+ [(key[0],key[1],mfo.regimesDecision[key].solution_value())]\n",
    "data2b = mfo.data.iloc[mfo.data.index.isin(b)]\n",
    "data2b.to_csv(\"./results/solution_alldata_\"+scenario+\"_\"+RCP+\"_\"+extension+\".csv\")\n",
    "c1 = pd.DataFrame(c)\n",
    "c1.to_csv(\"./results/solution_\"+scenario+\"_\"+RCP+\"_\"+extension+\".csv\")"
   ]
  },
  {
   "cell_type": "markdown",
   "metadata": {},
   "source": [
    "## Export objective ranges "
   ]
  },
  {
   "cell_type": "markdown",
   "metadata": {},
   "source": [
    "Save as json file"
   ]
  },
  {
   "cell_type": "code",
   "execution_count": 42,
   "metadata": {},
   "outputs": [],
   "source": [
    "import json\n",
    "mfo.objectiveRanges\n",
    "\n",
    "with open('./results/objectiveRanges_'+scenario+'_'+RCP+'_'+extension+'.json', 'w') as json_file:\n",
    "  json.dump(mfo.objectiveRanges, json_file)"
   ]
  },
  {
   "cell_type": "markdown",
   "metadata": {},
   "source": [
    "Save as CSV."
   ]
  },
  {
   "cell_type": "code",
   "execution_count": 43,
   "metadata": {},
   "outputs": [],
   "source": [
    "df = pd.read_json('./results/objectiveRanges_'+scenario+'_'+RCP+'_'+extension+'.json')\n",
    "\n",
    "df.to_csv('./results/objectiveRanges_'+scenario+'_'+RCP+'_'+extension+'.csv')"
   ]
  },
  {
   "cell_type": "markdown",
   "metadata": {},
   "source": [
    "## Export objective values\n",
    "The optimal solution for each objective."
   ]
  },
  {
   "cell_type": "code",
   "execution_count": 44,
   "metadata": {},
   "outputs": [],
   "source": [
    "with open(\"./results/objectiveValues_\"+scenario+'_'+RCP+'_'+extension+\".csv\",\"w\") as file: \n",
    "    delim = \"\" \n",
    "    for objName in mfo.objectiveTypes.keys(): \n",
    "        file.write(delim+objName) \n",
    "        delim = \",\" \n",
    "    file.write(\"\\n\") \n",
    "    delim = \"\" \n",
    "    for objName in mfo.objectiveTypes.keys(): \n",
    "        file.write(delim+str(mfo.objective[objName].solution_value())) \n",
    "        delim = \",\" \n",
    "    file.write(\"\\n\")"
   ]
  },
  {
   "cell_type": "code",
   "execution_count": null,
   "metadata": {},
   "outputs": [],
   "source": []
  }
 ],
 "metadata": {
  "kernelspec": {
   "display_name": "Python 3",
   "language": "python",
   "name": "python3"
  },
  "language_info": {
   "codemirror_mode": {
    "name": "ipython",
    "version": 3
   },
   "file_extension": ".py",
   "mimetype": "text/x-python",
   "name": "python",
   "nbconvert_exporter": "python",
   "pygments_lexer": "ipython3",
   "version": "3.8.3"
  }
 },
 "nbformat": 4,
 "nbformat_minor": 2
}
