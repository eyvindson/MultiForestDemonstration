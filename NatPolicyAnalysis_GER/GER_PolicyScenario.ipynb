{
 "cells": [
  {
   "cell_type": "markdown",
   "metadata": {},
   "source": [
    "# Multiforest optimization notebook"
   ]
  },
  {
   "cell_type": "markdown",
   "metadata": {},
   "source": [
    "\n",
    "Above the code cells, there are short instructions how the users can modify the codes in the cells. If there are no instructions, no changes should be needed for the cell by default.\n",
    "\n",
    "A detailed description is provided in the README.md.\n",
    "\n",
    "## Basic definitions\n",
    "Simulated forest data - name and climate scenario"
   ]
  },
  {
   "cell_type": "code",
   "execution_count": 1,
   "metadata": {},
   "outputs": [],
   "source": [
    "RCP = \"RCP0\" # no climate change"
   ]
  },
  {
   "cell_type": "markdown",
   "metadata": {},
   "source": [
    "Specify policy scenario:\n",
    "\n",
    "- \"FS\" -  National Forest Strategy\n",
    "- \"BDS\" - Biodiversity Strategy\n",
    "- \"BES\" - Bioeconomy Strategy"
   ]
  },
  {
   "cell_type": "code",
   "execution_count": 2,
   "metadata": {},
   "outputs": [],
   "source": [
    "scenario =\"BES\""
   ]
  },
  {
   "cell_type": "markdown",
   "metadata": {},
   "source": [
    "## Read the data"
   ]
  },
  {
   "cell_type": "code",
   "execution_count": 3,
   "metadata": {},
   "outputs": [],
   "source": [
    "import os\n",
    "import numpy as np\n",
    "import sys\n",
    "import requests"
   ]
  },
  {
   "cell_type": "markdown",
   "metadata": {},
   "source": [
    "### Read .py class"
   ]
  },
  {
   "cell_type": "code",
   "execution_count": 4,
   "metadata": {
    "scrolled": true
   },
   "outputs": [],
   "source": [
    "module_path = os.path.abspath(os.path.join('..'))\n",
    "if module_path not in sys.path:\n",
    "    sys.path.append(module_path+\"/py_class\")\n",
    "\n",
    "import multiFunctionalOptimization as MFO"
   ]
  },
  {
   "cell_type": "code",
   "execution_count": 5,
   "metadata": {},
   "outputs": [
    {
     "data": {
      "text/plain": [
       "<module 'multiFunctionalOptimization' from '/home/ubuntu/workspace/mf_optimization_demo/py_class/multiFunctionalOptimization.py'>"
      ]
     },
     "execution_count": 5,
     "metadata": {},
     "output_type": "execute_result"
    }
   ],
   "source": [
    "from importlib import reload\n",
    "reload(MFO)"
   ]
  },
  {
   "cell_type": "code",
   "execution_count": 6,
   "metadata": {},
   "outputs": [
    {
     "data": {
      "text/plain": [
       "'Using CLP'"
      ]
     },
     "metadata": {},
     "output_type": "display_data"
    }
   ],
   "source": [
    "mfo = MFO.MultiFunctionalOptimization()"
   ]
  },
  {
   "cell_type": "code",
   "execution_count": 7,
   "metadata": {},
   "outputs": [
    {
     "data": {
      "text/plain": [
       "'rslt_RCP0_Bavaria_Germany_pause_2_V1_sample.zip'"
      ]
     },
     "execution_count": 7,
     "metadata": {},
     "output_type": "execute_result"
    }
   ],
   "source": [
    "filename = \"rslt_\"+RCP+\"_Bavaria_Germany_pause_2_V1_sample.zip\"\n",
    "filename"
   ]
  },
  {
   "cell_type": "markdown",
   "metadata": {},
   "source": [
    "### Import data"
   ]
  },
  {
   "cell_type": "code",
   "execution_count": 8,
   "metadata": {},
   "outputs": [],
   "source": [
    "if not filename in os.listdir(\".\"):\n",
    "    url = \"https://syncandshare.lrz.de/dl/fiD3UdeLAsM5Uuc2Vy3yguCR/rslt_RCP0_Bavaria_Germany_pause_2_V1.zip\"\n",
    "    r = requests.get(url, allow_redirects=True)\n",
    "    open(filename, 'wb').write(r.content)"
   ]
  },
  {
   "cell_type": "markdown",
   "metadata": {},
   "source": [
    "### Read data"
   ]
  },
  {
   "cell_type": "code",
   "execution_count": 9,
   "metadata": {},
   "outputs": [
    {
     "data": {
      "text/plain": [
       "'sample size 111/558(19%)'"
      ]
     },
     "metadata": {},
     "output_type": "display_data"
    },
    {
     "name": "stdout",
     "output_type": "stream",
     "text": [
      "CPU times: user 1.29 s, sys: 192 ms, total: 1.48 s\n",
      "Wall time: 1.48 s\n"
     ]
    }
   ],
   "source": [
    "%%time\n",
    "mfo.readData(filename,\n",
    "             sampleRatio=0.2 #If no sample ratio given, the ratio is assumed to be 1\n",
    "                             #0.2 means 20% of the data\n",
    "            ) "
   ]
  },
  {
   "cell_type": "code",
   "execution_count": 10,
   "metadata": {},
   "outputs": [
    {
     "data": {
      "text/plain": [
       "Index(['Unnamed: 0', 'id', 'regime', 'year', 'ecoregion', 'V_strat',\n",
       "       'V_strat_reg', 'Ve_strat', 'Vm_strat', 'iV_strat', 'pct_coni',\n",
       "       'pct_reg_coni', 'pct_deci', 'pct_reg_deci', 'spruce_pct',\n",
       "       'spruce_reg_pct', 'fir_pct', 'fir_reg_pct', 'pine_pct', 'pine_reg_pct',\n",
       "       'larch_pct', 'larch_reg_pct', 'beech_pct', 'beech_reg_pct', 'oak_pct',\n",
       "       'oak_reg_pct', 'douglasfir_pct', 'douglasfir_reg_pct', 'hardbrl_pct',\n",
       "       'hardbrl_reg_pct', 'softbrl_pct', 'softbrl_reg_pct', 'spi', 'spi_reg',\n",
       "       'maxh', 'maxh_reg', 'spint', 'freq_h_0_50', 'freq_h_50_80',\n",
       "       'freq_h_80_100', 'cntlayers', 'shan_species', 'shan_species_reg',\n",
       "       'shan_height', 'volHa_dbhGR10', 'volHa_dbhGR20', 'volHa_dbhGR30',\n",
       "       'volHa_dbhGR40', 'volHa_dbhGR50', 'volHa_dbhGR60', 'volHa_dead_dbhGR30',\n",
       "       'volHa_dead_dbhGR40', 'volHa_dead_dbhGR50', 'volHa_dead_dbhGR60',\n",
       "       'sawntimber', 'industrywood', 'yieldloss', 'remaininstand',\n",
       "       'represented_area_by_NFIplot', 'region', 'NUTS2', 'clear_cut',\n",
       "       'protected', 'pnv_beech', 'pnv_spruce', 'pnv_pine', 'pnv_fir',\n",
       "       'pnv_oak', 'pnv_hardbrl', 'landtenure', 'ffh', 'V (gross harvest)',\n",
       "       'CSagbDeadMerchWood', 'CFagbHarvestResidToDeadWood', 'V (remain)',\n",
       "       'stormBBRisk', 'Biodiversity', 'RandA.ASP1.Diversity',\n",
       "       'RandA.ASP2.Deadwood', 'RandA.ASP3.DensityIntensity',\n",
       "       'RecreationAndAesthetics', 'V Sawlogs', 'V PulpWood', 'V RemainWood',\n",
       "       'V HarvestResidues', 'CFpulpWoodToEnergy', 'CFsawlogsToEnergy',\n",
       "       'CSagbLivingTotal', 'CSbgbLivingTotal', 'BalanceCarbonTotalYear',\n",
       "       'covered_area_per', 'relative_Volume', 'fuelwood'],\n",
       "      dtype='object')"
      ]
     },
     "execution_count": 10,
     "metadata": {},
     "output_type": "execute_result"
    }
   ],
   "source": [
    "mfo.data.columns"
   ]
  },
  {
   "cell_type": "markdown",
   "metadata": {},
   "source": [
    "## Create new columns"
   ]
  },
  {
   "cell_type": "code",
   "execution_count": 11,
   "metadata": {},
   "outputs": [],
   "source": [
    "mfo.data[\"HarvestedVolume\"] = (mfo.data[\"Ve_strat\"].values)*mfo.data[\"represented_area_by_NFIplot\"].values"
   ]
  },
  {
   "cell_type": "code",
   "execution_count": 12,
   "metadata": {},
   "outputs": [],
   "source": [
    "mfo.data[\"CarbonBalance\"] = (mfo.data[\"BalanceCarbonTotalYear\"].values)*mfo.data[\"represented_area_by_NFIplot\"].values"
   ]
  },
  {
   "cell_type": "code",
   "execution_count": 13,
   "metadata": {},
   "outputs": [],
   "source": [
    "mfo.data[\"AnnualIncrement\"] = mfo.data[\"iV_strat\"].values*mfo.data[\"represented_area_by_NFIplot\"].values"
   ]
  },
  {
   "cell_type": "code",
   "execution_count": 14,
   "metadata": {},
   "outputs": [],
   "source": [
    "mfo.data[\"speciesProfileIndex\"] = mfo.data[\"spi\"].values "
   ]
  },
  {
   "cell_type": "code",
   "execution_count": 15,
   "metadata": {},
   "outputs": [],
   "source": [
    "mfo.data[\"VolumeLargeTrees\"] = mfo.data[\"volHa_dbhGR60\"].values*mfo.data[\"represented_area_by_NFIplot\"].values"
   ]
  },
  {
   "cell_type": "code",
   "execution_count": 16,
   "metadata": {},
   "outputs": [],
   "source": [
    "mfo.data[\"speciesInterminglingIndex\"] = mfo.data[\"spint\"].values"
   ]
  },
  {
   "cell_type": "code",
   "execution_count": 17,
   "metadata": {},
   "outputs": [],
   "source": [
    "mfo.data[\"ShannonIndexSpecies\"] = mfo.data[\"shan_species\"].values"
   ]
  },
  {
   "cell_type": "code",
   "execution_count": 18,
   "metadata": {},
   "outputs": [],
   "source": [
    "mfo.data[\"ShannonIndexTreeHeight\"] = mfo.data[\"shan_height\"].values"
   ]
  },
  {
   "cell_type": "code",
   "execution_count": 19,
   "metadata": {},
   "outputs": [],
   "source": [
    "mfo.data[\"standingVolume\"] = mfo.data[\"V_strat\"]*mfo.data[\"represented_area_by_NFIplot\"].values"
   ]
  },
  {
   "cell_type": "code",
   "execution_count": 20,
   "metadata": {},
   "outputs": [],
   "source": [
    "mfo.data[\"noNaturalSpecies\"] = mfo.data.apply(lambda x: sum([x[name] for name in mfo.data.columns if \"pnv\" in name]),axis=1)"
   ]
  },
  {
   "cell_type": "code",
   "execution_count": 21,
   "metadata": {},
   "outputs": [],
   "source": [
    "mfo.data[\"stateForest\"] = mfo.data['landtenure'].apply(lambda x: 1 if x < 1000 else 0)"
   ]
  },
  {
   "cell_type": "code",
   "execution_count": 22,
   "metadata": {},
   "outputs": [],
   "source": [
    "mfo.data[\"SawTimber\"] = mfo.data[\"V Sawlogs\"].values*mfo.data[\"represented_area_by_NFIplot\"].values"
   ]
  },
  {
   "cell_type": "code",
   "execution_count": 23,
   "metadata": {},
   "outputs": [],
   "source": [
    "mfo.data[\"PulpWood\"] =mfo.data[\"V PulpWood\"].values*mfo.data[\"represented_area_by_NFIplot\"].values"
   ]
  },
  {
   "cell_type": "code",
   "execution_count": 24,
   "metadata": {},
   "outputs": [],
   "source": [
    "mfo.data[\"ForestResidues\"] =mfo.data[\"V HarvestResidues\"].values*mfo.data[\"represented_area_by_NFIplot\"].values"
   ]
  },
  {
   "cell_type": "code",
   "execution_count": 25,
   "metadata": {},
   "outputs": [],
   "source": [
    "mfo.data[\"Fuelwood\"] = mfo.data[\"fuelwood\"].values*mfo.data[\"represented_area_by_NFIplot\"].values"
   ]
  },
  {
   "cell_type": "code",
   "execution_count": 26,
   "metadata": {},
   "outputs": [],
   "source": [
    "mfo.data[\"energyProds\"] =mfo.data[\"CFsawlogsToEnergy\"].values*mfo.data[\"represented_area_by_NFIplot\"].values"
   ]
  },
  {
   "cell_type": "code",
   "execution_count": 27,
   "metadata": {},
   "outputs": [],
   "source": [
    "mfo.data[\"TotalLivingCarbon\"] = (mfo.data[\"CSagbLivingTotal\"].values + mfo.data[\"CSbgbLivingTotal\"].values )*mfo.data[\"represented_area_by_NFIplot\"].values"
   ]
  },
  {
   "cell_type": "code",
   "execution_count": 28,
   "metadata": {},
   "outputs": [
    {
     "name": "stderr",
     "output_type": "stream",
     "text": [
      "<ipython-input-28-a5a52783099c>:1: RuntimeWarning: invalid value encountered in true_divide\n",
      "  mfo.data[\"pnvDeviation\"] =((mfo.data[\"pnv_spruce\"].values*100/mfo.data[\"noNaturalSpecies\"].values - mfo.data[\"spruce_pct\"].values)**2 +\n",
      "<ipython-input-28-a5a52783099c>:2: RuntimeWarning: invalid value encountered in true_divide\n",
      "  (mfo.data[\"pnv_beech\"].values*100/mfo.data[\"noNaturalSpecies\"].values - mfo.data[\"beech_pct\"].values)**2 +\n",
      "<ipython-input-28-a5a52783099c>:3: RuntimeWarning: invalid value encountered in true_divide\n",
      "  (mfo.data[\"pnv_pine\"].values*100/mfo.data[\"noNaturalSpecies\"].values - mfo.data[\"pine_pct\"].values)**2+\n",
      "<ipython-input-28-a5a52783099c>:4: RuntimeWarning: invalid value encountered in true_divide\n",
      "  (mfo.data[\"pnv_fir\"].values*100/mfo.data[\"noNaturalSpecies\"].values - mfo.data[\"fir_pct\"].values)**2+\n",
      "<ipython-input-28-a5a52783099c>:5: RuntimeWarning: invalid value encountered in true_divide\n",
      "  (mfo.data[\"pnv_oak\"].values*100/mfo.data[\"noNaturalSpecies\"].values - mfo.data[\"oak_pct\"].values)**2)\n"
     ]
    }
   ],
   "source": [
    "mfo.data[\"pnvDeviation\"] =((mfo.data[\"pnv_spruce\"].values*100/mfo.data[\"noNaturalSpecies\"].values - mfo.data[\"spruce_pct\"].values)**2 + \n",
    "                      (mfo.data[\"pnv_beech\"].values*100/mfo.data[\"noNaturalSpecies\"].values - mfo.data[\"beech_pct\"].values)**2 +\n",
    "                      (mfo.data[\"pnv_pine\"].values*100/mfo.data[\"noNaturalSpecies\"].values - mfo.data[\"pine_pct\"].values)**2+\n",
    "                      (mfo.data[\"pnv_fir\"].values*100/mfo.data[\"noNaturalSpecies\"].values - mfo.data[\"fir_pct\"].values)**2+\n",
    "                      (mfo.data[\"pnv_oak\"].values*100/mfo.data[\"noNaturalSpecies\"].values - mfo.data[\"oak_pct\"].values)**2)"
   ]
  },
  {
   "cell_type": "code",
   "execution_count": 29,
   "metadata": {},
   "outputs": [],
   "source": [
    "import numpy as np"
   ]
  },
  {
   "cell_type": "code",
   "execution_count": 30,
   "metadata": {},
   "outputs": [],
   "source": [
    "mfo.data[\"pnvDeviation\"].replace(np.nan,0,inplace=True)"
   ]
  },
  {
   "cell_type": "code",
   "execution_count": 31,
   "metadata": {},
   "outputs": [
    {
     "data": {
      "text/plain": [
       "0          1312.1442\n",
       "1           669.2418\n",
       "2           253.0509\n",
       "3           180.5765\n",
       "4           114.9700\n",
       "             ...    \n",
       "167050    12500.0000\n",
       "167051    12500.0000\n",
       "167052    12500.0000\n",
       "167053    12500.0000\n",
       "167054    12500.0000\n",
       "Name: pnvDeviation, Length: 33411, dtype: float64"
      ]
     },
     "execution_count": 31,
     "metadata": {},
     "output_type": "execute_result"
    }
   ],
   "source": [
    "mfo.data[\"pnvDeviation\"]"
   ]
  },
  {
   "cell_type": "code",
   "execution_count": 32,
   "metadata": {},
   "outputs": [
    {
     "data": {
      "text/plain": [
       "BAU_RR_p2        2220\n",
       "NOT              2220\n",
       "CCF_P1           2220\n",
       "CCF_P3_p2        2220\n",
       "BAU_RR_p1        2220\n",
       "BAU_0_p2         2220\n",
       "BAU_0_p1         2220\n",
       "BAU_FS1          2220\n",
       "BAU_0            2220\n",
       "CCF_P3           2220\n",
       "BAU_RR           2220\n",
       "CCF_P3_p1        2220\n",
       "CCF_P2           2220\n",
       "CCF_STATE        2220\n",
       "BAU_1            2220\n",
       "initial_state     111\n",
       "Name: regime, dtype: int64"
      ]
     },
     "execution_count": 32,
     "metadata": {},
     "output_type": "execute_result"
    }
   ],
   "source": [
    "mfo.data[mfo.regimesEnu].value_counts()"
   ]
  },
  {
   "cell_type": "markdown",
   "metadata": {},
   "source": [
    "### add column to restrict SA¶"
   ]
  },
  {
   "cell_type": "code",
   "execution_count": 33,
   "metadata": {},
   "outputs": [],
   "source": [
    "regimeClassNames = {\"regimeClass0name\":\"CCF\",\"regimeClass1name\":\"SA\"}\n",
    "regimeClassregimes = {\"regimeClass0regimes\":[\"CCF_P3 \",\"CCF_P3_p1\",\"CCF_P3_p2\"],\"regimeClass1regimes\":[\"NOT\"]}"
   ]
  },
  {
   "cell_type": "code",
   "execution_count": 34,
   "metadata": {},
   "outputs": [],
   "source": [
    "mfo.addRegimeClassifications(regimeClassNames = regimeClassNames,regimeClassregimes=regimeClassregimes)"
   ]
  },
  {
   "cell_type": "code",
   "execution_count": 35,
   "metadata": {},
   "outputs": [],
   "source": [
    "mfo.finalizeData(initialRegime=\"initial_state\")"
   ]
  },
  {
   "cell_type": "code",
   "execution_count": 36,
   "metadata": {},
   "outputs": [
    {
     "data": {
      "text/html": [
       "<div>\n",
       "<style scoped>\n",
       "    .dataframe tbody tr th:only-of-type {\n",
       "        vertical-align: middle;\n",
       "    }\n",
       "\n",
       "    .dataframe tbody tr th {\n",
       "        vertical-align: top;\n",
       "    }\n",
       "\n",
       "    .dataframe thead th {\n",
       "        text-align: right;\n",
       "    }\n",
       "</style>\n",
       "<table border=\"1\" class=\"dataframe\">\n",
       "  <thead>\n",
       "    <tr style=\"text-align: right;\">\n",
       "      <th></th>\n",
       "      <th></th>\n",
       "      <th></th>\n",
       "      <th>Unnamed: 0</th>\n",
       "      <th>ecoregion</th>\n",
       "      <th>V_strat</th>\n",
       "      <th>V_strat_reg</th>\n",
       "      <th>Ve_strat</th>\n",
       "      <th>Vm_strat</th>\n",
       "      <th>iV_strat</th>\n",
       "      <th>pct_coni</th>\n",
       "      <th>pct_reg_coni</th>\n",
       "      <th>pct_deci</th>\n",
       "      <th>...</th>\n",
       "      <th>stateForest</th>\n",
       "      <th>SawTimber</th>\n",
       "      <th>PulpWood</th>\n",
       "      <th>ForestResidues</th>\n",
       "      <th>Fuelwood</th>\n",
       "      <th>energyProds</th>\n",
       "      <th>TotalLivingCarbon</th>\n",
       "      <th>pnvDeviation</th>\n",
       "      <th>CCF_forests</th>\n",
       "      <th>SA_forests</th>\n",
       "    </tr>\n",
       "    <tr>\n",
       "      <th>id</th>\n",
       "      <th>year</th>\n",
       "      <th>regime</th>\n",
       "      <th></th>\n",
       "      <th></th>\n",
       "      <th></th>\n",
       "      <th></th>\n",
       "      <th></th>\n",
       "      <th></th>\n",
       "      <th></th>\n",
       "      <th></th>\n",
       "      <th></th>\n",
       "      <th></th>\n",
       "      <th></th>\n",
       "      <th></th>\n",
       "      <th></th>\n",
       "      <th></th>\n",
       "      <th></th>\n",
       "      <th></th>\n",
       "      <th></th>\n",
       "      <th></th>\n",
       "      <th></th>\n",
       "      <th></th>\n",
       "      <th></th>\n",
       "    </tr>\n",
       "  </thead>\n",
       "  <tbody>\n",
       "    <tr>\n",
       "      <th>14</th>\n",
       "      <th>2012</th>\n",
       "      <th>initial_state</th>\n",
       "      <td>4194</td>\n",
       "      <td>9.5.2</td>\n",
       "      <td>182.529</td>\n",
       "      <td>0.0</td>\n",
       "      <td>0.0</td>\n",
       "      <td>0.0</td>\n",
       "      <td>182.529</td>\n",
       "      <td>5.0</td>\n",
       "      <td>0.0</td>\n",
       "      <td>95.0</td>\n",
       "      <td>...</td>\n",
       "      <td>1</td>\n",
       "      <td>0.0</td>\n",
       "      <td>0.0</td>\n",
       "      <td>0.0</td>\n",
       "      <td>0.0</td>\n",
       "      <td>0.0</td>\n",
       "      <td>36610.730548</td>\n",
       "      <td>2207.9282</td>\n",
       "      <td>False</td>\n",
       "      <td>False</td>\n",
       "    </tr>\n",
       "    <tr>\n",
       "      <th>24</th>\n",
       "      <th>2012</th>\n",
       "      <th>initial_state</th>\n",
       "      <td>7204</td>\n",
       "      <td>9.11.2</td>\n",
       "      <td>258.004</td>\n",
       "      <td>0.0</td>\n",
       "      <td>0.0</td>\n",
       "      <td>0.0</td>\n",
       "      <td>258.004</td>\n",
       "      <td>52.0</td>\n",
       "      <td>0.0</td>\n",
       "      <td>48.0</td>\n",
       "      <td>...</td>\n",
       "      <td>1</td>\n",
       "      <td>0.0</td>\n",
       "      <td>0.0</td>\n",
       "      <td>0.0</td>\n",
       "      <td>0.0</td>\n",
       "      <td>0.0</td>\n",
       "      <td>48240.751804</td>\n",
       "      <td>5332.7780</td>\n",
       "      <td>False</td>\n",
       "      <td>False</td>\n",
       "    </tr>\n",
       "    <tr>\n",
       "      <th>41</th>\n",
       "      <th>2012</th>\n",
       "      <th>initial_state</th>\n",
       "      <td>12321</td>\n",
       "      <td>9.12.7</td>\n",
       "      <td>254.322</td>\n",
       "      <td>0.0</td>\n",
       "      <td>0.0</td>\n",
       "      <td>0.0</td>\n",
       "      <td>254.322</td>\n",
       "      <td>12.0</td>\n",
       "      <td>0.0</td>\n",
       "      <td>88.0</td>\n",
       "      <td>...</td>\n",
       "      <td>1</td>\n",
       "      <td>0.0</td>\n",
       "      <td>0.0</td>\n",
       "      <td>0.0</td>\n",
       "      <td>0.0</td>\n",
       "      <td>0.0</td>\n",
       "      <td>101169.207110</td>\n",
       "      <td>4572.0128</td>\n",
       "      <td>False</td>\n",
       "      <td>False</td>\n",
       "    </tr>\n",
       "    <tr>\n",
       "      <th>103</th>\n",
       "      <th>2012</th>\n",
       "      <th>initial_state</th>\n",
       "      <td>30983</td>\n",
       "      <td>9.5.1</td>\n",
       "      <td>531.134</td>\n",
       "      <td>0.0</td>\n",
       "      <td>0.0</td>\n",
       "      <td>0.0</td>\n",
       "      <td>531.134</td>\n",
       "      <td>87.0</td>\n",
       "      <td>0.0</td>\n",
       "      <td>13.0</td>\n",
       "      <td>...</td>\n",
       "      <td>1</td>\n",
       "      <td>0.0</td>\n",
       "      <td>0.0</td>\n",
       "      <td>0.0</td>\n",
       "      <td>0.0</td>\n",
       "      <td>0.0</td>\n",
       "      <td>92104.341924</td>\n",
       "      <td>11499.7094</td>\n",
       "      <td>False</td>\n",
       "      <td>False</td>\n",
       "    </tr>\n",
       "    <tr>\n",
       "      <th>128</th>\n",
       "      <th>2012</th>\n",
       "      <th>initial_state</th>\n",
       "      <td>38508</td>\n",
       "      <td>9.5.1</td>\n",
       "      <td>493.845</td>\n",
       "      <td>0.0</td>\n",
       "      <td>0.0</td>\n",
       "      <td>0.0</td>\n",
       "      <td>493.845</td>\n",
       "      <td>54.0</td>\n",
       "      <td>0.0</td>\n",
       "      <td>46.0</td>\n",
       "      <td>...</td>\n",
       "      <td>1</td>\n",
       "      <td>0.0</td>\n",
       "      <td>0.0</td>\n",
       "      <td>0.0</td>\n",
       "      <td>0.0</td>\n",
       "      <td>0.0</td>\n",
       "      <td>91992.824322</td>\n",
       "      <td>3772.9517</td>\n",
       "      <td>False</td>\n",
       "      <td>False</td>\n",
       "    </tr>\n",
       "  </tbody>\n",
       "</table>\n",
       "<p>5 rows × 110 columns</p>\n",
       "</div>"
      ],
      "text/plain": [
       "                        Unnamed: 0 ecoregion  V_strat  V_strat_reg  Ve_strat  \\\n",
       "id  year regime                                                                \n",
       "14  2012 initial_state        4194     9.5.2  182.529          0.0       0.0   \n",
       "24  2012 initial_state        7204    9.11.2  258.004          0.0       0.0   \n",
       "41  2012 initial_state       12321    9.12.7  254.322          0.0       0.0   \n",
       "103 2012 initial_state       30983     9.5.1  531.134          0.0       0.0   \n",
       "128 2012 initial_state       38508     9.5.1  493.845          0.0       0.0   \n",
       "\n",
       "                        Vm_strat  iV_strat  pct_coni  pct_reg_coni  pct_deci  \\\n",
       "id  year regime                                                                \n",
       "14  2012 initial_state       0.0   182.529       5.0           0.0      95.0   \n",
       "24  2012 initial_state       0.0   258.004      52.0           0.0      48.0   \n",
       "41  2012 initial_state       0.0   254.322      12.0           0.0      88.0   \n",
       "103 2012 initial_state       0.0   531.134      87.0           0.0      13.0   \n",
       "128 2012 initial_state       0.0   493.845      54.0           0.0      46.0   \n",
       "\n",
       "                        ...  stateForest  SawTimber  PulpWood  ForestResidues  \\\n",
       "id  year regime         ...                                                     \n",
       "14  2012 initial_state  ...            1        0.0       0.0             0.0   \n",
       "24  2012 initial_state  ...            1        0.0       0.0             0.0   \n",
       "41  2012 initial_state  ...            1        0.0       0.0             0.0   \n",
       "103 2012 initial_state  ...            1        0.0       0.0             0.0   \n",
       "128 2012 initial_state  ...            1        0.0       0.0             0.0   \n",
       "\n",
       "                        Fuelwood  energyProds  TotalLivingCarbon  \\\n",
       "id  year regime                                                    \n",
       "14  2012 initial_state       0.0          0.0       36610.730548   \n",
       "24  2012 initial_state       0.0          0.0       48240.751804   \n",
       "41  2012 initial_state       0.0          0.0      101169.207110   \n",
       "103 2012 initial_state       0.0          0.0       92104.341924   \n",
       "128 2012 initial_state       0.0          0.0       91992.824322   \n",
       "\n",
       "                        pnvDeviation  CCF_forests  SA_forests  \n",
       "id  year regime                                                \n",
       "14  2012 initial_state     2207.9282        False       False  \n",
       "24  2012 initial_state     5332.7780        False       False  \n",
       "41  2012 initial_state     4572.0128        False       False  \n",
       "103 2012 initial_state    11499.7094        False       False  \n",
       "128 2012 initial_state     3772.9517        False       False  \n",
       "\n",
       "[5 rows x 110 columns]"
      ]
     },
     "execution_count": 36,
     "metadata": {},
     "output_type": "execute_result"
    }
   ],
   "source": [
    "mfo.initialData.head()"
   ]
  },
  {
   "cell_type": "code",
   "execution_count": 37,
   "metadata": {},
   "outputs": [
    {
     "data": {
      "text/html": [
       "<div>\n",
       "<style scoped>\n",
       "    .dataframe tbody tr th:only-of-type {\n",
       "        vertical-align: middle;\n",
       "    }\n",
       "\n",
       "    .dataframe tbody tr th {\n",
       "        vertical-align: top;\n",
       "    }\n",
       "\n",
       "    .dataframe thead th {\n",
       "        text-align: right;\n",
       "    }\n",
       "</style>\n",
       "<table border=\"1\" class=\"dataframe\">\n",
       "  <thead>\n",
       "    <tr style=\"text-align: right;\">\n",
       "      <th></th>\n",
       "      <th></th>\n",
       "      <th></th>\n",
       "      <th>Unnamed: 0</th>\n",
       "      <th>ecoregion</th>\n",
       "      <th>V_strat</th>\n",
       "      <th>V_strat_reg</th>\n",
       "      <th>Ve_strat</th>\n",
       "      <th>Vm_strat</th>\n",
       "      <th>iV_strat</th>\n",
       "      <th>pct_coni</th>\n",
       "      <th>pct_reg_coni</th>\n",
       "      <th>pct_deci</th>\n",
       "      <th>...</th>\n",
       "      <th>Relative_relative_Volume</th>\n",
       "      <th>Relative_AnnualIncrement</th>\n",
       "      <th>Relative_speciesProfileIndex</th>\n",
       "      <th>Relative_VolumeLargeTrees</th>\n",
       "      <th>Relative_speciesInterminglingIndex</th>\n",
       "      <th>Relative_ShannonIndexSpecies</th>\n",
       "      <th>Relative_ShannonIndexTreeHeight</th>\n",
       "      <th>Relative_standingVolume</th>\n",
       "      <th>Relative_TotalLivingCarbon</th>\n",
       "      <th>Relative_pnvDeviation</th>\n",
       "    </tr>\n",
       "    <tr>\n",
       "      <th>id</th>\n",
       "      <th>year</th>\n",
       "      <th>regime</th>\n",
       "      <th></th>\n",
       "      <th></th>\n",
       "      <th></th>\n",
       "      <th></th>\n",
       "      <th></th>\n",
       "      <th></th>\n",
       "      <th></th>\n",
       "      <th></th>\n",
       "      <th></th>\n",
       "      <th></th>\n",
       "      <th></th>\n",
       "      <th></th>\n",
       "      <th></th>\n",
       "      <th></th>\n",
       "      <th></th>\n",
       "      <th></th>\n",
       "      <th></th>\n",
       "      <th></th>\n",
       "      <th></th>\n",
       "      <th></th>\n",
       "      <th></th>\n",
       "    </tr>\n",
       "  </thead>\n",
       "  <tbody>\n",
       "    <tr>\n",
       "      <th rowspan=\"5\" valign=\"top\">14</th>\n",
       "      <th rowspan=\"5\" valign=\"top\">2017</th>\n",
       "      <th>BAU_0</th>\n",
       "      <td>3914</td>\n",
       "      <td>9.5.2</td>\n",
       "      <td>193.311</td>\n",
       "      <td>5.305</td>\n",
       "      <td>29.133</td>\n",
       "      <td>21.213</td>\n",
       "      <td>61.128</td>\n",
       "      <td>4.0</td>\n",
       "      <td>5.0</td>\n",
       "      <td>96.0</td>\n",
       "      <td>...</td>\n",
       "      <td>0.009009</td>\n",
       "      <td>0.000714</td>\n",
       "      <td>0.013684</td>\n",
       "      <td>0.0</td>\n",
       "      <td>0.020984</td>\n",
       "      <td>0.023174</td>\n",
       "      <td>0.033830</td>\n",
       "      <td>0.002257</td>\n",
       "      <td>0.002585</td>\n",
       "      <td>0.001356</td>\n",
       "    </tr>\n",
       "    <tr>\n",
       "      <th>BAU_0_p1</th>\n",
       "      <td>3934</td>\n",
       "      <td>9.5.2</td>\n",
       "      <td>193.368</td>\n",
       "      <td>5.177</td>\n",
       "      <td>28.305</td>\n",
       "      <td>21.771</td>\n",
       "      <td>60.915</td>\n",
       "      <td>3.0</td>\n",
       "      <td>3.0</td>\n",
       "      <td>97.0</td>\n",
       "      <td>...</td>\n",
       "      <td>0.009009</td>\n",
       "      <td>0.000711</td>\n",
       "      <td>0.013565</td>\n",
       "      <td>0.0</td>\n",
       "      <td>0.020984</td>\n",
       "      <td>0.023174</td>\n",
       "      <td>0.033826</td>\n",
       "      <td>0.002258</td>\n",
       "      <td>0.002589</td>\n",
       "      <td>0.001273</td>\n",
       "    </tr>\n",
       "    <tr>\n",
       "      <th>BAU_0_p2</th>\n",
       "      <td>3954</td>\n",
       "      <td>9.5.2</td>\n",
       "      <td>187.269</td>\n",
       "      <td>5.972</td>\n",
       "      <td>31.093</td>\n",
       "      <td>18.969</td>\n",
       "      <td>54.802</td>\n",
       "      <td>3.0</td>\n",
       "      <td>3.0</td>\n",
       "      <td>97.0</td>\n",
       "      <td>...</td>\n",
       "      <td>0.009009</td>\n",
       "      <td>0.000640</td>\n",
       "      <td>0.013934</td>\n",
       "      <td>0.0</td>\n",
       "      <td>0.020984</td>\n",
       "      <td>0.023174</td>\n",
       "      <td>0.033789</td>\n",
       "      <td>0.002186</td>\n",
       "      <td>0.002507</td>\n",
       "      <td>0.001255</td>\n",
       "    </tr>\n",
       "    <tr>\n",
       "      <th>BAU_1</th>\n",
       "      <td>3974</td>\n",
       "      <td>9.5.2</td>\n",
       "      <td>193.731</td>\n",
       "      <td>5.946</td>\n",
       "      <td>28.088</td>\n",
       "      <td>21.965</td>\n",
       "      <td>61.255</td>\n",
       "      <td>3.0</td>\n",
       "      <td>5.0</td>\n",
       "      <td>97.0</td>\n",
       "      <td>...</td>\n",
       "      <td>0.009009</td>\n",
       "      <td>0.000715</td>\n",
       "      <td>0.013803</td>\n",
       "      <td>0.0</td>\n",
       "      <td>0.020984</td>\n",
       "      <td>0.023174</td>\n",
       "      <td>0.033840</td>\n",
       "      <td>0.002262</td>\n",
       "      <td>0.002594</td>\n",
       "      <td>0.001044</td>\n",
       "    </tr>\n",
       "    <tr>\n",
       "      <th>BAU_FS1</th>\n",
       "      <td>3994</td>\n",
       "      <td>9.5.2</td>\n",
       "      <td>193.665</td>\n",
       "      <td>6.540</td>\n",
       "      <td>29.521</td>\n",
       "      <td>20.582</td>\n",
       "      <td>61.239</td>\n",
       "      <td>3.0</td>\n",
       "      <td>6.0</td>\n",
       "      <td>97.0</td>\n",
       "      <td>...</td>\n",
       "      <td>0.009009</td>\n",
       "      <td>0.000715</td>\n",
       "      <td>0.013771</td>\n",
       "      <td>0.0</td>\n",
       "      <td>0.020984</td>\n",
       "      <td>0.023174</td>\n",
       "      <td>0.033817</td>\n",
       "      <td>0.002261</td>\n",
       "      <td>0.002593</td>\n",
       "      <td>0.000987</td>\n",
       "    </tr>\n",
       "  </tbody>\n",
       "</table>\n",
       "<p>5 rows × 160 columns</p>\n",
       "</div>"
      ],
      "text/plain": [
       "                  Unnamed: 0 ecoregion  V_strat  V_strat_reg  Ve_strat  \\\n",
       "id year regime                                                           \n",
       "14 2017 BAU_0           3914     9.5.2  193.311        5.305    29.133   \n",
       "        BAU_0_p1        3934     9.5.2  193.368        5.177    28.305   \n",
       "        BAU_0_p2        3954     9.5.2  187.269        5.972    31.093   \n",
       "        BAU_1           3974     9.5.2  193.731        5.946    28.088   \n",
       "        BAU_FS1         3994     9.5.2  193.665        6.540    29.521   \n",
       "\n",
       "                  Vm_strat  iV_strat  pct_coni  pct_reg_coni  pct_deci  ...  \\\n",
       "id year regime                                                          ...   \n",
       "14 2017 BAU_0       21.213    61.128       4.0           5.0      96.0  ...   \n",
       "        BAU_0_p1    21.771    60.915       3.0           3.0      97.0  ...   \n",
       "        BAU_0_p2    18.969    54.802       3.0           3.0      97.0  ...   \n",
       "        BAU_1       21.965    61.255       3.0           5.0      97.0  ...   \n",
       "        BAU_FS1     20.582    61.239       3.0           6.0      97.0  ...   \n",
       "\n",
       "                  Relative_relative_Volume  Relative_AnnualIncrement  \\\n",
       "id year regime                                                         \n",
       "14 2017 BAU_0                     0.009009                  0.000714   \n",
       "        BAU_0_p1                  0.009009                  0.000711   \n",
       "        BAU_0_p2                  0.009009                  0.000640   \n",
       "        BAU_1                     0.009009                  0.000715   \n",
       "        BAU_FS1                   0.009009                  0.000715   \n",
       "\n",
       "                  Relative_speciesProfileIndex  Relative_VolumeLargeTrees  \\\n",
       "id year regime                                                              \n",
       "14 2017 BAU_0                         0.013684                        0.0   \n",
       "        BAU_0_p1                      0.013565                        0.0   \n",
       "        BAU_0_p2                      0.013934                        0.0   \n",
       "        BAU_1                         0.013803                        0.0   \n",
       "        BAU_FS1                       0.013771                        0.0   \n",
       "\n",
       "                  Relative_speciesInterminglingIndex  \\\n",
       "id year regime                                         \n",
       "14 2017 BAU_0                               0.020984   \n",
       "        BAU_0_p1                            0.020984   \n",
       "        BAU_0_p2                            0.020984   \n",
       "        BAU_1                               0.020984   \n",
       "        BAU_FS1                             0.020984   \n",
       "\n",
       "                  Relative_ShannonIndexSpecies  \\\n",
       "id year regime                                   \n",
       "14 2017 BAU_0                         0.023174   \n",
       "        BAU_0_p1                      0.023174   \n",
       "        BAU_0_p2                      0.023174   \n",
       "        BAU_1                         0.023174   \n",
       "        BAU_FS1                       0.023174   \n",
       "\n",
       "                  Relative_ShannonIndexTreeHeight  Relative_standingVolume  \\\n",
       "id year regime                                                               \n",
       "14 2017 BAU_0                            0.033830                 0.002257   \n",
       "        BAU_0_p1                         0.033826                 0.002258   \n",
       "        BAU_0_p2                         0.033789                 0.002186   \n",
       "        BAU_1                            0.033840                 0.002262   \n",
       "        BAU_FS1                          0.033817                 0.002261   \n",
       "\n",
       "                  Relative_TotalLivingCarbon  Relative_pnvDeviation  \n",
       "id year regime                                                       \n",
       "14 2017 BAU_0                       0.002585               0.001356  \n",
       "        BAU_0_p1                    0.002589               0.001273  \n",
       "        BAU_0_p2                    0.002507               0.001255  \n",
       "        BAU_1                       0.002594               0.001044  \n",
       "        BAU_FS1                     0.002593               0.000987  \n",
       "\n",
       "[5 rows x 160 columns]"
      ]
     },
     "execution_count": 37,
     "metadata": {},
     "output_type": "execute_result"
    }
   ],
   "source": [
    "mfo.data.head()"
   ]
  },
  {
   "cell_type": "markdown",
   "metadata": {},
   "source": [
    "## Objectives"
   ]
  },
  {
   "cell_type": "markdown",
   "metadata": {},
   "source": [
    "### FS - Forest Strategy"
   ]
  },
  {
   "cell_type": "code",
   "execution_count": 38,
   "metadata": {},
   "outputs": [],
   "source": [
    "if scenario == 'FS':\n",
    "    \n",
    "    objectives_abs = {\n",
    "        \"HarvestedVolume\": [\"Sum of extracted volume (maximize, m3/ha) (4)\",\"HarvestedVolume\",\n",
    "                            \"max\",\"min\",\"areaWeightedAverage\"],\n",
    "        \"AnnualIncrement\": [\"Annual increment of standing volume (maximimze, m3/ha/5year) (4)\",\"AnnualIncrement\",\n",
    "                            \"max\",\"min\",\"areaWeightedAverage\"],\n",
    "        \"CteStandingVolume\" : [\"Standing volume must be maintained ct. (m3) (4)\", \"Relative_standingVolume\",\n",
    "                             \"max\", \"minYearlyIncrease\", \"areaWeightedAverage\"],\n",
    "        \"EnergyWood\" : [\"Energy Wood for industry must be maintained ct. (tC) (3)\", \"energyProds\", \n",
    "                       \"max\", \"minYearlyIncrease\", \"sum\"],\n",
    "        \"totalCarbonBalance\" : [\"carbon balance must be constant or maximized (tC) (2)\", \"CarbonBalance\",\n",
    "                             \"max\", \"min\", \"sum\"]  \n",
    "    }\n",
    "    objectives_rel = {\n",
    "        \"speciesProfileIndex\": [\"Species profile index (Pretzsch) (maximize the mean) (2)\",\"speciesProfileIndex\",\n",
    "                             \"max\",\"average\",\"areaWeightedAverage\"],                           \n",
    "        \"ShannonIndexSpecies\": [\"Shannon index of species (maximize the mean) (2)\",\"ShannonIndexSpecies\",\n",
    "                            \"max\",\"average\",\"areaWeightedAverage\"],\n",
    "        \"RiskStormBB\" :[\"Risk of storms and Bark Beetel (minimize the maximum risk) (2)\", \"Relative_stormBBRisk\", \n",
    "                       \"min\", \"max\",\"areaWeightedAverage\"],\n",
    "        \"RecreationAsth\" : [\"Recreation and Aesthetics maximize the mean) (4)\", \"RecreationAndAesthetics\",\n",
    "                           \"max\", \"average\", \"areaWeightedAverage\"],\n",
    "        \"Biodiveristy\": [\"Biodiversity fuzzy indicator (mantain ct, evenflow) (4)\", \"Biodiversity\", \n",
    "                             \"max\", \"average\", \"areaWeightedAverage\"],\n",
    "        \"CrownCoverage\":[\"Mean Crown coverage must be maintened (minimize change, evenflow) (4)\",\"covered_area_per\",\n",
    "                         \"max\", \"min\", \"areaWeightedAverage\"],\n",
    "    }\n",
    "\n",
    "    objectives = {\n",
    "        **objectives_abs,\n",
    "        **objectives_rel,\n",
    "    }"
   ]
  },
  {
   "cell_type": "markdown",
   "metadata": {},
   "source": [
    "### BDS - Biodiversity Strategy"
   ]
  },
  {
   "cell_type": "code",
   "execution_count": 39,
   "metadata": {},
   "outputs": [],
   "source": [
    "if scenario == 'BDS':\n",
    "    objectives_abs = {\n",
    "    \"totalCarbonBalance\" : [\"carbon balance must be constant or increase (tC) (4)\", \"CarbonBalance\",\n",
    "                         \"max\", \"average\", \"areaWeightedAverage\"]\n",
    "    }\n",
    "    objectives_rel = {\n",
    "    \"relative_LivingCarbon\": [\"Living carbon stored in Forests must increase by 5% by 2020 (tC - 10% relative to 2007 values) (4)\", \"Relative_TotalLivingCarbon\",\n",
    "                                \"max\",\"targetYearWithSlope\",\"sum\", 2020],\n",
    "    \"speciesProfileIndex\": [\"Species profile index (Pretzsch) (maximum over all years)  (4)\",\"speciesProfileIndex\",\n",
    "                         \"max\",\"average\",\"areaWeightedAverage\"],  \n",
    "    \"ShannonIndexSpecies\": [\"Shannon index of species (maximum over all years) (4)\",\"ShannonIndexSpecies\",\n",
    "                        \"max\",\"average\",\"areaWeightedAverage\"],\n",
    "    \"Biodiveristy\": [\"Biodiversity fuzzy indicator (maximum over all years) (4)\", \"Biodiversity\", \n",
    "                         \"max\", \"average\", \"areaWeightedAverage\"],\n",
    "\n",
    "    }\n",
    "    objectives_SA = {\n",
    " \n",
    "     \"Ratio_SA_forests\": [\"Ratio of protected areas (%, SA forests) (1)\",\n",
    "                         \"SA_forests\",\n",
    "                         \"max\",\"firstYear\",\"areaWeightedAverage\"]  \n",
    "    }\n",
    "    objectives = {\n",
    "        **objectives_SA,\n",
    "        **objectives_abs,\n",
    "        **objectives_rel,\n",
    "    }\n",
    "    objectives.update(\n",
    "        {\"pnvDeviation\": [\"deviation from potential natural vegetation (min over all years) (4)\",\"pnvDeviation\",\n",
    "        \"min\",\"max\",\"areaWeightedAverage\"],\n",
    "        }\n",
    "    )\n",
    "    "
   ]
  },
  {
   "cell_type": "markdown",
   "metadata": {},
   "source": [
    "### BES - Bioeconomy Strategy"
   ]
  },
  {
   "cell_type": "code",
   "execution_count": 40,
   "metadata": {},
   "outputs": [],
   "source": [
    "if scenario == 'BES':\n",
    "    \n",
    "    objectives_abs = {\n",
    "        \n",
    "    \"energyproducts\": [\"remaning products for energy use (tC maximize) (4)\", \"energyProds\",\n",
    "                        \"max\",\"min\",\"sum\"],\n",
    "    \"PulpWood\" : [\"wood products for industry (m3 maximize)  (4)\", \"PulpWood\",\n",
    "                        \"max\",\"min\",\"sum\"],\n",
    "    \"totalCarbonBalance\" : [\"carbon balance must be constant or increase (tC) (2)\", \"CarbonBalance\",\n",
    "                         \"max\", \"average\", \"sum\"],\n",
    "    \"SawTimberProduction\" : [\"timber production (m3 maximize) (4)\", \"SawTimber\",\n",
    "                         \"max\", \"min\", \"sum\"],\n",
    "\n",
    "    }\n",
    "    objectives_rel = {\n",
    "        \n",
    "     \"Biodiversity\": [\"Biodiversity fuzzy indicator (maximize) (1)\", \"Biodiversity\", \n",
    "                    \"max\", \"min\", \"areaWeightedAverage\"],\n",
    "     \"CrownCoverage\":[\"Mean Crown coverage must be maintened ct (% cover) (1)\",\"covered_area_per\",\n",
    "                     \"max\", \"min\", \"areaWeightedAverage\"],\n",
    "    }\n",
    "    objectives = {\n",
    "        **objectives_abs,\n",
    "        **objectives_rel,\n",
    "    }\n",
    "    "
   ]
  },
  {
   "cell_type": "code",
   "execution_count": 41,
   "metadata": {},
   "outputs": [
    {
     "data": {
      "text/plain": [
       "{'energyproducts': ['remaning products for energy use (tC maximize) (4)',\n",
       "  'energyProds',\n",
       "  'max',\n",
       "  'min',\n",
       "  'sum'],\n",
       " 'PulpWood': ['wood products for industry (m3 maximize)  (4)',\n",
       "  'PulpWood',\n",
       "  'max',\n",
       "  'min',\n",
       "  'sum'],\n",
       " 'totalCarbonBalance': ['carbon balance must be constant or increase (tC) (2)',\n",
       "  'CarbonBalance',\n",
       "  'max',\n",
       "  'average',\n",
       "  'sum'],\n",
       " 'SawTimberProduction': ['timber production (m3 maximize) (4)',\n",
       "  'SawTimber',\n",
       "  'max',\n",
       "  'min',\n",
       "  'sum'],\n",
       " 'Biodiversity': ['Biodiversity fuzzy indicator (maximize) (1)',\n",
       "  'Biodiversity',\n",
       "  'max',\n",
       "  'min',\n",
       "  'areaWeightedAverage'],\n",
       " 'CrownCoverage': ['Mean Crown coverage must be maintened ct (% cover) (1)',\n",
       "  'covered_area_per',\n",
       "  'max',\n",
       "  'min',\n",
       "  'areaWeightedAverage']}"
      ]
     },
     "execution_count": 41,
     "metadata": {},
     "output_type": "execute_result"
    }
   ],
   "source": [
    "objectives"
   ]
  },
  {
   "cell_type": "code",
   "execution_count": 42,
   "metadata": {
    "scrolled": true
   },
   "outputs": [
    {
     "data": {
      "text/plain": [
       "'Defining objectives'"
      ]
     },
     "metadata": {},
     "output_type": "display_data"
    },
    {
     "data": {
      "text/plain": [
       "'Aggregating stand wise'"
      ]
     },
     "metadata": {},
     "output_type": "display_data"
    },
    {
     "name": "stderr",
     "output_type": "stream",
     "text": [
      "100%|██████████| 6/6 [00:01<00:00,  3.25it/s]\n"
     ]
    },
    {
     "data": {
      "text/plain": [
       "'Aggregating year wise'"
      ]
     },
     "metadata": {},
     "output_type": "display_data"
    },
    {
     "name": "stdout",
     "output_type": "stream",
     "text": [
      "100%|██████████| 6/6 [00:00<00:00, 380.94it/s]\n"
     ]
    },
    {
     "data": {
      "text/plain": [
       "'Objectives added'"
      ]
     },
     "metadata": {},
     "output_type": "display_data"
    }
   ],
   "source": [
    "mfo.defineObjectives(objectives)"
   ]
  },
  {
   "cell_type": "markdown",
   "metadata": {},
   "source": [
    "## Define Enabled Constrains\n"
   ]
  },
  {
   "cell_type": "code",
   "execution_count": 43,
   "metadata": {},
   "outputs": [],
   "source": [
    "NotCCregimes = [regime for regime in mfo.regimes if \"BAU\" not in regime] "
   ]
  },
  {
   "cell_type": "code",
   "execution_count": 44,
   "metadata": {},
   "outputs": [
    {
     "data": {
      "text/plain": [
       "['CCF_P1', 'CCF_P2', 'CCF_P3', 'CCF_P3_p1', 'CCF_P3_p2', 'CCF_STATE', 'NOT']"
      ]
     },
     "execution_count": 44,
     "metadata": {},
     "output_type": "execute_result"
    }
   ],
   "source": [
    "NotCCregimes"
   ]
  },
  {
   "cell_type": "markdown",
   "metadata": {},
   "source": [
    "Constraint format:\n",
    "\n",
    "- Shortname: \"constraint type\",\"allowed regimes\",\"human readable name\",(regimes),\"column in data\")"
   ]
  },
  {
   "cell_type": "code",
   "execution_count": 45,
   "metadata": {},
   "outputs": [],
   "source": [
    "constraintTypes = {\"NoCC_Prot\":[\"Allowed regimes\",\"NO CleatCut on protected land\",NotCCregimes,\"protected\"],\n",
    "                   \"NoCC_State\":[\"Allowed regimes\",\"NO CleatCut on state forest\",NotCCregimes,\"stateForest\"]}"
   ]
  },
  {
   "cell_type": "code",
   "execution_count": 46,
   "metadata": {},
   "outputs": [],
   "source": [
    "mfo.defineConstraints(constraintTypes)"
   ]
  },
  {
   "cell_type": "markdown",
   "metadata": {},
   "source": [
    "## Calculate objective ranges"
   ]
  },
  {
   "cell_type": "markdown",
   "metadata": {},
   "source": [
    "You can run the following function twice to improve ranges accuracy.\n",
    "\n",
    "Especially, if some objectives get as lowerbounds 0:s, then it makes sense to reoptimize"
   ]
  },
  {
   "cell_type": "code",
   "execution_count": 47,
   "metadata": {
    "scrolled": true
   },
   "outputs": [
    {
     "data": {
      "text/plain": [
       "'Calculating objective ranges'"
      ]
     },
     "metadata": {},
     "output_type": "display_data"
    },
    {
     "name": "stdout",
     "output_type": "stream",
     "text": [
      "\r",
      "  0%|          | 0/6 [00:00<?, ?it/s]"
     ]
    },
    {
     "data": {
      "text/plain": [
       "'Optimizing for remaning products for energy use (tC maximize) (4)'"
      ]
     },
     "metadata": {},
     "output_type": "display_data"
    },
    {
     "data": {
      "text/plain": [
       "'Found an optimal solution in 0 seconds'"
      ]
     },
     "metadata": {},
     "output_type": "display_data"
    },
    {
     "data": {
      "text/plain": [
       "'Objective values are:'"
      ]
     },
     "metadata": {},
     "output_type": "display_data"
    },
    {
     "data": {
      "text/plain": [
       "'remaning products for energy use (tC maximize) (4)'"
      ]
     },
     "metadata": {},
     "output_type": "display_data"
    },
    {
     "data": {
      "text/plain": [
       "353236.70445831143"
      ]
     },
     "metadata": {},
     "output_type": "display_data"
    },
    {
     "data": {
      "text/plain": [
       "'wood products for industry (m3 maximize)  (4)'"
      ]
     },
     "metadata": {},
     "output_type": "display_data"
    },
    {
     "data": {
      "text/plain": [
       "0.0"
      ]
     },
     "metadata": {},
     "output_type": "display_data"
    },
    {
     "data": {
      "text/plain": [
       "'carbon balance must be constant or increase (tC) (2)'"
      ]
     },
     "metadata": {},
     "output_type": "display_data"
    },
    {
     "data": {
      "text/plain": [
       "229634.75133772852"
      ]
     },
     "metadata": {},
     "output_type": "display_data"
    },
    {
     "data": {
      "text/plain": [
       "'timber production (m3 maximize) (4)'"
      ]
     },
     "metadata": {},
     "output_type": "display_data"
    },
    {
     "data": {
      "text/plain": [
       "0.0"
      ]
     },
     "metadata": {},
     "output_type": "display_data"
    },
    {
     "data": {
      "text/plain": [
       "'Biodiversity fuzzy indicator (maximize) (1)'"
      ]
     },
     "metadata": {},
     "output_type": "display_data"
    },
    {
     "data": {
      "text/plain": [
       "0.0"
      ]
     },
     "metadata": {},
     "output_type": "display_data"
    },
    {
     "data": {
      "text/plain": [
       "'Mean Crown coverage must be maintened ct (% cover) (1)'"
      ]
     },
     "metadata": {},
     "output_type": "display_data"
    },
    {
     "data": {
      "text/plain": [
       "0.0"
      ]
     },
     "metadata": {},
     "output_type": "display_data"
    },
    {
     "name": "stdout",
     "output_type": "stream",
     "text": [
      "\r",
      " 17%|█▋        | 1/6 [00:00<00:01,  2.72it/s]"
     ]
    },
    {
     "data": {
      "text/plain": [
       "'Optimizing for wood products for industry (m3 maximize)  (4)'"
      ]
     },
     "metadata": {},
     "output_type": "display_data"
    },
    {
     "data": {
      "text/plain": [
       "'Found an optimal solution in 0 seconds'"
      ]
     },
     "metadata": {},
     "output_type": "display_data"
    },
    {
     "data": {
      "text/plain": [
       "'Objective values are:'"
      ]
     },
     "metadata": {},
     "output_type": "display_data"
    },
    {
     "data": {
      "text/plain": [
       "'remaning products for energy use (tC maximize) (4)'"
      ]
     },
     "metadata": {},
     "output_type": "display_data"
    },
    {
     "data": {
      "text/plain": [
       "0.0"
      ]
     },
     "metadata": {},
     "output_type": "display_data"
    },
    {
     "data": {
      "text/plain": [
       "'wood products for industry (m3 maximize)  (4)'"
      ]
     },
     "metadata": {},
     "output_type": "display_data"
    },
    {
     "data": {
      "text/plain": [
       "4441113.589210781"
      ]
     },
     "metadata": {},
     "output_type": "display_data"
    },
    {
     "data": {
      "text/plain": [
       "'carbon balance must be constant or increase (tC) (2)'"
      ]
     },
     "metadata": {},
     "output_type": "display_data"
    },
    {
     "data": {
      "text/plain": [
       "-41671.71647991123"
      ]
     },
     "metadata": {},
     "output_type": "display_data"
    },
    {
     "data": {
      "text/plain": [
       "'timber production (m3 maximize) (4)'"
      ]
     },
     "metadata": {},
     "output_type": "display_data"
    },
    {
     "data": {
      "text/plain": [
       "0.0"
      ]
     },
     "metadata": {},
     "output_type": "display_data"
    },
    {
     "data": {
      "text/plain": [
       "'Biodiversity fuzzy indicator (maximize) (1)'"
      ]
     },
     "metadata": {},
     "output_type": "display_data"
    },
    {
     "data": {
      "text/plain": [
       "0.0"
      ]
     },
     "metadata": {},
     "output_type": "display_data"
    },
    {
     "data": {
      "text/plain": [
       "'Mean Crown coverage must be maintened ct (% cover) (1)'"
      ]
     },
     "metadata": {},
     "output_type": "display_data"
    },
    {
     "data": {
      "text/plain": [
       "0.0"
      ]
     },
     "metadata": {},
     "output_type": "display_data"
    },
    {
     "name": "stdout",
     "output_type": "stream",
     "text": [
      "\r",
      " 33%|███▎      | 2/6 [00:00<00:01,  3.15it/s]"
     ]
    },
    {
     "data": {
      "text/plain": [
       "'Optimizing for carbon balance must be constant or increase (tC) (2)'"
      ]
     },
     "metadata": {},
     "output_type": "display_data"
    },
    {
     "data": {
      "text/plain": [
       "'Found an optimal solution in 0 seconds'"
      ]
     },
     "metadata": {},
     "output_type": "display_data"
    },
    {
     "data": {
      "text/plain": [
       "'Objective values are:'"
      ]
     },
     "metadata": {},
     "output_type": "display_data"
    },
    {
     "data": {
      "text/plain": [
       "'remaning products for energy use (tC maximize) (4)'"
      ]
     },
     "metadata": {},
     "output_type": "display_data"
    },
    {
     "data": {
      "text/plain": [
       "0.0"
      ]
     },
     "metadata": {},
     "output_type": "display_data"
    },
    {
     "data": {
      "text/plain": [
       "'wood products for industry (m3 maximize)  (4)'"
      ]
     },
     "metadata": {},
     "output_type": "display_data"
    },
    {
     "data": {
      "text/plain": [
       "0.0"
      ]
     },
     "metadata": {},
     "output_type": "display_data"
    },
    {
     "data": {
      "text/plain": [
       "'carbon balance must be constant or increase (tC) (2)'"
      ]
     },
     "metadata": {},
     "output_type": "display_data"
    },
    {
     "data": {
      "text/plain": [
       "498170.1682110192"
      ]
     },
     "metadata": {},
     "output_type": "display_data"
    },
    {
     "data": {
      "text/plain": [
       "'timber production (m3 maximize) (4)'"
      ]
     },
     "metadata": {},
     "output_type": "display_data"
    },
    {
     "data": {
      "text/plain": [
       "0.0"
      ]
     },
     "metadata": {},
     "output_type": "display_data"
    },
    {
     "data": {
      "text/plain": [
       "'Biodiversity fuzzy indicator (maximize) (1)'"
      ]
     },
     "metadata": {},
     "output_type": "display_data"
    },
    {
     "data": {
      "text/plain": [
       "0.0"
      ]
     },
     "metadata": {},
     "output_type": "display_data"
    },
    {
     "data": {
      "text/plain": [
       "'Mean Crown coverage must be maintened ct (% cover) (1)'"
      ]
     },
     "metadata": {},
     "output_type": "display_data"
    },
    {
     "data": {
      "text/plain": [
       "0.0"
      ]
     },
     "metadata": {},
     "output_type": "display_data"
    },
    {
     "name": "stdout",
     "output_type": "stream",
     "text": [
      "\r",
      " 50%|█████     | 3/6 [00:00<00:00,  3.74it/s]"
     ]
    },
    {
     "data": {
      "text/plain": [
       "'Optimizing for timber production (m3 maximize) (4)'"
      ]
     },
     "metadata": {},
     "output_type": "display_data"
    },
    {
     "data": {
      "text/plain": [
       "'Found an optimal solution in 0 seconds'"
      ]
     },
     "metadata": {},
     "output_type": "display_data"
    },
    {
     "data": {
      "text/plain": [
       "'Objective values are:'"
      ]
     },
     "metadata": {},
     "output_type": "display_data"
    },
    {
     "data": {
      "text/plain": [
       "'remaning products for energy use (tC maximize) (4)'"
      ]
     },
     "metadata": {},
     "output_type": "display_data"
    },
    {
     "data": {
      "text/plain": [
       "0.0"
      ]
     },
     "metadata": {},
     "output_type": "display_data"
    },
    {
     "data": {
      "text/plain": [
       "'wood products for industry (m3 maximize)  (4)'"
      ]
     },
     "metadata": {},
     "output_type": "display_data"
    },
    {
     "data": {
      "text/plain": [
       "0.0"
      ]
     },
     "metadata": {},
     "output_type": "display_data"
    },
    {
     "data": {
      "text/plain": [
       "'carbon balance must be constant or increase (tC) (2)'"
      ]
     },
     "metadata": {},
     "output_type": "display_data"
    },
    {
     "data": {
      "text/plain": [
       "226865.9252195332"
      ]
     },
     "metadata": {},
     "output_type": "display_data"
    },
    {
     "data": {
      "text/plain": [
       "'timber production (m3 maximize) (4)'"
      ]
     },
     "metadata": {},
     "output_type": "display_data"
    },
    {
     "data": {
      "text/plain": [
       "16428819.654257894"
      ]
     },
     "metadata": {},
     "output_type": "display_data"
    },
    {
     "data": {
      "text/plain": [
       "'Biodiversity fuzzy indicator (maximize) (1)'"
      ]
     },
     "metadata": {},
     "output_type": "display_data"
    },
    {
     "data": {
      "text/plain": [
       "0.0"
      ]
     },
     "metadata": {},
     "output_type": "display_data"
    },
    {
     "data": {
      "text/plain": [
       "'Mean Crown coverage must be maintened ct (% cover) (1)'"
      ]
     },
     "metadata": {},
     "output_type": "display_data"
    },
    {
     "data": {
      "text/plain": [
       "0.0"
      ]
     },
     "metadata": {},
     "output_type": "display_data"
    },
    {
     "name": "stdout",
     "output_type": "stream",
     "text": [
      "\r",
      " 67%|██████▋   | 4/6 [00:00<00:00,  4.07it/s]"
     ]
    },
    {
     "data": {
      "text/plain": [
       "'Optimizing for Biodiversity fuzzy indicator (maximize) (1)'"
      ]
     },
     "metadata": {},
     "output_type": "display_data"
    },
    {
     "data": {
      "text/plain": [
       "'Found an optimal solution in 0 seconds'"
      ]
     },
     "metadata": {},
     "output_type": "display_data"
    },
    {
     "data": {
      "text/plain": [
       "'Objective values are:'"
      ]
     },
     "metadata": {},
     "output_type": "display_data"
    },
    {
     "data": {
      "text/plain": [
       "'remaning products for energy use (tC maximize) (4)'"
      ]
     },
     "metadata": {},
     "output_type": "display_data"
    },
    {
     "data": {
      "text/plain": [
       "0.0"
      ]
     },
     "metadata": {},
     "output_type": "display_data"
    },
    {
     "data": {
      "text/plain": [
       "'wood products for industry (m3 maximize)  (4)'"
      ]
     },
     "metadata": {},
     "output_type": "display_data"
    },
    {
     "data": {
      "text/plain": [
       "0.0"
      ]
     },
     "metadata": {},
     "output_type": "display_data"
    },
    {
     "data": {
      "text/plain": [
       "'carbon balance must be constant or increase (tC) (2)'"
      ]
     },
     "metadata": {},
     "output_type": "display_data"
    },
    {
     "data": {
      "text/plain": [
       "230683.3940577138"
      ]
     },
     "metadata": {},
     "output_type": "display_data"
    },
    {
     "data": {
      "text/plain": [
       "'timber production (m3 maximize) (4)'"
      ]
     },
     "metadata": {},
     "output_type": "display_data"
    },
    {
     "data": {
      "text/plain": [
       "0.0"
      ]
     },
     "metadata": {},
     "output_type": "display_data"
    },
    {
     "data": {
      "text/plain": [
       "'Biodiversity fuzzy indicator (maximize) (1)'"
      ]
     },
     "metadata": {},
     "output_type": "display_data"
    },
    {
     "data": {
      "text/plain": [
       "0.26313645308337125"
      ]
     },
     "metadata": {},
     "output_type": "display_data"
    },
    {
     "data": {
      "text/plain": [
       "'Mean Crown coverage must be maintened ct (% cover) (1)'"
      ]
     },
     "metadata": {},
     "output_type": "display_data"
    },
    {
     "data": {
      "text/plain": [
       "0.0"
      ]
     },
     "metadata": {},
     "output_type": "display_data"
    },
    {
     "name": "stdout",
     "output_type": "stream",
     "text": [
      "\r",
      " 83%|████████▎ | 5/6 [00:01<00:00,  4.36it/s]"
     ]
    },
    {
     "data": {
      "text/plain": [
       "'Optimizing for Mean Crown coverage must be maintened ct (% cover) (1)'"
      ]
     },
     "metadata": {},
     "output_type": "display_data"
    },
    {
     "data": {
      "text/plain": [
       "'Found an optimal solution in 0 seconds'"
      ]
     },
     "metadata": {},
     "output_type": "display_data"
    },
    {
     "data": {
      "text/plain": [
       "'Objective values are:'"
      ]
     },
     "metadata": {},
     "output_type": "display_data"
    },
    {
     "data": {
      "text/plain": [
       "'remaning products for energy use (tC maximize) (4)'"
      ]
     },
     "metadata": {},
     "output_type": "display_data"
    },
    {
     "data": {
      "text/plain": [
       "0.0"
      ]
     },
     "metadata": {},
     "output_type": "display_data"
    },
    {
     "data": {
      "text/plain": [
       "'wood products for industry (m3 maximize)  (4)'"
      ]
     },
     "metadata": {},
     "output_type": "display_data"
    },
    {
     "data": {
      "text/plain": [
       "0.0"
      ]
     },
     "metadata": {},
     "output_type": "display_data"
    },
    {
     "data": {
      "text/plain": [
       "'carbon balance must be constant or increase (tC) (2)'"
      ]
     },
     "metadata": {},
     "output_type": "display_data"
    },
    {
     "data": {
      "text/plain": [
       "260088.03331874666"
      ]
     },
     "metadata": {},
     "output_type": "display_data"
    },
    {
     "data": {
      "text/plain": [
       "'timber production (m3 maximize) (4)'"
      ]
     },
     "metadata": {},
     "output_type": "display_data"
    },
    {
     "data": {
      "text/plain": [
       "0.0"
      ]
     },
     "metadata": {},
     "output_type": "display_data"
    },
    {
     "data": {
      "text/plain": [
       "'Biodiversity fuzzy indicator (maximize) (1)'"
      ]
     },
     "metadata": {},
     "output_type": "display_data"
    },
    {
     "data": {
      "text/plain": [
       "0.0"
      ]
     },
     "metadata": {},
     "output_type": "display_data"
    },
    {
     "data": {
      "text/plain": [
       "'Mean Crown coverage must be maintened ct (% cover) (1)'"
      ]
     },
     "metadata": {},
     "output_type": "display_data"
    },
    {
     "data": {
      "text/plain": [
       "65.88643251581223"
      ]
     },
     "metadata": {},
     "output_type": "display_data"
    },
    {
     "name": "stdout",
     "output_type": "stream",
     "text": [
      "100%|██████████| 6/6 [00:01<00:00,  4.58it/s]\n",
      "CPU times: user 1.15 s, sys: 43.9 ms, total: 1.19 s\n",
      "Wall time: 1.31 s\n"
     ]
    }
   ],
   "source": [
    "\n",
    "%%time\n",
    "mfo.calculateObjectiveRanges(debug=True)"
   ]
  },
  {
   "cell_type": "code",
   "execution_count": 48,
   "metadata": {},
   "outputs": [
    {
     "data": {
      "text/plain": [
       "{'energyproducts': (0.0, 353236.70445831143),\n",
       " 'PulpWood': (0.0, 4441113.589210781),\n",
       " 'totalCarbonBalance': (-41671.71647991123, 498170.1682110192),\n",
       " 'SawTimberProduction': (0.0, 16428819.654257894),\n",
       " 'Biodiversity': (0.0, 0.26313645308337125),\n",
       " 'CrownCoverage': (0.0, 65.88643251581223)}"
      ]
     },
     "execution_count": 48,
     "metadata": {},
     "output_type": "execute_result"
    }
   ],
   "source": [
    "mfo.objectiveRanges"
   ]
  },
  {
   "cell_type": "markdown",
   "metadata": {},
   "source": [
    "## Show GUI"
   ]
  },
  {
   "cell_type": "markdown",
   "metadata": {},
   "source": [
    "- If \"Enabled constraints\" should be considered, start with ticking box \"only CCF ...\" and push \"Change constraints\"\n",
    "- Epsilon constraints are only considered if sliders are moved and button \"Set epsilon constraints\" is pushed\n",
    "- By pushing \"OPTIMIZE\" an optimal solution under the given constraints and reference points is searched"
   ]
  },
  {
   "cell_type": "code",
   "execution_count": 49,
   "metadata": {
    "scrolled": false
   },
   "outputs": [
    {
     "data": {
      "text/html": [
       "<style>\n",
       "            .widget-label { min-width: 60% !important; }\n",
       "        </style>"
      ],
      "text/plain": [
       "<IPython.core.display.HTML object>"
      ]
     },
     "metadata": {},
     "output_type": "display_data"
    },
    {
     "data": {
      "text/html": [
       "<h2>Epsilon constraint values</h2>"
      ],
      "text/plain": [
       "<IPython.core.display.HTML object>"
      ]
     },
     "metadata": {},
     "output_type": "display_data"
    },
    {
     "data": {
      "application/vnd.jupyter.widget-view+json": {
       "model_id": "d2de519886664a6fb2512c1378952621",
       "version_major": 2,
       "version_minor": 0
      },
      "text/plain": [
       "interactive(children=(FloatSlider(value=0.0, description='remaning products for energy use (tC maximize) (4)',…"
      ]
     },
     "metadata": {},
     "output_type": "display_data"
    },
    {
     "data": {
      "text/html": [
       "<h2>Reference point</h2>"
      ],
      "text/plain": [
       "<IPython.core.display.HTML object>"
      ]
     },
     "metadata": {},
     "output_type": "display_data"
    },
    {
     "data": {
      "application/vnd.jupyter.widget-view+json": {
       "model_id": "594efb283f3c41e0a68d474e2e096d59",
       "version_major": 2,
       "version_minor": 0
      },
      "text/plain": [
       "interactive(children=(FloatSlider(value=176618.35222915572, description='remaning products for energy use (tC …"
      ]
     },
     "metadata": {},
     "output_type": "display_data"
    },
    {
     "data": {
      "text/html": [
       "<h2>Enabled constraints</h2>"
      ],
      "text/plain": [
       "<IPython.core.display.HTML object>"
      ]
     },
     "metadata": {},
     "output_type": "display_data"
    },
    {
     "data": {
      "application/vnd.jupyter.widget-view+json": {
       "model_id": "abd2bde2f9bc4cfcbce7b75c6d95ba21",
       "version_major": 2,
       "version_minor": 0
      },
      "text/plain": [
       "interactive(children=(Checkbox(value=False, description='NO CleatCut on protected land'), Checkbox(value=False…"
      ]
     },
     "metadata": {},
     "output_type": "display_data"
    },
    {
     "data": {
      "application/vnd.jupyter.widget-view+json": {
       "model_id": "22895686773f44e68b0ab509d95b7b23",
       "version_major": 2,
       "version_minor": 0
      },
      "text/plain": [
       "Button(description='Print solution', style=ButtonStyle())"
      ]
     },
     "metadata": {},
     "output_type": "display_data"
    }
   ],
   "source": [
    "mfo.showGUI()"
   ]
  },
  {
   "cell_type": "markdown",
   "metadata": {},
   "source": [
    "## Visualization of optimal solution"
   ]
  },
  {
   "cell_type": "code",
   "execution_count": 50,
   "metadata": {},
   "outputs": [],
   "source": [
    "regimeAmounts = {regime:0 for regime in mfo.regimes}\n",
    "for key in mfo.regimesDecision.keys():\n",
    "    regimeAmounts[key[1]] +=mfo.regimesDecision[key].solution_value()*mfo.standAreas.loc[key[0],\"represented_area_by_NFIplot\"]/mfo.standAreas[\"represented_area_by_NFIplot\"].sum()"
   ]
  },
  {
   "cell_type": "code",
   "execution_count": 51,
   "metadata": {
    "scrolled": false
   },
   "outputs": [
    {
     "name": "stdout",
     "output_type": "stream",
     "text": [
      "Populating the interactive namespace from numpy and matplotlib\n"
     ]
    }
   ],
   "source": [
    "%pylab notebook"
   ]
  },
  {
   "cell_type": "code",
   "execution_count": 52,
   "metadata": {
    "scrolled": true
   },
   "outputs": [
    {
     "data": {
      "text/plain": [
       "[0.0,\n",
       " 0.011714295906007376,\n",
       " 0.06395897881580465,\n",
       " 0.008559746430160085,\n",
       " 0.017292468854785723,\n",
       " 0.013001325562820378,\n",
       " 0.004333775187606793,\n",
       " 0.08387247395740619,\n",
       " 0.0,\n",
       " 0.0,\n",
       " 0.012893521617782124,\n",
       " 0.2076967463374368,\n",
       " 0.2255306449718851,\n",
       " 0.0,\n",
       " 0.35114602235830467]"
      ]
     },
     "execution_count": 52,
     "metadata": {},
     "output_type": "execute_result"
    }
   ],
   "source": [
    "[val for val in regimeAmounts.values()]"
   ]
  },
  {
   "cell_type": "code",
   "execution_count": 53,
   "metadata": {
    "scrolled": false
   },
   "outputs": [
    {
     "data": {
      "application/javascript": [
       "/* Put everything inside the global mpl namespace */\n",
       "window.mpl = {};\n",
       "\n",
       "\n",
       "mpl.get_websocket_type = function() {\n",
       "    if (typeof(WebSocket) !== 'undefined') {\n",
       "        return WebSocket;\n",
       "    } else if (typeof(MozWebSocket) !== 'undefined') {\n",
       "        return MozWebSocket;\n",
       "    } else {\n",
       "        alert('Your browser does not have WebSocket support. ' +\n",
       "              'Please try Chrome, Safari or Firefox ≥ 6. ' +\n",
       "              'Firefox 4 and 5 are also supported but you ' +\n",
       "              'have to enable WebSockets in about:config.');\n",
       "    };\n",
       "}\n",
       "\n",
       "mpl.figure = function(figure_id, websocket, ondownload, parent_element) {\n",
       "    this.id = figure_id;\n",
       "\n",
       "    this.ws = websocket;\n",
       "\n",
       "    this.supports_binary = (this.ws.binaryType != undefined);\n",
       "\n",
       "    if (!this.supports_binary) {\n",
       "        var warnings = document.getElementById(\"mpl-warnings\");\n",
       "        if (warnings) {\n",
       "            warnings.style.display = 'block';\n",
       "            warnings.textContent = (\n",
       "                \"This browser does not support binary websocket messages. \" +\n",
       "                    \"Performance may be slow.\");\n",
       "        }\n",
       "    }\n",
       "\n",
       "    this.imageObj = new Image();\n",
       "\n",
       "    this.context = undefined;\n",
       "    this.message = undefined;\n",
       "    this.canvas = undefined;\n",
       "    this.rubberband_canvas = undefined;\n",
       "    this.rubberband_context = undefined;\n",
       "    this.format_dropdown = undefined;\n",
       "\n",
       "    this.image_mode = 'full';\n",
       "\n",
       "    this.root = $('<div/>');\n",
       "    this._root_extra_style(this.root)\n",
       "    this.root.attr('style', 'display: inline-block');\n",
       "\n",
       "    $(parent_element).append(this.root);\n",
       "\n",
       "    this._init_header(this);\n",
       "    this._init_canvas(this);\n",
       "    this._init_toolbar(this);\n",
       "\n",
       "    var fig = this;\n",
       "\n",
       "    this.waiting = false;\n",
       "\n",
       "    this.ws.onopen =  function () {\n",
       "            fig.send_message(\"supports_binary\", {value: fig.supports_binary});\n",
       "            fig.send_message(\"send_image_mode\", {});\n",
       "            if (mpl.ratio != 1) {\n",
       "                fig.send_message(\"set_dpi_ratio\", {'dpi_ratio': mpl.ratio});\n",
       "            }\n",
       "            fig.send_message(\"refresh\", {});\n",
       "        }\n",
       "\n",
       "    this.imageObj.onload = function() {\n",
       "            if (fig.image_mode == 'full') {\n",
       "                // Full images could contain transparency (where diff images\n",
       "                // almost always do), so we need to clear the canvas so that\n",
       "                // there is no ghosting.\n",
       "                fig.context.clearRect(0, 0, fig.canvas.width, fig.canvas.height);\n",
       "            }\n",
       "            fig.context.drawImage(fig.imageObj, 0, 0);\n",
       "        };\n",
       "\n",
       "    this.imageObj.onunload = function() {\n",
       "        fig.ws.close();\n",
       "    }\n",
       "\n",
       "    this.ws.onmessage = this._make_on_message_function(this);\n",
       "\n",
       "    this.ondownload = ondownload;\n",
       "}\n",
       "\n",
       "mpl.figure.prototype._init_header = function() {\n",
       "    var titlebar = $(\n",
       "        '<div class=\"ui-dialog-titlebar ui-widget-header ui-corner-all ' +\n",
       "        'ui-helper-clearfix\"/>');\n",
       "    var titletext = $(\n",
       "        '<div class=\"ui-dialog-title\" style=\"width: 100%; ' +\n",
       "        'text-align: center; padding: 3px;\"/>');\n",
       "    titlebar.append(titletext)\n",
       "    this.root.append(titlebar);\n",
       "    this.header = titletext[0];\n",
       "}\n",
       "\n",
       "\n",
       "\n",
       "mpl.figure.prototype._canvas_extra_style = function(canvas_div) {\n",
       "\n",
       "}\n",
       "\n",
       "\n",
       "mpl.figure.prototype._root_extra_style = function(canvas_div) {\n",
       "\n",
       "}\n",
       "\n",
       "mpl.figure.prototype._init_canvas = function() {\n",
       "    var fig = this;\n",
       "\n",
       "    var canvas_div = $('<div/>');\n",
       "\n",
       "    canvas_div.attr('style', 'position: relative; clear: both; outline: 0');\n",
       "\n",
       "    function canvas_keyboard_event(event) {\n",
       "        return fig.key_event(event, event['data']);\n",
       "    }\n",
       "\n",
       "    canvas_div.keydown('key_press', canvas_keyboard_event);\n",
       "    canvas_div.keyup('key_release', canvas_keyboard_event);\n",
       "    this.canvas_div = canvas_div\n",
       "    this._canvas_extra_style(canvas_div)\n",
       "    this.root.append(canvas_div);\n",
       "\n",
       "    var canvas = $('<canvas/>');\n",
       "    canvas.addClass('mpl-canvas');\n",
       "    canvas.attr('style', \"left: 0; top: 0; z-index: 0; outline: 0\")\n",
       "\n",
       "    this.canvas = canvas[0];\n",
       "    this.context = canvas[0].getContext(\"2d\");\n",
       "\n",
       "    var backingStore = this.context.backingStorePixelRatio ||\n",
       "\tthis.context.webkitBackingStorePixelRatio ||\n",
       "\tthis.context.mozBackingStorePixelRatio ||\n",
       "\tthis.context.msBackingStorePixelRatio ||\n",
       "\tthis.context.oBackingStorePixelRatio ||\n",
       "\tthis.context.backingStorePixelRatio || 1;\n",
       "\n",
       "    mpl.ratio = (window.devicePixelRatio || 1) / backingStore;\n",
       "\n",
       "    var rubberband = $('<canvas/>');\n",
       "    rubberband.attr('style', \"position: absolute; left: 0; top: 0; z-index: 1;\")\n",
       "\n",
       "    var pass_mouse_events = true;\n",
       "\n",
       "    canvas_div.resizable({\n",
       "        start: function(event, ui) {\n",
       "            pass_mouse_events = false;\n",
       "        },\n",
       "        resize: function(event, ui) {\n",
       "            fig.request_resize(ui.size.width, ui.size.height);\n",
       "        },\n",
       "        stop: function(event, ui) {\n",
       "            pass_mouse_events = true;\n",
       "            fig.request_resize(ui.size.width, ui.size.height);\n",
       "        },\n",
       "    });\n",
       "\n",
       "    function mouse_event_fn(event) {\n",
       "        if (pass_mouse_events)\n",
       "            return fig.mouse_event(event, event['data']);\n",
       "    }\n",
       "\n",
       "    rubberband.mousedown('button_press', mouse_event_fn);\n",
       "    rubberband.mouseup('button_release', mouse_event_fn);\n",
       "    // Throttle sequential mouse events to 1 every 20ms.\n",
       "    rubberband.mousemove('motion_notify', mouse_event_fn);\n",
       "\n",
       "    rubberband.mouseenter('figure_enter', mouse_event_fn);\n",
       "    rubberband.mouseleave('figure_leave', mouse_event_fn);\n",
       "\n",
       "    canvas_div.on(\"wheel\", function (event) {\n",
       "        event = event.originalEvent;\n",
       "        event['data'] = 'scroll'\n",
       "        if (event.deltaY < 0) {\n",
       "            event.step = 1;\n",
       "        } else {\n",
       "            event.step = -1;\n",
       "        }\n",
       "        mouse_event_fn(event);\n",
       "    });\n",
       "\n",
       "    canvas_div.append(canvas);\n",
       "    canvas_div.append(rubberband);\n",
       "\n",
       "    this.rubberband = rubberband;\n",
       "    this.rubberband_canvas = rubberband[0];\n",
       "    this.rubberband_context = rubberband[0].getContext(\"2d\");\n",
       "    this.rubberband_context.strokeStyle = \"#000000\";\n",
       "\n",
       "    this._resize_canvas = function(width, height) {\n",
       "        // Keep the size of the canvas, canvas container, and rubber band\n",
       "        // canvas in synch.\n",
       "        canvas_div.css('width', width)\n",
       "        canvas_div.css('height', height)\n",
       "\n",
       "        canvas.attr('width', width * mpl.ratio);\n",
       "        canvas.attr('height', height * mpl.ratio);\n",
       "        canvas.attr('style', 'width: ' + width + 'px; height: ' + height + 'px;');\n",
       "\n",
       "        rubberband.attr('width', width);\n",
       "        rubberband.attr('height', height);\n",
       "    }\n",
       "\n",
       "    // Set the figure to an initial 600x600px, this will subsequently be updated\n",
       "    // upon first draw.\n",
       "    this._resize_canvas(600, 600);\n",
       "\n",
       "    // Disable right mouse context menu.\n",
       "    $(this.rubberband_canvas).bind(\"contextmenu\",function(e){\n",
       "        return false;\n",
       "    });\n",
       "\n",
       "    function set_focus () {\n",
       "        canvas.focus();\n",
       "        canvas_div.focus();\n",
       "    }\n",
       "\n",
       "    window.setTimeout(set_focus, 100);\n",
       "}\n",
       "\n",
       "mpl.figure.prototype._init_toolbar = function() {\n",
       "    var fig = this;\n",
       "\n",
       "    var nav_element = $('<div/>');\n",
       "    nav_element.attr('style', 'width: 100%');\n",
       "    this.root.append(nav_element);\n",
       "\n",
       "    // Define a callback function for later on.\n",
       "    function toolbar_event(event) {\n",
       "        return fig.toolbar_button_onclick(event['data']);\n",
       "    }\n",
       "    function toolbar_mouse_event(event) {\n",
       "        return fig.toolbar_button_onmouseover(event['data']);\n",
       "    }\n",
       "\n",
       "    for(var toolbar_ind in mpl.toolbar_items) {\n",
       "        var name = mpl.toolbar_items[toolbar_ind][0];\n",
       "        var tooltip = mpl.toolbar_items[toolbar_ind][1];\n",
       "        var image = mpl.toolbar_items[toolbar_ind][2];\n",
       "        var method_name = mpl.toolbar_items[toolbar_ind][3];\n",
       "\n",
       "        if (!name) {\n",
       "            // put a spacer in here.\n",
       "            continue;\n",
       "        }\n",
       "        var button = $('<button/>');\n",
       "        button.addClass('ui-button ui-widget ui-state-default ui-corner-all ' +\n",
       "                        'ui-button-icon-only');\n",
       "        button.attr('role', 'button');\n",
       "        button.attr('aria-disabled', 'false');\n",
       "        button.click(method_name, toolbar_event);\n",
       "        button.mouseover(tooltip, toolbar_mouse_event);\n",
       "\n",
       "        var icon_img = $('<span/>');\n",
       "        icon_img.addClass('ui-button-icon-primary ui-icon');\n",
       "        icon_img.addClass(image);\n",
       "        icon_img.addClass('ui-corner-all');\n",
       "\n",
       "        var tooltip_span = $('<span/>');\n",
       "        tooltip_span.addClass('ui-button-text');\n",
       "        tooltip_span.html(tooltip);\n",
       "\n",
       "        button.append(icon_img);\n",
       "        button.append(tooltip_span);\n",
       "\n",
       "        nav_element.append(button);\n",
       "    }\n",
       "\n",
       "    var fmt_picker_span = $('<span/>');\n",
       "\n",
       "    var fmt_picker = $('<select/>');\n",
       "    fmt_picker.addClass('mpl-toolbar-option ui-widget ui-widget-content');\n",
       "    fmt_picker_span.append(fmt_picker);\n",
       "    nav_element.append(fmt_picker_span);\n",
       "    this.format_dropdown = fmt_picker[0];\n",
       "\n",
       "    for (var ind in mpl.extensions) {\n",
       "        var fmt = mpl.extensions[ind];\n",
       "        var option = $(\n",
       "            '<option/>', {selected: fmt === mpl.default_extension}).html(fmt);\n",
       "        fmt_picker.append(option);\n",
       "    }\n",
       "\n",
       "    // Add hover states to the ui-buttons\n",
       "    $( \".ui-button\" ).hover(\n",
       "        function() { $(this).addClass(\"ui-state-hover\");},\n",
       "        function() { $(this).removeClass(\"ui-state-hover\");}\n",
       "    );\n",
       "\n",
       "    var status_bar = $('<span class=\"mpl-message\"/>');\n",
       "    nav_element.append(status_bar);\n",
       "    this.message = status_bar[0];\n",
       "}\n",
       "\n",
       "mpl.figure.prototype.request_resize = function(x_pixels, y_pixels) {\n",
       "    // Request matplotlib to resize the figure. Matplotlib will then trigger a resize in the client,\n",
       "    // which will in turn request a refresh of the image.\n",
       "    this.send_message('resize', {'width': x_pixels, 'height': y_pixels});\n",
       "}\n",
       "\n",
       "mpl.figure.prototype.send_message = function(type, properties) {\n",
       "    properties['type'] = type;\n",
       "    properties['figure_id'] = this.id;\n",
       "    this.ws.send(JSON.stringify(properties));\n",
       "}\n",
       "\n",
       "mpl.figure.prototype.send_draw_message = function() {\n",
       "    if (!this.waiting) {\n",
       "        this.waiting = true;\n",
       "        this.ws.send(JSON.stringify({type: \"draw\", figure_id: this.id}));\n",
       "    }\n",
       "}\n",
       "\n",
       "\n",
       "mpl.figure.prototype.handle_save = function(fig, msg) {\n",
       "    var format_dropdown = fig.format_dropdown;\n",
       "    var format = format_dropdown.options[format_dropdown.selectedIndex].value;\n",
       "    fig.ondownload(fig, format);\n",
       "}\n",
       "\n",
       "\n",
       "mpl.figure.prototype.handle_resize = function(fig, msg) {\n",
       "    var size = msg['size'];\n",
       "    if (size[0] != fig.canvas.width || size[1] != fig.canvas.height) {\n",
       "        fig._resize_canvas(size[0], size[1]);\n",
       "        fig.send_message(\"refresh\", {});\n",
       "    };\n",
       "}\n",
       "\n",
       "mpl.figure.prototype.handle_rubberband = function(fig, msg) {\n",
       "    var x0 = msg['x0'] / mpl.ratio;\n",
       "    var y0 = (fig.canvas.height - msg['y0']) / mpl.ratio;\n",
       "    var x1 = msg['x1'] / mpl.ratio;\n",
       "    var y1 = (fig.canvas.height - msg['y1']) / mpl.ratio;\n",
       "    x0 = Math.floor(x0) + 0.5;\n",
       "    y0 = Math.floor(y0) + 0.5;\n",
       "    x1 = Math.floor(x1) + 0.5;\n",
       "    y1 = Math.floor(y1) + 0.5;\n",
       "    var min_x = Math.min(x0, x1);\n",
       "    var min_y = Math.min(y0, y1);\n",
       "    var width = Math.abs(x1 - x0);\n",
       "    var height = Math.abs(y1 - y0);\n",
       "\n",
       "    fig.rubberband_context.clearRect(\n",
       "        0, 0, fig.canvas.width / mpl.ratio, fig.canvas.height / mpl.ratio);\n",
       "\n",
       "    fig.rubberband_context.strokeRect(min_x, min_y, width, height);\n",
       "}\n",
       "\n",
       "mpl.figure.prototype.handle_figure_label = function(fig, msg) {\n",
       "    // Updates the figure title.\n",
       "    fig.header.textContent = msg['label'];\n",
       "}\n",
       "\n",
       "mpl.figure.prototype.handle_cursor = function(fig, msg) {\n",
       "    var cursor = msg['cursor'];\n",
       "    switch(cursor)\n",
       "    {\n",
       "    case 0:\n",
       "        cursor = 'pointer';\n",
       "        break;\n",
       "    case 1:\n",
       "        cursor = 'default';\n",
       "        break;\n",
       "    case 2:\n",
       "        cursor = 'crosshair';\n",
       "        break;\n",
       "    case 3:\n",
       "        cursor = 'move';\n",
       "        break;\n",
       "    }\n",
       "    fig.rubberband_canvas.style.cursor = cursor;\n",
       "}\n",
       "\n",
       "mpl.figure.prototype.handle_message = function(fig, msg) {\n",
       "    fig.message.textContent = msg['message'];\n",
       "}\n",
       "\n",
       "mpl.figure.prototype.handle_draw = function(fig, msg) {\n",
       "    // Request the server to send over a new figure.\n",
       "    fig.send_draw_message();\n",
       "}\n",
       "\n",
       "mpl.figure.prototype.handle_image_mode = function(fig, msg) {\n",
       "    fig.image_mode = msg['mode'];\n",
       "}\n",
       "\n",
       "mpl.figure.prototype.updated_canvas_event = function() {\n",
       "    // Called whenever the canvas gets updated.\n",
       "    this.send_message(\"ack\", {});\n",
       "}\n",
       "\n",
       "// A function to construct a web socket function for onmessage handling.\n",
       "// Called in the figure constructor.\n",
       "mpl.figure.prototype._make_on_message_function = function(fig) {\n",
       "    return function socket_on_message(evt) {\n",
       "        if (evt.data instanceof Blob) {\n",
       "            /* FIXME: We get \"Resource interpreted as Image but\n",
       "             * transferred with MIME type text/plain:\" errors on\n",
       "             * Chrome.  But how to set the MIME type?  It doesn't seem\n",
       "             * to be part of the websocket stream */\n",
       "            evt.data.type = \"image/png\";\n",
       "\n",
       "            /* Free the memory for the previous frames */\n",
       "            if (fig.imageObj.src) {\n",
       "                (window.URL || window.webkitURL).revokeObjectURL(\n",
       "                    fig.imageObj.src);\n",
       "            }\n",
       "\n",
       "            fig.imageObj.src = (window.URL || window.webkitURL).createObjectURL(\n",
       "                evt.data);\n",
       "            fig.updated_canvas_event();\n",
       "            fig.waiting = false;\n",
       "            return;\n",
       "        }\n",
       "        else if (typeof evt.data === 'string' && evt.data.slice(0, 21) == \"data:image/png;base64\") {\n",
       "            fig.imageObj.src = evt.data;\n",
       "            fig.updated_canvas_event();\n",
       "            fig.waiting = false;\n",
       "            return;\n",
       "        }\n",
       "\n",
       "        var msg = JSON.parse(evt.data);\n",
       "        var msg_type = msg['type'];\n",
       "\n",
       "        // Call the  \"handle_{type}\" callback, which takes\n",
       "        // the figure and JSON message as its only arguments.\n",
       "        try {\n",
       "            var callback = fig[\"handle_\" + msg_type];\n",
       "        } catch (e) {\n",
       "            console.log(\"No handler for the '\" + msg_type + \"' message type: \", msg);\n",
       "            return;\n",
       "        }\n",
       "\n",
       "        if (callback) {\n",
       "            try {\n",
       "                // console.log(\"Handling '\" + msg_type + \"' message: \", msg);\n",
       "                callback(fig, msg);\n",
       "            } catch (e) {\n",
       "                console.log(\"Exception inside the 'handler_\" + msg_type + \"' callback:\", e, e.stack, msg);\n",
       "            }\n",
       "        }\n",
       "    };\n",
       "}\n",
       "\n",
       "// from http://stackoverflow.com/questions/1114465/getting-mouse-location-in-canvas\n",
       "mpl.findpos = function(e) {\n",
       "    //this section is from http://www.quirksmode.org/js/events_properties.html\n",
       "    var targ;\n",
       "    if (!e)\n",
       "        e = window.event;\n",
       "    if (e.target)\n",
       "        targ = e.target;\n",
       "    else if (e.srcElement)\n",
       "        targ = e.srcElement;\n",
       "    if (targ.nodeType == 3) // defeat Safari bug\n",
       "        targ = targ.parentNode;\n",
       "\n",
       "    // jQuery normalizes the pageX and pageY\n",
       "    // pageX,Y are the mouse positions relative to the document\n",
       "    // offset() returns the position of the element relative to the document\n",
       "    var x = e.pageX - $(targ).offset().left;\n",
       "    var y = e.pageY - $(targ).offset().top;\n",
       "\n",
       "    return {\"x\": x, \"y\": y};\n",
       "};\n",
       "\n",
       "/*\n",
       " * return a copy of an object with only non-object keys\n",
       " * we need this to avoid circular references\n",
       " * http://stackoverflow.com/a/24161582/3208463\n",
       " */\n",
       "function simpleKeys (original) {\n",
       "  return Object.keys(original).reduce(function (obj, key) {\n",
       "    if (typeof original[key] !== 'object')\n",
       "        obj[key] = original[key]\n",
       "    return obj;\n",
       "  }, {});\n",
       "}\n",
       "\n",
       "mpl.figure.prototype.mouse_event = function(event, name) {\n",
       "    var canvas_pos = mpl.findpos(event)\n",
       "\n",
       "    if (name === 'button_press')\n",
       "    {\n",
       "        this.canvas.focus();\n",
       "        this.canvas_div.focus();\n",
       "    }\n",
       "\n",
       "    var x = canvas_pos.x * mpl.ratio;\n",
       "    var y = canvas_pos.y * mpl.ratio;\n",
       "\n",
       "    this.send_message(name, {x: x, y: y, button: event.button,\n",
       "                             step: event.step,\n",
       "                             guiEvent: simpleKeys(event)});\n",
       "\n",
       "    /* This prevents the web browser from automatically changing to\n",
       "     * the text insertion cursor when the button is pressed.  We want\n",
       "     * to control all of the cursor setting manually through the\n",
       "     * 'cursor' event from matplotlib */\n",
       "    event.preventDefault();\n",
       "    return false;\n",
       "}\n",
       "\n",
       "mpl.figure.prototype._key_event_extra = function(event, name) {\n",
       "    // Handle any extra behaviour associated with a key event\n",
       "}\n",
       "\n",
       "mpl.figure.prototype.key_event = function(event, name) {\n",
       "\n",
       "    // Prevent repeat events\n",
       "    if (name == 'key_press')\n",
       "    {\n",
       "        if (event.which === this._key)\n",
       "            return;\n",
       "        else\n",
       "            this._key = event.which;\n",
       "    }\n",
       "    if (name == 'key_release')\n",
       "        this._key = null;\n",
       "\n",
       "    var value = '';\n",
       "    if (event.ctrlKey && event.which != 17)\n",
       "        value += \"ctrl+\";\n",
       "    if (event.altKey && event.which != 18)\n",
       "        value += \"alt+\";\n",
       "    if (event.shiftKey && event.which != 16)\n",
       "        value += \"shift+\";\n",
       "\n",
       "    value += 'k';\n",
       "    value += event.which.toString();\n",
       "\n",
       "    this._key_event_extra(event, name);\n",
       "\n",
       "    this.send_message(name, {key: value,\n",
       "                             guiEvent: simpleKeys(event)});\n",
       "    return false;\n",
       "}\n",
       "\n",
       "mpl.figure.prototype.toolbar_button_onclick = function(name) {\n",
       "    if (name == 'download') {\n",
       "        this.handle_save(this, null);\n",
       "    } else {\n",
       "        this.send_message(\"toolbar_button\", {name: name});\n",
       "    }\n",
       "};\n",
       "\n",
       "mpl.figure.prototype.toolbar_button_onmouseover = function(tooltip) {\n",
       "    this.message.textContent = tooltip;\n",
       "};\n",
       "mpl.toolbar_items = [[\"Home\", \"Reset original view\", \"fa fa-home icon-home\", \"home\"], [\"Back\", \"Back to previous view\", \"fa fa-arrow-left icon-arrow-left\", \"back\"], [\"Forward\", \"Forward to next view\", \"fa fa-arrow-right icon-arrow-right\", \"forward\"], [\"\", \"\", \"\", \"\"], [\"Pan\", \"Pan axes with left mouse, zoom with right\", \"fa fa-arrows icon-move\", \"pan\"], [\"Zoom\", \"Zoom to rectangle\", \"fa fa-square-o icon-check-empty\", \"zoom\"], [\"\", \"\", \"\", \"\"], [\"Download\", \"Download plot\", \"fa fa-floppy-o icon-save\", \"download\"]];\n",
       "\n",
       "mpl.extensions = [\"eps\", \"jpeg\", \"pdf\", \"png\", \"ps\", \"raw\", \"svg\", \"tif\"];\n",
       "\n",
       "mpl.default_extension = \"png\";var comm_websocket_adapter = function(comm) {\n",
       "    // Create a \"websocket\"-like object which calls the given IPython comm\n",
       "    // object with the appropriate methods. Currently this is a non binary\n",
       "    // socket, so there is still some room for performance tuning.\n",
       "    var ws = {};\n",
       "\n",
       "    ws.close = function() {\n",
       "        comm.close()\n",
       "    };\n",
       "    ws.send = function(m) {\n",
       "        //console.log('sending', m);\n",
       "        comm.send(m);\n",
       "    };\n",
       "    // Register the callback with on_msg.\n",
       "    comm.on_msg(function(msg) {\n",
       "        //console.log('receiving', msg['content']['data'], msg);\n",
       "        // Pass the mpl event to the overridden (by mpl) onmessage function.\n",
       "        ws.onmessage(msg['content']['data'])\n",
       "    });\n",
       "    return ws;\n",
       "}\n",
       "\n",
       "mpl.mpl_figure_comm = function(comm, msg) {\n",
       "    // This is the function which gets called when the mpl process\n",
       "    // starts-up an IPython Comm through the \"matplotlib\" channel.\n",
       "\n",
       "    var id = msg.content.data.id;\n",
       "    // Get hold of the div created by the display call when the Comm\n",
       "    // socket was opened in Python.\n",
       "    var element = $(\"#\" + id);\n",
       "    var ws_proxy = comm_websocket_adapter(comm)\n",
       "\n",
       "    function ondownload(figure, format) {\n",
       "        window.open(figure.imageObj.src);\n",
       "    }\n",
       "\n",
       "    var fig = new mpl.figure(id, ws_proxy,\n",
       "                           ondownload,\n",
       "                           element.get(0));\n",
       "\n",
       "    // Call onopen now - mpl needs it, as it is assuming we've passed it a real\n",
       "    // web socket which is closed, not our websocket->open comm proxy.\n",
       "    ws_proxy.onopen();\n",
       "\n",
       "    fig.parent_element = element.get(0);\n",
       "    fig.cell_info = mpl.find_output_cell(\"<div id='\" + id + \"'></div>\");\n",
       "    if (!fig.cell_info) {\n",
       "        console.error(\"Failed to find cell for figure\", id, fig);\n",
       "        return;\n",
       "    }\n",
       "\n",
       "    var output_index = fig.cell_info[2]\n",
       "    var cell = fig.cell_info[0];\n",
       "\n",
       "};\n",
       "\n",
       "mpl.figure.prototype.handle_close = function(fig, msg) {\n",
       "    var width = fig.canvas.width/mpl.ratio\n",
       "    fig.root.unbind('remove')\n",
       "\n",
       "    // Update the output cell to use the data from the current canvas.\n",
       "    fig.push_to_output();\n",
       "    var dataURL = fig.canvas.toDataURL();\n",
       "    // Re-enable the keyboard manager in IPython - without this line, in FF,\n",
       "    // the notebook keyboard shortcuts fail.\n",
       "    IPython.keyboard_manager.enable()\n",
       "    $(fig.parent_element).html('<img src=\"' + dataURL + '\" width=\"' + width + '\">');\n",
       "    fig.close_ws(fig, msg);\n",
       "}\n",
       "\n",
       "mpl.figure.prototype.close_ws = function(fig, msg){\n",
       "    fig.send_message('closing', msg);\n",
       "    // fig.ws.close()\n",
       "}\n",
       "\n",
       "mpl.figure.prototype.push_to_output = function(remove_interactive) {\n",
       "    // Turn the data on the canvas into data in the output cell.\n",
       "    var width = this.canvas.width/mpl.ratio\n",
       "    var dataURL = this.canvas.toDataURL();\n",
       "    this.cell_info[1]['text/html'] = '<img src=\"' + dataURL + '\" width=\"' + width + '\">';\n",
       "}\n",
       "\n",
       "mpl.figure.prototype.updated_canvas_event = function() {\n",
       "    // Tell IPython that the notebook contents must change.\n",
       "    IPython.notebook.set_dirty(true);\n",
       "    this.send_message(\"ack\", {});\n",
       "    var fig = this;\n",
       "    // Wait a second, then push the new image to the DOM so\n",
       "    // that it is saved nicely (might be nice to debounce this).\n",
       "    setTimeout(function () { fig.push_to_output() }, 1000);\n",
       "}\n",
       "\n",
       "mpl.figure.prototype._init_toolbar = function() {\n",
       "    var fig = this;\n",
       "\n",
       "    var nav_element = $('<div/>');\n",
       "    nav_element.attr('style', 'width: 100%');\n",
       "    this.root.append(nav_element);\n",
       "\n",
       "    // Define a callback function for later on.\n",
       "    function toolbar_event(event) {\n",
       "        return fig.toolbar_button_onclick(event['data']);\n",
       "    }\n",
       "    function toolbar_mouse_event(event) {\n",
       "        return fig.toolbar_button_onmouseover(event['data']);\n",
       "    }\n",
       "\n",
       "    for(var toolbar_ind in mpl.toolbar_items){\n",
       "        var name = mpl.toolbar_items[toolbar_ind][0];\n",
       "        var tooltip = mpl.toolbar_items[toolbar_ind][1];\n",
       "        var image = mpl.toolbar_items[toolbar_ind][2];\n",
       "        var method_name = mpl.toolbar_items[toolbar_ind][3];\n",
       "\n",
       "        if (!name) { continue; };\n",
       "\n",
       "        var button = $('<button class=\"btn btn-default\" href=\"#\" title=\"' + name + '\"><i class=\"fa ' + image + ' fa-lg\"></i></button>');\n",
       "        button.click(method_name, toolbar_event);\n",
       "        button.mouseover(tooltip, toolbar_mouse_event);\n",
       "        nav_element.append(button);\n",
       "    }\n",
       "\n",
       "    // Add the status bar.\n",
       "    var status_bar = $('<span class=\"mpl-message\" style=\"text-align:right; float: right;\"/>');\n",
       "    nav_element.append(status_bar);\n",
       "    this.message = status_bar[0];\n",
       "\n",
       "    // Add the close button to the window.\n",
       "    var buttongrp = $('<div class=\"btn-group inline pull-right\"></div>');\n",
       "    var button = $('<button class=\"btn btn-mini btn-primary\" href=\"#\" title=\"Stop Interaction\"><i class=\"fa fa-power-off icon-remove icon-large\"></i></button>');\n",
       "    button.click(function (evt) { fig.handle_close(fig, {}); } );\n",
       "    button.mouseover('Stop Interaction', toolbar_mouse_event);\n",
       "    buttongrp.append(button);\n",
       "    var titlebar = this.root.find($('.ui-dialog-titlebar'));\n",
       "    titlebar.prepend(buttongrp);\n",
       "}\n",
       "\n",
       "mpl.figure.prototype._root_extra_style = function(el){\n",
       "    var fig = this\n",
       "    el.on(\"remove\", function(){\n",
       "\tfig.close_ws(fig, {});\n",
       "    });\n",
       "}\n",
       "\n",
       "mpl.figure.prototype._canvas_extra_style = function(el){\n",
       "    // this is important to make the div 'focusable\n",
       "    el.attr('tabindex', 0)\n",
       "    // reach out to IPython and tell the keyboard manager to turn it's self\n",
       "    // off when our div gets focus\n",
       "\n",
       "    // location in version 3\n",
       "    if (IPython.notebook.keyboard_manager) {\n",
       "        IPython.notebook.keyboard_manager.register_events(el);\n",
       "    }\n",
       "    else {\n",
       "        // location in version 2\n",
       "        IPython.keyboard_manager.register_events(el);\n",
       "    }\n",
       "\n",
       "}\n",
       "\n",
       "mpl.figure.prototype._key_event_extra = function(event, name) {\n",
       "    var manager = IPython.notebook.keyboard_manager;\n",
       "    if (!manager)\n",
       "        manager = IPython.keyboard_manager;\n",
       "\n",
       "    // Check for shift+enter\n",
       "    if (event.shiftKey && event.which == 13) {\n",
       "        this.canvas_div.blur();\n",
       "        // select the cell after this one\n",
       "        var index = IPython.notebook.find_cell_index(this.cell_info[0]);\n",
       "        IPython.notebook.select(index + 1);\n",
       "    }\n",
       "}\n",
       "\n",
       "mpl.figure.prototype.handle_save = function(fig, msg) {\n",
       "    fig.ondownload(fig, null);\n",
       "}\n",
       "\n",
       "\n",
       "mpl.find_output_cell = function(html_output) {\n",
       "    // Return the cell and output element which can be found *uniquely* in the notebook.\n",
       "    // Note - this is a bit hacky, but it is done because the \"notebook_saving.Notebook\"\n",
       "    // IPython event is triggered only after the cells have been serialised, which for\n",
       "    // our purposes (turning an active figure into a static one), is too late.\n",
       "    var cells = IPython.notebook.get_cells();\n",
       "    var ncells = cells.length;\n",
       "    for (var i=0; i<ncells; i++) {\n",
       "        var cell = cells[i];\n",
       "        if (cell.cell_type === 'code'){\n",
       "            for (var j=0; j<cell.output_area.outputs.length; j++) {\n",
       "                var data = cell.output_area.outputs[j];\n",
       "                if (data.data) {\n",
       "                    // IPython >= 3 moved mimebundle to data attribute of output\n",
       "                    data = data.data;\n",
       "                }\n",
       "                if (data['text/html'] == html_output) {\n",
       "                    return [cell, data, j];\n",
       "                }\n",
       "            }\n",
       "        }\n",
       "    }\n",
       "}\n",
       "\n",
       "// Register the function which deals with the matplotlib target/channel.\n",
       "// The kernel may be null if the page has been refreshed.\n",
       "if (IPython.notebook.kernel != null) {\n",
       "    IPython.notebook.kernel.comm_manager.register_target('matplotlib', mpl.mpl_figure_comm);\n",
       "}\n"
      ],
      "text/plain": [
       "<IPython.core.display.Javascript object>"
      ]
     },
     "metadata": {},
     "output_type": "display_data"
    },
    {
     "data": {
      "text/html": [
       "<img src=\"data:image/png;base64,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\" width=\"639.85\">"
      ],
      "text/plain": [
       "<IPython.core.display.HTML object>"
      ]
     },
     "metadata": {},
     "output_type": "display_data"
    },
    {
     "data": {
      "text/plain": [
       "[<matplotlib.lines.Line2D at 0x7fba17c93f70>]"
      ]
     },
     "execution_count": 53,
     "metadata": {},
     "output_type": "execute_result"
    }
   ],
   "source": [
    "plt.plot([key for key in regimeAmounts.keys()],[val for val in regimeAmounts.values()])"
   ]
  },
  {
   "cell_type": "code",
   "execution_count": 54,
   "metadata": {
    "scrolled": false
   },
   "outputs": [
    {
     "data": {
      "text/plain": [
       "([<matplotlib.axis.XTick at 0x7fba17c6b880>,\n",
       "  <matplotlib.axis.XTick at 0x7fba17c6b850>,\n",
       "  <matplotlib.axis.XTick at 0x7fba17ce3be0>,\n",
       "  <matplotlib.axis.XTick at 0x7fba17c4bb20>,\n",
       "  <matplotlib.axis.XTick at 0x7fba17c5a070>,\n",
       "  <matplotlib.axis.XTick at 0x7fba17c5a580>,\n",
       "  <matplotlib.axis.XTick at 0x7fba17c5aa90>,\n",
       "  <matplotlib.axis.XTick at 0x7fba17c5afa0>,\n",
       "  <matplotlib.axis.XTick at 0x7fba17c5e4f0>,\n",
       "  <matplotlib.axis.XTick at 0x7fba17c5ea00>,\n",
       "  <matplotlib.axis.XTick at 0x7fba17c5ef10>,\n",
       "  <matplotlib.axis.XTick at 0x7fba17c64460>,\n",
       "  <matplotlib.axis.XTick at 0x7fba17c5e580>,\n",
       "  <matplotlib.axis.XTick at 0x7fba17c5a610>,\n",
       "  <matplotlib.axis.XTick at 0x7fba17cc98e0>],\n",
       " [Text(0, 0, 'BAU_0'),\n",
       "  Text(0, 0, 'BAU_0_p1'),\n",
       "  Text(0, 0, 'BAU_0_p2'),\n",
       "  Text(0, 0, 'BAU_1'),\n",
       "  Text(0, 0, 'BAU_FS1'),\n",
       "  Text(0, 0, 'BAU_RR'),\n",
       "  Text(0, 0, 'BAU_RR_p1'),\n",
       "  Text(0, 0, 'BAU_RR_p2'),\n",
       "  Text(0, 0, 'CCF_P1'),\n",
       "  Text(0, 0, 'CCF_P2'),\n",
       "  Text(0, 0, 'CCF_P3'),\n",
       "  Text(0, 0, 'CCF_P3_p1'),\n",
       "  Text(0, 0, 'CCF_P3_p2'),\n",
       "  Text(0, 0, 'CCF_STATE'),\n",
       "  Text(0, 0, 'NOT')])"
      ]
     },
     "execution_count": 54,
     "metadata": {},
     "output_type": "execute_result"
    }
   ],
   "source": [
    "plt.bar(range(len(regimeAmounts)), list(regimeAmounts.values()), align='center')\n",
    "plt.xticks(range(len(regimeAmounts)), list(regimeAmounts.keys()),rotation=\"vertical\")"
   ]
  },
  {
   "cell_type": "markdown",
   "metadata": {},
   "source": [
    "## Export data as csv\n",
    "- Solution_alldata contains the optimal regime per stand AND the timely development of indicator values plus all other input columns (represented_are_by_NFIplot, region, NUTS2)\n",
    "- Solution contains only the selected optimal regime and its share (if multiple regimes per stand are selected)"
   ]
  },
  {
   "cell_type": "code",
   "execution_count": 55,
   "metadata": {},
   "outputs": [],
   "source": [
    "import pandas as pd\n",
    "import os"
   ]
  },
  {
   "cell_type": "code",
   "execution_count": 56,
   "metadata": {},
   "outputs": [],
   "source": [
    "import os\n",
    "\n",
    "try:\n",
    "    os.mkdir(\"results\")\n",
    "except FileExistsError:\n",
    "    pass\n",
    "b = []\n",
    "c = []\n",
    "for key in mfo.regimesDecision.keys():\n",
    "    if mfo.regimesDecision[key].solution_value() > 0:\n",
    "        b = b+ [(key[0],x*5+2012, key[1]) for x in range(0,21)]\n",
    "        c = c+ [(key[0],key[1],mfo.regimesDecision[key].solution_value())]\n",
    "data2b = mfo.data.iloc[mfo.data.index.isin(b)]\n",
    "data2b.to_csv(\"./results/\"+scenario+\"_\"+RCP+\"_data.csv\")\n",
    "c1 = pd.DataFrame(c)\n",
    "c1.to_csv(\"./results/\"+scenario+\"_\"+RCP+\"_solutions.csv\")"
   ]
  },
  {
   "cell_type": "markdown",
   "metadata": {},
   "source": [
    "## Export objective ranges"
   ]
  },
  {
   "cell_type": "code",
   "execution_count": 57,
   "metadata": {
    "scrolled": true
   },
   "outputs": [
    {
     "name": "stdout",
     "output_type": "stream",
     "text": [
      "(14, 'BAU_0') 0.0\n",
      "(14, 'BAU_0_p1') 0.0\n",
      "(14, 'BAU_0_p2') 0.0\n",
      "(14, 'BAU_1') 0.0\n",
      "(14, 'BAU_FS1') 0.0\n",
      "(14, 'BAU_RR') 0.0\n",
      "(14, 'BAU_RR_p1') 0.0\n",
      "(14, 'BAU_RR_p2') 0.0\n",
      "(14, 'CCF_P1') 0.0\n",
      "(14, 'CCF_P2') 0.0\n",
      "(14, 'CCF_P3') 0.0\n",
      "(14, 'CCF_P3_p1') 0.0\n",
      "(14, 'CCF_P3_p2') 1.0\n",
      "(14, 'CCF_STATE') 0.0\n",
      "(14, 'NOT') 0.0\n",
      "(24, 'BAU_0') 0.0\n",
      "(24, 'BAU_0_p1') 0.0\n",
      "(24, 'BAU_0_p2') 0.0\n",
      "(24, 'BAU_1') 0.0\n",
      "(24, 'BAU_FS1') 0.0\n",
      "(24, 'BAU_RR') 0.0\n",
      "(24, 'BAU_RR_p1') 0.0\n",
      "(24, 'BAU_RR_p2') 0.0\n",
      "(24, 'CCF_P1') 0.0\n",
      "(24, 'CCF_P2') 0.0\n",
      "(24, 'CCF_P3') 0.0\n",
      "(24, 'CCF_P3_p1') 0.0\n",
      "(24, 'CCF_P3_p2') 1.0\n",
      "(24, 'CCF_STATE') 0.0\n",
      "(24, 'NOT') 0.0\n",
      "(41, 'BAU_0') 0.0\n",
      "(41, 'BAU_0_p1') 0.0\n",
      "(41, 'BAU_0_p2') 0.0\n",
      "(41, 'BAU_1') 0.0\n",
      "(41, 'BAU_FS1') 0.0\n",
      "(41, 'BAU_RR') 0.0\n",
      "(41, 'BAU_RR_p1') 0.0\n",
      "(41, 'BAU_RR_p2') 0.0\n",
      "(41, 'CCF_P1') 0.0\n",
      "(41, 'CCF_P2') 0.0\n",
      "(41, 'CCF_P3') 0.0\n",
      "(41, 'CCF_P3_p1') 1.0\n",
      "(41, 'CCF_P3_p2') 0.0\n",
      "(41, 'CCF_STATE') 0.0\n",
      "(41, 'NOT') 0.0\n",
      "(103, 'BAU_0') 0.0\n",
      "(103, 'BAU_0_p1') 0.0\n",
      "(103, 'BAU_0_p2') 0.0\n",
      "(103, 'BAU_1') 0.0\n",
      "(103, 'BAU_FS1') 0.0\n",
      "(103, 'BAU_RR') 0.0\n",
      "(103, 'BAU_RR_p1') 0.0\n",
      "(103, 'BAU_RR_p2') 0.0\n",
      "(103, 'CCF_P1') 0.0\n",
      "(103, 'CCF_P2') 0.0\n",
      "(103, 'CCF_P3') 0.0\n",
      "(103, 'CCF_P3_p1') 1.0\n",
      "(103, 'CCF_P3_p2') 0.0\n",
      "(103, 'CCF_STATE') 0.0\n",
      "(103, 'NOT') 0.0\n",
      "(128, 'BAU_0') 0.0\n",
      "(128, 'BAU_0_p1') 0.9999999999999999\n",
      "(128, 'BAU_0_p2') 0.0\n",
      "(128, 'BAU_1') 0.0\n",
      "(128, 'BAU_FS1') 0.0\n",
      "(128, 'BAU_RR') 0.0\n",
      "(128, 'BAU_RR_p1') 0.0\n",
      "(128, 'BAU_RR_p2') 0.0\n",
      "(128, 'CCF_P1') 0.0\n",
      "(128, 'CCF_P2') 0.0\n",
      "(128, 'CCF_P3') 0.0\n",
      "(128, 'CCF_P3_p1') 0.0\n",
      "(128, 'CCF_P3_p2') 0.0\n",
      "(128, 'CCF_STATE') 0.0\n",
      "(128, 'NOT') 0.0\n",
      "(138, 'BAU_0') 0.0\n",
      "(138, 'BAU_0_p1') 0.0\n",
      "(138, 'BAU_0_p2') 0.0\n",
      "(138, 'BAU_1') 0.0\n",
      "(138, 'BAU_FS1') 0.0\n",
      "(138, 'BAU_RR') 0.0\n",
      "(138, 'BAU_RR_p1') 0.0\n",
      "(138, 'BAU_RR_p2') 0.0\n",
      "(138, 'CCF_P1') 0.0\n",
      "(138, 'CCF_P2') 0.0\n",
      "(138, 'CCF_P3') 0.0\n",
      "(138, 'CCF_P3_p1') 0.0\n",
      "(138, 'CCF_P3_p2') 0.0\n",
      "(138, 'CCF_STATE') 0.0\n",
      "(138, 'NOT') 1.0\n",
      "(182, 'BAU_0') 0.0\n",
      "(182, 'BAU_0_p1') 0.0\n",
      "(182, 'BAU_0_p2') 0.0\n",
      "(182, 'BAU_1') 0.0\n",
      "(182, 'BAU_FS1') 0.0\n",
      "(182, 'BAU_RR') 0.0\n",
      "(182, 'BAU_RR_p1') 0.0\n",
      "(182, 'BAU_RR_p2') 0.0\n",
      "(182, 'CCF_P1') 0.0\n",
      "(182, 'CCF_P2') 0.0\n",
      "(182, 'CCF_P3') 0.0\n",
      "(182, 'CCF_P3_p1') 0.0\n",
      "(182, 'CCF_P3_p2') 0.0\n",
      "(182, 'CCF_STATE') 0.0\n",
      "(182, 'NOT') 1.0\n",
      "(243, 'BAU_0') 0.0\n",
      "(243, 'BAU_0_p1') 0.6690452704699872\n",
      "(243, 'BAU_0_p2') 0.0\n",
      "(243, 'BAU_1') 0.0\n",
      "(243, 'BAU_FS1') 0.0\n",
      "(243, 'BAU_RR') 0.0\n",
      "(243, 'BAU_RR_p1') 0.0\n",
      "(243, 'BAU_RR_p2') 0.0\n",
      "(243, 'CCF_P1') 0.0\n",
      "(243, 'CCF_P2') 0.0\n",
      "(243, 'CCF_P3') 0.0\n",
      "(243, 'CCF_P3_p1') 0.0\n",
      "(243, 'CCF_P3_p2') 0.3309547295300128\n",
      "(243, 'CCF_STATE') 0.0\n",
      "(243, 'NOT') 0.0\n",
      "(271, 'BAU_0') 0.0\n",
      "(271, 'BAU_0_p1') 0.0\n",
      "(271, 'BAU_0_p2') 0.0\n",
      "(271, 'BAU_1') 0.0\n",
      "(271, 'BAU_FS1') 0.0\n",
      "(271, 'BAU_RR') 0.0\n",
      "(271, 'BAU_RR_p1') 0.0\n",
      "(271, 'BAU_RR_p2') 0.0\n",
      "(271, 'CCF_P1') 0.0\n",
      "(271, 'CCF_P2') 0.0\n",
      "(271, 'CCF_P3') 0.0\n",
      "(271, 'CCF_P3_p1') 0.0\n",
      "(271, 'CCF_P3_p2') 0.0\n",
      "(271, 'CCF_STATE') 0.0\n",
      "(271, 'NOT') 1.0\n",
      "(309, 'BAU_0') 0.0\n",
      "(309, 'BAU_0_p1') 0.0\n",
      "(309, 'BAU_0_p2') 0.0\n",
      "(309, 'BAU_1') 0.0\n",
      "(309, 'BAU_FS1') 0.0\n",
      "(309, 'BAU_RR') 0.0\n",
      "(309, 'BAU_RR_p1') 0.0\n",
      "(309, 'BAU_RR_p2') 0.0\n",
      "(309, 'CCF_P1') 0.0\n",
      "(309, 'CCF_P2') 0.0\n",
      "(309, 'CCF_P3') 0.0\n",
      "(309, 'CCF_P3_p1') 0.0\n",
      "(309, 'CCF_P3_p2') 1.0\n",
      "(309, 'CCF_STATE') 0.0\n",
      "(309, 'NOT') 0.0\n",
      "(333, 'BAU_0') 0.0\n",
      "(333, 'BAU_0_p1') 0.0\n",
      "(333, 'BAU_0_p2') 0.0\n",
      "(333, 'BAU_1') 0.0\n",
      "(333, 'BAU_FS1') 0.0\n",
      "(333, 'BAU_RR') 0.0\n",
      "(333, 'BAU_RR_p1') 0.0\n",
      "(333, 'BAU_RR_p2') 0.0\n",
      "(333, 'CCF_P1') 0.0\n",
      "(333, 'CCF_P2') 0.0\n",
      "(333, 'CCF_P3') 0.0\n",
      "(333, 'CCF_P3_p1') 0.0\n",
      "(333, 'CCF_P3_p2') 0.0\n",
      "(333, 'CCF_STATE') 0.0\n",
      "(333, 'NOT') 0.9999999999999999\n",
      "(352, 'BAU_0') 0.0\n",
      "(352, 'BAU_0_p1') 0.0\n",
      "(352, 'BAU_0_p2') 0.0\n",
      "(352, 'BAU_1') 0.0\n",
      "(352, 'BAU_FS1') 0.0\n",
      "(352, 'BAU_RR') 0.0\n",
      "(352, 'BAU_RR_p1') 0.0\n",
      "(352, 'BAU_RR_p2') 0.0\n",
      "(352, 'CCF_P1') 0.0\n",
      "(352, 'CCF_P2') 0.0\n",
      "(352, 'CCF_P3') 0.0\n",
      "(352, 'CCF_P3_p1') 0.0\n",
      "(352, 'CCF_P3_p2') 0.0\n",
      "(352, 'CCF_STATE') 0.0\n",
      "(352, 'NOT') 1.0\n",
      "(404, 'BAU_0') 0.0\n",
      "(404, 'BAU_0_p1') 0.0\n",
      "(404, 'BAU_0_p2') 0.0\n",
      "(404, 'BAU_1') 0.0\n",
      "(404, 'BAU_FS1') 0.0\n",
      "(404, 'BAU_RR') 0.0\n",
      "(404, 'BAU_RR_p1') 0.0\n",
      "(404, 'BAU_RR_p2') 0.0\n",
      "(404, 'CCF_P1') 0.0\n",
      "(404, 'CCF_P2') 0.0\n",
      "(404, 'CCF_P3') 0.0\n",
      "(404, 'CCF_P3_p1') 0.0\n",
      "(404, 'CCF_P3_p2') 0.0\n",
      "(404, 'CCF_STATE') 0.0\n",
      "(404, 'NOT') 1.0\n",
      "(431, 'BAU_0') 0.0\n",
      "(431, 'BAU_0_p1') 0.0\n",
      "(431, 'BAU_0_p2') 0.0\n",
      "(431, 'BAU_1') 0.0\n",
      "(431, 'BAU_FS1') 0.0\n",
      "(431, 'BAU_RR') 0.0\n",
      "(431, 'BAU_RR_p1') 0.0\n",
      "(431, 'BAU_RR_p2') 0.0\n",
      "(431, 'CCF_P1') 0.0\n",
      "(431, 'CCF_P2') 0.0\n",
      "(431, 'CCF_P3') 0.0\n",
      "(431, 'CCF_P3_p1') 0.0\n",
      "(431, 'CCF_P3_p2') 1.0\n",
      "(431, 'CCF_STATE') 0.0\n",
      "(431, 'NOT') 0.0\n",
      "(439, 'BAU_0') 0.0\n",
      "(439, 'BAU_0_p1') 0.0\n",
      "(439, 'BAU_0_p2') 0.0\n",
      "(439, 'BAU_1') 0.0\n",
      "(439, 'BAU_FS1') 0.0\n",
      "(439, 'BAU_RR') 0.0\n",
      "(439, 'BAU_RR_p1') 0.0\n",
      "(439, 'BAU_RR_p2') 0.0\n",
      "(439, 'CCF_P1') 0.0\n",
      "(439, 'CCF_P2') 0.0\n",
      "(439, 'CCF_P3') 0.0\n",
      "(439, 'CCF_P3_p1') 0.0\n",
      "(439, 'CCF_P3_p2') 1.0\n",
      "(439, 'CCF_STATE') 0.0\n",
      "(439, 'NOT') 0.0\n",
      "(492, 'BAU_0') 0.0\n",
      "(492, 'BAU_0_p1') 0.0\n",
      "(492, 'BAU_0_p2') 0.0\n",
      "(492, 'BAU_1') 0.0\n",
      "(492, 'BAU_FS1') 0.0\n",
      "(492, 'BAU_RR') 0.0\n",
      "(492, 'BAU_RR_p1') 0.0\n",
      "(492, 'BAU_RR_p2') 0.0\n",
      "(492, 'CCF_P1') 0.0\n",
      "(492, 'CCF_P2') 0.0\n",
      "(492, 'CCF_P3') 0.0\n",
      "(492, 'CCF_P3_p1') 0.0\n",
      "(492, 'CCF_P3_p2') 1.0\n",
      "(492, 'CCF_STATE') 0.0\n",
      "(492, 'NOT') 0.0\n",
      "(535, 'BAU_0') 0.0\n",
      "(535, 'BAU_0_p1') 0.0\n",
      "(535, 'BAU_0_p2') 0.0\n",
      "(535, 'BAU_1') 0.0\n",
      "(535, 'BAU_FS1') 0.0\n",
      "(535, 'BAU_RR') 0.0\n",
      "(535, 'BAU_RR_p1') 0.0\n",
      "(535, 'BAU_RR_p2') 0.0\n",
      "(535, 'CCF_P1') 0.0\n",
      "(535, 'CCF_P2') 0.0\n",
      "(535, 'CCF_P3') 0.0\n",
      "(535, 'CCF_P3_p1') 0.0\n",
      "(535, 'CCF_P3_p2') 0.0\n",
      "(535, 'CCF_STATE') 0.0\n",
      "(535, 'NOT') 1.0\n",
      "(585, 'BAU_0') 0.0\n",
      "(585, 'BAU_0_p1') 0.0\n",
      "(585, 'BAU_0_p2') 0.0\n",
      "(585, 'BAU_1') 0.0\n",
      "(585, 'BAU_FS1') 0.0\n",
      "(585, 'BAU_RR') 0.0\n",
      "(585, 'BAU_RR_p1') 0.0\n",
      "(585, 'BAU_RR_p2') 0.0\n",
      "(585, 'CCF_P1') 0.0\n",
      "(585, 'CCF_P2') 0.0\n",
      "(585, 'CCF_P3') 0.0\n",
      "(585, 'CCF_P3_p1') 0.0\n",
      "(585, 'CCF_P3_p2') 0.0\n",
      "(585, 'CCF_STATE') 0.0\n",
      "(585, 'NOT') 1.0\n",
      "(683, 'BAU_0') 0.0\n",
      "(683, 'BAU_0_p1') 0.0\n",
      "(683, 'BAU_0_p2') 0.0\n",
      "(683, 'BAU_1') 0.0\n",
      "(683, 'BAU_FS1') 0.0\n",
      "(683, 'BAU_RR') 0.0\n",
      "(683, 'BAU_RR_p1') 0.0\n",
      "(683, 'BAU_RR_p2') 0.0\n",
      "(683, 'CCF_P1') 0.0\n",
      "(683, 'CCF_P2') 0.0\n",
      "(683, 'CCF_P3') 0.0\n",
      "(683, 'CCF_P3_p1') 0.0\n",
      "(683, 'CCF_P3_p2') 0.0\n",
      "(683, 'CCF_STATE') 0.0\n",
      "(683, 'NOT') 1.0\n",
      "(740, 'BAU_0') 0.0\n",
      "(740, 'BAU_0_p1') 0.0\n",
      "(740, 'BAU_0_p2') 0.0\n",
      "(740, 'BAU_1') 0.0\n",
      "(740, 'BAU_FS1') 0.0\n",
      "(740, 'BAU_RR') 0.0\n",
      "(740, 'BAU_RR_p1') 0.0\n",
      "(740, 'BAU_RR_p2') 0.0\n",
      "(740, 'CCF_P1') 0.0\n",
      "(740, 'CCF_P2') 0.0\n",
      "(740, 'CCF_P3') 0.0\n",
      "(740, 'CCF_P3_p1') 0.0\n",
      "(740, 'CCF_P3_p2') 1.0\n",
      "(740, 'CCF_STATE') 0.0\n",
      "(740, 'NOT') 0.0\n",
      "(741, 'BAU_0') 0.0\n",
      "(741, 'BAU_0_p1') 0.0\n",
      "(741, 'BAU_0_p2') 0.0\n",
      "(741, 'BAU_1') 0.0\n",
      "(741, 'BAU_FS1') 0.0\n",
      "(741, 'BAU_RR') 0.0\n",
      "(741, 'BAU_RR_p1') 0.0\n",
      "(741, 'BAU_RR_p2') 0.0\n",
      "(741, 'CCF_P1') 0.0\n",
      "(741, 'CCF_P2') 0.0\n",
      "(741, 'CCF_P3') 0.0\n",
      "(741, 'CCF_P3_p1') 0.0\n",
      "(741, 'CCF_P3_p2') 0.0\n",
      "(741, 'CCF_STATE') 0.0\n",
      "(741, 'NOT') 1.0\n",
      "(792, 'BAU_0') 0.0\n",
      "(792, 'BAU_0_p1') 0.0\n",
      "(792, 'BAU_0_p2') 0.9999999999999999\n",
      "(792, 'BAU_1') 0.0\n",
      "(792, 'BAU_FS1') 0.0\n",
      "(792, 'BAU_RR') 0.0\n",
      "(792, 'BAU_RR_p1') 0.0\n",
      "(792, 'BAU_RR_p2') 0.0\n",
      "(792, 'CCF_P1') 0.0\n",
      "(792, 'CCF_P2') 0.0\n",
      "(792, 'CCF_P3') 0.0\n",
      "(792, 'CCF_P3_p1') 0.0\n",
      "(792, 'CCF_P3_p2') 0.0\n",
      "(792, 'CCF_STATE') 0.0\n",
      "(792, 'NOT') 0.0\n",
      "(809, 'BAU_0') 0.0\n",
      "(809, 'BAU_0_p1') 0.0\n",
      "(809, 'BAU_0_p2') 0.0\n",
      "(809, 'BAU_1') 0.0\n",
      "(809, 'BAU_FS1') 0.0\n",
      "(809, 'BAU_RR') 0.0\n",
      "(809, 'BAU_RR_p1') 0.0\n",
      "(809, 'BAU_RR_p2') 0.0\n",
      "(809, 'CCF_P1') 0.0\n",
      "(809, 'CCF_P2') 0.0\n",
      "(809, 'CCF_P3') 1.0\n",
      "(809, 'CCF_P3_p1') 0.0\n",
      "(809, 'CCF_P3_p2') 0.0\n",
      "(809, 'CCF_STATE') 0.0\n",
      "(809, 'NOT') 0.0\n",
      "(812, 'BAU_0') 0.0\n",
      "(812, 'BAU_0_p1') 0.0\n",
      "(812, 'BAU_0_p2') 0.0\n",
      "(812, 'BAU_1') 0.0\n",
      "(812, 'BAU_FS1') 0.0\n",
      "(812, 'BAU_RR') 0.0\n",
      "(812, 'BAU_RR_p1') 0.0\n",
      "(812, 'BAU_RR_p2') 0.0\n",
      "(812, 'CCF_P1') 0.0\n",
      "(812, 'CCF_P2') 0.0\n",
      "(812, 'CCF_P3') 0.0\n",
      "(812, 'CCF_P3_p1') 0.0\n",
      "(812, 'CCF_P3_p2') 1.0000000000000002\n",
      "(812, 'CCF_STATE') 0.0\n",
      "(812, 'NOT') 0.0\n",
      "(829, 'BAU_0') 0.0\n",
      "(829, 'BAU_0_p1') 0.0\n",
      "(829, 'BAU_0_p2') 0.0\n",
      "(829, 'BAU_1') 0.0\n",
      "(829, 'BAU_FS1') 0.0\n",
      "(829, 'BAU_RR') 0.0\n",
      "(829, 'BAU_RR_p1') 0.0\n",
      "(829, 'BAU_RR_p2') 0.0\n",
      "(829, 'CCF_P1') 0.0\n",
      "(829, 'CCF_P2') 0.0\n",
      "(829, 'CCF_P3') 0.0\n",
      "(829, 'CCF_P3_p1') 1.0\n",
      "(829, 'CCF_P3_p2') 0.0\n",
      "(829, 'CCF_STATE') 0.0\n",
      "(829, 'NOT') 0.0\n",
      "(833, 'BAU_0') 0.0\n",
      "(833, 'BAU_0_p1') 0.0\n",
      "(833, 'BAU_0_p2') 0.0\n",
      "(833, 'BAU_1') 0.0\n",
      "(833, 'BAU_FS1') 0.0\n",
      "(833, 'BAU_RR') 0.0\n",
      "(833, 'BAU_RR_p1') 0.0\n",
      "(833, 'BAU_RR_p2') 0.0\n",
      "(833, 'CCF_P1') 0.0\n",
      "(833, 'CCF_P2') 0.0\n",
      "(833, 'CCF_P3') 0.0\n",
      "(833, 'CCF_P3_p1') 0.9999999999999999\n",
      "(833, 'CCF_P3_p2') 0.0\n",
      "(833, 'CCF_STATE') 0.0\n",
      "(833, 'NOT') 0.0\n",
      "(852, 'BAU_0') 0.0\n",
      "(852, 'BAU_0_p1') 0.0\n",
      "(852, 'BAU_0_p2') 0.0\n",
      "(852, 'BAU_1') 0.0\n",
      "(852, 'BAU_FS1') 0.0\n",
      "(852, 'BAU_RR') 0.0\n",
      "(852, 'BAU_RR_p1') 0.0\n",
      "(852, 'BAU_RR_p2') 0.0\n",
      "(852, 'CCF_P1') 0.0\n",
      "(852, 'CCF_P2') 0.0\n",
      "(852, 'CCF_P3') 0.0\n",
      "(852, 'CCF_P3_p1') 0.0\n",
      "(852, 'CCF_P3_p2') 1.0\n",
      "(852, 'CCF_STATE') 0.0\n",
      "(852, 'NOT') 0.0\n",
      "(914, 'BAU_0') 0.0\n",
      "(914, 'BAU_0_p1') 0.0\n",
      "(914, 'BAU_0_p2') 1.0\n",
      "(914, 'BAU_1') 0.0\n",
      "(914, 'BAU_FS1') 0.0\n",
      "(914, 'BAU_RR') 0.0\n",
      "(914, 'BAU_RR_p1') 0.0\n",
      "(914, 'BAU_RR_p2') 0.0\n",
      "(914, 'CCF_P1') 0.0\n",
      "(914, 'CCF_P2') 0.0\n",
      "(914, 'CCF_P3') 0.0\n",
      "(914, 'CCF_P3_p1') 0.0\n",
      "(914, 'CCF_P3_p2') 0.0\n",
      "(914, 'CCF_STATE') 0.0\n",
      "(914, 'NOT') 0.0\n",
      "(938, 'BAU_0') 0.0\n",
      "(938, 'BAU_0_p1') 0.0\n",
      "(938, 'BAU_0_p2') 0.0\n",
      "(938, 'BAU_1') 0.0\n",
      "(938, 'BAU_FS1') 0.0\n",
      "(938, 'BAU_RR') 0.0\n",
      "(938, 'BAU_RR_p1') 0.0\n",
      "(938, 'BAU_RR_p2') 0.0\n",
      "(938, 'CCF_P1') 0.0\n",
      "(938, 'CCF_P2') 0.0\n",
      "(938, 'CCF_P3') 0.0\n",
      "(938, 'CCF_P3_p1') 0.0\n",
      "(938, 'CCF_P3_p2') 0.9999999999999999\n",
      "(938, 'CCF_STATE') 0.0\n",
      "(938, 'NOT') 0.0\n",
      "(944, 'BAU_0') 0.0\n",
      "(944, 'BAU_0_p1') 0.0\n",
      "(944, 'BAU_0_p2') 0.0\n",
      "(944, 'BAU_1') 0.0\n",
      "(944, 'BAU_FS1') 0.0\n",
      "(944, 'BAU_RR') 0.0\n",
      "(944, 'BAU_RR_p1') 0.0\n",
      "(944, 'BAU_RR_p2') 0.0\n",
      "(944, 'CCF_P1') 0.0\n",
      "(944, 'CCF_P2') 0.0\n",
      "(944, 'CCF_P3') 0.0\n",
      "(944, 'CCF_P3_p1') 0.0\n",
      "(944, 'CCF_P3_p2') 0.0\n",
      "(944, 'CCF_STATE') 0.0\n",
      "(944, 'NOT') 0.9999999999999999\n",
      "(964, 'BAU_0') 0.0\n",
      "(964, 'BAU_0_p1') 0.0\n",
      "(964, 'BAU_0_p2') 0.671516175907265\n",
      "(964, 'BAU_1') 0.0\n",
      "(964, 'BAU_FS1') 0.0\n",
      "(964, 'BAU_RR') 0.0\n",
      "(964, 'BAU_RR_p1') 0.0\n",
      "(964, 'BAU_RR_p2') 0.0\n",
      "(964, 'CCF_P1') 0.0\n",
      "(964, 'CCF_P2') 0.0\n",
      "(964, 'CCF_P3') 0.0\n",
      "(964, 'CCF_P3_p1') 0.0\n",
      "(964, 'CCF_P3_p2') 0.0\n",
      "(964, 'CCF_STATE') 0.0\n",
      "(964, 'NOT') 0.3284838240927351\n",
      "(1004, 'BAU_0') 0.0\n",
      "(1004, 'BAU_0_p1') 0.0\n",
      "(1004, 'BAU_0_p2') 0.0\n",
      "(1004, 'BAU_1') 0.0\n",
      "(1004, 'BAU_FS1') 0.0\n",
      "(1004, 'BAU_RR') 0.0\n",
      "(1004, 'BAU_RR_p1') 0.0\n",
      "(1004, 'BAU_RR_p2') 0.0\n",
      "(1004, 'CCF_P1') 0.0\n",
      "(1004, 'CCF_P2') 0.0\n",
      "(1004, 'CCF_P3') 0.0\n",
      "(1004, 'CCF_P3_p1') 0.0\n",
      "(1004, 'CCF_P3_p2') 0.0\n",
      "(1004, 'CCF_STATE') 0.0\n",
      "(1004, 'NOT') 1.0\n",
      "(1017, 'BAU_0') 0.0\n",
      "(1017, 'BAU_0_p1') 0.0\n",
      "(1017, 'BAU_0_p2') 0.0\n",
      "(1017, 'BAU_1') 0.0\n",
      "(1017, 'BAU_FS1') 0.0\n",
      "(1017, 'BAU_RR') 0.0\n",
      "(1017, 'BAU_RR_p1') 0.0\n",
      "(1017, 'BAU_RR_p2') 0.0\n",
      "(1017, 'CCF_P1') 0.0\n",
      "(1017, 'CCF_P2') 0.0\n",
      "(1017, 'CCF_P3') 0.0\n",
      "(1017, 'CCF_P3_p1') 1.0\n",
      "(1017, 'CCF_P3_p2') 0.0\n",
      "(1017, 'CCF_STATE') 0.0\n",
      "(1017, 'NOT') 0.0\n",
      "(1084, 'BAU_0') 0.0\n",
      "(1084, 'BAU_0_p1') 0.0\n",
      "(1084, 'BAU_0_p2') 0.0\n",
      "(1084, 'BAU_1') 1.0\n",
      "(1084, 'BAU_FS1') 0.0\n",
      "(1084, 'BAU_RR') 0.0\n",
      "(1084, 'BAU_RR_p1') 0.0\n",
      "(1084, 'BAU_RR_p2') 0.0\n",
      "(1084, 'CCF_P1') 0.0\n",
      "(1084, 'CCF_P2') 0.0\n",
      "(1084, 'CCF_P3') 0.0\n",
      "(1084, 'CCF_P3_p1') 0.0\n",
      "(1084, 'CCF_P3_p2') 0.0\n",
      "(1084, 'CCF_STATE') 0.0\n",
      "(1084, 'NOT') 0.0\n",
      "(1102, 'BAU_0') 0.0\n",
      "(1102, 'BAU_0_p1') 0.0\n",
      "(1102, 'BAU_0_p2') 0.0\n",
      "(1102, 'BAU_1') 0.0\n",
      "(1102, 'BAU_FS1') 0.0\n",
      "(1102, 'BAU_RR') 0.0\n",
      "(1102, 'BAU_RR_p1') 0.0\n",
      "(1102, 'BAU_RR_p2') 0.0\n",
      "(1102, 'CCF_P1') 0.0\n",
      "(1102, 'CCF_P2') 0.0\n",
      "(1102, 'CCF_P3') 0.0\n",
      "(1102, 'CCF_P3_p1') 0.0\n",
      "(1102, 'CCF_P3_p2') 1.0\n",
      "(1102, 'CCF_STATE') 0.0\n",
      "(1102, 'NOT') 0.0\n",
      "(1134, 'BAU_0') 0.0\n",
      "(1134, 'BAU_0_p1') 0.0\n",
      "(1134, 'BAU_0_p2') 0.0\n",
      "(1134, 'BAU_1') 0.0\n",
      "(1134, 'BAU_FS1') 0.0\n",
      "(1134, 'BAU_RR') 0.0\n",
      "(1134, 'BAU_RR_p1') 0.0\n",
      "(1134, 'BAU_RR_p2') 0.0\n",
      "(1134, 'CCF_P1') 0.0\n",
      "(1134, 'CCF_P2') 0.0\n",
      "(1134, 'CCF_P3') 0.0\n",
      "(1134, 'CCF_P3_p1') 0.0\n",
      "(1134, 'CCF_P3_p2') 0.0\n",
      "(1134, 'CCF_STATE') 0.0\n",
      "(1134, 'NOT') 0.9999999999999999\n",
      "(1155, 'BAU_0') 0.0\n",
      "(1155, 'BAU_0_p1') 0.0\n",
      "(1155, 'BAU_0_p2') 0.0\n",
      "(1155, 'BAU_1') 0.0\n",
      "(1155, 'BAU_FS1') 0.0\n",
      "(1155, 'BAU_RR') 0.0\n",
      "(1155, 'BAU_RR_p1') 0.0\n",
      "(1155, 'BAU_RR_p2') 1.0\n",
      "(1155, 'CCF_P1') 0.0\n",
      "(1155, 'CCF_P2') 0.0\n",
      "(1155, 'CCF_P3') 0.0\n",
      "(1155, 'CCF_P3_p1') 0.0\n",
      "(1155, 'CCF_P3_p2') 0.0\n",
      "(1155, 'CCF_STATE') 0.0\n",
      "(1155, 'NOT') 0.0\n",
      "(1159, 'BAU_0') 0.0\n",
      "(1159, 'BAU_0_p1') 0.0\n",
      "(1159, 'BAU_0_p2') 0.0\n",
      "(1159, 'BAU_1') 0.0\n",
      "(1159, 'BAU_FS1') 0.0\n",
      "(1159, 'BAU_RR') 0.0\n",
      "(1159, 'BAU_RR_p1') 0.0\n",
      "(1159, 'BAU_RR_p2') 0.0\n",
      "(1159, 'CCF_P1') 0.0\n",
      "(1159, 'CCF_P2') 0.0\n",
      "(1159, 'CCF_P3') 0.0\n",
      "(1159, 'CCF_P3_p1') 0.0\n",
      "(1159, 'CCF_P3_p2') 1.0\n",
      "(1159, 'CCF_STATE') 0.0\n",
      "(1159, 'NOT') 0.0\n",
      "(1246, 'BAU_0') 0.0\n",
      "(1246, 'BAU_0_p1') 0.0\n",
      "(1246, 'BAU_0_p2') 0.0\n",
      "(1246, 'BAU_1') 0.0\n",
      "(1246, 'BAU_FS1') 0.0\n",
      "(1246, 'BAU_RR') 0.0\n",
      "(1246, 'BAU_RR_p1') 0.0\n",
      "(1246, 'BAU_RR_p2') 0.0\n",
      "(1246, 'CCF_P1') 0.0\n",
      "(1246, 'CCF_P2') 0.0\n",
      "(1246, 'CCF_P3') 0.0\n",
      "(1246, 'CCF_P3_p1') 1.0\n",
      "(1246, 'CCF_P3_p2') 0.0\n",
      "(1246, 'CCF_STATE') 0.0\n",
      "(1246, 'NOT') 0.0\n",
      "(1255, 'BAU_0') 0.0\n",
      "(1255, 'BAU_0_p1') 0.0\n",
      "(1255, 'BAU_0_p2') 0.0\n",
      "(1255, 'BAU_1') 0.0\n",
      "(1255, 'BAU_FS1') 0.0\n",
      "(1255, 'BAU_RR') 0.0\n",
      "(1255, 'BAU_RR_p1') 0.0\n",
      "(1255, 'BAU_RR_p2') 0.0\n",
      "(1255, 'CCF_P1') 0.0\n",
      "(1255, 'CCF_P2') 0.0\n",
      "(1255, 'CCF_P3') 0.0\n",
      "(1255, 'CCF_P3_p1') 0.0\n",
      "(1255, 'CCF_P3_p2') 1.0\n",
      "(1255, 'CCF_STATE') 0.0\n",
      "(1255, 'NOT') 0.0\n",
      "(1259, 'BAU_0') 0.0\n",
      "(1259, 'BAU_0_p1') 1.0\n",
      "(1259, 'BAU_0_p2') 0.0\n",
      "(1259, 'BAU_1') 0.0\n",
      "(1259, 'BAU_FS1') 0.0\n",
      "(1259, 'BAU_RR') 0.0\n",
      "(1259, 'BAU_RR_p1') 0.0\n",
      "(1259, 'BAU_RR_p2') 0.0\n",
      "(1259, 'CCF_P1') 0.0\n",
      "(1259, 'CCF_P2') 0.0\n",
      "(1259, 'CCF_P3') 0.0\n",
      "(1259, 'CCF_P3_p1') 0.0\n",
      "(1259, 'CCF_P3_p2') 0.0\n",
      "(1259, 'CCF_STATE') 0.0\n",
      "(1259, 'NOT') 0.0\n",
      "(1264, 'BAU_0') 0.0\n",
      "(1264, 'BAU_0_p1') 0.0\n",
      "(1264, 'BAU_0_p2') 0.0\n",
      "(1264, 'BAU_1') 0.0\n",
      "(1264, 'BAU_FS1') 0.0\n",
      "(1264, 'BAU_RR') 0.0\n",
      "(1264, 'BAU_RR_p1') 0.0\n",
      "(1264, 'BAU_RR_p2') 0.0\n",
      "(1264, 'CCF_P1') 0.0\n",
      "(1264, 'CCF_P2') 0.0\n",
      "(1264, 'CCF_P3') 1.0\n",
      "(1264, 'CCF_P3_p1') 0.0\n",
      "(1264, 'CCF_P3_p2') 0.0\n",
      "(1264, 'CCF_STATE') 0.0\n",
      "(1264, 'NOT') 0.0\n",
      "(1276, 'BAU_0') 0.0\n",
      "(1276, 'BAU_0_p1') 0.0\n",
      "(1276, 'BAU_0_p2') 0.0\n",
      "(1276, 'BAU_1') 0.0\n",
      "(1276, 'BAU_FS1') 0.0\n",
      "(1276, 'BAU_RR') 0.0\n",
      "(1276, 'BAU_RR_p1') 0.0\n",
      "(1276, 'BAU_RR_p2') 0.0\n",
      "(1276, 'CCF_P1') 0.0\n",
      "(1276, 'CCF_P2') 0.0\n",
      "(1276, 'CCF_P3') 0.0\n",
      "(1276, 'CCF_P3_p1') 1.0\n",
      "(1276, 'CCF_P3_p2') 0.0\n",
      "(1276, 'CCF_STATE') 0.0\n",
      "(1276, 'NOT') 0.0\n",
      "(1336, 'BAU_0') 0.0\n",
      "(1336, 'BAU_0_p1') 0.0\n",
      "(1336, 'BAU_0_p2') 0.0\n",
      "(1336, 'BAU_1') 0.0\n",
      "(1336, 'BAU_FS1') 0.0\n",
      "(1336, 'BAU_RR') 0.0\n",
      "(1336, 'BAU_RR_p1') 0.0\n",
      "(1336, 'BAU_RR_p2') 0.0\n",
      "(1336, 'CCF_P1') 0.0\n",
      "(1336, 'CCF_P2') 0.0\n",
      "(1336, 'CCF_P3') 0.0\n",
      "(1336, 'CCF_P3_p1') 0.0\n",
      "(1336, 'CCF_P3_p2') 0.9999999999999999\n",
      "(1336, 'CCF_STATE') 0.0\n",
      "(1336, 'NOT') 0.0\n",
      "(1404, 'BAU_0') 0.0\n",
      "(1404, 'BAU_0_p1') 0.0\n",
      "(1404, 'BAU_0_p2') 0.0\n",
      "(1404, 'BAU_1') 0.0\n",
      "(1404, 'BAU_FS1') 0.0\n",
      "(1404, 'BAU_RR') 0.0\n",
      "(1404, 'BAU_RR_p1') 0.0\n",
      "(1404, 'BAU_RR_p2') 0.0\n",
      "(1404, 'CCF_P1') 0.0\n",
      "(1404, 'CCF_P2') 0.0\n",
      "(1404, 'CCF_P3') 0.0\n",
      "(1404, 'CCF_P3_p1') 1.0\n",
      "(1404, 'CCF_P3_p2') 0.0\n",
      "(1404, 'CCF_STATE') 0.0\n",
      "(1404, 'NOT') 0.0\n",
      "(1460, 'BAU_0') 0.0\n",
      "(1460, 'BAU_0_p1') 0.0\n",
      "(1460, 'BAU_0_p2') 0.0\n",
      "(1460, 'BAU_1') 0.0\n",
      "(1460, 'BAU_FS1') 0.0\n",
      "(1460, 'BAU_RR') 0.0\n",
      "(1460, 'BAU_RR_p1') 0.0\n",
      "(1460, 'BAU_RR_p2') 0.0\n",
      "(1460, 'CCF_P1') 0.0\n",
      "(1460, 'CCF_P2') 0.0\n",
      "(1460, 'CCF_P3') 0.0\n",
      "(1460, 'CCF_P3_p1') 0.0\n",
      "(1460, 'CCF_P3_p2') 0.0\n",
      "(1460, 'CCF_STATE') 0.0\n",
      "(1460, 'NOT') 0.9999999999999999\n",
      "(1497, 'BAU_0') 0.0\n",
      "(1497, 'BAU_0_p1') 0.0\n",
      "(1497, 'BAU_0_p2') 0.0\n",
      "(1497, 'BAU_1') 0.0\n",
      "(1497, 'BAU_FS1') 0.0\n",
      "(1497, 'BAU_RR') 0.0\n",
      "(1497, 'BAU_RR_p1') 0.0\n",
      "(1497, 'BAU_RR_p2') 0.0\n",
      "(1497, 'CCF_P1') 0.0\n",
      "(1497, 'CCF_P2') 0.0\n",
      "(1497, 'CCF_P3') 0.0\n",
      "(1497, 'CCF_P3_p1') 1.0\n",
      "(1497, 'CCF_P3_p2') 0.0\n",
      "(1497, 'CCF_STATE') 0.0\n",
      "(1497, 'NOT') 0.0\n",
      "(1511, 'BAU_0') 0.0\n",
      "(1511, 'BAU_0_p1') 0.0\n",
      "(1511, 'BAU_0_p2') 0.0\n",
      "(1511, 'BAU_1') 0.0\n",
      "(1511, 'BAU_FS1') 0.0\n",
      "(1511, 'BAU_RR') 0.0\n",
      "(1511, 'BAU_RR_p1') 0.0\n",
      "(1511, 'BAU_RR_p2') 0.0\n",
      "(1511, 'CCF_P1') 0.0\n",
      "(1511, 'CCF_P2') 0.0\n",
      "(1511, 'CCF_P3') 0.0\n",
      "(1511, 'CCF_P3_p1') 0.0\n",
      "(1511, 'CCF_P3_p2') 0.0\n",
      "(1511, 'CCF_STATE') 0.0\n",
      "(1511, 'NOT') 0.9999999999999999\n",
      "(1517, 'BAU_0') 0.0\n",
      "(1517, 'BAU_0_p1') 0.0\n",
      "(1517, 'BAU_0_p2') 0.0\n",
      "(1517, 'BAU_1') 0.0\n",
      "(1517, 'BAU_FS1') 0.0\n",
      "(1517, 'BAU_RR') 0.0\n",
      "(1517, 'BAU_RR_p1') 0.0\n",
      "(1517, 'BAU_RR_p2') 0.0\n",
      "(1517, 'CCF_P1') 0.0\n",
      "(1517, 'CCF_P2') 0.0\n",
      "(1517, 'CCF_P3') 0.0\n",
      "(1517, 'CCF_P3_p1') 0.0\n",
      "(1517, 'CCF_P3_p2') 0.0\n",
      "(1517, 'CCF_STATE') 0.0\n",
      "(1517, 'NOT') 1.0\n",
      "(1527, 'BAU_0') 0.0\n",
      "(1527, 'BAU_0_p1') 0.0\n",
      "(1527, 'BAU_0_p2') 0.0\n",
      "(1527, 'BAU_1') 0.0\n",
      "(1527, 'BAU_FS1') 0.0\n",
      "(1527, 'BAU_RR') 0.0\n",
      "(1527, 'BAU_RR_p1') 0.0\n",
      "(1527, 'BAU_RR_p2') 0.0\n",
      "(1527, 'CCF_P1') 0.0\n",
      "(1527, 'CCF_P2') 0.0\n",
      "(1527, 'CCF_P3') 0.0\n",
      "(1527, 'CCF_P3_p1') 0.0\n",
      "(1527, 'CCF_P3_p2') 1.0\n",
      "(1527, 'CCF_STATE') 0.0\n",
      "(1527, 'NOT') 0.0\n",
      "(1579, 'BAU_0') 0.0\n",
      "(1579, 'BAU_0_p1') 0.0\n",
      "(1579, 'BAU_0_p2') 0.0\n",
      "(1579, 'BAU_1') 0.0\n",
      "(1579, 'BAU_FS1') 0.0\n",
      "(1579, 'BAU_RR') 0.0\n",
      "(1579, 'BAU_RR_p1') 0.0\n",
      "(1579, 'BAU_RR_p2') 0.0\n",
      "(1579, 'CCF_P1') 0.0\n",
      "(1579, 'CCF_P2') 0.0\n",
      "(1579, 'CCF_P3') 0.0\n",
      "(1579, 'CCF_P3_p1') 0.0\n",
      "(1579, 'CCF_P3_p2') 0.0\n",
      "(1579, 'CCF_STATE') 0.0\n",
      "(1579, 'NOT') 1.0\n",
      "(1582, 'BAU_0') 0.0\n",
      "(1582, 'BAU_0_p1') 0.0\n",
      "(1582, 'BAU_0_p2') 0.0\n",
      "(1582, 'BAU_1') 0.0\n",
      "(1582, 'BAU_FS1') 0.0\n",
      "(1582, 'BAU_RR') 0.0\n",
      "(1582, 'BAU_RR_p1') 0.0\n",
      "(1582, 'BAU_RR_p2') 1.0\n",
      "(1582, 'CCF_P1') 0.0\n",
      "(1582, 'CCF_P2') 0.0\n",
      "(1582, 'CCF_P3') 0.0\n",
      "(1582, 'CCF_P3_p1') 0.0\n",
      "(1582, 'CCF_P3_p2') 0.0\n",
      "(1582, 'CCF_STATE') 0.0\n",
      "(1582, 'NOT') 0.0\n",
      "(1622, 'BAU_0') 0.0\n",
      "(1622, 'BAU_0_p1') 0.0\n",
      "(1622, 'BAU_0_p2') 0.0\n",
      "(1622, 'BAU_1') 0.0\n",
      "(1622, 'BAU_FS1') 0.0\n",
      "(1622, 'BAU_RR') 0.0\n",
      "(1622, 'BAU_RR_p1') 0.0\n",
      "(1622, 'BAU_RR_p2') 0.0\n",
      "(1622, 'CCF_P1') 0.0\n",
      "(1622, 'CCF_P2') 0.0\n",
      "(1622, 'CCF_P3') 0.0\n",
      "(1622, 'CCF_P3_p1') 1.0\n",
      "(1622, 'CCF_P3_p2') 0.0\n",
      "(1622, 'CCF_STATE') 0.0\n",
      "(1622, 'NOT') 0.0\n",
      "(1633, 'BAU_0') 0.0\n",
      "(1633, 'BAU_0_p1') 0.0\n",
      "(1633, 'BAU_0_p2') 0.0\n",
      "(1633, 'BAU_1') 1.0\n",
      "(1633, 'BAU_FS1') 0.0\n",
      "(1633, 'BAU_RR') 0.0\n",
      "(1633, 'BAU_RR_p1') 0.0\n",
      "(1633, 'BAU_RR_p2') 0.0\n",
      "(1633, 'CCF_P1') 0.0\n",
      "(1633, 'CCF_P2') 0.0\n",
      "(1633, 'CCF_P3') 0.0\n",
      "(1633, 'CCF_P3_p1') 0.0\n",
      "(1633, 'CCF_P3_p2') 0.0\n",
      "(1633, 'CCF_STATE') 0.0\n",
      "(1633, 'NOT') 0.0\n",
      "(1668, 'BAU_0') 0.0\n",
      "(1668, 'BAU_0_p1') 0.0\n",
      "(1668, 'BAU_0_p2') 0.0\n",
      "(1668, 'BAU_1') 0.0\n",
      "(1668, 'BAU_FS1') 0.0\n",
      "(1668, 'BAU_RR') 0.0\n",
      "(1668, 'BAU_RR_p1') 0.0\n",
      "(1668, 'BAU_RR_p2') 0.0\n",
      "(1668, 'CCF_P1') 0.0\n",
      "(1668, 'CCF_P2') 0.0\n",
      "(1668, 'CCF_P3') 0.0\n",
      "(1668, 'CCF_P3_p1') 0.0\n",
      "(1668, 'CCF_P3_p2') 1.0\n",
      "(1668, 'CCF_STATE') 0.0\n",
      "(1668, 'NOT') 0.0\n",
      "(1683, 'BAU_0') 0.0\n",
      "(1683, 'BAU_0_p1') 0.0\n",
      "(1683, 'BAU_0_p2') 0.0\n",
      "(1683, 'BAU_1') 0.0\n",
      "(1683, 'BAU_FS1') 0.0\n",
      "(1683, 'BAU_RR') 0.0\n",
      "(1683, 'BAU_RR_p1') 0.0\n",
      "(1683, 'BAU_RR_p2') 0.0\n",
      "(1683, 'CCF_P1') 0.0\n",
      "(1683, 'CCF_P2') 0.0\n",
      "(1683, 'CCF_P3') 0.0\n",
      "(1683, 'CCF_P3_p1') 0.0\n",
      "(1683, 'CCF_P3_p2') 0.0\n",
      "(1683, 'CCF_STATE') 0.0\n",
      "(1683, 'NOT') 1.0\n",
      "(1703, 'BAU_0') 0.0\n",
      "(1703, 'BAU_0_p1') 0.0\n",
      "(1703, 'BAU_0_p2') 0.0\n",
      "(1703, 'BAU_1') 0.0\n",
      "(1703, 'BAU_FS1') 0.0\n",
      "(1703, 'BAU_RR') 0.0\n",
      "(1703, 'BAU_RR_p1') 0.0\n",
      "(1703, 'BAU_RR_p2') 1.0\n",
      "(1703, 'CCF_P1') 0.0\n",
      "(1703, 'CCF_P2') 0.0\n",
      "(1703, 'CCF_P3') 0.0\n",
      "(1703, 'CCF_P3_p1') 0.0\n",
      "(1703, 'CCF_P3_p2') 0.0\n",
      "(1703, 'CCF_STATE') 0.0\n",
      "(1703, 'NOT') 0.0\n",
      "(1838, 'BAU_0') 0.0\n",
      "(1838, 'BAU_0_p1') 0.0\n",
      "(1838, 'BAU_0_p2') 0.0\n",
      "(1838, 'BAU_1') 0.0\n"
     ]
    },
    {
     "name": "stdout",
     "output_type": "stream",
     "text": [
      "(1838, 'BAU_FS1') 0.0\n",
      "(1838, 'BAU_RR') 1.0\n",
      "(1838, 'BAU_RR_p1') 0.0\n",
      "(1838, 'BAU_RR_p2') 0.0\n",
      "(1838, 'CCF_P1') 0.0\n",
      "(1838, 'CCF_P2') 0.0\n",
      "(1838, 'CCF_P3') 0.0\n",
      "(1838, 'CCF_P3_p1') 0.0\n",
      "(1838, 'CCF_P3_p2') 0.0\n",
      "(1838, 'CCF_STATE') 0.0\n",
      "(1838, 'NOT') 0.0\n",
      "(1860, 'BAU_0') 0.0\n",
      "(1860, 'BAU_0_p1') 0.0\n",
      "(1860, 'BAU_0_p2') 0.0\n",
      "(1860, 'BAU_1') 0.0\n",
      "(1860, 'BAU_FS1') 0.0\n",
      "(1860, 'BAU_RR') 0.0\n",
      "(1860, 'BAU_RR_p1') 0.0\n",
      "(1860, 'BAU_RR_p2') 0.0\n",
      "(1860, 'CCF_P1') 0.0\n",
      "(1860, 'CCF_P2') 0.0\n",
      "(1860, 'CCF_P3') 0.0\n",
      "(1860, 'CCF_P3_p1') 0.0\n",
      "(1860, 'CCF_P3_p2') 0.9999999999999999\n",
      "(1860, 'CCF_STATE') 0.0\n",
      "(1860, 'NOT') 0.0\n",
      "(2023, 'BAU_0') 0.0\n",
      "(2023, 'BAU_0_p1') 0.0\n",
      "(2023, 'BAU_0_p2') 0.0\n",
      "(2023, 'BAU_1') 0.0\n",
      "(2023, 'BAU_FS1') 0.0\n",
      "(2023, 'BAU_RR') 0.0\n",
      "(2023, 'BAU_RR_p1') 0.0\n",
      "(2023, 'BAU_RR_p2') 1.0\n",
      "(2023, 'CCF_P1') 0.0\n",
      "(2023, 'CCF_P2') 0.0\n",
      "(2023, 'CCF_P3') 0.0\n",
      "(2023, 'CCF_P3_p1') 0.0\n",
      "(2023, 'CCF_P3_p2') 0.0\n",
      "(2023, 'CCF_STATE') 0.0\n",
      "(2023, 'NOT') 0.0\n",
      "(2057, 'BAU_0') 0.0\n",
      "(2057, 'BAU_0_p1') 0.0\n",
      "(2057, 'BAU_0_p2') 0.0\n",
      "(2057, 'BAU_1') 0.0\n",
      "(2057, 'BAU_FS1') 0.0\n",
      "(2057, 'BAU_RR') 0.0\n",
      "(2057, 'BAU_RR_p1') 0.0\n",
      "(2057, 'BAU_RR_p2') 1.0\n",
      "(2057, 'CCF_P1') 0.0\n",
      "(2057, 'CCF_P2') 0.0\n",
      "(2057, 'CCF_P3') 0.0\n",
      "(2057, 'CCF_P3_p1') 0.0\n",
      "(2057, 'CCF_P3_p2') 0.0\n",
      "(2057, 'CCF_STATE') 0.0\n",
      "(2057, 'NOT') 0.0\n",
      "(2100, 'BAU_0') 0.0\n",
      "(2100, 'BAU_0_p1') 0.0\n",
      "(2100, 'BAU_0_p2') 0.0\n",
      "(2100, 'BAU_1') 0.0\n",
      "(2100, 'BAU_FS1') 0.0\n",
      "(2100, 'BAU_RR') 0.0\n",
      "(2100, 'BAU_RR_p1') 0.0\n",
      "(2100, 'BAU_RR_p2') -1.758991362443212e-12\n",
      "(2100, 'CCF_P1') 0.0\n",
      "(2100, 'CCF_P2') 0.0\n",
      "(2100, 'CCF_P3') 1.7590611143168023e-12\n",
      "(2100, 'CCF_P3_p1') 0.0\n",
      "(2100, 'CCF_P3_p2') 1.0\n",
      "(2100, 'CCF_STATE') 0.0\n",
      "(2100, 'NOT') 0.0\n",
      "(2166, 'BAU_0') 0.0\n",
      "(2166, 'BAU_0_p1') 0.0\n",
      "(2166, 'BAU_0_p2') 0.0\n",
      "(2166, 'BAU_1') 0.0\n",
      "(2166, 'BAU_FS1') 0.0\n",
      "(2166, 'BAU_RR') 0.0\n",
      "(2166, 'BAU_RR_p1') 0.0\n",
      "(2166, 'BAU_RR_p2') 0.0\n",
      "(2166, 'CCF_P1') 0.0\n",
      "(2166, 'CCF_P2') 0.0\n",
      "(2166, 'CCF_P3') 0.0\n",
      "(2166, 'CCF_P3_p1') 0.0\n",
      "(2166, 'CCF_P3_p2') 0.0\n",
      "(2166, 'CCF_STATE') 0.0\n",
      "(2166, 'NOT') 1.0\n",
      "(2186, 'BAU_0') 0.0\n",
      "(2186, 'BAU_0_p1') 0.0\n",
      "(2186, 'BAU_0_p2') 0.0\n",
      "(2186, 'BAU_1') 0.0\n",
      "(2186, 'BAU_FS1') 0.0\n",
      "(2186, 'BAU_RR') 0.0\n",
      "(2186, 'BAU_RR_p1') 0.0\n",
      "(2186, 'BAU_RR_p2') 0.0\n",
      "(2186, 'CCF_P1') 0.0\n",
      "(2186, 'CCF_P2') 0.0\n",
      "(2186, 'CCF_P3') 0.0\n",
      "(2186, 'CCF_P3_p1') 0.0\n",
      "(2186, 'CCF_P3_p2') 0.0\n",
      "(2186, 'CCF_STATE') 0.0\n",
      "(2186, 'NOT') 0.9999999999999999\n",
      "(2239, 'BAU_0') 0.0\n",
      "(2239, 'BAU_0_p1') 0.0\n",
      "(2239, 'BAU_0_p2') 0.0\n",
      "(2239, 'BAU_1') 0.0\n",
      "(2239, 'BAU_FS1') 0.0\n",
      "(2239, 'BAU_RR') 0.0\n",
      "(2239, 'BAU_RR_p1') 0.0\n",
      "(2239, 'BAU_RR_p2') 1.0\n",
      "(2239, 'CCF_P1') 0.0\n",
      "(2239, 'CCF_P2') 0.0\n",
      "(2239, 'CCF_P3') 0.0\n",
      "(2239, 'CCF_P3_p1') 0.0\n",
      "(2239, 'CCF_P3_p2') 0.0\n",
      "(2239, 'CCF_STATE') 0.0\n",
      "(2239, 'NOT') 0.0\n",
      "(2251, 'BAU_0') 0.0\n",
      "(2251, 'BAU_0_p1') 0.0\n",
      "(2251, 'BAU_0_p2') 0.0\n",
      "(2251, 'BAU_1') 0.0\n",
      "(2251, 'BAU_FS1') 0.0\n",
      "(2251, 'BAU_RR') 0.0\n",
      "(2251, 'BAU_RR_p1') 0.0\n",
      "(2251, 'BAU_RR_p2') 0.0\n",
      "(2251, 'CCF_P1') 0.0\n",
      "(2251, 'CCF_P2') 0.0\n",
      "(2251, 'CCF_P3') 0.0\n",
      "(2251, 'CCF_P3_p1') 1.0\n",
      "(2251, 'CCF_P3_p2') 0.0\n",
      "(2251, 'CCF_STATE') 0.0\n",
      "(2251, 'NOT') 0.0\n",
      "(2258, 'BAU_0') 0.0\n",
      "(2258, 'BAU_0_p1') 0.0\n",
      "(2258, 'BAU_0_p2') 0.0\n",
      "(2258, 'BAU_1') 0.0\n",
      "(2258, 'BAU_FS1') 0.0\n",
      "(2258, 'BAU_RR') 0.0\n",
      "(2258, 'BAU_RR_p1') 0.0\n",
      "(2258, 'BAU_RR_p2') 0.0\n",
      "(2258, 'CCF_P1') 0.0\n",
      "(2258, 'CCF_P2') 0.0\n",
      "(2258, 'CCF_P3') 0.0\n",
      "(2258, 'CCF_P3_p1') 0.0\n",
      "(2258, 'CCF_P3_p2') 0.9999999999999999\n",
      "(2258, 'CCF_STATE') 0.0\n",
      "(2258, 'NOT') 0.0\n",
      "(2271, 'BAU_0') 0.0\n",
      "(2271, 'BAU_0_p1') 0.0\n",
      "(2271, 'BAU_0_p2') 0.0\n",
      "(2271, 'BAU_1') 0.0\n",
      "(2271, 'BAU_FS1') 0.0\n",
      "(2271, 'BAU_RR') 0.0\n",
      "(2271, 'BAU_RR_p1') 0.0\n",
      "(2271, 'BAU_RR_p2') 1.0\n",
      "(2271, 'CCF_P1') 0.0\n",
      "(2271, 'CCF_P2') 0.0\n",
      "(2271, 'CCF_P3') 0.0\n",
      "(2271, 'CCF_P3_p1') 0.0\n",
      "(2271, 'CCF_P3_p2') 0.0\n",
      "(2271, 'CCF_STATE') 0.0\n",
      "(2271, 'NOT') 0.0\n",
      "(2321, 'BAU_0') 0.0\n",
      "(2321, 'BAU_0_p1') 0.0\n",
      "(2321, 'BAU_0_p2') 0.0\n",
      "(2321, 'BAU_1') 0.0\n",
      "(2321, 'BAU_FS1') 0.0\n",
      "(2321, 'BAU_RR') 0.0\n",
      "(2321, 'BAU_RR_p1') 0.0\n",
      "(2321, 'BAU_RR_p2') 0.0\n",
      "(2321, 'CCF_P1') 0.0\n",
      "(2321, 'CCF_P2') 0.0\n",
      "(2321, 'CCF_P3') 0.0\n",
      "(2321, 'CCF_P3_p1') 0.0\n",
      "(2321, 'CCF_P3_p2') 1.0\n",
      "(2321, 'CCF_STATE') 0.0\n",
      "(2321, 'NOT') 0.0\n",
      "(2326, 'BAU_0') 0.0\n",
      "(2326, 'BAU_0_p1') 0.0\n",
      "(2326, 'BAU_0_p2') 0.0\n",
      "(2326, 'BAU_1') 0.0\n",
      "(2326, 'BAU_FS1') 0.0\n",
      "(2326, 'BAU_RR') 0.0\n",
      "(2326, 'BAU_RR_p1') 0.0\n",
      "(2326, 'BAU_RR_p2') 0.0\n",
      "(2326, 'CCF_P1') 0.0\n",
      "(2326, 'CCF_P2') 0.0\n",
      "(2326, 'CCF_P3') 0.0\n",
      "(2326, 'CCF_P3_p1') 0.0\n",
      "(2326, 'CCF_P3_p2') 0.0\n",
      "(2326, 'CCF_STATE') 0.0\n",
      "(2326, 'NOT') 1.0\n",
      "(2340, 'BAU_0') 0.0\n",
      "(2340, 'BAU_0_p1') 0.0\n",
      "(2340, 'BAU_0_p2') 0.0\n",
      "(2340, 'BAU_1') 0.0\n",
      "(2340, 'BAU_FS1') 0.0\n",
      "(2340, 'BAU_RR') 0.0\n",
      "(2340, 'BAU_RR_p1') 0.0\n",
      "(2340, 'BAU_RR_p2') 0.0\n",
      "(2340, 'CCF_P1') 0.0\n",
      "(2340, 'CCF_P2') 0.0\n",
      "(2340, 'CCF_P3') 0.0\n",
      "(2340, 'CCF_P3_p1') 0.0\n",
      "(2340, 'CCF_P3_p2') 0.0\n",
      "(2340, 'CCF_STATE') 0.0\n",
      "(2340, 'NOT') 0.9999999999999999\n",
      "(2446, 'BAU_0') 0.0\n",
      "(2446, 'BAU_0_p1') 0.0\n",
      "(2446, 'BAU_0_p2') 0.0\n",
      "(2446, 'BAU_1') 0.0\n",
      "(2446, 'BAU_FS1') 0.0\n",
      "(2446, 'BAU_RR') 0.0\n",
      "(2446, 'BAU_RR_p1') 0.0\n",
      "(2446, 'BAU_RR_p2') 0.0\n",
      "(2446, 'CCF_P1') 0.0\n",
      "(2446, 'CCF_P2') 0.0\n",
      "(2446, 'CCF_P3') 1.0\n",
      "(2446, 'CCF_P3_p1') 0.0\n",
      "(2446, 'CCF_P3_p2') 0.0\n",
      "(2446, 'CCF_STATE') 0.0\n",
      "(2446, 'NOT') 0.0\n",
      "(2476, 'BAU_0') 0.0\n",
      "(2476, 'BAU_0_p1') 0.0\n",
      "(2476, 'BAU_0_p2') 0.0\n",
      "(2476, 'BAU_1') 0.0\n",
      "(2476, 'BAU_FS1') 0.0\n",
      "(2476, 'BAU_RR') 0.0\n",
      "(2476, 'BAU_RR_p1') 0.0\n",
      "(2476, 'BAU_RR_p2') 0.3741595284535849\n",
      "(2476, 'CCF_P1') 0.0\n",
      "(2476, 'CCF_P2') 0.0\n",
      "(2476, 'CCF_P3') 0.0\n",
      "(2476, 'CCF_P3_p1') 0.0\n",
      "(2476, 'CCF_P3_p2') 0.6258404715464151\n",
      "(2476, 'CCF_STATE') 0.0\n",
      "(2476, 'NOT') 0.0\n",
      "(2487, 'BAU_0') 0.0\n",
      "(2487, 'BAU_0_p1') 0.0\n",
      "(2487, 'BAU_0_p2') 0.0\n",
      "(2487, 'BAU_1') 0.0\n",
      "(2487, 'BAU_FS1') 0.0\n",
      "(2487, 'BAU_RR') 0.0\n",
      "(2487, 'BAU_RR_p1') 0.0\n",
      "(2487, 'BAU_RR_p2') 0.0\n",
      "(2487, 'CCF_P1') 0.0\n",
      "(2487, 'CCF_P2') 0.0\n",
      "(2487, 'CCF_P3') 0.0\n",
      "(2487, 'CCF_P3_p1') 1.0\n",
      "(2487, 'CCF_P3_p2') 0.0\n",
      "(2487, 'CCF_STATE') 0.0\n",
      "(2487, 'NOT') 0.0\n",
      "(2544, 'BAU_0') 0.0\n",
      "(2544, 'BAU_0_p1') 0.0\n",
      "(2544, 'BAU_0_p2') 0.0\n",
      "(2544, 'BAU_1') 0.0\n",
      "(2544, 'BAU_FS1') 0.0\n",
      "(2544, 'BAU_RR') 0.0\n",
      "(2544, 'BAU_RR_p1') 0.0\n",
      "(2544, 'BAU_RR_p2') 0.0\n",
      "(2544, 'CCF_P1') 0.0\n",
      "(2544, 'CCF_P2') 0.0\n",
      "(2544, 'CCF_P3') 0.0\n",
      "(2544, 'CCF_P3_p1') 0.0\n",
      "(2544, 'CCF_P3_p2') 0.0\n",
      "(2544, 'CCF_STATE') 0.0\n",
      "(2544, 'NOT') 1.0\n",
      "(2594, 'BAU_0') 0.0\n",
      "(2594, 'BAU_0_p1') 0.0\n",
      "(2594, 'BAU_0_p2') 1.0000000000000002\n",
      "(2594, 'BAU_1') 0.0\n",
      "(2594, 'BAU_FS1') 0.0\n",
      "(2594, 'BAU_RR') 0.0\n",
      "(2594, 'BAU_RR_p1') 0.0\n",
      "(2594, 'BAU_RR_p2') 0.0\n",
      "(2594, 'CCF_P1') 0.0\n",
      "(2594, 'CCF_P2') 0.0\n",
      "(2594, 'CCF_P3') 0.0\n",
      "(2594, 'CCF_P3_p1') 0.0\n",
      "(2594, 'CCF_P3_p2') 0.0\n",
      "(2594, 'CCF_STATE') 0.0\n",
      "(2594, 'NOT') 0.0\n",
      "(2637, 'BAU_0') 0.0\n",
      "(2637, 'BAU_0_p1') 0.0\n",
      "(2637, 'BAU_0_p2') 0.0\n",
      "(2637, 'BAU_1') 0.0\n",
      "(2637, 'BAU_FS1') 0.0\n",
      "(2637, 'BAU_RR') 0.0\n",
      "(2637, 'BAU_RR_p1') 0.0\n",
      "(2637, 'BAU_RR_p2') 0.0\n",
      "(2637, 'CCF_P1') 0.0\n",
      "(2637, 'CCF_P2') 0.0\n",
      "(2637, 'CCF_P3') 0.0\n",
      "(2637, 'CCF_P3_p1') 1.0\n",
      "(2637, 'CCF_P3_p2') 0.0\n",
      "(2637, 'CCF_STATE') 0.0\n",
      "(2637, 'NOT') 0.0\n",
      "(2678, 'BAU_0') 0.0\n",
      "(2678, 'BAU_0_p1') 0.0\n",
      "(2678, 'BAU_0_p2') 0.0\n",
      "(2678, 'BAU_1') 0.0\n",
      "(2678, 'BAU_FS1') 0.0\n",
      "(2678, 'BAU_RR') 0.0\n",
      "(2678, 'BAU_RR_p1') 0.0\n",
      "(2678, 'BAU_RR_p2') 0.0\n",
      "(2678, 'CCF_P1') 0.0\n",
      "(2678, 'CCF_P2') 0.0\n",
      "(2678, 'CCF_P3') 0.0\n",
      "(2678, 'CCF_P3_p1') 0.0\n",
      "(2678, 'CCF_P3_p2') 1.0\n",
      "(2678, 'CCF_STATE') 0.0\n",
      "(2678, 'NOT') 0.0\n",
      "(2769, 'BAU_0') 0.0\n",
      "(2769, 'BAU_0_p1') 0.0\n",
      "(2769, 'BAU_0_p2') 0.0\n",
      "(2769, 'BAU_1') 0.0\n",
      "(2769, 'BAU_FS1') 0.0\n",
      "(2769, 'BAU_RR') 0.0\n",
      "(2769, 'BAU_RR_p1') 0.0\n",
      "(2769, 'BAU_RR_p2') 0.0\n",
      "(2769, 'CCF_P1') 0.0\n",
      "(2769, 'CCF_P2') 0.0\n",
      "(2769, 'CCF_P3') 0.0\n",
      "(2769, 'CCF_P3_p1') 0.0\n",
      "(2769, 'CCF_P3_p2') 1.0\n",
      "(2769, 'CCF_STATE') 0.0\n",
      "(2769, 'NOT') 0.0\n",
      "(2779, 'BAU_0') 0.0\n",
      "(2779, 'BAU_0_p1') 0.0\n",
      "(2779, 'BAU_0_p2') 0.0\n",
      "(2779, 'BAU_1') 0.0\n",
      "(2779, 'BAU_FS1') 0.0\n",
      "(2779, 'BAU_RR') 0.0\n",
      "(2779, 'BAU_RR_p1') 0.0\n",
      "(2779, 'BAU_RR_p2') 0.0\n",
      "(2779, 'CCF_P1') 0.0\n",
      "(2779, 'CCF_P2') 0.0\n",
      "(2779, 'CCF_P3') 0.0\n",
      "(2779, 'CCF_P3_p1') 1.0\n",
      "(2779, 'CCF_P3_p2') 0.0\n",
      "(2779, 'CCF_STATE') 0.0\n",
      "(2779, 'NOT') 0.0\n",
      "(2808, 'BAU_0') 0.0\n",
      "(2808, 'BAU_0_p1') 0.0\n",
      "(2808, 'BAU_0_p2') 0.0\n",
      "(2808, 'BAU_1') 0.0\n",
      "(2808, 'BAU_FS1') 0.0\n",
      "(2808, 'BAU_RR') 1.0\n",
      "(2808, 'BAU_RR_p1') 0.0\n",
      "(2808, 'BAU_RR_p2') 0.0\n",
      "(2808, 'CCF_P1') 0.0\n",
      "(2808, 'CCF_P2') 0.0\n",
      "(2808, 'CCF_P3') 0.0\n",
      "(2808, 'CCF_P3_p1') 0.0\n",
      "(2808, 'CCF_P3_p2') 0.0\n",
      "(2808, 'CCF_STATE') 0.0\n",
      "(2808, 'NOT') 0.0\n",
      "(2887, 'BAU_0') 0.0\n",
      "(2887, 'BAU_0_p1') 0.0\n",
      "(2887, 'BAU_0_p2') 0.0\n",
      "(2887, 'BAU_1') 0.0\n",
      "(2887, 'BAU_FS1') 0.0\n",
      "(2887, 'BAU_RR') 0.0\n",
      "(2887, 'BAU_RR_p1') 0.0\n",
      "(2887, 'BAU_RR_p2') 0.0\n",
      "(2887, 'CCF_P1') 0.0\n",
      "(2887, 'CCF_P2') 0.0\n",
      "(2887, 'CCF_P3') 0.0\n",
      "(2887, 'CCF_P3_p1') 0.0\n",
      "(2887, 'CCF_P3_p2') 1.0\n",
      "(2887, 'CCF_STATE') 0.0\n",
      "(2887, 'NOT') 0.0\n",
      "(2930, 'BAU_0') 0.0\n",
      "(2930, 'BAU_0_p1') 0.0\n",
      "(2930, 'BAU_0_p2') 0.0\n",
      "(2930, 'BAU_1') 0.0\n",
      "(2930, 'BAU_FS1') 0.0\n",
      "(2930, 'BAU_RR') 0.0\n",
      "(2930, 'BAU_RR_p1') 0.0\n",
      "(2930, 'BAU_RR_p2') 0.0\n",
      "(2930, 'CCF_P1') 0.0\n",
      "(2930, 'CCF_P2') 0.0\n",
      "(2930, 'CCF_P3') 0.0\n",
      "(2930, 'CCF_P3_p1') 0.0\n",
      "(2930, 'CCF_P3_p2') 1.0\n",
      "(2930, 'CCF_STATE') 0.0\n",
      "(2930, 'NOT') 0.0\n",
      "(2961, 'BAU_0') 0.0\n",
      "(2961, 'BAU_0_p1') 0.0\n",
      "(2961, 'BAU_0_p2') 0.0\n",
      "(2961, 'BAU_1') 0.0\n",
      "(2961, 'BAU_FS1') 0.0\n",
      "(2961, 'BAU_RR') 0.0\n",
      "(2961, 'BAU_RR_p1') 0.0\n",
      "(2961, 'BAU_RR_p2') 1.0\n",
      "(2961, 'CCF_P1') 0.0\n",
      "(2961, 'CCF_P2') 0.0\n",
      "(2961, 'CCF_P3') 0.0\n",
      "(2961, 'CCF_P3_p1') 0.0\n",
      "(2961, 'CCF_P3_p2') 0.0\n",
      "(2961, 'CCF_STATE') 0.0\n",
      "(2961, 'NOT') 0.0\n",
      "(2974, 'BAU_0') 0.0\n",
      "(2974, 'BAU_0_p1') 0.0\n",
      "(2974, 'BAU_0_p2') 0.0\n",
      "(2974, 'BAU_1') 0.0\n",
      "(2974, 'BAU_FS1') 0.0\n",
      "(2974, 'BAU_RR') 0.0\n",
      "(2974, 'BAU_RR_p1') 0.0\n",
      "(2974, 'BAU_RR_p2') 0.0\n",
      "(2974, 'CCF_P1') 0.0\n",
      "(2974, 'CCF_P2') 0.0\n",
      "(2974, 'CCF_P3') 0.0\n",
      "(2974, 'CCF_P3_p1') 0.8577855215590284\n",
      "(2974, 'CCF_P3_p2') 0.0\n",
      "(2974, 'CCF_STATE') 0.0\n",
      "(2974, 'NOT') 0.1422144784409717\n",
      "(3038, 'BAU_0') 0.0\n",
      "(3038, 'BAU_0_p1') 0.0\n",
      "(3038, 'BAU_0_p2') 0.0\n",
      "(3038, 'BAU_1') 0.0\n",
      "(3038, 'BAU_FS1') 0.0\n",
      "(3038, 'BAU_RR') 0.0\n",
      "(3038, 'BAU_RR_p1') 0.0\n",
      "(3038, 'BAU_RR_p2') 0.0\n",
      "(3038, 'CCF_P1') 0.0\n",
      "(3038, 'CCF_P2') 0.0\n",
      "(3038, 'CCF_P3') 0.0\n",
      "(3038, 'CCF_P3_p1') 0.0\n",
      "(3038, 'CCF_P3_p2') 0.0\n",
      "(3038, 'CCF_STATE') 0.0\n",
      "(3038, 'NOT') 0.9999999999999999\n",
      "(3071, 'BAU_0') 0.0\n",
      "(3071, 'BAU_0_p1') 0.0\n",
      "(3071, 'BAU_0_p2') 0.0\n",
      "(3071, 'BAU_1') 0.0\n",
      "(3071, 'BAU_FS1') 0.0\n",
      "(3071, 'BAU_RR') 0.0\n",
      "(3071, 'BAU_RR_p1') 0.0\n",
      "(3071, 'BAU_RR_p2') 0.0\n",
      "(3071, 'CCF_P1') 0.0\n",
      "(3071, 'CCF_P2') 0.0\n",
      "(3071, 'CCF_P3') 0.0\n",
      "(3071, 'CCF_P3_p1') 1.0\n",
      "(3071, 'CCF_P3_p2') 0.0\n",
      "(3071, 'CCF_STATE') 0.0\n",
      "(3071, 'NOT') 0.0\n",
      "(3084, 'BAU_0') 0.0\n",
      "(3084, 'BAU_0_p1') 0.0\n",
      "(3084, 'BAU_0_p2') 0.0\n",
      "(3084, 'BAU_1') 0.0\n",
      "(3084, 'BAU_FS1') 0.0\n",
      "(3084, 'BAU_RR') 0.0\n",
      "(3084, 'BAU_RR_p1') 0.0\n",
      "(3084, 'BAU_RR_p2') 0.0\n",
      "(3084, 'CCF_P1') 0.0\n",
      "(3084, 'CCF_P2') 0.0\n",
      "(3084, 'CCF_P3') 0.0\n",
      "(3084, 'CCF_P3_p1') 0.0\n",
      "(3084, 'CCF_P3_p2') 0.0\n",
      "(3084, 'CCF_STATE') 0.0\n",
      "(3084, 'NOT') 1.0\n",
      "(3116, 'BAU_0') 0.0\n",
      "(3116, 'BAU_0_p1') 0.0\n",
      "(3116, 'BAU_0_p2') 0.0\n",
      "(3116, 'BAU_1') 0.0\n",
      "(3116, 'BAU_FS1') 0.0\n",
      "(3116, 'BAU_RR') 0.0\n",
      "(3116, 'BAU_RR_p1') 0.0\n",
      "(3116, 'BAU_RR_p2') 0.0\n",
      "(3116, 'CCF_P1') 0.0\n",
      "(3116, 'CCF_P2') 0.0\n",
      "(3116, 'CCF_P3') 0.0\n",
      "(3116, 'CCF_P3_p1') 0.0\n",
      "(3116, 'CCF_P3_p2') 0.9999999999999999\n",
      "(3116, 'CCF_STATE') 0.0\n",
      "(3116, 'NOT') 0.0\n",
      "(3214, 'BAU_0') 0.0\n",
      "(3214, 'BAU_0_p1') 0.0\n",
      "(3214, 'BAU_0_p2') 0.0\n",
      "(3214, 'BAU_1') 0.0\n",
      "(3214, 'BAU_FS1') 0.0\n",
      "(3214, 'BAU_RR') 0.0\n",
      "(3214, 'BAU_RR_p1') 0.0\n",
      "(3214, 'BAU_RR_p2') 0.0\n",
      "(3214, 'CCF_P1') 0.0\n",
      "(3214, 'CCF_P2') 0.0\n",
      "(3214, 'CCF_P3') 0.0\n",
      "(3214, 'CCF_P3_p1') 0.0\n",
      "(3214, 'CCF_P3_p2') 0.0\n",
      "(3214, 'CCF_STATE') 0.0\n",
      "(3214, 'NOT') 1.0\n",
      "(3229, 'BAU_0') 0.0\n",
      "(3229, 'BAU_0_p1') 0.0\n",
      "(3229, 'BAU_0_p2') 0.0\n",
      "(3229, 'BAU_1') 0.0\n",
      "(3229, 'BAU_FS1') 0.0\n",
      "(3229, 'BAU_RR') 0.0\n",
      "(3229, 'BAU_RR_p1') 0.0\n",
      "(3229, 'BAU_RR_p2') 0.0\n",
      "(3229, 'CCF_P1') 0.0\n",
      "(3229, 'CCF_P2') 0.0\n",
      "(3229, 'CCF_P3') 0.0\n",
      "(3229, 'CCF_P3_p1') 0.0\n",
      "(3229, 'CCF_P3_p2') 0.0\n",
      "(3229, 'CCF_STATE') 0.0\n",
      "(3229, 'NOT') 0.9999999999999999\n",
      "(3230, 'BAU_0') 0.0\n",
      "(3230, 'BAU_0_p1') 0.0\n",
      "(3230, 'BAU_0_p2') 0.0\n",
      "(3230, 'BAU_1') 0.0\n",
      "(3230, 'BAU_FS1') 0.0\n",
      "(3230, 'BAU_RR') 0.0\n",
      "(3230, 'BAU_RR_p1') 1.0\n",
      "(3230, 'BAU_RR_p2') 0.0\n",
      "(3230, 'CCF_P1') 0.0\n",
      "(3230, 'CCF_P2') 0.0\n",
      "(3230, 'CCF_P3') 0.0\n",
      "(3230, 'CCF_P3_p1') 0.0\n",
      "(3230, 'CCF_P3_p2') 0.0\n",
      "(3230, 'CCF_STATE') 0.0\n",
      "(3230, 'NOT') 0.0\n",
      "(3236, 'BAU_0') 0.0\n",
      "(3236, 'BAU_0_p1') 0.0\n",
      "(3236, 'BAU_0_p2') 0.0\n",
      "(3236, 'BAU_1') 0.0\n",
      "(3236, 'BAU_FS1') 0.0\n",
      "(3236, 'BAU_RR') 0.0\n",
      "(3236, 'BAU_RR_p1') 0.0\n",
      "(3236, 'BAU_RR_p2') 0.0\n",
      "(3236, 'CCF_P1') 0.0\n",
      "(3236, 'CCF_P2') 0.0\n",
      "(3236, 'CCF_P3') 0.0\n",
      "(3236, 'CCF_P3_p1') 0.0\n",
      "(3236, 'CCF_P3_p2') 0.0\n",
      "(3236, 'CCF_STATE') 0.0\n",
      "(3236, 'NOT') 0.9999999999999999\n",
      "(3251, 'BAU_0') 0.0\n",
      "(3251, 'BAU_0_p1') 0.0\n",
      "(3251, 'BAU_0_p2') 0.0\n",
      "(3251, 'BAU_1') 0.0\n",
      "(3251, 'BAU_FS1') 0.0\n",
      "(3251, 'BAU_RR') 1.0\n",
      "(3251, 'BAU_RR_p1') 0.0\n",
      "(3251, 'BAU_RR_p2') 0.0\n",
      "(3251, 'CCF_P1') 0.0\n",
      "(3251, 'CCF_P2') 0.0\n",
      "(3251, 'CCF_P3') 0.0\n",
      "(3251, 'CCF_P3_p1') 0.0\n",
      "(3251, 'CCF_P3_p2') 0.0\n",
      "(3251, 'CCF_STATE') 0.0\n",
      "(3251, 'NOT') 0.0\n",
      "(3255, 'BAU_0') 0.0\n",
      "(3255, 'BAU_0_p1') 0.0\n",
      "(3255, 'BAU_0_p2') 0.0\n",
      "(3255, 'BAU_1') 0.0\n",
      "(3255, 'BAU_FS1') 1.0\n",
      "(3255, 'BAU_RR') 0.0\n",
      "(3255, 'BAU_RR_p1') 0.0\n",
      "(3255, 'BAU_RR_p2') 0.0\n",
      "(3255, 'CCF_P1') 0.0\n",
      "(3255, 'CCF_P2') 0.0\n",
      "(3255, 'CCF_P3') 0.0\n",
      "(3255, 'CCF_P3_p1') 0.0\n",
      "(3255, 'CCF_P3_p2') 0.0\n",
      "(3255, 'CCF_STATE') 0.0\n",
      "(3255, 'NOT') 0.0\n",
      "(3306, 'BAU_0') 0.0\n",
      "(3306, 'BAU_0_p1') 0.0\n",
      "(3306, 'BAU_0_p2') 0.0\n",
      "(3306, 'BAU_1') 0.0\n",
      "(3306, 'BAU_FS1') 0.0\n",
      "(3306, 'BAU_RR') 0.0\n",
      "(3306, 'BAU_RR_p1') 0.0\n",
      "(3306, 'BAU_RR_p2') 0.0\n",
      "(3306, 'CCF_P1') 0.0\n",
      "(3306, 'CCF_P2') 0.0\n",
      "(3306, 'CCF_P3') 0.0\n",
      "(3306, 'CCF_P3_p1') 0.0\n",
      "(3306, 'CCF_P3_p2') 0.0\n",
      "(3306, 'CCF_STATE') 0.0\n",
      "(3306, 'NOT') 1.0\n",
      "(3398, 'BAU_0') 0.0\n",
      "(3398, 'BAU_0_p1') 0.0\n",
      "(3398, 'BAU_0_p2') 0.0\n",
      "(3398, 'BAU_1') 0.0\n",
      "(3398, 'BAU_FS1') 0.0\n",
      "(3398, 'BAU_RR') 0.0\n",
      "(3398, 'BAU_RR_p1') 0.0\n",
      "(3398, 'BAU_RR_p2') 0.0\n",
      "(3398, 'CCF_P1') 0.0\n",
      "(3398, 'CCF_P2') 0.0\n",
      "(3398, 'CCF_P3') 0.0\n",
      "(3398, 'CCF_P3_p1') 0.0\n",
      "(3398, 'CCF_P3_p2') 0.9999999999999999\n",
      "(3398, 'CCF_STATE') 0.0\n",
      "(3398, 'NOT') 0.0\n",
      "(3442, 'BAU_0') 0.0\n",
      "(3442, 'BAU_0_p1') 0.0\n",
      "(3442, 'BAU_0_p2') 0.0\n",
      "(3442, 'BAU_1') 0.0\n",
      "(3442, 'BAU_FS1') 0.0\n",
      "(3442, 'BAU_RR') 0.0\n",
      "(3442, 'BAU_RR_p1') 0.0\n",
      "(3442, 'BAU_RR_p2') 0.0\n",
      "(3442, 'CCF_P1') 0.0\n",
      "(3442, 'CCF_P2') 0.0\n",
      "(3442, 'CCF_P3') 0.0\n",
      "(3442, 'CCF_P3_p1') 0.0\n",
      "(3442, 'CCF_P3_p2') 1.0\n",
      "(3442, 'CCF_STATE') 0.0\n",
      "(3442, 'NOT') 0.0\n",
      "(3454, 'BAU_0') 0.0\n",
      "(3454, 'BAU_0_p1') 0.0\n",
      "(3454, 'BAU_0_p2') 1.0\n",
      "(3454, 'BAU_1') 0.0\n",
      "(3454, 'BAU_FS1') 0.0\n",
      "(3454, 'BAU_RR') 0.0\n",
      "(3454, 'BAU_RR_p1') 0.0\n",
      "(3454, 'BAU_RR_p2') 0.0\n",
      "(3454, 'CCF_P1') 0.0\n",
      "(3454, 'CCF_P2') 0.0\n",
      "(3454, 'CCF_P3') 0.0\n",
      "(3454, 'CCF_P3_p1') 0.0\n",
      "(3454, 'CCF_P3_p2') 0.0\n",
      "(3454, 'CCF_STATE') 0.0\n",
      "(3454, 'NOT') 0.0\n",
      "(3465, 'BAU_0') 0.0\n",
      "(3465, 'BAU_0_p1') 0.0\n",
      "(3465, 'BAU_0_p2') 0.0\n",
      "(3465, 'BAU_1') 0.0\n",
      "(3465, 'BAU_FS1') 0.0\n",
      "(3465, 'BAU_RR') 0.0\n",
      "(3465, 'BAU_RR_p1') 0.0\n",
      "(3465, 'BAU_RR_p2') 0.0\n",
      "(3465, 'CCF_P1') 0.0\n",
      "(3465, 'CCF_P2') 0.0\n",
      "(3465, 'CCF_P3') 0.0\n",
      "(3465, 'CCF_P3_p1') 0.0\n",
      "(3465, 'CCF_P3_p2') 0.0\n",
      "(3465, 'CCF_STATE') 0.0\n",
      "(3465, 'NOT') 1.0\n",
      "(3491, 'BAU_0') 0.0\n",
      "(3491, 'BAU_0_p1') 0.0\n",
      "(3491, 'BAU_0_p2') 0.0\n",
      "(3491, 'BAU_1') 0.0\n",
      "(3491, 'BAU_FS1') 0.0\n",
      "(3491, 'BAU_RR') 0.0\n",
      "(3491, 'BAU_RR_p1') 0.0\n",
      "(3491, 'BAU_RR_p2') 0.0\n",
      "(3491, 'CCF_P1') 0.0\n",
      "(3491, 'CCF_P2') 0.0\n",
      "(3491, 'CCF_P3') 0.0\n",
      "(3491, 'CCF_P3_p1') 0.0\n",
      "(3491, 'CCF_P3_p2') 0.0\n",
      "(3491, 'CCF_STATE') 0.0\n",
      "(3491, 'NOT') 1.0\n",
      "(3534, 'BAU_0') 0.0\n",
      "(3534, 'BAU_0_p1') 0.0\n",
      "(3534, 'BAU_0_p2') 0.0\n",
      "(3534, 'BAU_1') 0.0\n",
      "(3534, 'BAU_FS1') 0.0\n",
      "(3534, 'BAU_RR') 0.0\n",
      "(3534, 'BAU_RR_p1') 0.0\n",
      "(3534, 'BAU_RR_p2') 0.0\n",
      "(3534, 'CCF_P1') 0.0\n",
      "(3534, 'CCF_P2') 0.0\n",
      "(3534, 'CCF_P3') 0.0\n",
      "(3534, 'CCF_P3_p1') 0.0\n",
      "(3534, 'CCF_P3_p2') 1.0\n",
      "(3534, 'CCF_STATE') 0.0\n",
      "(3534, 'NOT') 0.0\n",
      "(3558, 'BAU_0') 0.0\n",
      "(3558, 'BAU_0_p1') 0.0\n",
      "(3558, 'BAU_0_p2') 0.0\n",
      "(3558, 'BAU_1') 0.0\n",
      "(3558, 'BAU_FS1') 0.0\n",
      "(3558, 'BAU_RR') 0.0\n",
      "(3558, 'BAU_RR_p1') 0.0\n",
      "(3558, 'BAU_RR_p2') 0.0\n",
      "(3558, 'CCF_P1') 0.0\n",
      "(3558, 'CCF_P2') 0.0\n",
      "(3558, 'CCF_P3') 0.0\n",
      "(3558, 'CCF_P3_p1') 0.0\n",
      "(3558, 'CCF_P3_p2') 0.0\n",
      "(3558, 'CCF_STATE') 0.0\n",
      "(3558, 'NOT') 1.0\n",
      "(3566, 'BAU_0') 0.0\n",
      "(3566, 'BAU_0_p1') 0.0\n",
      "(3566, 'BAU_0_p2') 0.0\n",
      "(3566, 'BAU_1') 0.0\n",
      "(3566, 'BAU_FS1') 1.0\n",
      "(3566, 'BAU_RR') 0.0\n",
      "(3566, 'BAU_RR_p1') 0.0\n",
      "(3566, 'BAU_RR_p2') 0.0\n",
      "(3566, 'CCF_P1') 0.0\n",
      "(3566, 'CCF_P2') 0.0\n",
      "(3566, 'CCF_P3') 0.0\n",
      "(3566, 'CCF_P3_p1') 0.0\n",
      "(3566, 'CCF_P3_p2') 0.0\n",
      "(3566, 'CCF_STATE') 0.0\n",
      "(3566, 'NOT') 0.0\n",
      "(3615, 'BAU_0') 0.0\n",
      "(3615, 'BAU_0_p1') 0.0\n",
      "(3615, 'BAU_0_p2') 0.0\n",
      "(3615, 'BAU_1') 0.0\n",
      "(3615, 'BAU_FS1') 0.0\n",
      "(3615, 'BAU_RR') 0.0\n",
      "(3615, 'BAU_RR_p1') 0.0\n",
      "(3615, 'BAU_RR_p2') 0.0\n",
      "(3615, 'CCF_P1') 0.0\n",
      "(3615, 'CCF_P2') 0.0\n",
      "(3615, 'CCF_P3') 0.0\n",
      "(3615, 'CCF_P3_p1') 0.0\n",
      "(3615, 'CCF_P3_p2') 0.0\n",
      "(3615, 'CCF_STATE') 0.0\n",
      "(3615, 'NOT') 1.0\n",
      "(3643, 'BAU_0') 0.0\n",
      "(3643, 'BAU_0_p1') 0.0\n",
      "(3643, 'BAU_0_p2') 0.0\n",
      "(3643, 'BAU_1') 0.0\n",
      "(3643, 'BAU_FS1') 0.0\n",
      "(3643, 'BAU_RR') 0.0\n",
      "(3643, 'BAU_RR_p1') 0.0\n",
      "(3643, 'BAU_RR_p2') 0.0\n",
      "(3643, 'CCF_P1') 0.0\n",
      "(3643, 'CCF_P2') 0.0\n",
      "(3643, 'CCF_P3') 0.0\n",
      "(3643, 'CCF_P3_p1') 0.9999999999999999\n",
      "(3643, 'CCF_P3_p2') 0.0\n",
      "(3643, 'CCF_STATE') 0.0\n",
      "(3643, 'NOT') 0.0\n",
      "(3644, 'BAU_0') 0.0\n",
      "(3644, 'BAU_0_p1') 0.0\n",
      "(3644, 'BAU_0_p2') 0.0\n",
      "(3644, 'BAU_1') 0.0\n",
      "(3644, 'BAU_FS1') 1.0\n",
      "(3644, 'BAU_RR') 0.0\n",
      "(3644, 'BAU_RR_p1') 0.0\n",
      "(3644, 'BAU_RR_p2') 0.0\n",
      "(3644, 'CCF_P1') 0.0\n",
      "(3644, 'CCF_P2') 0.0\n",
      "(3644, 'CCF_P3') 0.0\n",
      "(3644, 'CCF_P3_p1') 0.0\n",
      "(3644, 'CCF_P3_p2') 0.0\n",
      "(3644, 'CCF_STATE') 0.0\n",
      "(3644, 'NOT') 0.0\n",
      "(3653, 'BAU_0') 0.0\n",
      "(3653, 'BAU_0_p1') 0.0\n",
      "(3653, 'BAU_0_p2') 0.0\n",
      "(3653, 'BAU_1') 0.0\n",
      "(3653, 'BAU_FS1') 0.0\n",
      "(3653, 'BAU_RR') 0.0\n",
      "(3653, 'BAU_RR_p1') 0.0\n",
      "(3653, 'BAU_RR_p2') 0.0\n",
      "(3653, 'CCF_P1') 0.0\n",
      "(3653, 'CCF_P2') 0.0\n",
      "(3653, 'CCF_P3') 0.0\n",
      "(3653, 'CCF_P3_p1') 0.0\n",
      "(3653, 'CCF_P3_p2') 1.0\n",
      "(3653, 'CCF_STATE') 0.0\n",
      "(3653, 'NOT') 0.0\n",
      "(3676, 'BAU_0') 0.0\n",
      "(3676, 'BAU_0_p1') 0.0\n",
      "(3676, 'BAU_0_p2') 0.0\n",
      "(3676, 'BAU_1') 0.0\n",
      "(3676, 'BAU_FS1') 0.0\n",
      "(3676, 'BAU_RR') 0.0\n",
      "(3676, 'BAU_RR_p1') 0.0\n",
      "(3676, 'BAU_RR_p2') 0.0\n",
      "(3676, 'CCF_P1') 0.0\n",
      "(3676, 'CCF_P2') 0.0\n",
      "(3676, 'CCF_P3') 0.0\n",
      "(3676, 'CCF_P3_p1') 0.0\n",
      "(3676, 'CCF_P3_p2') 0.0\n",
      "(3676, 'CCF_STATE') 0.0\n",
      "(3676, 'NOT') 1.0\n",
      "(3693, 'BAU_0') 0.0\n",
      "(3693, 'BAU_0_p1') 0.0\n",
      "(3693, 'BAU_0_p2') 0.0\n",
      "(3693, 'BAU_1') 0.0\n",
      "(3693, 'BAU_FS1') 0.0\n",
      "(3693, 'BAU_RR') 0.0\n",
      "(3693, 'BAU_RR_p1') 0.0\n",
      "(3693, 'BAU_RR_p2') 0.0\n",
      "(3693, 'CCF_P1') 0.0\n",
      "(3693, 'CCF_P2') 0.0\n",
      "(3693, 'CCF_P3') 0.0\n",
      "(3693, 'CCF_P3_p1') 0.0\n",
      "(3693, 'CCF_P3_p2') 1.0\n",
      "(3693, 'CCF_STATE') 0.0\n",
      "(3693, 'NOT') 0.0\n",
      "(3757, 'BAU_0') 0.0\n",
      "(3757, 'BAU_0_p1') 0.0\n",
      "(3757, 'BAU_0_p2') 0.0\n",
      "(3757, 'BAU_1') 0.0\n",
      "(3757, 'BAU_FS1') 0.0\n",
      "(3757, 'BAU_RR') 0.0\n",
      "(3757, 'BAU_RR_p1') 0.0\n",
      "(3757, 'BAU_RR_p2') 0.0\n",
      "(3757, 'CCF_P1') 0.0\n",
      "(3757, 'CCF_P2') 0.0\n",
      "(3757, 'CCF_P3') 0.0\n",
      "(3757, 'CCF_P3_p1') 0.0\n",
      "(3757, 'CCF_P3_p2') 0.0\n",
      "(3757, 'CCF_STATE') 0.0\n",
      "(3757, 'NOT') 1.0\n"
     ]
    }
   ],
   "source": [
    "for key in mfo.regimesDecision.keys():\n",
    "        print(key,mfo.regimesDecision[key].solution_value())"
   ]
  },
  {
   "cell_type": "markdown",
   "metadata": {},
   "source": [
    "Save as json file"
   ]
  },
  {
   "cell_type": "code",
   "execution_count": 58,
   "metadata": {},
   "outputs": [],
   "source": [
    "import json\n",
    "mfo.objectiveRanges\n",
    "\n",
    "with open('./objectiveRanges_'+scenario+'_'+RCP+'.json', 'w') as json_file:\n",
    "  json.dump(mfo.objectiveRanges, json_file)"
   ]
  },
  {
   "cell_type": "markdown",
   "metadata": {},
   "source": [
    "Save as CSV."
   ]
  },
  {
   "cell_type": "code",
   "execution_count": 59,
   "metadata": {},
   "outputs": [],
   "source": [
    "import pandas\n",
    "df = pandas.read_json('./objectiveRanges_'+scenario+'_'+RCP+'.json')\n",
    "\n",
    "df.to_csv('./objectiveRanges_'+scenario+'_'+RCP+'.csv')"
   ]
  },
  {
   "cell_type": "markdown",
   "metadata": {},
   "source": [
    "## Export objective values\n",
    "The optimal solution for each objective."
   ]
  },
  {
   "cell_type": "code",
   "execution_count": 60,
   "metadata": {},
   "outputs": [],
   "source": [
    "import os\n",
    "with open(\"./objectiveValues_\"+scenario+\"_\"+RCP+\".csv\",\"w\") as file:\n",
    "    delim = \"\"\n",
    "    for objName in mfo.objectiveTypes.keys():\n",
    "        file.write(delim+objName)\n",
    "        delim = \",\"\n",
    "    file.write(\"\\n\")\n",
    "    delim = \"\"\n",
    "    for objName in mfo.objectiveTypes.keys():\n",
    "        file.write(delim+str(mfo.objective[objName].solution_value()))\n",
    "        delim = \",\"\n",
    "    file.write(\"\\n\")"
   ]
  }
 ],
 "metadata": {
  "kernelspec": {
   "display_name": "Python 3",
   "language": "python",
   "name": "python3"
  },
  "language_info": {
   "codemirror_mode": {
    "name": "ipython",
    "version": 3
   },
   "file_extension": ".py",
   "mimetype": "text/x-python",
   "name": "python",
   "nbconvert_exporter": "python",
   "pygments_lexer": "ipython3",
   "version": "3.8.3"
  }
 },
 "nbformat": 4,
 "nbformat_minor": 2
}
