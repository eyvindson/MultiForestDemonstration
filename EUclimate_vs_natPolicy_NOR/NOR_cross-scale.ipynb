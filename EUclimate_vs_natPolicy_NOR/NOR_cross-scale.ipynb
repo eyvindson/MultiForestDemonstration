{
 "cells": [
  {
   "cell_type": "markdown",
   "metadata": {},
   "source": [
    "# MultiForest optimization notebook\n",
    "# NORWAY"
   ]
  },
  {
   "cell_type": "markdown",
   "metadata": {},
   "source": [
    "Above the code cells, there are short instructions how the users can modify the codes in the cells.<br>\n",
    "If there are no instructions, no changes should be needed for the cell by default.\n",
    "\n",
    "A detailed description is provided in the <b>README.md</b>.\n",
    "\n",
    "## Basic definitions\n",
    "Simulated forest data - name and climate scenario"
   ]
  },
  {
   "cell_type": "code",
   "execution_count": 1,
   "metadata": {},
   "outputs": [],
   "source": [
    "RCP = \"RCP45\" # NDC scenario"
   ]
  },
  {
   "cell_type": "markdown",
   "metadata": {},
   "source": [
    "Specify policy scenario:\n",
    "\n",
    "- \"NFS\" -  National Forest Strategy\n",
    "- \"BDS\" - Biodiversity Strategy\n",
    "- \"BES\" - Bioeconomy Strategy"
   ]
  },
  {
   "cell_type": "code",
   "execution_count": 2,
   "metadata": {},
   "outputs": [],
   "source": [
    "scenario =\"BES\""
   ]
  },
  {
   "cell_type": "markdown",
   "metadata": {},
   "source": [
    "Name definition for saved output, rule: _scenario_RCP_extension\n"
   ]
  },
  {
   "cell_type": "code",
   "execution_count": 3,
   "metadata": {},
   "outputs": [],
   "source": [
    "extension = \"Test_BottomUp\" # some additional info to the saved output"
   ]
  },
  {
   "cell_type": "markdown",
   "metadata": {},
   "source": [
    "## Specify \"if\" and \"which\" GLOBIOM scenario is used\n",
    "\n",
    "<b>ATTENTION:</b> each scenario relates to specific CC simulation!<br>\n",
    "Three scenarios define the perdiodic future demand for log, pulp/fuelwood, and forest residues.\n",
    "\n",
    "<b>Bottom-up</b> \n",
    "* 1.5 degrees + RCP 0 (no CC) = <b>'globiom_1p5_RCP0'</b>\n",
    "* NDC + RCP 4.5 = <b>'globiom_NDC_RCP45'</b>\n",
    "\n",
    "<b>Top-down</b> - functions <b>WITH</b> assortment transfer\n",
    "* 1.5 = <b>'globiom_1p5_RCP0_V2'</b>\n",
    "* NDC = <b>'globiom_NDC_RCP45_V2'</b>\n",
    "\n",
    "If <b>objectives_globiom = ' '</b>, no GLOBIOM demand objectives are considered."
   ]
  },
  {
   "cell_type": "code",
   "execution_count": 4,
   "metadata": {},
   "outputs": [],
   "source": [
    "objectives_globiom = 'globiom_1p5_RCP0' "
   ]
  },
  {
   "cell_type": "markdown",
   "metadata": {},
   "source": [
    "## Read .py class & data"
   ]
  },
  {
   "cell_type": "code",
   "execution_count": 8,
   "metadata": {},
   "outputs": [],
   "source": [
    "import wget\n",
    "import os\n",
    "import numpy as np\n",
    "import pandas as pd\n",
    "import sys"
   ]
  },
  {
   "cell_type": "code",
   "execution_count": 9,
   "metadata": {
    "scrolled": true
   },
   "outputs": [],
   "source": [
    "module_path = os.path.abspath(os.path.join('..'))\n",
    "if module_path not in sys.path:\n",
    "    sys.path.append(module_path+\"/py_class\")\n",
    "\n",
    "import multiFunctionalOptimizationNor as MFO"
   ]
  },
  {
   "cell_type": "code",
   "execution_count": 10,
   "metadata": {},
   "outputs": [
    {
     "data": {
      "text/plain": [
       "<module 'multiFunctionalOptimizationNor' from '/home/marta/smb/Skog_utmark/Landsskogtakseringen/51238_MultiForest/WP2/Repository/Copy no permiss/MultiForestDemonstration-master/EUclimate_vs_natPolicy_NOR/EUclimate_vs_natPolicy_NOR/multiFunctionalOptimizationNor.py'>"
      ]
     },
     "execution_count": 10,
     "metadata": {},
     "output_type": "execute_result"
    }
   ],
   "source": [
    "from importlib import reload\n",
    "reload(MFO)"
   ]
  },
  {
   "cell_type": "code",
   "execution_count": 6,
   "metadata": {},
   "outputs": [
    {
     "data": {
      "text/plain": [
       "'Using CPLEX'"
      ]
     },
     "metadata": {},
     "output_type": "display_data"
    }
   ],
   "source": [
    "mfo = MFO.MultiFunctionalOptimization(solver = 'CPLEX')"
   ]
  },
  {
   "cell_type": "markdown",
   "metadata": {},
   "source": [
    "<b>You need to \"unrar\" the file testData.rar first</b>"
   ]
  },
  {
   "cell_type": "code",
   "execution_count": 12,
   "metadata": {},
   "outputs": [
    {
     "data": {
      "text/plain": [
       "'testData.csv'"
      ]
     },
     "execution_count": 12,
     "metadata": {},
     "output_type": "execute_result"
    }
   ],
   "source": [
    "filename = \"testData.csv\"\n",
    "filename"
   ]
  },
  {
   "cell_type": "code",
   "execution_count": 13,
   "metadata": {},
   "outputs": [
    {
     "data": {
      "text/plain": [
       "'testData.csv'"
      ]
     },
     "execution_count": 13,
     "metadata": {},
     "output_type": "execute_result"
    }
   ],
   "source": [
    "filename"
   ]
  },
  {
   "cell_type": "code",
   "execution_count": 14,
   "metadata": {},
   "outputs": [
    {
     "name": "stdout",
     "output_type": "stream",
     "text": [
      "CPU times: user 992 ms, sys: 851 ms, total: 1.84 s\n",
      "Wall time: 2.03 s\n"
     ]
    }
   ],
   "source": [
    "%%time\n",
    "mfo.readData(filename,standsEnu = \"plot_id\",delimeter = \",\",\n",
    "             areaCol = \"tsd_ha2total\", \n",
    "             sampleRatio=1) #If no sample ratio given, the ratio is assumed to be 1\n",
    "                             #0.2 means 20% of the data"
   ]
  },
  {
   "cell_type": "code",
   "execution_count": 15,
   "metadata": {},
   "outputs": [
    {
     "data": {
      "text/plain": [
       "Index(['plot_id', 'year', 'regime', 'period', 'pulp_vol_m3',\n",
       "       'harv_cost_nok_m3', 'harv_cost_u150', 'harv_cost_u200',\n",
       "       'net_increment_m3', 'is_old', 'is_broadleave', 'MiS_classified_plot',\n",
       "       'bilberry_cover_pr', 'GROT_kt_TotNor', 'vol_saw_m3', 'saw_CO2_t',\n",
       "       'vol_panels_m3', 'panels_CO2_t', 'albedo', 'is_steep_terrain',\n",
       "       'is_vernskog', 'is_city_forest', 'shan', 'class_dbh', 'ha2total',\n",
       "       'management', 'harv_net_Mnok_TotNor', 'harv_vol_Mm3_TotNor',\n",
       "       'saw_vol_Mm3_TotNor', 'pulp_vol_Mm3_TotNor', 'dead_vol_Mm3_TotNor',\n",
       "       'tsd_ha2total', 'CO2_forest_Mil_Kt_TotNor',\n",
       "       'CO2_forest_Mil_Kt_TotNor_no_albedo', 'saw_CO2_change_Kt_TotNor',\n",
       "       'saw_CO2_Kt_TotNor', 'panels_CO2_change_Kt_TotNor', 'HWP_C02_TotNor',\n",
       "       'Bilberry_ha_TotNor', 'MiS_ha', 'SawTimber_Mm3_year', 'pulp_Mm3_year',\n",
       "       'GROT_t', 'GROT_m3', 'GROT_Mm3', 'Residues_Mm3_year',\n",
       "       'harvest_demands_Mm3_year', 'regime.class', 'finalFelling', 'is_CCF',\n",
       "       'is_nomanagement', 'is_vers_or_ste', 'FinaL_versk', 'FinaL_city',\n",
       "       'High_classdbh', 'Sha_highclassdbh_Tot_Nor', 'Relative_albedo',\n",
       "       'Relative_shan', 'Relative_ha2total', 'Relative_dead_vol_Mm3_TotNor',\n",
       "       'Relative_tsd_ha2total', 'Relative_CO2_forest_Mil_Kt_TotNor',\n",
       "       'Relative_CO2_forest_Mil_Kt_TotNor_no_albedo',\n",
       "       'Relative_Bilberry_ha_TotNor', 'Relative_MiS_ha',\n",
       "       'Relative_Sha_highclassdbh_Tot_Nor'],\n",
       "      dtype='object')"
      ]
     },
     "execution_count": 15,
     "metadata": {},
     "output_type": "execute_result"
    }
   ],
   "source": [
    "mfo.data.columns"
   ]
  },
  {
   "cell_type": "code",
   "execution_count": 16,
   "metadata": {},
   "outputs": [],
   "source": [
    "mfo.finalizeData(initialTime = 2023)"
   ]
  },
  {
   "cell_type": "code",
   "execution_count": 17,
   "metadata": {},
   "outputs": [
    {
     "data": {
      "text/html": [
       "<div>\n",
       "<style scoped>\n",
       "    .dataframe tbody tr th:only-of-type {\n",
       "        vertical-align: middle;\n",
       "    }\n",
       "\n",
       "    .dataframe tbody tr th {\n",
       "        vertical-align: top;\n",
       "    }\n",
       "\n",
       "    .dataframe thead th {\n",
       "        text-align: right;\n",
       "    }\n",
       "</style>\n",
       "<table border=\"1\" class=\"dataframe\">\n",
       "  <thead>\n",
       "    <tr style=\"text-align: right;\">\n",
       "      <th></th>\n",
       "      <th></th>\n",
       "      <th></th>\n",
       "      <th>period</th>\n",
       "      <th>pulp_vol_m3</th>\n",
       "      <th>harv_cost_nok_m3</th>\n",
       "      <th>harv_cost_u150</th>\n",
       "      <th>harv_cost_u200</th>\n",
       "      <th>net_increment_m3</th>\n",
       "      <th>is_old</th>\n",
       "      <th>is_broadleave</th>\n",
       "      <th>MiS_classified_plot</th>\n",
       "      <th>bilberry_cover_pr</th>\n",
       "      <th>...</th>\n",
       "      <th>Relative_albedo</th>\n",
       "      <th>Relative_shan</th>\n",
       "      <th>Relative_ha2total</th>\n",
       "      <th>Relative_dead_vol_Mm3_TotNor</th>\n",
       "      <th>Relative_tsd_ha2total</th>\n",
       "      <th>Relative_CO2_forest_Mil_Kt_TotNor</th>\n",
       "      <th>Relative_CO2_forest_Mil_Kt_TotNor_no_albedo</th>\n",
       "      <th>Relative_Bilberry_ha_TotNor</th>\n",
       "      <th>Relative_MiS_ha</th>\n",
       "      <th>Relative_Sha_highclassdbh_Tot_Nor</th>\n",
       "    </tr>\n",
       "    <tr>\n",
       "      <th>plot_id</th>\n",
       "      <th>year</th>\n",
       "      <th>regime</th>\n",
       "      <th></th>\n",
       "      <th></th>\n",
       "      <th></th>\n",
       "      <th></th>\n",
       "      <th></th>\n",
       "      <th></th>\n",
       "      <th></th>\n",
       "      <th></th>\n",
       "      <th></th>\n",
       "      <th></th>\n",
       "      <th></th>\n",
       "      <th></th>\n",
       "      <th></th>\n",
       "      <th></th>\n",
       "      <th></th>\n",
       "      <th></th>\n",
       "      <th></th>\n",
       "      <th></th>\n",
       "      <th></th>\n",
       "      <th></th>\n",
       "      <th></th>\n",
       "    </tr>\n",
       "  </thead>\n",
       "  <tbody>\n",
       "    <tr>\n",
       "      <th rowspan=\"5\" valign=\"top\">A03187-1</th>\n",
       "      <th rowspan=\"5\" valign=\"top\">2023</th>\n",
       "      <th>SimOpt_extensive_0</th>\n",
       "      <td>t1</td>\n",
       "      <td>35612.018505</td>\n",
       "      <td>909.320021</td>\n",
       "      <td>0</td>\n",
       "      <td>0</td>\n",
       "      <td>2195.434622</td>\n",
       "      <td>0</td>\n",
       "      <td>0</td>\n",
       "      <td>0</td>\n",
       "      <td>2</td>\n",
       "      <td>...</td>\n",
       "      <td>0.000519</td>\n",
       "      <td>0.000000</td>\n",
       "      <td>0.000266</td>\n",
       "      <td>0.0</td>\n",
       "      <td>0.000266</td>\n",
       "      <td>-0.005028</td>\n",
       "      <td>-0.005667</td>\n",
       "      <td>0.000069</td>\n",
       "      <td>0.0</td>\n",
       "      <td>0.000000</td>\n",
       "    </tr>\n",
       "    <tr>\n",
       "      <th>SimOpt_extensive_1</th>\n",
       "      <td>t1</td>\n",
       "      <td>0.000000</td>\n",
       "      <td>0.000000</td>\n",
       "      <td>0</td>\n",
       "      <td>0</td>\n",
       "      <td>4592.344651</td>\n",
       "      <td>0</td>\n",
       "      <td>0</td>\n",
       "      <td>0</td>\n",
       "      <td>4</td>\n",
       "      <td>...</td>\n",
       "      <td>0.000458</td>\n",
       "      <td>0.000202</td>\n",
       "      <td>0.000266</td>\n",
       "      <td>0.0</td>\n",
       "      <td>0.000266</td>\n",
       "      <td>0.001362</td>\n",
       "      <td>0.001304</td>\n",
       "      <td>0.000138</td>\n",
       "      <td>0.0</td>\n",
       "      <td>0.000126</td>\n",
       "    </tr>\n",
       "    <tr>\n",
       "      <th>SimOpt_extensive_10</th>\n",
       "      <td>t1</td>\n",
       "      <td>0.000000</td>\n",
       "      <td>0.000000</td>\n",
       "      <td>0</td>\n",
       "      <td>0</td>\n",
       "      <td>4592.344651</td>\n",
       "      <td>0</td>\n",
       "      <td>0</td>\n",
       "      <td>0</td>\n",
       "      <td>4</td>\n",
       "      <td>...</td>\n",
       "      <td>0.000458</td>\n",
       "      <td>0.000202</td>\n",
       "      <td>0.000266</td>\n",
       "      <td>0.0</td>\n",
       "      <td>0.000266</td>\n",
       "      <td>0.001362</td>\n",
       "      <td>0.001304</td>\n",
       "      <td>0.000138</td>\n",
       "      <td>0.0</td>\n",
       "      <td>0.000126</td>\n",
       "    </tr>\n",
       "    <tr>\n",
       "      <th>SimOpt_extensive_11</th>\n",
       "      <td>t1</td>\n",
       "      <td>0.000000</td>\n",
       "      <td>0.000000</td>\n",
       "      <td>0</td>\n",
       "      <td>0</td>\n",
       "      <td>4592.344651</td>\n",
       "      <td>0</td>\n",
       "      <td>0</td>\n",
       "      <td>0</td>\n",
       "      <td>4</td>\n",
       "      <td>...</td>\n",
       "      <td>0.000458</td>\n",
       "      <td>0.000202</td>\n",
       "      <td>0.000266</td>\n",
       "      <td>0.0</td>\n",
       "      <td>0.000266</td>\n",
       "      <td>0.001362</td>\n",
       "      <td>0.001304</td>\n",
       "      <td>0.000138</td>\n",
       "      <td>0.0</td>\n",
       "      <td>0.000126</td>\n",
       "    </tr>\n",
       "    <tr>\n",
       "      <th>SimOpt_extensive_12</th>\n",
       "      <td>t1</td>\n",
       "      <td>0.000000</td>\n",
       "      <td>0.000000</td>\n",
       "      <td>0</td>\n",
       "      <td>0</td>\n",
       "      <td>4592.344651</td>\n",
       "      <td>0</td>\n",
       "      <td>0</td>\n",
       "      <td>0</td>\n",
       "      <td>4</td>\n",
       "      <td>...</td>\n",
       "      <td>0.000458</td>\n",
       "      <td>0.000202</td>\n",
       "      <td>0.000266</td>\n",
       "      <td>0.0</td>\n",
       "      <td>0.000266</td>\n",
       "      <td>0.001362</td>\n",
       "      <td>0.001304</td>\n",
       "      <td>0.000138</td>\n",
       "      <td>0.0</td>\n",
       "      <td>0.000126</td>\n",
       "    </tr>\n",
       "  </tbody>\n",
       "</table>\n",
       "<p>5 rows × 63 columns</p>\n",
       "</div>"
      ],
      "text/plain": [
       "                                  period   pulp_vol_m3  harv_cost_nok_m3  \\\n",
       "plot_id  year regime                                                       \n",
       "A03187-1 2023 SimOpt_extensive_0      t1  35612.018505        909.320021   \n",
       "              SimOpt_extensive_1      t1      0.000000          0.000000   \n",
       "              SimOpt_extensive_10     t1      0.000000          0.000000   \n",
       "              SimOpt_extensive_11     t1      0.000000          0.000000   \n",
       "              SimOpt_extensive_12     t1      0.000000          0.000000   \n",
       "\n",
       "                                   harv_cost_u150  harv_cost_u200  \\\n",
       "plot_id  year regime                                                \n",
       "A03187-1 2023 SimOpt_extensive_0                0               0   \n",
       "              SimOpt_extensive_1                0               0   \n",
       "              SimOpt_extensive_10               0               0   \n",
       "              SimOpt_extensive_11               0               0   \n",
       "              SimOpt_extensive_12               0               0   \n",
       "\n",
       "                                   net_increment_m3  is_old  is_broadleave  \\\n",
       "plot_id  year regime                                                         \n",
       "A03187-1 2023 SimOpt_extensive_0        2195.434622       0              0   \n",
       "              SimOpt_extensive_1        4592.344651       0              0   \n",
       "              SimOpt_extensive_10       4592.344651       0              0   \n",
       "              SimOpt_extensive_11       4592.344651       0              0   \n",
       "              SimOpt_extensive_12       4592.344651       0              0   \n",
       "\n",
       "                                   MiS_classified_plot  bilberry_cover_pr  \\\n",
       "plot_id  year regime                                                        \n",
       "A03187-1 2023 SimOpt_extensive_0                     0                  2   \n",
       "              SimOpt_extensive_1                     0                  4   \n",
       "              SimOpt_extensive_10                    0                  4   \n",
       "              SimOpt_extensive_11                    0                  4   \n",
       "              SimOpt_extensive_12                    0                  4   \n",
       "\n",
       "                                   ...  Relative_albedo  Relative_shan  \\\n",
       "plot_id  year regime               ...                                   \n",
       "A03187-1 2023 SimOpt_extensive_0   ...         0.000519       0.000000   \n",
       "              SimOpt_extensive_1   ...         0.000458       0.000202   \n",
       "              SimOpt_extensive_10  ...         0.000458       0.000202   \n",
       "              SimOpt_extensive_11  ...         0.000458       0.000202   \n",
       "              SimOpt_extensive_12  ...         0.000458       0.000202   \n",
       "\n",
       "                                   Relative_ha2total  \\\n",
       "plot_id  year regime                                   \n",
       "A03187-1 2023 SimOpt_extensive_0            0.000266   \n",
       "              SimOpt_extensive_1            0.000266   \n",
       "              SimOpt_extensive_10           0.000266   \n",
       "              SimOpt_extensive_11           0.000266   \n",
       "              SimOpt_extensive_12           0.000266   \n",
       "\n",
       "                                   Relative_dead_vol_Mm3_TotNor  \\\n",
       "plot_id  year regime                                              \n",
       "A03187-1 2023 SimOpt_extensive_0                            0.0   \n",
       "              SimOpt_extensive_1                            0.0   \n",
       "              SimOpt_extensive_10                           0.0   \n",
       "              SimOpt_extensive_11                           0.0   \n",
       "              SimOpt_extensive_12                           0.0   \n",
       "\n",
       "                                   Relative_tsd_ha2total  \\\n",
       "plot_id  year regime                                       \n",
       "A03187-1 2023 SimOpt_extensive_0                0.000266   \n",
       "              SimOpt_extensive_1                0.000266   \n",
       "              SimOpt_extensive_10               0.000266   \n",
       "              SimOpt_extensive_11               0.000266   \n",
       "              SimOpt_extensive_12               0.000266   \n",
       "\n",
       "                                   Relative_CO2_forest_Mil_Kt_TotNor  \\\n",
       "plot_id  year regime                                                   \n",
       "A03187-1 2023 SimOpt_extensive_0                           -0.005028   \n",
       "              SimOpt_extensive_1                            0.001362   \n",
       "              SimOpt_extensive_10                           0.001362   \n",
       "              SimOpt_extensive_11                           0.001362   \n",
       "              SimOpt_extensive_12                           0.001362   \n",
       "\n",
       "                                   Relative_CO2_forest_Mil_Kt_TotNor_no_albedo  \\\n",
       "plot_id  year regime                                                             \n",
       "A03187-1 2023 SimOpt_extensive_0                                     -0.005667   \n",
       "              SimOpt_extensive_1                                      0.001304   \n",
       "              SimOpt_extensive_10                                     0.001304   \n",
       "              SimOpt_extensive_11                                     0.001304   \n",
       "              SimOpt_extensive_12                                     0.001304   \n",
       "\n",
       "                                   Relative_Bilberry_ha_TotNor  \\\n",
       "plot_id  year regime                                             \n",
       "A03187-1 2023 SimOpt_extensive_0                      0.000069   \n",
       "              SimOpt_extensive_1                      0.000138   \n",
       "              SimOpt_extensive_10                     0.000138   \n",
       "              SimOpt_extensive_11                     0.000138   \n",
       "              SimOpt_extensive_12                     0.000138   \n",
       "\n",
       "                                   Relative_MiS_ha  \\\n",
       "plot_id  year regime                                 \n",
       "A03187-1 2023 SimOpt_extensive_0               0.0   \n",
       "              SimOpt_extensive_1               0.0   \n",
       "              SimOpt_extensive_10              0.0   \n",
       "              SimOpt_extensive_11              0.0   \n",
       "              SimOpt_extensive_12              0.0   \n",
       "\n",
       "                                   Relative_Sha_highclassdbh_Tot_Nor  \n",
       "plot_id  year regime                                                  \n",
       "A03187-1 2023 SimOpt_extensive_0                            0.000000  \n",
       "              SimOpt_extensive_1                            0.000126  \n",
       "              SimOpt_extensive_10                           0.000126  \n",
       "              SimOpt_extensive_11                           0.000126  \n",
       "              SimOpt_extensive_12                           0.000126  \n",
       "\n",
       "[5 rows x 63 columns]"
      ]
     },
     "execution_count": 17,
     "metadata": {},
     "output_type": "execute_result"
    }
   ],
   "source": [
    "mfo.initialData.head()"
   ]
  },
  {
   "cell_type": "code",
   "execution_count": 18,
   "metadata": {},
   "outputs": [
    {
     "data": {
      "text/html": [
       "<div>\n",
       "<style scoped>\n",
       "    .dataframe tbody tr th:only-of-type {\n",
       "        vertical-align: middle;\n",
       "    }\n",
       "\n",
       "    .dataframe tbody tr th {\n",
       "        vertical-align: top;\n",
       "    }\n",
       "\n",
       "    .dataframe thead th {\n",
       "        text-align: right;\n",
       "    }\n",
       "</style>\n",
       "<table border=\"1\" class=\"dataframe\">\n",
       "  <thead>\n",
       "    <tr style=\"text-align: right;\">\n",
       "      <th></th>\n",
       "      <th></th>\n",
       "      <th></th>\n",
       "      <th>period</th>\n",
       "      <th>pulp_vol_m3</th>\n",
       "      <th>harv_cost_nok_m3</th>\n",
       "      <th>harv_cost_u150</th>\n",
       "      <th>harv_cost_u200</th>\n",
       "      <th>net_increment_m3</th>\n",
       "      <th>is_old</th>\n",
       "      <th>is_broadleave</th>\n",
       "      <th>MiS_classified_plot</th>\n",
       "      <th>bilberry_cover_pr</th>\n",
       "      <th>...</th>\n",
       "      <th>Relative_Relative_albedo</th>\n",
       "      <th>Relative_Relative_shan</th>\n",
       "      <th>Relative_Relative_ha2total</th>\n",
       "      <th>Relative_Relative_dead_vol_Mm3_TotNor</th>\n",
       "      <th>Relative_Relative_tsd_ha2total</th>\n",
       "      <th>Relative_Relative_CO2_forest_Mil_Kt_TotNor</th>\n",
       "      <th>Relative_Relative_CO2_forest_Mil_Kt_TotNor_no_albedo</th>\n",
       "      <th>Relative_Relative_Bilberry_ha_TotNor</th>\n",
       "      <th>Relative_Relative_MiS_ha</th>\n",
       "      <th>Relative_Relative_Sha_highclassdbh_Tot_Nor</th>\n",
       "    </tr>\n",
       "    <tr>\n",
       "      <th>plot_id</th>\n",
       "      <th>year</th>\n",
       "      <th>regime</th>\n",
       "      <th></th>\n",
       "      <th></th>\n",
       "      <th></th>\n",
       "      <th></th>\n",
       "      <th></th>\n",
       "      <th></th>\n",
       "      <th></th>\n",
       "      <th></th>\n",
       "      <th></th>\n",
       "      <th></th>\n",
       "      <th></th>\n",
       "      <th></th>\n",
       "      <th></th>\n",
       "      <th></th>\n",
       "      <th></th>\n",
       "      <th></th>\n",
       "      <th></th>\n",
       "      <th></th>\n",
       "      <th></th>\n",
       "      <th></th>\n",
       "      <th></th>\n",
       "    </tr>\n",
       "  </thead>\n",
       "  <tbody>\n",
       "    <tr>\n",
       "      <th rowspan=\"5\" valign=\"top\">A03187-1</th>\n",
       "      <th rowspan=\"5\" valign=\"top\">2028</th>\n",
       "      <th>SimOpt_extensive_0</th>\n",
       "      <td>t2</td>\n",
       "      <td>0.00000</td>\n",
       "      <td>0.000000</td>\n",
       "      <td>0</td>\n",
       "      <td>0</td>\n",
       "      <td>0.000000</td>\n",
       "      <td>0</td>\n",
       "      <td>0</td>\n",
       "      <td>0</td>\n",
       "      <td>2</td>\n",
       "      <td>...</td>\n",
       "      <td>9.025961e-07</td>\n",
       "      <td>0.000000e+00</td>\n",
       "      <td>4.010508e-07</td>\n",
       "      <td>0.000000e+00</td>\n",
       "      <td>4.010508e-07</td>\n",
       "      <td>-3.667306e-07</td>\n",
       "      <td>-4.093759e-07</td>\n",
       "      <td>7.773096e-08</td>\n",
       "      <td>0.0</td>\n",
       "      <td>0.000000e+00</td>\n",
       "    </tr>\n",
       "    <tr>\n",
       "      <th>SimOpt_extensive_1</th>\n",
       "      <td>t2</td>\n",
       "      <td>32727.61897</td>\n",
       "      <td>909.320021</td>\n",
       "      <td>0</td>\n",
       "      <td>0</td>\n",
       "      <td>2810.612023</td>\n",
       "      <td>0</td>\n",
       "      <td>0</td>\n",
       "      <td>0</td>\n",
       "      <td>2</td>\n",
       "      <td>...</td>\n",
       "      <td>9.025961e-07</td>\n",
       "      <td>0.000000e+00</td>\n",
       "      <td>4.010508e-07</td>\n",
       "      <td>0.000000e+00</td>\n",
       "      <td>4.010508e-07</td>\n",
       "      <td>-1.846004e-06</td>\n",
       "      <td>-2.021645e-06</td>\n",
       "      <td>7.773096e-08</td>\n",
       "      <td>0.0</td>\n",
       "      <td>0.000000e+00</td>\n",
       "    </tr>\n",
       "    <tr>\n",
       "      <th>SimOpt_extensive_10</th>\n",
       "      <td>t2</td>\n",
       "      <td>0.00000</td>\n",
       "      <td>0.000000</td>\n",
       "      <td>0</td>\n",
       "      <td>0</td>\n",
       "      <td>3994.338879</td>\n",
       "      <td>0</td>\n",
       "      <td>0</td>\n",
       "      <td>0</td>\n",
       "      <td>4</td>\n",
       "      <td>...</td>\n",
       "      <td>7.912492e-07</td>\n",
       "      <td>2.396545e-07</td>\n",
       "      <td>4.010508e-07</td>\n",
       "      <td>2.977858e-08</td>\n",
       "      <td>4.010508e-07</td>\n",
       "      <td>4.211540e-07</td>\n",
       "      <td>3.723546e-07</td>\n",
       "      <td>1.554619e-07</td>\n",
       "      <td>0.0</td>\n",
       "      <td>1.166514e-07</td>\n",
       "    </tr>\n",
       "    <tr>\n",
       "      <th>SimOpt_extensive_11</th>\n",
       "      <td>t2</td>\n",
       "      <td>0.00000</td>\n",
       "      <td>0.000000</td>\n",
       "      <td>0</td>\n",
       "      <td>0</td>\n",
       "      <td>3994.338879</td>\n",
       "      <td>0</td>\n",
       "      <td>0</td>\n",
       "      <td>0</td>\n",
       "      <td>4</td>\n",
       "      <td>...</td>\n",
       "      <td>7.912492e-07</td>\n",
       "      <td>2.396545e-07</td>\n",
       "      <td>4.010508e-07</td>\n",
       "      <td>2.977858e-08</td>\n",
       "      <td>4.010508e-07</td>\n",
       "      <td>4.211540e-07</td>\n",
       "      <td>3.723546e-07</td>\n",
       "      <td>1.554619e-07</td>\n",
       "      <td>0.0</td>\n",
       "      <td>1.166514e-07</td>\n",
       "    </tr>\n",
       "    <tr>\n",
       "      <th>SimOpt_extensive_12</th>\n",
       "      <td>t2</td>\n",
       "      <td>0.00000</td>\n",
       "      <td>0.000000</td>\n",
       "      <td>0</td>\n",
       "      <td>0</td>\n",
       "      <td>3994.338879</td>\n",
       "      <td>0</td>\n",
       "      <td>0</td>\n",
       "      <td>0</td>\n",
       "      <td>4</td>\n",
       "      <td>...</td>\n",
       "      <td>7.912492e-07</td>\n",
       "      <td>2.396545e-07</td>\n",
       "      <td>4.010508e-07</td>\n",
       "      <td>2.977858e-08</td>\n",
       "      <td>4.010508e-07</td>\n",
       "      <td>4.211540e-07</td>\n",
       "      <td>3.723546e-07</td>\n",
       "      <td>1.554619e-07</td>\n",
       "      <td>0.0</td>\n",
       "      <td>1.166514e-07</td>\n",
       "    </tr>\n",
       "  </tbody>\n",
       "</table>\n",
       "<p>5 rows × 96 columns</p>\n",
       "</div>"
      ],
      "text/plain": [
       "                                  period  pulp_vol_m3  harv_cost_nok_m3  \\\n",
       "plot_id  year regime                                                      \n",
       "A03187-1 2028 SimOpt_extensive_0      t2      0.00000          0.000000   \n",
       "              SimOpt_extensive_1      t2  32727.61897        909.320021   \n",
       "              SimOpt_extensive_10     t2      0.00000          0.000000   \n",
       "              SimOpt_extensive_11     t2      0.00000          0.000000   \n",
       "              SimOpt_extensive_12     t2      0.00000          0.000000   \n",
       "\n",
       "                                   harv_cost_u150  harv_cost_u200  \\\n",
       "plot_id  year regime                                                \n",
       "A03187-1 2028 SimOpt_extensive_0                0               0   \n",
       "              SimOpt_extensive_1                0               0   \n",
       "              SimOpt_extensive_10               0               0   \n",
       "              SimOpt_extensive_11               0               0   \n",
       "              SimOpt_extensive_12               0               0   \n",
       "\n",
       "                                   net_increment_m3  is_old  is_broadleave  \\\n",
       "plot_id  year regime                                                         \n",
       "A03187-1 2028 SimOpt_extensive_0           0.000000       0              0   \n",
       "              SimOpt_extensive_1        2810.612023       0              0   \n",
       "              SimOpt_extensive_10       3994.338879       0              0   \n",
       "              SimOpt_extensive_11       3994.338879       0              0   \n",
       "              SimOpt_extensive_12       3994.338879       0              0   \n",
       "\n",
       "                                   MiS_classified_plot  bilberry_cover_pr  \\\n",
       "plot_id  year regime                                                        \n",
       "A03187-1 2028 SimOpt_extensive_0                     0                  2   \n",
       "              SimOpt_extensive_1                     0                  2   \n",
       "              SimOpt_extensive_10                    0                  4   \n",
       "              SimOpt_extensive_11                    0                  4   \n",
       "              SimOpt_extensive_12                    0                  4   \n",
       "\n",
       "                                   ...  Relative_Relative_albedo  \\\n",
       "plot_id  year regime               ...                             \n",
       "A03187-1 2028 SimOpt_extensive_0   ...              9.025961e-07   \n",
       "              SimOpt_extensive_1   ...              9.025961e-07   \n",
       "              SimOpt_extensive_10  ...              7.912492e-07   \n",
       "              SimOpt_extensive_11  ...              7.912492e-07   \n",
       "              SimOpt_extensive_12  ...              7.912492e-07   \n",
       "\n",
       "                                   Relative_Relative_shan  \\\n",
       "plot_id  year regime                                        \n",
       "A03187-1 2028 SimOpt_extensive_0             0.000000e+00   \n",
       "              SimOpt_extensive_1             0.000000e+00   \n",
       "              SimOpt_extensive_10            2.396545e-07   \n",
       "              SimOpt_extensive_11            2.396545e-07   \n",
       "              SimOpt_extensive_12            2.396545e-07   \n",
       "\n",
       "                                   Relative_Relative_ha2total  \\\n",
       "plot_id  year regime                                            \n",
       "A03187-1 2028 SimOpt_extensive_0                 4.010508e-07   \n",
       "              SimOpt_extensive_1                 4.010508e-07   \n",
       "              SimOpt_extensive_10                4.010508e-07   \n",
       "              SimOpt_extensive_11                4.010508e-07   \n",
       "              SimOpt_extensive_12                4.010508e-07   \n",
       "\n",
       "                                   Relative_Relative_dead_vol_Mm3_TotNor  \\\n",
       "plot_id  year regime                                                       \n",
       "A03187-1 2028 SimOpt_extensive_0                            0.000000e+00   \n",
       "              SimOpt_extensive_1                            0.000000e+00   \n",
       "              SimOpt_extensive_10                           2.977858e-08   \n",
       "              SimOpt_extensive_11                           2.977858e-08   \n",
       "              SimOpt_extensive_12                           2.977858e-08   \n",
       "\n",
       "                                   Relative_Relative_tsd_ha2total  \\\n",
       "plot_id  year regime                                                \n",
       "A03187-1 2028 SimOpt_extensive_0                     4.010508e-07   \n",
       "              SimOpt_extensive_1                     4.010508e-07   \n",
       "              SimOpt_extensive_10                    4.010508e-07   \n",
       "              SimOpt_extensive_11                    4.010508e-07   \n",
       "              SimOpt_extensive_12                    4.010508e-07   \n",
       "\n",
       "                                   Relative_Relative_CO2_forest_Mil_Kt_TotNor  \\\n",
       "plot_id  year regime                                                            \n",
       "A03187-1 2028 SimOpt_extensive_0                                -3.667306e-07   \n",
       "              SimOpt_extensive_1                                -1.846004e-06   \n",
       "              SimOpt_extensive_10                                4.211540e-07   \n",
       "              SimOpt_extensive_11                                4.211540e-07   \n",
       "              SimOpt_extensive_12                                4.211540e-07   \n",
       "\n",
       "                                   Relative_Relative_CO2_forest_Mil_Kt_TotNor_no_albedo  \\\n",
       "plot_id  year regime                                                                      \n",
       "A03187-1 2028 SimOpt_extensive_0                                       -4.093759e-07      \n",
       "              SimOpt_extensive_1                                       -2.021645e-06      \n",
       "              SimOpt_extensive_10                                       3.723546e-07      \n",
       "              SimOpt_extensive_11                                       3.723546e-07      \n",
       "              SimOpt_extensive_12                                       3.723546e-07      \n",
       "\n",
       "                                   Relative_Relative_Bilberry_ha_TotNor  \\\n",
       "plot_id  year regime                                                      \n",
       "A03187-1 2028 SimOpt_extensive_0                           7.773096e-08   \n",
       "              SimOpt_extensive_1                           7.773096e-08   \n",
       "              SimOpt_extensive_10                          1.554619e-07   \n",
       "              SimOpt_extensive_11                          1.554619e-07   \n",
       "              SimOpt_extensive_12                          1.554619e-07   \n",
       "\n",
       "                                   Relative_Relative_MiS_ha  \\\n",
       "plot_id  year regime                                          \n",
       "A03187-1 2028 SimOpt_extensive_0                        0.0   \n",
       "              SimOpt_extensive_1                        0.0   \n",
       "              SimOpt_extensive_10                       0.0   \n",
       "              SimOpt_extensive_11                       0.0   \n",
       "              SimOpt_extensive_12                       0.0   \n",
       "\n",
       "                                   Relative_Relative_Sha_highclassdbh_Tot_Nor  \n",
       "plot_id  year regime                                                           \n",
       "A03187-1 2028 SimOpt_extensive_0                                 0.000000e+00  \n",
       "              SimOpt_extensive_1                                 0.000000e+00  \n",
       "              SimOpt_extensive_10                                1.166514e-07  \n",
       "              SimOpt_extensive_11                                1.166514e-07  \n",
       "              SimOpt_extensive_12                                1.166514e-07  \n",
       "\n",
       "[5 rows x 96 columns]"
      ]
     },
     "execution_count": 18,
     "metadata": {},
     "output_type": "execute_result"
    }
   ],
   "source": [
    "mfo.data.head()"
   ]
  },
  {
   "cell_type": "markdown",
   "metadata": {},
   "source": [
    "## GLOBIOM - Bottom-up\n",
    "\n",
    "Read the targeted timber demands.\n"
   ]
  },
  {
   "cell_type": "code",
   "execution_count": 19,
   "metadata": {},
   "outputs": [
    {
     "name": "stdout",
     "output_type": "stream",
     "text": [
      "used 1p5\n"
     ]
    }
   ],
   "source": [
    "# -----------\n",
    "# 1.5 degree scenario; matches with RCP0 (no CC)\n",
    "# -----------\n",
    "if objectives_globiom == 'globiom_1p5_RCP0':\n",
    "    \n",
    "    demands = pd.read_csv('NOR_globiom1p5_all.csv') \n",
    "\n",
    "    print(\"used 1p5\")\n",
    "\n",
    "    \n",
    "# ----------- \n",
    "# NDC scenario, matches with RCP 4.5\n",
    "# -----------\n",
    "elif objectives_globiom == 'globiom_NDC_RCP45':\n",
    "    \n",
    "    demands = pd.read_csv('NOR_globiomNDC_all.csv') \n",
    "\n",
    "    print(\"used NDC\") \n"
   ]
  },
  {
   "cell_type": "code",
   "execution_count": 20,
   "metadata": {},
   "outputs": [
    {
     "name": "stdout",
     "output_type": "stream",
     "text": [
      "GLOBIOM Bottom-up loaded\n"
     ]
    }
   ],
   "source": [
    "if objectives_globiom == 'globiom_1p5_RCP0' or objectives_globiom =='globiom_NDC_RCP45' :\n",
    "    \n",
    "    sawlog = demands[\"GSawlog\"] \n",
    "    sawlog = sawlog.to_list()\n",
    "    \n",
    "    pulpfuel = demands[\"GPulpFuel\"] \n",
    "    pulpfuel = pulpfuel.to_list()\n",
    "\n",
    "    residues = demands[\"GResidues\"] \n",
    "    residues = residues.to_list()\n",
    "    \n",
    "    globiom = {\n",
    "    # --------------\n",
    "    # Sawlogs, millions m3/year under bark\n",
    "    # --------------\n",
    "    # max_periodicTargets_Sum_Objective\n",
    "    \"Total_Harvested_V_log_GLOBIOM\" : [\"GLOBIOM, total Sawlogs (m3/year, u. bark)\",\n",
    "                        \"SawTimber_Mm3_year\",\n",
    "                        \"max\", \"periodicTargets\", \"sum\", sawlog],\n",
    "    \n",
    "    # --------------\n",
    "    # Pulpwood (relates to pulp and fuelwood of GLOBIOM), millions m3/year under bark\n",
    "    # --------------\n",
    "    \"Total_Harvested_V_pulp_GLOBIOM\" : [\"GLOBIOM, total Pulpwood (m3/year, u. bark)\",\n",
    "                        \"pulp_vol_Mm3_TotNor\",\n",
    "                        \"max\", \"periodicTargets\", \"sum\", pulpfuel],\n",
    "    \n",
    "    # --------------\n",
    "    # Biomass (relates to forest residues of GLOBIOM),  millions m3/year \n",
    "    # --------------\n",
    "    \"Total_Biomass_GLOBIOM\" : [\"GLOBIOM, total Biomass (m3/year)\",\n",
    "                        \"Residues_Mm3_year\",\n",
    "                        \"max\", \"periodicTargets\", \"sum\", residues] \n",
    "    }\n",
    "    print(\"GLOBIOM Bottom-up loaded\") \n",
    "\n",
    "else:\n",
    "    globiom = {}\n",
    "    print(\"no demands considered\")"
   ]
  },
  {
   "cell_type": "markdown",
   "metadata": {},
   "source": [
    "## Define the optimization problem for policy scenarios\n",
    "See README.md for details.\n",
    "\n",
    "<b>Objective format:</b>\n",
    "\n",
    "Unique_key :[Long human readable name, column name in data, max/min objective, year wise aggregation, stand wise aggregation (, target year )]\n",
    "\n",
    "1) \"Unique_key\" : [ (2) \"Long human readable name\", (3) \"column name\", (4) \"max/min objective\", (5) \"year wise aggregation\", (6) \"stand wise aggregation\" (, (7) target year ) ]\n",
    "\n",
    "<b>Options for \"objective\":</b> \"max\"imise or \"min\"imise it <br>\n",
    "<b>year wise aggregation:</b> \"min\" (minimum value), \"average\", \"firstYear\", \"targetYearWithSlope\",\"targetYear\",\"lastYear\" <br>\n",
    "<b>stand wise aggregation:</b> \"sum\", \"areaWeightedAverage\", \"areaWeightedSum\" <br>\n",
    "<b>targe yeart:</b> any year except the first one\n"
   ]
  },
  {
   "cell_type": "markdown",
   "metadata": {},
   "source": [
    "## Objectives"
   ]
  },
  {
   "cell_type": "markdown",
   "metadata": {},
   "source": [
    "### NFS - Forest Strategy"
   ]
  },
  {
   "cell_type": "code",
   "execution_count": 21,
   "metadata": {},
   "outputs": [],
   "source": [
    "if scenario == 'NFS':\n",
    "    \n",
    "    wood_production_bionergy = {\n",
    "    # harvest net value - maximise\n",
    "      \"harvest_netvalue_Mnok_min\": [\"Maximize netvalue (MAX Millions nok/m2) min\",\n",
    "                                    \"harv_net_Mnok_TotNor\",\n",
    "                                    \"max\",\"min\",\"sum\"],\n",
    "        \n",
    "    # GROT in plots with cost under 150 NOK   - maximise\n",
    "     \"GROTIncreaseInHarvCost150\":[\"Maximize GROT in plots with harvest cost under 150 (maX)\",\n",
    "                                  \"GROT_kt_TotNor\", \n",
    "                                  \"max\",\"min\",\"subsetSum\",\"harv_cost_u150\"],\n",
    "    }\n",
    "    \n",
    "    Biodiversity = {\n",
    "    # MIS area  - maximise\n",
    "    \"MiSIncrease\":[\"Not decreasing area of MiS classified plots (not decrease)\",\n",
    "                   \"Relative_MiS_ha\", \n",
    "                   \"max\",\"min\",\"sum\"],\n",
    "    }\n",
    "    \n",
    "    Climate_regulation = {\n",
    "    # C02 in wooden products  - maximise\n",
    "    \"CO2_HWP_increase\":[\"CO2_HWPMinimum yearly increase  (maximize\",\n",
    "                        \"HWP_C02_TotNor\",\n",
    "                        \"max\",\"minYearlyIncrease\",\"sum\"],\n",
    "\n",
    "    \"CO2_HWP_kt\": [\"Co2 storage in wooden products (maximize kilotonnnes over all years)\",\n",
    "                   \"HWP_C02_TotNor\", \n",
    "                   \"max\",\"average\",\"sum\"],\n",
    "    }\n",
    "    \n",
    "    objectives = {\n",
    "        **globiom,\n",
    "        **wood_production_bionergy,\n",
    "        **Biodiversity,\n",
    "        **Climate_regulation,\n",
    "    }\n",
    "    \n",
    "    print(\"objectives for NFS loaded\")"
   ]
  },
  {
   "cell_type": "markdown",
   "metadata": {},
   "source": [
    "### BDS - Biodiversity Strategy"
   ]
  },
  {
   "cell_type": "code",
   "execution_count": 22,
   "metadata": {},
   "outputs": [],
   "source": [
    "if scenario == 'BDS':\n",
    "    \n",
    "    wood_production_bionergy = {\n",
    "        \n",
    "    # harvest volume - maximise    \n",
    "    \"Average_Harvested_V\": [\"Avergare harvested timber volume (m3 ha, evenflow) \",\n",
    "                            \"harv_vol_Mm3_TotNor\",\n",
    "                             \"max\",\"min\",\"areaWeightedAverage\"], \n",
    "    }\n",
    "    \n",
    "    \n",
    "    Biodiversity = {\n",
    "       \n",
    "    # MIS area  - no decline\n",
    "    \"MiSIncrease\":[\"Not decreasing area of MiS classified plots (max)\",\n",
    "                   \"MiS_ha\", \n",
    "                   \"max\",\"minYearlyIncrease\",\"sum\"],\n",
    "        \n",
    "    # MIS area  - maximise\n",
    "    \"MiSMaxMin\":[\"Not decreasing area of MiS classified plots (max)\",\n",
    "                 \"Relative_MiS_ha\", \n",
    "                 \"max\",\"min\",\"sum\"],\n",
    "        \n",
    "    # deadWood  - no decline\n",
    "    \"deadWoodIncrease\":[\"Minimum yearly incrase in vol Millions m3 of dead wood (max)\",\n",
    "                        \"dead_vol_Mm3_TotNor\",\n",
    "                        \"max\",\"minYearlyIncrease\",\"sum\"],\n",
    "    # deadWood  - maximise   \n",
    "    \"deadWoodMaxMin\":[\"Minimum yearly incrase in vol Millions m3 of dead wood (max)\",\n",
    "                      \"Relative_dead_vol_Mm3_TotNor\",\n",
    "                      \"max\",\"min\",\"sum\"],\n",
    "        \n",
    "    # blueberry - no decline\n",
    "    \"blueberryIncrease\":[\"Minimum yearly incrase in area of blueberry cover(max)\",\n",
    "                         \"bilberry_cover_pr\",\n",
    "                         \"max\",\"minYearlyIncrease\",\"areaWeightedSum\"],\n",
    "        \n",
    "    # blueberry  - maximise  \n",
    "    \"blueberryMaxMin\":[\"MaxMin in area of blueberry cover (max)\",\n",
    "                       \"Relative_Bilberry_ha_TotNor\",\n",
    "                       \"max\",\"min\",\"sum\"],\n",
    "    }\n",
    "    \n",
    "    \n",
    "    Erosion_and_water = {\n",
    "    # decrease harvest in protected areas and in steep terrain - minimize\n",
    "    \"Decrease_harv_in_vernskog_or_steep\": [\"Decrease harvest in verskog ha harvested(minimize ha over all years)\",\n",
    "                                              \"FinaL_versk\",\n",
    "                                              \"min\",\"max\",\"areaWeightedSum\"],\n",
    "    }\n",
    "    \n",
    "    Recreation = {\n",
    "    # harvest in cityForest plot - minimize\n",
    "    \"harvest_in_cityForest\": [\"MinSum city forest (not decreasing)\", \n",
    "                              \"FinaL_city\",\n",
    "                              \"min\", \"max\", \"areaWeightedSum\"],\n",
    "    # plots with high Shann - maximize\n",
    "    \"ShannonIncrease\":[\"MAxMin Shanon in plots with larger dbh (not decrease)\",\n",
    "                       \"Relative_Sha_highclassdbh_Tot_Nor\", \n",
    "                       \"max\", \"min\",\"sum\"] ,\n",
    "  } \n",
    "        \n",
    "    objectives = {\n",
    "        **globiom,\n",
    "        **wood_production_bionergy,\n",
    "        **Biodiversity,\n",
    "        **Erosion_and_water,\n",
    "        **Recreation,\n",
    "    }\n",
    "    \n",
    "    print(\"objectives for BDS loaded\")"
   ]
  },
  {
   "cell_type": "markdown",
   "metadata": {},
   "source": [
    "### BES - Bioeconomy Strategy"
   ]
  },
  {
   "cell_type": "code",
   "execution_count": 23,
   "metadata": {},
   "outputs": [
    {
     "name": "stdout",
     "output_type": "stream",
     "text": [
      "objectives for BES loaded\n"
     ]
    }
   ],
   "source": [
    "if scenario == 'BES':\n",
    "    \n",
    "    \n",
    "    wood_production_bionergy = {\n",
    "    # harvest net value - maximise\n",
    "      \"harvest_netvalue_Mnok_min\": [\"Maximize netvalue (MAX Millions nok/m2) min\",\n",
    "                                    \"harv_net_Mnok_TotNor\",\n",
    "                                    \"max\",\"min\",\"sum\"],\n",
    "        \n",
    "    # GROT in plots with cost under 150 NOK   - maximise\n",
    "     \"GROTIncreaseInHarvCost150\":[\"Maximize GROT in plots with harvest cost under 150 (maX)\",\n",
    "                                  \"GROT_kt_TotNor\", \n",
    "                                  \"max\",\"min\",\"subsetSum\",\"harv_cost_u150\"],\n",
    "        \n",
    "    }\n",
    "    \n",
    "    Biodiversity = {\n",
    "        \n",
    "    # MIS area  - maximise\n",
    "    \"MiSMaxMin\":[\"Not decreasing area of MiS classified plots (max)\",\n",
    "                 \"Relative_MiS_ha\", \n",
    "                 \"max\",\"min\",\"sum\"],\n",
    "        \n",
    "    }\n",
    "    \n",
    "    Climate_regulation = {\n",
    "    # C02 in wooden products  - maximise\n",
    "    \"CO2_HWP_kt\": [\" Max Co2 storage in wooden products (maximize kt over all years)\",\n",
    "                   \"HWP_C02_TotNor\", \n",
    "                   \"max\",\"average\",\"sum\"],\n",
    "    \n",
    "    \"CO2_in_forest\": [\" Max Co2 uptake in forest\",\n",
    "                      \"CO2_forest_Mil_Kt_TotNor\",\n",
    "                      \"max\",\"sum\",\"sum\"],\n",
    "    }\n",
    "    \n",
    "    \n",
    "    Recreation = {\n",
    "    # harvest in cityForest plot - minimize\n",
    "    \"harvest_in_cityForest\": [\"MinSum city forest (not decreasing)\", \n",
    "                              \"FinaL_city\",\n",
    "                              \"min\", \"sum\", \"areaWeightedSum\"],\n",
    "    # plots with high Shann - maximize\n",
    "    \"ShannonIncrease\":[\"MAxMin Shanon in plots with larger dbh (not decrease)\",\n",
    "                       \"Relative_Sha_highclassdbh_Tot_Nor\", \n",
    "                       \"max\", \"min\",\"sum\"] ,\n",
    "  } \n",
    "        \n",
    "    objectives = {\n",
    "        **globiom,\n",
    "        **wood_production_bionergy,\n",
    "        **Biodiversity,\n",
    "        **Climate_regulation,\n",
    "        **Recreation,\n",
    "    }\n",
    "    \n",
    "    print(\"objectives for BES loaded\")"
   ]
  },
  {
   "cell_type": "code",
   "execution_count": 24,
   "metadata": {},
   "outputs": [
    {
     "data": {
      "text/plain": [
       "10"
      ]
     },
     "execution_count": 24,
     "metadata": {},
     "output_type": "execute_result"
    }
   ],
   "source": [
    "len(objectives)"
   ]
  },
  {
   "cell_type": "code",
   "execution_count": 25,
   "metadata": {},
   "outputs": [
    {
     "data": {
      "text/plain": [
       "10"
      ]
     },
     "execution_count": 25,
     "metadata": {},
     "output_type": "execute_result"
    }
   ],
   "source": [
    "len(objectives)"
   ]
  },
  {
   "cell_type": "code",
   "execution_count": 26,
   "metadata": {},
   "outputs": [
    {
     "data": {
      "text/plain": [
       "dict_keys(['Total_Harvested_V_log_GLOBIOM', 'Total_Harvested_V_pulp_GLOBIOM', 'Total_Biomass_GLOBIOM', 'harvest_netvalue_Mnok_min', 'GROTIncreaseInHarvCost150', 'MiSMaxMin', 'CO2_HWP_kt', 'CO2_in_forest', 'harvest_in_cityForest', 'ShannonIncrease'])"
      ]
     },
     "execution_count": 26,
     "metadata": {},
     "output_type": "execute_result"
    }
   ],
   "source": [
    "objectives.keys()"
   ]
  },
  {
   "cell_type": "code",
   "execution_count": 27,
   "metadata": {},
   "outputs": [
    {
     "data": {
      "text/plain": [
       "Index(['period', 'pulp_vol_m3', 'harv_cost_nok_m3', 'harv_cost_u150',\n",
       "       'harv_cost_u200', 'net_increment_m3', 'is_old', 'is_broadleave',\n",
       "       'MiS_classified_plot', 'bilberry_cover_pr', 'GROT_kt_TotNor',\n",
       "       'vol_saw_m3', 'saw_CO2_t', 'vol_panels_m3', 'panels_CO2_t', 'albedo',\n",
       "       'is_steep_terrain', 'is_vernskog', 'is_city_forest', 'shan',\n",
       "       'class_dbh', 'ha2total', 'management', 'harv_net_Mnok_TotNor',\n",
       "       'harv_vol_Mm3_TotNor', 'saw_vol_Mm3_TotNor', 'pulp_vol_Mm3_TotNor',\n",
       "       'dead_vol_Mm3_TotNor', 'tsd_ha2total', 'CO2_forest_Mil_Kt_TotNor',\n",
       "       'CO2_forest_Mil_Kt_TotNor_no_albedo', 'saw_CO2_change_Kt_TotNor',\n",
       "       'saw_CO2_Kt_TotNor', 'panels_CO2_change_Kt_TotNor', 'HWP_C02_TotNor',\n",
       "       'Bilberry_ha_TotNor', 'MiS_ha', 'SawTimber_Mm3_year', 'pulp_Mm3_year',\n",
       "       'GROT_t', 'GROT_m3', 'GROT_Mm3', 'Residues_Mm3_year',\n",
       "       'harvest_demands_Mm3_year', 'regime.class', 'finalFelling', 'is_CCF',\n",
       "       'is_nomanagement', 'is_vers_or_ste', 'FinaL_versk', 'FinaL_city',\n",
       "       'High_classdbh', 'Sha_highclassdbh_Tot_Nor', 'Relative_albedo',\n",
       "       'Relative_shan', 'Relative_ha2total', 'Relative_dead_vol_Mm3_TotNor',\n",
       "       'Relative_tsd_ha2total', 'Relative_CO2_forest_Mil_Kt_TotNor',\n",
       "       'Relative_CO2_forest_Mil_Kt_TotNor_no_albedo',\n",
       "       'Relative_Bilberry_ha_TotNor', 'Relative_MiS_ha',\n",
       "       'Relative_Sha_highclassdbh_Tot_Nor', 'Relative_pulp_vol_m3',\n",
       "       'Relative_harv_cost_nok_m3', 'Relative_net_increment_m3',\n",
       "       'Relative_GROT_kt_TotNor', 'Relative_vol_saw_m3', 'Relative_saw_CO2_t',\n",
       "       'Relative_vol_panels_m3', 'Relative_panels_CO2_t',\n",
       "       'Relative_harv_net_Mnok_TotNor', 'Relative_harv_vol_Mm3_TotNor',\n",
       "       'Relative_saw_vol_Mm3_TotNor', 'Relative_pulp_vol_Mm3_TotNor',\n",
       "       'Relative_saw_CO2_change_Kt_TotNor', 'Relative_saw_CO2_Kt_TotNor',\n",
       "       'Relative_panels_CO2_change_Kt_TotNor', 'Relative_HWP_C02_TotNor',\n",
       "       'Relative_SawTimber_Mm3_year', 'Relative_pulp_Mm3_year',\n",
       "       'Relative_GROT_t', 'Relative_GROT_m3', 'Relative_GROT_Mm3',\n",
       "       'Relative_Residues_Mm3_year', 'Relative_harvest_demands_Mm3_year',\n",
       "       'Relative_Relative_albedo', 'Relative_Relative_shan',\n",
       "       'Relative_Relative_ha2total', 'Relative_Relative_dead_vol_Mm3_TotNor',\n",
       "       'Relative_Relative_tsd_ha2total',\n",
       "       'Relative_Relative_CO2_forest_Mil_Kt_TotNor',\n",
       "       'Relative_Relative_CO2_forest_Mil_Kt_TotNor_no_albedo',\n",
       "       'Relative_Relative_Bilberry_ha_TotNor', 'Relative_Relative_MiS_ha',\n",
       "       'Relative_Relative_Sha_highclassdbh_Tot_Nor'],\n",
       "      dtype='object')"
      ]
     },
     "execution_count": 27,
     "metadata": {},
     "output_type": "execute_result"
    }
   ],
   "source": [
    "mfo.data.columns"
   ]
  },
  {
   "cell_type": "code",
   "execution_count": 28,
   "metadata": {
    "scrolled": true
   },
   "outputs": [
    {
     "data": {
      "text/plain": [
       "'Defining objectives'"
      ]
     },
     "metadata": {},
     "output_type": "display_data"
    },
    {
     "data": {
      "text/plain": [
       "'Aggregating stand wise'"
      ]
     },
     "metadata": {},
     "output_type": "display_data"
    },
    {
     "name": "stderr",
     "output_type": "stream",
     "text": [
      "100%|██████████| 10/10 [01:30<00:00,  9.01s/it]\n"
     ]
    },
    {
     "data": {
      "text/plain": [
       "'Aggregating year wise'"
      ]
     },
     "metadata": {},
     "output_type": "display_data"
    },
    {
     "name": "stdout",
     "output_type": "stream",
     "text": [
      "100%|██████████| 10/10 [00:00<00:00, 5118.13it/s]\n"
     ]
    },
    {
     "data": {
      "text/plain": [
       "'Objectives added'"
      ]
     },
     "metadata": {},
     "output_type": "display_data"
    }
   ],
   "source": [
    "mfo.defineObjectives(objectives)"
   ]
  },
  {
   "cell_type": "markdown",
   "metadata": {},
   "source": [
    "## GLOBIOM - Top-down (with option for assortment transfer)\n",
    "\n",
    "<b>Attention: Has to be run after defining the objectives!</b>\n",
    "\n",
    "Read the targeted timber demands. "
   ]
  },
  {
   "cell_type": "code",
   "execution_count": 29,
   "metadata": {},
   "outputs": [],
   "source": [
    "# -----------\n",
    "# 1.5 degree scenario; matches with RCP0 (no CC)\n",
    "# -----------\n",
    "if objectives_globiom == 'globiom_1p5_RCP0_V2':\n",
    "    \n",
    "    demands = pd.read_csv('NOR_globiom1p5_all.csv') \n",
    "\n",
    "    print(\"used 1p5\")\n",
    "    \n",
    "# ----------- \n",
    "# NDC scenario, matches with RCP 4.5\n",
    "# -----------\n",
    "elif objectives_globiom == 'globiom_NDC_RCP45_V2':\n",
    "    \n",
    "    demands = pd.read_csv('NOR_globiomNDC_all.csv') \n",
    "\n",
    "    print(\"used NDC\")"
   ]
  },
  {
   "cell_type": "code",
   "execution_count": 30,
   "metadata": {},
   "outputs": [
    {
     "name": "stdout",
     "output_type": "stream",
     "text": [
      "no demands considered\n"
     ]
    }
   ],
   "source": [
    "if objectives_globiom == 'globiom_1p5_RCP0_V2' or  objectives_globiom =='globiom_NDC_RCP45_V2' :\n",
    "    \n",
    "    sawlog = demands[\"GSawlog\"] # divided by the number of provinces for test data\n",
    "    sawlog = sawlog.to_list()\n",
    "    \n",
    "    pulpfuel = demands[\"GPulpFuel\"] \n",
    "    pulpfuel = pulpfuel.to_list()\n",
    "\n",
    "    residues = demands[\"GResidues\"] \n",
    "    residues = residues.to_list()\n",
    "    \n",
    "    mfo.addGlobiomTargets(\n",
    "        {\n",
    "        \"log\": sawlog,\n",
    "        \"pulp\": pulpfuel,\n",
    "        \"residues\": residues\n",
    "        },\n",
    "        {\n",
    "            #Log is converted primarily into log, and sencondary into pulp; no transferrate, both are volumes under bark\n",
    "            \"SawTimber_Mm3_year\":\n",
    "                {\"log\":[1,\"primary\"],\"pulp\":[1,\"secondary\"], \"residues\":[1.136,\"secondary\"]},\n",
    "                #{\"log\":[1,\"primary\"],\"pulp\":[1,\"secondary\"]}, \n",
    "                                          \n",
    "            # Pulp is converted primarily into pulp, and sencondary into residues; \n",
    "            # with transferrate 1.136, because pulp volume is under bark, residues are over bark (barkfactor = 1.136)  \n",
    "            \"pulp_vol_Mm3_TotNor\":\n",
    "                {\"pulp\":[1,\"primary\"], \"residues\":[1.136,\"secondary\"]}, \n",
    "            \n",
    "            \"Residues_Mm3_year\":\n",
    "                {\"residues\":[1,\"primary\"]} #Biomass only to residues\n",
    "        }, \n",
    "        \n",
    "        # ----------------\n",
    "        # by default exactMatching is FALSE\n",
    "        # ----------------\n",
    "        # Functionality was implemented for Norway and their nationl policy scenarios\n",
    "        # NOT required for Cross-scale analysis V2\n",
    "        exactMatching=False \n",
    "        \n",
    "    )\n",
    "    \n",
    "    print(\"GLOBIOM Top-down loaded\") \n",
    "\n",
    "else:\n",
    "    globiom = {}\n",
    "    print(\"no demands considered\")"
   ]
  },
  {
   "cell_type": "markdown",
   "metadata": {},
   "source": [
    "## Define Enabled Constrains"
   ]
  },
  {
   "cell_type": "code",
   "execution_count": 31,
   "metadata": {},
   "outputs": [],
   "source": [
    "constraints = {\n",
    "    \"TotalpulpDec\": [\"Species reduction\",\n",
    "                   \"Max harvest reduction 10%\", \"pulp_Mm3_year\",1, 0.10], \n",
    "    \n",
    "    \"TotalPulpIncre\": [\"Species increase\",\n",
    "                   \"Max pulp increase\", \"pulp_Mm3_year\",1, 0.40],\n",
    "\n",
    "}"
   ]
  },
  {
   "cell_type": "code",
   "execution_count": 32,
   "metadata": {},
   "outputs": [
    {
     "data": {
      "text/plain": [
       "'Species increase'"
      ]
     },
     "metadata": {},
     "output_type": "display_data"
    }
   ],
   "source": [
    "mfo.defineConstraints(constraints)"
   ]
  },
  {
   "cell_type": "markdown",
   "metadata": {},
   "source": [
    "## Calculate objective ranges\n",
    "The ideal and anti-ideal solution for the individual objective functions."
   ]
  },
  {
   "cell_type": "markdown",
   "metadata": {},
   "source": [
    "## Calculate objective ranges"
   ]
  },
  {
   "cell_type": "code",
   "execution_count": 33,
   "metadata": {},
   "outputs": [
    {
     "data": {
      "text/html": [
       "<div>\n",
       "<style scoped>\n",
       "    .dataframe tbody tr th:only-of-type {\n",
       "        vertical-align: middle;\n",
       "    }\n",
       "\n",
       "    .dataframe tbody tr th {\n",
       "        vertical-align: top;\n",
       "    }\n",
       "\n",
       "    .dataframe thead th {\n",
       "        text-align: right;\n",
       "    }\n",
       "</style>\n",
       "<table border=\"1\" class=\"dataframe\">\n",
       "  <thead>\n",
       "    <tr style=\"text-align: right;\">\n",
       "      <th></th>\n",
       "      <th></th>\n",
       "      <th></th>\n",
       "      <th>period</th>\n",
       "      <th>pulp_vol_m3</th>\n",
       "      <th>harv_cost_nok_m3</th>\n",
       "      <th>harv_cost_u150</th>\n",
       "      <th>harv_cost_u200</th>\n",
       "      <th>net_increment_m3</th>\n",
       "      <th>is_old</th>\n",
       "      <th>is_broadleave</th>\n",
       "      <th>MiS_classified_plot</th>\n",
       "      <th>bilberry_cover_pr</th>\n",
       "      <th>...</th>\n",
       "      <th>Relative_Relative_albedo</th>\n",
       "      <th>Relative_Relative_shan</th>\n",
       "      <th>Relative_Relative_ha2total</th>\n",
       "      <th>Relative_Relative_dead_vol_Mm3_TotNor</th>\n",
       "      <th>Relative_Relative_tsd_ha2total</th>\n",
       "      <th>Relative_Relative_CO2_forest_Mil_Kt_TotNor</th>\n",
       "      <th>Relative_Relative_CO2_forest_Mil_Kt_TotNor_no_albedo</th>\n",
       "      <th>Relative_Relative_Bilberry_ha_TotNor</th>\n",
       "      <th>Relative_Relative_MiS_ha</th>\n",
       "      <th>Relative_Relative_Sha_highclassdbh_Tot_Nor</th>\n",
       "    </tr>\n",
       "    <tr>\n",
       "      <th>plot_id</th>\n",
       "      <th>year</th>\n",
       "      <th>regime</th>\n",
       "      <th></th>\n",
       "      <th></th>\n",
       "      <th></th>\n",
       "      <th></th>\n",
       "      <th></th>\n",
       "      <th></th>\n",
       "      <th></th>\n",
       "      <th></th>\n",
       "      <th></th>\n",
       "      <th></th>\n",
       "      <th></th>\n",
       "      <th></th>\n",
       "      <th></th>\n",
       "      <th></th>\n",
       "      <th></th>\n",
       "      <th></th>\n",
       "      <th></th>\n",
       "      <th></th>\n",
       "      <th></th>\n",
       "      <th></th>\n",
       "      <th></th>\n",
       "    </tr>\n",
       "  </thead>\n",
       "  <tbody>\n",
       "    <tr>\n",
       "      <th rowspan=\"5\" valign=\"top\">A03187-1</th>\n",
       "      <th rowspan=\"5\" valign=\"top\">2028</th>\n",
       "      <th>SimOpt_extensive_0</th>\n",
       "      <td>t2</td>\n",
       "      <td>0.00000</td>\n",
       "      <td>0.000000</td>\n",
       "      <td>0</td>\n",
       "      <td>0</td>\n",
       "      <td>0.000000</td>\n",
       "      <td>0</td>\n",
       "      <td>0</td>\n",
       "      <td>0</td>\n",
       "      <td>2</td>\n",
       "      <td>...</td>\n",
       "      <td>9.025961e-07</td>\n",
       "      <td>0.000000e+00</td>\n",
       "      <td>4.010508e-07</td>\n",
       "      <td>0.000000e+00</td>\n",
       "      <td>4.010508e-07</td>\n",
       "      <td>-3.667306e-07</td>\n",
       "      <td>-4.093759e-07</td>\n",
       "      <td>7.773096e-08</td>\n",
       "      <td>0.000000</td>\n",
       "      <td>0.000000e+00</td>\n",
       "    </tr>\n",
       "    <tr>\n",
       "      <th>SimOpt_extensive_1</th>\n",
       "      <td>t2</td>\n",
       "      <td>32727.61897</td>\n",
       "      <td>909.320021</td>\n",
       "      <td>0</td>\n",
       "      <td>0</td>\n",
       "      <td>2810.612023</td>\n",
       "      <td>0</td>\n",
       "      <td>0</td>\n",
       "      <td>0</td>\n",
       "      <td>2</td>\n",
       "      <td>...</td>\n",
       "      <td>9.025961e-07</td>\n",
       "      <td>0.000000e+00</td>\n",
       "      <td>4.010508e-07</td>\n",
       "      <td>0.000000e+00</td>\n",
       "      <td>4.010508e-07</td>\n",
       "      <td>-1.846004e-06</td>\n",
       "      <td>-2.021645e-06</td>\n",
       "      <td>7.773096e-08</td>\n",
       "      <td>0.000000</td>\n",
       "      <td>0.000000e+00</td>\n",
       "    </tr>\n",
       "    <tr>\n",
       "      <th>SimOpt_extensive_10</th>\n",
       "      <td>t2</td>\n",
       "      <td>0.00000</td>\n",
       "      <td>0.000000</td>\n",
       "      <td>0</td>\n",
       "      <td>0</td>\n",
       "      <td>3994.338879</td>\n",
       "      <td>0</td>\n",
       "      <td>0</td>\n",
       "      <td>0</td>\n",
       "      <td>4</td>\n",
       "      <td>...</td>\n",
       "      <td>7.912492e-07</td>\n",
       "      <td>2.396545e-07</td>\n",
       "      <td>4.010508e-07</td>\n",
       "      <td>2.977858e-08</td>\n",
       "      <td>4.010508e-07</td>\n",
       "      <td>4.211540e-07</td>\n",
       "      <td>3.723546e-07</td>\n",
       "      <td>1.554619e-07</td>\n",
       "      <td>0.000000</td>\n",
       "      <td>1.166514e-07</td>\n",
       "    </tr>\n",
       "    <tr>\n",
       "      <th>SimOpt_extensive_11</th>\n",
       "      <td>t2</td>\n",
       "      <td>0.00000</td>\n",
       "      <td>0.000000</td>\n",
       "      <td>0</td>\n",
       "      <td>0</td>\n",
       "      <td>3994.338879</td>\n",
       "      <td>0</td>\n",
       "      <td>0</td>\n",
       "      <td>0</td>\n",
       "      <td>4</td>\n",
       "      <td>...</td>\n",
       "      <td>7.912492e-07</td>\n",
       "      <td>2.396545e-07</td>\n",
       "      <td>4.010508e-07</td>\n",
       "      <td>2.977858e-08</td>\n",
       "      <td>4.010508e-07</td>\n",
       "      <td>4.211540e-07</td>\n",
       "      <td>3.723546e-07</td>\n",
       "      <td>1.554619e-07</td>\n",
       "      <td>0.000000</td>\n",
       "      <td>1.166514e-07</td>\n",
       "    </tr>\n",
       "    <tr>\n",
       "      <th>SimOpt_extensive_12</th>\n",
       "      <td>t2</td>\n",
       "      <td>0.00000</td>\n",
       "      <td>0.000000</td>\n",
       "      <td>0</td>\n",
       "      <td>0</td>\n",
       "      <td>3994.338879</td>\n",
       "      <td>0</td>\n",
       "      <td>0</td>\n",
       "      <td>0</td>\n",
       "      <td>4</td>\n",
       "      <td>...</td>\n",
       "      <td>7.912492e-07</td>\n",
       "      <td>2.396545e-07</td>\n",
       "      <td>4.010508e-07</td>\n",
       "      <td>2.977858e-08</td>\n",
       "      <td>4.010508e-07</td>\n",
       "      <td>4.211540e-07</td>\n",
       "      <td>3.723546e-07</td>\n",
       "      <td>1.554619e-07</td>\n",
       "      <td>0.000000</td>\n",
       "      <td>1.166514e-07</td>\n",
       "    </tr>\n",
       "    <tr>\n",
       "      <th>...</th>\n",
       "      <th>...</th>\n",
       "      <th>...</th>\n",
       "      <td>...</td>\n",
       "      <td>...</td>\n",
       "      <td>...</td>\n",
       "      <td>...</td>\n",
       "      <td>...</td>\n",
       "      <td>...</td>\n",
       "      <td>...</td>\n",
       "      <td>...</td>\n",
       "      <td>...</td>\n",
       "      <td>...</td>\n",
       "      <td>...</td>\n",
       "      <td>...</td>\n",
       "      <td>...</td>\n",
       "      <td>...</td>\n",
       "      <td>...</td>\n",
       "      <td>...</td>\n",
       "      <td>...</td>\n",
       "      <td>...</td>\n",
       "      <td>...</td>\n",
       "      <td>...</td>\n",
       "      <td>...</td>\n",
       "    </tr>\n",
       "    <tr>\n",
       "      <th rowspan=\"5\" valign=\"top\">H08221-0</th>\n",
       "      <th rowspan=\"2\" valign=\"top\">2093</th>\n",
       "      <th>SimOpt_extensive_long_0</th>\n",
       "      <td>t15</td>\n",
       "      <td>0.00000</td>\n",
       "      <td>0.000000</td>\n",
       "      <td>0</td>\n",
       "      <td>0</td>\n",
       "      <td>0.000000</td>\n",
       "      <td>0</td>\n",
       "      <td>0</td>\n",
       "      <td>0</td>\n",
       "      <td>2</td>\n",
       "      <td>...</td>\n",
       "      <td>1.088301e-06</td>\n",
       "      <td>0.000000e+00</td>\n",
       "      <td>7.303183e-06</td>\n",
       "      <td>1.803647e-06</td>\n",
       "      <td>7.303183e-06</td>\n",
       "      <td>-4.654305e-06</td>\n",
       "      <td>-4.606389e-06</td>\n",
       "      <td>1.415490e-06</td>\n",
       "      <td>0.000000</td>\n",
       "      <td>0.000000e+00</td>\n",
       "    </tr>\n",
       "    <tr>\n",
       "      <th>SimOpt_no_management_0</th>\n",
       "      <td>t15</td>\n",
       "      <td>0.00000</td>\n",
       "      <td>0.000000</td>\n",
       "      <td>0</td>\n",
       "      <td>0</td>\n",
       "      <td>-25382.949604</td>\n",
       "      <td>0</td>\n",
       "      <td>0</td>\n",
       "      <td>0</td>\n",
       "      <td>3</td>\n",
       "      <td>...</td>\n",
       "      <td>9.494990e-07</td>\n",
       "      <td>7.122338e-07</td>\n",
       "      <td>7.303183e-06</td>\n",
       "      <td>6.141842e-06</td>\n",
       "      <td>7.303183e-06</td>\n",
       "      <td>1.351492e-06</td>\n",
       "      <td>1.020937e-06</td>\n",
       "      <td>2.123235e-06</td>\n",
       "      <td>0.000000</td>\n",
       "      <td>6.313058e-06</td>\n",
       "    </tr>\n",
       "    <tr>\n",
       "      <th rowspan=\"3\" valign=\"top\">2098</th>\n",
       "      <th>SimOpt_extensive_0</th>\n",
       "      <td>t16</td>\n",
       "      <td>0.00000</td>\n",
       "      <td>0.000000</td>\n",
       "      <td>0</td>\n",
       "      <td>0</td>\n",
       "      <td>142467.765186</td>\n",
       "      <td>0</td>\n",
       "      <td>1</td>\n",
       "      <td>1</td>\n",
       "      <td>2</td>\n",
       "      <td>...</td>\n",
       "      <td>9.681839e-07</td>\n",
       "      <td>9.791785e-07</td>\n",
       "      <td>7.303183e-06</td>\n",
       "      <td>5.496034e-07</td>\n",
       "      <td>7.303183e-06</td>\n",
       "      <td>1.769237e-05</td>\n",
       "      <td>1.786760e-05</td>\n",
       "      <td>1.415490e-06</td>\n",
       "      <td>0.000012</td>\n",
       "      <td>8.679187e-06</td>\n",
       "    </tr>\n",
       "    <tr>\n",
       "      <th>SimOpt_extensive_long_0</th>\n",
       "      <td>t16</td>\n",
       "      <td>0.00000</td>\n",
       "      <td>0.000000</td>\n",
       "      <td>0</td>\n",
       "      <td>0</td>\n",
       "      <td>0.000000</td>\n",
       "      <td>0</td>\n",
       "      <td>0</td>\n",
       "      <td>0</td>\n",
       "      <td>2</td>\n",
       "      <td>...</td>\n",
       "      <td>1.047881e-06</td>\n",
       "      <td>0.000000e+00</td>\n",
       "      <td>7.303183e-06</td>\n",
       "      <td>1.803647e-06</td>\n",
       "      <td>7.303183e-06</td>\n",
       "      <td>-5.412060e-06</td>\n",
       "      <td>-4.050062e-06</td>\n",
       "      <td>1.415490e-06</td>\n",
       "      <td>0.000000</td>\n",
       "      <td>0.000000e+00</td>\n",
       "    </tr>\n",
       "    <tr>\n",
       "      <th>SimOpt_no_management_0</th>\n",
       "      <td>t16</td>\n",
       "      <td>0.00000</td>\n",
       "      <td>0.000000</td>\n",
       "      <td>0</td>\n",
       "      <td>0</td>\n",
       "      <td>18267.237080</td>\n",
       "      <td>0</td>\n",
       "      <td>0</td>\n",
       "      <td>0</td>\n",
       "      <td>3</td>\n",
       "      <td>...</td>\n",
       "      <td>9.384406e-07</td>\n",
       "      <td>7.228733e-07</td>\n",
       "      <td>7.303183e-06</td>\n",
       "      <td>6.927970e-06</td>\n",
       "      <td>7.303183e-06</td>\n",
       "      <td>2.640400e-06</td>\n",
       "      <td>3.143965e-06</td>\n",
       "      <td>2.123235e-06</td>\n",
       "      <td>0.000000</td>\n",
       "      <td>6.407364e-06</td>\n",
       "    </tr>\n",
       "  </tbody>\n",
       "</table>\n",
       "<p>748275 rows × 96 columns</p>\n",
       "</div>"
      ],
      "text/plain": [
       "                                      period  pulp_vol_m3  harv_cost_nok_m3  \\\n",
       "plot_id  year regime                                                          \n",
       "A03187-1 2028 SimOpt_extensive_0          t2      0.00000          0.000000   \n",
       "              SimOpt_extensive_1          t2  32727.61897        909.320021   \n",
       "              SimOpt_extensive_10         t2      0.00000          0.000000   \n",
       "              SimOpt_extensive_11         t2      0.00000          0.000000   \n",
       "              SimOpt_extensive_12         t2      0.00000          0.000000   \n",
       "...                                      ...          ...               ...   \n",
       "H08221-0 2093 SimOpt_extensive_long_0    t15      0.00000          0.000000   \n",
       "              SimOpt_no_management_0     t15      0.00000          0.000000   \n",
       "         2098 SimOpt_extensive_0         t16      0.00000          0.000000   \n",
       "              SimOpt_extensive_long_0    t16      0.00000          0.000000   \n",
       "              SimOpt_no_management_0     t16      0.00000          0.000000   \n",
       "\n",
       "                                       harv_cost_u150  harv_cost_u200  \\\n",
       "plot_id  year regime                                                    \n",
       "A03187-1 2028 SimOpt_extensive_0                    0               0   \n",
       "              SimOpt_extensive_1                    0               0   \n",
       "              SimOpt_extensive_10                   0               0   \n",
       "              SimOpt_extensive_11                   0               0   \n",
       "              SimOpt_extensive_12                   0               0   \n",
       "...                                               ...             ...   \n",
       "H08221-0 2093 SimOpt_extensive_long_0               0               0   \n",
       "              SimOpt_no_management_0                0               0   \n",
       "         2098 SimOpt_extensive_0                    0               0   \n",
       "              SimOpt_extensive_long_0               0               0   \n",
       "              SimOpt_no_management_0                0               0   \n",
       "\n",
       "                                       net_increment_m3  is_old  \\\n",
       "plot_id  year regime                                              \n",
       "A03187-1 2028 SimOpt_extensive_0               0.000000       0   \n",
       "              SimOpt_extensive_1            2810.612023       0   \n",
       "              SimOpt_extensive_10           3994.338879       0   \n",
       "              SimOpt_extensive_11           3994.338879       0   \n",
       "              SimOpt_extensive_12           3994.338879       0   \n",
       "...                                                 ...     ...   \n",
       "H08221-0 2093 SimOpt_extensive_long_0          0.000000       0   \n",
       "              SimOpt_no_management_0      -25382.949604       0   \n",
       "         2098 SimOpt_extensive_0          142467.765186       0   \n",
       "              SimOpt_extensive_long_0          0.000000       0   \n",
       "              SimOpt_no_management_0       18267.237080       0   \n",
       "\n",
       "                                       is_broadleave  MiS_classified_plot  \\\n",
       "plot_id  year regime                                                        \n",
       "A03187-1 2028 SimOpt_extensive_0                   0                    0   \n",
       "              SimOpt_extensive_1                   0                    0   \n",
       "              SimOpt_extensive_10                  0                    0   \n",
       "              SimOpt_extensive_11                  0                    0   \n",
       "              SimOpt_extensive_12                  0                    0   \n",
       "...                                              ...                  ...   \n",
       "H08221-0 2093 SimOpt_extensive_long_0              0                    0   \n",
       "              SimOpt_no_management_0               0                    0   \n",
       "         2098 SimOpt_extensive_0                   1                    1   \n",
       "              SimOpt_extensive_long_0              0                    0   \n",
       "              SimOpt_no_management_0               0                    0   \n",
       "\n",
       "                                       bilberry_cover_pr  ...  \\\n",
       "plot_id  year regime                                      ...   \n",
       "A03187-1 2028 SimOpt_extensive_0                       2  ...   \n",
       "              SimOpt_extensive_1                       2  ...   \n",
       "              SimOpt_extensive_10                      4  ...   \n",
       "              SimOpt_extensive_11                      4  ...   \n",
       "              SimOpt_extensive_12                      4  ...   \n",
       "...                                                  ...  ...   \n",
       "H08221-0 2093 SimOpt_extensive_long_0                  2  ...   \n",
       "              SimOpt_no_management_0                   3  ...   \n",
       "         2098 SimOpt_extensive_0                       2  ...   \n",
       "              SimOpt_extensive_long_0                  2  ...   \n",
       "              SimOpt_no_management_0                   3  ...   \n",
       "\n",
       "                                       Relative_Relative_albedo  \\\n",
       "plot_id  year regime                                              \n",
       "A03187-1 2028 SimOpt_extensive_0                   9.025961e-07   \n",
       "              SimOpt_extensive_1                   9.025961e-07   \n",
       "              SimOpt_extensive_10                  7.912492e-07   \n",
       "              SimOpt_extensive_11                  7.912492e-07   \n",
       "              SimOpt_extensive_12                  7.912492e-07   \n",
       "...                                                         ...   \n",
       "H08221-0 2093 SimOpt_extensive_long_0              1.088301e-06   \n",
       "              SimOpt_no_management_0               9.494990e-07   \n",
       "         2098 SimOpt_extensive_0                   9.681839e-07   \n",
       "              SimOpt_extensive_long_0              1.047881e-06   \n",
       "              SimOpt_no_management_0               9.384406e-07   \n",
       "\n",
       "                                       Relative_Relative_shan  \\\n",
       "plot_id  year regime                                            \n",
       "A03187-1 2028 SimOpt_extensive_0                 0.000000e+00   \n",
       "              SimOpt_extensive_1                 0.000000e+00   \n",
       "              SimOpt_extensive_10                2.396545e-07   \n",
       "              SimOpt_extensive_11                2.396545e-07   \n",
       "              SimOpt_extensive_12                2.396545e-07   \n",
       "...                                                       ...   \n",
       "H08221-0 2093 SimOpt_extensive_long_0            0.000000e+00   \n",
       "              SimOpt_no_management_0             7.122338e-07   \n",
       "         2098 SimOpt_extensive_0                 9.791785e-07   \n",
       "              SimOpt_extensive_long_0            0.000000e+00   \n",
       "              SimOpt_no_management_0             7.228733e-07   \n",
       "\n",
       "                                       Relative_Relative_ha2total  \\\n",
       "plot_id  year regime                                                \n",
       "A03187-1 2028 SimOpt_extensive_0                     4.010508e-07   \n",
       "              SimOpt_extensive_1                     4.010508e-07   \n",
       "              SimOpt_extensive_10                    4.010508e-07   \n",
       "              SimOpt_extensive_11                    4.010508e-07   \n",
       "              SimOpt_extensive_12                    4.010508e-07   \n",
       "...                                                           ...   \n",
       "H08221-0 2093 SimOpt_extensive_long_0                7.303183e-06   \n",
       "              SimOpt_no_management_0                 7.303183e-06   \n",
       "         2098 SimOpt_extensive_0                     7.303183e-06   \n",
       "              SimOpt_extensive_long_0                7.303183e-06   \n",
       "              SimOpt_no_management_0                 7.303183e-06   \n",
       "\n",
       "                                       Relative_Relative_dead_vol_Mm3_TotNor  \\\n",
       "plot_id  year regime                                                           \n",
       "A03187-1 2028 SimOpt_extensive_0                                0.000000e+00   \n",
       "              SimOpt_extensive_1                                0.000000e+00   \n",
       "              SimOpt_extensive_10                               2.977858e-08   \n",
       "              SimOpt_extensive_11                               2.977858e-08   \n",
       "              SimOpt_extensive_12                               2.977858e-08   \n",
       "...                                                                      ...   \n",
       "H08221-0 2093 SimOpt_extensive_long_0                           1.803647e-06   \n",
       "              SimOpt_no_management_0                            6.141842e-06   \n",
       "         2098 SimOpt_extensive_0                                5.496034e-07   \n",
       "              SimOpt_extensive_long_0                           1.803647e-06   \n",
       "              SimOpt_no_management_0                            6.927970e-06   \n",
       "\n",
       "                                       Relative_Relative_tsd_ha2total  \\\n",
       "plot_id  year regime                                                    \n",
       "A03187-1 2028 SimOpt_extensive_0                         4.010508e-07   \n",
       "              SimOpt_extensive_1                         4.010508e-07   \n",
       "              SimOpt_extensive_10                        4.010508e-07   \n",
       "              SimOpt_extensive_11                        4.010508e-07   \n",
       "              SimOpt_extensive_12                        4.010508e-07   \n",
       "...                                                               ...   \n",
       "H08221-0 2093 SimOpt_extensive_long_0                    7.303183e-06   \n",
       "              SimOpt_no_management_0                     7.303183e-06   \n",
       "         2098 SimOpt_extensive_0                         7.303183e-06   \n",
       "              SimOpt_extensive_long_0                    7.303183e-06   \n",
       "              SimOpt_no_management_0                     7.303183e-06   \n",
       "\n",
       "                                       Relative_Relative_CO2_forest_Mil_Kt_TotNor  \\\n",
       "plot_id  year regime                                                                \n",
       "A03187-1 2028 SimOpt_extensive_0                                    -3.667306e-07   \n",
       "              SimOpt_extensive_1                                    -1.846004e-06   \n",
       "              SimOpt_extensive_10                                    4.211540e-07   \n",
       "              SimOpt_extensive_11                                    4.211540e-07   \n",
       "              SimOpt_extensive_12                                    4.211540e-07   \n",
       "...                                                                           ...   \n",
       "H08221-0 2093 SimOpt_extensive_long_0                               -4.654305e-06   \n",
       "              SimOpt_no_management_0                                 1.351492e-06   \n",
       "         2098 SimOpt_extensive_0                                     1.769237e-05   \n",
       "              SimOpt_extensive_long_0                               -5.412060e-06   \n",
       "              SimOpt_no_management_0                                 2.640400e-06   \n",
       "\n",
       "                                       Relative_Relative_CO2_forest_Mil_Kt_TotNor_no_albedo  \\\n",
       "plot_id  year regime                                                                          \n",
       "A03187-1 2028 SimOpt_extensive_0                                           -4.093759e-07      \n",
       "              SimOpt_extensive_1                                           -2.021645e-06      \n",
       "              SimOpt_extensive_10                                           3.723546e-07      \n",
       "              SimOpt_extensive_11                                           3.723546e-07      \n",
       "              SimOpt_extensive_12                                           3.723546e-07      \n",
       "...                                                                                  ...      \n",
       "H08221-0 2093 SimOpt_extensive_long_0                                      -4.606389e-06      \n",
       "              SimOpt_no_management_0                                        1.020937e-06      \n",
       "         2098 SimOpt_extensive_0                                            1.786760e-05      \n",
       "              SimOpt_extensive_long_0                                      -4.050062e-06      \n",
       "              SimOpt_no_management_0                                        3.143965e-06      \n",
       "\n",
       "                                       Relative_Relative_Bilberry_ha_TotNor  \\\n",
       "plot_id  year regime                                                          \n",
       "A03187-1 2028 SimOpt_extensive_0                               7.773096e-08   \n",
       "              SimOpt_extensive_1                               7.773096e-08   \n",
       "              SimOpt_extensive_10                              1.554619e-07   \n",
       "              SimOpt_extensive_11                              1.554619e-07   \n",
       "              SimOpt_extensive_12                              1.554619e-07   \n",
       "...                                                                     ...   \n",
       "H08221-0 2093 SimOpt_extensive_long_0                          1.415490e-06   \n",
       "              SimOpt_no_management_0                           2.123235e-06   \n",
       "         2098 SimOpt_extensive_0                               1.415490e-06   \n",
       "              SimOpt_extensive_long_0                          1.415490e-06   \n",
       "              SimOpt_no_management_0                           2.123235e-06   \n",
       "\n",
       "                                       Relative_Relative_MiS_ha  \\\n",
       "plot_id  year regime                                              \n",
       "A03187-1 2028 SimOpt_extensive_0                       0.000000   \n",
       "              SimOpt_extensive_1                       0.000000   \n",
       "              SimOpt_extensive_10                      0.000000   \n",
       "              SimOpt_extensive_11                      0.000000   \n",
       "              SimOpt_extensive_12                      0.000000   \n",
       "...                                                         ...   \n",
       "H08221-0 2093 SimOpt_extensive_long_0                  0.000000   \n",
       "              SimOpt_no_management_0                   0.000000   \n",
       "         2098 SimOpt_extensive_0                       0.000012   \n",
       "              SimOpt_extensive_long_0                  0.000000   \n",
       "              SimOpt_no_management_0                   0.000000   \n",
       "\n",
       "                                       Relative_Relative_Sha_highclassdbh_Tot_Nor  \n",
       "plot_id  year regime                                                               \n",
       "A03187-1 2028 SimOpt_extensive_0                                     0.000000e+00  \n",
       "              SimOpt_extensive_1                                     0.000000e+00  \n",
       "              SimOpt_extensive_10                                    1.166514e-07  \n",
       "              SimOpt_extensive_11                                    1.166514e-07  \n",
       "              SimOpt_extensive_12                                    1.166514e-07  \n",
       "...                                                                           ...  \n",
       "H08221-0 2093 SimOpt_extensive_long_0                                0.000000e+00  \n",
       "              SimOpt_no_management_0                                 6.313058e-06  \n",
       "         2098 SimOpt_extensive_0                                     8.679187e-06  \n",
       "              SimOpt_extensive_long_0                                0.000000e+00  \n",
       "              SimOpt_no_management_0                                 6.407364e-06  \n",
       "\n",
       "[748275 rows x 96 columns]"
      ]
     },
     "execution_count": 33,
     "metadata": {},
     "output_type": "execute_result"
    }
   ],
   "source": [
    "mfo.data"
   ]
  },
  {
   "cell_type": "code",
   "execution_count": 34,
   "metadata": {
    "scrolled": false
   },
   "outputs": [
    {
     "data": {
      "text/plain": [
       "'Calculating objective ranges'"
      ]
     },
     "metadata": {},
     "output_type": "display_data"
    },
    {
     "name": "stdout",
     "output_type": "stream",
     "text": [
      "\r",
      "  0%|          | 0/10 [00:00<?, ?it/s]"
     ]
    },
    {
     "data": {
      "text/plain": [
       "'Optimizing for GLOBIOM, total Sawlogs (m3/year, u. bark)'"
      ]
     },
     "metadata": {},
     "output_type": "display_data"
    },
    {
     "data": {
      "text/plain": [
       "'Found an optimal solution in 3 seconds'"
      ]
     },
     "metadata": {},
     "output_type": "display_data"
    },
    {
     "data": {
      "text/plain": [
       "'Objective values are:'"
      ]
     },
     "metadata": {},
     "output_type": "display_data"
    },
    {
     "data": {
      "text/plain": [
       "'GLOBIOM, total Sawlogs (m3/year, u. bark)'"
      ]
     },
     "metadata": {},
     "output_type": "display_data"
    },
    {
     "data": {
      "text/plain": [
       "-0.6748014954544629"
      ]
     },
     "metadata": {},
     "output_type": "display_data"
    },
    {
     "data": {
      "text/plain": [
       "'GLOBIOM, total Pulpwood (m3/year, u. bark)'"
      ]
     },
     "metadata": {},
     "output_type": "display_data"
    },
    {
     "data": {
      "text/plain": [
       "-0.192355882298762"
      ]
     },
     "metadata": {},
     "output_type": "display_data"
    },
    {
     "data": {
      "text/plain": [
       "'GLOBIOM, total Biomass (m3/year)'"
      ]
     },
     "metadata": {},
     "output_type": "display_data"
    },
    {
     "data": {
      "text/plain": [
       "-0.8569797721755001"
      ]
     },
     "metadata": {},
     "output_type": "display_data"
    },
    {
     "data": {
      "text/plain": [
       "'Maximize netvalue (MAX Millions nok/m2) min'"
      ]
     },
     "metadata": {},
     "output_type": "display_data"
    },
    {
     "data": {
      "text/plain": [
       "0.0"
      ]
     },
     "metadata": {},
     "output_type": "display_data"
    },
    {
     "data": {
      "text/plain": [
       "'Maximize GROT in plots with harvest cost under 150 (maX)'"
      ]
     },
     "metadata": {},
     "output_type": "display_data"
    },
    {
     "data": {
      "text/plain": [
       "0.0"
      ]
     },
     "metadata": {},
     "output_type": "display_data"
    },
    {
     "data": {
      "text/plain": [
       "'Not decreasing area of MiS classified plots (max)'"
      ]
     },
     "metadata": {},
     "output_type": "display_data"
    },
    {
     "data": {
      "text/plain": [
       "0.0"
      ]
     },
     "metadata": {},
     "output_type": "display_data"
    },
    {
     "data": {
      "text/plain": [
       "' Max Co2 storage in wooden products (maximize kt over all years)'"
      ]
     },
     "metadata": {},
     "output_type": "display_data"
    },
    {
     "data": {
      "text/plain": [
       "34378.14454533115"
      ]
     },
     "metadata": {},
     "output_type": "display_data"
    },
    {
     "data": {
      "text/plain": [
       "' Max Co2 uptake in forest'"
      ]
     },
     "metadata": {},
     "output_type": "display_data"
    },
    {
     "data": {
      "text/plain": [
       "-177.11314184189916"
      ]
     },
     "metadata": {},
     "output_type": "display_data"
    },
    {
     "data": {
      "text/plain": [
       "'MinSum city forest (not decreasing)'"
      ]
     },
     "metadata": {},
     "output_type": "display_data"
    },
    {
     "data": {
      "text/plain": [
       "315.7036713999999"
      ]
     },
     "metadata": {},
     "output_type": "display_data"
    },
    {
     "data": {
      "text/plain": [
       "'MAxMin Shanon in plots with larger dbh (not decrease)'"
      ]
     },
     "metadata": {},
     "output_type": "display_data"
    },
    {
     "data": {
      "text/plain": [
       "0.0"
      ]
     },
     "metadata": {},
     "output_type": "display_data"
    },
    {
     "name": "stdout",
     "output_type": "stream",
     "text": [
      "\r",
      " 10%|█         | 1/10 [00:05<00:51,  5.76s/it]"
     ]
    },
    {
     "data": {
      "text/plain": [
       "'Optimizing for GLOBIOM, total Pulpwood (m3/year, u. bark)'"
      ]
     },
     "metadata": {},
     "output_type": "display_data"
    },
    {
     "data": {
      "text/plain": [
       "'Found an optimal solution in 3 seconds'"
      ]
     },
     "metadata": {},
     "output_type": "display_data"
    },
    {
     "data": {
      "text/plain": [
       "'Objective values are:'"
      ]
     },
     "metadata": {},
     "output_type": "display_data"
    },
    {
     "data": {
      "text/plain": [
       "'GLOBIOM, total Sawlogs (m3/year, u. bark)'"
      ]
     },
     "metadata": {},
     "output_type": "display_data"
    },
    {
     "data": {
      "text/plain": [
       "-0.8519474468454835"
      ]
     },
     "metadata": {},
     "output_type": "display_data"
    },
    {
     "data": {
      "text/plain": [
       "'GLOBIOM, total Pulpwood (m3/year, u. bark)'"
      ]
     },
     "metadata": {},
     "output_type": "display_data"
    },
    {
     "data": {
      "text/plain": [
       "0.6671157874680896"
      ]
     },
     "metadata": {},
     "output_type": "display_data"
    },
    {
     "data": {
      "text/plain": [
       "'GLOBIOM, total Biomass (m3/year)'"
      ]
     },
     "metadata": {},
     "output_type": "display_data"
    },
    {
     "data": {
      "text/plain": [
       "-0.8440751944756721"
      ]
     },
     "metadata": {},
     "output_type": "display_data"
    },
    {
     "data": {
      "text/plain": [
       "'Maximize netvalue (MAX Millions nok/m2) min'"
      ]
     },
     "metadata": {},
     "output_type": "display_data"
    },
    {
     "data": {
      "text/plain": [
       "0.0"
      ]
     },
     "metadata": {},
     "output_type": "display_data"
    },
    {
     "data": {
      "text/plain": [
       "'Maximize GROT in plots with harvest cost under 150 (maX)'"
      ]
     },
     "metadata": {},
     "output_type": "display_data"
    },
    {
     "data": {
      "text/plain": [
       "0.0"
      ]
     },
     "metadata": {},
     "output_type": "display_data"
    },
    {
     "data": {
      "text/plain": [
       "'Not decreasing area of MiS classified plots (max)'"
      ]
     },
     "metadata": {},
     "output_type": "display_data"
    },
    {
     "data": {
      "text/plain": [
       "0.0"
      ]
     },
     "metadata": {},
     "output_type": "display_data"
    },
    {
     "data": {
      "text/plain": [
       "' Max Co2 storage in wooden products (maximize kt over all years)'"
      ]
     },
     "metadata": {},
     "output_type": "display_data"
    },
    {
     "data": {
      "text/plain": [
       "43188.98086739789"
      ]
     },
     "metadata": {},
     "output_type": "display_data"
    },
    {
     "data": {
      "text/plain": [
       "' Max Co2 uptake in forest'"
      ]
     },
     "metadata": {},
     "output_type": "display_data"
    },
    {
     "data": {
      "text/plain": [
       "-136.94863204997165"
      ]
     },
     "metadata": {},
     "output_type": "display_data"
    },
    {
     "data": {
      "text/plain": [
       "'MinSum city forest (not decreasing)'"
      ]
     },
     "metadata": {},
     "output_type": "display_data"
    },
    {
     "data": {
      "text/plain": [
       "305.2890878176834"
      ]
     },
     "metadata": {},
     "output_type": "display_data"
    },
    {
     "data": {
      "text/plain": [
       "'MAxMin Shanon in plots with larger dbh (not decrease)'"
      ]
     },
     "metadata": {},
     "output_type": "display_data"
    },
    {
     "data": {
      "text/plain": [
       "0.0"
      ]
     },
     "metadata": {},
     "output_type": "display_data"
    },
    {
     "name": "stdout",
     "output_type": "stream",
     "text": [
      "\r",
      " 20%|██        | 2/10 [00:11<00:46,  5.86s/it]"
     ]
    },
    {
     "data": {
      "text/plain": [
       "'Optimizing for GLOBIOM, total Biomass (m3/year)'"
      ]
     },
     "metadata": {},
     "output_type": "display_data"
    },
    {
     "data": {
      "text/plain": [
       "'Found an optimal solution in 3 seconds'"
      ]
     },
     "metadata": {},
     "output_type": "display_data"
    },
    {
     "data": {
      "text/plain": [
       "'Objective values are:'"
      ]
     },
     "metadata": {},
     "output_type": "display_data"
    },
    {
     "data": {
      "text/plain": [
       "'GLOBIOM, total Sawlogs (m3/year, u. bark)'"
      ]
     },
     "metadata": {},
     "output_type": "display_data"
    },
    {
     "data": {
      "text/plain": [
       "-0.9535017347350925"
      ]
     },
     "metadata": {},
     "output_type": "display_data"
    },
    {
     "data": {
      "text/plain": [
       "'GLOBIOM, total Pulpwood (m3/year, u. bark)'"
      ]
     },
     "metadata": {},
     "output_type": "display_data"
    },
    {
     "data": {
      "text/plain": [
       "-0.5042784008412957"
      ]
     },
     "metadata": {},
     "output_type": "display_data"
    },
    {
     "data": {
      "text/plain": [
       "'GLOBIOM, total Biomass (m3/year)'"
      ]
     },
     "metadata": {},
     "output_type": "display_data"
    },
    {
     "data": {
      "text/plain": [
       "-0.42642007422305034"
      ]
     },
     "metadata": {},
     "output_type": "display_data"
    },
    {
     "data": {
      "text/plain": [
       "'Maximize netvalue (MAX Millions nok/m2) min'"
      ]
     },
     "metadata": {},
     "output_type": "display_data"
    },
    {
     "data": {
      "text/plain": [
       "0.0"
      ]
     },
     "metadata": {},
     "output_type": "display_data"
    },
    {
     "data": {
      "text/plain": [
       "'Maximize GROT in plots with harvest cost under 150 (maX)'"
      ]
     },
     "metadata": {},
     "output_type": "display_data"
    },
    {
     "data": {
      "text/plain": [
       "0.0"
      ]
     },
     "metadata": {},
     "output_type": "display_data"
    },
    {
     "data": {
      "text/plain": [
       "'Not decreasing area of MiS classified plots (max)'"
      ]
     },
     "metadata": {},
     "output_type": "display_data"
    },
    {
     "data": {
      "text/plain": [
       "0.0"
      ]
     },
     "metadata": {},
     "output_type": "display_data"
    },
    {
     "data": {
      "text/plain": [
       "' Max Co2 storage in wooden products (maximize kt over all years)'"
      ]
     },
     "metadata": {},
     "output_type": "display_data"
    },
    {
     "data": {
      "text/plain": [
       "36408.94306278058"
      ]
     },
     "metadata": {},
     "output_type": "display_data"
    },
    {
     "data": {
      "text/plain": [
       "' Max Co2 uptake in forest'"
      ]
     },
     "metadata": {},
     "output_type": "display_data"
    },
    {
     "data": {
      "text/plain": [
       "-105.0285045861463"
      ]
     },
     "metadata": {},
     "output_type": "display_data"
    },
    {
     "data": {
      "text/plain": [
       "'MinSum city forest (not decreasing)'"
      ]
     },
     "metadata": {},
     "output_type": "display_data"
    },
    {
     "data": {
      "text/plain": [
       "284.9714555993133"
      ]
     },
     "metadata": {},
     "output_type": "display_data"
    },
    {
     "data": {
      "text/plain": [
       "'MAxMin Shanon in plots with larger dbh (not decrease)'"
      ]
     },
     "metadata": {},
     "output_type": "display_data"
    },
    {
     "data": {
      "text/plain": [
       "0.0"
      ]
     },
     "metadata": {},
     "output_type": "display_data"
    },
    {
     "name": "stdout",
     "output_type": "stream",
     "text": [
      "\r",
      " 30%|███       | 3/10 [00:18<00:42,  6.05s/it]"
     ]
    },
    {
     "data": {
      "text/plain": [
       "'Optimizing for Maximize netvalue (MAX Millions nok/m2) min'"
      ]
     },
     "metadata": {},
     "output_type": "display_data"
    },
    {
     "data": {
      "text/plain": [
       "'Found an optimal solution in 3 seconds'"
      ]
     },
     "metadata": {},
     "output_type": "display_data"
    },
    {
     "data": {
      "text/plain": [
       "'Objective values are:'"
      ]
     },
     "metadata": {},
     "output_type": "display_data"
    },
    {
     "data": {
      "text/plain": [
       "'GLOBIOM, total Sawlogs (m3/year, u. bark)'"
      ]
     },
     "metadata": {},
     "output_type": "display_data"
    },
    {
     "data": {
      "text/plain": [
       "-0.7674419841577858"
      ]
     },
     "metadata": {},
     "output_type": "display_data"
    },
    {
     "data": {
      "text/plain": [
       "'GLOBIOM, total Pulpwood (m3/year, u. bark)'"
      ]
     },
     "metadata": {},
     "output_type": "display_data"
    },
    {
     "data": {
      "text/plain": [
       "-0.3927492502280425"
      ]
     },
     "metadata": {},
     "output_type": "display_data"
    },
    {
     "data": {
      "text/plain": [
       "'GLOBIOM, total Biomass (m3/year)'"
      ]
     },
     "metadata": {},
     "output_type": "display_data"
    },
    {
     "data": {
      "text/plain": [
       "-0.8841522864339741"
      ]
     },
     "metadata": {},
     "output_type": "display_data"
    },
    {
     "data": {
      "text/plain": [
       "'Maximize netvalue (MAX Millions nok/m2) min'"
      ]
     },
     "metadata": {},
     "output_type": "display_data"
    },
    {
     "data": {
      "text/plain": [
       "4501.22647772364"
      ]
     },
     "metadata": {},
     "output_type": "display_data"
    },
    {
     "data": {
      "text/plain": [
       "'Maximize GROT in plots with harvest cost under 150 (maX)'"
      ]
     },
     "metadata": {},
     "output_type": "display_data"
    },
    {
     "data": {
      "text/plain": [
       "0.0"
      ]
     },
     "metadata": {},
     "output_type": "display_data"
    },
    {
     "data": {
      "text/plain": [
       "'Not decreasing area of MiS classified plots (max)'"
      ]
     },
     "metadata": {},
     "output_type": "display_data"
    },
    {
     "data": {
      "text/plain": [
       "0.0"
      ]
     },
     "metadata": {},
     "output_type": "display_data"
    },
    {
     "data": {
      "text/plain": [
       "' Max Co2 storage in wooden products (maximize kt over all years)'"
      ]
     },
     "metadata": {},
     "output_type": "display_data"
    },
    {
     "data": {
      "text/plain": [
       "30630.755447359632"
      ]
     },
     "metadata": {},
     "output_type": "display_data"
    },
    {
     "data": {
      "text/plain": [
       "' Max Co2 uptake in forest'"
      ]
     },
     "metadata": {},
     "output_type": "display_data"
    },
    {
     "data": {
      "text/plain": [
       "-72.55139646414241"
      ]
     },
     "metadata": {},
     "output_type": "display_data"
    },
    {
     "data": {
      "text/plain": [
       "'MinSum city forest (not decreasing)'"
      ]
     },
     "metadata": {},
     "output_type": "display_data"
    },
    {
     "data": {
      "text/plain": [
       "277.9787803301538"
      ]
     },
     "metadata": {},
     "output_type": "display_data"
    },
    {
     "data": {
      "text/plain": [
       "'MAxMin Shanon in plots with larger dbh (not decrease)'"
      ]
     },
     "metadata": {},
     "output_type": "display_data"
    },
    {
     "data": {
      "text/plain": [
       "0.0"
      ]
     },
     "metadata": {},
     "output_type": "display_data"
    },
    {
     "name": "stdout",
     "output_type": "stream",
     "text": [
      "\r",
      " 40%|████      | 4/10 [00:24<00:36,  6.01s/it]"
     ]
    },
    {
     "data": {
      "text/plain": [
       "'Optimizing for Maximize GROT in plots with harvest cost under 150 (maX)'"
      ]
     },
     "metadata": {},
     "output_type": "display_data"
    },
    {
     "data": {
      "text/plain": [
       "'Found an optimal solution in 3 seconds'"
      ]
     },
     "metadata": {},
     "output_type": "display_data"
    },
    {
     "data": {
      "text/plain": [
       "'Objective values are:'"
      ]
     },
     "metadata": {},
     "output_type": "display_data"
    },
    {
     "data": {
      "text/plain": [
       "'GLOBIOM, total Sawlogs (m3/year, u. bark)'"
      ]
     },
     "metadata": {},
     "output_type": "display_data"
    },
    {
     "data": {
      "text/plain": [
       "-0.8377510188640229"
      ]
     },
     "metadata": {},
     "output_type": "display_data"
    },
    {
     "data": {
      "text/plain": [
       "'GLOBIOM, total Pulpwood (m3/year, u. bark)'"
      ]
     },
     "metadata": {},
     "output_type": "display_data"
    },
    {
     "data": {
      "text/plain": [
       "-0.37815428438540244"
      ]
     },
     "metadata": {},
     "output_type": "display_data"
    },
    {
     "data": {
      "text/plain": [
       "'GLOBIOM, total Biomass (m3/year)'"
      ]
     },
     "metadata": {},
     "output_type": "display_data"
    },
    {
     "data": {
      "text/plain": [
       "-0.7529038798275577"
      ]
     },
     "metadata": {},
     "output_type": "display_data"
    },
    {
     "data": {
      "text/plain": [
       "'Maximize netvalue (MAX Millions nok/m2) min'"
      ]
     },
     "metadata": {},
     "output_type": "display_data"
    },
    {
     "data": {
      "text/plain": [
       "0.0"
      ]
     },
     "metadata": {},
     "output_type": "display_data"
    },
    {
     "data": {
      "text/plain": [
       "'Maximize GROT in plots with harvest cost under 150 (maX)'"
      ]
     },
     "metadata": {},
     "output_type": "display_data"
    },
    {
     "data": {
      "text/plain": [
       "2296.110277084383"
      ]
     },
     "metadata": {},
     "output_type": "display_data"
    },
    {
     "data": {
      "text/plain": [
       "'Not decreasing area of MiS classified plots (max)'"
      ]
     },
     "metadata": {},
     "output_type": "display_data"
    },
    {
     "data": {
      "text/plain": [
       "0.0"
      ]
     },
     "metadata": {},
     "output_type": "display_data"
    },
    {
     "data": {
      "text/plain": [
       "' Max Co2 storage in wooden products (maximize kt over all years)'"
      ]
     },
     "metadata": {},
     "output_type": "display_data"
    },
    {
     "data": {
      "text/plain": [
       "32049.95513811947"
      ]
     },
     "metadata": {},
     "output_type": "display_data"
    },
    {
     "data": {
      "text/plain": [
       "' Max Co2 uptake in forest'"
      ]
     },
     "metadata": {},
     "output_type": "display_data"
    },
    {
     "data": {
      "text/plain": [
       "-38.694067793469806"
      ]
     },
     "metadata": {},
     "output_type": "display_data"
    },
    {
     "data": {
      "text/plain": [
       "'MinSum city forest (not decreasing)'"
      ]
     },
     "metadata": {},
     "output_type": "display_data"
    },
    {
     "data": {
      "text/plain": [
       "255.82913664327333"
      ]
     },
     "metadata": {},
     "output_type": "display_data"
    },
    {
     "data": {
      "text/plain": [
       "'MAxMin Shanon in plots with larger dbh (not decrease)'"
      ]
     },
     "metadata": {},
     "output_type": "display_data"
    },
    {
     "data": {
      "text/plain": [
       "0.0"
      ]
     },
     "metadata": {},
     "output_type": "display_data"
    },
    {
     "name": "stdout",
     "output_type": "stream",
     "text": [
      "\r",
      " 50%|█████     | 5/10 [00:29<00:28,  5.79s/it]"
     ]
    },
    {
     "data": {
      "text/plain": [
       "'Optimizing for Not decreasing area of MiS classified plots (max)'"
      ]
     },
     "metadata": {},
     "output_type": "display_data"
    },
    {
     "data": {
      "text/plain": [
       "'Found an optimal solution in 3 seconds'"
      ]
     },
     "metadata": {},
     "output_type": "display_data"
    },
    {
     "data": {
      "text/plain": [
       "'Objective values are:'"
      ]
     },
     "metadata": {},
     "output_type": "display_data"
    },
    {
     "data": {
      "text/plain": [
       "'GLOBIOM, total Sawlogs (m3/year, u. bark)'"
      ]
     },
     "metadata": {},
     "output_type": "display_data"
    },
    {
     "data": {
      "text/plain": [
       "-0.9039838043478694"
      ]
     },
     "metadata": {},
     "output_type": "display_data"
    },
    {
     "data": {
      "text/plain": [
       "'GLOBIOM, total Pulpwood (m3/year, u. bark)'"
      ]
     },
     "metadata": {},
     "output_type": "display_data"
    },
    {
     "data": {
      "text/plain": [
       "-0.6806766231124342"
      ]
     },
     "metadata": {},
     "output_type": "display_data"
    },
    {
     "data": {
      "text/plain": [
       "'GLOBIOM, total Biomass (m3/year)'"
      ]
     },
     "metadata": {},
     "output_type": "display_data"
    },
    {
     "data": {
      "text/plain": [
       "-0.8346180049731349"
      ]
     },
     "metadata": {},
     "output_type": "display_data"
    },
    {
     "data": {
      "text/plain": [
       "'Maximize netvalue (MAX Millions nok/m2) min'"
      ]
     },
     "metadata": {},
     "output_type": "display_data"
    },
    {
     "data": {
      "text/plain": [
       "0.0"
      ]
     },
     "metadata": {},
     "output_type": "display_data"
    },
    {
     "data": {
      "text/plain": [
       "'Maximize GROT in plots with harvest cost under 150 (maX)'"
      ]
     },
     "metadata": {},
     "output_type": "display_data"
    },
    {
     "data": {
      "text/plain": [
       "0.0"
      ]
     },
     "metadata": {},
     "output_type": "display_data"
    },
    {
     "data": {
      "text/plain": [
       "'Not decreasing area of MiS classified plots (max)'"
      ]
     },
     "metadata": {},
     "output_type": "display_data"
    },
    {
     "data": {
      "text/plain": [
       "0.030196875462940143"
      ]
     },
     "metadata": {},
     "output_type": "display_data"
    },
    {
     "data": {
      "text/plain": [
       "' Max Co2 storage in wooden products (maximize kt over all years)'"
      ]
     },
     "metadata": {},
     "output_type": "display_data"
    },
    {
     "data": {
      "text/plain": [
       "29276.7602698545"
      ]
     },
     "metadata": {},
     "output_type": "display_data"
    },
    {
     "data": {
      "text/plain": [
       "' Max Co2 uptake in forest'"
      ]
     },
     "metadata": {},
     "output_type": "display_data"
    },
    {
     "data": {
      "text/plain": [
       "45.677123300546086"
      ]
     },
     "metadata": {},
     "output_type": "display_data"
    },
    {
     "data": {
      "text/plain": [
       "'MinSum city forest (not decreasing)'"
      ]
     },
     "metadata": {},
     "output_type": "display_data"
    },
    {
     "data": {
      "text/plain": [
       "227.9394104999772"
      ]
     },
     "metadata": {},
     "output_type": "display_data"
    },
    {
     "data": {
      "text/plain": [
       "'MAxMin Shanon in plots with larger dbh (not decrease)'"
      ]
     },
     "metadata": {},
     "output_type": "display_data"
    },
    {
     "data": {
      "text/plain": [
       "0.0"
      ]
     },
     "metadata": {},
     "output_type": "display_data"
    },
    {
     "name": "stdout",
     "output_type": "stream",
     "text": [
      "\r",
      " 60%|██████    | 6/10 [00:35<00:23,  5.77s/it]"
     ]
    },
    {
     "data": {
      "text/plain": [
       "'Optimizing for  Max Co2 storage in wooden products (maximize kt over all years)'"
      ]
     },
     "metadata": {},
     "output_type": "display_data"
    },
    {
     "data": {
      "text/plain": [
       "'Found an optimal solution in 3 seconds'"
      ]
     },
     "metadata": {},
     "output_type": "display_data"
    },
    {
     "data": {
      "text/plain": [
       "'Objective values are:'"
      ]
     },
     "metadata": {},
     "output_type": "display_data"
    },
    {
     "data": {
      "text/plain": [
       "'GLOBIOM, total Sawlogs (m3/year, u. bark)'"
      ]
     },
     "metadata": {},
     "output_type": "display_data"
    },
    {
     "data": {
      "text/plain": [
       "-0.9698536884064589"
      ]
     },
     "metadata": {},
     "output_type": "display_data"
    },
    {
     "data": {
      "text/plain": [
       "'GLOBIOM, total Pulpwood (m3/year, u. bark)'"
      ]
     },
     "metadata": {},
     "output_type": "display_data"
    },
    {
     "data": {
      "text/plain": [
       "-0.801517358309591"
      ]
     },
     "metadata": {},
     "output_type": "display_data"
    },
    {
     "data": {
      "text/plain": [
       "'GLOBIOM, total Biomass (m3/year)'"
      ]
     },
     "metadata": {},
     "output_type": "display_data"
    },
    {
     "data": {
      "text/plain": [
       "-0.9816837472996915"
      ]
     },
     "metadata": {},
     "output_type": "display_data"
    },
    {
     "data": {
      "text/plain": [
       "'Maximize netvalue (MAX Millions nok/m2) min'"
      ]
     },
     "metadata": {},
     "output_type": "display_data"
    },
    {
     "data": {
      "text/plain": [
       "0.0"
      ]
     },
     "metadata": {},
     "output_type": "display_data"
    },
    {
     "data": {
      "text/plain": [
       "'Maximize GROT in plots with harvest cost under 150 (maX)'"
      ]
     },
     "metadata": {},
     "output_type": "display_data"
    },
    {
     "data": {
      "text/plain": [
       "0.0"
      ]
     },
     "metadata": {},
     "output_type": "display_data"
    },
    {
     "data": {
      "text/plain": [
       "'Not decreasing area of MiS classified plots (max)'"
      ]
     },
     "metadata": {},
     "output_type": "display_data"
    },
    {
     "data": {
      "text/plain": [
       "0.0"
      ]
     },
     "metadata": {},
     "output_type": "display_data"
    },
    {
     "data": {
      "text/plain": [
       "' Max Co2 storage in wooden products (maximize kt over all years)'"
      ]
     },
     "metadata": {},
     "output_type": "display_data"
    },
    {
     "data": {
      "text/plain": [
       "66271.92907105492"
      ]
     },
     "metadata": {},
     "output_type": "display_data"
    },
    {
     "data": {
      "text/plain": [
       "' Max Co2 uptake in forest'"
      ]
     },
     "metadata": {},
     "output_type": "display_data"
    },
    {
     "data": {
      "text/plain": [
       "-28.355857585083214"
      ]
     },
     "metadata": {},
     "output_type": "display_data"
    },
    {
     "data": {
      "text/plain": [
       "'MinSum city forest (not decreasing)'"
      ]
     },
     "metadata": {},
     "output_type": "display_data"
    },
    {
     "data": {
      "text/plain": [
       "255.05035400002657"
      ]
     },
     "metadata": {},
     "output_type": "display_data"
    },
    {
     "data": {
      "text/plain": [
       "'MAxMin Shanon in plots with larger dbh (not decrease)'"
      ]
     },
     "metadata": {},
     "output_type": "display_data"
    },
    {
     "data": {
      "text/plain": [
       "0.0"
      ]
     },
     "metadata": {},
     "output_type": "display_data"
    },
    {
     "name": "stdout",
     "output_type": "stream",
     "text": [
      "\r",
      " 70%|███████   | 7/10 [00:40<00:16,  5.62s/it]"
     ]
    },
    {
     "data": {
      "text/plain": [
       "'Optimizing for  Max Co2 uptake in forest'"
      ]
     },
     "metadata": {},
     "output_type": "display_data"
    },
    {
     "data": {
      "text/plain": [
       "'Found an optimal solution in 3 seconds'"
      ]
     },
     "metadata": {},
     "output_type": "display_data"
    },
    {
     "data": {
      "text/plain": [
       "'Objective values are:'"
      ]
     },
     "metadata": {},
     "output_type": "display_data"
    },
    {
     "data": {
      "text/plain": [
       "'GLOBIOM, total Sawlogs (m3/year, u. bark)'"
      ]
     },
     "metadata": {},
     "output_type": "display_data"
    },
    {
     "data": {
      "text/plain": [
       "-0.9996406464314112"
      ]
     },
     "metadata": {},
     "output_type": "display_data"
    },
    {
     "data": {
      "text/plain": [
       "'GLOBIOM, total Pulpwood (m3/year, u. bark)'"
      ]
     },
     "metadata": {},
     "output_type": "display_data"
    },
    {
     "data": {
      "text/plain": [
       "-0.9807998126419114"
      ]
     },
     "metadata": {},
     "output_type": "display_data"
    },
    {
     "data": {
      "text/plain": [
       "'GLOBIOM, total Biomass (m3/year)'"
      ]
     },
     "metadata": {},
     "output_type": "display_data"
    },
    {
     "data": {
      "text/plain": [
       "-0.9982556054862837"
      ]
     },
     "metadata": {},
     "output_type": "display_data"
    },
    {
     "data": {
      "text/plain": [
       "'Maximize netvalue (MAX Millions nok/m2) min'"
      ]
     },
     "metadata": {},
     "output_type": "display_data"
    },
    {
     "data": {
      "text/plain": [
       "-82.63010289558474"
      ]
     },
     "metadata": {},
     "output_type": "display_data"
    },
    {
     "data": {
      "text/plain": [
       "'Maximize GROT in plots with harvest cost under 150 (maX)'"
      ]
     },
     "metadata": {},
     "output_type": "display_data"
    },
    {
     "data": {
      "text/plain": [
       "0.0"
      ]
     },
     "metadata": {},
     "output_type": "display_data"
    },
    {
     "data": {
      "text/plain": [
       "'Not decreasing area of MiS classified plots (max)'"
      ]
     },
     "metadata": {},
     "output_type": "display_data"
    },
    {
     "data": {
      "text/plain": [
       "0.0"
      ]
     },
     "metadata": {},
     "output_type": "display_data"
    },
    {
     "data": {
      "text/plain": [
       "' Max Co2 storage in wooden products (maximize kt over all years)'"
      ]
     },
     "metadata": {},
     "output_type": "display_data"
    },
    {
     "data": {
      "text/plain": [
       "15572.926960805826"
      ]
     },
     "metadata": {},
     "output_type": "display_data"
    },
    {
     "data": {
      "text/plain": [
       "' Max Co2 uptake in forest'"
      ]
     },
     "metadata": {},
     "output_type": "display_data"
    },
    {
     "data": {
      "text/plain": [
       "732.5481830804314"
      ]
     },
     "metadata": {},
     "output_type": "display_data"
    },
    {
     "data": {
      "text/plain": [
       "'MinSum city forest (not decreasing)'"
      ]
     },
     "metadata": {},
     "output_type": "display_data"
    },
    {
     "data": {
      "text/plain": [
       "10.724732199488725"
      ]
     },
     "metadata": {},
     "output_type": "display_data"
    },
    {
     "data": {
      "text/plain": [
       "'MAxMin Shanon in plots with larger dbh (not decrease)'"
      ]
     },
     "metadata": {},
     "output_type": "display_data"
    },
    {
     "data": {
      "text/plain": [
       "0.0"
      ]
     },
     "metadata": {},
     "output_type": "display_data"
    },
    {
     "name": "stdout",
     "output_type": "stream",
     "text": [
      "\r",
      " 80%|████████  | 8/10 [00:45<00:11,  5.58s/it]"
     ]
    },
    {
     "data": {
      "text/plain": [
       "'Optimizing for MinSum city forest (not decreasing)'"
      ]
     },
     "metadata": {},
     "output_type": "display_data"
    },
    {
     "data": {
      "text/plain": [
       "'Found an optimal solution in 3 seconds'"
      ]
     },
     "metadata": {},
     "output_type": "display_data"
    },
    {
     "data": {
      "text/plain": [
       "'Objective values are:'"
      ]
     },
     "metadata": {},
     "output_type": "display_data"
    },
    {
     "data": {
      "text/plain": [
       "'GLOBIOM, total Sawlogs (m3/year, u. bark)'"
      ]
     },
     "metadata": {},
     "output_type": "display_data"
    },
    {
     "data": {
      "text/plain": [
       "-0.9298162854625196"
      ]
     },
     "metadata": {},
     "output_type": "display_data"
    },
    {
     "data": {
      "text/plain": [
       "'GLOBIOM, total Pulpwood (m3/year, u. bark)'"
      ]
     },
     "metadata": {},
     "output_type": "display_data"
    },
    {
     "data": {
      "text/plain": [
       "-0.7256762543250641"
      ]
     },
     "metadata": {},
     "output_type": "display_data"
    },
    {
     "data": {
      "text/plain": [
       "'GLOBIOM, total Biomass (m3/year)'"
      ]
     },
     "metadata": {},
     "output_type": "display_data"
    },
    {
     "data": {
      "text/plain": [
       "-0.9078503590694535"
      ]
     },
     "metadata": {},
     "output_type": "display_data"
    },
    {
     "data": {
      "text/plain": [
       "'Maximize netvalue (MAX Millions nok/m2) min'"
      ]
     },
     "metadata": {},
     "output_type": "display_data"
    },
    {
     "data": {
      "text/plain": [
       "0.0"
      ]
     },
     "metadata": {},
     "output_type": "display_data"
    },
    {
     "data": {
      "text/plain": [
       "'Maximize GROT in plots with harvest cost under 150 (maX)'"
      ]
     },
     "metadata": {},
     "output_type": "display_data"
    },
    {
     "data": {
      "text/plain": [
       "0.0"
      ]
     },
     "metadata": {},
     "output_type": "display_data"
    },
    {
     "data": {
      "text/plain": [
       "'Not decreasing area of MiS classified plots (max)'"
      ]
     },
     "metadata": {},
     "output_type": "display_data"
    },
    {
     "data": {
      "text/plain": [
       "0.0"
      ]
     },
     "metadata": {},
     "output_type": "display_data"
    },
    {
     "data": {
      "text/plain": [
       "' Max Co2 storage in wooden products (maximize kt over all years)'"
      ]
     },
     "metadata": {},
     "output_type": "display_data"
    },
    {
     "data": {
      "text/plain": [
       "27096.212000669733"
      ]
     },
     "metadata": {},
     "output_type": "display_data"
    },
    {
     "data": {
      "text/plain": [
       "' Max Co2 uptake in forest'"
      ]
     },
     "metadata": {},
     "output_type": "display_data"
    },
    {
     "data": {
      "text/plain": [
       "125.39109254487751"
      ]
     },
     "metadata": {},
     "output_type": "display_data"
    },
    {
     "data": {
      "text/plain": [
       "'MinSum city forest (not decreasing)'"
      ]
     },
     "metadata": {},
     "output_type": "display_data"
    },
    {
     "data": {
      "text/plain": [
       "0.0"
      ]
     },
     "metadata": {},
     "output_type": "display_data"
    },
    {
     "data": {
      "text/plain": [
       "'MAxMin Shanon in plots with larger dbh (not decrease)'"
      ]
     },
     "metadata": {},
     "output_type": "display_data"
    },
    {
     "data": {
      "text/plain": [
       "0.0"
      ]
     },
     "metadata": {},
     "output_type": "display_data"
    },
    {
     "name": "stdout",
     "output_type": "stream",
     "text": [
      "\r",
      " 90%|█████████ | 9/10 [00:51<00:05,  5.51s/it]"
     ]
    },
    {
     "data": {
      "text/plain": [
       "'Optimizing for MAxMin Shanon in plots with larger dbh (not decrease)'"
      ]
     },
     "metadata": {},
     "output_type": "display_data"
    },
    {
     "data": {
      "text/plain": [
       "'Found an optimal solution in 5 seconds'"
      ]
     },
     "metadata": {},
     "output_type": "display_data"
    },
    {
     "data": {
      "text/plain": [
       "'Objective values are:'"
      ]
     },
     "metadata": {},
     "output_type": "display_data"
    },
    {
     "data": {
      "text/plain": [
       "'GLOBIOM, total Sawlogs (m3/year, u. bark)'"
      ]
     },
     "metadata": {},
     "output_type": "display_data"
    },
    {
     "data": {
      "text/plain": [
       "-0.9167605292206921"
      ]
     },
     "metadata": {},
     "output_type": "display_data"
    },
    {
     "data": {
      "text/plain": [
       "'GLOBIOM, total Pulpwood (m3/year, u. bark)'"
      ]
     },
     "metadata": {},
     "output_type": "display_data"
    },
    {
     "data": {
      "text/plain": [
       "-0.6663271426020096"
      ]
     },
     "metadata": {},
     "output_type": "display_data"
    },
    {
     "data": {
      "text/plain": [
       "'GLOBIOM, total Biomass (m3/year)'"
      ]
     },
     "metadata": {},
     "output_type": "display_data"
    },
    {
     "data": {
      "text/plain": [
       "-0.9230295675868696"
      ]
     },
     "metadata": {},
     "output_type": "display_data"
    },
    {
     "data": {
      "text/plain": [
       "'Maximize netvalue (MAX Millions nok/m2) min'"
      ]
     },
     "metadata": {},
     "output_type": "display_data"
    },
    {
     "data": {
      "text/plain": [
       "0.0"
      ]
     },
     "metadata": {},
     "output_type": "display_data"
    },
    {
     "data": {
      "text/plain": [
       "'Maximize GROT in plots with harvest cost under 150 (maX)'"
      ]
     },
     "metadata": {},
     "output_type": "display_data"
    },
    {
     "data": {
      "text/plain": [
       "0.0"
      ]
     },
     "metadata": {},
     "output_type": "display_data"
    },
    {
     "data": {
      "text/plain": [
       "'Not decreasing area of MiS classified plots (max)'"
      ]
     },
     "metadata": {},
     "output_type": "display_data"
    },
    {
     "data": {
      "text/plain": [
       "0.0"
      ]
     },
     "metadata": {},
     "output_type": "display_data"
    },
    {
     "data": {
      "text/plain": [
       "' Max Co2 storage in wooden products (maximize kt over all years)'"
      ]
     },
     "metadata": {},
     "output_type": "display_data"
    },
    {
     "data": {
      "text/plain": [
       "24025.799956564115"
      ]
     },
     "metadata": {},
     "output_type": "display_data"
    },
    {
     "data": {
      "text/plain": [
       "' Max Co2 uptake in forest'"
      ]
     },
     "metadata": {},
     "output_type": "display_data"
    },
    {
     "data": {
      "text/plain": [
       "287.9620618808333"
      ]
     },
     "metadata": {},
     "output_type": "display_data"
    },
    {
     "data": {
      "text/plain": [
       "'MinSum city forest (not decreasing)'"
      ]
     },
     "metadata": {},
     "output_type": "display_data"
    },
    {
     "data": {
      "text/plain": [
       "110.0411598"
      ]
     },
     "metadata": {},
     "output_type": "display_data"
    },
    {
     "data": {
      "text/plain": [
       "'MAxMin Shanon in plots with larger dbh (not decrease)'"
      ]
     },
     "metadata": {},
     "output_type": "display_data"
    },
    {
     "data": {
      "text/plain": [
       "0.03637947008037089"
      ]
     },
     "metadata": {},
     "output_type": "display_data"
    },
    {
     "name": "stdout",
     "output_type": "stream",
     "text": [
      "100%|██████████| 10/10 [00:58<00:00,  5.85s/it]\n",
      "CPU times: user 48.8 s, sys: 4.91 s, total: 53.7 s\n",
      "Wall time: 58.5 s\n"
     ]
    }
   ],
   "source": [
    "%%time\n",
    "mfo.calculateObjectiveRanges(debug=True)"
   ]
  },
  {
   "cell_type": "code",
   "execution_count": 35,
   "metadata": {},
   "outputs": [
    {
     "data": {
      "text/plain": [
       "{'Total_Harvested_V_log_GLOBIOM': (-0.9996406464314112, -0.6748014954544629),\n",
       " 'Total_Harvested_V_pulp_GLOBIOM': (-0.9807998126419114, 0.6671157874680896),\n",
       " 'Total_Biomass_GLOBIOM': (-0.9982556054862837, -0.42642007422305034),\n",
       " 'harvest_netvalue_Mnok_min': (-82.63010289558474, 4501.22647772364),\n",
       " 'GROTIncreaseInHarvCost150': (0.0, 2296.110277084383),\n",
       " 'MiSMaxMin': (0.0, 0.030196875462940143),\n",
       " 'CO2_HWP_kt': (15572.926960805826, 66271.92907105492),\n",
       " 'CO2_in_forest': (-177.11314184189916, 732.5481830804314),\n",
       " 'harvest_in_cityForest': (0.0, 315.7036713999999),\n",
       " 'ShannonIncrease': (0.0, 0.03637947008037089)}"
      ]
     },
     "execution_count": 35,
     "metadata": {},
     "output_type": "execute_result"
    }
   ],
   "source": [
    "mfo.objectiveRanges"
   ]
  },
  {
   "cell_type": "markdown",
   "metadata": {},
   "source": [
    "## Show GUI"
   ]
  },
  {
   "cell_type": "markdown",
   "metadata": {},
   "source": [
    "- If \"Enabled constraints\" should be considered, start with ticking box \"NO ClearCut on...\" and push \"Change constraints\"\n",
    "- Epsilon constraints are only considered if sliders are moved and button \"Set epsilon constraints\" is pushed\n",
    "- By pushing \"OPTIMIZE\" an optimal solution under the given constraints and reference points is searched\n",
    "\n",
    "<b>SEE example figure below for scenario BES</b>"
   ]
  },
  {
   "cell_type": "markdown",
   "metadata": {},
   "source": [
    "![image](./NORGUIExample.png)"
   ]
  },
  {
   "cell_type": "code",
   "execution_count": 36,
   "metadata": {
    "scrolled": false
   },
   "outputs": [
    {
     "data": {
      "text/html": [
       "<style>\n",
       "            .widget-label { min-width: 60% !important; }\n",
       "        </style>"
      ],
      "text/plain": [
       "<IPython.core.display.HTML object>"
      ]
     },
     "metadata": {},
     "output_type": "display_data"
    },
    {
     "data": {
      "text/html": [
       "<h2>Epsilon constraint values</h2>"
      ],
      "text/plain": [
       "<IPython.core.display.HTML object>"
      ]
     },
     "metadata": {},
     "output_type": "display_data"
    },
    {
     "data": {
      "application/vnd.jupyter.widget-view+json": {
       "model_id": "5beefc5982d04164991c4c5bdd5e2160",
       "version_major": 2,
       "version_minor": 0
      },
      "text/plain": [
       "interactive(children=(FloatSlider(value=-0.9996406464314112, description='GLOBIOM, total Sawlogs (m3/year, u. …"
      ]
     },
     "metadata": {},
     "output_type": "display_data"
    },
    {
     "data": {
      "text/html": [
       "<h2>Reference point</h2>"
      ],
      "text/plain": [
       "<IPython.core.display.HTML object>"
      ]
     },
     "metadata": {},
     "output_type": "display_data"
    },
    {
     "data": {
      "application/vnd.jupyter.widget-view+json": {
       "model_id": "ac93888cb5f8414ea8f5c20cb1664470",
       "version_major": 2,
       "version_minor": 0
      },
      "text/plain": [
       "interactive(children=(FloatSlider(value=-0.8372210709429371, description='GLOBIOM, total Sawlogs (m3/year, u. …"
      ]
     },
     "metadata": {},
     "output_type": "display_data"
    },
    {
     "data": {
      "text/html": [
       "<h2>Enabled constraints</h2>"
      ],
      "text/plain": [
       "<IPython.core.display.HTML object>"
      ]
     },
     "metadata": {},
     "output_type": "display_data"
    },
    {
     "data": {
      "application/vnd.jupyter.widget-view+json": {
       "model_id": "4886ef1ca5d548bfbbe6341fd19c1d90",
       "version_major": 2,
       "version_minor": 0
      },
      "text/plain": [
       "interactive(children=(Checkbox(value=False, description='Max harvest reduction 10%'), Checkbox(value=False, de…"
      ]
     },
     "metadata": {},
     "output_type": "display_data"
    },
    {
     "data": {
      "application/vnd.jupyter.widget-view+json": {
       "model_id": "fb12093013ff4554a064fa2c15c0d0bf",
       "version_major": 2,
       "version_minor": 0
      },
      "text/plain": [
       "Button(description='Print solution', style=ButtonStyle())"
      ]
     },
     "metadata": {},
     "output_type": "display_data"
    }
   ],
   "source": [
    "mfo.showGUI(debug=True)"
   ]
  },
  {
   "cell_type": "markdown",
   "metadata": {},
   "source": [
    "## Visualization of optimal solution"
   ]
  },
  {
   "cell_type": "code",
   "execution_count": 31,
   "metadata": {},
   "outputs": [],
   "source": [
    "regimeAmounts = {regime:0 for regime in mfo.regimes}\n",
    "for key in mfo.regimesDecision.keys():\n",
    "    regimeAmounts[key[1]] +=mfo.regimesDecision[key].solution_value()*mfo.standAreas.loc[key[0],\"tsd_ha2total\"]/mfo.standAreas[\"tsd_ha2total\"].sum()"
   ]
  },
  {
   "cell_type": "code",
   "execution_count": 32,
   "metadata": {
    "scrolled": false
   },
   "outputs": [
    {
     "name": "stdout",
     "output_type": "stream",
     "text": [
      "Populating the interactive namespace from numpy and matplotlib\n"
     ]
    }
   ],
   "source": [
    "%pylab notebook"
   ]
  },
  {
   "cell_type": "code",
   "execution_count": 33,
   "metadata": {
    "scrolled": true
   },
   "outputs": [
    {
     "data": {
      "text/plain": [
       "[0.13082177318901816,\n",
       " 0.0052273564436247045,\n",
       " 0.004917918367676102,\n",
       " 0.007178560478615341,\n",
       " 0.004971712084270928,\n",
       " 0.007285287437864996,\n",
       " 0.004723181642384283,\n",
       " 0.005922513597040884,\n",
       " 0.0,\n",
       " 0.0,\n",
       " 0.05388322627079394,\n",
       " 0.017346819144536705,\n",
       " 0.001384831300845438,\n",
       " 0.0003734193898753921,\n",
       " 0.0,\n",
       " 0.0005320472299081637,\n",
       " 0.00026631371170104587,\n",
       " 0.002663137117010458,\n",
       " 0.0015978822702062746,\n",
       " 0.18253554135642217,\n",
       " 0.0011795057065446353,\n",
       " 0.005839577656109035,\n",
       " 0.008162012170434243,\n",
       " 0.004533086493004991,\n",
       " 0.005881977615818846,\n",
       " 0.004789845626396437,\n",
       " 0.007536089637910056,\n",
       " 0.0,\n",
       " 0.0015978822702062746,\n",
       " 0.04845365181767395,\n",
       " 0.001065254846804183,\n",
       " 0.0010652548468041833,\n",
       " 0.0005326274234020914,\n",
       " 0.0,\n",
       " 0.0006481541172473296,\n",
       " 0.0009497281529589449,\n",
       " 0.0019174587242475297,\n",
       " 0.001065254846804183,\n",
       " 0.13617263083006573,\n",
       " 0.11860415131406933,\n",
       " 0.06587388869348457,\n",
       " 0.019567086728530185,\n",
       " 0.007727223484376527,\n",
       " 0.0011717803314846014,\n",
       " 0.0004261019387216733,\n",
       " 0.0004727291490442921,\n",
       " 0.0005326274234020915,\n",
       " 0.001065254846804183,\n",
       " 0.0015978822702062746,\n",
       " 0.0,\n",
       " 0.0,\n",
       " 0.002396823405309412,\n",
       " 0.0007264062212588647,\n",
       " 0.0021158794455425297,\n",
       " 0.003549229782862587,\n",
       " 0.001547271888271932,\n",
       " 0.001445879598853523,\n",
       " 0.00216082036598409,\n",
       " 0.001065254846804183,\n",
       " 0.0026631371170104576,\n",
       " 0.0068736750943386785,\n",
       " 0.001970721466587739,\n",
       " 0.0006529402700187971,\n",
       " 0.0,\n",
       " 0.0,\n",
       " 0.0005925256977598908,\n",
       " 0.0,\n",
       " 0.0,\n",
       " 0.0,\n",
       " 0.0015978822702062746,\n",
       " 0.006701326003683892,\n",
       " 0.0017004273619345084,\n",
       " 0.002014819020025914,\n",
       " 0.0011589982684086027,\n",
       " 0.0018310226179739236,\n",
       " 0.00305986066578513,\n",
       " 0.0024404879064834515,\n",
       " 0.0,\n",
       " 0.0,\n",
       " 0.0005326274234020915,\n",
       " 0.001065254846804183,\n",
       " 0.001285508382565995,\n",
       " 0.0012721970813450172,\n",
       " 0.0013304747269242557,\n",
       " 0.001065254846804183,\n",
       " 0.0005326274234020915,\n",
       " 0.0007456783927629281,\n",
       " 0.008149199578052003,\n",
       " 0.0006751351510439841,\n",
       " 0.001065254846804183,\n",
       " 0.001065254846804183,\n",
       " 0.0,\n",
       " 0.0,\n",
       " 0.001065254846804183,\n",
       " 0.0,\n",
       " 0.0,\n",
       " 0.025140014384578732,\n",
       " 0.013102634615691458,\n",
       " 0.01358199929675334]"
      ]
     },
     "execution_count": 33,
     "metadata": {},
     "output_type": "execute_result"
    }
   ],
   "source": [
    "[val for val in regimeAmounts.values()]"
   ]
  },
  {
   "cell_type": "code",
   "execution_count": 34,
   "metadata": {
    "scrolled": false
   },
   "outputs": [
    {
     "data": {
      "application/javascript": [
       "/* Put everything inside the global mpl namespace */\n",
       "window.mpl = {};\n",
       "\n",
       "\n",
       "mpl.get_websocket_type = function() {\n",
       "    if (typeof(WebSocket) !== 'undefined') {\n",
       "        return WebSocket;\n",
       "    } else if (typeof(MozWebSocket) !== 'undefined') {\n",
       "        return MozWebSocket;\n",
       "    } else {\n",
       "        alert('Your browser does not have WebSocket support. ' +\n",
       "              'Please try Chrome, Safari or Firefox ≥ 6. ' +\n",
       "              'Firefox 4 and 5 are also supported but you ' +\n",
       "              'have to enable WebSockets in about:config.');\n",
       "    };\n",
       "}\n",
       "\n",
       "mpl.figure = function(figure_id, websocket, ondownload, parent_element) {\n",
       "    this.id = figure_id;\n",
       "\n",
       "    this.ws = websocket;\n",
       "\n",
       "    this.supports_binary = (this.ws.binaryType != undefined);\n",
       "\n",
       "    if (!this.supports_binary) {\n",
       "        var warnings = document.getElementById(\"mpl-warnings\");\n",
       "        if (warnings) {\n",
       "            warnings.style.display = 'block';\n",
       "            warnings.textContent = (\n",
       "                \"This browser does not support binary websocket messages. \" +\n",
       "                    \"Performance may be slow.\");\n",
       "        }\n",
       "    }\n",
       "\n",
       "    this.imageObj = new Image();\n",
       "\n",
       "    this.context = undefined;\n",
       "    this.message = undefined;\n",
       "    this.canvas = undefined;\n",
       "    this.rubberband_canvas = undefined;\n",
       "    this.rubberband_context = undefined;\n",
       "    this.format_dropdown = undefined;\n",
       "\n",
       "    this.image_mode = 'full';\n",
       "\n",
       "    this.root = $('<div/>');\n",
       "    this._root_extra_style(this.root)\n",
       "    this.root.attr('style', 'display: inline-block');\n",
       "\n",
       "    $(parent_element).append(this.root);\n",
       "\n",
       "    this._init_header(this);\n",
       "    this._init_canvas(this);\n",
       "    this._init_toolbar(this);\n",
       "\n",
       "    var fig = this;\n",
       "\n",
       "    this.waiting = false;\n",
       "\n",
       "    this.ws.onopen =  function () {\n",
       "            fig.send_message(\"supports_binary\", {value: fig.supports_binary});\n",
       "            fig.send_message(\"send_image_mode\", {});\n",
       "            if (mpl.ratio != 1) {\n",
       "                fig.send_message(\"set_dpi_ratio\", {'dpi_ratio': mpl.ratio});\n",
       "            }\n",
       "            fig.send_message(\"refresh\", {});\n",
       "        }\n",
       "\n",
       "    this.imageObj.onload = function() {\n",
       "            if (fig.image_mode == 'full') {\n",
       "                // Full images could contain transparency (where diff images\n",
       "                // almost always do), so we need to clear the canvas so that\n",
       "                // there is no ghosting.\n",
       "                fig.context.clearRect(0, 0, fig.canvas.width, fig.canvas.height);\n",
       "            }\n",
       "            fig.context.drawImage(fig.imageObj, 0, 0);\n",
       "        };\n",
       "\n",
       "    this.imageObj.onunload = function() {\n",
       "        fig.ws.close();\n",
       "    }\n",
       "\n",
       "    this.ws.onmessage = this._make_on_message_function(this);\n",
       "\n",
       "    this.ondownload = ondownload;\n",
       "}\n",
       "\n",
       "mpl.figure.prototype._init_header = function() {\n",
       "    var titlebar = $(\n",
       "        '<div class=\"ui-dialog-titlebar ui-widget-header ui-corner-all ' +\n",
       "        'ui-helper-clearfix\"/>');\n",
       "    var titletext = $(\n",
       "        '<div class=\"ui-dialog-title\" style=\"width: 100%; ' +\n",
       "        'text-align: center; padding: 3px;\"/>');\n",
       "    titlebar.append(titletext)\n",
       "    this.root.append(titlebar);\n",
       "    this.header = titletext[0];\n",
       "}\n",
       "\n",
       "\n",
       "\n",
       "mpl.figure.prototype._canvas_extra_style = function(canvas_div) {\n",
       "\n",
       "}\n",
       "\n",
       "\n",
       "mpl.figure.prototype._root_extra_style = function(canvas_div) {\n",
       "\n",
       "}\n",
       "\n",
       "mpl.figure.prototype._init_canvas = function() {\n",
       "    var fig = this;\n",
       "\n",
       "    var canvas_div = $('<div/>');\n",
       "\n",
       "    canvas_div.attr('style', 'position: relative; clear: both; outline: 0');\n",
       "\n",
       "    function canvas_keyboard_event(event) {\n",
       "        return fig.key_event(event, event['data']);\n",
       "    }\n",
       "\n",
       "    canvas_div.keydown('key_press', canvas_keyboard_event);\n",
       "    canvas_div.keyup('key_release', canvas_keyboard_event);\n",
       "    this.canvas_div = canvas_div\n",
       "    this._canvas_extra_style(canvas_div)\n",
       "    this.root.append(canvas_div);\n",
       "\n",
       "    var canvas = $('<canvas/>');\n",
       "    canvas.addClass('mpl-canvas');\n",
       "    canvas.attr('style', \"left: 0; top: 0; z-index: 0; outline: 0\")\n",
       "\n",
       "    this.canvas = canvas[0];\n",
       "    this.context = canvas[0].getContext(\"2d\");\n",
       "\n",
       "    var backingStore = this.context.backingStorePixelRatio ||\n",
       "\tthis.context.webkitBackingStorePixelRatio ||\n",
       "\tthis.context.mozBackingStorePixelRatio ||\n",
       "\tthis.context.msBackingStorePixelRatio ||\n",
       "\tthis.context.oBackingStorePixelRatio ||\n",
       "\tthis.context.backingStorePixelRatio || 1;\n",
       "\n",
       "    mpl.ratio = (window.devicePixelRatio || 1) / backingStore;\n",
       "\n",
       "    var rubberband = $('<canvas/>');\n",
       "    rubberband.attr('style', \"position: absolute; left: 0; top: 0; z-index: 1;\")\n",
       "\n",
       "    var pass_mouse_events = true;\n",
       "\n",
       "    canvas_div.resizable({\n",
       "        start: function(event, ui) {\n",
       "            pass_mouse_events = false;\n",
       "        },\n",
       "        resize: function(event, ui) {\n",
       "            fig.request_resize(ui.size.width, ui.size.height);\n",
       "        },\n",
       "        stop: function(event, ui) {\n",
       "            pass_mouse_events = true;\n",
       "            fig.request_resize(ui.size.width, ui.size.height);\n",
       "        },\n",
       "    });\n",
       "\n",
       "    function mouse_event_fn(event) {\n",
       "        if (pass_mouse_events)\n",
       "            return fig.mouse_event(event, event['data']);\n",
       "    }\n",
       "\n",
       "    rubberband.mousedown('button_press', mouse_event_fn);\n",
       "    rubberband.mouseup('button_release', mouse_event_fn);\n",
       "    // Throttle sequential mouse events to 1 every 20ms.\n",
       "    rubberband.mousemove('motion_notify', mouse_event_fn);\n",
       "\n",
       "    rubberband.mouseenter('figure_enter', mouse_event_fn);\n",
       "    rubberband.mouseleave('figure_leave', mouse_event_fn);\n",
       "\n",
       "    canvas_div.on(\"wheel\", function (event) {\n",
       "        event = event.originalEvent;\n",
       "        event['data'] = 'scroll'\n",
       "        if (event.deltaY < 0) {\n",
       "            event.step = 1;\n",
       "        } else {\n",
       "            event.step = -1;\n",
       "        }\n",
       "        mouse_event_fn(event);\n",
       "    });\n",
       "\n",
       "    canvas_div.append(canvas);\n",
       "    canvas_div.append(rubberband);\n",
       "\n",
       "    this.rubberband = rubberband;\n",
       "    this.rubberband_canvas = rubberband[0];\n",
       "    this.rubberband_context = rubberband[0].getContext(\"2d\");\n",
       "    this.rubberband_context.strokeStyle = \"#000000\";\n",
       "\n",
       "    this._resize_canvas = function(width, height) {\n",
       "        // Keep the size of the canvas, canvas container, and rubber band\n",
       "        // canvas in synch.\n",
       "        canvas_div.css('width', width)\n",
       "        canvas_div.css('height', height)\n",
       "\n",
       "        canvas.attr('width', width * mpl.ratio);\n",
       "        canvas.attr('height', height * mpl.ratio);\n",
       "        canvas.attr('style', 'width: ' + width + 'px; height: ' + height + 'px;');\n",
       "\n",
       "        rubberband.attr('width', width);\n",
       "        rubberband.attr('height', height);\n",
       "    }\n",
       "\n",
       "    // Set the figure to an initial 600x600px, this will subsequently be updated\n",
       "    // upon first draw.\n",
       "    this._resize_canvas(600, 600);\n",
       "\n",
       "    // Disable right mouse context menu.\n",
       "    $(this.rubberband_canvas).bind(\"contextmenu\",function(e){\n",
       "        return false;\n",
       "    });\n",
       "\n",
       "    function set_focus () {\n",
       "        canvas.focus();\n",
       "        canvas_div.focus();\n",
       "    }\n",
       "\n",
       "    window.setTimeout(set_focus, 100);\n",
       "}\n",
       "\n",
       "mpl.figure.prototype._init_toolbar = function() {\n",
       "    var fig = this;\n",
       "\n",
       "    var nav_element = $('<div/>');\n",
       "    nav_element.attr('style', 'width: 100%');\n",
       "    this.root.append(nav_element);\n",
       "\n",
       "    // Define a callback function for later on.\n",
       "    function toolbar_event(event) {\n",
       "        return fig.toolbar_button_onclick(event['data']);\n",
       "    }\n",
       "    function toolbar_mouse_event(event) {\n",
       "        return fig.toolbar_button_onmouseover(event['data']);\n",
       "    }\n",
       "\n",
       "    for(var toolbar_ind in mpl.toolbar_items) {\n",
       "        var name = mpl.toolbar_items[toolbar_ind][0];\n",
       "        var tooltip = mpl.toolbar_items[toolbar_ind][1];\n",
       "        var image = mpl.toolbar_items[toolbar_ind][2];\n",
       "        var method_name = mpl.toolbar_items[toolbar_ind][3];\n",
       "\n",
       "        if (!name) {\n",
       "            // put a spacer in here.\n",
       "            continue;\n",
       "        }\n",
       "        var button = $('<button/>');\n",
       "        button.addClass('ui-button ui-widget ui-state-default ui-corner-all ' +\n",
       "                        'ui-button-icon-only');\n",
       "        button.attr('role', 'button');\n",
       "        button.attr('aria-disabled', 'false');\n",
       "        button.click(method_name, toolbar_event);\n",
       "        button.mouseover(tooltip, toolbar_mouse_event);\n",
       "\n",
       "        var icon_img = $('<span/>');\n",
       "        icon_img.addClass('ui-button-icon-primary ui-icon');\n",
       "        icon_img.addClass(image);\n",
       "        icon_img.addClass('ui-corner-all');\n",
       "\n",
       "        var tooltip_span = $('<span/>');\n",
       "        tooltip_span.addClass('ui-button-text');\n",
       "        tooltip_span.html(tooltip);\n",
       "\n",
       "        button.append(icon_img);\n",
       "        button.append(tooltip_span);\n",
       "\n",
       "        nav_element.append(button);\n",
       "    }\n",
       "\n",
       "    var fmt_picker_span = $('<span/>');\n",
       "\n",
       "    var fmt_picker = $('<select/>');\n",
       "    fmt_picker.addClass('mpl-toolbar-option ui-widget ui-widget-content');\n",
       "    fmt_picker_span.append(fmt_picker);\n",
       "    nav_element.append(fmt_picker_span);\n",
       "    this.format_dropdown = fmt_picker[0];\n",
       "\n",
       "    for (var ind in mpl.extensions) {\n",
       "        var fmt = mpl.extensions[ind];\n",
       "        var option = $(\n",
       "            '<option/>', {selected: fmt === mpl.default_extension}).html(fmt);\n",
       "        fmt_picker.append(option);\n",
       "    }\n",
       "\n",
       "    // Add hover states to the ui-buttons\n",
       "    $( \".ui-button\" ).hover(\n",
       "        function() { $(this).addClass(\"ui-state-hover\");},\n",
       "        function() { $(this).removeClass(\"ui-state-hover\");}\n",
       "    );\n",
       "\n",
       "    var status_bar = $('<span class=\"mpl-message\"/>');\n",
       "    nav_element.append(status_bar);\n",
       "    this.message = status_bar[0];\n",
       "}\n",
       "\n",
       "mpl.figure.prototype.request_resize = function(x_pixels, y_pixels) {\n",
       "    // Request matplotlib to resize the figure. Matplotlib will then trigger a resize in the client,\n",
       "    // which will in turn request a refresh of the image.\n",
       "    this.send_message('resize', {'width': x_pixels, 'height': y_pixels});\n",
       "}\n",
       "\n",
       "mpl.figure.prototype.send_message = function(type, properties) {\n",
       "    properties['type'] = type;\n",
       "    properties['figure_id'] = this.id;\n",
       "    this.ws.send(JSON.stringify(properties));\n",
       "}\n",
       "\n",
       "mpl.figure.prototype.send_draw_message = function() {\n",
       "    if (!this.waiting) {\n",
       "        this.waiting = true;\n",
       "        this.ws.send(JSON.stringify({type: \"draw\", figure_id: this.id}));\n",
       "    }\n",
       "}\n",
       "\n",
       "\n",
       "mpl.figure.prototype.handle_save = function(fig, msg) {\n",
       "    var format_dropdown = fig.format_dropdown;\n",
       "    var format = format_dropdown.options[format_dropdown.selectedIndex].value;\n",
       "    fig.ondownload(fig, format);\n",
       "}\n",
       "\n",
       "\n",
       "mpl.figure.prototype.handle_resize = function(fig, msg) {\n",
       "    var size = msg['size'];\n",
       "    if (size[0] != fig.canvas.width || size[1] != fig.canvas.height) {\n",
       "        fig._resize_canvas(size[0], size[1]);\n",
       "        fig.send_message(\"refresh\", {});\n",
       "    };\n",
       "}\n",
       "\n",
       "mpl.figure.prototype.handle_rubberband = function(fig, msg) {\n",
       "    var x0 = msg['x0'] / mpl.ratio;\n",
       "    var y0 = (fig.canvas.height - msg['y0']) / mpl.ratio;\n",
       "    var x1 = msg['x1'] / mpl.ratio;\n",
       "    var y1 = (fig.canvas.height - msg['y1']) / mpl.ratio;\n",
       "    x0 = Math.floor(x0) + 0.5;\n",
       "    y0 = Math.floor(y0) + 0.5;\n",
       "    x1 = Math.floor(x1) + 0.5;\n",
       "    y1 = Math.floor(y1) + 0.5;\n",
       "    var min_x = Math.min(x0, x1);\n",
       "    var min_y = Math.min(y0, y1);\n",
       "    var width = Math.abs(x1 - x0);\n",
       "    var height = Math.abs(y1 - y0);\n",
       "\n",
       "    fig.rubberband_context.clearRect(\n",
       "        0, 0, fig.canvas.width / mpl.ratio, fig.canvas.height / mpl.ratio);\n",
       "\n",
       "    fig.rubberband_context.strokeRect(min_x, min_y, width, height);\n",
       "}\n",
       "\n",
       "mpl.figure.prototype.handle_figure_label = function(fig, msg) {\n",
       "    // Updates the figure title.\n",
       "    fig.header.textContent = msg['label'];\n",
       "}\n",
       "\n",
       "mpl.figure.prototype.handle_cursor = function(fig, msg) {\n",
       "    var cursor = msg['cursor'];\n",
       "    switch(cursor)\n",
       "    {\n",
       "    case 0:\n",
       "        cursor = 'pointer';\n",
       "        break;\n",
       "    case 1:\n",
       "        cursor = 'default';\n",
       "        break;\n",
       "    case 2:\n",
       "        cursor = 'crosshair';\n",
       "        break;\n",
       "    case 3:\n",
       "        cursor = 'move';\n",
       "        break;\n",
       "    }\n",
       "    fig.rubberband_canvas.style.cursor = cursor;\n",
       "}\n",
       "\n",
       "mpl.figure.prototype.handle_message = function(fig, msg) {\n",
       "    fig.message.textContent = msg['message'];\n",
       "}\n",
       "\n",
       "mpl.figure.prototype.handle_draw = function(fig, msg) {\n",
       "    // Request the server to send over a new figure.\n",
       "    fig.send_draw_message();\n",
       "}\n",
       "\n",
       "mpl.figure.prototype.handle_image_mode = function(fig, msg) {\n",
       "    fig.image_mode = msg['mode'];\n",
       "}\n",
       "\n",
       "mpl.figure.prototype.updated_canvas_event = function() {\n",
       "    // Called whenever the canvas gets updated.\n",
       "    this.send_message(\"ack\", {});\n",
       "}\n",
       "\n",
       "// A function to construct a web socket function for onmessage handling.\n",
       "// Called in the figure constructor.\n",
       "mpl.figure.prototype._make_on_message_function = function(fig) {\n",
       "    return function socket_on_message(evt) {\n",
       "        if (evt.data instanceof Blob) {\n",
       "            /* FIXME: We get \"Resource interpreted as Image but\n",
       "             * transferred with MIME type text/plain:\" errors on\n",
       "             * Chrome.  But how to set the MIME type?  It doesn't seem\n",
       "             * to be part of the websocket stream */\n",
       "            evt.data.type = \"image/png\";\n",
       "\n",
       "            /* Free the memory for the previous frames */\n",
       "            if (fig.imageObj.src) {\n",
       "                (window.URL || window.webkitURL).revokeObjectURL(\n",
       "                    fig.imageObj.src);\n",
       "            }\n",
       "\n",
       "            fig.imageObj.src = (window.URL || window.webkitURL).createObjectURL(\n",
       "                evt.data);\n",
       "            fig.updated_canvas_event();\n",
       "            fig.waiting = false;\n",
       "            return;\n",
       "        }\n",
       "        else if (typeof evt.data === 'string' && evt.data.slice(0, 21) == \"data:image/png;base64\") {\n",
       "            fig.imageObj.src = evt.data;\n",
       "            fig.updated_canvas_event();\n",
       "            fig.waiting = false;\n",
       "            return;\n",
       "        }\n",
       "\n",
       "        var msg = JSON.parse(evt.data);\n",
       "        var msg_type = msg['type'];\n",
       "\n",
       "        // Call the  \"handle_{type}\" callback, which takes\n",
       "        // the figure and JSON message as its only arguments.\n",
       "        try {\n",
       "            var callback = fig[\"handle_\" + msg_type];\n",
       "        } catch (e) {\n",
       "            console.log(\"No handler for the '\" + msg_type + \"' message type: \", msg);\n",
       "            return;\n",
       "        }\n",
       "\n",
       "        if (callback) {\n",
       "            try {\n",
       "                // console.log(\"Handling '\" + msg_type + \"' message: \", msg);\n",
       "                callback(fig, msg);\n",
       "            } catch (e) {\n",
       "                console.log(\"Exception inside the 'handler_\" + msg_type + \"' callback:\", e, e.stack, msg);\n",
       "            }\n",
       "        }\n",
       "    };\n",
       "}\n",
       "\n",
       "// from http://stackoverflow.com/questions/1114465/getting-mouse-location-in-canvas\n",
       "mpl.findpos = function(e) {\n",
       "    //this section is from http://www.quirksmode.org/js/events_properties.html\n",
       "    var targ;\n",
       "    if (!e)\n",
       "        e = window.event;\n",
       "    if (e.target)\n",
       "        targ = e.target;\n",
       "    else if (e.srcElement)\n",
       "        targ = e.srcElement;\n",
       "    if (targ.nodeType == 3) // defeat Safari bug\n",
       "        targ = targ.parentNode;\n",
       "\n",
       "    // jQuery normalizes the pageX and pageY\n",
       "    // pageX,Y are the mouse positions relative to the document\n",
       "    // offset() returns the position of the element relative to the document\n",
       "    var x = e.pageX - $(targ).offset().left;\n",
       "    var y = e.pageY - $(targ).offset().top;\n",
       "\n",
       "    return {\"x\": x, \"y\": y};\n",
       "};\n",
       "\n",
       "/*\n",
       " * return a copy of an object with only non-object keys\n",
       " * we need this to avoid circular references\n",
       " * http://stackoverflow.com/a/24161582/3208463\n",
       " */\n",
       "function simpleKeys (original) {\n",
       "  return Object.keys(original).reduce(function (obj, key) {\n",
       "    if (typeof original[key] !== 'object')\n",
       "        obj[key] = original[key]\n",
       "    return obj;\n",
       "  }, {});\n",
       "}\n",
       "\n",
       "mpl.figure.prototype.mouse_event = function(event, name) {\n",
       "    var canvas_pos = mpl.findpos(event)\n",
       "\n",
       "    if (name === 'button_press')\n",
       "    {\n",
       "        this.canvas.focus();\n",
       "        this.canvas_div.focus();\n",
       "    }\n",
       "\n",
       "    var x = canvas_pos.x * mpl.ratio;\n",
       "    var y = canvas_pos.y * mpl.ratio;\n",
       "\n",
       "    this.send_message(name, {x: x, y: y, button: event.button,\n",
       "                             step: event.step,\n",
       "                             guiEvent: simpleKeys(event)});\n",
       "\n",
       "    /* This prevents the web browser from automatically changing to\n",
       "     * the text insertion cursor when the button is pressed.  We want\n",
       "     * to control all of the cursor setting manually through the\n",
       "     * 'cursor' event from matplotlib */\n",
       "    event.preventDefault();\n",
       "    return false;\n",
       "}\n",
       "\n",
       "mpl.figure.prototype._key_event_extra = function(event, name) {\n",
       "    // Handle any extra behaviour associated with a key event\n",
       "}\n",
       "\n",
       "mpl.figure.prototype.key_event = function(event, name) {\n",
       "\n",
       "    // Prevent repeat events\n",
       "    if (name == 'key_press')\n",
       "    {\n",
       "        if (event.which === this._key)\n",
       "            return;\n",
       "        else\n",
       "            this._key = event.which;\n",
       "    }\n",
       "    if (name == 'key_release')\n",
       "        this._key = null;\n",
       "\n",
       "    var value = '';\n",
       "    if (event.ctrlKey && event.which != 17)\n",
       "        value += \"ctrl+\";\n",
       "    if (event.altKey && event.which != 18)\n",
       "        value += \"alt+\";\n",
       "    if (event.shiftKey && event.which != 16)\n",
       "        value += \"shift+\";\n",
       "\n",
       "    value += 'k';\n",
       "    value += event.which.toString();\n",
       "\n",
       "    this._key_event_extra(event, name);\n",
       "\n",
       "    this.send_message(name, {key: value,\n",
       "                             guiEvent: simpleKeys(event)});\n",
       "    return false;\n",
       "}\n",
       "\n",
       "mpl.figure.prototype.toolbar_button_onclick = function(name) {\n",
       "    if (name == 'download') {\n",
       "        this.handle_save(this, null);\n",
       "    } else {\n",
       "        this.send_message(\"toolbar_button\", {name: name});\n",
       "    }\n",
       "};\n",
       "\n",
       "mpl.figure.prototype.toolbar_button_onmouseover = function(tooltip) {\n",
       "    this.message.textContent = tooltip;\n",
       "};\n",
       "mpl.toolbar_items = [[\"Home\", \"Reset original view\", \"fa fa-home icon-home\", \"home\"], [\"Back\", \"Back to previous view\", \"fa fa-arrow-left icon-arrow-left\", \"back\"], [\"Forward\", \"Forward to next view\", \"fa fa-arrow-right icon-arrow-right\", \"forward\"], [\"\", \"\", \"\", \"\"], [\"Pan\", \"Pan axes with left mouse, zoom with right\", \"fa fa-arrows icon-move\", \"pan\"], [\"Zoom\", \"Zoom to rectangle\", \"fa fa-square-o icon-check-empty\", \"zoom\"], [\"\", \"\", \"\", \"\"], [\"Download\", \"Download plot\", \"fa fa-floppy-o icon-save\", \"download\"]];\n",
       "\n",
       "mpl.extensions = [\"eps\", \"jpeg\", \"pdf\", \"png\", \"ps\", \"raw\", \"svg\", \"tif\"];\n",
       "\n",
       "mpl.default_extension = \"png\";var comm_websocket_adapter = function(comm) {\n",
       "    // Create a \"websocket\"-like object which calls the given IPython comm\n",
       "    // object with the appropriate methods. Currently this is a non binary\n",
       "    // socket, so there is still some room for performance tuning.\n",
       "    var ws = {};\n",
       "\n",
       "    ws.close = function() {\n",
       "        comm.close()\n",
       "    };\n",
       "    ws.send = function(m) {\n",
       "        //console.log('sending', m);\n",
       "        comm.send(m);\n",
       "    };\n",
       "    // Register the callback with on_msg.\n",
       "    comm.on_msg(function(msg) {\n",
       "        //console.log('receiving', msg['content']['data'], msg);\n",
       "        // Pass the mpl event to the overridden (by mpl) onmessage function.\n",
       "        ws.onmessage(msg['content']['data'])\n",
       "    });\n",
       "    return ws;\n",
       "}\n",
       "\n",
       "mpl.mpl_figure_comm = function(comm, msg) {\n",
       "    // This is the function which gets called when the mpl process\n",
       "    // starts-up an IPython Comm through the \"matplotlib\" channel.\n",
       "\n",
       "    var id = msg.content.data.id;\n",
       "    // Get hold of the div created by the display call when the Comm\n",
       "    // socket was opened in Python.\n",
       "    var element = $(\"#\" + id);\n",
       "    var ws_proxy = comm_websocket_adapter(comm)\n",
       "\n",
       "    function ondownload(figure, format) {\n",
       "        window.open(figure.imageObj.src);\n",
       "    }\n",
       "\n",
       "    var fig = new mpl.figure(id, ws_proxy,\n",
       "                           ondownload,\n",
       "                           element.get(0));\n",
       "\n",
       "    // Call onopen now - mpl needs it, as it is assuming we've passed it a real\n",
       "    // web socket which is closed, not our websocket->open comm proxy.\n",
       "    ws_proxy.onopen();\n",
       "\n",
       "    fig.parent_element = element.get(0);\n",
       "    fig.cell_info = mpl.find_output_cell(\"<div id='\" + id + \"'></div>\");\n",
       "    if (!fig.cell_info) {\n",
       "        console.error(\"Failed to find cell for figure\", id, fig);\n",
       "        return;\n",
       "    }\n",
       "\n",
       "    var output_index = fig.cell_info[2]\n",
       "    var cell = fig.cell_info[0];\n",
       "\n",
       "};\n",
       "\n",
       "mpl.figure.prototype.handle_close = function(fig, msg) {\n",
       "    var width = fig.canvas.width/mpl.ratio\n",
       "    fig.root.unbind('remove')\n",
       "\n",
       "    // Update the output cell to use the data from the current canvas.\n",
       "    fig.push_to_output();\n",
       "    var dataURL = fig.canvas.toDataURL();\n",
       "    // Re-enable the keyboard manager in IPython - without this line, in FF,\n",
       "    // the notebook keyboard shortcuts fail.\n",
       "    IPython.keyboard_manager.enable()\n",
       "    $(fig.parent_element).html('<img src=\"' + dataURL + '\" width=\"' + width + '\">');\n",
       "    fig.close_ws(fig, msg);\n",
       "}\n",
       "\n",
       "mpl.figure.prototype.close_ws = function(fig, msg){\n",
       "    fig.send_message('closing', msg);\n",
       "    // fig.ws.close()\n",
       "}\n",
       "\n",
       "mpl.figure.prototype.push_to_output = function(remove_interactive) {\n",
       "    // Turn the data on the canvas into data in the output cell.\n",
       "    var width = this.canvas.width/mpl.ratio\n",
       "    var dataURL = this.canvas.toDataURL();\n",
       "    this.cell_info[1]['text/html'] = '<img src=\"' + dataURL + '\" width=\"' + width + '\">';\n",
       "}\n",
       "\n",
       "mpl.figure.prototype.updated_canvas_event = function() {\n",
       "    // Tell IPython that the notebook contents must change.\n",
       "    IPython.notebook.set_dirty(true);\n",
       "    this.send_message(\"ack\", {});\n",
       "    var fig = this;\n",
       "    // Wait a second, then push the new image to the DOM so\n",
       "    // that it is saved nicely (might be nice to debounce this).\n",
       "    setTimeout(function () { fig.push_to_output() }, 1000);\n",
       "}\n",
       "\n",
       "mpl.figure.prototype._init_toolbar = function() {\n",
       "    var fig = this;\n",
       "\n",
       "    var nav_element = $('<div/>');\n",
       "    nav_element.attr('style', 'width: 100%');\n",
       "    this.root.append(nav_element);\n",
       "\n",
       "    // Define a callback function for later on.\n",
       "    function toolbar_event(event) {\n",
       "        return fig.toolbar_button_onclick(event['data']);\n",
       "    }\n",
       "    function toolbar_mouse_event(event) {\n",
       "        return fig.toolbar_button_onmouseover(event['data']);\n",
       "    }\n",
       "\n",
       "    for(var toolbar_ind in mpl.toolbar_items){\n",
       "        var name = mpl.toolbar_items[toolbar_ind][0];\n",
       "        var tooltip = mpl.toolbar_items[toolbar_ind][1];\n",
       "        var image = mpl.toolbar_items[toolbar_ind][2];\n",
       "        var method_name = mpl.toolbar_items[toolbar_ind][3];\n",
       "\n",
       "        if (!name) { continue; };\n",
       "\n",
       "        var button = $('<button class=\"btn btn-default\" href=\"#\" title=\"' + name + '\"><i class=\"fa ' + image + ' fa-lg\"></i></button>');\n",
       "        button.click(method_name, toolbar_event);\n",
       "        button.mouseover(tooltip, toolbar_mouse_event);\n",
       "        nav_element.append(button);\n",
       "    }\n",
       "\n",
       "    // Add the status bar.\n",
       "    var status_bar = $('<span class=\"mpl-message\" style=\"text-align:right; float: right;\"/>');\n",
       "    nav_element.append(status_bar);\n",
       "    this.message = status_bar[0];\n",
       "\n",
       "    // Add the close button to the window.\n",
       "    var buttongrp = $('<div class=\"btn-group inline pull-right\"></div>');\n",
       "    var button = $('<button class=\"btn btn-mini btn-primary\" href=\"#\" title=\"Stop Interaction\"><i class=\"fa fa-power-off icon-remove icon-large\"></i></button>');\n",
       "    button.click(function (evt) { fig.handle_close(fig, {}); } );\n",
       "    button.mouseover('Stop Interaction', toolbar_mouse_event);\n",
       "    buttongrp.append(button);\n",
       "    var titlebar = this.root.find($('.ui-dialog-titlebar'));\n",
       "    titlebar.prepend(buttongrp);\n",
       "}\n",
       "\n",
       "mpl.figure.prototype._root_extra_style = function(el){\n",
       "    var fig = this\n",
       "    el.on(\"remove\", function(){\n",
       "\tfig.close_ws(fig, {});\n",
       "    });\n",
       "}\n",
       "\n",
       "mpl.figure.prototype._canvas_extra_style = function(el){\n",
       "    // this is important to make the div 'focusable\n",
       "    el.attr('tabindex', 0)\n",
       "    // reach out to IPython and tell the keyboard manager to turn it's self\n",
       "    // off when our div gets focus\n",
       "\n",
       "    // location in version 3\n",
       "    if (IPython.notebook.keyboard_manager) {\n",
       "        IPython.notebook.keyboard_manager.register_events(el);\n",
       "    }\n",
       "    else {\n",
       "        // location in version 2\n",
       "        IPython.keyboard_manager.register_events(el);\n",
       "    }\n",
       "\n",
       "}\n",
       "\n",
       "mpl.figure.prototype._key_event_extra = function(event, name) {\n",
       "    var manager = IPython.notebook.keyboard_manager;\n",
       "    if (!manager)\n",
       "        manager = IPython.keyboard_manager;\n",
       "\n",
       "    // Check for shift+enter\n",
       "    if (event.shiftKey && event.which == 13) {\n",
       "        this.canvas_div.blur();\n",
       "        // select the cell after this one\n",
       "        var index = IPython.notebook.find_cell_index(this.cell_info[0]);\n",
       "        IPython.notebook.select(index + 1);\n",
       "    }\n",
       "}\n",
       "\n",
       "mpl.figure.prototype.handle_save = function(fig, msg) {\n",
       "    fig.ondownload(fig, null);\n",
       "}\n",
       "\n",
       "\n",
       "mpl.find_output_cell = function(html_output) {\n",
       "    // Return the cell and output element which can be found *uniquely* in the notebook.\n",
       "    // Note - this is a bit hacky, but it is done because the \"notebook_saving.Notebook\"\n",
       "    // IPython event is triggered only after the cells have been serialised, which for\n",
       "    // our purposes (turning an active figure into a static one), is too late.\n",
       "    var cells = IPython.notebook.get_cells();\n",
       "    var ncells = cells.length;\n",
       "    for (var i=0; i<ncells; i++) {\n",
       "        var cell = cells[i];\n",
       "        if (cell.cell_type === 'code'){\n",
       "            for (var j=0; j<cell.output_area.outputs.length; j++) {\n",
       "                var data = cell.output_area.outputs[j];\n",
       "                if (data.data) {\n",
       "                    // IPython >= 3 moved mimebundle to data attribute of output\n",
       "                    data = data.data;\n",
       "                }\n",
       "                if (data['text/html'] == html_output) {\n",
       "                    return [cell, data, j];\n",
       "                }\n",
       "            }\n",
       "        }\n",
       "    }\n",
       "}\n",
       "\n",
       "// Register the function which deals with the matplotlib target/channel.\n",
       "// The kernel may be null if the page has been refreshed.\n",
       "if (IPython.notebook.kernel != null) {\n",
       "    IPython.notebook.kernel.comm_manager.register_target('matplotlib', mpl.mpl_figure_comm);\n",
       "}\n"
      ],
      "text/plain": [
       "<IPython.core.display.Javascript object>"
      ]
     },
     "metadata": {},
     "output_type": "display_data"
    },
    {
     "data": {
      "text/html": [
       "<img src=\"data:image/png;base64,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\" width=\"639.85\">"
      ],
      "text/plain": [
       "<IPython.core.display.HTML object>"
      ]
     },
     "metadata": {},
     "output_type": "display_data"
    },
    {
     "data": {
      "text/plain": [
       "[<matplotlib.lines.Line2D at 0x7f95660be340>]"
      ]
     },
     "execution_count": 34,
     "metadata": {},
     "output_type": "execute_result"
    }
   ],
   "source": [
    "plt.plot([key for key in regimeAmounts.keys()],[val for val in regimeAmounts.values()])"
   ]
  },
  {
   "cell_type": "code",
   "execution_count": 35,
   "metadata": {
    "scrolled": false
   },
   "outputs": [
    {
     "data": {
      "text/plain": [
       "([<matplotlib.axis.XTick at 0x7f95668827f0>,\n",
       "  <matplotlib.axis.XTick at 0x7f95668827c0>,\n",
       "  <matplotlib.axis.XTick at 0x7f956c4b3460>,\n",
       "  <matplotlib.axis.XTick at 0x7f95660be670>,\n",
       "  <matplotlib.axis.XTick at 0x7f95660beb20>,\n",
       "  <matplotlib.axis.XTick at 0x7f9567613070>,\n",
       "  <matplotlib.axis.XTick at 0x7f9567613580>,\n",
       "  <matplotlib.axis.XTick at 0x7f9567613a90>,\n",
       "  <matplotlib.axis.XTick at 0x7f9567613fa0>,\n",
       "  <matplotlib.axis.XTick at 0x7f956760c4f0>,\n",
       "  <matplotlib.axis.XTick at 0x7f956760ca00>,\n",
       "  <matplotlib.axis.XTick at 0x7f95676131f0>,\n",
       "  <matplotlib.axis.XTick at 0x7f956c47a760>,\n",
       "  <matplotlib.axis.XTick at 0x7f956760cbb0>,\n",
       "  <matplotlib.axis.XTick at 0x7f9567600d30>,\n",
       "  <matplotlib.axis.XTick at 0x7f9567600130>,\n",
       "  <matplotlib.axis.XTick at 0x7f9567600910>,\n",
       "  <matplotlib.axis.XTick at 0x7f9567634b20>,\n",
       "  <matplotlib.axis.XTick at 0x7f9567634580>,\n",
       "  <matplotlib.axis.XTick at 0x7f9567634a90>,\n",
       "  <matplotlib.axis.XTick at 0x7f9567634f70>,\n",
       "  <matplotlib.axis.XTick at 0x7f9567634130>,\n",
       "  <matplotlib.axis.XTick at 0x7f95676007c0>,\n",
       "  <matplotlib.axis.XTick at 0x7f95660bed00>,\n",
       "  <matplotlib.axis.XTick at 0x7f95676333d0>,\n",
       "  <matplotlib.axis.XTick at 0x7f95676338e0>,\n",
       "  <matplotlib.axis.XTick at 0x7f9567633df0>,\n",
       "  <matplotlib.axis.XTick at 0x7f956763b340>,\n",
       "  <matplotlib.axis.XTick at 0x7f956763b850>,\n",
       "  <matplotlib.axis.XTick at 0x7f956763bd60>,\n",
       "  <matplotlib.axis.XTick at 0x7f956762abe0>,\n",
       "  <matplotlib.axis.XTick at 0x7f956763b490>,\n",
       "  <matplotlib.axis.XTick at 0x7f9567633520>,\n",
       "  <matplotlib.axis.XTick at 0x7f9567600c10>,\n",
       "  <matplotlib.axis.XTick at 0x7f956762a3a0>,\n",
       "  <matplotlib.axis.XTick at 0x7f956762aa60>,\n",
       "  <matplotlib.axis.XTick at 0x7f956762b160>,\n",
       "  <matplotlib.axis.XTick at 0x7f956762b700>,\n",
       "  <matplotlib.axis.XTick at 0x7f956762bca0>,\n",
       "  <matplotlib.axis.XTick at 0x7f9567625ac0>,\n",
       "  <matplotlib.axis.XTick at 0x7f9567625670>,\n",
       "  <matplotlib.axis.XTick at 0x7f956762b250>,\n",
       "  <matplotlib.axis.XTick at 0x7f9567613160>,\n",
       "  <matplotlib.axis.XTick at 0x7f9567625130>,\n",
       "  <matplotlib.axis.XTick at 0x7f9567625ee0>,\n",
       "  <matplotlib.axis.XTick at 0x7f95676184c0>,\n",
       "  <matplotlib.axis.XTick at 0x7f95676189a0>,\n",
       "  <matplotlib.axis.XTick at 0x7f9567610040>,\n",
       "  <matplotlib.axis.XTick at 0x7f95676105e0>,\n",
       "  <matplotlib.axis.XTick at 0x7f9567610b80>,\n",
       "  <matplotlib.axis.XTick at 0x7f9567610640>,\n",
       "  <matplotlib.axis.XTick at 0x7f9567618b20>,\n",
       "  <matplotlib.axis.XTick at 0x7f956762acd0>,\n",
       "  <matplotlib.axis.XTick at 0x7f95670592e0>,\n",
       "  <matplotlib.axis.XTick at 0x7f9567059940>,\n",
       "  <matplotlib.axis.XTick at 0x7f9567059f40>,\n",
       "  <matplotlib.axis.XTick at 0x7f9567054430>,\n",
       "  <matplotlib.axis.XTick at 0x7f9567054a00>,\n",
       "  <matplotlib.axis.XTick at 0x7f956705a040>,\n",
       "  <matplotlib.axis.XTick at 0x7f956705a5e0>,\n",
       "  <matplotlib.axis.XTick at 0x7f9567054970>,\n",
       "  <matplotlib.axis.XTick at 0x7f956762bdc0>,\n",
       "  <matplotlib.axis.XTick at 0x7f956705a1c0>,\n",
       "  <matplotlib.axis.XTick at 0x7f956705ad30>,\n",
       "  <matplotlib.axis.XTick at 0x7f9567056cd0>,\n",
       "  <matplotlib.axis.XTick at 0x7f9567056850>,\n",
       "  <matplotlib.axis.XTick at 0x7f9567056ca0>,\n",
       "  <matplotlib.axis.XTick at 0x7f9567076430>,\n",
       "  <matplotlib.axis.XTick at 0x7f95670769d0>,\n",
       "  <matplotlib.axis.XTick at 0x7f9567076f70>,\n",
       "  <matplotlib.axis.XTick at 0x7f9567056f10>,\n",
       "  <matplotlib.axis.XTick at 0x7f956705aa00>,\n",
       "  <matplotlib.axis.XTick at 0x7f9567065cd0>,\n",
       "  <matplotlib.axis.XTick at 0x7f9567065430>,\n",
       "  <matplotlib.axis.XTick at 0x7f9567065be0>,\n",
       "  <matplotlib.axis.XTick at 0x7f956707d1f0>,\n",
       "  <matplotlib.axis.XTick at 0x7f956707d790>,\n",
       "  <matplotlib.axis.XTick at 0x7f956707dd30>,\n",
       "  <matplotlib.axis.XTick at 0x7f9567074d60>,\n",
       "  <matplotlib.axis.XTick at 0x7f956707d820>,\n",
       "  <matplotlib.axis.XTick at 0x7f9567065c10>,\n",
       "  <matplotlib.axis.XTick at 0x7f9567076b50>,\n",
       "  <matplotlib.axis.XTick at 0x7f956762a790>,\n",
       "  <matplotlib.axis.XTick at 0x7f9567074760>,\n",
       "  <matplotlib.axis.XTick at 0x7f9567074f70>,\n",
       "  <matplotlib.axis.XTick at 0x7f9567073430>,\n",
       "  <matplotlib.axis.XTick at 0x7f9567073b80>,\n",
       "  <matplotlib.axis.XTick at 0x7f9567075100>,\n",
       "  <matplotlib.axis.XTick at 0x7f95670756a0>,\n",
       "  <matplotlib.axis.XTick at 0x7f9567073610>,\n",
       "  <matplotlib.axis.XTick at 0x7f956705a640>,\n",
       "  <matplotlib.axis.XTick at 0x7f9567075a00>,\n",
       "  <matplotlib.axis.XTick at 0x7f9567075df0>,\n",
       "  <matplotlib.axis.XTick at 0x7f956706c100>,\n",
       "  <matplotlib.axis.XTick at 0x7f956706c880>,\n",
       "  <matplotlib.axis.XTick at 0x7f956706ce20>,\n",
       "  <matplotlib.axis.XTick at 0x7f9567044550>,\n",
       "  <matplotlib.axis.XTick at 0x7f9567044a30>,\n",
       "  <matplotlib.axis.XTick at 0x7f95670475e0>],\n",
       " [Text(0, 0, 'SimOpt_extensive_0'),\n",
       "  Text(1, 0, 'SimOpt_extensive_1'),\n",
       "  Text(2, 0, 'SimOpt_extensive_10'),\n",
       "  Text(3, 0, 'SimOpt_extensive_11'),\n",
       "  Text(4, 0, 'SimOpt_extensive_12'),\n",
       "  Text(5, 0, 'SimOpt_extensive_13'),\n",
       "  Text(6, 0, 'SimOpt_extensive_14'),\n",
       "  Text(7, 0, 'SimOpt_extensive_15'),\n",
       "  Text(8, 0, 'SimOpt_extensive_16'),\n",
       "  Text(9, 0, 'SimOpt_extensive_17'),\n",
       "  Text(10, 0, 'SimOpt_extensive_18'),\n",
       "  Text(11, 0, 'SimOpt_extensive_2'),\n",
       "  Text(12, 0, 'SimOpt_extensive_3'),\n",
       "  Text(13, 0, 'SimOpt_extensive_4'),\n",
       "  Text(14, 0, 'SimOpt_extensive_5'),\n",
       "  Text(15, 0, 'SimOpt_extensive_6'),\n",
       "  Text(16, 0, 'SimOpt_extensive_7'),\n",
       "  Text(17, 0, 'SimOpt_extensive_8'),\n",
       "  Text(18, 0, 'SimOpt_extensive_9'),\n",
       "  Text(19, 0, 'SimOpt_extensive_long_0'),\n",
       "  Text(20, 0, 'SimOpt_extensive_long_1'),\n",
       "  Text(21, 0, 'SimOpt_extensive_long_10'),\n",
       "  Text(22, 0, 'SimOpt_extensive_long_11'),\n",
       "  Text(23, 0, 'SimOpt_extensive_long_12'),\n",
       "  Text(24, 0, 'SimOpt_extensive_long_13'),\n",
       "  Text(25, 0, 'SimOpt_extensive_long_14'),\n",
       "  Text(26, 0, 'SimOpt_extensive_long_15'),\n",
       "  Text(27, 0, 'SimOpt_extensive_long_16'),\n",
       "  Text(28, 0, 'SimOpt_extensive_long_17'),\n",
       "  Text(29, 0, 'SimOpt_extensive_long_18'),\n",
       "  Text(30, 0, 'SimOpt_extensive_long_2'),\n",
       "  Text(31, 0, 'SimOpt_extensive_long_3'),\n",
       "  Text(32, 0, 'SimOpt_extensive_long_4'),\n",
       "  Text(33, 0, 'SimOpt_extensive_long_5'),\n",
       "  Text(34, 0, 'SimOpt_extensive_long_6'),\n",
       "  Text(35, 0, 'SimOpt_extensive_long_7'),\n",
       "  Text(36, 0, 'SimOpt_extensive_long_8'),\n",
       "  Text(37, 0, 'SimOpt_extensive_long_9'),\n",
       "  Text(38, 0, 'SimOpt_no_management_0'),\n",
       "  Text(39, 0, 'SimOpt_int_0'),\n",
       "  Text(40, 0, 'SimOpt_int_short_0'),\n",
       "  Text(41, 0, 'SimOpt_multispecies_0'),\n",
       "  Text(42, 0, 'SimOpt_int_1'),\n",
       "  Text(43, 0, 'SimOpt_int_10'),\n",
       "  Text(44, 0, 'SimOpt_int_11'),\n",
       "  Text(45, 0, 'SimOpt_int_12'),\n",
       "  Text(46, 0, 'SimOpt_int_13'),\n",
       "  Text(47, 0, 'SimOpt_int_14'),\n",
       "  Text(48, 0, 'SimOpt_int_15'),\n",
       "  Text(49, 0, 'SimOpt_int_16'),\n",
       "  Text(50, 0, 'SimOpt_int_17'),\n",
       "  Text(51, 0, 'SimOpt_int_18'),\n",
       "  Text(52, 0, 'SimOpt_int_2'),\n",
       "  Text(53, 0, 'SimOpt_int_3'),\n",
       "  Text(54, 0, 'SimOpt_int_4'),\n",
       "  Text(55, 0, 'SimOpt_int_5'),\n",
       "  Text(56, 0, 'SimOpt_int_6'),\n",
       "  Text(57, 0, 'SimOpt_int_7'),\n",
       "  Text(58, 0, 'SimOpt_int_8'),\n",
       "  Text(59, 0, 'SimOpt_int_9'),\n",
       "  Text(60, 0, 'SimOpt_int_short_1'),\n",
       "  Text(61, 0, 'SimOpt_int_short_10'),\n",
       "  Text(62, 0, 'SimOpt_int_short_11'),\n",
       "  Text(63, 0, 'SimOpt_int_short_12'),\n",
       "  Text(64, 0, 'SimOpt_int_short_13'),\n",
       "  Text(65, 0, 'SimOpt_int_short_14'),\n",
       "  Text(66, 0, 'SimOpt_int_short_15'),\n",
       "  Text(67, 0, 'SimOpt_int_short_16'),\n",
       "  Text(68, 0, 'SimOpt_int_short_17'),\n",
       "  Text(69, 0, 'SimOpt_int_short_18'),\n",
       "  Text(70, 0, 'SimOpt_int_short_2'),\n",
       "  Text(71, 0, 'SimOpt_int_short_3'),\n",
       "  Text(72, 0, 'SimOpt_int_short_4'),\n",
       "  Text(73, 0, 'SimOpt_int_short_5'),\n",
       "  Text(74, 0, 'SimOpt_int_short_6'),\n",
       "  Text(75, 0, 'SimOpt_int_short_7'),\n",
       "  Text(76, 0, 'SimOpt_int_short_8'),\n",
       "  Text(77, 0, 'SimOpt_int_short_9'),\n",
       "  Text(78, 0, 'SimOpt_multispecies_1'),\n",
       "  Text(79, 0, 'SimOpt_multispecies_10'),\n",
       "  Text(80, 0, 'SimOpt_multispecies_11'),\n",
       "  Text(81, 0, 'SimOpt_multispecies_12'),\n",
       "  Text(82, 0, 'SimOpt_multispecies_13'),\n",
       "  Text(83, 0, 'SimOpt_multispecies_14'),\n",
       "  Text(84, 0, 'SimOpt_multispecies_15'),\n",
       "  Text(85, 0, 'SimOpt_multispecies_16'),\n",
       "  Text(86, 0, 'SimOpt_multispecies_17'),\n",
       "  Text(87, 0, 'SimOpt_multispecies_18'),\n",
       "  Text(88, 0, 'SimOpt_multispecies_2'),\n",
       "  Text(89, 0, 'SimOpt_multispecies_3'),\n",
       "  Text(90, 0, 'SimOpt_multispecies_4'),\n",
       "  Text(91, 0, 'SimOpt_multispecies_5'),\n",
       "  Text(92, 0, 'SimOpt_multispecies_6'),\n",
       "  Text(93, 0, 'SimOpt_multispecies_7'),\n",
       "  Text(94, 0, 'SimOpt_multispecies_8'),\n",
       "  Text(95, 0, 'SimOpt_multispecies_9'),\n",
       "  Text(96, 0, 'SimOpt_ccover_0'),\n",
       "  Text(97, 0, 'SimOpt_ccover_1'),\n",
       "  Text(98, 0, 'SimOpt_ccover_2')])"
      ]
     },
     "execution_count": 35,
     "metadata": {},
     "output_type": "execute_result"
    }
   ],
   "source": [
    "plt.bar(range(len(regimeAmounts)), list(regimeAmounts.values()), align='center')\n",
    "plt.xticks(range(len(regimeAmounts)), list(regimeAmounts.keys()),rotation=\"vertical\")"
   ]
  },
  {
   "cell_type": "markdown",
   "metadata": {},
   "source": [
    "## Export data as csv\n",
    "- Solution_alldata contains the optimal regime per stand AND the timely development of indicator values plus all other input columns (represented_are_by_NFIplot, region, NUTS2)\n",
    "- Solution contains only the selected optimal regime and its share (if multiple regimes per stand are selected)"
   ]
  },
  {
   "cell_type": "code",
   "execution_count": 36,
   "metadata": {},
   "outputs": [],
   "source": [
    "try:\n",
    "    os.mkdir(\"results\")\n",
    "except FileExistsError:\n",
    "    pass\n",
    "b = []\n",
    "c = []\n",
    "for key in mfo.regimesDecision.keys():\n",
    "    if mfo.regimesDecision[key].solution_value() > 0:\n",
    "        b = b+ [(key[0],x*5+2012, key[1]) for x in range(0,21)]\n",
    "        c = c+ [(key[0],key[1],mfo.regimesDecision[key].solution_value())]\n",
    "data2b = mfo.data.iloc[mfo.data.index.isin(b)]\n",
    "data2b.to_csv(\"./results/\"+scenario+\"_\"+RCP+\"_data.csv\")\n",
    "c1 = pd.DataFrame(c)\n",
    "c1.to_csv(\"./results/\"+scenario+\"_\"+RCP+\"_solutions.csv\")"
   ]
  },
  {
   "cell_type": "markdown",
   "metadata": {},
   "source": [
    "## Export objective ranges"
   ]
  },
  {
   "cell_type": "markdown",
   "metadata": {},
   "source": [
    "Save as json file"
   ]
  },
  {
   "cell_type": "code",
   "execution_count": 37,
   "metadata": {},
   "outputs": [],
   "source": [
    "import json\n",
    "mfo.objectiveRanges\n",
    "\n",
    "with open('./results/objectiveRanges_'+scenario+'_'+RCP+'.json', 'w') as json_file:\n",
    "  json.dump(mfo.objectiveRanges, json_file)"
   ]
  },
  {
   "cell_type": "markdown",
   "metadata": {},
   "source": [
    "Save as CSV."
   ]
  },
  {
   "cell_type": "code",
   "execution_count": 38,
   "metadata": {},
   "outputs": [],
   "source": [
    "df = pd.read_json('./results/objectiveRanges_'+scenario+'_'+RCP+'.json')\n",
    "\n",
    "df.to_csv('./results/objectiveRanges_'+scenario+'_'+RCP+'.csv')"
   ]
  },
  {
   "cell_type": "markdown",
   "metadata": {},
   "source": [
    "## Export objective values\n",
    "The optimal solution for each objective."
   ]
  },
  {
   "cell_type": "code",
   "execution_count": 39,
   "metadata": {},
   "outputs": [],
   "source": [
    "with open(\"./results/objectiveValues_\"+scenario+\"_\"+RCP+\".csv\",\"w\") as file:\n",
    "    delim = \"\"\n",
    "    for objName in mfo.objectiveTypes.keys():\n",
    "        file.write(delim+objName)\n",
    "        delim = \",\"\n",
    "    file.write(\"\\n\")\n",
    "    delim = \"\"\n",
    "    for objName in mfo.objectiveTypes.keys():\n",
    "        file.write(delim+str(mfo.objective[objName].solution_value()))\n",
    "        delim = \",\"\n",
    "    file.write(\"\\n\")"
   ]
  },
  {
   "cell_type": "code",
   "execution_count": null,
   "metadata": {},
   "outputs": [],
   "source": []
  }
 ],
 "metadata": {
  "kernelspec": {
   "display_name": "Python 3",
   "language": "python",
   "name": "python3"
  },
  "language_info": {
   "codemirror_mode": {
    "name": "ipython",
    "version": 3
   },
   "file_extension": ".py",
   "mimetype": "text/x-python",
   "name": "python",
   "nbconvert_exporter": "python",
   "pygments_lexer": "ipython3",
   "version": "3.8.3"
  }
 },
 "nbformat": 4,
 "nbformat_minor": 2
}
