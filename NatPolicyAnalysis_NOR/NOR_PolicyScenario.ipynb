{
 "cells": [
  {
   "cell_type": "markdown",
   "metadata": {},
   "source": [
    "# MultiForest optimization notebook\n",
    "# NORWAY"
   ]
  },
  {
   "cell_type": "markdown",
   "metadata": {},
   "source": [
    "Above the code cells, there are short instructions how the users can modify the codes in the cells.<br>\n",
    "If there are no instructions, no changes should be needed for the cell by default.\n",
    "\n",
    "A detailed description is provided in the <b>README.md</b>.\n",
    "\n",
    "## Basic definitions\n",
    "Simulated forest data - name and climate scenario"
   ]
  },
  {
   "cell_type": "code",
   "execution_count": 1,
   "metadata": {},
   "outputs": [],
   "source": [
    "RCP = \"RCP45\" # NDC scenario"
   ]
  },
  {
   "cell_type": "markdown",
   "metadata": {},
   "source": [
    "Specify policy scenario:\n",
    "\n",
    "- \"FS\" -  National Forest Strategy\n",
    "- \"BDS\" - Biodiversity Strategy\n",
    "- \"BES\" - Bioeconomy Strategy"
   ]
  },
  {
   "cell_type": "code",
   "execution_count": 2,
   "metadata": {},
   "outputs": [],
   "source": [
    "scenario =\"BES\""
   ]
  },
  {
   "cell_type": "markdown",
   "metadata": {},
   "source": [
    "## Read .py class & data"
   ]
  },
  {
   "cell_type": "code",
   "execution_count": 3,
   "metadata": {},
   "outputs": [],
   "source": [
    "import wget\n",
    "import os\n",
    "import numpy as np\n",
    "import pandas as pd\n",
    "import sys"
   ]
  },
  {
   "cell_type": "code",
   "execution_count": 4,
   "metadata": {
    "scrolled": true
   },
   "outputs": [],
   "source": [
    "module_path = os.path.abspath(os.path.join('..'))\n",
    "if module_path not in sys.path:\n",
    "    sys.path.append(module_path+\"/py_class\")\n",
    "\n",
    "import multiFunctionalOptimizationNor as MFO"
   ]
  },
  {
   "cell_type": "code",
   "execution_count": 5,
   "metadata": {},
   "outputs": [
    {
     "data": {
      "text/plain": [
       "<module 'multiFunctionalOptimizationNor' from '/home/ubuntu/workspace/mf_optimization_demo/py_class/multiFunctionalOptimizationNor.py'>"
      ]
     },
     "execution_count": 5,
     "metadata": {},
     "output_type": "execute_result"
    }
   ],
   "source": [
    "from importlib import reload\n",
    "reload(MFO)"
   ]
  },
  {
   "cell_type": "code",
   "execution_count": 6,
   "metadata": {},
   "outputs": [
    {
     "data": {
      "text/plain": [
       "'Using CPLEX'"
      ]
     },
     "metadata": {},
     "output_type": "display_data"
    }
   ],
   "source": [
    "mfo = MFO.MultiFunctionalOptimization(solver = 'CPLEX')"
   ]
  },
  {
   "cell_type": "markdown",
   "metadata": {},
   "source": [
    "<b>You need to \"unrar\" the file testData.rar first</b>"
   ]
  },
  {
   "cell_type": "code",
   "execution_count": 7,
   "metadata": {},
   "outputs": [
    {
     "data": {
      "text/plain": [
       "'testData.csv'"
      ]
     },
     "execution_count": 7,
     "metadata": {},
     "output_type": "execute_result"
    }
   ],
   "source": [
    "filename = \"testData.csv\"\n",
    "filename"
   ]
  },
  {
   "cell_type": "code",
   "execution_count": 8,
   "metadata": {},
   "outputs": [
    {
     "data": {
      "text/plain": [
       "'testData.csv'"
      ]
     },
     "execution_count": 8,
     "metadata": {},
     "output_type": "execute_result"
    }
   ],
   "source": [
    "filename"
   ]
  },
  {
   "cell_type": "code",
   "execution_count": 9,
   "metadata": {},
   "outputs": [
    {
     "name": "stdout",
     "output_type": "stream",
     "text": [
      "CPU times: user 1.45 s, sys: 1.64 s, total: 3.08 s\n",
      "Wall time: 8.34 s\n"
     ]
    }
   ],
   "source": [
    "%%time\n",
    "mfo.readData(filename,standsEnu = \"plot_id\",delimeter = \",\",\n",
    "             areaCol = \"tsd_ha2total\", \n",
    "             sampleRatio=1) #If no sample ratio given, the ratio is assumed to be 1\n",
    "                             #0.2 means 20% of the data"
   ]
  },
  {
   "cell_type": "code",
   "execution_count": 10,
   "metadata": {},
   "outputs": [
    {
     "data": {
      "text/plain": [
       "Index(['plot_id', 'year', 'regime', 'period', 'pulp_vol_m3',\n",
       "       'harv_cost_nok_m3', 'harv_cost_u150', 'harv_cost_u200',\n",
       "       'net_increment_m3', 'is_old', 'is_broadleave', 'MiS_classified_plot',\n",
       "       'bilberry_cover_pr', 'GROT_kt_TotNor', 'vol_saw_m3', 'saw_CO2_t',\n",
       "       'vol_panels_m3', 'panels_CO2_t', 'albedo', 'is_steep_terrain',\n",
       "       'is_vernskog', 'is_city_forest', 'shan', 'class_dbh', 'ha2total',\n",
       "       'management', 'harv_net_Mnok_TotNor', 'harv_vol_Mm3_TotNor',\n",
       "       'saw_vol_Mm3_TotNor', 'pulp_vol_Mm3_TotNor', 'dead_vol_Mm3_TotNor',\n",
       "       'tsd_ha2total', 'CO2_forest_Mil_Kt_TotNor',\n",
       "       'CO2_forest_Mil_Kt_TotNor_no_albedo', 'saw_CO2_change_Kt_TotNor',\n",
       "       'saw_CO2_Kt_TotNor', 'panels_CO2_change_Kt_TotNor', 'HWP_C02_TotNor',\n",
       "       'Bilberry_ha_TotNor', 'MiS_ha', 'SawTimber_Mm3_year', 'pulp_Mm3_year',\n",
       "       'GROT_t', 'GROT_m3', 'GROT_Mm3', 'Residues_Mm3_year',\n",
       "       'harvest_demands_Mm3_year', 'regime.class', 'finalFelling', 'is_CCF',\n",
       "       'is_nomanagement', 'is_vers_or_ste', 'FinaL_versk', 'FinaL_city',\n",
       "       'High_classdbh', 'Sha_highclassdbh_Tot_Nor', 'Relative_albedo',\n",
       "       'Relative_shan', 'Relative_ha2total', 'Relative_dead_vol_Mm3_TotNor',\n",
       "       'Relative_tsd_ha2total', 'Relative_CO2_forest_Mil_Kt_TotNor',\n",
       "       'Relative_CO2_forest_Mil_Kt_TotNor_no_albedo',\n",
       "       'Relative_Bilberry_ha_TotNor', 'Relative_MiS_ha',\n",
       "       'Relative_Sha_highclassdbh_Tot_Nor'],\n",
       "      dtype='object')"
      ]
     },
     "execution_count": 10,
     "metadata": {},
     "output_type": "execute_result"
    }
   ],
   "source": [
    "mfo.data.columns"
   ]
  },
  {
   "cell_type": "code",
   "execution_count": 11,
   "metadata": {},
   "outputs": [],
   "source": [
    "mfo.finalizeData(initialTime = 2023)"
   ]
  },
  {
   "cell_type": "code",
   "execution_count": 12,
   "metadata": {},
   "outputs": [
    {
     "data": {
      "text/html": [
       "<div>\n",
       "<style scoped>\n",
       "    .dataframe tbody tr th:only-of-type {\n",
       "        vertical-align: middle;\n",
       "    }\n",
       "\n",
       "    .dataframe tbody tr th {\n",
       "        vertical-align: top;\n",
       "    }\n",
       "\n",
       "    .dataframe thead th {\n",
       "        text-align: right;\n",
       "    }\n",
       "</style>\n",
       "<table border=\"1\" class=\"dataframe\">\n",
       "  <thead>\n",
       "    <tr style=\"text-align: right;\">\n",
       "      <th></th>\n",
       "      <th></th>\n",
       "      <th></th>\n",
       "      <th>period</th>\n",
       "      <th>pulp_vol_m3</th>\n",
       "      <th>harv_cost_nok_m3</th>\n",
       "      <th>harv_cost_u150</th>\n",
       "      <th>harv_cost_u200</th>\n",
       "      <th>net_increment_m3</th>\n",
       "      <th>is_old</th>\n",
       "      <th>is_broadleave</th>\n",
       "      <th>MiS_classified_plot</th>\n",
       "      <th>bilberry_cover_pr</th>\n",
       "      <th>...</th>\n",
       "      <th>Relative_albedo</th>\n",
       "      <th>Relative_shan</th>\n",
       "      <th>Relative_ha2total</th>\n",
       "      <th>Relative_dead_vol_Mm3_TotNor</th>\n",
       "      <th>Relative_tsd_ha2total</th>\n",
       "      <th>Relative_CO2_forest_Mil_Kt_TotNor</th>\n",
       "      <th>Relative_CO2_forest_Mil_Kt_TotNor_no_albedo</th>\n",
       "      <th>Relative_Bilberry_ha_TotNor</th>\n",
       "      <th>Relative_MiS_ha</th>\n",
       "      <th>Relative_Sha_highclassdbh_Tot_Nor</th>\n",
       "    </tr>\n",
       "    <tr>\n",
       "      <th>plot_id</th>\n",
       "      <th>year</th>\n",
       "      <th>regime</th>\n",
       "      <th></th>\n",
       "      <th></th>\n",
       "      <th></th>\n",
       "      <th></th>\n",
       "      <th></th>\n",
       "      <th></th>\n",
       "      <th></th>\n",
       "      <th></th>\n",
       "      <th></th>\n",
       "      <th></th>\n",
       "      <th></th>\n",
       "      <th></th>\n",
       "      <th></th>\n",
       "      <th></th>\n",
       "      <th></th>\n",
       "      <th></th>\n",
       "      <th></th>\n",
       "      <th></th>\n",
       "      <th></th>\n",
       "      <th></th>\n",
       "      <th></th>\n",
       "    </tr>\n",
       "  </thead>\n",
       "  <tbody>\n",
       "    <tr>\n",
       "      <th rowspan=\"5\" valign=\"top\">A03187-1</th>\n",
       "      <th rowspan=\"5\" valign=\"top\">2023</th>\n",
       "      <th>SimOpt_extensive_0</th>\n",
       "      <td>t1</td>\n",
       "      <td>35612.018505</td>\n",
       "      <td>909.320021</td>\n",
       "      <td>0</td>\n",
       "      <td>0</td>\n",
       "      <td>2195.434622</td>\n",
       "      <td>0</td>\n",
       "      <td>0</td>\n",
       "      <td>0</td>\n",
       "      <td>2</td>\n",
       "      <td>...</td>\n",
       "      <td>0.000519</td>\n",
       "      <td>0.000000</td>\n",
       "      <td>0.000266</td>\n",
       "      <td>0.0</td>\n",
       "      <td>0.000266</td>\n",
       "      <td>-0.005028</td>\n",
       "      <td>-0.005667</td>\n",
       "      <td>0.000069</td>\n",
       "      <td>0.0</td>\n",
       "      <td>0.000000</td>\n",
       "    </tr>\n",
       "    <tr>\n",
       "      <th>SimOpt_extensive_1</th>\n",
       "      <td>t1</td>\n",
       "      <td>0.000000</td>\n",
       "      <td>0.000000</td>\n",
       "      <td>0</td>\n",
       "      <td>0</td>\n",
       "      <td>4592.344651</td>\n",
       "      <td>0</td>\n",
       "      <td>0</td>\n",
       "      <td>0</td>\n",
       "      <td>4</td>\n",
       "      <td>...</td>\n",
       "      <td>0.000458</td>\n",
       "      <td>0.000202</td>\n",
       "      <td>0.000266</td>\n",
       "      <td>0.0</td>\n",
       "      <td>0.000266</td>\n",
       "      <td>0.001362</td>\n",
       "      <td>0.001304</td>\n",
       "      <td>0.000138</td>\n",
       "      <td>0.0</td>\n",
       "      <td>0.000126</td>\n",
       "    </tr>\n",
       "    <tr>\n",
       "      <th>SimOpt_extensive_10</th>\n",
       "      <td>t1</td>\n",
       "      <td>0.000000</td>\n",
       "      <td>0.000000</td>\n",
       "      <td>0</td>\n",
       "      <td>0</td>\n",
       "      <td>4592.344651</td>\n",
       "      <td>0</td>\n",
       "      <td>0</td>\n",
       "      <td>0</td>\n",
       "      <td>4</td>\n",
       "      <td>...</td>\n",
       "      <td>0.000458</td>\n",
       "      <td>0.000202</td>\n",
       "      <td>0.000266</td>\n",
       "      <td>0.0</td>\n",
       "      <td>0.000266</td>\n",
       "      <td>0.001362</td>\n",
       "      <td>0.001304</td>\n",
       "      <td>0.000138</td>\n",
       "      <td>0.0</td>\n",
       "      <td>0.000126</td>\n",
       "    </tr>\n",
       "    <tr>\n",
       "      <th>SimOpt_extensive_11</th>\n",
       "      <td>t1</td>\n",
       "      <td>0.000000</td>\n",
       "      <td>0.000000</td>\n",
       "      <td>0</td>\n",
       "      <td>0</td>\n",
       "      <td>4592.344651</td>\n",
       "      <td>0</td>\n",
       "      <td>0</td>\n",
       "      <td>0</td>\n",
       "      <td>4</td>\n",
       "      <td>...</td>\n",
       "      <td>0.000458</td>\n",
       "      <td>0.000202</td>\n",
       "      <td>0.000266</td>\n",
       "      <td>0.0</td>\n",
       "      <td>0.000266</td>\n",
       "      <td>0.001362</td>\n",
       "      <td>0.001304</td>\n",
       "      <td>0.000138</td>\n",
       "      <td>0.0</td>\n",
       "      <td>0.000126</td>\n",
       "    </tr>\n",
       "    <tr>\n",
       "      <th>SimOpt_extensive_12</th>\n",
       "      <td>t1</td>\n",
       "      <td>0.000000</td>\n",
       "      <td>0.000000</td>\n",
       "      <td>0</td>\n",
       "      <td>0</td>\n",
       "      <td>4592.344651</td>\n",
       "      <td>0</td>\n",
       "      <td>0</td>\n",
       "      <td>0</td>\n",
       "      <td>4</td>\n",
       "      <td>...</td>\n",
       "      <td>0.000458</td>\n",
       "      <td>0.000202</td>\n",
       "      <td>0.000266</td>\n",
       "      <td>0.0</td>\n",
       "      <td>0.000266</td>\n",
       "      <td>0.001362</td>\n",
       "      <td>0.001304</td>\n",
       "      <td>0.000138</td>\n",
       "      <td>0.0</td>\n",
       "      <td>0.000126</td>\n",
       "    </tr>\n",
       "  </tbody>\n",
       "</table>\n",
       "<p>5 rows × 63 columns</p>\n",
       "</div>"
      ],
      "text/plain": [
       "                                  period   pulp_vol_m3  harv_cost_nok_m3  \\\n",
       "plot_id  year regime                                                       \n",
       "A03187-1 2023 SimOpt_extensive_0      t1  35612.018505        909.320021   \n",
       "              SimOpt_extensive_1      t1      0.000000          0.000000   \n",
       "              SimOpt_extensive_10     t1      0.000000          0.000000   \n",
       "              SimOpt_extensive_11     t1      0.000000          0.000000   \n",
       "              SimOpt_extensive_12     t1      0.000000          0.000000   \n",
       "\n",
       "                                   harv_cost_u150  harv_cost_u200  \\\n",
       "plot_id  year regime                                                \n",
       "A03187-1 2023 SimOpt_extensive_0                0               0   \n",
       "              SimOpt_extensive_1                0               0   \n",
       "              SimOpt_extensive_10               0               0   \n",
       "              SimOpt_extensive_11               0               0   \n",
       "              SimOpt_extensive_12               0               0   \n",
       "\n",
       "                                   net_increment_m3  is_old  is_broadleave  \\\n",
       "plot_id  year regime                                                         \n",
       "A03187-1 2023 SimOpt_extensive_0        2195.434622       0              0   \n",
       "              SimOpt_extensive_1        4592.344651       0              0   \n",
       "              SimOpt_extensive_10       4592.344651       0              0   \n",
       "              SimOpt_extensive_11       4592.344651       0              0   \n",
       "              SimOpt_extensive_12       4592.344651       0              0   \n",
       "\n",
       "                                   MiS_classified_plot  bilberry_cover_pr  \\\n",
       "plot_id  year regime                                                        \n",
       "A03187-1 2023 SimOpt_extensive_0                     0                  2   \n",
       "              SimOpt_extensive_1                     0                  4   \n",
       "              SimOpt_extensive_10                    0                  4   \n",
       "              SimOpt_extensive_11                    0                  4   \n",
       "              SimOpt_extensive_12                    0                  4   \n",
       "\n",
       "                                   ...  Relative_albedo  Relative_shan  \\\n",
       "plot_id  year regime               ...                                   \n",
       "A03187-1 2023 SimOpt_extensive_0   ...         0.000519       0.000000   \n",
       "              SimOpt_extensive_1   ...         0.000458       0.000202   \n",
       "              SimOpt_extensive_10  ...         0.000458       0.000202   \n",
       "              SimOpt_extensive_11  ...         0.000458       0.000202   \n",
       "              SimOpt_extensive_12  ...         0.000458       0.000202   \n",
       "\n",
       "                                   Relative_ha2total  \\\n",
       "plot_id  year regime                                   \n",
       "A03187-1 2023 SimOpt_extensive_0            0.000266   \n",
       "              SimOpt_extensive_1            0.000266   \n",
       "              SimOpt_extensive_10           0.000266   \n",
       "              SimOpt_extensive_11           0.000266   \n",
       "              SimOpt_extensive_12           0.000266   \n",
       "\n",
       "                                   Relative_dead_vol_Mm3_TotNor  \\\n",
       "plot_id  year regime                                              \n",
       "A03187-1 2023 SimOpt_extensive_0                            0.0   \n",
       "              SimOpt_extensive_1                            0.0   \n",
       "              SimOpt_extensive_10                           0.0   \n",
       "              SimOpt_extensive_11                           0.0   \n",
       "              SimOpt_extensive_12                           0.0   \n",
       "\n",
       "                                   Relative_tsd_ha2total  \\\n",
       "plot_id  year regime                                       \n",
       "A03187-1 2023 SimOpt_extensive_0                0.000266   \n",
       "              SimOpt_extensive_1                0.000266   \n",
       "              SimOpt_extensive_10               0.000266   \n",
       "              SimOpt_extensive_11               0.000266   \n",
       "              SimOpt_extensive_12               0.000266   \n",
       "\n",
       "                                   Relative_CO2_forest_Mil_Kt_TotNor  \\\n",
       "plot_id  year regime                                                   \n",
       "A03187-1 2023 SimOpt_extensive_0                           -0.005028   \n",
       "              SimOpt_extensive_1                            0.001362   \n",
       "              SimOpt_extensive_10                           0.001362   \n",
       "              SimOpt_extensive_11                           0.001362   \n",
       "              SimOpt_extensive_12                           0.001362   \n",
       "\n",
       "                                   Relative_CO2_forest_Mil_Kt_TotNor_no_albedo  \\\n",
       "plot_id  year regime                                                             \n",
       "A03187-1 2023 SimOpt_extensive_0                                     -0.005667   \n",
       "              SimOpt_extensive_1                                      0.001304   \n",
       "              SimOpt_extensive_10                                     0.001304   \n",
       "              SimOpt_extensive_11                                     0.001304   \n",
       "              SimOpt_extensive_12                                     0.001304   \n",
       "\n",
       "                                   Relative_Bilberry_ha_TotNor  \\\n",
       "plot_id  year regime                                             \n",
       "A03187-1 2023 SimOpt_extensive_0                      0.000069   \n",
       "              SimOpt_extensive_1                      0.000138   \n",
       "              SimOpt_extensive_10                     0.000138   \n",
       "              SimOpt_extensive_11                     0.000138   \n",
       "              SimOpt_extensive_12                     0.000138   \n",
       "\n",
       "                                   Relative_MiS_ha  \\\n",
       "plot_id  year regime                                 \n",
       "A03187-1 2023 SimOpt_extensive_0               0.0   \n",
       "              SimOpt_extensive_1               0.0   \n",
       "              SimOpt_extensive_10              0.0   \n",
       "              SimOpt_extensive_11              0.0   \n",
       "              SimOpt_extensive_12              0.0   \n",
       "\n",
       "                                   Relative_Sha_highclassdbh_Tot_Nor  \n",
       "plot_id  year regime                                                  \n",
       "A03187-1 2023 SimOpt_extensive_0                            0.000000  \n",
       "              SimOpt_extensive_1                            0.000126  \n",
       "              SimOpt_extensive_10                           0.000126  \n",
       "              SimOpt_extensive_11                           0.000126  \n",
       "              SimOpt_extensive_12                           0.000126  \n",
       "\n",
       "[5 rows x 63 columns]"
      ]
     },
     "execution_count": 12,
     "metadata": {},
     "output_type": "execute_result"
    }
   ],
   "source": [
    "mfo.initialData.head()"
   ]
  },
  {
   "cell_type": "code",
   "execution_count": 13,
   "metadata": {},
   "outputs": [
    {
     "data": {
      "text/html": [
       "<div>\n",
       "<style scoped>\n",
       "    .dataframe tbody tr th:only-of-type {\n",
       "        vertical-align: middle;\n",
       "    }\n",
       "\n",
       "    .dataframe tbody tr th {\n",
       "        vertical-align: top;\n",
       "    }\n",
       "\n",
       "    .dataframe thead th {\n",
       "        text-align: right;\n",
       "    }\n",
       "</style>\n",
       "<table border=\"1\" class=\"dataframe\">\n",
       "  <thead>\n",
       "    <tr style=\"text-align: right;\">\n",
       "      <th></th>\n",
       "      <th></th>\n",
       "      <th></th>\n",
       "      <th>period</th>\n",
       "      <th>pulp_vol_m3</th>\n",
       "      <th>harv_cost_nok_m3</th>\n",
       "      <th>harv_cost_u150</th>\n",
       "      <th>harv_cost_u200</th>\n",
       "      <th>net_increment_m3</th>\n",
       "      <th>is_old</th>\n",
       "      <th>is_broadleave</th>\n",
       "      <th>MiS_classified_plot</th>\n",
       "      <th>bilberry_cover_pr</th>\n",
       "      <th>...</th>\n",
       "      <th>Relative_Relative_albedo</th>\n",
       "      <th>Relative_Relative_shan</th>\n",
       "      <th>Relative_Relative_ha2total</th>\n",
       "      <th>Relative_Relative_dead_vol_Mm3_TotNor</th>\n",
       "      <th>Relative_Relative_tsd_ha2total</th>\n",
       "      <th>Relative_Relative_CO2_forest_Mil_Kt_TotNor</th>\n",
       "      <th>Relative_Relative_CO2_forest_Mil_Kt_TotNor_no_albedo</th>\n",
       "      <th>Relative_Relative_Bilberry_ha_TotNor</th>\n",
       "      <th>Relative_Relative_MiS_ha</th>\n",
       "      <th>Relative_Relative_Sha_highclassdbh_Tot_Nor</th>\n",
       "    </tr>\n",
       "    <tr>\n",
       "      <th>plot_id</th>\n",
       "      <th>year</th>\n",
       "      <th>regime</th>\n",
       "      <th></th>\n",
       "      <th></th>\n",
       "      <th></th>\n",
       "      <th></th>\n",
       "      <th></th>\n",
       "      <th></th>\n",
       "      <th></th>\n",
       "      <th></th>\n",
       "      <th></th>\n",
       "      <th></th>\n",
       "      <th></th>\n",
       "      <th></th>\n",
       "      <th></th>\n",
       "      <th></th>\n",
       "      <th></th>\n",
       "      <th></th>\n",
       "      <th></th>\n",
       "      <th></th>\n",
       "      <th></th>\n",
       "      <th></th>\n",
       "      <th></th>\n",
       "    </tr>\n",
       "  </thead>\n",
       "  <tbody>\n",
       "    <tr>\n",
       "      <th rowspan=\"5\" valign=\"top\">A03187-1</th>\n",
       "      <th rowspan=\"5\" valign=\"top\">2028</th>\n",
       "      <th>SimOpt_extensive_0</th>\n",
       "      <td>t2</td>\n",
       "      <td>0.00000</td>\n",
       "      <td>0.000000</td>\n",
       "      <td>0</td>\n",
       "      <td>0</td>\n",
       "      <td>0.000000</td>\n",
       "      <td>0</td>\n",
       "      <td>0</td>\n",
       "      <td>0</td>\n",
       "      <td>2</td>\n",
       "      <td>...</td>\n",
       "      <td>9.025961e-07</td>\n",
       "      <td>0.000000e+00</td>\n",
       "      <td>4.010508e-07</td>\n",
       "      <td>0.000000e+00</td>\n",
       "      <td>4.010508e-07</td>\n",
       "      <td>-3.667306e-07</td>\n",
       "      <td>-4.093759e-07</td>\n",
       "      <td>7.773096e-08</td>\n",
       "      <td>0.0</td>\n",
       "      <td>0.000000e+00</td>\n",
       "    </tr>\n",
       "    <tr>\n",
       "      <th>SimOpt_extensive_1</th>\n",
       "      <td>t2</td>\n",
       "      <td>32727.61897</td>\n",
       "      <td>909.320021</td>\n",
       "      <td>0</td>\n",
       "      <td>0</td>\n",
       "      <td>2810.612023</td>\n",
       "      <td>0</td>\n",
       "      <td>0</td>\n",
       "      <td>0</td>\n",
       "      <td>2</td>\n",
       "      <td>...</td>\n",
       "      <td>9.025961e-07</td>\n",
       "      <td>0.000000e+00</td>\n",
       "      <td>4.010508e-07</td>\n",
       "      <td>0.000000e+00</td>\n",
       "      <td>4.010508e-07</td>\n",
       "      <td>-1.846004e-06</td>\n",
       "      <td>-2.021645e-06</td>\n",
       "      <td>7.773096e-08</td>\n",
       "      <td>0.0</td>\n",
       "      <td>0.000000e+00</td>\n",
       "    </tr>\n",
       "    <tr>\n",
       "      <th>SimOpt_extensive_10</th>\n",
       "      <td>t2</td>\n",
       "      <td>0.00000</td>\n",
       "      <td>0.000000</td>\n",
       "      <td>0</td>\n",
       "      <td>0</td>\n",
       "      <td>3994.338879</td>\n",
       "      <td>0</td>\n",
       "      <td>0</td>\n",
       "      <td>0</td>\n",
       "      <td>4</td>\n",
       "      <td>...</td>\n",
       "      <td>7.912492e-07</td>\n",
       "      <td>2.396545e-07</td>\n",
       "      <td>4.010508e-07</td>\n",
       "      <td>2.977858e-08</td>\n",
       "      <td>4.010508e-07</td>\n",
       "      <td>4.211540e-07</td>\n",
       "      <td>3.723546e-07</td>\n",
       "      <td>1.554619e-07</td>\n",
       "      <td>0.0</td>\n",
       "      <td>1.166514e-07</td>\n",
       "    </tr>\n",
       "    <tr>\n",
       "      <th>SimOpt_extensive_11</th>\n",
       "      <td>t2</td>\n",
       "      <td>0.00000</td>\n",
       "      <td>0.000000</td>\n",
       "      <td>0</td>\n",
       "      <td>0</td>\n",
       "      <td>3994.338879</td>\n",
       "      <td>0</td>\n",
       "      <td>0</td>\n",
       "      <td>0</td>\n",
       "      <td>4</td>\n",
       "      <td>...</td>\n",
       "      <td>7.912492e-07</td>\n",
       "      <td>2.396545e-07</td>\n",
       "      <td>4.010508e-07</td>\n",
       "      <td>2.977858e-08</td>\n",
       "      <td>4.010508e-07</td>\n",
       "      <td>4.211540e-07</td>\n",
       "      <td>3.723546e-07</td>\n",
       "      <td>1.554619e-07</td>\n",
       "      <td>0.0</td>\n",
       "      <td>1.166514e-07</td>\n",
       "    </tr>\n",
       "    <tr>\n",
       "      <th>SimOpt_extensive_12</th>\n",
       "      <td>t2</td>\n",
       "      <td>0.00000</td>\n",
       "      <td>0.000000</td>\n",
       "      <td>0</td>\n",
       "      <td>0</td>\n",
       "      <td>3994.338879</td>\n",
       "      <td>0</td>\n",
       "      <td>0</td>\n",
       "      <td>0</td>\n",
       "      <td>4</td>\n",
       "      <td>...</td>\n",
       "      <td>7.912492e-07</td>\n",
       "      <td>2.396545e-07</td>\n",
       "      <td>4.010508e-07</td>\n",
       "      <td>2.977858e-08</td>\n",
       "      <td>4.010508e-07</td>\n",
       "      <td>4.211540e-07</td>\n",
       "      <td>3.723546e-07</td>\n",
       "      <td>1.554619e-07</td>\n",
       "      <td>0.0</td>\n",
       "      <td>1.166514e-07</td>\n",
       "    </tr>\n",
       "  </tbody>\n",
       "</table>\n",
       "<p>5 rows × 96 columns</p>\n",
       "</div>"
      ],
      "text/plain": [
       "                                  period  pulp_vol_m3  harv_cost_nok_m3  \\\n",
       "plot_id  year regime                                                      \n",
       "A03187-1 2028 SimOpt_extensive_0      t2      0.00000          0.000000   \n",
       "              SimOpt_extensive_1      t2  32727.61897        909.320021   \n",
       "              SimOpt_extensive_10     t2      0.00000          0.000000   \n",
       "              SimOpt_extensive_11     t2      0.00000          0.000000   \n",
       "              SimOpt_extensive_12     t2      0.00000          0.000000   \n",
       "\n",
       "                                   harv_cost_u150  harv_cost_u200  \\\n",
       "plot_id  year regime                                                \n",
       "A03187-1 2028 SimOpt_extensive_0                0               0   \n",
       "              SimOpt_extensive_1                0               0   \n",
       "              SimOpt_extensive_10               0               0   \n",
       "              SimOpt_extensive_11               0               0   \n",
       "              SimOpt_extensive_12               0               0   \n",
       "\n",
       "                                   net_increment_m3  is_old  is_broadleave  \\\n",
       "plot_id  year regime                                                         \n",
       "A03187-1 2028 SimOpt_extensive_0           0.000000       0              0   \n",
       "              SimOpt_extensive_1        2810.612023       0              0   \n",
       "              SimOpt_extensive_10       3994.338879       0              0   \n",
       "              SimOpt_extensive_11       3994.338879       0              0   \n",
       "              SimOpt_extensive_12       3994.338879       0              0   \n",
       "\n",
       "                                   MiS_classified_plot  bilberry_cover_pr  \\\n",
       "plot_id  year regime                                                        \n",
       "A03187-1 2028 SimOpt_extensive_0                     0                  2   \n",
       "              SimOpt_extensive_1                     0                  2   \n",
       "              SimOpt_extensive_10                    0                  4   \n",
       "              SimOpt_extensive_11                    0                  4   \n",
       "              SimOpt_extensive_12                    0                  4   \n",
       "\n",
       "                                   ...  Relative_Relative_albedo  \\\n",
       "plot_id  year regime               ...                             \n",
       "A03187-1 2028 SimOpt_extensive_0   ...              9.025961e-07   \n",
       "              SimOpt_extensive_1   ...              9.025961e-07   \n",
       "              SimOpt_extensive_10  ...              7.912492e-07   \n",
       "              SimOpt_extensive_11  ...              7.912492e-07   \n",
       "              SimOpt_extensive_12  ...              7.912492e-07   \n",
       "\n",
       "                                   Relative_Relative_shan  \\\n",
       "plot_id  year regime                                        \n",
       "A03187-1 2028 SimOpt_extensive_0             0.000000e+00   \n",
       "              SimOpt_extensive_1             0.000000e+00   \n",
       "              SimOpt_extensive_10            2.396545e-07   \n",
       "              SimOpt_extensive_11            2.396545e-07   \n",
       "              SimOpt_extensive_12            2.396545e-07   \n",
       "\n",
       "                                   Relative_Relative_ha2total  \\\n",
       "plot_id  year regime                                            \n",
       "A03187-1 2028 SimOpt_extensive_0                 4.010508e-07   \n",
       "              SimOpt_extensive_1                 4.010508e-07   \n",
       "              SimOpt_extensive_10                4.010508e-07   \n",
       "              SimOpt_extensive_11                4.010508e-07   \n",
       "              SimOpt_extensive_12                4.010508e-07   \n",
       "\n",
       "                                   Relative_Relative_dead_vol_Mm3_TotNor  \\\n",
       "plot_id  year regime                                                       \n",
       "A03187-1 2028 SimOpt_extensive_0                            0.000000e+00   \n",
       "              SimOpt_extensive_1                            0.000000e+00   \n",
       "              SimOpt_extensive_10                           2.977858e-08   \n",
       "              SimOpt_extensive_11                           2.977858e-08   \n",
       "              SimOpt_extensive_12                           2.977858e-08   \n",
       "\n",
       "                                   Relative_Relative_tsd_ha2total  \\\n",
       "plot_id  year regime                                                \n",
       "A03187-1 2028 SimOpt_extensive_0                     4.010508e-07   \n",
       "              SimOpt_extensive_1                     4.010508e-07   \n",
       "              SimOpt_extensive_10                    4.010508e-07   \n",
       "              SimOpt_extensive_11                    4.010508e-07   \n",
       "              SimOpt_extensive_12                    4.010508e-07   \n",
       "\n",
       "                                   Relative_Relative_CO2_forest_Mil_Kt_TotNor  \\\n",
       "plot_id  year regime                                                            \n",
       "A03187-1 2028 SimOpt_extensive_0                                -3.667306e-07   \n",
       "              SimOpt_extensive_1                                -1.846004e-06   \n",
       "              SimOpt_extensive_10                                4.211540e-07   \n",
       "              SimOpt_extensive_11                                4.211540e-07   \n",
       "              SimOpt_extensive_12                                4.211540e-07   \n",
       "\n",
       "                                   Relative_Relative_CO2_forest_Mil_Kt_TotNor_no_albedo  \\\n",
       "plot_id  year regime                                                                      \n",
       "A03187-1 2028 SimOpt_extensive_0                                       -4.093759e-07      \n",
       "              SimOpt_extensive_1                                       -2.021645e-06      \n",
       "              SimOpt_extensive_10                                       3.723546e-07      \n",
       "              SimOpt_extensive_11                                       3.723546e-07      \n",
       "              SimOpt_extensive_12                                       3.723546e-07      \n",
       "\n",
       "                                   Relative_Relative_Bilberry_ha_TotNor  \\\n",
       "plot_id  year regime                                                      \n",
       "A03187-1 2028 SimOpt_extensive_0                           7.773096e-08   \n",
       "              SimOpt_extensive_1                           7.773096e-08   \n",
       "              SimOpt_extensive_10                          1.554619e-07   \n",
       "              SimOpt_extensive_11                          1.554619e-07   \n",
       "              SimOpt_extensive_12                          1.554619e-07   \n",
       "\n",
       "                                   Relative_Relative_MiS_ha  \\\n",
       "plot_id  year regime                                          \n",
       "A03187-1 2028 SimOpt_extensive_0                        0.0   \n",
       "              SimOpt_extensive_1                        0.0   \n",
       "              SimOpt_extensive_10                       0.0   \n",
       "              SimOpt_extensive_11                       0.0   \n",
       "              SimOpt_extensive_12                       0.0   \n",
       "\n",
       "                                   Relative_Relative_Sha_highclassdbh_Tot_Nor  \n",
       "plot_id  year regime                                                           \n",
       "A03187-1 2028 SimOpt_extensive_0                                 0.000000e+00  \n",
       "              SimOpt_extensive_1                                 0.000000e+00  \n",
       "              SimOpt_extensive_10                                1.166514e-07  \n",
       "              SimOpt_extensive_11                                1.166514e-07  \n",
       "              SimOpt_extensive_12                                1.166514e-07  \n",
       "\n",
       "[5 rows x 96 columns]"
      ]
     },
     "execution_count": 13,
     "metadata": {},
     "output_type": "execute_result"
    }
   ],
   "source": [
    "mfo.data.head()"
   ]
  },
  {
   "cell_type": "markdown",
   "metadata": {},
   "source": [
    "## Objectives"
   ]
  },
  {
   "cell_type": "markdown",
   "metadata": {},
   "source": [
    "### NFS - Forest Strategy"
   ]
  },
  {
   "cell_type": "code",
   "execution_count": 14,
   "metadata": {},
   "outputs": [],
   "source": [
    "if scenario == 'NFS':\n",
    "    \n",
    "    wood_production_bionergy = {\n",
    "    # harvest net value - maximise\n",
    "    \"harvest_netvalue_Mnok_min\": [\"Maximize netvalue (MAX Millions nok/m2) min\",\n",
    "                                  \"harv_net_Mnok_TotNor\", \"max\",\"min\",\"sum\"], \n",
    "    \"harvest_netvalue_Mnok_sum\": [\"Maximize netvalue (MAX Millions nok/m2) max\",\n",
    "                                  \"harv_net_Mnok_TotNor\", \"max\",\"sum\",\"sum\"], \n",
    "        \n",
    "    # GROT in plots with cost under 150 NOK   - maximise\n",
    "     \"GROTIncreaseInHarvCost150\":[\"Maximize GROT in plots with harvest cost under 150 (maX)\",\n",
    "                                  \"GROT_kt_TotNor\", \"max\",\"minYearlyIncrease\",\"subsetSum\",\"harv_cost_u150\"],\n",
    "     \"GROTMaxMinnHarvCost150\":[\"Maximize GROT in plots with harvest cost under 150 (MAX)\",\n",
    "                               \"GROT_kt_TotNor\", \"max\",\"min\",\"subsetSum\",\"harv_cost_u150\"],\n",
    "    }\n",
    "    \n",
    "    Biodiversity = {\n",
    "    # MIS area  - maximise\n",
    "    \"MiSIncrease\":[\"Not decreasing area of MiS classified plots (not decrease)\",\n",
    "                       \"Relative_MiS_ha\", \n",
    "                       \"max\",\"min\",\"sum\"],\n",
    "    }\n",
    "    \n",
    "    Climate_regulation = {\n",
    "    # C02 in wooden products  - maximise\n",
    "    \"CO2_HWP_increase\":[\"CO2_HWPMinimum yearly increase  (maximize\",\n",
    "                            \"HWP_C02_TotNor\", \"max\",\"minYearlyIncrease\",\"sum\"],\n",
    "\n",
    "    \"CO2_HWP_kt\": [\"Co2 storage in wooden products (maximize kilotonnnes over all years)\",\n",
    "                   \"HWP_C02_TotNor\", \"max\",\"sum\",\"sum\"],\n",
    "    }\n",
    "    objectives = {\n",
    "        **wood_production_bionergy,\n",
    "        **Biodiversity,\n",
    "        **Climate_regulation,\n",
    "    }\n",
    "    \n",
    "    print(\"objectives for NFS loaded\")"
   ]
  },
  {
   "cell_type": "markdown",
   "metadata": {},
   "source": [
    "### BDS - Biodiversity Strategy"
   ]
  },
  {
   "cell_type": "code",
   "execution_count": 15,
   "metadata": {},
   "outputs": [],
   "source": [
    "if scenario == 'BDS':\n",
    "    \n",
    "    \n",
    "    Biodiversity = {\n",
    "        \n",
    "    # MIS area  - no decline\n",
    "    \"MiSIncrease\":[\"Not decreasing area of MiS classified plots (max)\",\n",
    "                   \"MiS_ha\", \n",
    "                   \"max\",\"minYearlyIncrease\",\"sum\"],\n",
    "        \n",
    "    # MIS area  - maximise\n",
    "    \"MiSMaxMin\":[\"Not decreasing area of MiS classified plots (max)\",\n",
    "                 \"Relative_MiS_ha\", \n",
    "                 \"max\",\"min\",\"sum\"],\n",
    "        \n",
    "    # deadWood  - no decline\n",
    "    \"deadWoodIncrease\":[\"Minimum yearly incrase in vol Millions m3 of dead wood (max)\",\n",
    "                        \"dead_vol_Mm3_TotNor\",\n",
    "                        \"max\",\"minYearlyIncrease\",\"sum\"],\n",
    "    # deadWood  - maximise   \n",
    "    \"deadWoodMaxMin\":[\"Minimum yearly incrase in vol Millions m3 of dead wood (max)\",\n",
    "                      \"Relative_dead_vol_Mm3_TotNor\",\n",
    "                      \"max\",\"min\",\"sum\"],\n",
    "        \n",
    "    # blueberry - no decline\n",
    "    \"blueberryIncrease\":[\"Minimum yearly incrase in area of blueberry cover(max)\",\n",
    "                         \"bilberry_cover_pr\",\n",
    "                         \"max\",\"minYearlyIncrease\",\"areaWeightedSum\"],\n",
    "        \n",
    "    # blueberry  - maximise  \n",
    "    \"blueberryMaxMin\":[\"MaxMin in area of blueberry cover (max)\",\n",
    "                       \"Relative_Bilberry_ha_TotNor\",\n",
    "                       \"max\",\"min\",\"sum\"],\n",
    "    }\n",
    "    \n",
    "    \n",
    "    Erosion_and_water = {\n",
    "    # decrease harvest in protected areas and in steep terrain - minimize\n",
    "    \"Decrease_harv_in_vernskog_or_steep\": [\"Decrease harvest in verskog ha harvested(minimize ha over all years)\",\n",
    "                                              \"FinaL_versk\",\n",
    "                                              \"min\",\"max\",\"areaWeightedSum\"],\n",
    "    }\n",
    "    \n",
    "    Recreation = {\n",
    "    # harvest in cityForest plot - minimize\n",
    "    \"harvest_in_cityForest\": [\"MinSum city forest (not decreasing)\", \n",
    "                              \"FinaL_city\",\n",
    "                              \"min\", \"max\", \"areaWeightedSum\"],\n",
    "    # plots with high Shann - maximize\n",
    "    \"ShannonIncrease\":[\"MAxMin Shanon in plots with larger dbh (not decrease)\",\n",
    "                       \"Relative_Sha_highclassdbh_Tot_Nor\", \n",
    "                       \"max\", \"min\",\"sum\"] ,\n",
    "  } \n",
    "        \n",
    "    objectives = {\n",
    "        **Biodiversity,\n",
    "        **Erosion_and_water,\n",
    "        **Recreation,\n",
    "    }\n",
    "    \n",
    "    print(\"objectives for BDS loaded\")"
   ]
  },
  {
   "cell_type": "markdown",
   "metadata": {},
   "source": [
    "### BES - Bioeconomy Strategy"
   ]
  },
  {
   "cell_type": "code",
   "execution_count": 16,
   "metadata": {},
   "outputs": [
    {
     "name": "stdout",
     "output_type": "stream",
     "text": [
      "objectives for BES loaded\n"
     ]
    }
   ],
   "source": [
    "if scenario == 'BES':\n",
    "    \n",
    "    wood_production_bionergy = {\n",
    "    \n",
    "    # harvest net value - maximise\n",
    "    \"harvest_netvalue_Mnok_min\": [\"Maximize netvalue (MAX Millions nok/m2) min\",\n",
    "                                  \"harv_net_Mnok_TotNor\", \"max\",\"min\",\"sum\"], \n",
    "    \"harvest_netvalue_Mnok_sum\": [\"Maximize netvalue (MAX Millions nok/m2) max\",\n",
    "                                  \"harv_net_Mnok_TotNor\", \"max\",\"sum\",\"sum\"], \n",
    "        \n",
    "    # GROT in plots with cost under 150 NOK   - maximise\n",
    "    \"GROTIncreaseInHarvCost200\":[\"Maximize GROT in plots with harvest cost under 200 (maX)\",\n",
    "                                 \"GROT_kt_TotNor\", \"max\",\"minYearlyIncrease\",\"subsetSum\",\"harv_cost_u200\"],\n",
    "    \"GROTMaxMinnHarvCost200\":[\"Maximize GROT in plots with harvest cost under 200 (MAX)\",\n",
    "                               \"GROT_kt_TotNor\", \"max\",\"min\",\"subsetSum\",\"harv_cost_u200\"],\n",
    "    }\n",
    "    \n",
    "    Biodiversity = {\n",
    "        \n",
    "    # MIS area  - maximise\n",
    "    \"MiSMaxMin\":[\"Not decreasing area of MiS classified plots (max)\",\n",
    "                 \"Relative_MiS_ha\", \n",
    "                 \"max\",\"min\",\"sum\"],\n",
    "        \n",
    "    }\n",
    "    \n",
    "    Climate_regulation = {\n",
    "    # C02 in wooden products  - maximise\n",
    "    \"CO2_HWP_kt\": [\" Max Co2 storage in wooden products (maximize kt over all years)\",\n",
    "                   \"HWP_C02_TotNor\", \"max\",\"sum\",\"sum\"],\n",
    "    \n",
    "    \"CO2_in_forest\": [\" Max Co2 uptake in forest\",\n",
    "                      \"CO2_forest_Mil_Kt_TotNor\", \"max\",\"sum\",\"sum\"],\n",
    "    }\n",
    "    \n",
    "    \n",
    "    Recreation = {\n",
    "    # harvest in cityForest plot - minimize\n",
    "    \"harvest_in_cityForest\": [\"MinSum city forest (not decreasing)\", \n",
    "                              \"FinaL_city\",\n",
    "                              \"min\", \"sum\", \"areaWeightedSum\"],\n",
    "    # plots with high Shann - maximize\n",
    "    \"ShannonIncrease\":[\"MAxMin Shanon in plots with larger dbh (not decrease)\",\n",
    "                       \"Relative_Sha_highclassdbh_Tot_Nor\", \n",
    "                       \"max\", \"min\",\"sum\"] ,\n",
    "  } \n",
    "        \n",
    "    objectives = {\n",
    "        **wood_production_bionergy,\n",
    "        **Biodiversity,\n",
    "        **Climate_regulation,\n",
    "        **Recreation,\n",
    "    }\n",
    "    \n",
    "    print(\"objectives for BES loaded\")"
   ]
  },
  {
   "cell_type": "code",
   "execution_count": 17,
   "metadata": {},
   "outputs": [
    {
     "data": {
      "text/plain": [
       "{'harvest_netvalue_Mnok_min': ['Maximize netvalue (MAX Millions nok/m2) min',\n",
       "  'harv_net_Mnok_TotNor',\n",
       "  'max',\n",
       "  'min',\n",
       "  'sum'],\n",
       " 'harvest_netvalue_Mnok_sum': ['Maximize netvalue (MAX Millions nok/m2) max',\n",
       "  'harv_net_Mnok_TotNor',\n",
       "  'max',\n",
       "  'sum',\n",
       "  'sum'],\n",
       " 'GROTIncreaseInHarvCost200': ['Maximize GROT in plots with harvest cost under 200 (maX)',\n",
       "  'GROT_kt_TotNor',\n",
       "  'max',\n",
       "  'minYearlyIncrease',\n",
       "  'subsetSum',\n",
       "  'harv_cost_u200'],\n",
       " 'GROTMaxMinnHarvCost200': ['Maximize GROT in plots with harvest cost under 200 (MAX)',\n",
       "  'GROT_kt_TotNor',\n",
       "  'max',\n",
       "  'min',\n",
       "  'subsetSum',\n",
       "  'harv_cost_u200'],\n",
       " 'MiSMaxMin': ['Not decreasing area of MiS classified plots (max)',\n",
       "  'Relative_MiS_ha',\n",
       "  'max',\n",
       "  'min',\n",
       "  'sum'],\n",
       " 'CO2_HWP_kt': [' Max Co2 storage in wooden products (maximize kt over all years)',\n",
       "  'HWP_C02_TotNor',\n",
       "  'max',\n",
       "  'sum',\n",
       "  'sum'],\n",
       " 'CO2_in_forest': [' Max Co2 uptake in forest',\n",
       "  'CO2_forest_Mil_Kt_TotNor',\n",
       "  'max',\n",
       "  'sum',\n",
       "  'sum'],\n",
       " 'harvest_in_cityForest': ['MinSum city forest (not decreasing)',\n",
       "  'FinaL_city',\n",
       "  'min',\n",
       "  'sum',\n",
       "  'areaWeightedSum'],\n",
       " 'ShannonIncrease': ['MAxMin Shanon in plots with larger dbh (not decrease)',\n",
       "  'Relative_Sha_highclassdbh_Tot_Nor',\n",
       "  'max',\n",
       "  'min',\n",
       "  'sum']}"
      ]
     },
     "execution_count": 17,
     "metadata": {},
     "output_type": "execute_result"
    }
   ],
   "source": [
    "objectives"
   ]
  },
  {
   "cell_type": "code",
   "execution_count": 18,
   "metadata": {},
   "outputs": [
    {
     "data": {
      "text/plain": [
       "9"
      ]
     },
     "execution_count": 18,
     "metadata": {},
     "output_type": "execute_result"
    }
   ],
   "source": [
    "len(objectives)"
   ]
  },
  {
   "cell_type": "code",
   "execution_count": 19,
   "metadata": {},
   "outputs": [
    {
     "data": {
      "text/plain": [
       "dict_keys(['harvest_netvalue_Mnok_min', 'harvest_netvalue_Mnok_sum', 'GROTIncreaseInHarvCost200', 'GROTMaxMinnHarvCost200', 'MiSMaxMin', 'CO2_HWP_kt', 'CO2_in_forest', 'harvest_in_cityForest', 'ShannonIncrease'])"
      ]
     },
     "execution_count": 19,
     "metadata": {},
     "output_type": "execute_result"
    }
   ],
   "source": [
    "objectives.keys()"
   ]
  },
  {
   "cell_type": "code",
   "execution_count": 20,
   "metadata": {},
   "outputs": [
    {
     "data": {
      "text/plain": [
       "Index(['period', 'pulp_vol_m3', 'harv_cost_nok_m3', 'harv_cost_u150',\n",
       "       'harv_cost_u200', 'net_increment_m3', 'is_old', 'is_broadleave',\n",
       "       'MiS_classified_plot', 'bilberry_cover_pr', 'GROT_kt_TotNor',\n",
       "       'vol_saw_m3', 'saw_CO2_t', 'vol_panels_m3', 'panels_CO2_t', 'albedo',\n",
       "       'is_steep_terrain', 'is_vernskog', 'is_city_forest', 'shan',\n",
       "       'class_dbh', 'ha2total', 'management', 'harv_net_Mnok_TotNor',\n",
       "       'harv_vol_Mm3_TotNor', 'saw_vol_Mm3_TotNor', 'pulp_vol_Mm3_TotNor',\n",
       "       'dead_vol_Mm3_TotNor', 'tsd_ha2total', 'CO2_forest_Mil_Kt_TotNor',\n",
       "       'CO2_forest_Mil_Kt_TotNor_no_albedo', 'saw_CO2_change_Kt_TotNor',\n",
       "       'saw_CO2_Kt_TotNor', 'panels_CO2_change_Kt_TotNor', 'HWP_C02_TotNor',\n",
       "       'Bilberry_ha_TotNor', 'MiS_ha', 'SawTimber_Mm3_year', 'pulp_Mm3_year',\n",
       "       'GROT_t', 'GROT_m3', 'GROT_Mm3', 'Residues_Mm3_year',\n",
       "       'harvest_demands_Mm3_year', 'regime.class', 'finalFelling', 'is_CCF',\n",
       "       'is_nomanagement', 'is_vers_or_ste', 'FinaL_versk', 'FinaL_city',\n",
       "       'High_classdbh', 'Sha_highclassdbh_Tot_Nor', 'Relative_albedo',\n",
       "       'Relative_shan', 'Relative_ha2total', 'Relative_dead_vol_Mm3_TotNor',\n",
       "       'Relative_tsd_ha2total', 'Relative_CO2_forest_Mil_Kt_TotNor',\n",
       "       'Relative_CO2_forest_Mil_Kt_TotNor_no_albedo',\n",
       "       'Relative_Bilberry_ha_TotNor', 'Relative_MiS_ha',\n",
       "       'Relative_Sha_highclassdbh_Tot_Nor', 'Relative_pulp_vol_m3',\n",
       "       'Relative_harv_cost_nok_m3', 'Relative_net_increment_m3',\n",
       "       'Relative_GROT_kt_TotNor', 'Relative_vol_saw_m3', 'Relative_saw_CO2_t',\n",
       "       'Relative_vol_panels_m3', 'Relative_panels_CO2_t',\n",
       "       'Relative_harv_net_Mnok_TotNor', 'Relative_harv_vol_Mm3_TotNor',\n",
       "       'Relative_saw_vol_Mm3_TotNor', 'Relative_pulp_vol_Mm3_TotNor',\n",
       "       'Relative_saw_CO2_change_Kt_TotNor', 'Relative_saw_CO2_Kt_TotNor',\n",
       "       'Relative_panels_CO2_change_Kt_TotNor', 'Relative_HWP_C02_TotNor',\n",
       "       'Relative_SawTimber_Mm3_year', 'Relative_pulp_Mm3_year',\n",
       "       'Relative_GROT_t', 'Relative_GROT_m3', 'Relative_GROT_Mm3',\n",
       "       'Relative_Residues_Mm3_year', 'Relative_harvest_demands_Mm3_year',\n",
       "       'Relative_Relative_albedo', 'Relative_Relative_shan',\n",
       "       'Relative_Relative_ha2total', 'Relative_Relative_dead_vol_Mm3_TotNor',\n",
       "       'Relative_Relative_tsd_ha2total',\n",
       "       'Relative_Relative_CO2_forest_Mil_Kt_TotNor',\n",
       "       'Relative_Relative_CO2_forest_Mil_Kt_TotNor_no_albedo',\n",
       "       'Relative_Relative_Bilberry_ha_TotNor', 'Relative_Relative_MiS_ha',\n",
       "       'Relative_Relative_Sha_highclassdbh_Tot_Nor'],\n",
       "      dtype='object')"
      ]
     },
     "execution_count": 20,
     "metadata": {},
     "output_type": "execute_result"
    }
   ],
   "source": [
    "mfo.data.columns"
   ]
  },
  {
   "cell_type": "code",
   "execution_count": 21,
   "metadata": {
    "scrolled": true
   },
   "outputs": [
    {
     "data": {
      "text/plain": [
       "'Defining objectives'"
      ]
     },
     "metadata": {},
     "output_type": "display_data"
    },
    {
     "data": {
      "text/plain": [
       "'Aggregating stand wise'"
      ]
     },
     "metadata": {},
     "output_type": "display_data"
    },
    {
     "name": "stderr",
     "output_type": "stream",
     "text": [
      "100%|██████████| 9/9 [01:15<00:00,  8.35s/it]\n"
     ]
    },
    {
     "data": {
      "text/plain": [
       "'Aggregating year wise'"
      ]
     },
     "metadata": {},
     "output_type": "display_data"
    },
    {
     "name": "stdout",
     "output_type": "stream",
     "text": [
      "100%|██████████| 9/9 [00:00<00:00, 4583.38it/s]\n"
     ]
    },
    {
     "data": {
      "text/plain": [
       "'Objectives added'"
      ]
     },
     "metadata": {},
     "output_type": "display_data"
    }
   ],
   "source": [
    "mfo.defineObjectives(objectives)"
   ]
  },
  {
   "cell_type": "markdown",
   "metadata": {},
   "source": [
    "# GLOBIOM"
   ]
  },
  {
   "cell_type": "code",
   "execution_count": 22,
   "metadata": {},
   "outputs": [],
   "source": [
    "demands = pd.read_csv('NOR_globiomNDC_all.csv') "
   ]
  },
  {
   "cell_type": "code",
   "execution_count": 23,
   "metadata": {},
   "outputs": [],
   "source": [
    "Globiom_dem = demands[\"Globiom_demands\"]*5\n",
    "Globiom_dem = Globiom_dem.to_list()"
   ]
  },
  {
   "cell_type": "code",
   "execution_count": 24,
   "metadata": {},
   "outputs": [],
   "source": [
    "mfo.addGlobiomTargets(\n",
    "    {\n",
    "    \n",
    "    \"GHarvDemands\": Globiom_dem\n",
    "    },\n",
    "    {\n",
    "         #'saw_vol_Mm3_TotNor', 'pulp_vol_Mm3_TotNor'\n",
    "        \n",
    "        #Log is converted primarily into log, and sencondary into pulp; no transferrate, both are volumes under bark\n",
    "        \"harv_vol_Mm3_TotNor\":\n",
    "            {\"GHarvDemands\":[1,\"primary\"]},\n",
    "            \n",
    "                          \n",
    "    },exactMatching=True\n",
    "    \n",
    ")"
   ]
  },
  {
   "cell_type": "markdown",
   "metadata": {},
   "source": [
    "## Define Enabled Constrains"
   ]
  },
  {
   "cell_type": "code",
   "execution_count": 25,
   "metadata": {},
   "outputs": [],
   "source": [
    "constraints = {\n",
    "    \"TotalHarvestDec\": [\"Species reduction\",\n",
    "                   \"Max harvest reduction 10%\", \"harv_vol_Mm3_TotNor\",1, 0.10]}"
   ]
  },
  {
   "cell_type": "code",
   "execution_count": 26,
   "metadata": {},
   "outputs": [],
   "source": [
    "mfo.defineConstraints(constraints)"
   ]
  },
  {
   "cell_type": "markdown",
   "metadata": {},
   "source": [
    "## Calculate objective ranges"
   ]
  },
  {
   "cell_type": "code",
   "execution_count": 27,
   "metadata": {},
   "outputs": [
    {
     "data": {
      "text/html": [
       "<div>\n",
       "<style scoped>\n",
       "    .dataframe tbody tr th:only-of-type {\n",
       "        vertical-align: middle;\n",
       "    }\n",
       "\n",
       "    .dataframe tbody tr th {\n",
       "        vertical-align: top;\n",
       "    }\n",
       "\n",
       "    .dataframe thead th {\n",
       "        text-align: right;\n",
       "    }\n",
       "</style>\n",
       "<table border=\"1\" class=\"dataframe\">\n",
       "  <thead>\n",
       "    <tr style=\"text-align: right;\">\n",
       "      <th></th>\n",
       "      <th></th>\n",
       "      <th></th>\n",
       "      <th>period</th>\n",
       "      <th>pulp_vol_m3</th>\n",
       "      <th>harv_cost_nok_m3</th>\n",
       "      <th>harv_cost_u150</th>\n",
       "      <th>harv_cost_u200</th>\n",
       "      <th>net_increment_m3</th>\n",
       "      <th>is_old</th>\n",
       "      <th>is_broadleave</th>\n",
       "      <th>MiS_classified_plot</th>\n",
       "      <th>bilberry_cover_pr</th>\n",
       "      <th>...</th>\n",
       "      <th>Relative_Relative_albedo</th>\n",
       "      <th>Relative_Relative_shan</th>\n",
       "      <th>Relative_Relative_ha2total</th>\n",
       "      <th>Relative_Relative_dead_vol_Mm3_TotNor</th>\n",
       "      <th>Relative_Relative_tsd_ha2total</th>\n",
       "      <th>Relative_Relative_CO2_forest_Mil_Kt_TotNor</th>\n",
       "      <th>Relative_Relative_CO2_forest_Mil_Kt_TotNor_no_albedo</th>\n",
       "      <th>Relative_Relative_Bilberry_ha_TotNor</th>\n",
       "      <th>Relative_Relative_MiS_ha</th>\n",
       "      <th>Relative_Relative_Sha_highclassdbh_Tot_Nor</th>\n",
       "    </tr>\n",
       "    <tr>\n",
       "      <th>plot_id</th>\n",
       "      <th>year</th>\n",
       "      <th>regime</th>\n",
       "      <th></th>\n",
       "      <th></th>\n",
       "      <th></th>\n",
       "      <th></th>\n",
       "      <th></th>\n",
       "      <th></th>\n",
       "      <th></th>\n",
       "      <th></th>\n",
       "      <th></th>\n",
       "      <th></th>\n",
       "      <th></th>\n",
       "      <th></th>\n",
       "      <th></th>\n",
       "      <th></th>\n",
       "      <th></th>\n",
       "      <th></th>\n",
       "      <th></th>\n",
       "      <th></th>\n",
       "      <th></th>\n",
       "      <th></th>\n",
       "      <th></th>\n",
       "    </tr>\n",
       "  </thead>\n",
       "  <tbody>\n",
       "    <tr>\n",
       "      <th rowspan=\"5\" valign=\"top\">A03187-1</th>\n",
       "      <th rowspan=\"5\" valign=\"top\">2028</th>\n",
       "      <th>SimOpt_extensive_0</th>\n",
       "      <td>t2</td>\n",
       "      <td>0.00000</td>\n",
       "      <td>0.000000</td>\n",
       "      <td>0</td>\n",
       "      <td>0</td>\n",
       "      <td>0.000000</td>\n",
       "      <td>0</td>\n",
       "      <td>0</td>\n",
       "      <td>0</td>\n",
       "      <td>2</td>\n",
       "      <td>...</td>\n",
       "      <td>9.025961e-07</td>\n",
       "      <td>0.000000e+00</td>\n",
       "      <td>4.010508e-07</td>\n",
       "      <td>0.000000e+00</td>\n",
       "      <td>4.010508e-07</td>\n",
       "      <td>-3.667306e-07</td>\n",
       "      <td>-4.093759e-07</td>\n",
       "      <td>7.773096e-08</td>\n",
       "      <td>0.000000</td>\n",
       "      <td>0.000000e+00</td>\n",
       "    </tr>\n",
       "    <tr>\n",
       "      <th>SimOpt_extensive_1</th>\n",
       "      <td>t2</td>\n",
       "      <td>32727.61897</td>\n",
       "      <td>909.320021</td>\n",
       "      <td>0</td>\n",
       "      <td>0</td>\n",
       "      <td>2810.612023</td>\n",
       "      <td>0</td>\n",
       "      <td>0</td>\n",
       "      <td>0</td>\n",
       "      <td>2</td>\n",
       "      <td>...</td>\n",
       "      <td>9.025961e-07</td>\n",
       "      <td>0.000000e+00</td>\n",
       "      <td>4.010508e-07</td>\n",
       "      <td>0.000000e+00</td>\n",
       "      <td>4.010508e-07</td>\n",
       "      <td>-1.846004e-06</td>\n",
       "      <td>-2.021645e-06</td>\n",
       "      <td>7.773096e-08</td>\n",
       "      <td>0.000000</td>\n",
       "      <td>0.000000e+00</td>\n",
       "    </tr>\n",
       "    <tr>\n",
       "      <th>SimOpt_extensive_10</th>\n",
       "      <td>t2</td>\n",
       "      <td>0.00000</td>\n",
       "      <td>0.000000</td>\n",
       "      <td>0</td>\n",
       "      <td>0</td>\n",
       "      <td>3994.338879</td>\n",
       "      <td>0</td>\n",
       "      <td>0</td>\n",
       "      <td>0</td>\n",
       "      <td>4</td>\n",
       "      <td>...</td>\n",
       "      <td>7.912492e-07</td>\n",
       "      <td>2.396545e-07</td>\n",
       "      <td>4.010508e-07</td>\n",
       "      <td>2.977858e-08</td>\n",
       "      <td>4.010508e-07</td>\n",
       "      <td>4.211540e-07</td>\n",
       "      <td>3.723546e-07</td>\n",
       "      <td>1.554619e-07</td>\n",
       "      <td>0.000000</td>\n",
       "      <td>1.166514e-07</td>\n",
       "    </tr>\n",
       "    <tr>\n",
       "      <th>SimOpt_extensive_11</th>\n",
       "      <td>t2</td>\n",
       "      <td>0.00000</td>\n",
       "      <td>0.000000</td>\n",
       "      <td>0</td>\n",
       "      <td>0</td>\n",
       "      <td>3994.338879</td>\n",
       "      <td>0</td>\n",
       "      <td>0</td>\n",
       "      <td>0</td>\n",
       "      <td>4</td>\n",
       "      <td>...</td>\n",
       "      <td>7.912492e-07</td>\n",
       "      <td>2.396545e-07</td>\n",
       "      <td>4.010508e-07</td>\n",
       "      <td>2.977858e-08</td>\n",
       "      <td>4.010508e-07</td>\n",
       "      <td>4.211540e-07</td>\n",
       "      <td>3.723546e-07</td>\n",
       "      <td>1.554619e-07</td>\n",
       "      <td>0.000000</td>\n",
       "      <td>1.166514e-07</td>\n",
       "    </tr>\n",
       "    <tr>\n",
       "      <th>SimOpt_extensive_12</th>\n",
       "      <td>t2</td>\n",
       "      <td>0.00000</td>\n",
       "      <td>0.000000</td>\n",
       "      <td>0</td>\n",
       "      <td>0</td>\n",
       "      <td>3994.338879</td>\n",
       "      <td>0</td>\n",
       "      <td>0</td>\n",
       "      <td>0</td>\n",
       "      <td>4</td>\n",
       "      <td>...</td>\n",
       "      <td>7.912492e-07</td>\n",
       "      <td>2.396545e-07</td>\n",
       "      <td>4.010508e-07</td>\n",
       "      <td>2.977858e-08</td>\n",
       "      <td>4.010508e-07</td>\n",
       "      <td>4.211540e-07</td>\n",
       "      <td>3.723546e-07</td>\n",
       "      <td>1.554619e-07</td>\n",
       "      <td>0.000000</td>\n",
       "      <td>1.166514e-07</td>\n",
       "    </tr>\n",
       "    <tr>\n",
       "      <th>...</th>\n",
       "      <th>...</th>\n",
       "      <th>...</th>\n",
       "      <td>...</td>\n",
       "      <td>...</td>\n",
       "      <td>...</td>\n",
       "      <td>...</td>\n",
       "      <td>...</td>\n",
       "      <td>...</td>\n",
       "      <td>...</td>\n",
       "      <td>...</td>\n",
       "      <td>...</td>\n",
       "      <td>...</td>\n",
       "      <td>...</td>\n",
       "      <td>...</td>\n",
       "      <td>...</td>\n",
       "      <td>...</td>\n",
       "      <td>...</td>\n",
       "      <td>...</td>\n",
       "      <td>...</td>\n",
       "      <td>...</td>\n",
       "      <td>...</td>\n",
       "      <td>...</td>\n",
       "      <td>...</td>\n",
       "    </tr>\n",
       "    <tr>\n",
       "      <th rowspan=\"5\" valign=\"top\">H08221-0</th>\n",
       "      <th rowspan=\"2\" valign=\"top\">2093</th>\n",
       "      <th>SimOpt_extensive_long_0</th>\n",
       "      <td>t15</td>\n",
       "      <td>0.00000</td>\n",
       "      <td>0.000000</td>\n",
       "      <td>0</td>\n",
       "      <td>0</td>\n",
       "      <td>0.000000</td>\n",
       "      <td>0</td>\n",
       "      <td>0</td>\n",
       "      <td>0</td>\n",
       "      <td>2</td>\n",
       "      <td>...</td>\n",
       "      <td>1.088301e-06</td>\n",
       "      <td>0.000000e+00</td>\n",
       "      <td>7.303183e-06</td>\n",
       "      <td>1.803647e-06</td>\n",
       "      <td>7.303183e-06</td>\n",
       "      <td>-4.654305e-06</td>\n",
       "      <td>-4.606389e-06</td>\n",
       "      <td>1.415490e-06</td>\n",
       "      <td>0.000000</td>\n",
       "      <td>0.000000e+00</td>\n",
       "    </tr>\n",
       "    <tr>\n",
       "      <th>SimOpt_no_management_0</th>\n",
       "      <td>t15</td>\n",
       "      <td>0.00000</td>\n",
       "      <td>0.000000</td>\n",
       "      <td>0</td>\n",
       "      <td>0</td>\n",
       "      <td>-25382.949604</td>\n",
       "      <td>0</td>\n",
       "      <td>0</td>\n",
       "      <td>0</td>\n",
       "      <td>3</td>\n",
       "      <td>...</td>\n",
       "      <td>9.494990e-07</td>\n",
       "      <td>7.122338e-07</td>\n",
       "      <td>7.303183e-06</td>\n",
       "      <td>6.141842e-06</td>\n",
       "      <td>7.303183e-06</td>\n",
       "      <td>1.351492e-06</td>\n",
       "      <td>1.020937e-06</td>\n",
       "      <td>2.123235e-06</td>\n",
       "      <td>0.000000</td>\n",
       "      <td>6.313058e-06</td>\n",
       "    </tr>\n",
       "    <tr>\n",
       "      <th rowspan=\"3\" valign=\"top\">2098</th>\n",
       "      <th>SimOpt_extensive_0</th>\n",
       "      <td>t16</td>\n",
       "      <td>0.00000</td>\n",
       "      <td>0.000000</td>\n",
       "      <td>0</td>\n",
       "      <td>0</td>\n",
       "      <td>142467.765186</td>\n",
       "      <td>0</td>\n",
       "      <td>1</td>\n",
       "      <td>1</td>\n",
       "      <td>2</td>\n",
       "      <td>...</td>\n",
       "      <td>9.681839e-07</td>\n",
       "      <td>9.791785e-07</td>\n",
       "      <td>7.303183e-06</td>\n",
       "      <td>5.496034e-07</td>\n",
       "      <td>7.303183e-06</td>\n",
       "      <td>1.769237e-05</td>\n",
       "      <td>1.786760e-05</td>\n",
       "      <td>1.415490e-06</td>\n",
       "      <td>0.000012</td>\n",
       "      <td>8.679187e-06</td>\n",
       "    </tr>\n",
       "    <tr>\n",
       "      <th>SimOpt_extensive_long_0</th>\n",
       "      <td>t16</td>\n",
       "      <td>0.00000</td>\n",
       "      <td>0.000000</td>\n",
       "      <td>0</td>\n",
       "      <td>0</td>\n",
       "      <td>0.000000</td>\n",
       "      <td>0</td>\n",
       "      <td>0</td>\n",
       "      <td>0</td>\n",
       "      <td>2</td>\n",
       "      <td>...</td>\n",
       "      <td>1.047881e-06</td>\n",
       "      <td>0.000000e+00</td>\n",
       "      <td>7.303183e-06</td>\n",
       "      <td>1.803647e-06</td>\n",
       "      <td>7.303183e-06</td>\n",
       "      <td>-5.412060e-06</td>\n",
       "      <td>-4.050062e-06</td>\n",
       "      <td>1.415490e-06</td>\n",
       "      <td>0.000000</td>\n",
       "      <td>0.000000e+00</td>\n",
       "    </tr>\n",
       "    <tr>\n",
       "      <th>SimOpt_no_management_0</th>\n",
       "      <td>t16</td>\n",
       "      <td>0.00000</td>\n",
       "      <td>0.000000</td>\n",
       "      <td>0</td>\n",
       "      <td>0</td>\n",
       "      <td>18267.237080</td>\n",
       "      <td>0</td>\n",
       "      <td>0</td>\n",
       "      <td>0</td>\n",
       "      <td>3</td>\n",
       "      <td>...</td>\n",
       "      <td>9.384406e-07</td>\n",
       "      <td>7.228733e-07</td>\n",
       "      <td>7.303183e-06</td>\n",
       "      <td>6.927970e-06</td>\n",
       "      <td>7.303183e-06</td>\n",
       "      <td>2.640400e-06</td>\n",
       "      <td>3.143965e-06</td>\n",
       "      <td>2.123235e-06</td>\n",
       "      <td>0.000000</td>\n",
       "      <td>6.407364e-06</td>\n",
       "    </tr>\n",
       "  </tbody>\n",
       "</table>\n",
       "<p>748275 rows × 96 columns</p>\n",
       "</div>"
      ],
      "text/plain": [
       "                                      period  pulp_vol_m3  harv_cost_nok_m3  \\\n",
       "plot_id  year regime                                                          \n",
       "A03187-1 2028 SimOpt_extensive_0          t2      0.00000          0.000000   \n",
       "              SimOpt_extensive_1          t2  32727.61897        909.320021   \n",
       "              SimOpt_extensive_10         t2      0.00000          0.000000   \n",
       "              SimOpt_extensive_11         t2      0.00000          0.000000   \n",
       "              SimOpt_extensive_12         t2      0.00000          0.000000   \n",
       "...                                      ...          ...               ...   \n",
       "H08221-0 2093 SimOpt_extensive_long_0    t15      0.00000          0.000000   \n",
       "              SimOpt_no_management_0     t15      0.00000          0.000000   \n",
       "         2098 SimOpt_extensive_0         t16      0.00000          0.000000   \n",
       "              SimOpt_extensive_long_0    t16      0.00000          0.000000   \n",
       "              SimOpt_no_management_0     t16      0.00000          0.000000   \n",
       "\n",
       "                                       harv_cost_u150  harv_cost_u200  \\\n",
       "plot_id  year regime                                                    \n",
       "A03187-1 2028 SimOpt_extensive_0                    0               0   \n",
       "              SimOpt_extensive_1                    0               0   \n",
       "              SimOpt_extensive_10                   0               0   \n",
       "              SimOpt_extensive_11                   0               0   \n",
       "              SimOpt_extensive_12                   0               0   \n",
       "...                                               ...             ...   \n",
       "H08221-0 2093 SimOpt_extensive_long_0               0               0   \n",
       "              SimOpt_no_management_0                0               0   \n",
       "         2098 SimOpt_extensive_0                    0               0   \n",
       "              SimOpt_extensive_long_0               0               0   \n",
       "              SimOpt_no_management_0                0               0   \n",
       "\n",
       "                                       net_increment_m3  is_old  \\\n",
       "plot_id  year regime                                              \n",
       "A03187-1 2028 SimOpt_extensive_0               0.000000       0   \n",
       "              SimOpt_extensive_1            2810.612023       0   \n",
       "              SimOpt_extensive_10           3994.338879       0   \n",
       "              SimOpt_extensive_11           3994.338879       0   \n",
       "              SimOpt_extensive_12           3994.338879       0   \n",
       "...                                                 ...     ...   \n",
       "H08221-0 2093 SimOpt_extensive_long_0          0.000000       0   \n",
       "              SimOpt_no_management_0      -25382.949604       0   \n",
       "         2098 SimOpt_extensive_0          142467.765186       0   \n",
       "              SimOpt_extensive_long_0          0.000000       0   \n",
       "              SimOpt_no_management_0       18267.237080       0   \n",
       "\n",
       "                                       is_broadleave  MiS_classified_plot  \\\n",
       "plot_id  year regime                                                        \n",
       "A03187-1 2028 SimOpt_extensive_0                   0                    0   \n",
       "              SimOpt_extensive_1                   0                    0   \n",
       "              SimOpt_extensive_10                  0                    0   \n",
       "              SimOpt_extensive_11                  0                    0   \n",
       "              SimOpt_extensive_12                  0                    0   \n",
       "...                                              ...                  ...   \n",
       "H08221-0 2093 SimOpt_extensive_long_0              0                    0   \n",
       "              SimOpt_no_management_0               0                    0   \n",
       "         2098 SimOpt_extensive_0                   1                    1   \n",
       "              SimOpt_extensive_long_0              0                    0   \n",
       "              SimOpt_no_management_0               0                    0   \n",
       "\n",
       "                                       bilberry_cover_pr  ...  \\\n",
       "plot_id  year regime                                      ...   \n",
       "A03187-1 2028 SimOpt_extensive_0                       2  ...   \n",
       "              SimOpt_extensive_1                       2  ...   \n",
       "              SimOpt_extensive_10                      4  ...   \n",
       "              SimOpt_extensive_11                      4  ...   \n",
       "              SimOpt_extensive_12                      4  ...   \n",
       "...                                                  ...  ...   \n",
       "H08221-0 2093 SimOpt_extensive_long_0                  2  ...   \n",
       "              SimOpt_no_management_0                   3  ...   \n",
       "         2098 SimOpt_extensive_0                       2  ...   \n",
       "              SimOpt_extensive_long_0                  2  ...   \n",
       "              SimOpt_no_management_0                   3  ...   \n",
       "\n",
       "                                       Relative_Relative_albedo  \\\n",
       "plot_id  year regime                                              \n",
       "A03187-1 2028 SimOpt_extensive_0                   9.025961e-07   \n",
       "              SimOpt_extensive_1                   9.025961e-07   \n",
       "              SimOpt_extensive_10                  7.912492e-07   \n",
       "              SimOpt_extensive_11                  7.912492e-07   \n",
       "              SimOpt_extensive_12                  7.912492e-07   \n",
       "...                                                         ...   \n",
       "H08221-0 2093 SimOpt_extensive_long_0              1.088301e-06   \n",
       "              SimOpt_no_management_0               9.494990e-07   \n",
       "         2098 SimOpt_extensive_0                   9.681839e-07   \n",
       "              SimOpt_extensive_long_0              1.047881e-06   \n",
       "              SimOpt_no_management_0               9.384406e-07   \n",
       "\n",
       "                                       Relative_Relative_shan  \\\n",
       "plot_id  year regime                                            \n",
       "A03187-1 2028 SimOpt_extensive_0                 0.000000e+00   \n",
       "              SimOpt_extensive_1                 0.000000e+00   \n",
       "              SimOpt_extensive_10                2.396545e-07   \n",
       "              SimOpt_extensive_11                2.396545e-07   \n",
       "              SimOpt_extensive_12                2.396545e-07   \n",
       "...                                                       ...   \n",
       "H08221-0 2093 SimOpt_extensive_long_0            0.000000e+00   \n",
       "              SimOpt_no_management_0             7.122338e-07   \n",
       "         2098 SimOpt_extensive_0                 9.791785e-07   \n",
       "              SimOpt_extensive_long_0            0.000000e+00   \n",
       "              SimOpt_no_management_0             7.228733e-07   \n",
       "\n",
       "                                       Relative_Relative_ha2total  \\\n",
       "plot_id  year regime                                                \n",
       "A03187-1 2028 SimOpt_extensive_0                     4.010508e-07   \n",
       "              SimOpt_extensive_1                     4.010508e-07   \n",
       "              SimOpt_extensive_10                    4.010508e-07   \n",
       "              SimOpt_extensive_11                    4.010508e-07   \n",
       "              SimOpt_extensive_12                    4.010508e-07   \n",
       "...                                                           ...   \n",
       "H08221-0 2093 SimOpt_extensive_long_0                7.303183e-06   \n",
       "              SimOpt_no_management_0                 7.303183e-06   \n",
       "         2098 SimOpt_extensive_0                     7.303183e-06   \n",
       "              SimOpt_extensive_long_0                7.303183e-06   \n",
       "              SimOpt_no_management_0                 7.303183e-06   \n",
       "\n",
       "                                       Relative_Relative_dead_vol_Mm3_TotNor  \\\n",
       "plot_id  year regime                                                           \n",
       "A03187-1 2028 SimOpt_extensive_0                                0.000000e+00   \n",
       "              SimOpt_extensive_1                                0.000000e+00   \n",
       "              SimOpt_extensive_10                               2.977858e-08   \n",
       "              SimOpt_extensive_11                               2.977858e-08   \n",
       "              SimOpt_extensive_12                               2.977858e-08   \n",
       "...                                                                      ...   \n",
       "H08221-0 2093 SimOpt_extensive_long_0                           1.803647e-06   \n",
       "              SimOpt_no_management_0                            6.141842e-06   \n",
       "         2098 SimOpt_extensive_0                                5.496034e-07   \n",
       "              SimOpt_extensive_long_0                           1.803647e-06   \n",
       "              SimOpt_no_management_0                            6.927970e-06   \n",
       "\n",
       "                                       Relative_Relative_tsd_ha2total  \\\n",
       "plot_id  year regime                                                    \n",
       "A03187-1 2028 SimOpt_extensive_0                         4.010508e-07   \n",
       "              SimOpt_extensive_1                         4.010508e-07   \n",
       "              SimOpt_extensive_10                        4.010508e-07   \n",
       "              SimOpt_extensive_11                        4.010508e-07   \n",
       "              SimOpt_extensive_12                        4.010508e-07   \n",
       "...                                                               ...   \n",
       "H08221-0 2093 SimOpt_extensive_long_0                    7.303183e-06   \n",
       "              SimOpt_no_management_0                     7.303183e-06   \n",
       "         2098 SimOpt_extensive_0                         7.303183e-06   \n",
       "              SimOpt_extensive_long_0                    7.303183e-06   \n",
       "              SimOpt_no_management_0                     7.303183e-06   \n",
       "\n",
       "                                       Relative_Relative_CO2_forest_Mil_Kt_TotNor  \\\n",
       "plot_id  year regime                                                                \n",
       "A03187-1 2028 SimOpt_extensive_0                                    -3.667306e-07   \n",
       "              SimOpt_extensive_1                                    -1.846004e-06   \n",
       "              SimOpt_extensive_10                                    4.211540e-07   \n",
       "              SimOpt_extensive_11                                    4.211540e-07   \n",
       "              SimOpt_extensive_12                                    4.211540e-07   \n",
       "...                                                                           ...   \n",
       "H08221-0 2093 SimOpt_extensive_long_0                               -4.654305e-06   \n",
       "              SimOpt_no_management_0                                 1.351492e-06   \n",
       "         2098 SimOpt_extensive_0                                     1.769237e-05   \n",
       "              SimOpt_extensive_long_0                               -5.412060e-06   \n",
       "              SimOpt_no_management_0                                 2.640400e-06   \n",
       "\n",
       "                                       Relative_Relative_CO2_forest_Mil_Kt_TotNor_no_albedo  \\\n",
       "plot_id  year regime                                                                          \n",
       "A03187-1 2028 SimOpt_extensive_0                                           -4.093759e-07      \n",
       "              SimOpt_extensive_1                                           -2.021645e-06      \n",
       "              SimOpt_extensive_10                                           3.723546e-07      \n",
       "              SimOpt_extensive_11                                           3.723546e-07      \n",
       "              SimOpt_extensive_12                                           3.723546e-07      \n",
       "...                                                                                  ...      \n",
       "H08221-0 2093 SimOpt_extensive_long_0                                      -4.606389e-06      \n",
       "              SimOpt_no_management_0                                        1.020937e-06      \n",
       "         2098 SimOpt_extensive_0                                            1.786760e-05      \n",
       "              SimOpt_extensive_long_0                                      -4.050062e-06      \n",
       "              SimOpt_no_management_0                                        3.143965e-06      \n",
       "\n",
       "                                       Relative_Relative_Bilberry_ha_TotNor  \\\n",
       "plot_id  year regime                                                          \n",
       "A03187-1 2028 SimOpt_extensive_0                               7.773096e-08   \n",
       "              SimOpt_extensive_1                               7.773096e-08   \n",
       "              SimOpt_extensive_10                              1.554619e-07   \n",
       "              SimOpt_extensive_11                              1.554619e-07   \n",
       "              SimOpt_extensive_12                              1.554619e-07   \n",
       "...                                                                     ...   \n",
       "H08221-0 2093 SimOpt_extensive_long_0                          1.415490e-06   \n",
       "              SimOpt_no_management_0                           2.123235e-06   \n",
       "         2098 SimOpt_extensive_0                               1.415490e-06   \n",
       "              SimOpt_extensive_long_0                          1.415490e-06   \n",
       "              SimOpt_no_management_0                           2.123235e-06   \n",
       "\n",
       "                                       Relative_Relative_MiS_ha  \\\n",
       "plot_id  year regime                                              \n",
       "A03187-1 2028 SimOpt_extensive_0                       0.000000   \n",
       "              SimOpt_extensive_1                       0.000000   \n",
       "              SimOpt_extensive_10                      0.000000   \n",
       "              SimOpt_extensive_11                      0.000000   \n",
       "              SimOpt_extensive_12                      0.000000   \n",
       "...                                                         ...   \n",
       "H08221-0 2093 SimOpt_extensive_long_0                  0.000000   \n",
       "              SimOpt_no_management_0                   0.000000   \n",
       "         2098 SimOpt_extensive_0                       0.000012   \n",
       "              SimOpt_extensive_long_0                  0.000000   \n",
       "              SimOpt_no_management_0                   0.000000   \n",
       "\n",
       "                                       Relative_Relative_Sha_highclassdbh_Tot_Nor  \n",
       "plot_id  year regime                                                               \n",
       "A03187-1 2028 SimOpt_extensive_0                                     0.000000e+00  \n",
       "              SimOpt_extensive_1                                     0.000000e+00  \n",
       "              SimOpt_extensive_10                                    1.166514e-07  \n",
       "              SimOpt_extensive_11                                    1.166514e-07  \n",
       "              SimOpt_extensive_12                                    1.166514e-07  \n",
       "...                                                                           ...  \n",
       "H08221-0 2093 SimOpt_extensive_long_0                                0.000000e+00  \n",
       "              SimOpt_no_management_0                                 6.313058e-06  \n",
       "         2098 SimOpt_extensive_0                                     8.679187e-06  \n",
       "              SimOpt_extensive_long_0                                0.000000e+00  \n",
       "              SimOpt_no_management_0                                 6.407364e-06  \n",
       "\n",
       "[748275 rows x 96 columns]"
      ]
     },
     "execution_count": 27,
     "metadata": {},
     "output_type": "execute_result"
    }
   ],
   "source": [
    "mfo.data"
   ]
  },
  {
   "cell_type": "markdown",
   "metadata": {},
   "source": [
    "You can run the following function twice to improve ranges accuracy.\n",
    "\n",
    "Especially, if some objectives get as lowerbounds 0:s, then it makes sense to reoptimize"
   ]
  },
  {
   "cell_type": "code",
   "execution_count": 28,
   "metadata": {
    "scrolled": false
   },
   "outputs": [
    {
     "data": {
      "text/plain": [
       "'Calculating objective ranges'"
      ]
     },
     "metadata": {},
     "output_type": "display_data"
    },
    {
     "name": "stdout",
     "output_type": "stream",
     "text": [
      "\r",
      "  0%|          | 0/10 [00:00<?, ?it/s]"
     ]
    },
    {
     "data": {
      "text/plain": [
       "'Optimizing for Maximize netvalue (MAX Millions nok/m2) min'"
      ]
     },
     "metadata": {},
     "output_type": "display_data"
    },
    {
     "data": {
      "text/plain": [
       "'Found an optimal solution in 0 seconds'"
      ]
     },
     "metadata": {},
     "output_type": "display_data"
    },
    {
     "data": {
      "text/plain": [
       "'Objective values are:'"
      ]
     },
     "metadata": {},
     "output_type": "display_data"
    },
    {
     "data": {
      "text/plain": [
       "'Maximize netvalue (MAX Millions nok/m2) min'"
      ]
     },
     "metadata": {},
     "output_type": "display_data"
    },
    {
     "data": {
      "text/plain": [
       "4501.226477720805"
      ]
     },
     "metadata": {},
     "output_type": "display_data"
    },
    {
     "data": {
      "text/plain": [
       "'Maximize netvalue (MAX Millions nok/m2) max'"
      ]
     },
     "metadata": {},
     "output_type": "display_data"
    },
    {
     "data": {
      "text/plain": [
       "67518.3971658121"
      ]
     },
     "metadata": {},
     "output_type": "display_data"
    },
    {
     "data": {
      "text/plain": [
       "'Maximize GROT in plots with harvest cost under 200 (maX)'"
      ]
     },
     "metadata": {},
     "output_type": "display_data"
    },
    {
     "data": {
      "text/plain": [
       "-692.6171720878654"
      ]
     },
     "metadata": {},
     "output_type": "display_data"
    },
    {
     "data": {
      "text/plain": [
       "'Maximize GROT in plots with harvest cost under 200 (MAX)'"
      ]
     },
     "metadata": {},
     "output_type": "display_data"
    },
    {
     "data": {
      "text/plain": [
       "1076.0580763785827"
      ]
     },
     "metadata": {},
     "output_type": "display_data"
    },
    {
     "data": {
      "text/plain": [
       "'Not decreasing area of MiS classified plots (max)'"
      ]
     },
     "metadata": {},
     "output_type": "display_data"
    },
    {
     "data": {
      "text/plain": [
       "0.0162524378982101"
      ]
     },
     "metadata": {},
     "output_type": "display_data"
    },
    {
     "data": {
      "text/plain": [
       "' Max Co2 storage in wooden products (maximize kt over all years)'"
      ]
     },
     "metadata": {},
     "output_type": "display_data"
    },
    {
     "data": {
      "text/plain": [
       "540693.4132994029"
      ]
     },
     "metadata": {},
     "output_type": "display_data"
    },
    {
     "data": {
      "text/plain": [
       "' Max Co2 uptake in forest'"
      ]
     },
     "metadata": {},
     "output_type": "display_data"
    },
    {
     "data": {
      "text/plain": [
       "-79.34085445504778"
      ]
     },
     "metadata": {},
     "output_type": "display_data"
    },
    {
     "data": {
      "text/plain": [
       "'MinSum city forest (not decreasing)'"
      ]
     },
     "metadata": {},
     "output_type": "display_data"
    },
    {
     "data": {
      "text/plain": [
       "277.34791372996807"
      ]
     },
     "metadata": {},
     "output_type": "display_data"
    },
    {
     "data": {
      "text/plain": [
       "'MAxMin Shanon in plots with larger dbh (not decrease)'"
      ]
     },
     "metadata": {},
     "output_type": "display_data"
    },
    {
     "data": {
      "text/plain": [
       "0.016702749566734353"
      ]
     },
     "metadata": {},
     "output_type": "display_data"
    },
    {
     "data": {
      "text/plain": [
       "'Relative meeting of globiom target for GHarvDemands'"
      ]
     },
     "metadata": {},
     "output_type": "display_data"
    },
    {
     "data": {
      "text/plain": [
       "64.07760707833532"
      ]
     },
     "metadata": {},
     "output_type": "display_data"
    },
    {
     "name": "stdout",
     "output_type": "stream",
     "text": [
      "\r",
      " 10%|█         | 1/10 [00:03<00:32,  3.58s/it]"
     ]
    },
    {
     "data": {
      "text/plain": [
       "'Optimizing for Maximize netvalue (MAX Millions nok/m2) max'"
      ]
     },
     "metadata": {},
     "output_type": "display_data"
    },
    {
     "data": {
      "text/plain": [
       "'Found an optimal solution in 0 seconds'"
      ]
     },
     "metadata": {},
     "output_type": "display_data"
    },
    {
     "data": {
      "text/plain": [
       "'Objective values are:'"
      ]
     },
     "metadata": {},
     "output_type": "display_data"
    },
    {
     "data": {
      "text/plain": [
       "'Maximize netvalue (MAX Millions nok/m2) min'"
      ]
     },
     "metadata": {},
     "output_type": "display_data"
    },
    {
     "data": {
      "text/plain": [
       "184.8479307084678"
      ]
     },
     "metadata": {},
     "output_type": "display_data"
    },
    {
     "data": {
      "text/plain": [
       "'Maximize netvalue (MAX Millions nok/m2) max'"
      ]
     },
     "metadata": {},
     "output_type": "display_data"
    },
    {
     "data": {
      "text/plain": [
       "81528.26074646614"
      ]
     },
     "metadata": {},
     "output_type": "display_data"
    },
    {
     "data": {
      "text/plain": [
       "'Maximize GROT in plots with harvest cost under 200 (maX)'"
      ]
     },
     "metadata": {},
     "output_type": "display_data"
    },
    {
     "data": {
      "text/plain": [
       "-733.6068309274451"
      ]
     },
     "metadata": {},
     "output_type": "display_data"
    },
    {
     "data": {
      "text/plain": [
       "'Maximize GROT in plots with harvest cost under 200 (MAX)'"
      ]
     },
     "metadata": {},
     "output_type": "display_data"
    },
    {
     "data": {
      "text/plain": [
       "83.43209637037714"
      ]
     },
     "metadata": {},
     "output_type": "display_data"
    },
    {
     "data": {
      "text/plain": [
       "'Not decreasing area of MiS classified plots (max)'"
      ]
     },
     "metadata": {},
     "output_type": "display_data"
    },
    {
     "data": {
      "text/plain": [
       "0.014727279303344202"
      ]
     },
     "metadata": {},
     "output_type": "display_data"
    },
    {
     "data": {
      "text/plain": [
       "' Max Co2 storage in wooden products (maximize kt over all years)'"
      ]
     },
     "metadata": {},
     "output_type": "display_data"
    },
    {
     "data": {
      "text/plain": [
       "510524.21001756465"
      ]
     },
     "metadata": {},
     "output_type": "display_data"
    },
    {
     "data": {
      "text/plain": [
       "' Max Co2 uptake in forest'"
      ]
     },
     "metadata": {},
     "output_type": "display_data"
    },
    {
     "data": {
      "text/plain": [
       "16.863350584386794"
      ]
     },
     "metadata": {},
     "output_type": "display_data"
    },
    {
     "data": {
      "text/plain": [
       "'MinSum city forest (not decreasing)'"
      ]
     },
     "metadata": {},
     "output_type": "display_data"
    },
    {
     "data": {
      "text/plain": [
       "262.9812484000001"
      ]
     },
     "metadata": {},
     "output_type": "display_data"
    },
    {
     "data": {
      "text/plain": [
       "'MAxMin Shanon in plots with larger dbh (not decrease)'"
      ]
     },
     "metadata": {},
     "output_type": "display_data"
    },
    {
     "data": {
      "text/plain": [
       "0.013852173392857638"
      ]
     },
     "metadata": {},
     "output_type": "display_data"
    },
    {
     "data": {
      "text/plain": [
       "'Relative meeting of globiom target for GHarvDemands'"
      ]
     },
     "metadata": {},
     "output_type": "display_data"
    },
    {
     "data": {
      "text/plain": [
       "74.41047197176911"
      ]
     },
     "metadata": {},
     "output_type": "display_data"
    },
    {
     "name": "stdout",
     "output_type": "stream",
     "text": [
      "\r",
      " 20%|██        | 2/10 [00:07<00:29,  3.68s/it]"
     ]
    },
    {
     "data": {
      "text/plain": [
       "'Optimizing for Maximize GROT in plots with harvest cost under 200 (maX)'"
      ]
     },
     "metadata": {},
     "output_type": "display_data"
    },
    {
     "data": {
      "text/plain": [
       "'Found an optimal solution in 0 seconds'"
      ]
     },
     "metadata": {},
     "output_type": "display_data"
    },
    {
     "data": {
      "text/plain": [
       "'Objective values are:'"
      ]
     },
     "metadata": {},
     "output_type": "display_data"
    },
    {
     "data": {
      "text/plain": [
       "'Maximize netvalue (MAX Millions nok/m2) min'"
      ]
     },
     "metadata": {},
     "output_type": "display_data"
    },
    {
     "data": {
      "text/plain": [
       "3.3857691515707202"
      ]
     },
     "metadata": {},
     "output_type": "display_data"
    },
    {
     "data": {
      "text/plain": [
       "'Maximize netvalue (MAX Millions nok/m2) max'"
      ]
     },
     "metadata": {},
     "output_type": "display_data"
    },
    {
     "data": {
      "text/plain": [
       "58988.21662047228"
      ]
     },
     "metadata": {},
     "output_type": "display_data"
    },
    {
     "data": {
      "text/plain": [
       "'Maximize GROT in plots with harvest cost under 200 (maX)'"
      ]
     },
     "metadata": {},
     "output_type": "display_data"
    },
    {
     "data": {
      "text/plain": [
       "438.07384279023194"
      ]
     },
     "metadata": {},
     "output_type": "display_data"
    },
    {
     "data": {
      "text/plain": [
       "'Maximize GROT in plots with harvest cost under 200 (MAX)'"
      ]
     },
     "metadata": {},
     "output_type": "display_data"
    },
    {
     "data": {
      "text/plain": [
       "3.1000790509886302"
      ]
     },
     "metadata": {},
     "output_type": "display_data"
    },
    {
     "data": {
      "text/plain": [
       "'Not decreasing area of MiS classified plots (max)'"
      ]
     },
     "metadata": {},
     "output_type": "display_data"
    },
    {
     "data": {
      "text/plain": [
       "0.01676857414766742"
      ]
     },
     "metadata": {},
     "output_type": "display_data"
    },
    {
     "data": {
      "text/plain": [
       "' Max Co2 storage in wooden products (maximize kt over all years)'"
      ]
     },
     "metadata": {},
     "output_type": "display_data"
    },
    {
     "data": {
      "text/plain": [
       "493141.0720338184"
      ]
     },
     "metadata": {},
     "output_type": "display_data"
    },
    {
     "data": {
      "text/plain": [
       "' Max Co2 uptake in forest'"
      ]
     },
     "metadata": {},
     "output_type": "display_data"
    },
    {
     "data": {
      "text/plain": [
       "119.20592344851865"
      ]
     },
     "metadata": {},
     "output_type": "display_data"
    },
    {
     "data": {
      "text/plain": [
       "'MinSum city forest (not decreasing)'"
      ]
     },
     "metadata": {},
     "output_type": "display_data"
    },
    {
     "data": {
      "text/plain": [
       "183.78107051732889"
      ]
     },
     "metadata": {},
     "output_type": "display_data"
    },
    {
     "data": {
      "text/plain": [
       "'MAxMin Shanon in plots with larger dbh (not decrease)'"
      ]
     },
     "metadata": {},
     "output_type": "display_data"
    },
    {
     "data": {
      "text/plain": [
       "0.02146874511383134"
      ]
     },
     "metadata": {},
     "output_type": "display_data"
    },
    {
     "data": {
      "text/plain": [
       "'Relative meeting of globiom target for GHarvDemands'"
      ]
     },
     "metadata": {},
     "output_type": "display_data"
    },
    {
     "data": {
      "text/plain": [
       "71.03952436493998"
      ]
     },
     "metadata": {},
     "output_type": "display_data"
    },
    {
     "name": "stdout",
     "output_type": "stream",
     "text": [
      "\r",
      " 30%|███       | 3/10 [00:10<00:23,  3.42s/it]"
     ]
    },
    {
     "data": {
      "text/plain": [
       "'Optimizing for Maximize GROT in plots with harvest cost under 200 (MAX)'"
      ]
     },
     "metadata": {},
     "output_type": "display_data"
    },
    {
     "data": {
      "text/plain": [
       "'Found an optimal solution in 0 seconds'"
      ]
     },
     "metadata": {},
     "output_type": "display_data"
    },
    {
     "data": {
      "text/plain": [
       "'Objective values are:'"
      ]
     },
     "metadata": {},
     "output_type": "display_data"
    },
    {
     "data": {
      "text/plain": [
       "'Maximize netvalue (MAX Millions nok/m2) min'"
      ]
     },
     "metadata": {},
     "output_type": "display_data"
    },
    {
     "data": {
      "text/plain": [
       "2102.590226998868"
      ]
     },
     "metadata": {},
     "output_type": "display_data"
    },
    {
     "data": {
      "text/plain": [
       "'Maximize netvalue (MAX Millions nok/m2) max'"
      ]
     },
     "metadata": {},
     "output_type": "display_data"
    },
    {
     "data": {
      "text/plain": [
       "54410.23689107189"
      ]
     },
     "metadata": {},
     "output_type": "display_data"
    },
    {
     "data": {
      "text/plain": [
       "'Maximize GROT in plots with harvest cost under 200 (maX)'"
      ]
     },
     "metadata": {},
     "output_type": "display_data"
    },
    {
     "data": {
      "text/plain": [
       "-5.002220859751105e-12"
      ]
     },
     "metadata": {},
     "output_type": "display_data"
    },
    {
     "data": {
      "text/plain": [
       "'Maximize GROT in plots with harvest cost under 200 (MAX)'"
      ]
     },
     "metadata": {},
     "output_type": "display_data"
    },
    {
     "data": {
      "text/plain": [
       "3141.1176958830956"
      ]
     },
     "metadata": {},
     "output_type": "display_data"
    },
    {
     "data": {
      "text/plain": [
       "'Not decreasing area of MiS classified plots (max)'"
      ]
     },
     "metadata": {},
     "output_type": "display_data"
    },
    {
     "data": {
      "text/plain": [
       "0.01623255826468918"
      ]
     },
     "metadata": {},
     "output_type": "display_data"
    },
    {
     "data": {
      "text/plain": [
       "' Max Co2 storage in wooden products (maximize kt over all years)'"
      ]
     },
     "metadata": {},
     "output_type": "display_data"
    },
    {
     "data": {
      "text/plain": [
       "508327.0499989564"
      ]
     },
     "metadata": {},
     "output_type": "display_data"
    },
    {
     "data": {
      "text/plain": [
       "' Max Co2 uptake in forest'"
      ]
     },
     "metadata": {},
     "output_type": "display_data"
    },
    {
     "data": {
      "text/plain": [
       "109.89723275337704"
      ]
     },
     "metadata": {},
     "output_type": "display_data"
    },
    {
     "data": {
      "text/plain": [
       "'MinSum city forest (not decreasing)'"
      ]
     },
     "metadata": {},
     "output_type": "display_data"
    },
    {
     "data": {
      "text/plain": [
       "189.3595641902999"
      ]
     },
     "metadata": {},
     "output_type": "display_data"
    },
    {
     "data": {
      "text/plain": [
       "'MAxMin Shanon in plots with larger dbh (not decrease)'"
      ]
     },
     "metadata": {},
     "output_type": "display_data"
    },
    {
     "data": {
      "text/plain": [
       "0.02009393145298484"
      ]
     },
     "metadata": {},
     "output_type": "display_data"
    },
    {
     "data": {
      "text/plain": [
       "'Relative meeting of globiom target for GHarvDemands'"
      ]
     },
     "metadata": {},
     "output_type": "display_data"
    },
    {
     "data": {
      "text/plain": [
       "70.1048368508546"
      ]
     },
     "metadata": {},
     "output_type": "display_data"
    },
    {
     "name": "stdout",
     "output_type": "stream",
     "text": [
      "\r",
      " 40%|████      | 4/10 [00:13<00:19,  3.22s/it]"
     ]
    },
    {
     "data": {
      "text/plain": [
       "'Optimizing for Not decreasing area of MiS classified plots (max)'"
      ]
     },
     "metadata": {},
     "output_type": "display_data"
    },
    {
     "data": {
      "text/plain": [
       "'Found an optimal solution in 0 seconds'"
      ]
     },
     "metadata": {},
     "output_type": "display_data"
    },
    {
     "data": {
      "text/plain": [
       "'Objective values are:'"
      ]
     },
     "metadata": {},
     "output_type": "display_data"
    },
    {
     "data": {
      "text/plain": [
       "'Maximize netvalue (MAX Millions nok/m2) min'"
      ]
     },
     "metadata": {},
     "output_type": "display_data"
    },
    {
     "data": {
      "text/plain": [
       "652.3765606107727"
      ]
     },
     "metadata": {},
     "output_type": "display_data"
    },
    {
     "data": {
      "text/plain": [
       "'Maximize netvalue (MAX Millions nok/m2) max'"
      ]
     },
     "metadata": {},
     "output_type": "display_data"
    },
    {
     "data": {
      "text/plain": [
       "27163.587870500905"
      ]
     },
     "metadata": {},
     "output_type": "display_data"
    },
    {
     "data": {
      "text/plain": [
       "'Maximize GROT in plots with harvest cost under 200 (maX)'"
      ]
     },
     "metadata": {},
     "output_type": "display_data"
    },
    {
     "data": {
      "text/plain": [
       "-1367.1789437701727"
      ]
     },
     "metadata": {},
     "output_type": "display_data"
    },
    {
     "data": {
      "text/plain": [
       "'Maximize GROT in plots with harvest cost under 200 (MAX)'"
      ]
     },
     "metadata": {},
     "output_type": "display_data"
    },
    {
     "data": {
      "text/plain": [
       "496.99598081275957"
      ]
     },
     "metadata": {},
     "output_type": "display_data"
    },
    {
     "data": {
      "text/plain": [
       "'Not decreasing area of MiS classified plots (max)'"
      ]
     },
     "metadata": {},
     "output_type": "display_data"
    },
    {
     "data": {
      "text/plain": [
       "0.030196875462928163"
      ]
     },
     "metadata": {},
     "output_type": "display_data"
    },
    {
     "data": {
      "text/plain": [
       "' Max Co2 storage in wooden products (maximize kt over all years)'"
      ]
     },
     "metadata": {},
     "output_type": "display_data"
    },
    {
     "data": {
      "text/plain": [
       "507349.77827381383"
      ]
     },
     "metadata": {},
     "output_type": "display_data"
    },
    {
     "data": {
      "text/plain": [
       "' Max Co2 uptake in forest'"
      ]
     },
     "metadata": {},
     "output_type": "display_data"
    },
    {
     "data": {
      "text/plain": [
       "190.19695953958006"
      ]
     },
     "metadata": {},
     "output_type": "display_data"
    },
    {
     "data": {
      "text/plain": [
       "'MinSum city forest (not decreasing)'"
      ]
     },
     "metadata": {},
     "output_type": "display_data"
    },
    {
     "data": {
      "text/plain": [
       "171.23521999999997"
      ]
     },
     "metadata": {},
     "output_type": "display_data"
    },
    {
     "data": {
      "text/plain": [
       "'MAxMin Shanon in plots with larger dbh (not decrease)'"
      ]
     },
     "metadata": {},
     "output_type": "display_data"
    },
    {
     "data": {
      "text/plain": [
       "0.022089576453277786"
      ]
     },
     "metadata": {},
     "output_type": "display_data"
    },
    {
     "data": {
      "text/plain": [
       "'Relative meeting of globiom target for GHarvDemands'"
      ]
     },
     "metadata": {},
     "output_type": "display_data"
    },
    {
     "data": {
      "text/plain": [
       "71.97710183906726"
      ]
     },
     "metadata": {},
     "output_type": "display_data"
    },
    {
     "name": "stdout",
     "output_type": "stream",
     "text": [
      "\r",
      " 50%|█████     | 5/10 [00:15<00:15,  3.03s/it]"
     ]
    },
    {
     "data": {
      "text/plain": [
       "'Optimizing for  Max Co2 storage in wooden products (maximize kt over all years)'"
      ]
     },
     "metadata": {},
     "output_type": "display_data"
    },
    {
     "data": {
      "text/plain": [
       "'Found an optimal solution in 0 seconds'"
      ]
     },
     "metadata": {},
     "output_type": "display_data"
    },
    {
     "data": {
      "text/plain": [
       "'Objective values are:'"
      ]
     },
     "metadata": {},
     "output_type": "display_data"
    },
    {
     "data": {
      "text/plain": [
       "'Maximize netvalue (MAX Millions nok/m2) min'"
      ]
     },
     "metadata": {},
     "output_type": "display_data"
    },
    {
     "data": {
      "text/plain": [
       "475.13445820177094"
      ]
     },
     "metadata": {},
     "output_type": "display_data"
    },
    {
     "data": {
      "text/plain": [
       "'Maximize netvalue (MAX Millions nok/m2) max'"
      ]
     },
     "metadata": {},
     "output_type": "display_data"
    },
    {
     "data": {
      "text/plain": [
       "36209.77976652369"
      ]
     },
     "metadata": {},
     "output_type": "display_data"
    },
    {
     "data": {
      "text/plain": [
       "'Maximize GROT in plots with harvest cost under 200 (maX)'"
      ]
     },
     "metadata": {},
     "output_type": "display_data"
    },
    {
     "data": {
      "text/plain": [
       "-6701.981665333792"
      ]
     },
     "metadata": {},
     "output_type": "display_data"
    },
    {
     "data": {
      "text/plain": [
       "'Maximize GROT in plots with harvest cost under 200 (MAX)'"
      ]
     },
     "metadata": {},
     "output_type": "display_data"
    },
    {
     "data": {
      "text/plain": [
       "119.90890594912987"
      ]
     },
     "metadata": {},
     "output_type": "display_data"
    },
    {
     "data": {
      "text/plain": [
       "'Not decreasing area of MiS classified plots (max)'"
      ]
     },
     "metadata": {},
     "output_type": "display_data"
    },
    {
     "data": {
      "text/plain": [
       "0.01745748758187219"
      ]
     },
     "metadata": {},
     "output_type": "display_data"
    },
    {
     "data": {
      "text/plain": [
       "' Max Co2 storage in wooden products (maximize kt over all years)'"
      ]
     },
     "metadata": {},
     "output_type": "display_data"
    },
    {
     "data": {
      "text/plain": [
       "994078.9360657625"
      ]
     },
     "metadata": {},
     "output_type": "display_data"
    },
    {
     "data": {
      "text/plain": [
       "' Max Co2 uptake in forest'"
      ]
     },
     "metadata": {},
     "output_type": "display_data"
    },
    {
     "data": {
      "text/plain": [
       "-26.484610032677274"
      ]
     },
     "metadata": {},
     "output_type": "display_data"
    },
    {
     "data": {
      "text/plain": [
       "'MinSum city forest (not decreasing)'"
      ]
     },
     "metadata": {},
     "output_type": "display_data"
    },
    {
     "data": {
      "text/plain": [
       "255.05035400000006"
      ]
     },
     "metadata": {},
     "output_type": "display_data"
    },
    {
     "data": {
      "text/plain": [
       "'MAxMin Shanon in plots with larger dbh (not decrease)'"
      ]
     },
     "metadata": {},
     "output_type": "display_data"
    },
    {
     "data": {
      "text/plain": [
       "0.018395001501980847"
      ]
     },
     "metadata": {},
     "output_type": "display_data"
    },
    {
     "data": {
      "text/plain": [
       "'Relative meeting of globiom target for GHarvDemands'"
      ]
     },
     "metadata": {},
     "output_type": "display_data"
    },
    {
     "data": {
      "text/plain": [
       "78.66180666156478"
      ]
     },
     "metadata": {},
     "output_type": "display_data"
    },
    {
     "name": "stdout",
     "output_type": "stream",
     "text": [
      "\r",
      " 60%|██████    | 6/10 [00:18<00:11,  2.96s/it]"
     ]
    },
    {
     "data": {
      "text/plain": [
       "'Optimizing for  Max Co2 uptake in forest'"
      ]
     },
     "metadata": {},
     "output_type": "display_data"
    },
    {
     "data": {
      "text/plain": [
       "'Found an optimal solution in 0 seconds'"
      ]
     },
     "metadata": {},
     "output_type": "display_data"
    },
    {
     "data": {
      "text/plain": [
       "'Objective values are:'"
      ]
     },
     "metadata": {},
     "output_type": "display_data"
    },
    {
     "data": {
      "text/plain": [
       "'Maximize netvalue (MAX Millions nok/m2) min'"
      ]
     },
     "metadata": {},
     "output_type": "display_data"
    },
    {
     "data": {
      "text/plain": [
       "-82.63010289408392"
      ]
     },
     "metadata": {},
     "output_type": "display_data"
    },
    {
     "data": {
      "text/plain": [
       "'Maximize netvalue (MAX Millions nok/m2) max'"
      ]
     },
     "metadata": {},
     "output_type": "display_data"
    },
    {
     "data": {
      "text/plain": [
       "1240.0033117614398"
      ]
     },
     "metadata": {},
     "output_type": "display_data"
    },
    {
     "data": {
      "text/plain": [
       "'Maximize GROT in plots with harvest cost under 200 (maX)'"
      ]
     },
     "metadata": {},
     "output_type": "display_data"
    },
    {
     "data": {
      "text/plain": [
       "-214.41714001701263"
      ]
     },
     "metadata": {},
     "output_type": "display_data"
    },
    {
     "data": {
      "text/plain": [
       "'Maximize GROT in plots with harvest cost under 200 (MAX)'"
      ]
     },
     "metadata": {},
     "output_type": "display_data"
    },
    {
     "data": {
      "text/plain": [
       "11.3227119097902"
      ]
     },
     "metadata": {},
     "output_type": "display_data"
    },
    {
     "data": {
      "text/plain": [
       "'Not decreasing area of MiS classified plots (max)'"
      ]
     },
     "metadata": {},
     "output_type": "display_data"
    },
    {
     "data": {
      "text/plain": [
       "0.025456857189209932"
      ]
     },
     "metadata": {},
     "output_type": "display_data"
    },
    {
     "data": {
      "text/plain": [
       "' Max Co2 storage in wooden products (maximize kt over all years)'"
      ]
     },
     "metadata": {},
     "output_type": "display_data"
    },
    {
     "data": {
      "text/plain": [
       "222666.8777891444"
      ]
     },
     "metadata": {},
     "output_type": "display_data"
    },
    {
     "data": {
      "text/plain": [
       "' Max Co2 uptake in forest'"
      ]
     },
     "metadata": {},
     "output_type": "display_data"
    },
    {
     "data": {
      "text/plain": [
       "732.5481830788646"
      ]
     },
     "metadata": {},
     "output_type": "display_data"
    },
    {
     "data": {
      "text/plain": [
       "'MinSum city forest (not decreasing)'"
      ]
     },
     "metadata": {},
     "output_type": "display_data"
    },
    {
     "data": {
      "text/plain": [
       "10.724732199999998"
      ]
     },
     "metadata": {},
     "output_type": "display_data"
    },
    {
     "data": {
      "text/plain": [
       "'MAxMin Shanon in plots with larger dbh (not decrease)'"
      ]
     },
     "metadata": {},
     "output_type": "display_data"
    },
    {
     "data": {
      "text/plain": [
       "0.030535156039277745"
      ]
     },
     "metadata": {},
     "output_type": "display_data"
    },
    {
     "data": {
      "text/plain": [
       "'Relative meeting of globiom target for GHarvDemands'"
      ]
     },
     "metadata": {},
     "output_type": "display_data"
    },
    {
     "data": {
      "text/plain": [
       "84.26119442319883"
      ]
     },
     "metadata": {},
     "output_type": "display_data"
    },
    {
     "name": "stdout",
     "output_type": "stream",
     "text": [
      "\r",
      " 70%|███████   | 7/10 [00:21<00:08,  2.88s/it]"
     ]
    },
    {
     "data": {
      "text/plain": [
       "'Optimizing for MinSum city forest (not decreasing)'"
      ]
     },
     "metadata": {},
     "output_type": "display_data"
    },
    {
     "data": {
      "text/plain": [
       "'Found an optimal solution in 0 seconds'"
      ]
     },
     "metadata": {},
     "output_type": "display_data"
    },
    {
     "data": {
      "text/plain": [
       "'Objective values are:'"
      ]
     },
     "metadata": {},
     "output_type": "display_data"
    },
    {
     "data": {
      "text/plain": [
       "'Maximize netvalue (MAX Millions nok/m2) min'"
      ]
     },
     "metadata": {},
     "output_type": "display_data"
    },
    {
     "data": {
      "text/plain": [
       "-82.6301028940839"
      ]
     },
     "metadata": {},
     "output_type": "display_data"
    },
    {
     "data": {
      "text/plain": [
       "'Maximize netvalue (MAX Millions nok/m2) max'"
      ]
     },
     "metadata": {},
     "output_type": "display_data"
    },
    {
     "data": {
      "text/plain": [
       "1051.7585802973488"
      ]
     },
     "metadata": {},
     "output_type": "display_data"
    },
    {
     "data": {
      "text/plain": [
       "'Maximize GROT in plots with harvest cost under 200 (maX)'"
      ]
     },
     "metadata": {},
     "output_type": "display_data"
    },
    {
     "data": {
      "text/plain": [
       "-158.40379403037085"
      ]
     },
     "metadata": {},
     "output_type": "display_data"
    },
    {
     "data": {
      "text/plain": [
       "'Maximize GROT in plots with harvest cost under 200 (MAX)'"
      ]
     },
     "metadata": {},
     "output_type": "display_data"
    },
    {
     "data": {
      "text/plain": [
       "11.3227119097902"
      ]
     },
     "metadata": {},
     "output_type": "display_data"
    },
    {
     "data": {
      "text/plain": [
       "'Not decreasing area of MiS classified plots (max)'"
      ]
     },
     "metadata": {},
     "output_type": "display_data"
    },
    {
     "data": {
      "text/plain": [
       "0.02567789466672674"
      ]
     },
     "metadata": {},
     "output_type": "display_data"
    },
    {
     "data": {
      "text/plain": [
       "' Max Co2 storage in wooden products (maximize kt over all years)'"
      ]
     },
     "metadata": {},
     "output_type": "display_data"
    },
    {
     "data": {
      "text/plain": [
       "210110.996341201"
      ]
     },
     "metadata": {},
     "output_type": "display_data"
    },
    {
     "data": {
      "text/plain": [
       "' Max Co2 uptake in forest'"
      ]
     },
     "metadata": {},
     "output_type": "display_data"
    },
    {
     "data": {
      "text/plain": [
       "730.538536621605"
      ]
     },
     "metadata": {},
     "output_type": "display_data"
    },
    {
     "data": {
      "text/plain": [
       "'MinSum city forest (not decreasing)'"
      ]
     },
     "metadata": {},
     "output_type": "display_data"
    },
    {
     "data": {
      "text/plain": [
       "0.0"
      ]
     },
     "metadata": {},
     "output_type": "display_data"
    },
    {
     "data": {
      "text/plain": [
       "'MAxMin Shanon in plots with larger dbh (not decrease)'"
      ]
     },
     "metadata": {},
     "output_type": "display_data"
    },
    {
     "data": {
      "text/plain": [
       "0.030713128466153386"
      ]
     },
     "metadata": {},
     "output_type": "display_data"
    },
    {
     "data": {
      "text/plain": [
       "'Relative meeting of globiom target for GHarvDemands'"
      ]
     },
     "metadata": {},
     "output_type": "display_data"
    },
    {
     "data": {
      "text/plain": [
       "84.28337771919449"
      ]
     },
     "metadata": {},
     "output_type": "display_data"
    },
    {
     "name": "stdout",
     "output_type": "stream",
     "text": [
      "\r",
      " 80%|████████  | 8/10 [00:23<00:05,  2.85s/it]"
     ]
    },
    {
     "data": {
      "text/plain": [
       "'Optimizing for MAxMin Shanon in plots with larger dbh (not decrease)'"
      ]
     },
     "metadata": {},
     "output_type": "display_data"
    },
    {
     "data": {
      "text/plain": [
       "'Found an optimal solution in 1 seconds'"
      ]
     },
     "metadata": {},
     "output_type": "display_data"
    },
    {
     "data": {
      "text/plain": [
       "'Objective values are:'"
      ]
     },
     "metadata": {},
     "output_type": "display_data"
    },
    {
     "data": {
      "text/plain": [
       "'Maximize netvalue (MAX Millions nok/m2) min'"
      ]
     },
     "metadata": {},
     "output_type": "display_data"
    },
    {
     "data": {
      "text/plain": [
       "-40.9460599848514"
      ]
     },
     "metadata": {},
     "output_type": "display_data"
    },
    {
     "data": {
      "text/plain": [
       "'Maximize netvalue (MAX Millions nok/m2) max'"
      ]
     },
     "metadata": {},
     "output_type": "display_data"
    },
    {
     "data": {
      "text/plain": [
       "18075.574095106364"
      ]
     },
     "metadata": {},
     "output_type": "display_data"
    },
    {
     "data": {
      "text/plain": [
       "'Maximize GROT in plots with harvest cost under 200 (maX)'"
      ]
     },
     "metadata": {},
     "output_type": "display_data"
    },
    {
     "data": {
      "text/plain": [
       "-843.4272626791341"
      ]
     },
     "metadata": {},
     "output_type": "display_data"
    },
    {
     "data": {
      "text/plain": [
       "'Maximize GROT in plots with harvest cost under 200 (MAX)'"
      ]
     },
     "metadata": {},
     "output_type": "display_data"
    },
    {
     "data": {
      "text/plain": [
       "287.5003512708746"
      ]
     },
     "metadata": {},
     "output_type": "display_data"
    },
    {
     "data": {
      "text/plain": [
       "'Not decreasing area of MiS classified plots (max)'"
      ]
     },
     "metadata": {},
     "output_type": "display_data"
    },
    {
     "data": {
      "text/plain": [
       "0.026751470956454564"
      ]
     },
     "metadata": {},
     "output_type": "display_data"
    },
    {
     "data": {
      "text/plain": [
       "' Max Co2 storage in wooden products (maximize kt over all years)'"
      ]
     },
     "metadata": {},
     "output_type": "display_data"
    },
    {
     "data": {
      "text/plain": [
       "369577.74425021705"
      ]
     },
     "metadata": {},
     "output_type": "display_data"
    },
    {
     "data": {
      "text/plain": [
       "' Max Co2 uptake in forest'"
      ]
     },
     "metadata": {},
     "output_type": "display_data"
    },
    {
     "data": {
      "text/plain": [
       "355.41135726815514"
      ]
     },
     "metadata": {},
     "output_type": "display_data"
    },
    {
     "data": {
      "text/plain": [
       "'MinSum city forest (not decreasing)'"
      ]
     },
     "metadata": {},
     "output_type": "display_data"
    },
    {
     "data": {
      "text/plain": [
       "100.52079298925665"
      ]
     },
     "metadata": {},
     "output_type": "display_data"
    },
    {
     "data": {
      "text/plain": [
       "'MAxMin Shanon in plots with larger dbh (not decrease)'"
      ]
     },
     "metadata": {},
     "output_type": "display_data"
    },
    {
     "data": {
      "text/plain": [
       "0.03637831613369411"
      ]
     },
     "metadata": {},
     "output_type": "display_data"
    },
    {
     "data": {
      "text/plain": [
       "'Relative meeting of globiom target for GHarvDemands'"
      ]
     },
     "metadata": {},
     "output_type": "display_data"
    },
    {
     "data": {
      "text/plain": [
       "75.8588710011764"
      ]
     },
     "metadata": {},
     "output_type": "display_data"
    },
    {
     "name": "stdout",
     "output_type": "stream",
     "text": [
      "\r",
      " 90%|█████████ | 9/10 [00:27<00:03,  3.08s/it]"
     ]
    },
    {
     "data": {
      "text/plain": [
       "'Optimizing for Relative meeting of globiom target for GHarvDemands'"
      ]
     },
     "metadata": {},
     "output_type": "display_data"
    },
    {
     "data": {
      "text/plain": [
       "'Found an optimal solution in 0 seconds'"
      ]
     },
     "metadata": {},
     "output_type": "display_data"
    },
    {
     "data": {
      "text/plain": [
       "'Objective values are:'"
      ]
     },
     "metadata": {},
     "output_type": "display_data"
    },
    {
     "data": {
      "text/plain": [
       "'Maximize netvalue (MAX Millions nok/m2) min'"
      ]
     },
     "metadata": {},
     "output_type": "display_data"
    },
    {
     "data": {
      "text/plain": [
       "716.7107789145952"
      ]
     },
     "metadata": {},
     "output_type": "display_data"
    },
    {
     "data": {
      "text/plain": [
       "'Maximize netvalue (MAX Millions nok/m2) max'"
      ]
     },
     "metadata": {},
     "output_type": "display_data"
    },
    {
     "data": {
      "text/plain": [
       "54752.083556143894"
      ]
     },
     "metadata": {},
     "output_type": "display_data"
    },
    {
     "data": {
      "text/plain": [
       "'Maximize GROT in plots with harvest cost under 200 (maX)'"
      ]
     },
     "metadata": {},
     "output_type": "display_data"
    },
    {
     "data": {
      "text/plain": [
       "-1307.6332012795492"
      ]
     },
     "metadata": {},
     "output_type": "display_data"
    },
    {
     "data": {
      "text/plain": [
       "'Maximize GROT in plots with harvest cost under 200 (MAX)'"
      ]
     },
     "metadata": {},
     "output_type": "display_data"
    },
    {
     "data": {
      "text/plain": [
       "1007.3663569160555"
      ]
     },
     "metadata": {},
     "output_type": "display_data"
    },
    {
     "data": {
      "text/plain": [
       "'Not decreasing area of MiS classified plots (max)'"
      ]
     },
     "metadata": {},
     "output_type": "display_data"
    },
    {
     "data": {
      "text/plain": [
       "0.010122107630366813"
      ]
     },
     "metadata": {},
     "output_type": "display_data"
    },
    {
     "data": {
      "text/plain": [
       "' Max Co2 storage in wooden products (maximize kt over all years)'"
      ]
     },
     "metadata": {},
     "output_type": "display_data"
    },
    {
     "data": {
      "text/plain": [
       "613691.1366953277"
      ]
     },
     "metadata": {},
     "output_type": "display_data"
    },
    {
     "data": {
      "text/plain": [
       "' Max Co2 uptake in forest'"
      ]
     },
     "metadata": {},
     "output_type": "display_data"
    },
    {
     "data": {
      "text/plain": [
       "-165.21106740790924"
      ]
     },
     "metadata": {},
     "output_type": "display_data"
    },
    {
     "data": {
      "text/plain": [
       "'MinSum city forest (not decreasing)'"
      ]
     },
     "metadata": {},
     "output_type": "display_data"
    },
    {
     "data": {
      "text/plain": [
       "329.3123651999999"
      ]
     },
     "metadata": {},
     "output_type": "display_data"
    },
    {
     "data": {
      "text/plain": [
       "'MAxMin Shanon in plots with larger dbh (not decrease)'"
      ]
     },
     "metadata": {},
     "output_type": "display_data"
    },
    {
     "data": {
      "text/plain": [
       "0.011479995145662928"
      ]
     },
     "metadata": {},
     "output_type": "display_data"
    },
    {
     "data": {
      "text/plain": [
       "'Relative meeting of globiom target for GHarvDemands'"
      ]
     },
     "metadata": {},
     "output_type": "display_data"
    },
    {
     "data": {
      "text/plain": [
       "52.021250903038364"
      ]
     },
     "metadata": {},
     "output_type": "display_data"
    },
    {
     "name": "stdout",
     "output_type": "stream",
     "text": [
      "100%|██████████| 10/10 [00:30<00:00,  3.08s/it]\n",
      "CPU times: user 29.8 s, sys: 10.7 s, total: 40.5 s\n",
      "Wall time: 30.8 s\n"
     ]
    }
   ],
   "source": [
    "%%time\n",
    "mfo.calculateObjectiveRanges(debug=True)"
   ]
  },
  {
   "cell_type": "code",
   "execution_count": 29,
   "metadata": {},
   "outputs": [
    {
     "data": {
      "text/plain": [
       "{'harvest_netvalue_Mnok_min': (-82.63010289408392, 4501.226477720805),\n",
       " 'harvest_netvalue_Mnok_sum': (1051.7585802973488, 81528.26074646614),\n",
       " 'GROTIncreaseInHarvCost200': (-6701.981665333792, 438.07384279023194),\n",
       " 'GROTMaxMinnHarvCost200': (3.1000790509886302, 3141.1176958830956),\n",
       " 'MiSMaxMin': (0.010122107630366813, 0.030196875462928163),\n",
       " 'CO2_HWP_kt': (210110.996341201, 994078.9360657625),\n",
       " 'CO2_in_forest': (-165.21106740790924, 732.5481830788646),\n",
       " 'harvest_in_cityForest': (0.0, 329.3123651999999),\n",
       " 'ShannonIncrease': (0.011479995145662928, 0.03637831613369411),\n",
       " 'GlobiomTargetForGHarvDemands': (52.021250903038364, 84.28337771919449)}"
      ]
     },
     "execution_count": 29,
     "metadata": {},
     "output_type": "execute_result"
    }
   ],
   "source": [
    "mfo.objectiveRanges"
   ]
  },
  {
   "cell_type": "markdown",
   "metadata": {},
   "source": [
    "## Show GUI"
   ]
  },
  {
   "cell_type": "markdown",
   "metadata": {},
   "source": [
    "- If \"Enabled constraints\" should be considered, start with ticking box \"NO ClearCut on...\" and push \"Change constraints\"\n",
    "- Epsilon constraints are only considered if sliders are moved and button \"Set epsilon constraints\" is pushed\n",
    "- By pushing \"OPTIMIZE\" an optimal solution under the given constraints and reference points is searched\n",
    "\n",
    "<b>SEE example figure below for scenario BES</b>"
   ]
  },
  {
   "cell_type": "markdown",
   "metadata": {},
   "source": [
    "![image](./NORGUIExample.png)"
   ]
  },
  {
   "cell_type": "code",
   "execution_count": 30,
   "metadata": {
    "scrolled": false
   },
   "outputs": [
    {
     "data": {
      "text/html": [
       "<style>\n",
       "            .widget-label { min-width: 60% !important; }\n",
       "        </style>"
      ],
      "text/plain": [
       "<IPython.core.display.HTML object>"
      ]
     },
     "metadata": {},
     "output_type": "display_data"
    },
    {
     "data": {
      "text/html": [
       "<h2>Epsilon constraint values</h2>"
      ],
      "text/plain": [
       "<IPython.core.display.HTML object>"
      ]
     },
     "metadata": {},
     "output_type": "display_data"
    },
    {
     "data": {
      "application/vnd.jupyter.widget-view+json": {
       "model_id": "e8493e6ef55b4cf2b5ff8ca32d3a637f",
       "version_major": 2,
       "version_minor": 0
      },
      "text/plain": [
       "interactive(children=(FloatSlider(value=-82.63010289408392, description='Maximize netvalue (MAX Millions nok/m…"
      ]
     },
     "metadata": {},
     "output_type": "display_data"
    },
    {
     "data": {
      "text/html": [
       "<h2>Reference point</h2>"
      ],
      "text/plain": [
       "<IPython.core.display.HTML object>"
      ]
     },
     "metadata": {},
     "output_type": "display_data"
    },
    {
     "data": {
      "application/vnd.jupyter.widget-view+json": {
       "model_id": "323a3d31f5754700a42901f05140c341",
       "version_major": 2,
       "version_minor": 0
      },
      "text/plain": [
       "interactive(children=(FloatSlider(value=2209.2981874133607, description='Maximize netvalue (MAX Millions nok/m…"
      ]
     },
     "metadata": {},
     "output_type": "display_data"
    },
    {
     "data": {
      "text/html": [
       "<h2>Enabled constraints</h2>"
      ],
      "text/plain": [
       "<IPython.core.display.HTML object>"
      ]
     },
     "metadata": {},
     "output_type": "display_data"
    },
    {
     "data": {
      "application/vnd.jupyter.widget-view+json": {
       "model_id": "e4afa4c9e3b04cb697fac665ab1b512f",
       "version_major": 2,
       "version_minor": 0
      },
      "text/plain": [
       "interactive(children=(Checkbox(value=False, description='Max harvest reduction 10%'), Button(description='Chan…"
      ]
     },
     "metadata": {},
     "output_type": "display_data"
    },
    {
     "data": {
      "application/vnd.jupyter.widget-view+json": {
       "model_id": "6a2ea03afb934cfe80f806bac40a10f9",
       "version_major": 2,
       "version_minor": 0
      },
      "text/plain": [
       "Button(description='Print solution', style=ButtonStyle())"
      ]
     },
     "metadata": {},
     "output_type": "display_data"
    }
   ],
   "source": [
    "mfo.showGUI(debug=True)"
   ]
  },
  {
   "cell_type": "markdown",
   "metadata": {},
   "source": [
    "## Visualization of optimal solution"
   ]
  },
  {
   "cell_type": "code",
   "execution_count": 31,
   "metadata": {},
   "outputs": [],
   "source": [
    "regimeAmounts = {regime:0 for regime in mfo.regimes}\n",
    "for key in mfo.regimesDecision.keys():\n",
    "    regimeAmounts[key[1]] +=mfo.regimesDecision[key].solution_value()*mfo.standAreas.loc[key[0],\"tsd_ha2total\"]/mfo.standAreas[\"tsd_ha2total\"].sum()"
   ]
  },
  {
   "cell_type": "code",
   "execution_count": 32,
   "metadata": {
    "scrolled": false
   },
   "outputs": [
    {
     "name": "stdout",
     "output_type": "stream",
     "text": [
      "Populating the interactive namespace from numpy and matplotlib\n"
     ]
    }
   ],
   "source": [
    "%pylab notebook"
   ]
  },
  {
   "cell_type": "code",
   "execution_count": 33,
   "metadata": {
    "scrolled": true
   },
   "outputs": [
    {
     "data": {
      "text/plain": [
       "[0.16822264450072447,\n",
       " 0.01063845635055972,\n",
       " 0.006661138964684423,\n",
       " 0.008838319056316445,\n",
       " 0.009038370819809554,\n",
       " 0.01588894727621615,\n",
       " 0.0,\n",
       " 0.0005483695522599289,\n",
       " 0.0,\n",
       " 0.0,\n",
       " 0.0,\n",
       " 0.022424817007576706,\n",
       " 0.007936148608691167,\n",
       " 0.029210914661217318,\n",
       " 0.02628975019341713,\n",
       " 0.007456783927629284,\n",
       " 0.02134956895027938,\n",
       " 0.01717686147027783,\n",
       " 0.0022730003012341802,\n",
       " 0.18012924110705517,\n",
       " 0.014324558680347873,\n",
       " 0.0013315685585052288,\n",
       " 0.0017384268849889425,\n",
       " 0.0029294508287115036,\n",
       " 0.004261019387216732,\n",
       " 0.0,\n",
       " 0.0,\n",
       " 0.0,\n",
       " 0.0,\n",
       " 0.0,\n",
       " 0.012125484107323063,\n",
       " 0.011610439148733446,\n",
       " 0.0061784781114642634,\n",
       " 0.00665728625225086,\n",
       " 0.0021245548249519187,\n",
       " 0.005858901657423008,\n",
       " 0.002130509693608366,\n",
       " 0.0015978822702062746,\n",
       " 0.03273165398405228,\n",
       " 0.12505742127615135,\n",
       " 0.10265848177972688,\n",
       " 0.014161934593839194,\n",
       " 0.003195764540412549,\n",
       " 0.0014380940431856471,\n",
       " 0.001065254846804183,\n",
       " 0.0015978822702062746,\n",
       " 0.0005326274234020915,\n",
       " 0.0,\n",
       " 0.0,\n",
       " 0.0,\n",
       " 0.0,\n",
       " 0.0,\n",
       " 0.004793646810618824,\n",
       " 0.0037283919638146407,\n",
       " 0.004576588444206841,\n",
       " 0.0037283919638146407,\n",
       " 0.0016035730031613213,\n",
       " 0.002130509693608366,\n",
       " 0.001065254846804183,\n",
       " 0.0,\n",
       " 0.016456504047220738,\n",
       " 0.0004261019387216733,\n",
       " 0.0,\n",
       " 0.0,\n",
       " 0.0,\n",
       " 0.0,\n",
       " 0.0,\n",
       " 0.0,\n",
       " 0.0,\n",
       " 0.0,\n",
       " 0.010812336695062461,\n",
       " 0.011344964118464555,\n",
       " 0.004101231160196105,\n",
       " 0.0034088155097733858,\n",
       " 0.0010701356882773312,\n",
       " 0.0018593151404341722,\n",
       " 0.0015978822702062746,\n",
       " 0.0,\n",
       " 0.0015978822702062746,\n",
       " 0.0,\n",
       " 0.0005326274234020915,\n",
       " 0.0005326274234020915,\n",
       " 0.0018997349721712833,\n",
       " 0.0,\n",
       " 0.0,\n",
       " 0.0,\n",
       " 0.0,\n",
       " 0.0,\n",
       " 0.0005326274234020915,\n",
       " 0.0005326274234020915,\n",
       " 0.0029294508287115036,\n",
       " 0.0005326274234020915,\n",
       " 0.0005326274234020915,\n",
       " 0.004261019387216732,\n",
       " 0.0005326274234020915,\n",
       " 0.0,\n",
       " 0.01438094043185648,\n",
       " 0.003089239055732131,\n",
       " 0.006018689884443636]"
      ]
     },
     "execution_count": 33,
     "metadata": {},
     "output_type": "execute_result"
    }
   ],
   "source": [
    "[val for val in regimeAmounts.values()]"
   ]
  },
  {
   "cell_type": "code",
   "execution_count": 34,
   "metadata": {
    "scrolled": false
   },
   "outputs": [
    {
     "data": {
      "application/javascript": [
       "/* Put everything inside the global mpl namespace */\n",
       "window.mpl = {};\n",
       "\n",
       "\n",
       "mpl.get_websocket_type = function() {\n",
       "    if (typeof(WebSocket) !== 'undefined') {\n",
       "        return WebSocket;\n",
       "    } else if (typeof(MozWebSocket) !== 'undefined') {\n",
       "        return MozWebSocket;\n",
       "    } else {\n",
       "        alert('Your browser does not have WebSocket support. ' +\n",
       "              'Please try Chrome, Safari or Firefox ≥ 6. ' +\n",
       "              'Firefox 4 and 5 are also supported but you ' +\n",
       "              'have to enable WebSockets in about:config.');\n",
       "    };\n",
       "}\n",
       "\n",
       "mpl.figure = function(figure_id, websocket, ondownload, parent_element) {\n",
       "    this.id = figure_id;\n",
       "\n",
       "    this.ws = websocket;\n",
       "\n",
       "    this.supports_binary = (this.ws.binaryType != undefined);\n",
       "\n",
       "    if (!this.supports_binary) {\n",
       "        var warnings = document.getElementById(\"mpl-warnings\");\n",
       "        if (warnings) {\n",
       "            warnings.style.display = 'block';\n",
       "            warnings.textContent = (\n",
       "                \"This browser does not support binary websocket messages. \" +\n",
       "                    \"Performance may be slow.\");\n",
       "        }\n",
       "    }\n",
       "\n",
       "    this.imageObj = new Image();\n",
       "\n",
       "    this.context = undefined;\n",
       "    this.message = undefined;\n",
       "    this.canvas = undefined;\n",
       "    this.rubberband_canvas = undefined;\n",
       "    this.rubberband_context = undefined;\n",
       "    this.format_dropdown = undefined;\n",
       "\n",
       "    this.image_mode = 'full';\n",
       "\n",
       "    this.root = $('<div/>');\n",
       "    this._root_extra_style(this.root)\n",
       "    this.root.attr('style', 'display: inline-block');\n",
       "\n",
       "    $(parent_element).append(this.root);\n",
       "\n",
       "    this._init_header(this);\n",
       "    this._init_canvas(this);\n",
       "    this._init_toolbar(this);\n",
       "\n",
       "    var fig = this;\n",
       "\n",
       "    this.waiting = false;\n",
       "\n",
       "    this.ws.onopen =  function () {\n",
       "            fig.send_message(\"supports_binary\", {value: fig.supports_binary});\n",
       "            fig.send_message(\"send_image_mode\", {});\n",
       "            if (mpl.ratio != 1) {\n",
       "                fig.send_message(\"set_dpi_ratio\", {'dpi_ratio': mpl.ratio});\n",
       "            }\n",
       "            fig.send_message(\"refresh\", {});\n",
       "        }\n",
       "\n",
       "    this.imageObj.onload = function() {\n",
       "            if (fig.image_mode == 'full') {\n",
       "                // Full images could contain transparency (where diff images\n",
       "                // almost always do), so we need to clear the canvas so that\n",
       "                // there is no ghosting.\n",
       "                fig.context.clearRect(0, 0, fig.canvas.width, fig.canvas.height);\n",
       "            }\n",
       "            fig.context.drawImage(fig.imageObj, 0, 0);\n",
       "        };\n",
       "\n",
       "    this.imageObj.onunload = function() {\n",
       "        fig.ws.close();\n",
       "    }\n",
       "\n",
       "    this.ws.onmessage = this._make_on_message_function(this);\n",
       "\n",
       "    this.ondownload = ondownload;\n",
       "}\n",
       "\n",
       "mpl.figure.prototype._init_header = function() {\n",
       "    var titlebar = $(\n",
       "        '<div class=\"ui-dialog-titlebar ui-widget-header ui-corner-all ' +\n",
       "        'ui-helper-clearfix\"/>');\n",
       "    var titletext = $(\n",
       "        '<div class=\"ui-dialog-title\" style=\"width: 100%; ' +\n",
       "        'text-align: center; padding: 3px;\"/>');\n",
       "    titlebar.append(titletext)\n",
       "    this.root.append(titlebar);\n",
       "    this.header = titletext[0];\n",
       "}\n",
       "\n",
       "\n",
       "\n",
       "mpl.figure.prototype._canvas_extra_style = function(canvas_div) {\n",
       "\n",
       "}\n",
       "\n",
       "\n",
       "mpl.figure.prototype._root_extra_style = function(canvas_div) {\n",
       "\n",
       "}\n",
       "\n",
       "mpl.figure.prototype._init_canvas = function() {\n",
       "    var fig = this;\n",
       "\n",
       "    var canvas_div = $('<div/>');\n",
       "\n",
       "    canvas_div.attr('style', 'position: relative; clear: both; outline: 0');\n",
       "\n",
       "    function canvas_keyboard_event(event) {\n",
       "        return fig.key_event(event, event['data']);\n",
       "    }\n",
       "\n",
       "    canvas_div.keydown('key_press', canvas_keyboard_event);\n",
       "    canvas_div.keyup('key_release', canvas_keyboard_event);\n",
       "    this.canvas_div = canvas_div\n",
       "    this._canvas_extra_style(canvas_div)\n",
       "    this.root.append(canvas_div);\n",
       "\n",
       "    var canvas = $('<canvas/>');\n",
       "    canvas.addClass('mpl-canvas');\n",
       "    canvas.attr('style', \"left: 0; top: 0; z-index: 0; outline: 0\")\n",
       "\n",
       "    this.canvas = canvas[0];\n",
       "    this.context = canvas[0].getContext(\"2d\");\n",
       "\n",
       "    var backingStore = this.context.backingStorePixelRatio ||\n",
       "\tthis.context.webkitBackingStorePixelRatio ||\n",
       "\tthis.context.mozBackingStorePixelRatio ||\n",
       "\tthis.context.msBackingStorePixelRatio ||\n",
       "\tthis.context.oBackingStorePixelRatio ||\n",
       "\tthis.context.backingStorePixelRatio || 1;\n",
       "\n",
       "    mpl.ratio = (window.devicePixelRatio || 1) / backingStore;\n",
       "\n",
       "    var rubberband = $('<canvas/>');\n",
       "    rubberband.attr('style', \"position: absolute; left: 0; top: 0; z-index: 1;\")\n",
       "\n",
       "    var pass_mouse_events = true;\n",
       "\n",
       "    canvas_div.resizable({\n",
       "        start: function(event, ui) {\n",
       "            pass_mouse_events = false;\n",
       "        },\n",
       "        resize: function(event, ui) {\n",
       "            fig.request_resize(ui.size.width, ui.size.height);\n",
       "        },\n",
       "        stop: function(event, ui) {\n",
       "            pass_mouse_events = true;\n",
       "            fig.request_resize(ui.size.width, ui.size.height);\n",
       "        },\n",
       "    });\n",
       "\n",
       "    function mouse_event_fn(event) {\n",
       "        if (pass_mouse_events)\n",
       "            return fig.mouse_event(event, event['data']);\n",
       "    }\n",
       "\n",
       "    rubberband.mousedown('button_press', mouse_event_fn);\n",
       "    rubberband.mouseup('button_release', mouse_event_fn);\n",
       "    // Throttle sequential mouse events to 1 every 20ms.\n",
       "    rubberband.mousemove('motion_notify', mouse_event_fn);\n",
       "\n",
       "    rubberband.mouseenter('figure_enter', mouse_event_fn);\n",
       "    rubberband.mouseleave('figure_leave', mouse_event_fn);\n",
       "\n",
       "    canvas_div.on(\"wheel\", function (event) {\n",
       "        event = event.originalEvent;\n",
       "        event['data'] = 'scroll'\n",
       "        if (event.deltaY < 0) {\n",
       "            event.step = 1;\n",
       "        } else {\n",
       "            event.step = -1;\n",
       "        }\n",
       "        mouse_event_fn(event);\n",
       "    });\n",
       "\n",
       "    canvas_div.append(canvas);\n",
       "    canvas_div.append(rubberband);\n",
       "\n",
       "    this.rubberband = rubberband;\n",
       "    this.rubberband_canvas = rubberband[0];\n",
       "    this.rubberband_context = rubberband[0].getContext(\"2d\");\n",
       "    this.rubberband_context.strokeStyle = \"#000000\";\n",
       "\n",
       "    this._resize_canvas = function(width, height) {\n",
       "        // Keep the size of the canvas, canvas container, and rubber band\n",
       "        // canvas in synch.\n",
       "        canvas_div.css('width', width)\n",
       "        canvas_div.css('height', height)\n",
       "\n",
       "        canvas.attr('width', width * mpl.ratio);\n",
       "        canvas.attr('height', height * mpl.ratio);\n",
       "        canvas.attr('style', 'width: ' + width + 'px; height: ' + height + 'px;');\n",
       "\n",
       "        rubberband.attr('width', width);\n",
       "        rubberband.attr('height', height);\n",
       "    }\n",
       "\n",
       "    // Set the figure to an initial 600x600px, this will subsequently be updated\n",
       "    // upon first draw.\n",
       "    this._resize_canvas(600, 600);\n",
       "\n",
       "    // Disable right mouse context menu.\n",
       "    $(this.rubberband_canvas).bind(\"contextmenu\",function(e){\n",
       "        return false;\n",
       "    });\n",
       "\n",
       "    function set_focus () {\n",
       "        canvas.focus();\n",
       "        canvas_div.focus();\n",
       "    }\n",
       "\n",
       "    window.setTimeout(set_focus, 100);\n",
       "}\n",
       "\n",
       "mpl.figure.prototype._init_toolbar = function() {\n",
       "    var fig = this;\n",
       "\n",
       "    var nav_element = $('<div/>');\n",
       "    nav_element.attr('style', 'width: 100%');\n",
       "    this.root.append(nav_element);\n",
       "\n",
       "    // Define a callback function for later on.\n",
       "    function toolbar_event(event) {\n",
       "        return fig.toolbar_button_onclick(event['data']);\n",
       "    }\n",
       "    function toolbar_mouse_event(event) {\n",
       "        return fig.toolbar_button_onmouseover(event['data']);\n",
       "    }\n",
       "\n",
       "    for(var toolbar_ind in mpl.toolbar_items) {\n",
       "        var name = mpl.toolbar_items[toolbar_ind][0];\n",
       "        var tooltip = mpl.toolbar_items[toolbar_ind][1];\n",
       "        var image = mpl.toolbar_items[toolbar_ind][2];\n",
       "        var method_name = mpl.toolbar_items[toolbar_ind][3];\n",
       "\n",
       "        if (!name) {\n",
       "            // put a spacer in here.\n",
       "            continue;\n",
       "        }\n",
       "        var button = $('<button/>');\n",
       "        button.addClass('ui-button ui-widget ui-state-default ui-corner-all ' +\n",
       "                        'ui-button-icon-only');\n",
       "        button.attr('role', 'button');\n",
       "        button.attr('aria-disabled', 'false');\n",
       "        button.click(method_name, toolbar_event);\n",
       "        button.mouseover(tooltip, toolbar_mouse_event);\n",
       "\n",
       "        var icon_img = $('<span/>');\n",
       "        icon_img.addClass('ui-button-icon-primary ui-icon');\n",
       "        icon_img.addClass(image);\n",
       "        icon_img.addClass('ui-corner-all');\n",
       "\n",
       "        var tooltip_span = $('<span/>');\n",
       "        tooltip_span.addClass('ui-button-text');\n",
       "        tooltip_span.html(tooltip);\n",
       "\n",
       "        button.append(icon_img);\n",
       "        button.append(tooltip_span);\n",
       "\n",
       "        nav_element.append(button);\n",
       "    }\n",
       "\n",
       "    var fmt_picker_span = $('<span/>');\n",
       "\n",
       "    var fmt_picker = $('<select/>');\n",
       "    fmt_picker.addClass('mpl-toolbar-option ui-widget ui-widget-content');\n",
       "    fmt_picker_span.append(fmt_picker);\n",
       "    nav_element.append(fmt_picker_span);\n",
       "    this.format_dropdown = fmt_picker[0];\n",
       "\n",
       "    for (var ind in mpl.extensions) {\n",
       "        var fmt = mpl.extensions[ind];\n",
       "        var option = $(\n",
       "            '<option/>', {selected: fmt === mpl.default_extension}).html(fmt);\n",
       "        fmt_picker.append(option);\n",
       "    }\n",
       "\n",
       "    // Add hover states to the ui-buttons\n",
       "    $( \".ui-button\" ).hover(\n",
       "        function() { $(this).addClass(\"ui-state-hover\");},\n",
       "        function() { $(this).removeClass(\"ui-state-hover\");}\n",
       "    );\n",
       "\n",
       "    var status_bar = $('<span class=\"mpl-message\"/>');\n",
       "    nav_element.append(status_bar);\n",
       "    this.message = status_bar[0];\n",
       "}\n",
       "\n",
       "mpl.figure.prototype.request_resize = function(x_pixels, y_pixels) {\n",
       "    // Request matplotlib to resize the figure. Matplotlib will then trigger a resize in the client,\n",
       "    // which will in turn request a refresh of the image.\n",
       "    this.send_message('resize', {'width': x_pixels, 'height': y_pixels});\n",
       "}\n",
       "\n",
       "mpl.figure.prototype.send_message = function(type, properties) {\n",
       "    properties['type'] = type;\n",
       "    properties['figure_id'] = this.id;\n",
       "    this.ws.send(JSON.stringify(properties));\n",
       "}\n",
       "\n",
       "mpl.figure.prototype.send_draw_message = function() {\n",
       "    if (!this.waiting) {\n",
       "        this.waiting = true;\n",
       "        this.ws.send(JSON.stringify({type: \"draw\", figure_id: this.id}));\n",
       "    }\n",
       "}\n",
       "\n",
       "\n",
       "mpl.figure.prototype.handle_save = function(fig, msg) {\n",
       "    var format_dropdown = fig.format_dropdown;\n",
       "    var format = format_dropdown.options[format_dropdown.selectedIndex].value;\n",
       "    fig.ondownload(fig, format);\n",
       "}\n",
       "\n",
       "\n",
       "mpl.figure.prototype.handle_resize = function(fig, msg) {\n",
       "    var size = msg['size'];\n",
       "    if (size[0] != fig.canvas.width || size[1] != fig.canvas.height) {\n",
       "        fig._resize_canvas(size[0], size[1]);\n",
       "        fig.send_message(\"refresh\", {});\n",
       "    };\n",
       "}\n",
       "\n",
       "mpl.figure.prototype.handle_rubberband = function(fig, msg) {\n",
       "    var x0 = msg['x0'] / mpl.ratio;\n",
       "    var y0 = (fig.canvas.height - msg['y0']) / mpl.ratio;\n",
       "    var x1 = msg['x1'] / mpl.ratio;\n",
       "    var y1 = (fig.canvas.height - msg['y1']) / mpl.ratio;\n",
       "    x0 = Math.floor(x0) + 0.5;\n",
       "    y0 = Math.floor(y0) + 0.5;\n",
       "    x1 = Math.floor(x1) + 0.5;\n",
       "    y1 = Math.floor(y1) + 0.5;\n",
       "    var min_x = Math.min(x0, x1);\n",
       "    var min_y = Math.min(y0, y1);\n",
       "    var width = Math.abs(x1 - x0);\n",
       "    var height = Math.abs(y1 - y0);\n",
       "\n",
       "    fig.rubberband_context.clearRect(\n",
       "        0, 0, fig.canvas.width / mpl.ratio, fig.canvas.height / mpl.ratio);\n",
       "\n",
       "    fig.rubberband_context.strokeRect(min_x, min_y, width, height);\n",
       "}\n",
       "\n",
       "mpl.figure.prototype.handle_figure_label = function(fig, msg) {\n",
       "    // Updates the figure title.\n",
       "    fig.header.textContent = msg['label'];\n",
       "}\n",
       "\n",
       "mpl.figure.prototype.handle_cursor = function(fig, msg) {\n",
       "    var cursor = msg['cursor'];\n",
       "    switch(cursor)\n",
       "    {\n",
       "    case 0:\n",
       "        cursor = 'pointer';\n",
       "        break;\n",
       "    case 1:\n",
       "        cursor = 'default';\n",
       "        break;\n",
       "    case 2:\n",
       "        cursor = 'crosshair';\n",
       "        break;\n",
       "    case 3:\n",
       "        cursor = 'move';\n",
       "        break;\n",
       "    }\n",
       "    fig.rubberband_canvas.style.cursor = cursor;\n",
       "}\n",
       "\n",
       "mpl.figure.prototype.handle_message = function(fig, msg) {\n",
       "    fig.message.textContent = msg['message'];\n",
       "}\n",
       "\n",
       "mpl.figure.prototype.handle_draw = function(fig, msg) {\n",
       "    // Request the server to send over a new figure.\n",
       "    fig.send_draw_message();\n",
       "}\n",
       "\n",
       "mpl.figure.prototype.handle_image_mode = function(fig, msg) {\n",
       "    fig.image_mode = msg['mode'];\n",
       "}\n",
       "\n",
       "mpl.figure.prototype.updated_canvas_event = function() {\n",
       "    // Called whenever the canvas gets updated.\n",
       "    this.send_message(\"ack\", {});\n",
       "}\n",
       "\n",
       "// A function to construct a web socket function for onmessage handling.\n",
       "// Called in the figure constructor.\n",
       "mpl.figure.prototype._make_on_message_function = function(fig) {\n",
       "    return function socket_on_message(evt) {\n",
       "        if (evt.data instanceof Blob) {\n",
       "            /* FIXME: We get \"Resource interpreted as Image but\n",
       "             * transferred with MIME type text/plain:\" errors on\n",
       "             * Chrome.  But how to set the MIME type?  It doesn't seem\n",
       "             * to be part of the websocket stream */\n",
       "            evt.data.type = \"image/png\";\n",
       "\n",
       "            /* Free the memory for the previous frames */\n",
       "            if (fig.imageObj.src) {\n",
       "                (window.URL || window.webkitURL).revokeObjectURL(\n",
       "                    fig.imageObj.src);\n",
       "            }\n",
       "\n",
       "            fig.imageObj.src = (window.URL || window.webkitURL).createObjectURL(\n",
       "                evt.data);\n",
       "            fig.updated_canvas_event();\n",
       "            fig.waiting = false;\n",
       "            return;\n",
       "        }\n",
       "        else if (typeof evt.data === 'string' && evt.data.slice(0, 21) == \"data:image/png;base64\") {\n",
       "            fig.imageObj.src = evt.data;\n",
       "            fig.updated_canvas_event();\n",
       "            fig.waiting = false;\n",
       "            return;\n",
       "        }\n",
       "\n",
       "        var msg = JSON.parse(evt.data);\n",
       "        var msg_type = msg['type'];\n",
       "\n",
       "        // Call the  \"handle_{type}\" callback, which takes\n",
       "        // the figure and JSON message as its only arguments.\n",
       "        try {\n",
       "            var callback = fig[\"handle_\" + msg_type];\n",
       "        } catch (e) {\n",
       "            console.log(\"No handler for the '\" + msg_type + \"' message type: \", msg);\n",
       "            return;\n",
       "        }\n",
       "\n",
       "        if (callback) {\n",
       "            try {\n",
       "                // console.log(\"Handling '\" + msg_type + \"' message: \", msg);\n",
       "                callback(fig, msg);\n",
       "            } catch (e) {\n",
       "                console.log(\"Exception inside the 'handler_\" + msg_type + \"' callback:\", e, e.stack, msg);\n",
       "            }\n",
       "        }\n",
       "    };\n",
       "}\n",
       "\n",
       "// from http://stackoverflow.com/questions/1114465/getting-mouse-location-in-canvas\n",
       "mpl.findpos = function(e) {\n",
       "    //this section is from http://www.quirksmode.org/js/events_properties.html\n",
       "    var targ;\n",
       "    if (!e)\n",
       "        e = window.event;\n",
       "    if (e.target)\n",
       "        targ = e.target;\n",
       "    else if (e.srcElement)\n",
       "        targ = e.srcElement;\n",
       "    if (targ.nodeType == 3) // defeat Safari bug\n",
       "        targ = targ.parentNode;\n",
       "\n",
       "    // jQuery normalizes the pageX and pageY\n",
       "    // pageX,Y are the mouse positions relative to the document\n",
       "    // offset() returns the position of the element relative to the document\n",
       "    var x = e.pageX - $(targ).offset().left;\n",
       "    var y = e.pageY - $(targ).offset().top;\n",
       "\n",
       "    return {\"x\": x, \"y\": y};\n",
       "};\n",
       "\n",
       "/*\n",
       " * return a copy of an object with only non-object keys\n",
       " * we need this to avoid circular references\n",
       " * http://stackoverflow.com/a/24161582/3208463\n",
       " */\n",
       "function simpleKeys (original) {\n",
       "  return Object.keys(original).reduce(function (obj, key) {\n",
       "    if (typeof original[key] !== 'object')\n",
       "        obj[key] = original[key]\n",
       "    return obj;\n",
       "  }, {});\n",
       "}\n",
       "\n",
       "mpl.figure.prototype.mouse_event = function(event, name) {\n",
       "    var canvas_pos = mpl.findpos(event)\n",
       "\n",
       "    if (name === 'button_press')\n",
       "    {\n",
       "        this.canvas.focus();\n",
       "        this.canvas_div.focus();\n",
       "    }\n",
       "\n",
       "    var x = canvas_pos.x * mpl.ratio;\n",
       "    var y = canvas_pos.y * mpl.ratio;\n",
       "\n",
       "    this.send_message(name, {x: x, y: y, button: event.button,\n",
       "                             step: event.step,\n",
       "                             guiEvent: simpleKeys(event)});\n",
       "\n",
       "    /* This prevents the web browser from automatically changing to\n",
       "     * the text insertion cursor when the button is pressed.  We want\n",
       "     * to control all of the cursor setting manually through the\n",
       "     * 'cursor' event from matplotlib */\n",
       "    event.preventDefault();\n",
       "    return false;\n",
       "}\n",
       "\n",
       "mpl.figure.prototype._key_event_extra = function(event, name) {\n",
       "    // Handle any extra behaviour associated with a key event\n",
       "}\n",
       "\n",
       "mpl.figure.prototype.key_event = function(event, name) {\n",
       "\n",
       "    // Prevent repeat events\n",
       "    if (name == 'key_press')\n",
       "    {\n",
       "        if (event.which === this._key)\n",
       "            return;\n",
       "        else\n",
       "            this._key = event.which;\n",
       "    }\n",
       "    if (name == 'key_release')\n",
       "        this._key = null;\n",
       "\n",
       "    var value = '';\n",
       "    if (event.ctrlKey && event.which != 17)\n",
       "        value += \"ctrl+\";\n",
       "    if (event.altKey && event.which != 18)\n",
       "        value += \"alt+\";\n",
       "    if (event.shiftKey && event.which != 16)\n",
       "        value += \"shift+\";\n",
       "\n",
       "    value += 'k';\n",
       "    value += event.which.toString();\n",
       "\n",
       "    this._key_event_extra(event, name);\n",
       "\n",
       "    this.send_message(name, {key: value,\n",
       "                             guiEvent: simpleKeys(event)});\n",
       "    return false;\n",
       "}\n",
       "\n",
       "mpl.figure.prototype.toolbar_button_onclick = function(name) {\n",
       "    if (name == 'download') {\n",
       "        this.handle_save(this, null);\n",
       "    } else {\n",
       "        this.send_message(\"toolbar_button\", {name: name});\n",
       "    }\n",
       "};\n",
       "\n",
       "mpl.figure.prototype.toolbar_button_onmouseover = function(tooltip) {\n",
       "    this.message.textContent = tooltip;\n",
       "};\n",
       "mpl.toolbar_items = [[\"Home\", \"Reset original view\", \"fa fa-home icon-home\", \"home\"], [\"Back\", \"Back to previous view\", \"fa fa-arrow-left icon-arrow-left\", \"back\"], [\"Forward\", \"Forward to next view\", \"fa fa-arrow-right icon-arrow-right\", \"forward\"], [\"\", \"\", \"\", \"\"], [\"Pan\", \"Pan axes with left mouse, zoom with right\", \"fa fa-arrows icon-move\", \"pan\"], [\"Zoom\", \"Zoom to rectangle\", \"fa fa-square-o icon-check-empty\", \"zoom\"], [\"\", \"\", \"\", \"\"], [\"Download\", \"Download plot\", \"fa fa-floppy-o icon-save\", \"download\"]];\n",
       "\n",
       "mpl.extensions = [\"eps\", \"pdf\", \"png\", \"ps\", \"raw\", \"svg\"];\n",
       "\n",
       "mpl.default_extension = \"png\";var comm_websocket_adapter = function(comm) {\n",
       "    // Create a \"websocket\"-like object which calls the given IPython comm\n",
       "    // object with the appropriate methods. Currently this is a non binary\n",
       "    // socket, so there is still some room for performance tuning.\n",
       "    var ws = {};\n",
       "\n",
       "    ws.close = function() {\n",
       "        comm.close()\n",
       "    };\n",
       "    ws.send = function(m) {\n",
       "        //console.log('sending', m);\n",
       "        comm.send(m);\n",
       "    };\n",
       "    // Register the callback with on_msg.\n",
       "    comm.on_msg(function(msg) {\n",
       "        //console.log('receiving', msg['content']['data'], msg);\n",
       "        // Pass the mpl event to the overridden (by mpl) onmessage function.\n",
       "        ws.onmessage(msg['content']['data'])\n",
       "    });\n",
       "    return ws;\n",
       "}\n",
       "\n",
       "mpl.mpl_figure_comm = function(comm, msg) {\n",
       "    // This is the function which gets called when the mpl process\n",
       "    // starts-up an IPython Comm through the \"matplotlib\" channel.\n",
       "\n",
       "    var id = msg.content.data.id;\n",
       "    // Get hold of the div created by the display call when the Comm\n",
       "    // socket was opened in Python.\n",
       "    var element = $(\"#\" + id);\n",
       "    var ws_proxy = comm_websocket_adapter(comm)\n",
       "\n",
       "    function ondownload(figure, format) {\n",
       "        window.open(figure.imageObj.src);\n",
       "    }\n",
       "\n",
       "    var fig = new mpl.figure(id, ws_proxy,\n",
       "                           ondownload,\n",
       "                           element.get(0));\n",
       "\n",
       "    // Call onopen now - mpl needs it, as it is assuming we've passed it a real\n",
       "    // web socket which is closed, not our websocket->open comm proxy.\n",
       "    ws_proxy.onopen();\n",
       "\n",
       "    fig.parent_element = element.get(0);\n",
       "    fig.cell_info = mpl.find_output_cell(\"<div id='\" + id + \"'></div>\");\n",
       "    if (!fig.cell_info) {\n",
       "        console.error(\"Failed to find cell for figure\", id, fig);\n",
       "        return;\n",
       "    }\n",
       "\n",
       "    var output_index = fig.cell_info[2]\n",
       "    var cell = fig.cell_info[0];\n",
       "\n",
       "};\n",
       "\n",
       "mpl.figure.prototype.handle_close = function(fig, msg) {\n",
       "    var width = fig.canvas.width/mpl.ratio\n",
       "    fig.root.unbind('remove')\n",
       "\n",
       "    // Update the output cell to use the data from the current canvas.\n",
       "    fig.push_to_output();\n",
       "    var dataURL = fig.canvas.toDataURL();\n",
       "    // Re-enable the keyboard manager in IPython - without this line, in FF,\n",
       "    // the notebook keyboard shortcuts fail.\n",
       "    IPython.keyboard_manager.enable()\n",
       "    $(fig.parent_element).html('<img src=\"' + dataURL + '\" width=\"' + width + '\">');\n",
       "    fig.close_ws(fig, msg);\n",
       "}\n",
       "\n",
       "mpl.figure.prototype.close_ws = function(fig, msg){\n",
       "    fig.send_message('closing', msg);\n",
       "    // fig.ws.close()\n",
       "}\n",
       "\n",
       "mpl.figure.prototype.push_to_output = function(remove_interactive) {\n",
       "    // Turn the data on the canvas into data in the output cell.\n",
       "    var width = this.canvas.width/mpl.ratio\n",
       "    var dataURL = this.canvas.toDataURL();\n",
       "    this.cell_info[1]['text/html'] = '<img src=\"' + dataURL + '\" width=\"' + width + '\">';\n",
       "}\n",
       "\n",
       "mpl.figure.prototype.updated_canvas_event = function() {\n",
       "    // Tell IPython that the notebook contents must change.\n",
       "    IPython.notebook.set_dirty(true);\n",
       "    this.send_message(\"ack\", {});\n",
       "    var fig = this;\n",
       "    // Wait a second, then push the new image to the DOM so\n",
       "    // that it is saved nicely (might be nice to debounce this).\n",
       "    setTimeout(function () { fig.push_to_output() }, 1000);\n",
       "}\n",
       "\n",
       "mpl.figure.prototype._init_toolbar = function() {\n",
       "    var fig = this;\n",
       "\n",
       "    var nav_element = $('<div/>');\n",
       "    nav_element.attr('style', 'width: 100%');\n",
       "    this.root.append(nav_element);\n",
       "\n",
       "    // Define a callback function for later on.\n",
       "    function toolbar_event(event) {\n",
       "        return fig.toolbar_button_onclick(event['data']);\n",
       "    }\n",
       "    function toolbar_mouse_event(event) {\n",
       "        return fig.toolbar_button_onmouseover(event['data']);\n",
       "    }\n",
       "\n",
       "    for(var toolbar_ind in mpl.toolbar_items){\n",
       "        var name = mpl.toolbar_items[toolbar_ind][0];\n",
       "        var tooltip = mpl.toolbar_items[toolbar_ind][1];\n",
       "        var image = mpl.toolbar_items[toolbar_ind][2];\n",
       "        var method_name = mpl.toolbar_items[toolbar_ind][3];\n",
       "\n",
       "        if (!name) { continue; };\n",
       "\n",
       "        var button = $('<button class=\"btn btn-default\" href=\"#\" title=\"' + name + '\"><i class=\"fa ' + image + ' fa-lg\"></i></button>');\n",
       "        button.click(method_name, toolbar_event);\n",
       "        button.mouseover(tooltip, toolbar_mouse_event);\n",
       "        nav_element.append(button);\n",
       "    }\n",
       "\n",
       "    // Add the status bar.\n",
       "    var status_bar = $('<span class=\"mpl-message\" style=\"text-align:right; float: right;\"/>');\n",
       "    nav_element.append(status_bar);\n",
       "    this.message = status_bar[0];\n",
       "\n",
       "    // Add the close button to the window.\n",
       "    var buttongrp = $('<div class=\"btn-group inline pull-right\"></div>');\n",
       "    var button = $('<button class=\"btn btn-mini btn-primary\" href=\"#\" title=\"Stop Interaction\"><i class=\"fa fa-power-off icon-remove icon-large\"></i></button>');\n",
       "    button.click(function (evt) { fig.handle_close(fig, {}); } );\n",
       "    button.mouseover('Stop Interaction', toolbar_mouse_event);\n",
       "    buttongrp.append(button);\n",
       "    var titlebar = this.root.find($('.ui-dialog-titlebar'));\n",
       "    titlebar.prepend(buttongrp);\n",
       "}\n",
       "\n",
       "mpl.figure.prototype._root_extra_style = function(el){\n",
       "    var fig = this\n",
       "    el.on(\"remove\", function(){\n",
       "\tfig.close_ws(fig, {});\n",
       "    });\n",
       "}\n",
       "\n",
       "mpl.figure.prototype._canvas_extra_style = function(el){\n",
       "    // this is important to make the div 'focusable\n",
       "    el.attr('tabindex', 0)\n",
       "    // reach out to IPython and tell the keyboard manager to turn it's self\n",
       "    // off when our div gets focus\n",
       "\n",
       "    // location in version 3\n",
       "    if (IPython.notebook.keyboard_manager) {\n",
       "        IPython.notebook.keyboard_manager.register_events(el);\n",
       "    }\n",
       "    else {\n",
       "        // location in version 2\n",
       "        IPython.keyboard_manager.register_events(el);\n",
       "    }\n",
       "\n",
       "}\n",
       "\n",
       "mpl.figure.prototype._key_event_extra = function(event, name) {\n",
       "    var manager = IPython.notebook.keyboard_manager;\n",
       "    if (!manager)\n",
       "        manager = IPython.keyboard_manager;\n",
       "\n",
       "    // Check for shift+enter\n",
       "    if (event.shiftKey && event.which == 13) {\n",
       "        this.canvas_div.blur();\n",
       "        // select the cell after this one\n",
       "        var index = IPython.notebook.find_cell_index(this.cell_info[0]);\n",
       "        IPython.notebook.select(index + 1);\n",
       "    }\n",
       "}\n",
       "\n",
       "mpl.figure.prototype.handle_save = function(fig, msg) {\n",
       "    fig.ondownload(fig, null);\n",
       "}\n",
       "\n",
       "\n",
       "mpl.find_output_cell = function(html_output) {\n",
       "    // Return the cell and output element which can be found *uniquely* in the notebook.\n",
       "    // Note - this is a bit hacky, but it is done because the \"notebook_saving.Notebook\"\n",
       "    // IPython event is triggered only after the cells have been serialised, which for\n",
       "    // our purposes (turning an active figure into a static one), is too late.\n",
       "    var cells = IPython.notebook.get_cells();\n",
       "    var ncells = cells.length;\n",
       "    for (var i=0; i<ncells; i++) {\n",
       "        var cell = cells[i];\n",
       "        if (cell.cell_type === 'code'){\n",
       "            for (var j=0; j<cell.output_area.outputs.length; j++) {\n",
       "                var data = cell.output_area.outputs[j];\n",
       "                if (data.data) {\n",
       "                    // IPython >= 3 moved mimebundle to data attribute of output\n",
       "                    data = data.data;\n",
       "                }\n",
       "                if (data['text/html'] == html_output) {\n",
       "                    return [cell, data, j];\n",
       "                }\n",
       "            }\n",
       "        }\n",
       "    }\n",
       "}\n",
       "\n",
       "// Register the function which deals with the matplotlib target/channel.\n",
       "// The kernel may be null if the page has been refreshed.\n",
       "if (IPython.notebook.kernel != null) {\n",
       "    IPython.notebook.kernel.comm_manager.register_target('matplotlib', mpl.mpl_figure_comm);\n",
       "}\n"
      ],
      "text/plain": [
       "<IPython.core.display.Javascript object>"
      ]
     },
     "metadata": {},
     "output_type": "display_data"
    },
    {
     "data": {
      "text/html": [
       "<img src=\"data:image/png;base64,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\" width=\"640\">"
      ],
      "text/plain": [
       "<IPython.core.display.HTML object>"
      ]
     },
     "metadata": {},
     "output_type": "display_data"
    },
    {
     "data": {
      "text/plain": [
       "[<matplotlib.lines.Line2D at 0x7f164ed10f10>]"
      ]
     },
     "execution_count": 34,
     "metadata": {},
     "output_type": "execute_result"
    }
   ],
   "source": [
    "plt.plot([key for key in regimeAmounts.keys()],[val for val in regimeAmounts.values()])"
   ]
  },
  {
   "cell_type": "code",
   "execution_count": 35,
   "metadata": {
    "scrolled": false
   },
   "outputs": [
    {
     "data": {
      "text/plain": [
       "([<matplotlib.axis.XTick at 0x7f164ed28c70>,\n",
       "  <matplotlib.axis.XTick at 0x7f164ed28c40>,\n",
       "  <matplotlib.axis.XTick at 0x7f164ed21fd0>,\n",
       "  <matplotlib.axis.XTick at 0x7f164eb34fa0>,\n",
       "  <matplotlib.axis.XTick at 0x7f164eb264f0>,\n",
       "  <matplotlib.axis.XTick at 0x7f164eb26a00>,\n",
       "  <matplotlib.axis.XTick at 0x7f164eb26f10>,\n",
       "  <matplotlib.axis.XTick at 0x7f164eb22430>,\n",
       "  <matplotlib.axis.XTick at 0x7f164eb22880>,\n",
       "  <matplotlib.axis.XTick at 0x7f164eb22e50>,\n",
       "  <matplotlib.axis.XTick at 0x7f164eb20400>,\n",
       "  <matplotlib.axis.XTick at 0x7f164eb22550>,\n",
       "  <matplotlib.axis.XTick at 0x7f164eb266d0>,\n",
       "  <matplotlib.axis.XTick at 0x7f164eb20040>,\n",
       "  <matplotlib.axis.XTick at 0x7f164eb20ac0>,\n",
       "  <matplotlib.axis.XTick at 0x7f164eb20fd0>,\n",
       "  <matplotlib.axis.XTick at 0x7f164eb15520>,\n",
       "  <matplotlib.axis.XTick at 0x7f164eb15a30>,\n",
       "  <matplotlib.axis.XTick at 0x7f164eb15f40>,\n",
       "  <matplotlib.axis.XTick at 0x7f164eb0d490>,\n",
       "  <matplotlib.axis.XTick at 0x7f164eb0d9a0>,\n",
       "  <matplotlib.axis.XTick at 0x7f164eb150a0>,\n",
       "  <matplotlib.axis.XTick at 0x7f164eb26610>,\n",
       "  <matplotlib.axis.XTick at 0x7f164eb0d610>,\n",
       "  <matplotlib.axis.XTick at 0x7f164eb0de20>,\n",
       "  <matplotlib.axis.XTick at 0x7f164fec2370>,\n",
       "  <matplotlib.axis.XTick at 0x7f164fec2880>,\n",
       "  <matplotlib.axis.XTick at 0x7f164fec2d90>,\n",
       "  <matplotlib.axis.XTick at 0x7f164fec62e0>,\n",
       "  <matplotlib.axis.XTick at 0x7f164fec67f0>,\n",
       "  <matplotlib.axis.XTick at 0x7f164fec2af0>,\n",
       "  <matplotlib.axis.XTick at 0x7f164eb0db80>,\n",
       "  <matplotlib.axis.XTick at 0x7f164eb15b20>,\n",
       "  <matplotlib.axis.XTick at 0x7f164fec6d90>,\n",
       "  <matplotlib.axis.XTick at 0x7f164fecc2e0>,\n",
       "  <matplotlib.axis.XTick at 0x7f164fecc7f0>,\n",
       "  <matplotlib.axis.XTick at 0x7f164feccd00>,\n",
       "  <matplotlib.axis.XTick at 0x7f164fed3250>,\n",
       "  <matplotlib.axis.XTick at 0x7f164fed3760>,\n",
       "  <matplotlib.axis.XTick at 0x7f164fed3c70>,\n",
       "  <matplotlib.axis.XTick at 0x7f164fed3880>,\n",
       "  <matplotlib.axis.XTick at 0x7f164fecc910>,\n",
       "  <matplotlib.axis.XTick at 0x7f164fec6b80>,\n",
       "  <matplotlib.axis.XTick at 0x7f164fed81c0>,\n",
       "  <matplotlib.axis.XTick at 0x7f164fed86d0>,\n",
       "  <matplotlib.axis.XTick at 0x7f164fed8c10>,\n",
       "  <matplotlib.axis.XTick at 0x7f164fefd160>,\n",
       "  <matplotlib.axis.XTick at 0x7f164fefd610>,\n",
       "  <matplotlib.axis.XTick at 0x7f164fefdbe0>,\n",
       "  <matplotlib.axis.XTick at 0x7f164fef90d0>,\n",
       "  <matplotlib.axis.XTick at 0x7f164fefd2b0>,\n",
       "  <matplotlib.axis.XTick at 0x7f164fed8310>,\n",
       "  <matplotlib.axis.XTick at 0x7f164feccf10>,\n",
       "  <matplotlib.axis.XTick at 0x7f164fef95e0>,\n",
       "  <matplotlib.axis.XTick at 0x7f164fef9af0>,\n",
       "  <matplotlib.axis.XTick at 0x7f164fef2040>,\n",
       "  <matplotlib.axis.XTick at 0x7f164fef2550>,\n",
       "  <matplotlib.axis.XTick at 0x7f164fef2a60>,\n",
       "  <matplotlib.axis.XTick at 0x7f164fef2f70>,\n",
       "  <matplotlib.axis.XTick at 0x7f164fee94c0>,\n",
       "  <matplotlib.axis.XTick at 0x7f164fef20d0>,\n",
       "  <matplotlib.axis.XTick at 0x7f164fef9280>,\n",
       "  <matplotlib.axis.XTick at 0x7f164fee9580>,\n",
       "  <matplotlib.axis.XTick at 0x7f164fee9940>,\n",
       "  <matplotlib.axis.XTick at 0x7f164fee9e50>,\n",
       "  <matplotlib.axis.XTick at 0x7f164fee23a0>,\n",
       "  <matplotlib.axis.XTick at 0x7f164fee28b0>,\n",
       "  <matplotlib.axis.XTick at 0x7f164fee2dc0>,\n",
       "  <matplotlib.axis.XTick at 0x7f164fedc370>,\n",
       "  <matplotlib.axis.XTick at 0x7f164fee2910>,\n",
       "  <matplotlib.axis.XTick at 0x7f164fee9130>,\n",
       "  <matplotlib.axis.XTick at 0x7f164fef2fd0>,\n",
       "  <matplotlib.axis.XTick at 0x7f164fedcb50>,\n",
       "  <matplotlib.axis.XTick at 0x7f16544d4130>,\n",
       "  <matplotlib.axis.XTick at 0x7f16544d46d0>,\n",
       "  <matplotlib.axis.XTick at 0x7f16544d4c70>,\n",
       "  <matplotlib.axis.XTick at 0x7f16544d6250>,\n",
       "  <matplotlib.axis.XTick at 0x7f16544d67f0>,\n",
       "  <matplotlib.axis.XTick at 0x7f16544d6d90>,\n",
       "  <matplotlib.axis.XTick at 0x7f16544d4220>,\n",
       "  <matplotlib.axis.XTick at 0x7f164fee24c0>,\n",
       "  <matplotlib.axis.XTick at 0x7f16544d6f40>,\n",
       "  <matplotlib.axis.XTick at 0x7f16544da520>,\n",
       "  <matplotlib.axis.XTick at 0x7f16544daac0>,\n",
       "  <matplotlib.axis.XTick at 0x7f16544e6340>,\n",
       "  <matplotlib.axis.XTick at 0x7f16544e6670>,\n",
       "  <matplotlib.axis.XTick at 0x7f16544e6b50>,\n",
       "  <matplotlib.axis.XTick at 0x7f16544e21f0>,\n",
       "  <matplotlib.axis.XTick at 0x7f16544e6610>,\n",
       "  <matplotlib.axis.XTick at 0x7f16544da0d0>,\n",
       "  <matplotlib.axis.XTick at 0x7f16544d4dc0>,\n",
       "  <matplotlib.axis.XTick at 0x7f16544e29d0>,\n",
       "  <matplotlib.axis.XTick at 0x7f16544e2f70>,\n",
       "  <matplotlib.axis.XTick at 0x7f16544e1490>,\n",
       "  <matplotlib.axis.XTick at 0x7f16544e1af0>,\n",
       "  <matplotlib.axis.XTick at 0x7f16544b40d0>,\n",
       "  <matplotlib.axis.XTick at 0x7f16544b4670>,\n",
       "  <matplotlib.axis.XTick at 0x7f16544b4c10>,\n",
       "  <matplotlib.axis.XTick at 0x7f16544e12b0>],\n",
       " [Text(0, 0, 'SimOpt_extensive_0'),\n",
       "  Text(0, 0, 'SimOpt_extensive_1'),\n",
       "  Text(0, 0, 'SimOpt_extensive_10'),\n",
       "  Text(0, 0, 'SimOpt_extensive_11'),\n",
       "  Text(0, 0, 'SimOpt_extensive_12'),\n",
       "  Text(0, 0, 'SimOpt_extensive_13'),\n",
       "  Text(0, 0, 'SimOpt_extensive_14'),\n",
       "  Text(0, 0, 'SimOpt_extensive_15'),\n",
       "  Text(0, 0, 'SimOpt_extensive_16'),\n",
       "  Text(0, 0, 'SimOpt_extensive_17'),\n",
       "  Text(0, 0, 'SimOpt_extensive_18'),\n",
       "  Text(0, 0, 'SimOpt_extensive_2'),\n",
       "  Text(0, 0, 'SimOpt_extensive_3'),\n",
       "  Text(0, 0, 'SimOpt_extensive_4'),\n",
       "  Text(0, 0, 'SimOpt_extensive_5'),\n",
       "  Text(0, 0, 'SimOpt_extensive_6'),\n",
       "  Text(0, 0, 'SimOpt_extensive_7'),\n",
       "  Text(0, 0, 'SimOpt_extensive_8'),\n",
       "  Text(0, 0, 'SimOpt_extensive_9'),\n",
       "  Text(0, 0, 'SimOpt_extensive_long_0'),\n",
       "  Text(0, 0, 'SimOpt_extensive_long_1'),\n",
       "  Text(0, 0, 'SimOpt_extensive_long_10'),\n",
       "  Text(0, 0, 'SimOpt_extensive_long_11'),\n",
       "  Text(0, 0, 'SimOpt_extensive_long_12'),\n",
       "  Text(0, 0, 'SimOpt_extensive_long_13'),\n",
       "  Text(0, 0, 'SimOpt_extensive_long_14'),\n",
       "  Text(0, 0, 'SimOpt_extensive_long_15'),\n",
       "  Text(0, 0, 'SimOpt_extensive_long_16'),\n",
       "  Text(0, 0, 'SimOpt_extensive_long_17'),\n",
       "  Text(0, 0, 'SimOpt_extensive_long_18'),\n",
       "  Text(0, 0, 'SimOpt_extensive_long_2'),\n",
       "  Text(0, 0, 'SimOpt_extensive_long_3'),\n",
       "  Text(0, 0, 'SimOpt_extensive_long_4'),\n",
       "  Text(0, 0, 'SimOpt_extensive_long_5'),\n",
       "  Text(0, 0, 'SimOpt_extensive_long_6'),\n",
       "  Text(0, 0, 'SimOpt_extensive_long_7'),\n",
       "  Text(0, 0, 'SimOpt_extensive_long_8'),\n",
       "  Text(0, 0, 'SimOpt_extensive_long_9'),\n",
       "  Text(0, 0, 'SimOpt_no_management_0'),\n",
       "  Text(0, 0, 'SimOpt_int_0'),\n",
       "  Text(0, 0, 'SimOpt_int_short_0'),\n",
       "  Text(0, 0, 'SimOpt_multispecies_0'),\n",
       "  Text(0, 0, 'SimOpt_int_1'),\n",
       "  Text(0, 0, 'SimOpt_int_10'),\n",
       "  Text(0, 0, 'SimOpt_int_11'),\n",
       "  Text(0, 0, 'SimOpt_int_12'),\n",
       "  Text(0, 0, 'SimOpt_int_13'),\n",
       "  Text(0, 0, 'SimOpt_int_14'),\n",
       "  Text(0, 0, 'SimOpt_int_15'),\n",
       "  Text(0, 0, 'SimOpt_int_16'),\n",
       "  Text(0, 0, 'SimOpt_int_17'),\n",
       "  Text(0, 0, 'SimOpt_int_18'),\n",
       "  Text(0, 0, 'SimOpt_int_2'),\n",
       "  Text(0, 0, 'SimOpt_int_3'),\n",
       "  Text(0, 0, 'SimOpt_int_4'),\n",
       "  Text(0, 0, 'SimOpt_int_5'),\n",
       "  Text(0, 0, 'SimOpt_int_6'),\n",
       "  Text(0, 0, 'SimOpt_int_7'),\n",
       "  Text(0, 0, 'SimOpt_int_8'),\n",
       "  Text(0, 0, 'SimOpt_int_9'),\n",
       "  Text(0, 0, 'SimOpt_int_short_1'),\n",
       "  Text(0, 0, 'SimOpt_int_short_10'),\n",
       "  Text(0, 0, 'SimOpt_int_short_11'),\n",
       "  Text(0, 0, 'SimOpt_int_short_12'),\n",
       "  Text(0, 0, 'SimOpt_int_short_13'),\n",
       "  Text(0, 0, 'SimOpt_int_short_14'),\n",
       "  Text(0, 0, 'SimOpt_int_short_15'),\n",
       "  Text(0, 0, 'SimOpt_int_short_16'),\n",
       "  Text(0, 0, 'SimOpt_int_short_17'),\n",
       "  Text(0, 0, 'SimOpt_int_short_18'),\n",
       "  Text(0, 0, 'SimOpt_int_short_2'),\n",
       "  Text(0, 0, 'SimOpt_int_short_3'),\n",
       "  Text(0, 0, 'SimOpt_int_short_4'),\n",
       "  Text(0, 0, 'SimOpt_int_short_5'),\n",
       "  Text(0, 0, 'SimOpt_int_short_6'),\n",
       "  Text(0, 0, 'SimOpt_int_short_7'),\n",
       "  Text(0, 0, 'SimOpt_int_short_8'),\n",
       "  Text(0, 0, 'SimOpt_int_short_9'),\n",
       "  Text(0, 0, 'SimOpt_multispecies_1'),\n",
       "  Text(0, 0, 'SimOpt_multispecies_10'),\n",
       "  Text(0, 0, 'SimOpt_multispecies_11'),\n",
       "  Text(0, 0, 'SimOpt_multispecies_12'),\n",
       "  Text(0, 0, 'SimOpt_multispecies_13'),\n",
       "  Text(0, 0, 'SimOpt_multispecies_14'),\n",
       "  Text(0, 0, 'SimOpt_multispecies_15'),\n",
       "  Text(0, 0, 'SimOpt_multispecies_16'),\n",
       "  Text(0, 0, 'SimOpt_multispecies_17'),\n",
       "  Text(0, 0, 'SimOpt_multispecies_18'),\n",
       "  Text(0, 0, 'SimOpt_multispecies_2'),\n",
       "  Text(0, 0, 'SimOpt_multispecies_3'),\n",
       "  Text(0, 0, 'SimOpt_multispecies_4'),\n",
       "  Text(0, 0, 'SimOpt_multispecies_5'),\n",
       "  Text(0, 0, 'SimOpt_multispecies_6'),\n",
       "  Text(0, 0, 'SimOpt_multispecies_7'),\n",
       "  Text(0, 0, 'SimOpt_multispecies_8'),\n",
       "  Text(0, 0, 'SimOpt_multispecies_9'),\n",
       "  Text(0, 0, 'SimOpt_ccover_0'),\n",
       "  Text(0, 0, 'SimOpt_ccover_1'),\n",
       "  Text(0, 0, 'SimOpt_ccover_2')])"
      ]
     },
     "execution_count": 35,
     "metadata": {},
     "output_type": "execute_result"
    }
   ],
   "source": [
    "plt.bar(range(len(regimeAmounts)), list(regimeAmounts.values()), align='center')\n",
    "plt.xticks(range(len(regimeAmounts)), list(regimeAmounts.keys()),rotation=\"vertical\")"
   ]
  },
  {
   "cell_type": "markdown",
   "metadata": {},
   "source": [
    "## Export data as csv\n",
    "- Solution_alldata contains the optimal regime per stand AND the timely development of indicator values plus all other input columns (represented_are_by_NFIplot, region, NUTS2)\n",
    "- Solution contains only the selected optimal regime and its share (if multiple regimes per stand are selected)"
   ]
  },
  {
   "cell_type": "code",
   "execution_count": 36,
   "metadata": {},
   "outputs": [],
   "source": [
    "try:\n",
    "    os.mkdir(\"results\")\n",
    "except FileExistsError:\n",
    "    pass\n",
    "b = []\n",
    "c = []\n",
    "for key in mfo.regimesDecision.keys():\n",
    "    if mfo.regimesDecision[key].solution_value() > 0:\n",
    "        b = b+ [(key[0],x*5+2012, key[1]) for x in range(0,21)]\n",
    "        c = c+ [(key[0],key[1],mfo.regimesDecision[key].solution_value())]\n",
    "data2b = mfo.data.iloc[mfo.data.index.isin(b)]\n",
    "data2b.to_csv(\"./results/\"+scenario+\"_\"+RCP+\"_data.csv\")\n",
    "c1 = pd.DataFrame(c)\n",
    "c1.to_csv(\"./results/\"+scenario+\"_\"+RCP+\"_solutions.csv\")"
   ]
  },
  {
   "cell_type": "markdown",
   "metadata": {},
   "source": [
    "## Export objective ranges"
   ]
  },
  {
   "cell_type": "markdown",
   "metadata": {},
   "source": [
    "Save as json file"
   ]
  },
  {
   "cell_type": "code",
   "execution_count": 38,
   "metadata": {},
   "outputs": [],
   "source": [
    "import json\n",
    "mfo.objectiveRanges\n",
    "\n",
    "with open('./results/objectiveRanges_'+scenario+'_'+RCP+'.json', 'w') as json_file:\n",
    "  json.dump(mfo.objectiveRanges, json_file)"
   ]
  },
  {
   "cell_type": "markdown",
   "metadata": {},
   "source": [
    "Save as CSV."
   ]
  },
  {
   "cell_type": "code",
   "execution_count": 39,
   "metadata": {},
   "outputs": [],
   "source": [
    "df = pd.read_json('./results/objectiveRanges_'+scenario+'_'+RCP+'.json')\n",
    "\n",
    "df.to_csv('./results/objectiveRanges_'+scenario+'_'+RCP+'.csv')"
   ]
  },
  {
   "cell_type": "markdown",
   "metadata": {},
   "source": [
    "## Export objective values\n",
    "The optimal solution for each objective."
   ]
  },
  {
   "cell_type": "code",
   "execution_count": 40,
   "metadata": {},
   "outputs": [],
   "source": [
    "with open(\"./results/objectiveValues_\"+scenario+\"_\"+RCP+\".csv\",\"w\") as file:\n",
    "    delim = \"\"\n",
    "    for objName in mfo.objectiveTypes.keys():\n",
    "        file.write(delim+objName)\n",
    "        delim = \",\"\n",
    "    file.write(\"\\n\")\n",
    "    delim = \"\"\n",
    "    for objName in mfo.objectiveTypes.keys():\n",
    "        file.write(delim+str(mfo.objective[objName].solution_value()))\n",
    "        delim = \",\"\n",
    "    file.write(\"\\n\")"
   ]
  },
  {
   "cell_type": "code",
   "execution_count": null,
   "metadata": {},
   "outputs": [],
   "source": []
  }
 ],
 "metadata": {
  "kernelspec": {
   "display_name": "Python 3",
   "language": "python",
   "name": "python3"
  },
  "language_info": {
   "codemirror_mode": {
    "name": "ipython",
    "version": 3
   },
   "file_extension": ".py",
   "mimetype": "text/x-python",
   "name": "python",
   "nbconvert_exporter": "python",
   "pygments_lexer": "ipython3",
   "version": "3.8.3"
  }
 },
 "nbformat": 4,
 "nbformat_minor": 2
}
