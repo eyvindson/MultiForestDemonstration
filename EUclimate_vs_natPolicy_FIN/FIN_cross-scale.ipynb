{
 "cells": [
  {
   "cell_type": "markdown",
   "metadata": {},
   "source": [
    "# EU climate change mitigation targets compromise forest ecosystem services and biodiversity\n",
    "\n",
    "## FINLAND"
   ]
  },
  {
   "cell_type": "markdown",
   "metadata": {},
   "source": [
    "Above the code cells, there are short instructions how the users can modify the codes in the cells.<br>\n",
    "If there are no instructions, no changes should be needed for the cell by default.\n",
    "\n",
    "A detailed description is provided in the <b>README.md</b>."
   ]
  },
  {
   "cell_type": "markdown",
   "metadata": {},
   "source": [
    "## Basic definitions"
   ]
  },
  {
   "cell_type": "markdown",
   "metadata": {},
   "source": [
    "Simulated forest data (climate scenario and name); sample size of data "
   ]
  },
  {
   "cell_type": "code",
   "execution_count": 1,
   "metadata": {},
   "outputs": [],
   "source": [
    "RCP = \"RCP0\"\n",
    "filename = \"rslt_\"+RCP+\"_CentralFinland.zip\" # Test data from Central Finland with 3579 forest stands\n",
    "sample = 0.5 # if 1, 100% of data is used "
   ]
  },
  {
   "cell_type": "markdown",
   "metadata": {},
   "source": [
    "Specify policy scenario:\n",
    "\n",
    "* \"NFS\" - National Forest Strategy\n",
    "* \"BDS\" - Biodiversity Strategy\n",
    "* \"BES\" - Bioeconomy Strategy"
   ]
  },
  {
   "cell_type": "code",
   "execution_count": 2,
   "metadata": {},
   "outputs": [],
   "source": [
    "scenario = \"BES\""
   ]
  },
  {
   "cell_type": "markdown",
   "metadata": {},
   "source": [
    "Name definition for saved output, rule: _scenario_RCP_extension"
   ]
  },
  {
   "cell_type": "code",
   "execution_count": 3,
   "metadata": {},
   "outputs": [],
   "source": [
    "extension = \"Test_BottomUp\" # some additional info to the saved output"
   ]
  },
  {
   "cell_type": "markdown",
   "metadata": {},
   "source": [
    "## Specify \"if\" and \"which\" GLOBIOM scenario is used\n",
    "\n",
    "<b>ATTENTION:</b> each scenario relates to specific CC simulation!<br>\n",
    "Three scenarios define the perdiodic future demand for log, pulp/fuelwood, and forest residues.\n",
    "\n",
    "<b>Bottom-up</b> \n",
    "* 1.5 degrees + RCP 0 (no CC) = <b>'globiom_1p5_RCP0'</b>\n",
    "* NDC + RCP 4.5 = <b>'globiom_NDC_RCP45'</b>\n",
    "\n",
    "<b>Top-down</b> - functions <b>WITH</b> assortment transfer\n",
    "* 1.5 = <b>'globiom_1p5_RCP0_V2'</b>\n",
    "* NDC = <b>'globiom_NDC_RCP45_V2'</b>\n",
    "\n",
    "If <b>objectives_globiom = ' '</b>, no GLOBIOM demand objectives are considered."
   ]
  },
  {
   "cell_type": "code",
   "execution_count": 4,
   "metadata": {},
   "outputs": [],
   "source": [
    "objectives_globiom = 'globiom_1p5_RCP0'  "
   ]
  },
  {
   "cell_type": "markdown",
   "metadata": {},
   "source": [
    "## Read .py class"
   ]
  },
  {
   "cell_type": "code",
   "execution_count": 5,
   "metadata": {},
   "outputs": [],
   "source": [
    "import wget\n",
    "import os\n",
    "import pandas as pd\n",
    "import numpy as np\n",
    "import sys"
   ]
  },
  {
   "cell_type": "code",
   "execution_count": 6,
   "metadata": {},
   "outputs": [],
   "source": [
    "module_path = os.path.abspath(os.path.join('..'))\n",
    "if module_path not in sys.path:\n",
    "    sys.path.append(module_path+\"/py_class\")\n",
    "\n",
    "import multiFunctionalOptimization as MFO"
   ]
  },
  {
   "cell_type": "code",
   "execution_count": 7,
   "metadata": {},
   "outputs": [
    {
     "data": {
      "text/plain": [
       "<module 'multiFunctionalOptimization' from '/home/ubuntu/workspace/mf_optimization_demo/py_class/multiFunctionalOptimization.py'>"
      ]
     },
     "execution_count": 7,
     "metadata": {},
     "output_type": "execute_result"
    }
   ],
   "source": [
    "from importlib import reload\n",
    "reload(MFO)"
   ]
  },
  {
   "cell_type": "code",
   "execution_count": 8,
   "metadata": {},
   "outputs": [
    {
     "data": {
      "text/plain": [
       "'Using CPLEX'"
      ]
     },
     "metadata": {},
     "output_type": "display_data"
    }
   ],
   "source": [
    "mfo = MFO.MultiFunctionalOptimization(solver='CPLEX')"
   ]
  },
  {
   "cell_type": "markdown",
   "metadata": {},
   "source": [
    "## Read data"
   ]
  },
  {
   "cell_type": "code",
   "execution_count": 9,
   "metadata": {},
   "outputs": [
    {
     "name": "stdout",
     "output_type": "stream",
     "text": [
      "CPU times: user 1.89 s, sys: 1.87 s, total: 3.76 s\n",
      "Wall time: 3.76 s\n"
     ]
    }
   ],
   "source": [
    "%%time\n",
    "mfo.readData(filename,\n",
    "             # If no sample ratio given, the ratio is assumed to be 1\n",
    "             sampleRatio = sample ,\n",
    "             # Sample equally in all regions. \n",
    "             # Give the name of the column along the sampling should be equal (here region).             \n",
    "             samplingSubsets = \"region\"\n",
    "            )"
   ]
  },
  {
   "cell_type": "markdown",
   "metadata": {},
   "source": [
    "## Create some new variables in the data"
   ]
  },
  {
   "cell_type": "markdown",
   "metadata": {},
   "source": [
    "Calculate total (per stand) values from relative values"
   ]
  },
  {
   "cell_type": "markdown",
   "metadata": {},
   "source": [
    "Calculate total (per stand) values from relative values:\n",
    "* \"Relative to Area\" = simulated indicator value relate to one hectar -> scaled to represented area of NFI plot <br>\n",
    "* (\"Relative to volume\" = indicator relates to standing Volume -> scaled to the represented volume of the plot) <br>\n",
    "* (\"Absolute Value\" = takes the inticator value as it is)"
   ]
  },
  {
   "cell_type": "code",
   "execution_count": 10,
   "metadata": {},
   "outputs": [],
   "source": [
    "columnTypes = {\n",
    "    'i_Vm3':(float,\"Relative to Area\"),\n",
    "    'Harvested_V':(float,\"Relative to Area\"),\n",
    "    'Harvested_V_log_under_bark':(float,\"Relative to Area\"), \n",
    "    'Harvested_V_pulp_under_bark':(float,\"Relative to Area\"),\n",
    "    'Harvested_V_under_bark':(float,\"Relative to Area\"), \n",
    "    'Biomass':(float,\"Relative to Area\"),\n",
    "    'ALL_MARKETED_MUSHROOMS':(float,\"Relative to Area\"), \n",
    "    'BILBERRY':(float,\"Relative to Area\"), \n",
    "    'COWBERRY':(float,\"Relative to Area\"),\n",
    "    'HSI_MOOSE':(float,\"Relative to Area\"),\n",
    "    'CAPERCAILLIE':(float,\"Relative to Area\"), \n",
    "    'HAZEL_GROUSE':(float,\"Relative to Area\"), \n",
    "    'V_total_deadwood':(float,\"Relative to Area\"), \n",
    "    'N_where_D_gt_40':(float,\"Relative to Area\"),\n",
    "    'prc_V_deciduous':(float,\"Relative to Area\"),\n",
    "    'CARBON_SINK':(float,\"Relative to Area\"), \n",
    "    'Recreation':(float,\"Relative to Area\"),\n",
    "    'Scenic':(float,\"Relative to Area\")\n",
    "}"
   ]
  },
  {
   "cell_type": "code",
   "execution_count": 11,
   "metadata": {},
   "outputs": [],
   "source": [
    "mfo.calculateTotalValuesFromRelativeValues(columnTypes=columnTypes)"
   ]
  },
  {
   "cell_type": "markdown",
   "metadata": {},
   "source": [
    "List the new created columns: <br>\n",
    "* Total_... hectare value multiplied by represented area (or volume)"
   ]
  },
  {
   "cell_type": "code",
   "execution_count": 12,
   "metadata": {},
   "outputs": [
    {
     "data": {
      "text/plain": [
       "['Total_i_Vm3',\n",
       " 'Total_Harvested_V',\n",
       " 'Total_Harvested_V_log_under_bark',\n",
       " 'Total_Harvested_V_pulp_under_bark',\n",
       " 'Total_Harvested_V_under_bark',\n",
       " 'Total_Biomass',\n",
       " 'Total_ALL_MARKETED_MUSHROOMS',\n",
       " 'Total_BILBERRY',\n",
       " 'Total_COWBERRY',\n",
       " 'Total_HSI_MOOSE',\n",
       " 'Total_CAPERCAILLIE',\n",
       " 'Total_HAZEL_GROUSE',\n",
       " 'Total_V_total_deadwood',\n",
       " 'Total_N_where_D_gt_40',\n",
       " 'Total_prc_V_deciduous',\n",
       " 'Total_CARBON_SINK',\n",
       " 'Total_Recreation',\n",
       " 'Total_Scenic']"
      ]
     },
     "execution_count": 12,
     "metadata": {},
     "output_type": "execute_result"
    }
   ],
   "source": [
    "[name for name in mfo.data.columns if \"Total_\" in name and \"Relative\" not in name]"
   ]
  },
  {
   "cell_type": "markdown",
   "metadata": {},
   "source": [
    "## Create new column:\n",
    "1) Column indicating if regime is \"CCF_3, CCF_4, BAUwGTR\" (TRUE/FLASE) <br>\n",
    "Important for ES Biodiversity, allowed regimes for conservation sites."
   ]
  },
  {
   "cell_type": "markdown",
   "metadata": {},
   "source": [
    "2) Column indicating if regime is \"SA\" (TRUE/FALSE)<br>\n",
    "Important for ES Biodiversity, allowed regimes for statutory protection sites."
   ]
  },
  {
   "cell_type": "markdown",
   "metadata": {},
   "source": [
    "3) Column indicating if regime is \"BAUwT_B, BAUwT_5_B, BAUwT_15_B, BAUwT_30_B, BAUwT_GTR_B\" <br>\n",
    "Important for ES Resillience, allowed regimes for climate change adaption."
   ]
  },
  {
   "cell_type": "markdown",
   "metadata": {},
   "source": [
    "4) Column indicating if regime is within all four CCF<br>\n",
    "Important for ES Water under GLOBIOM V2 (enabled constraint -> soft target)."
   ]
  },
  {
   "cell_type": "code",
   "execution_count": 13,
   "metadata": {},
   "outputs": [],
   "source": [
    "regimeClassNames = {\"regimeClass0name\":\"CCF\",\n",
    "                    \"regimeClass1name\":\"SA\",\n",
    "                    \"regimeClass2name\":\"Broadleave\",\n",
    "                    \"regimeClass3name\":\"AllCCF\"}\n",
    "regimeClassregimes = {\"regimeClass0regimes\":[\"CCF_3\",\"CCF_4\",\"BAUwGTR\"],\n",
    "                      \"regimeClass1regimes\":[\"SA\"],\n",
    "                      \"regimeClass2regimes\":[\"BAUwT_B\", \"BAUwT_5_B\", \"BAUwT_15_B\", \"BAUwT_30_B\", \"BAUwT_GTR_B\"],\n",
    "                      \"regimeClass3regimes\":[\"CCF_1\",\"CCF_2\",\"CCF_3\",\"CCF_4\"]}"
   ]
  },
  {
   "cell_type": "code",
   "execution_count": 14,
   "metadata": {},
   "outputs": [],
   "source": [
    "mfo.addRegimeClassifications(regimeClassNames = regimeClassNames,regimeClassregimes=regimeClassregimes)"
   ]
  },
  {
   "cell_type": "markdown",
   "metadata": {},
   "source": [
    "## New column for \"soft target\" of only CCF on peat (ES Water)"
   ]
  },
  {
   "cell_type": "markdown",
   "metadata": {},
   "source": [
    "Implemented for Top-down: alternative to the enabled constraint \"only CCF on peat\", allows to explore changes when prioritizing GLOBIOM demands. "
   ]
  },
  {
   "cell_type": "code",
   "execution_count": 15,
   "metadata": {},
   "outputs": [],
   "source": [
    "# Column indicating if CCF and SA are on peat land - allowed regimes for water protection\n",
    "mfo.data['CCFonPeat'] = np.where( \n",
    "    ( (mfo.data['AllCCF_forests'] == True ) & (mfo.data['PEAT'] == 1 ) ) | \n",
    "    ( (mfo.data['SA_forests'] == True) & (mfo.data['PEAT'] == 1 ) )\n",
    "    , 1, 0\n",
    ")"
   ]
  },
  {
   "cell_type": "code",
   "execution_count": 16,
   "metadata": {},
   "outputs": [
    {
     "data": {
      "text/plain": [
       "244552.0"
      ]
     },
     "execution_count": 16,
     "metadata": {},
     "output_type": "execute_result"
    }
   ],
   "source": [
    "# Create subsample to get the total peat area\n",
    "peat = mfo.data[[\"id\",\"represented_area_by_NFIplot\",\"PEAT\"]]\n",
    "peat = peat[(peat[\"PEAT\"] == 1)]\n",
    "peat = peat.drop_duplicates(['id'])\n",
    "totalPeat = peat[\"represented_area_by_NFIplot\"].sum() / sample # divide by the sample ratio !!\n",
    "totalPeat"
   ]
  },
  {
   "cell_type": "code",
   "execution_count": 17,
   "metadata": {},
   "outputs": [
    {
     "data": {
      "text/plain": [
       "308"
      ]
     },
     "execution_count": 17,
     "metadata": {},
     "output_type": "execute_result"
    }
   ],
   "source": [
    "len(peat)"
   ]
  },
  {
   "cell_type": "code",
   "execution_count": 18,
   "metadata": {},
   "outputs": [],
   "source": [
    "# Column defining a peat stand´s area in relation to total peat area (USED for OPTIMIZATION)\n",
    "mfo.data['peatCCFArea'] = np.where(\n",
    "    (mfo.data['CCFonPeat'] == 1 ), mfo.data['represented_area_by_NFIplot'] / totalPeat, 0\n",
    ")"
   ]
  },
  {
   "cell_type": "markdown",
   "metadata": {},
   "source": [
    "## Define initial value:\n",
    "1) Define initial values; initial state is recognized by the regime \"initial_state\"\n",
    "\n",
    "2) Create new variables that describe the <b>relative change to initial situation (start year) \"Relative_\"</b>:"
   ]
  },
  {
   "cell_type": "code",
   "execution_count": 19,
   "metadata": {},
   "outputs": [],
   "source": [
    "mfo.finalizeData(initialRegime=\"initial_state\")"
   ]
  },
  {
   "cell_type": "markdown",
   "metadata": {},
   "source": [
    "New variables created:"
   ]
  },
  {
   "cell_type": "code",
   "execution_count": 20,
   "metadata": {},
   "outputs": [
    {
     "data": {
      "text/plain": [
       "['Relative_V',\n",
       " 'Relative_Age',\n",
       " 'Relative_AGE_ba',\n",
       " 'Relative_ALL_MARKETED_MUSHROOMS',\n",
       " 'Relative_BILBERRY',\n",
       " 'Relative_COWBERRY',\n",
       " 'Relative_HSI_MOOSE',\n",
       " 'Relative_CAPERCAILLIE',\n",
       " 'Relative_HAZEL_GROUSE',\n",
       " 'Relative_V_total_deadwood',\n",
       " 'Relative_N_where_D_gt_40',\n",
       " 'Relative_prc_V_deciduous',\n",
       " 'Relative_CARBON_STORAGE_Update',\n",
       " 'Relative_Recreation',\n",
       " 'Relative_Scenic',\n",
       " 'Relative_Total_ALL_MARKETED_MUSHROOMS',\n",
       " 'Relative_Total_BILBERRY',\n",
       " 'Relative_Total_COWBERRY',\n",
       " 'Relative_Total_HSI_MOOSE',\n",
       " 'Relative_Total_CAPERCAILLIE',\n",
       " 'Relative_Total_HAZEL_GROUSE',\n",
       " 'Relative_Total_V_total_deadwood',\n",
       " 'Relative_Total_N_where_D_gt_40',\n",
       " 'Relative_Total_prc_V_deciduous',\n",
       " 'Relative_Total_Recreation',\n",
       " 'Relative_Total_Scenic']"
      ]
     },
     "execution_count": 20,
     "metadata": {},
     "output_type": "execute_result"
    }
   ],
   "source": [
    "[name for name in mfo.data.columns if \"Relative_\" in name]"
   ]
  },
  {
   "cell_type": "code",
   "execution_count": 21,
   "metadata": {},
   "outputs": [
    {
     "data": {
      "text/html": [
       "<div>\n",
       "<style scoped>\n",
       "    .dataframe tbody tr th:only-of-type {\n",
       "        vertical-align: middle;\n",
       "    }\n",
       "\n",
       "    .dataframe tbody tr th {\n",
       "        vertical-align: top;\n",
       "    }\n",
       "\n",
       "    .dataframe thead th {\n",
       "        text-align: right;\n",
       "    }\n",
       "</style>\n",
       "<table border=\"1\" class=\"dataframe\">\n",
       "  <thead>\n",
       "    <tr style=\"text-align: right;\">\n",
       "      <th></th>\n",
       "      <th></th>\n",
       "      <th></th>\n",
       "      <th>V</th>\n",
       "      <th>i_Vm3</th>\n",
       "      <th>Harvested_V</th>\n",
       "      <th>Harvested_V_log_under_bark</th>\n",
       "      <th>Harvested_V_pulp_under_bark</th>\n",
       "      <th>Harvested_V_under_bark</th>\n",
       "      <th>MAIN_SP</th>\n",
       "      <th>Age</th>\n",
       "      <th>AGE_ba</th>\n",
       "      <th>SC</th>\n",
       "      <th>...</th>\n",
       "      <th>Relative_Total_BILBERRY</th>\n",
       "      <th>Relative_Total_COWBERRY</th>\n",
       "      <th>Relative_Total_HSI_MOOSE</th>\n",
       "      <th>Relative_Total_CAPERCAILLIE</th>\n",
       "      <th>Relative_Total_HAZEL_GROUSE</th>\n",
       "      <th>Relative_Total_V_total_deadwood</th>\n",
       "      <th>Relative_Total_N_where_D_gt_40</th>\n",
       "      <th>Relative_Total_prc_V_deciduous</th>\n",
       "      <th>Relative_Total_Recreation</th>\n",
       "      <th>Relative_Total_Scenic</th>\n",
       "    </tr>\n",
       "    <tr>\n",
       "      <th>id</th>\n",
       "      <th>year</th>\n",
       "      <th>regime</th>\n",
       "      <th></th>\n",
       "      <th></th>\n",
       "      <th></th>\n",
       "      <th></th>\n",
       "      <th></th>\n",
       "      <th></th>\n",
       "      <th></th>\n",
       "      <th></th>\n",
       "      <th></th>\n",
       "      <th></th>\n",
       "      <th></th>\n",
       "      <th></th>\n",
       "      <th></th>\n",
       "      <th></th>\n",
       "      <th></th>\n",
       "      <th></th>\n",
       "      <th></th>\n",
       "      <th></th>\n",
       "      <th></th>\n",
       "      <th></th>\n",
       "      <th></th>\n",
       "    </tr>\n",
       "  </thead>\n",
       "  <tbody>\n",
       "    <tr>\n",
       "      <th rowspan=\"5\" valign=\"top\">99011014</th>\n",
       "      <th>2021</th>\n",
       "      <th>SA</th>\n",
       "      <td>409.58</td>\n",
       "      <td>7.20</td>\n",
       "      <td>0.0</td>\n",
       "      <td>0.0</td>\n",
       "      <td>0.0</td>\n",
       "      <td>0.0</td>\n",
       "      <td>2</td>\n",
       "      <td>84.0</td>\n",
       "      <td>83.53</td>\n",
       "      <td>1</td>\n",
       "      <td>...</td>\n",
       "      <td>0.0</td>\n",
       "      <td>0.000339</td>\n",
       "      <td>0.0</td>\n",
       "      <td>0.0</td>\n",
       "      <td>0.000147</td>\n",
       "      <td>0.002044</td>\n",
       "      <td>0.0</td>\n",
       "      <td>0.000082</td>\n",
       "      <td>0.000689</td>\n",
       "      <td>0.000711</td>\n",
       "    </tr>\n",
       "    <tr>\n",
       "      <th>2026</th>\n",
       "      <th>SA</th>\n",
       "      <td>445.49</td>\n",
       "      <td>7.29</td>\n",
       "      <td>0.0</td>\n",
       "      <td>0.0</td>\n",
       "      <td>0.0</td>\n",
       "      <td>0.0</td>\n",
       "      <td>2</td>\n",
       "      <td>89.0</td>\n",
       "      <td>88.57</td>\n",
       "      <td>1</td>\n",
       "      <td>...</td>\n",
       "      <td>0.0</td>\n",
       "      <td>0.000329</td>\n",
       "      <td>0.0</td>\n",
       "      <td>0.0</td>\n",
       "      <td>0.000088</td>\n",
       "      <td>0.003213</td>\n",
       "      <td>0.0</td>\n",
       "      <td>0.000082</td>\n",
       "      <td>0.000696</td>\n",
       "      <td>0.000729</td>\n",
       "    </tr>\n",
       "    <tr>\n",
       "      <th>2031</th>\n",
       "      <th>SA</th>\n",
       "      <td>480.72</td>\n",
       "      <td>7.17</td>\n",
       "      <td>0.0</td>\n",
       "      <td>0.0</td>\n",
       "      <td>0.0</td>\n",
       "      <td>0.0</td>\n",
       "      <td>2</td>\n",
       "      <td>94.0</td>\n",
       "      <td>93.60</td>\n",
       "      <td>1</td>\n",
       "      <td>...</td>\n",
       "      <td>0.0</td>\n",
       "      <td>0.000320</td>\n",
       "      <td>0.0</td>\n",
       "      <td>0.0</td>\n",
       "      <td>0.000029</td>\n",
       "      <td>0.004253</td>\n",
       "      <td>0.0</td>\n",
       "      <td>0.000082</td>\n",
       "      <td>0.000703</td>\n",
       "      <td>0.000747</td>\n",
       "    </tr>\n",
       "    <tr>\n",
       "      <th>2036</th>\n",
       "      <th>SA</th>\n",
       "      <td>503.77</td>\n",
       "      <td>4.75</td>\n",
       "      <td>0.0</td>\n",
       "      <td>0.0</td>\n",
       "      <td>0.0</td>\n",
       "      <td>0.0</td>\n",
       "      <td>2</td>\n",
       "      <td>99.0</td>\n",
       "      <td>98.62</td>\n",
       "      <td>1</td>\n",
       "      <td>...</td>\n",
       "      <td>0.0</td>\n",
       "      <td>0.000314</td>\n",
       "      <td>0.0</td>\n",
       "      <td>0.0</td>\n",
       "      <td>0.000000</td>\n",
       "      <td>0.004918</td>\n",
       "      <td>0.0</td>\n",
       "      <td>0.000082</td>\n",
       "      <td>0.000707</td>\n",
       "      <td>0.000765</td>\n",
       "    </tr>\n",
       "    <tr>\n",
       "      <th>2041</th>\n",
       "      <th>SA</th>\n",
       "      <td>518.69</td>\n",
       "      <td>3.13</td>\n",
       "      <td>0.0</td>\n",
       "      <td>0.0</td>\n",
       "      <td>0.0</td>\n",
       "      <td>0.0</td>\n",
       "      <td>2</td>\n",
       "      <td>104.0</td>\n",
       "      <td>103.63</td>\n",
       "      <td>1</td>\n",
       "      <td>...</td>\n",
       "      <td>0.0</td>\n",
       "      <td>0.000311</td>\n",
       "      <td>0.0</td>\n",
       "      <td>0.0</td>\n",
       "      <td>0.000000</td>\n",
       "      <td>0.005344</td>\n",
       "      <td>0.0</td>\n",
       "      <td>0.000055</td>\n",
       "      <td>0.000710</td>\n",
       "      <td>0.000783</td>\n",
       "    </tr>\n",
       "  </tbody>\n",
       "</table>\n",
       "<p>5 rows × 81 columns</p>\n",
       "</div>"
      ],
      "text/plain": [
       "                           V  i_Vm3  Harvested_V  Harvested_V_log_under_bark  \\\n",
       "id       year regime                                                           \n",
       "99011014 2021 SA      409.58   7.20          0.0                         0.0   \n",
       "         2026 SA      445.49   7.29          0.0                         0.0   \n",
       "         2031 SA      480.72   7.17          0.0                         0.0   \n",
       "         2036 SA      503.77   4.75          0.0                         0.0   \n",
       "         2041 SA      518.69   3.13          0.0                         0.0   \n",
       "\n",
       "                      Harvested_V_pulp_under_bark  Harvested_V_under_bark  \\\n",
       "id       year regime                                                        \n",
       "99011014 2021 SA                              0.0                     0.0   \n",
       "         2026 SA                              0.0                     0.0   \n",
       "         2031 SA                              0.0                     0.0   \n",
       "         2036 SA                              0.0                     0.0   \n",
       "         2041 SA                              0.0                     0.0   \n",
       "\n",
       "                      MAIN_SP    Age  AGE_ba  SC  ...  \\\n",
       "id       year regime                              ...   \n",
       "99011014 2021 SA            2   84.0   83.53   1  ...   \n",
       "         2026 SA            2   89.0   88.57   1  ...   \n",
       "         2031 SA            2   94.0   93.60   1  ...   \n",
       "         2036 SA            2   99.0   98.62   1  ...   \n",
       "         2041 SA            2  104.0  103.63   1  ...   \n",
       "\n",
       "                      Relative_Total_BILBERRY  Relative_Total_COWBERRY  \\\n",
       "id       year regime                                                     \n",
       "99011014 2021 SA                          0.0                 0.000339   \n",
       "         2026 SA                          0.0                 0.000329   \n",
       "         2031 SA                          0.0                 0.000320   \n",
       "         2036 SA                          0.0                 0.000314   \n",
       "         2041 SA                          0.0                 0.000311   \n",
       "\n",
       "                      Relative_Total_HSI_MOOSE  Relative_Total_CAPERCAILLIE  \\\n",
       "id       year regime                                                          \n",
       "99011014 2021 SA                           0.0                          0.0   \n",
       "         2026 SA                           0.0                          0.0   \n",
       "         2031 SA                           0.0                          0.0   \n",
       "         2036 SA                           0.0                          0.0   \n",
       "         2041 SA                           0.0                          0.0   \n",
       "\n",
       "                      Relative_Total_HAZEL_GROUSE  \\\n",
       "id       year regime                                \n",
       "99011014 2021 SA                         0.000147   \n",
       "         2026 SA                         0.000088   \n",
       "         2031 SA                         0.000029   \n",
       "         2036 SA                         0.000000   \n",
       "         2041 SA                         0.000000   \n",
       "\n",
       "                      Relative_Total_V_total_deadwood  \\\n",
       "id       year regime                                    \n",
       "99011014 2021 SA                             0.002044   \n",
       "         2026 SA                             0.003213   \n",
       "         2031 SA                             0.004253   \n",
       "         2036 SA                             0.004918   \n",
       "         2041 SA                             0.005344   \n",
       "\n",
       "                      Relative_Total_N_where_D_gt_40  \\\n",
       "id       year regime                                   \n",
       "99011014 2021 SA                                 0.0   \n",
       "         2026 SA                                 0.0   \n",
       "         2031 SA                                 0.0   \n",
       "         2036 SA                                 0.0   \n",
       "         2041 SA                                 0.0   \n",
       "\n",
       "                      Relative_Total_prc_V_deciduous  \\\n",
       "id       year regime                                   \n",
       "99011014 2021 SA                            0.000082   \n",
       "         2026 SA                            0.000082   \n",
       "         2031 SA                            0.000082   \n",
       "         2036 SA                            0.000082   \n",
       "         2041 SA                            0.000055   \n",
       "\n",
       "                      Relative_Total_Recreation  Relative_Total_Scenic  \n",
       "id       year regime                                                    \n",
       "99011014 2021 SA                       0.000689               0.000711  \n",
       "         2026 SA                       0.000696               0.000729  \n",
       "         2031 SA                       0.000703               0.000747  \n",
       "         2036 SA                       0.000707               0.000765  \n",
       "         2041 SA                       0.000710               0.000783  \n",
       "\n",
       "[5 rows x 81 columns]"
      ]
     },
     "execution_count": 21,
     "metadata": {},
     "output_type": "execute_result"
    }
   ],
   "source": [
    "mfo.data.head()"
   ]
  },
  {
   "cell_type": "code",
   "execution_count": 22,
   "metadata": {},
   "outputs": [
    {
     "data": {
      "text/html": [
       "<div>\n",
       "<style scoped>\n",
       "    .dataframe tbody tr th:only-of-type {\n",
       "        vertical-align: middle;\n",
       "    }\n",
       "\n",
       "    .dataframe tbody tr th {\n",
       "        vertical-align: top;\n",
       "    }\n",
       "\n",
       "    .dataframe thead th {\n",
       "        text-align: right;\n",
       "    }\n",
       "</style>\n",
       "<table border=\"1\" class=\"dataframe\">\n",
       "  <thead>\n",
       "    <tr style=\"text-align: right;\">\n",
       "      <th></th>\n",
       "      <th></th>\n",
       "      <th></th>\n",
       "      <th>V</th>\n",
       "      <th>i_Vm3</th>\n",
       "      <th>Harvested_V</th>\n",
       "      <th>Harvested_V_log_under_bark</th>\n",
       "      <th>Harvested_V_pulp_under_bark</th>\n",
       "      <th>Harvested_V_under_bark</th>\n",
       "      <th>MAIN_SP</th>\n",
       "      <th>Age</th>\n",
       "      <th>AGE_ba</th>\n",
       "      <th>SC</th>\n",
       "      <th>...</th>\n",
       "      <th>Total_prc_V_deciduous</th>\n",
       "      <th>Total_CARBON_SINK</th>\n",
       "      <th>Total_Recreation</th>\n",
       "      <th>Total_Scenic</th>\n",
       "      <th>CCF_forests</th>\n",
       "      <th>SA_forests</th>\n",
       "      <th>Broadleave_forests</th>\n",
       "      <th>AllCCF_forests</th>\n",
       "      <th>CCFonPeat</th>\n",
       "      <th>peatCCFArea</th>\n",
       "    </tr>\n",
       "    <tr>\n",
       "      <th>id</th>\n",
       "      <th>year</th>\n",
       "      <th>regime</th>\n",
       "      <th></th>\n",
       "      <th></th>\n",
       "      <th></th>\n",
       "      <th></th>\n",
       "      <th></th>\n",
       "      <th></th>\n",
       "      <th></th>\n",
       "      <th></th>\n",
       "      <th></th>\n",
       "      <th></th>\n",
       "      <th></th>\n",
       "      <th></th>\n",
       "      <th></th>\n",
       "      <th></th>\n",
       "      <th></th>\n",
       "      <th></th>\n",
       "      <th></th>\n",
       "      <th></th>\n",
       "      <th></th>\n",
       "      <th></th>\n",
       "      <th></th>\n",
       "    </tr>\n",
       "  </thead>\n",
       "  <tbody>\n",
       "    <tr>\n",
       "      <th>99011014</th>\n",
       "      <th>2016</th>\n",
       "      <th>initial_state</th>\n",
       "      <td>374.02</td>\n",
       "      <td>0.0</td>\n",
       "      <td>0.0</td>\n",
       "      <td>0.0</td>\n",
       "      <td>0.0</td>\n",
       "      <td>0.0</td>\n",
       "      <td>2</td>\n",
       "      <td>80.0</td>\n",
       "      <td>79.48</td>\n",
       "      <td>1</td>\n",
       "      <td>...</td>\n",
       "      <td>1191.0</td>\n",
       "      <td>0.0</td>\n",
       "      <td>2503.879</td>\n",
       "      <td>2317.289</td>\n",
       "      <td>False</td>\n",
       "      <td>False</td>\n",
       "      <td>False</td>\n",
       "      <td>False</td>\n",
       "      <td>0</td>\n",
       "      <td>0.0</td>\n",
       "    </tr>\n",
       "    <tr>\n",
       "      <th>99011016</th>\n",
       "      <th>2016</th>\n",
       "      <th>initial_state</th>\n",
       "      <td>141.85</td>\n",
       "      <td>0.0</td>\n",
       "      <td>0.0</td>\n",
       "      <td>0.0</td>\n",
       "      <td>0.0</td>\n",
       "      <td>0.0</td>\n",
       "      <td>1</td>\n",
       "      <td>89.0</td>\n",
       "      <td>71.71</td>\n",
       "      <td>4</td>\n",
       "      <td>...</td>\n",
       "      <td>5161.0</td>\n",
       "      <td>0.0</td>\n",
       "      <td>2374.854</td>\n",
       "      <td>2432.816</td>\n",
       "      <td>False</td>\n",
       "      <td>False</td>\n",
       "      <td>False</td>\n",
       "      <td>False</td>\n",
       "      <td>0</td>\n",
       "      <td>0.0</td>\n",
       "    </tr>\n",
       "    <tr>\n",
       "      <th>99011019</th>\n",
       "      <th>2016</th>\n",
       "      <th>initial_state</th>\n",
       "      <td>142.53</td>\n",
       "      <td>0.0</td>\n",
       "      <td>0.0</td>\n",
       "      <td>0.0</td>\n",
       "      <td>0.0</td>\n",
       "      <td>0.0</td>\n",
       "      <td>1</td>\n",
       "      <td>60.0</td>\n",
       "      <td>57.78</td>\n",
       "      <td>4</td>\n",
       "      <td>...</td>\n",
       "      <td>0.0</td>\n",
       "      <td>0.0</td>\n",
       "      <td>2239.477</td>\n",
       "      <td>2069.561</td>\n",
       "      <td>False</td>\n",
       "      <td>False</td>\n",
       "      <td>False</td>\n",
       "      <td>False</td>\n",
       "      <td>0</td>\n",
       "      <td>0.0</td>\n",
       "    </tr>\n",
       "    <tr>\n",
       "      <th>99011020</th>\n",
       "      <th>2016</th>\n",
       "      <th>initial_state</th>\n",
       "      <td>238.93</td>\n",
       "      <td>0.0</td>\n",
       "      <td>0.0</td>\n",
       "      <td>0.0</td>\n",
       "      <td>0.0</td>\n",
       "      <td>0.0</td>\n",
       "      <td>1</td>\n",
       "      <td>85.0</td>\n",
       "      <td>74.00</td>\n",
       "      <td>4</td>\n",
       "      <td>...</td>\n",
       "      <td>1588.0</td>\n",
       "      <td>0.0</td>\n",
       "      <td>2317.289</td>\n",
       "      <td>2360.165</td>\n",
       "      <td>False</td>\n",
       "      <td>False</td>\n",
       "      <td>False</td>\n",
       "      <td>False</td>\n",
       "      <td>0</td>\n",
       "      <td>0.0</td>\n",
       "    </tr>\n",
       "    <tr>\n",
       "      <th>99011021</th>\n",
       "      <th>2016</th>\n",
       "      <th>initial_state</th>\n",
       "      <td>289.15</td>\n",
       "      <td>0.0</td>\n",
       "      <td>0.0</td>\n",
       "      <td>0.0</td>\n",
       "      <td>0.0</td>\n",
       "      <td>0.0</td>\n",
       "      <td>1</td>\n",
       "      <td>89.0</td>\n",
       "      <td>79.30</td>\n",
       "      <td>4</td>\n",
       "      <td>...</td>\n",
       "      <td>0.0</td>\n",
       "      <td>0.0</td>\n",
       "      <td>2408.202</td>\n",
       "      <td>2418.921</td>\n",
       "      <td>False</td>\n",
       "      <td>False</td>\n",
       "      <td>False</td>\n",
       "      <td>False</td>\n",
       "      <td>0</td>\n",
       "      <td>0.0</td>\n",
       "    </tr>\n",
       "  </tbody>\n",
       "</table>\n",
       "<p>5 rows × 55 columns</p>\n",
       "</div>"
      ],
      "text/plain": [
       "                                  V  i_Vm3  Harvested_V  \\\n",
       "id       year regime                                      \n",
       "99011014 2016 initial_state  374.02    0.0          0.0   \n",
       "99011016 2016 initial_state  141.85    0.0          0.0   \n",
       "99011019 2016 initial_state  142.53    0.0          0.0   \n",
       "99011020 2016 initial_state  238.93    0.0          0.0   \n",
       "99011021 2016 initial_state  289.15    0.0          0.0   \n",
       "\n",
       "                             Harvested_V_log_under_bark  \\\n",
       "id       year regime                                      \n",
       "99011014 2016 initial_state                         0.0   \n",
       "99011016 2016 initial_state                         0.0   \n",
       "99011019 2016 initial_state                         0.0   \n",
       "99011020 2016 initial_state                         0.0   \n",
       "99011021 2016 initial_state                         0.0   \n",
       "\n",
       "                             Harvested_V_pulp_under_bark  \\\n",
       "id       year regime                                       \n",
       "99011014 2016 initial_state                          0.0   \n",
       "99011016 2016 initial_state                          0.0   \n",
       "99011019 2016 initial_state                          0.0   \n",
       "99011020 2016 initial_state                          0.0   \n",
       "99011021 2016 initial_state                          0.0   \n",
       "\n",
       "                             Harvested_V_under_bark  MAIN_SP   Age  AGE_ba  \\\n",
       "id       year regime                                                         \n",
       "99011014 2016 initial_state                     0.0        2  80.0   79.48   \n",
       "99011016 2016 initial_state                     0.0        1  89.0   71.71   \n",
       "99011019 2016 initial_state                     0.0        1  60.0   57.78   \n",
       "99011020 2016 initial_state                     0.0        1  85.0   74.00   \n",
       "99011021 2016 initial_state                     0.0        1  89.0   79.30   \n",
       "\n",
       "                             SC  ...  Total_prc_V_deciduous  \\\n",
       "id       year regime             ...                          \n",
       "99011014 2016 initial_state   1  ...                 1191.0   \n",
       "99011016 2016 initial_state   4  ...                 5161.0   \n",
       "99011019 2016 initial_state   4  ...                    0.0   \n",
       "99011020 2016 initial_state   4  ...                 1588.0   \n",
       "99011021 2016 initial_state   4  ...                    0.0   \n",
       "\n",
       "                             Total_CARBON_SINK  Total_Recreation  \\\n",
       "id       year regime                                               \n",
       "99011014 2016 initial_state                0.0          2503.879   \n",
       "99011016 2016 initial_state                0.0          2374.854   \n",
       "99011019 2016 initial_state                0.0          2239.477   \n",
       "99011020 2016 initial_state                0.0          2317.289   \n",
       "99011021 2016 initial_state                0.0          2408.202   \n",
       "\n",
       "                             Total_Scenic  CCF_forests  SA_forests  \\\n",
       "id       year regime                                                 \n",
       "99011014 2016 initial_state      2317.289        False       False   \n",
       "99011016 2016 initial_state      2432.816        False       False   \n",
       "99011019 2016 initial_state      2069.561        False       False   \n",
       "99011020 2016 initial_state      2360.165        False       False   \n",
       "99011021 2016 initial_state      2418.921        False       False   \n",
       "\n",
       "                             Broadleave_forests  AllCCF_forests  CCFonPeat  \\\n",
       "id       year regime                                                         \n",
       "99011014 2016 initial_state               False           False          0   \n",
       "99011016 2016 initial_state               False           False          0   \n",
       "99011019 2016 initial_state               False           False          0   \n",
       "99011020 2016 initial_state               False           False          0   \n",
       "99011021 2016 initial_state               False           False          0   \n",
       "\n",
       "                             peatCCFArea  \n",
       "id       year regime                      \n",
       "99011014 2016 initial_state          0.0  \n",
       "99011016 2016 initial_state          0.0  \n",
       "99011019 2016 initial_state          0.0  \n",
       "99011020 2016 initial_state          0.0  \n",
       "99011021 2016 initial_state          0.0  \n",
       "\n",
       "[5 rows x 55 columns]"
      ]
     },
     "execution_count": 22,
     "metadata": {},
     "output_type": "execute_result"
    }
   ],
   "source": [
    "mfo.initialData.head()"
   ]
  },
  {
   "cell_type": "markdown",
   "metadata": {},
   "source": [
    "## GLOBIOM - Bottom-up\n",
    "\n",
    "Read the targeted timber demands."
   ]
  },
  {
   "cell_type": "code",
   "execution_count": 23,
   "metadata": {},
   "outputs": [
    {
     "name": "stdout",
     "output_type": "stream",
     "text": [
      "used 1p5\n"
     ]
    }
   ],
   "source": [
    "# -----------\n",
    "# 1.5 degree scenario; matches with RCP0 (no CC)\n",
    "# -----------\n",
    "if objectives_globiom == 'globiom_1p5_RCP0':\n",
    "    \n",
    "    demands = pd.read_csv('FIN_globiom1p5_all.csv') \n",
    "\n",
    "    print(\"used 1p5\")\n",
    "    \n",
    "    \n",
    "# ----------- \n",
    "# NDC scenario, matches with RCP 4.5\n",
    "# -----------\n",
    "elif objectives_globiom == 'globiom_NDC_RCP45':\n",
    "    \n",
    "    demands = pd.read_csv('FIN_globiomNDC_all.csv') \n",
    "\n",
    "    print(\"used NDC\") \n"
   ]
  },
  {
   "cell_type": "markdown",
   "metadata": {},
   "source": [
    "<b>For the Central Finland test data, national values are simply divided by 19 (number provinces in Finland).</b>"
   ]
  },
  {
   "cell_type": "code",
   "execution_count": 24,
   "metadata": {},
   "outputs": [
    {
     "name": "stdout",
     "output_type": "stream",
     "text": [
      "GLOBIOM Bottom-up loaded\n"
     ]
    }
   ],
   "source": [
    "if objectives_globiom == 'globiom_1p5_RCP0' or objectives_globiom =='globiom_NDC_RCP45' :\n",
    "    \n",
    "    sawlog = demands[\"GSawlog_uB\"] / 19 # divided by the number of provinces for test data\n",
    "    sawlog = sawlog.to_list()\n",
    "    \n",
    "    pulpfuel = demands[\"GPulpFuel_uB\"] / 19 \n",
    "    pulpfuel = pulpfuel.to_list()\n",
    "\n",
    "    residues = demands[\"GResidues\"] / 19\n",
    "    residues = residues.to_list()\n",
    "    \n",
    "    globiom = {\n",
    "    # --------------\n",
    "    # Sawlogs, millions m3/year under bark\n",
    "    # --------------\n",
    "    # max_periodicTargets_Sum_Objective\n",
    "    \"Total_Harvested_V_log_GLOBIOM\" : [\"GLOBIOM, total Sawlogs (m3/year, u. bark)\",\n",
    "                        \"Total_Harvested_V_log_under_bark\",\n",
    "                        \"max\", \"periodicTargets\", \"sum\", sawlog],\n",
    "    \n",
    "    # --------------\n",
    "    # Pulpwood (relates to pulp and fuelwood of GLOBIOM), millions m3/year under bark\n",
    "    # --------------\n",
    "    \"Total_Harvested_V_pulp_GLOBIOM\" : [\"GLOBIOM, total Pulpwood (m3/year, u. bark)\",\n",
    "                        \"Total_Harvested_V_pulp_under_bark\",\n",
    "                        \"max\", \"periodicTargets\", \"sum\", pulpfuel],\n",
    "    \n",
    "    # --------------\n",
    "    # Biomass (relates to forest residues of GLOBIOM),  millions m3/year \n",
    "    # --------------\n",
    "    \"Total_Biomass_GLOBIOM\" : [\"GLOBIOM, total Biomass (m3/year)\",\n",
    "                        \"Total_Biomass\",\n",
    "                        \"max\", \"periodicTargets\", \"sum\", residues] \n",
    "    }\n",
    "    print(\"GLOBIOM Bottom-up loaded\") \n",
    "\n",
    "else:\n",
    "    globiom = {}\n",
    "    print(\"no demands considered\")"
   ]
  },
  {
   "cell_type": "markdown",
   "metadata": {},
   "source": [
    "## Define the optimization problem for policy scenarios\n",
    "See README.md for details.\n",
    "\n",
    "<b>Objective format:</b>\n",
    "\n",
    "Unique_key :[Long human readable name, column name in data, max/min objective, year wise aggregation, stand wise aggregation (, target year )]\n",
    "\n",
    "1) \"Unique_key\" : [ (2) \"Long human readable name\", (3) \"column name\", (4) \"max/min objective\", (5) \"year wise aggregation\", (6) \"stand wise aggregation\" (, (7) target year ) ]\n",
    "\n",
    "<b>Options for \"objective\":</b> \"max\"imise or \"min\"imise it <br>\n",
    "<b>year wise aggregation:</b> \"min\" (minimum value), \"average\", \"firstYear\", \"targetYearWithSlope\",\"targetYear\",\"lastYear\" <br>\n",
    "<b>stand wise aggregation:</b> \"sum\", \"areaWeightedAverage\", \"areaWeightedSum\" <br>\n",
    "<b>targe yeart:</b> any year except the first one"
   ]
  },
  {
   "cell_type": "markdown",
   "metadata": {},
   "source": [
    "### NFS - National Forest Strategy"
   ]
  },
  {
   "cell_type": "code",
   "execution_count": 25,
   "metadata": {},
   "outputs": [],
   "source": [
    "if scenario == 'NFS':\n",
    "    \n",
    "    wood_production_bioenergy = { \n",
    "    # Increment - target 2025\n",
    "    \"Total_i_Vm3_2025\": [\"Total annual timber volume increment by 2025 (m3)\",\n",
    "                         \"Total_i_Vm3\",\n",
    "                         \"max\",\"targetYearWithSlope\",\"sum\",2025], \n",
    "    # Increment - target 2050\n",
    "    \"Total_i_Vm3_2050\": [\"Total annual timber volume increment by 2050 (m3)\",\n",
    "                         \"Total_i_Vm3\",\n",
    "                         \"max\",\"targetYearWithSlope\",\"sum\",2050], \n",
    "    # Harvested roundwood - target 2025\n",
    "    \"Total_Harvested_V_2025\" :[\"Total annual harvested timber volume by 2025 (log & pulp) (m3)\",\n",
    "                               \"Total_Harvested_V\",\n",
    "                               \"max\",\"targetYearWithSlope\",\"sum\",2025], \n",
    "    # Harvested biomass - target 2025\n",
    "    \"Total_Biomass_2025\": [\"Total annual harvested biomass volume by 2025 (m3)\",\n",
    "                           \"Total_Biomass\",\n",
    "                           \"max\",\"targetYearWithSlope\",\"sum\",2025]\n",
    "    }\n",
    "    \n",
    "    nonwood = { \n",
    "    # Bilberry - no decline, maximise it\n",
    "    \"Relative_BILBERRY\": [\"Bilberry yield (relative to 2016, max minimum over yrs)\",\n",
    "                          \"Relative_Total_BILBERRY\",\n",
    "                          \"max\",\"min\",\"sum\"],\n",
    "    # Cowberry - no decline, maximise it\n",
    "    \"Relative_COWBERRY\": [\"Cowberry yield (relative to 2016, max minimum over yrs)\",\n",
    "                          \"Relative_Total_COWBERRY\",\n",
    "                          \"max\",\"min\",\"sum\"],\n",
    "    # Mushrooms - no decline, maximise it\n",
    "    \"Relative_ALL_MARKETED_MUSHROOMS\": [\"All marketed mushroom yield (relative to 2016, max minimum over yrs)\",\n",
    "                         \"Relative_Total_ALL_MARKETED_MUSHROOMS\",\n",
    "                         \"max\",\"min\",\"sum\"]    \n",
    "    }\n",
    "    \n",
    "    game = {\n",
    "    # HSI moose - maximise  \n",
    "    \"Sum_Total_HSI_MOOSE\": [\"Total habitat index for MOOSE (max average over all years)\",\n",
    "                           \"Total_HSI_MOOSE\",\n",
    "                           \"max\",\"average\",\"sum\"],\n",
    "    # HSI hazel grouse - maximise\n",
    "    \"Sum_Total_HAZEL_GROUSE\": [\"Total habitat index for HAZEL_GROUSE (max average over yrs)\",\n",
    "                           \"Total_HAZEL_GROUSE\",\n",
    "                           \"max\",\"average\",\"sum\"],\n",
    "    # HSI capercaillie - maximise\n",
    "    \"Sum_Total_CAPERCAILLIE\": [\"Total habitat index for CAPERCAILLIE (max average over yrs)\",\n",
    "                           \"Total_CAPERCAILLIE\",\n",
    "                           \"max\",\"average\",\"sum\"]    \n",
    "    }\n",
    "    \n",
    "    biodiversity = {\n",
    "    # Dearwood - target 2025\n",
    "    \"Average_Deadwood_V_2025\": [\"Average Deadwood volume by 2025 (m3/ha)\", \n",
    "                                \"V_total_deadwood\",\n",
    "                                \"max\", \"targetYear\", \"areaWeightedAverage\", 2025], \n",
    "    # Large trees (>40 cm) - maximise\n",
    "    \"Total_N_where_D_gt_40\": [\"Total No. of trees diameter >= 40 cm  (max end value)\",\n",
    "                              \"Total_N_where_D_gt_40\",\n",
    "                              \"max\",\"lastYear\",\"sum\"],    \n",
    "    # Deciduous tree volume - maximise\n",
    "    \"Total_prc_V_deciduous\":  [\"Total %-share of deciduous trees (related to V) (max end value)\", \n",
    "                               \"Total_prc_V_deciduous\",\n",
    "                               \"max\", \"lastYear\",\"sum\"],\n",
    "    # Conservation regime - target\n",
    "    \"Ratio_CCF_forests\": [\"Ratio of BC sites in commercial forests (%, CCF_3, CCF_4 and BAUwGTR)\",\n",
    "                          \"CCF_forests\",\n",
    "                          \"max\",\"firstYear\",\"areaWeightedAverage\"]\n",
    "    }\n",
    "    \n",
    "    climate_regulation = {\n",
    "    # Carbon sink - target 2025\n",
    "    \"Total_CARBON_SINK_2025\": [\"Total sequestration in carbon dioxide by 2025 (t CO2)\",\n",
    "                               \"Total_CARBON_SINK\",\n",
    "                               \"max\",\"targetYearWithSlope\",\"sum\",2025] \n",
    "    }\n",
    "    \n",
    "    recreation = {\n",
    "    # Recreation index - maximise\n",
    "    \"Sum_Total_Recreation\" : [\"Total Recreation index (max minimum over yrs)\",\n",
    "                              \"Total_Recreation\",\n",
    "                              \"max\",\"min\",\"sum\"],\n",
    "    \n",
    "    # Scenic index - maximise\n",
    "    \"Sum_Total_Scenic\" : [\"Total Scenic index (max minimum over yrs)\",\n",
    "                          \"Total_Scenic\",\n",
    "                          \"max\",\"min\",\"sum\"]\n",
    "    }\n",
    "    \n",
    "    resilience = {\n",
    "    # CC adaption regimes - maximise\n",
    "    \"Ratio_Broadleave_forests\": [\"Ratio of adaptive management regimes (%, increasing broadleave share)\",\n",
    "                                 \"Broadleave_forests\",\n",
    "                                 \"max\",\"firstYear\",\"areaWeightedAverage\"]\n",
    "    }\n",
    "    \n",
    "    water = {\n",
    "    # Scenario BAU & MF        \n",
    "    # max_firstYear_AreaWeightedAverage\n",
    "    \"Ratio_CCF_onPeat\" : [\"Ratio of CCF on Peatland (%, all four CCF and SA)\",\n",
    "                         \"peatCCFArea\",\n",
    "                         \"max\", \"firstYear\", \"sum\"]         \n",
    "    }\n",
    "    \n",
    "    objectives = {\n",
    "              **globiom,\n",
    "              **wood_production_bioenergy,\n",
    "              **nonwood,\n",
    "              **game,\n",
    "              **biodiversity,\n",
    "              **climate_regulation,\n",
    "              **recreation,\n",
    "              **resilience,\n",
    "              **water\n",
    "    }\n",
    "    \n",
    "    print(\"objectives for NFS loaded\")"
   ]
  },
  {
   "cell_type": "markdown",
   "metadata": {},
   "source": [
    "### BDS - Biodiversity Strategy"
   ]
  },
  {
   "cell_type": "code",
   "execution_count": 26,
   "metadata": {},
   "outputs": [],
   "source": [
    "if scenario == 'BDS':\n",
    "    \n",
    "    wood_production_bioenergy = { \n",
    "    # Harvested roundwood - maximise (even flow)\n",
    "    \"Average_Harvested_V\" : [\"Average harvested timber volume (log & pulp) (m3/ha, evenflow)\",\n",
    "                             \"Harvested_V\",\n",
    "                             \"max\",\"min\",\"areaWeightedAverage\"]\n",
    "    }\n",
    "    \n",
    "    game = {\n",
    "    # HSI moose - maximise       \n",
    "    \"Sum_Total_HSI_MOOSE\": [\"Total habitat index for MOOSE (max average over all years)\",\n",
    "                           \"Total_HSI_MOOSE\",\n",
    "                           \"max\",\"average\",\"sum\"],\n",
    "    # HSI hazel grouse - maximise\n",
    "    \"Sum_Total_HAZEL_GROUSE\": [\"Total habitat index for HAZEL_GROUSE (max average over yrs)\",\n",
    "                           \"Total_HAZEL_GROUSE\",\n",
    "                           \"max\",\"average\",\"sum\"],\n",
    "    # HSI carpercaillie - maximise\n",
    "    \"Sum_Total_CAPERCAILLIE\": [\"Total habitat index for CAPERCAILLIE (max average over yrs)\",\n",
    "                           \"Total_CAPERCAILLIE\",\n",
    "                           \"max\",\"average\",\"sum\"]    \n",
    "    }\n",
    "    \n",
    "    biodiversity = {\n",
    "    # Deadwood - target 2050, increase by XX%\n",
    "    \"relative_Amount_Deadwood_2050\" : [\"Total Deadwood volume by 2050 (%, relative to 2016 values)\",\n",
    "                                       \"Relative_Total_V_total_deadwood\",\n",
    "                                       \"max\",\"targetYearWithSlope\",\"sum\",2050],\n",
    "    # Large trees - target 2050, increase by XX%\n",
    "    \"relative_N_where_D_gt_40_2050\": [\"Total No. of trees diameter >= 40 cm  by 2050 (%, relative to 2016 values)\",\n",
    "                                      \"Relative_Total_N_where_D_gt_40\",\n",
    "                                      \"max\",\"targetYear\",\"sum\",2050],\n",
    "    # Deciduous tree volume - target 2050, increase by XX% \n",
    "    \"relative_prc_V_deciduous_2050\": [\"Total share of deciduous trees by 2050 (related to V) (%, relative to 2016 values)\",\n",
    "                                      \"Relative_Total_prc_V_deciduous\",\n",
    "                                      \"max\",\"targetYearWithSlope\",\"sum\",2050],\n",
    "    # Regime SA - target\n",
    "    \"Ratio_CCF_forests\": [\"Ratio of BC sites in commercial forests (%, CCF_3, CCF_4 and BAUwGTR)\",\n",
    "                          \"CCF_forests\",\n",
    "                          \"max\",\"firstYear\",\"areaWeightedAverage\"],\n",
    "    # Conservation regimes - target\n",
    "    \"Ratio_SA_forests\": [\"Ratio of protected areas (%, SA forests)\",\n",
    "                         \"SA_forests\",\n",
    "                         \"max\",\"firstYear\",\"areaWeightedAverage\"]    \n",
    "    \n",
    "    }\n",
    "    \n",
    "    recreation = {\n",
    "    # Recreation index - maximise\n",
    "    \"Sum_Total_Recreation\" : [\"Total Recreation index (max minimum over yrs)\",\n",
    "                              \"Total_Recreation\",\n",
    "                              \"max\",\"min\",\"sum\"],\n",
    "    # Scenic indes - maximise\n",
    "    \"Sum_Total_Scenic\" : [\"Total Scenic index (max minimum over yrs)\",\n",
    "                          \"Total_Scenic\",\n",
    "                          \"max\",\"min\",\"sum\"]\n",
    "    }\n",
    "    \n",
    "    objectives = {\n",
    "                  **globiom,\n",
    "                  **wood_production_bioenergy,\n",
    "                  **game,\n",
    "                  **biodiversity,\n",
    "                  **recreation,\n",
    "                  **water\n",
    "    }\n",
    "    \n",
    "    print(\"objectives for BDS loaded\")"
   ]
  },
  {
   "cell_type": "markdown",
   "metadata": {},
   "source": [
    "### BES - Bioeconomy strategy"
   ]
  },
  {
   "cell_type": "code",
   "execution_count": 27,
   "metadata": {},
   "outputs": [
    {
     "name": "stdout",
     "output_type": "stream",
     "text": [
      "objectives for BES loaded\n"
     ]
    }
   ],
   "source": [
    "if scenario == 'BES':\n",
    "    \n",
    "    wood_production_bioenergy = { \n",
    "    # Harvested roundwood - maximise even flow\n",
    "    \"Average_Harvested_V\" : [\"Average harvested timber volume (log & pulp) (m3/ha, evenflow)\",\n",
    "                             \"Harvested_V\",\n",
    "                             \"max\",\"min\",\"areaWeightedAverage\"],\n",
    "    # Harvested biomass - maximise even flow\n",
    "    \"Biomass_Evenflow\": [\"Average harvested biomass volume (m3/ha, evenflow)\",\n",
    "                         \"Biomass\",\n",
    "                         \"max\",\"min\",\"areaWeightedAverage\"]\n",
    "    }\n",
    "    \n",
    "    biodiversity = {\n",
    "    # Deadwood - no decline (no target value)\n",
    "    \"relative_Amount_Deadwood_2050\" : [\"Total Deadwood volume by 2050 (%, relative to 2016 values)\",\n",
    "                                       \"Relative_Total_V_total_deadwood\",\n",
    "                                       \"max\",\"targetYearWithSlope\",\"sum\",2050],\n",
    "    # Large trees - no decline (no target value)\n",
    "    \"relative_N_where_D_gt_40_2050\": [\"Total No. of trees diameter >= 40 cm  by 2050 (%, relative to 2016 values)\",\n",
    "                                      \"Relative_Total_N_where_D_gt_40\",\n",
    "                                      \"max\",\"targetYear\",\"sum\",2050],\n",
    "    # Deciduous tree volume - no decline (no target value)\n",
    "    \"relative_prc_V_deciduous_2050\": [\"Total share of deciduous trees by 2050 (related to V) (%, relative to 2016 values)\",\n",
    "                                      \"Relative_Total_prc_V_deciduous\",\n",
    "                                      \"max\",\"targetYearWithSlope\",\"sum\",2050]\n",
    "    }\n",
    "    \n",
    "    recreation = {\n",
    "    # Recreation index - maximise\n",
    "    \"Sum_Total_Recreation\" : [\"Total Recreation index (max minimum over all years)\",\n",
    "                              \"Total_Recreation\",\n",
    "                              \"max\",\"min\",\"sum\"],\n",
    "    # Scenic indes - maximise\n",
    "    \"Sum_Total_Scenic\" : [\"Total Scenic index (max minimum over all years)\",\n",
    "                          \"Total_Scenic\",\n",
    "                          \"max\",\"min\",\"sum\"]\n",
    "    }\n",
    "    \n",
    "    objectives = {\n",
    "                  **globiom,\n",
    "                  **wood_production_bioenergy,\n",
    "                  **biodiversity,\n",
    "                  **recreation,\n",
    "    }\n",
    "    \n",
    "    print(\"objectives for BES loaded\")"
   ]
  },
  {
   "cell_type": "code",
   "execution_count": 28,
   "metadata": {},
   "outputs": [
    {
     "data": {
      "text/plain": [
       "10"
      ]
     },
     "execution_count": 28,
     "metadata": {},
     "output_type": "execute_result"
    }
   ],
   "source": [
    "len(objectives)"
   ]
  },
  {
   "cell_type": "code",
   "execution_count": 29,
   "metadata": {},
   "outputs": [
    {
     "data": {
      "text/plain": [
       "dict_keys(['Total_Harvested_V_log_GLOBIOM', 'Total_Harvested_V_pulp_GLOBIOM', 'Total_Biomass_GLOBIOM', 'Average_Harvested_V', 'Biomass_Evenflow', 'relative_Amount_Deadwood_2050', 'relative_N_where_D_gt_40_2050', 'relative_prc_V_deciduous_2050', 'Sum_Total_Recreation', 'Sum_Total_Scenic'])"
      ]
     },
     "execution_count": 29,
     "metadata": {},
     "output_type": "execute_result"
    }
   ],
   "source": [
    "objectives.keys()"
   ]
  },
  {
   "cell_type": "code",
   "execution_count": 30,
   "metadata": {},
   "outputs": [
    {
     "data": {
      "text/plain": [
       "Index(['V', 'i_Vm3', 'Harvested_V', 'Harvested_V_log_under_bark',\n",
       "       'Harvested_V_pulp_under_bark', 'Harvested_V_under_bark', 'MAIN_SP',\n",
       "       'Age', 'AGE_ba', 'SC', 'Biomass', 'ALL_MARKETED_MUSHROOMS', 'BILBERRY',\n",
       "       'COWBERRY', 'HSI_MOOSE', 'CAPERCAILLIE', 'HAZEL_GROUSE',\n",
       "       'V_total_deadwood', 'N_where_D_gt_40', 'prc_V_deciduous', 'PEAT',\n",
       "       'clearcut', 'CARBON_SINK', 'CARBON_STORAGE_Update', 'Recreation',\n",
       "       'Scenic', 'scenario', 'represented_area_by_NFIplot', 'region',\n",
       "       'NUTS2_GL', 'protection', 'Total_i_Vm3', 'Total_Harvested_V',\n",
       "       'Total_Harvested_V_log_under_bark', 'Total_Harvested_V_pulp_under_bark',\n",
       "       'Total_Harvested_V_under_bark', 'Total_Biomass',\n",
       "       'Total_ALL_MARKETED_MUSHROOMS', 'Total_BILBERRY', 'Total_COWBERRY',\n",
       "       'Total_HSI_MOOSE', 'Total_CAPERCAILLIE', 'Total_HAZEL_GROUSE',\n",
       "       'Total_V_total_deadwood', 'Total_N_where_D_gt_40',\n",
       "       'Total_prc_V_deciduous', 'Total_CARBON_SINK', 'Total_Recreation',\n",
       "       'Total_Scenic', 'CCF_forests', 'SA_forests', 'Broadleave_forests',\n",
       "       'AllCCF_forests', 'CCFonPeat', 'peatCCFArea', 'Relative_V',\n",
       "       'Relative_Age', 'Relative_AGE_ba', 'Relative_ALL_MARKETED_MUSHROOMS',\n",
       "       'Relative_BILBERRY', 'Relative_COWBERRY', 'Relative_HSI_MOOSE',\n",
       "       'Relative_CAPERCAILLIE', 'Relative_HAZEL_GROUSE',\n",
       "       'Relative_V_total_deadwood', 'Relative_N_where_D_gt_40',\n",
       "       'Relative_prc_V_deciduous', 'Relative_CARBON_STORAGE_Update',\n",
       "       'Relative_Recreation', 'Relative_Scenic',\n",
       "       'Relative_Total_ALL_MARKETED_MUSHROOMS', 'Relative_Total_BILBERRY',\n",
       "       'Relative_Total_COWBERRY', 'Relative_Total_HSI_MOOSE',\n",
       "       'Relative_Total_CAPERCAILLIE', 'Relative_Total_HAZEL_GROUSE',\n",
       "       'Relative_Total_V_total_deadwood', 'Relative_Total_N_where_D_gt_40',\n",
       "       'Relative_Total_prc_V_deciduous', 'Relative_Total_Recreation',\n",
       "       'Relative_Total_Scenic'],\n",
       "      dtype='object')"
      ]
     },
     "execution_count": 30,
     "metadata": {},
     "output_type": "execute_result"
    }
   ],
   "source": [
    "mfo.data.columns"
   ]
  },
  {
   "cell_type": "code",
   "execution_count": 31,
   "metadata": {},
   "outputs": [
    {
     "data": {
      "text/plain": [
       "[('prc_V_deciduous', dtype('float64')),\n",
       " ('Total_prc_V_deciduous', dtype('float64')),\n",
       " ('Relative_prc_V_deciduous', dtype('float64')),\n",
       " ('Relative_Total_prc_V_deciduous', dtype('float64'))]"
      ]
     },
     "execution_count": 31,
     "metadata": {},
     "output_type": "execute_result"
    }
   ],
   "source": [
    "[(col,mfo.data.dtypes[col]) for col in mfo.data.columns if \"prc\" in col]"
   ]
  },
  {
   "cell_type": "markdown",
   "metadata": {},
   "source": [
    "## Define initial values NOT available in data, but needed for objective\n",
    "\n",
    "Examples are increment, harvests, biomass and carbon sink. They are required for the \"targetYearWithSlope\" objective, but values only occur after the first simulation period. National values are taken from the policy or forest statistics. \n",
    "\n",
    "<b>For the Central Finland test data, national values are simply divided by 19 (number of considered provinces).</b> "
   ]
  },
  {
   "cell_type": "code",
   "execution_count": 32,
   "metadata": {},
   "outputs": [],
   "source": [
    "initialValues = {\"Total_i_Vm3\":107*10**6 / 19,               # value from National Forest Policy\n",
    "                 \"Total_Harvested_V\": 72.3*10**6 / 19,       # value from National Forest Policy\n",
    "                 \"Total_Biomass\": 2.9*10**6 / 19,            # value from National Forest Policy\n",
    "                 \"Total_CARBON_SINK\" : 34.1*10**6 / 19,      # value from National Forest Policy\n",
    "                                 \n",
    "                 \"SA_forests\" : 0.106,     # from ForestStatistics 2018\n",
    "                 \"CCF_forests\" : 0.015,    # from ForestStatistics 2018\n",
    "                 \"BAUwGTR_forests\":0.015}  # from ForestStatistics 2018"
   ]
  },
  {
   "cell_type": "code",
   "execution_count": 33,
   "metadata": {
    "scrolled": true
   },
   "outputs": [
    {
     "data": {
      "text/plain": [
       "'Defining objectives'"
      ]
     },
     "metadata": {},
     "output_type": "display_data"
    },
    {
     "data": {
      "text/plain": [
       "'Aggregating stand wise'"
      ]
     },
     "metadata": {},
     "output_type": "display_data"
    },
    {
     "name": "stderr",
     "output_type": "stream",
     "text": [
      "100%|██████████| 10/10 [01:11<00:00,  7.19s/it]\n"
     ]
    },
    {
     "data": {
      "text/plain": [
       "'Aggregating year wise'"
      ]
     },
     "metadata": {},
     "output_type": "display_data"
    },
    {
     "name": "stdout",
     "output_type": "stream",
     "text": [
      "100%|██████████| 10/10 [00:00<00:00, 2551.90it/s]\n"
     ]
    },
    {
     "data": {
      "text/plain": [
       "'Objectives added'"
      ]
     },
     "metadata": {},
     "output_type": "display_data"
    }
   ],
   "source": [
    "mfo.defineObjectives(objectives,initialValues = initialValues)"
   ]
  },
  {
   "cell_type": "markdown",
   "metadata": {},
   "source": [
    "## GLOBIOM - Top-down (with option for assortment transfer)\n",
    "\n",
    "<b>Attention: Has to be run after defining the objectives!</b>\n",
    "\n",
    "Read the targeted timber demands. "
   ]
  },
  {
   "cell_type": "code",
   "execution_count": 34,
   "metadata": {},
   "outputs": [],
   "source": [
    "# -----------\n",
    "# 1.5 degree scenario; matches with RCP0 (no CC)\n",
    "# -----------\n",
    "if objectives_globiom == 'globiom_1p5_RCP0_V2':\n",
    "    \n",
    "    demands = pd.read_csv('FIN_globiom1p5_all.csv') \n",
    "\n",
    "    print(\"used 1p5\")\n",
    "    \n",
    "# ----------- \n",
    "# NDC scenario, matches with RCP 4.5\n",
    "# -----------\n",
    "elif objectives_globiom == 'globiom_NDC_RCP45_V2':\n",
    "    \n",
    "    demands = pd.read_csv('FIN_globiomNDC_all.csv') \n",
    "\n",
    "    print(\"used NDC\")"
   ]
  },
  {
   "cell_type": "markdown",
   "metadata": {},
   "source": [
    "<b>For the Central Finland test data, national values are simply divided by 19 (number provinces in Finland).</b>"
   ]
  },
  {
   "cell_type": "code",
   "execution_count": 35,
   "metadata": {},
   "outputs": [
    {
     "name": "stdout",
     "output_type": "stream",
     "text": [
      "no demands considered\n"
     ]
    }
   ],
   "source": [
    "if objectives_globiom == 'globiom_1p5_RCP0_V2' or objectives_globiom =='globiom_NDC_RCP45_V2' :\n",
    "    \n",
    "    sawlog = demands[\"GSawlog_uB\"] / 19 # divided by the number of provinces for test data\n",
    "    sawlog = sawlog.to_list()\n",
    "    \n",
    "    pulpfuel = demands[\"GPulpFuel_uB\"] / 19 \n",
    "    pulpfuel = pulpfuel.to_list()\n",
    "\n",
    "    residues = demands[\"GResidues\"] / 19 \n",
    "    residues = residues.to_list()\n",
    "    \n",
    "    mfo.addGlobiomTargets(\n",
    "        {\n",
    "        \"log\": sawlog,\n",
    "        \"pulp\": pulpfuel,\n",
    "        \"residues\": residues\n",
    "        },\n",
    "        {\n",
    "            #Log is converted primarily into log, and sencondary into pulp; no transferrate, both are volumes under bark\n",
    "            \"Total_Harvested_V_log_under_bark\":\n",
    "                {\"log\":[1,\"primary\"],\"pulp\":[1,\"secondary\"], \"residues\":[1.136,\"secondary\"]},\n",
    "                #{\"log\":[1,\"primary\"],\"pulp\":[1,\"secondary\"]}, \n",
    "                                          \n",
    "            # Pulp is converted primarily into pulp, and sencondary into residues; \n",
    "            # with transferrate 1.136, because pulp volume is under bark, residues are over bark (barkfactor = 1.136)  \n",
    "            \"Total_Harvested_V_pulp_under_bark\":\n",
    "                {\"pulp\":[1,\"primary\"], \"residues\":[1.136,\"secondary\"]}, \n",
    "            \n",
    "            \"Total_Biomass\":\n",
    "                {\"residues\":[1,\"primary\"]} #Biomass only to residues\n",
    "        }, \n",
    "        \n",
    "        # ----------------\n",
    "        # by default exactMatching is FALSE\n",
    "        # ----------------\n",
    "        # Functionality was implemented for Norway and their nationl policy scenarios\n",
    "        # NOT required for Cross-scale analysis V2\n",
    "        exactMatching=False \n",
    "        \n",
    "    )\n",
    "    \n",
    "    print(\"GLOBIOM Top-down loaded\") \n",
    "\n",
    "else:\n",
    "    globiom = {}\n",
    "    print(\"no demands considered\")"
   ]
  },
  {
   "cell_type": "markdown",
   "metadata": {},
   "source": [
    "## Define enabled constraints"
   ]
  },
  {
   "cell_type": "code",
   "execution_count": 36,
   "metadata": {},
   "outputs": [],
   "source": [
    "CCFregimes = [regime for regime in mfo.regimes if \"CCF\" in regime] + [\"SA\"]"
   ]
  },
  {
   "cell_type": "code",
   "execution_count": 37,
   "metadata": {},
   "outputs": [
    {
     "data": {
      "text/plain": [
       "['CCF_1', 'CCF_2', 'CCF_3', 'CCF_4', 'SA']"
      ]
     },
     "execution_count": 37,
     "metadata": {},
     "output_type": "execute_result"
    }
   ],
   "source": [
    "CCFregimes"
   ]
  },
  {
   "cell_type": "markdown",
   "metadata": {},
   "source": [
    "Constraint format:\n",
    "- Shortname: \"constraint type\",\"allowed regimes\",\"human readable name\",(regimes),\"column in data\")"
   ]
  },
  {
   "cell_type": "code",
   "execution_count": 38,
   "metadata": {},
   "outputs": [],
   "source": [
    "constraintTypes = {\"CCFonPeat\":[\"Allowed regimes\",\"Only CCF on peat lands\",CCFregimes,\"PEAT\"]}"
   ]
  },
  {
   "cell_type": "code",
   "execution_count": 39,
   "metadata": {},
   "outputs": [],
   "source": [
    "mfo.defineConstraints(constraintTypes)"
   ]
  },
  {
   "cell_type": "markdown",
   "metadata": {},
   "source": [
    "## Calculate objective ranges\n",
    "The ideal and anti-ideal solution for the individual objective functions."
   ]
  },
  {
   "cell_type": "code",
   "execution_count": 40,
   "metadata": {},
   "outputs": [
    {
     "data": {
      "text/html": [
       "<div>\n",
       "<style scoped>\n",
       "    .dataframe tbody tr th:only-of-type {\n",
       "        vertical-align: middle;\n",
       "    }\n",
       "\n",
       "    .dataframe tbody tr th {\n",
       "        vertical-align: top;\n",
       "    }\n",
       "\n",
       "    .dataframe thead th {\n",
       "        text-align: right;\n",
       "    }\n",
       "</style>\n",
       "<table border=\"1\" class=\"dataframe\">\n",
       "  <thead>\n",
       "    <tr style=\"text-align: right;\">\n",
       "      <th></th>\n",
       "      <th></th>\n",
       "      <th></th>\n",
       "      <th>V</th>\n",
       "      <th>i_Vm3</th>\n",
       "      <th>Harvested_V</th>\n",
       "      <th>Harvested_V_log_under_bark</th>\n",
       "      <th>Harvested_V_pulp_under_bark</th>\n",
       "      <th>Harvested_V_under_bark</th>\n",
       "      <th>MAIN_SP</th>\n",
       "      <th>Age</th>\n",
       "      <th>AGE_ba</th>\n",
       "      <th>SC</th>\n",
       "      <th>...</th>\n",
       "      <th>Relative_Total_BILBERRY</th>\n",
       "      <th>Relative_Total_COWBERRY</th>\n",
       "      <th>Relative_Total_HSI_MOOSE</th>\n",
       "      <th>Relative_Total_CAPERCAILLIE</th>\n",
       "      <th>Relative_Total_HAZEL_GROUSE</th>\n",
       "      <th>Relative_Total_V_total_deadwood</th>\n",
       "      <th>Relative_Total_N_where_D_gt_40</th>\n",
       "      <th>Relative_Total_prc_V_deciduous</th>\n",
       "      <th>Relative_Total_Recreation</th>\n",
       "      <th>Relative_Total_Scenic</th>\n",
       "    </tr>\n",
       "    <tr>\n",
       "      <th>id</th>\n",
       "      <th>year</th>\n",
       "      <th>regime</th>\n",
       "      <th></th>\n",
       "      <th></th>\n",
       "      <th></th>\n",
       "      <th></th>\n",
       "      <th></th>\n",
       "      <th></th>\n",
       "      <th></th>\n",
       "      <th></th>\n",
       "      <th></th>\n",
       "      <th></th>\n",
       "      <th></th>\n",
       "      <th></th>\n",
       "      <th></th>\n",
       "      <th></th>\n",
       "      <th></th>\n",
       "      <th></th>\n",
       "      <th></th>\n",
       "      <th></th>\n",
       "      <th></th>\n",
       "      <th></th>\n",
       "      <th></th>\n",
       "    </tr>\n",
       "  </thead>\n",
       "  <tbody>\n",
       "    <tr>\n",
       "      <th rowspan=\"5\" valign=\"top\">99011014</th>\n",
       "      <th>2021</th>\n",
       "      <th>SA</th>\n",
       "      <td>409.58</td>\n",
       "      <td>7.20</td>\n",
       "      <td>0.00</td>\n",
       "      <td>0.00</td>\n",
       "      <td>0.00</td>\n",
       "      <td>0.00</td>\n",
       "      <td>2</td>\n",
       "      <td>84.0</td>\n",
       "      <td>83.53</td>\n",
       "      <td>1</td>\n",
       "      <td>...</td>\n",
       "      <td>0.000000</td>\n",
       "      <td>0.000339</td>\n",
       "      <td>0.0</td>\n",
       "      <td>0.0</td>\n",
       "      <td>0.000147</td>\n",
       "      <td>0.002044</td>\n",
       "      <td>0.0</td>\n",
       "      <td>0.000082</td>\n",
       "      <td>0.000689</td>\n",
       "      <td>0.000711</td>\n",
       "    </tr>\n",
       "    <tr>\n",
       "      <th>2026</th>\n",
       "      <th>SA</th>\n",
       "      <td>445.49</td>\n",
       "      <td>7.29</td>\n",
       "      <td>0.00</td>\n",
       "      <td>0.00</td>\n",
       "      <td>0.00</td>\n",
       "      <td>0.00</td>\n",
       "      <td>2</td>\n",
       "      <td>89.0</td>\n",
       "      <td>88.57</td>\n",
       "      <td>1</td>\n",
       "      <td>...</td>\n",
       "      <td>0.000000</td>\n",
       "      <td>0.000329</td>\n",
       "      <td>0.0</td>\n",
       "      <td>0.0</td>\n",
       "      <td>0.000088</td>\n",
       "      <td>0.003213</td>\n",
       "      <td>0.0</td>\n",
       "      <td>0.000082</td>\n",
       "      <td>0.000696</td>\n",
       "      <td>0.000729</td>\n",
       "    </tr>\n",
       "    <tr>\n",
       "      <th>2031</th>\n",
       "      <th>SA</th>\n",
       "      <td>480.72</td>\n",
       "      <td>7.17</td>\n",
       "      <td>0.00</td>\n",
       "      <td>0.00</td>\n",
       "      <td>0.00</td>\n",
       "      <td>0.00</td>\n",
       "      <td>2</td>\n",
       "      <td>94.0</td>\n",
       "      <td>93.60</td>\n",
       "      <td>1</td>\n",
       "      <td>...</td>\n",
       "      <td>0.000000</td>\n",
       "      <td>0.000320</td>\n",
       "      <td>0.0</td>\n",
       "      <td>0.0</td>\n",
       "      <td>0.000029</td>\n",
       "      <td>0.004253</td>\n",
       "      <td>0.0</td>\n",
       "      <td>0.000082</td>\n",
       "      <td>0.000703</td>\n",
       "      <td>0.000747</td>\n",
       "    </tr>\n",
       "    <tr>\n",
       "      <th>2036</th>\n",
       "      <th>SA</th>\n",
       "      <td>503.77</td>\n",
       "      <td>4.75</td>\n",
       "      <td>0.00</td>\n",
       "      <td>0.00</td>\n",
       "      <td>0.00</td>\n",
       "      <td>0.00</td>\n",
       "      <td>2</td>\n",
       "      <td>99.0</td>\n",
       "      <td>98.62</td>\n",
       "      <td>1</td>\n",
       "      <td>...</td>\n",
       "      <td>0.000000</td>\n",
       "      <td>0.000314</td>\n",
       "      <td>0.0</td>\n",
       "      <td>0.0</td>\n",
       "      <td>0.000000</td>\n",
       "      <td>0.004918</td>\n",
       "      <td>0.0</td>\n",
       "      <td>0.000082</td>\n",
       "      <td>0.000707</td>\n",
       "      <td>0.000765</td>\n",
       "    </tr>\n",
       "    <tr>\n",
       "      <th>2041</th>\n",
       "      <th>SA</th>\n",
       "      <td>518.69</td>\n",
       "      <td>3.13</td>\n",
       "      <td>0.00</td>\n",
       "      <td>0.00</td>\n",
       "      <td>0.00</td>\n",
       "      <td>0.00</td>\n",
       "      <td>2</td>\n",
       "      <td>104.0</td>\n",
       "      <td>103.63</td>\n",
       "      <td>1</td>\n",
       "      <td>...</td>\n",
       "      <td>0.000000</td>\n",
       "      <td>0.000311</td>\n",
       "      <td>0.0</td>\n",
       "      <td>0.0</td>\n",
       "      <td>0.000000</td>\n",
       "      <td>0.005344</td>\n",
       "      <td>0.0</td>\n",
       "      <td>0.000055</td>\n",
       "      <td>0.000710</td>\n",
       "      <td>0.000783</td>\n",
       "    </tr>\n",
       "    <tr>\n",
       "      <th>...</th>\n",
       "      <th>...</th>\n",
       "      <th>...</th>\n",
       "      <td>...</td>\n",
       "      <td>...</td>\n",
       "      <td>...</td>\n",
       "      <td>...</td>\n",
       "      <td>...</td>\n",
       "      <td>...</td>\n",
       "      <td>...</td>\n",
       "      <td>...</td>\n",
       "      <td>...</td>\n",
       "      <td>...</td>\n",
       "      <td>...</td>\n",
       "      <td>...</td>\n",
       "      <td>...</td>\n",
       "      <td>...</td>\n",
       "      <td>...</td>\n",
       "      <td>...</td>\n",
       "      <td>...</td>\n",
       "      <td>...</td>\n",
       "      <td>...</td>\n",
       "      <td>...</td>\n",
       "      <td>...</td>\n",
       "    </tr>\n",
       "    <tr>\n",
       "      <th rowspan=\"5\" valign=\"top\">99043411</th>\n",
       "      <th rowspan=\"5\" valign=\"top\">2116</th>\n",
       "      <th>CCF_1</th>\n",
       "      <td>133.70</td>\n",
       "      <td>4.66</td>\n",
       "      <td>0.00</td>\n",
       "      <td>0.00</td>\n",
       "      <td>0.00</td>\n",
       "      <td>0.00</td>\n",
       "      <td>6</td>\n",
       "      <td>138.8</td>\n",
       "      <td>108.70</td>\n",
       "      <td>3</td>\n",
       "      <td>...</td>\n",
       "      <td>0.000882</td>\n",
       "      <td>0.000336</td>\n",
       "      <td>0.0</td>\n",
       "      <td>0.0</td>\n",
       "      <td>0.000000</td>\n",
       "      <td>0.000150</td>\n",
       "      <td>0.0</td>\n",
       "      <td>0.002117</td>\n",
       "      <td>0.000551</td>\n",
       "      <td>0.000823</td>\n",
       "    </tr>\n",
       "    <tr>\n",
       "      <th>CCF_2</th>\n",
       "      <td>90.95</td>\n",
       "      <td>5.64</td>\n",
       "      <td>21.71</td>\n",
       "      <td>8.22</td>\n",
       "      <td>10.63</td>\n",
       "      <td>18.85</td>\n",
       "      <td>6</td>\n",
       "      <td>138.8</td>\n",
       "      <td>103.28</td>\n",
       "      <td>3</td>\n",
       "      <td>...</td>\n",
       "      <td>0.000535</td>\n",
       "      <td>0.000382</td>\n",
       "      <td>0.0</td>\n",
       "      <td>0.0</td>\n",
       "      <td>0.000000</td>\n",
       "      <td>0.000164</td>\n",
       "      <td>0.0</td>\n",
       "      <td>0.002007</td>\n",
       "      <td>0.000538</td>\n",
       "      <td>0.000822</td>\n",
       "    </tr>\n",
       "    <tr>\n",
       "      <th>CCF_3</th>\n",
       "      <td>164.46</td>\n",
       "      <td>4.69</td>\n",
       "      <td>0.00</td>\n",
       "      <td>0.00</td>\n",
       "      <td>0.00</td>\n",
       "      <td>0.00</td>\n",
       "      <td>6</td>\n",
       "      <td>138.8</td>\n",
       "      <td>121.35</td>\n",
       "      <td>3</td>\n",
       "      <td>...</td>\n",
       "      <td>0.000814</td>\n",
       "      <td>0.000315</td>\n",
       "      <td>0.0</td>\n",
       "      <td>0.0</td>\n",
       "      <td>0.000000</td>\n",
       "      <td>0.000170</td>\n",
       "      <td>0.0</td>\n",
       "      <td>0.002447</td>\n",
       "      <td>0.000574</td>\n",
       "      <td>0.000838</td>\n",
       "    </tr>\n",
       "    <tr>\n",
       "      <th>CCF_4</th>\n",
       "      <td>237.52</td>\n",
       "      <td>4.70</td>\n",
       "      <td>0.00</td>\n",
       "      <td>0.00</td>\n",
       "      <td>0.00</td>\n",
       "      <td>0.00</td>\n",
       "      <td>6</td>\n",
       "      <td>138.8</td>\n",
       "      <td>132.80</td>\n",
       "      <td>3</td>\n",
       "      <td>...</td>\n",
       "      <td>0.000936</td>\n",
       "      <td>0.000276</td>\n",
       "      <td>0.0</td>\n",
       "      <td>0.0</td>\n",
       "      <td>0.000000</td>\n",
       "      <td>0.000203</td>\n",
       "      <td>0.0</td>\n",
       "      <td>0.002640</td>\n",
       "      <td>0.000647</td>\n",
       "      <td>0.000886</td>\n",
       "    </tr>\n",
       "    <tr>\n",
       "      <th>SA</th>\n",
       "      <td>212.45</td>\n",
       "      <td>0.47</td>\n",
       "      <td>0.00</td>\n",
       "      <td>0.00</td>\n",
       "      <td>0.00</td>\n",
       "      <td>0.00</td>\n",
       "      <td>3</td>\n",
       "      <td>138.8</td>\n",
       "      <td>138.79</td>\n",
       "      <td>3</td>\n",
       "      <td>...</td>\n",
       "      <td>0.000908</td>\n",
       "      <td>0.000266</td>\n",
       "      <td>0.0</td>\n",
       "      <td>0.0</td>\n",
       "      <td>0.000000</td>\n",
       "      <td>0.000580</td>\n",
       "      <td>0.0</td>\n",
       "      <td>0.002750</td>\n",
       "      <td>0.000635</td>\n",
       "      <td>0.000905</td>\n",
       "    </tr>\n",
       "  </tbody>\n",
       "</table>\n",
       "<p>769400 rows × 81 columns</p>\n",
       "</div>"
      ],
      "text/plain": [
       "                           V  i_Vm3  Harvested_V  Harvested_V_log_under_bark  \\\n",
       "id       year regime                                                           \n",
       "99011014 2021 SA      409.58   7.20         0.00                        0.00   \n",
       "         2026 SA      445.49   7.29         0.00                        0.00   \n",
       "         2031 SA      480.72   7.17         0.00                        0.00   \n",
       "         2036 SA      503.77   4.75         0.00                        0.00   \n",
       "         2041 SA      518.69   3.13         0.00                        0.00   \n",
       "...                      ...    ...          ...                         ...   \n",
       "99043411 2116 CCF_1   133.70   4.66         0.00                        0.00   \n",
       "              CCF_2    90.95   5.64        21.71                        8.22   \n",
       "              CCF_3   164.46   4.69         0.00                        0.00   \n",
       "              CCF_4   237.52   4.70         0.00                        0.00   \n",
       "              SA      212.45   0.47         0.00                        0.00   \n",
       "\n",
       "                      Harvested_V_pulp_under_bark  Harvested_V_under_bark  \\\n",
       "id       year regime                                                        \n",
       "99011014 2021 SA                             0.00                    0.00   \n",
       "         2026 SA                             0.00                    0.00   \n",
       "         2031 SA                             0.00                    0.00   \n",
       "         2036 SA                             0.00                    0.00   \n",
       "         2041 SA                             0.00                    0.00   \n",
       "...                                           ...                     ...   \n",
       "99043411 2116 CCF_1                          0.00                    0.00   \n",
       "              CCF_2                         10.63                   18.85   \n",
       "              CCF_3                          0.00                    0.00   \n",
       "              CCF_4                          0.00                    0.00   \n",
       "              SA                             0.00                    0.00   \n",
       "\n",
       "                      MAIN_SP    Age  AGE_ba  SC  ...  \\\n",
       "id       year regime                              ...   \n",
       "99011014 2021 SA            2   84.0   83.53   1  ...   \n",
       "         2026 SA            2   89.0   88.57   1  ...   \n",
       "         2031 SA            2   94.0   93.60   1  ...   \n",
       "         2036 SA            2   99.0   98.62   1  ...   \n",
       "         2041 SA            2  104.0  103.63   1  ...   \n",
       "...                       ...    ...     ...  ..  ...   \n",
       "99043411 2116 CCF_1         6  138.8  108.70   3  ...   \n",
       "              CCF_2         6  138.8  103.28   3  ...   \n",
       "              CCF_3         6  138.8  121.35   3  ...   \n",
       "              CCF_4         6  138.8  132.80   3  ...   \n",
       "              SA            3  138.8  138.79   3  ...   \n",
       "\n",
       "                      Relative_Total_BILBERRY  Relative_Total_COWBERRY  \\\n",
       "id       year regime                                                     \n",
       "99011014 2021 SA                     0.000000                 0.000339   \n",
       "         2026 SA                     0.000000                 0.000329   \n",
       "         2031 SA                     0.000000                 0.000320   \n",
       "         2036 SA                     0.000000                 0.000314   \n",
       "         2041 SA                     0.000000                 0.000311   \n",
       "...                                       ...                      ...   \n",
       "99043411 2116 CCF_1                  0.000882                 0.000336   \n",
       "              CCF_2                  0.000535                 0.000382   \n",
       "              CCF_3                  0.000814                 0.000315   \n",
       "              CCF_4                  0.000936                 0.000276   \n",
       "              SA                     0.000908                 0.000266   \n",
       "\n",
       "                      Relative_Total_HSI_MOOSE  Relative_Total_CAPERCAILLIE  \\\n",
       "id       year regime                                                          \n",
       "99011014 2021 SA                           0.0                          0.0   \n",
       "         2026 SA                           0.0                          0.0   \n",
       "         2031 SA                           0.0                          0.0   \n",
       "         2036 SA                           0.0                          0.0   \n",
       "         2041 SA                           0.0                          0.0   \n",
       "...                                        ...                          ...   \n",
       "99043411 2116 CCF_1                        0.0                          0.0   \n",
       "              CCF_2                        0.0                          0.0   \n",
       "              CCF_3                        0.0                          0.0   \n",
       "              CCF_4                        0.0                          0.0   \n",
       "              SA                           0.0                          0.0   \n",
       "\n",
       "                      Relative_Total_HAZEL_GROUSE  \\\n",
       "id       year regime                                \n",
       "99011014 2021 SA                         0.000147   \n",
       "         2026 SA                         0.000088   \n",
       "         2031 SA                         0.000029   \n",
       "         2036 SA                         0.000000   \n",
       "         2041 SA                         0.000000   \n",
       "...                                           ...   \n",
       "99043411 2116 CCF_1                      0.000000   \n",
       "              CCF_2                      0.000000   \n",
       "              CCF_3                      0.000000   \n",
       "              CCF_4                      0.000000   \n",
       "              SA                         0.000000   \n",
       "\n",
       "                      Relative_Total_V_total_deadwood  \\\n",
       "id       year regime                                    \n",
       "99011014 2021 SA                             0.002044   \n",
       "         2026 SA                             0.003213   \n",
       "         2031 SA                             0.004253   \n",
       "         2036 SA                             0.004918   \n",
       "         2041 SA                             0.005344   \n",
       "...                                               ...   \n",
       "99043411 2116 CCF_1                          0.000150   \n",
       "              CCF_2                          0.000164   \n",
       "              CCF_3                          0.000170   \n",
       "              CCF_4                          0.000203   \n",
       "              SA                             0.000580   \n",
       "\n",
       "                      Relative_Total_N_where_D_gt_40  \\\n",
       "id       year regime                                   \n",
       "99011014 2021 SA                                 0.0   \n",
       "         2026 SA                                 0.0   \n",
       "         2031 SA                                 0.0   \n",
       "         2036 SA                                 0.0   \n",
       "         2041 SA                                 0.0   \n",
       "...                                              ...   \n",
       "99043411 2116 CCF_1                              0.0   \n",
       "              CCF_2                              0.0   \n",
       "              CCF_3                              0.0   \n",
       "              CCF_4                              0.0   \n",
       "              SA                                 0.0   \n",
       "\n",
       "                      Relative_Total_prc_V_deciduous  \\\n",
       "id       year regime                                   \n",
       "99011014 2021 SA                            0.000082   \n",
       "         2026 SA                            0.000082   \n",
       "         2031 SA                            0.000082   \n",
       "         2036 SA                            0.000082   \n",
       "         2041 SA                            0.000055   \n",
       "...                                              ...   \n",
       "99043411 2116 CCF_1                         0.002117   \n",
       "              CCF_2                         0.002007   \n",
       "              CCF_3                         0.002447   \n",
       "              CCF_4                         0.002640   \n",
       "              SA                            0.002750   \n",
       "\n",
       "                      Relative_Total_Recreation  Relative_Total_Scenic  \n",
       "id       year regime                                                    \n",
       "99011014 2021 SA                       0.000689               0.000711  \n",
       "         2026 SA                       0.000696               0.000729  \n",
       "         2031 SA                       0.000703               0.000747  \n",
       "         2036 SA                       0.000707               0.000765  \n",
       "         2041 SA                       0.000710               0.000783  \n",
       "...                                         ...                    ...  \n",
       "99043411 2116 CCF_1                    0.000551               0.000823  \n",
       "              CCF_2                    0.000538               0.000822  \n",
       "              CCF_3                    0.000574               0.000838  \n",
       "              CCF_4                    0.000647               0.000886  \n",
       "              SA                       0.000635               0.000905  \n",
       "\n",
       "[769400 rows x 81 columns]"
      ]
     },
     "execution_count": 40,
     "metadata": {},
     "output_type": "execute_result"
    }
   ],
   "source": [
    "mfo.data"
   ]
  },
  {
   "cell_type": "code",
   "execution_count": 41,
   "metadata": {
    "scrolled": false
   },
   "outputs": [
    {
     "data": {
      "text/plain": [
       "'Calculating objective ranges'"
      ]
     },
     "metadata": {},
     "output_type": "display_data"
    },
    {
     "name": "stdout",
     "output_type": "stream",
     "text": [
      "\r",
      "  0%|          | 0/10 [00:00<?, ?it/s]"
     ]
    },
    {
     "data": {
      "text/plain": [
       "'Optimizing for GLOBIOM, total Sawlogs (m3/year, u. bark)'"
      ]
     },
     "metadata": {},
     "output_type": "display_data"
    },
    {
     "data": {
      "text/plain": [
       "'Found an optimal solution in 1 seconds'"
      ]
     },
     "metadata": {},
     "output_type": "display_data"
    },
    {
     "data": {
      "text/plain": [
       "'Objective values are:'"
      ]
     },
     "metadata": {},
     "output_type": "display_data"
    },
    {
     "data": {
      "text/plain": [
       "'GLOBIOM, total Sawlogs (m3/year, u. bark)'"
      ]
     },
     "metadata": {},
     "output_type": "display_data"
    },
    {
     "data": {
      "text/plain": [
       "1.362537000643552"
      ]
     },
     "metadata": {},
     "output_type": "display_data"
    },
    {
     "data": {
      "text/plain": [
       "'GLOBIOM, total Pulpwood (m3/year, u. bark)'"
      ]
     },
     "metadata": {},
     "output_type": "display_data"
    },
    {
     "data": {
      "text/plain": [
       "-0.571933107106819"
      ]
     },
     "metadata": {},
     "output_type": "display_data"
    },
    {
     "data": {
      "text/plain": [
       "'GLOBIOM, total Biomass (m3/year)'"
      ]
     },
     "metadata": {},
     "output_type": "display_data"
    },
    {
     "data": {
      "text/plain": [
       "-0.8248955866033547"
      ]
     },
     "metadata": {},
     "output_type": "display_data"
    },
    {
     "data": {
      "text/plain": [
       "'Average harvested timber volume (log & pulp) (m3/ha, evenflow)'"
      ]
     },
     "metadata": {},
     "output_type": "display_data"
    },
    {
     "data": {
      "text/plain": [
       "3.5414379039919774"
      ]
     },
     "metadata": {},
     "output_type": "display_data"
    },
    {
     "data": {
      "text/plain": [
       "'Average harvested biomass volume (m3/ha, evenflow)'"
      ]
     },
     "metadata": {},
     "output_type": "display_data"
    },
    {
     "data": {
      "text/plain": [
       "0.06888987066459282"
      ]
     },
     "metadata": {},
     "output_type": "display_data"
    },
    {
     "data": {
      "text/plain": [
       "'Total Deadwood volume by 2050 (%, relative to 2016 values)'"
      ]
     },
     "metadata": {},
     "output_type": "display_data"
    },
    {
     "data": {
      "text/plain": [
       "1.0802776569177868"
      ]
     },
     "metadata": {},
     "output_type": "display_data"
    },
    {
     "data": {
      "text/plain": [
       "'Total No. of trees diameter >= 40 cm  by 2050 (%, relative to 2016 values)'"
      ]
     },
     "metadata": {},
     "output_type": "display_data"
    },
    {
     "data": {
      "text/plain": [
       "0.9845207803223072"
      ]
     },
     "metadata": {},
     "output_type": "display_data"
    },
    {
     "data": {
      "text/plain": [
       "'Total share of deciduous trees by 2050 (related to V) (%, relative to 2016 values)'"
      ]
     },
     "metadata": {},
     "output_type": "display_data"
    },
    {
     "data": {
      "text/plain": [
       "0.7784737007543354"
      ]
     },
     "metadata": {},
     "output_type": "display_data"
    },
    {
     "data": {
      "text/plain": [
       "'Total Recreation index (max minimum over all years)'"
      ]
     },
     "metadata": {},
     "output_type": "display_data"
    },
    {
     "data": {
      "text/plain": [
       "7060749.1443314105"
      ]
     },
     "metadata": {},
     "output_type": "display_data"
    },
    {
     "data": {
      "text/plain": [
       "'Total Scenic index (max minimum over all years)'"
      ]
     },
     "metadata": {},
     "output_type": "display_data"
    },
    {
     "data": {
      "text/plain": [
       "6490754.933517867"
      ]
     },
     "metadata": {},
     "output_type": "display_data"
    },
    {
     "name": "stdout",
     "output_type": "stream",
     "text": [
      "\r",
      " 10%|█         | 1/10 [00:05<00:47,  5.30s/it]"
     ]
    },
    {
     "data": {
      "text/plain": [
       "'Optimizing for GLOBIOM, total Pulpwood (m3/year, u. bark)'"
      ]
     },
     "metadata": {},
     "output_type": "display_data"
    },
    {
     "data": {
      "text/plain": [
       "'Found an optimal solution in 0 seconds'"
      ]
     },
     "metadata": {},
     "output_type": "display_data"
    },
    {
     "data": {
      "text/plain": [
       "'Objective values are:'"
      ]
     },
     "metadata": {},
     "output_type": "display_data"
    },
    {
     "data": {
      "text/plain": [
       "'GLOBIOM, total Sawlogs (m3/year, u. bark)'"
      ]
     },
     "metadata": {},
     "output_type": "display_data"
    },
    {
     "data": {
      "text/plain": [
       "-0.031237035724727025"
      ]
     },
     "metadata": {},
     "output_type": "display_data"
    },
    {
     "data": {
      "text/plain": [
       "'GLOBIOM, total Pulpwood (m3/year, u. bark)'"
      ]
     },
     "metadata": {},
     "output_type": "display_data"
    },
    {
     "data": {
      "text/plain": [
       "0.025786499518185364"
      ]
     },
     "metadata": {},
     "output_type": "display_data"
    },
    {
     "data": {
      "text/plain": [
       "'GLOBIOM, total Biomass (m3/year)'"
      ]
     },
     "metadata": {},
     "output_type": "display_data"
    },
    {
     "data": {
      "text/plain": [
       "-0.47427836782892896"
      ]
     },
     "metadata": {},
     "output_type": "display_data"
    },
    {
     "data": {
      "text/plain": [
       "'Average harvested timber volume (log & pulp) (m3/ha, evenflow)'"
      ]
     },
     "metadata": {},
     "output_type": "display_data"
    },
    {
     "data": {
      "text/plain": [
       "3.678140413849255"
      ]
     },
     "metadata": {},
     "output_type": "display_data"
    },
    {
     "data": {
      "text/plain": [
       "'Average harvested biomass volume (m3/ha, evenflow)'"
      ]
     },
     "metadata": {},
     "output_type": "display_data"
    },
    {
     "data": {
      "text/plain": [
       "0.2915930687534935"
      ]
     },
     "metadata": {},
     "output_type": "display_data"
    },
    {
     "data": {
      "text/plain": [
       "'Total Deadwood volume by 2050 (%, relative to 2016 values)'"
      ]
     },
     "metadata": {},
     "output_type": "display_data"
    },
    {
     "data": {
      "text/plain": [
       "0.7285512279907059"
      ]
     },
     "metadata": {},
     "output_type": "display_data"
    },
    {
     "data": {
      "text/plain": [
       "'Total No. of trees diameter >= 40 cm  by 2050 (%, relative to 2016 values)'"
      ]
     },
     "metadata": {},
     "output_type": "display_data"
    },
    {
     "data": {
      "text/plain": [
       "1.9030958439355385"
      ]
     },
     "metadata": {},
     "output_type": "display_data"
    },
    {
     "data": {
      "text/plain": [
       "'Total share of deciduous trees by 2050 (related to V) (%, relative to 2016 values)'"
      ]
     },
     "metadata": {},
     "output_type": "display_data"
    },
    {
     "data": {
      "text/plain": [
       "0.2986200224430404"
      ]
     },
     "metadata": {},
     "output_type": "display_data"
    },
    {
     "data": {
      "text/plain": [
       "'Total Recreation index (max minimum over all years)'"
      ]
     },
     "metadata": {},
     "output_type": "display_data"
    },
    {
     "data": {
      "text/plain": [
       "6415318.105113068"
      ]
     },
     "metadata": {},
     "output_type": "display_data"
    },
    {
     "data": {
      "text/plain": [
       "'Total Scenic index (max minimum over all years)'"
      ]
     },
     "metadata": {},
     "output_type": "display_data"
    },
    {
     "data": {
      "text/plain": [
       "5746735.572063065"
      ]
     },
     "metadata": {},
     "output_type": "display_data"
    },
    {
     "name": "stdout",
     "output_type": "stream",
     "text": [
      "\r",
      " 20%|██        | 2/10 [00:09<00:40,  5.07s/it]"
     ]
    },
    {
     "data": {
      "text/plain": [
       "'Optimizing for GLOBIOM, total Biomass (m3/year)'"
      ]
     },
     "metadata": {},
     "output_type": "display_data"
    },
    {
     "data": {
      "text/plain": [
       "'Found an optimal solution in 0 seconds'"
      ]
     },
     "metadata": {},
     "output_type": "display_data"
    },
    {
     "data": {
      "text/plain": [
       "'Objective values are:'"
      ]
     },
     "metadata": {},
     "output_type": "display_data"
    },
    {
     "data": {
      "text/plain": [
       "'GLOBIOM, total Sawlogs (m3/year, u. bark)'"
      ]
     },
     "metadata": {},
     "output_type": "display_data"
    },
    {
     "data": {
      "text/plain": [
       "0.1583140805711838"
      ]
     },
     "metadata": {},
     "output_type": "display_data"
    },
    {
     "data": {
      "text/plain": [
       "'GLOBIOM, total Pulpwood (m3/year, u. bark)'"
      ]
     },
     "metadata": {},
     "output_type": "display_data"
    },
    {
     "data": {
      "text/plain": [
       "-0.5604407257796142"
      ]
     },
     "metadata": {},
     "output_type": "display_data"
    },
    {
     "data": {
      "text/plain": [
       "'GLOBIOM, total Biomass (m3/year)'"
      ]
     },
     "metadata": {},
     "output_type": "display_data"
    },
    {
     "data": {
      "text/plain": [
       "0.3076849201792899"
      ]
     },
     "metadata": {},
     "output_type": "display_data"
    },
    {
     "data": {
      "text/plain": [
       "'Average harvested timber volume (log & pulp) (m3/ha, evenflow)'"
      ]
     },
     "metadata": {},
     "output_type": "display_data"
    },
    {
     "data": {
      "text/plain": [
       "2.3152050353928524"
      ]
     },
     "metadata": {},
     "output_type": "display_data"
    },
    {
     "data": {
      "text/plain": [
       "'Average harvested biomass volume (m3/ha, evenflow)'"
      ]
     },
     "metadata": {},
     "output_type": "display_data"
    },
    {
     "data": {
      "text/plain": [
       "0.36824110402622506"
      ]
     },
     "metadata": {},
     "output_type": "display_data"
    },
    {
     "data": {
      "text/plain": [
       "'Total Deadwood volume by 2050 (%, relative to 2016 values)'"
      ]
     },
     "metadata": {},
     "output_type": "display_data"
    },
    {
     "data": {
      "text/plain": [
       "1.2178275768440023"
      ]
     },
     "metadata": {},
     "output_type": "display_data"
    },
    {
     "data": {
      "text/plain": [
       "'Total No. of trees diameter >= 40 cm  by 2050 (%, relative to 2016 values)'"
      ]
     },
     "metadata": {},
     "output_type": "display_data"
    },
    {
     "data": {
      "text/plain": [
       "3.3447837150127233"
      ]
     },
     "metadata": {},
     "output_type": "display_data"
    },
    {
     "data": {
      "text/plain": [
       "'Total share of deciduous trees by 2050 (related to V) (%, relative to 2016 values)'"
      ]
     },
     "metadata": {},
     "output_type": "display_data"
    },
    {
     "data": {
      "text/plain": [
       "0.10319511846489958"
      ]
     },
     "metadata": {},
     "output_type": "display_data"
    },
    {
     "data": {
      "text/plain": [
       "'Total Recreation index (max minimum over all years)'"
      ]
     },
     "metadata": {},
     "output_type": "display_data"
    },
    {
     "data": {
      "text/plain": [
       "6854038.9822814455"
      ]
     },
     "metadata": {},
     "output_type": "display_data"
    },
    {
     "data": {
      "text/plain": [
       "'Total Scenic index (max minimum over all years)'"
      ]
     },
     "metadata": {},
     "output_type": "display_data"
    },
    {
     "data": {
      "text/plain": [
       "6205274.233099028"
      ]
     },
     "metadata": {},
     "output_type": "display_data"
    },
    {
     "name": "stdout",
     "output_type": "stream",
     "text": [
      "\r",
      " 30%|███       | 3/10 [00:14<00:33,  4.80s/it]"
     ]
    },
    {
     "data": {
      "text/plain": [
       "'Optimizing for Average harvested timber volume (log & pulp) (m3/ha, evenflow)'"
      ]
     },
     "metadata": {},
     "output_type": "display_data"
    },
    {
     "data": {
      "text/plain": [
       "'Found an optimal solution in 0 seconds'"
      ]
     },
     "metadata": {},
     "output_type": "display_data"
    },
    {
     "data": {
      "text/plain": [
       "'Objective values are:'"
      ]
     },
     "metadata": {},
     "output_type": "display_data"
    },
    {
     "data": {
      "text/plain": [
       "'GLOBIOM, total Sawlogs (m3/year, u. bark)'"
      ]
     },
     "metadata": {},
     "output_type": "display_data"
    },
    {
     "data": {
      "text/plain": [
       "0.7733941888732636"
      ]
     },
     "metadata": {},
     "output_type": "display_data"
    },
    {
     "data": {
      "text/plain": [
       "'GLOBIOM, total Pulpwood (m3/year, u. bark)'"
      ]
     },
     "metadata": {},
     "output_type": "display_data"
    },
    {
     "data": {
      "text/plain": [
       "-0.4485319554535424"
      ]
     },
     "metadata": {},
     "output_type": "display_data"
    },
    {
     "data": {
      "text/plain": [
       "'GLOBIOM, total Biomass (m3/year)'"
      ]
     },
     "metadata": {},
     "output_type": "display_data"
    },
    {
     "data": {
      "text/plain": [
       "-0.5228466016208673"
      ]
     },
     "metadata": {},
     "output_type": "display_data"
    },
    {
     "data": {
      "text/plain": [
       "'Average harvested timber volume (log & pulp) (m3/ha, evenflow)'"
      ]
     },
     "metadata": {},
     "output_type": "display_data"
    },
    {
     "data": {
      "text/plain": [
       "5.153204327374458"
      ]
     },
     "metadata": {},
     "output_type": "display_data"
    },
    {
     "data": {
      "text/plain": [
       "'Average harvested biomass volume (m3/ha, evenflow)'"
      ]
     },
     "metadata": {},
     "output_type": "display_data"
    },
    {
     "data": {
      "text/plain": [
       "0.2697866988702478"
      ]
     },
     "metadata": {},
     "output_type": "display_data"
    },
    {
     "data": {
      "text/plain": [
       "'Total Deadwood volume by 2050 (%, relative to 2016 values)'"
      ]
     },
     "metadata": {},
     "output_type": "display_data"
    },
    {
     "data": {
      "text/plain": [
       "0.8548514500298731"
      ]
     },
     "metadata": {},
     "output_type": "display_data"
    },
    {
     "data": {
      "text/plain": [
       "'Total No. of trees diameter >= 40 cm  by 2050 (%, relative to 2016 values)'"
      ]
     },
     "metadata": {},
     "output_type": "display_data"
    },
    {
     "data": {
      "text/plain": [
       "0.5831212892281596"
      ]
     },
     "metadata": {},
     "output_type": "display_data"
    },
    {
     "data": {
      "text/plain": [
       "'Total share of deciduous trees by 2050 (related to V) (%, relative to 2016 values)'"
      ]
     },
     "metadata": {},
     "output_type": "display_data"
    },
    {
     "data": {
      "text/plain": [
       "0.4720974826498292"
      ]
     },
     "metadata": {},
     "output_type": "display_data"
    },
    {
     "data": {
      "text/plain": [
       "'Total Recreation index (max minimum over all years)'"
      ]
     },
     "metadata": {},
     "output_type": "display_data"
    },
    {
     "data": {
      "text/plain": [
       "6752512.893602778"
      ]
     },
     "metadata": {},
     "output_type": "display_data"
    },
    {
     "data": {
      "text/plain": [
       "'Total Scenic index (max minimum over all years)'"
      ]
     },
     "metadata": {},
     "output_type": "display_data"
    },
    {
     "data": {
      "text/plain": [
       "6117077.43685122"
      ]
     },
     "metadata": {},
     "output_type": "display_data"
    },
    {
     "name": "stdout",
     "output_type": "stream",
     "text": [
      "\r",
      " 40%|████      | 4/10 [00:18<00:27,  4.57s/it]"
     ]
    },
    {
     "data": {
      "text/plain": [
       "'Optimizing for Average harvested biomass volume (m3/ha, evenflow)'"
      ]
     },
     "metadata": {},
     "output_type": "display_data"
    },
    {
     "data": {
      "text/plain": [
       "'Found an optimal solution in 0 seconds'"
      ]
     },
     "metadata": {},
     "output_type": "display_data"
    },
    {
     "data": {
      "text/plain": [
       "'Objective values are:'"
      ]
     },
     "metadata": {},
     "output_type": "display_data"
    },
    {
     "data": {
      "text/plain": [
       "'GLOBIOM, total Sawlogs (m3/year, u. bark)'"
      ]
     },
     "metadata": {},
     "output_type": "display_data"
    },
    {
     "data": {
      "text/plain": [
       "0.13259098417661797"
      ]
     },
     "metadata": {},
     "output_type": "display_data"
    },
    {
     "data": {
      "text/plain": [
       "'GLOBIOM, total Pulpwood (m3/year, u. bark)'"
      ]
     },
     "metadata": {},
     "output_type": "display_data"
    },
    {
     "data": {
      "text/plain": [
       "-0.5861259022431724"
      ]
     },
     "metadata": {},
     "output_type": "display_data"
    },
    {
     "data": {
      "text/plain": [
       "'GLOBIOM, total Biomass (m3/year)'"
      ]
     },
     "metadata": {},
     "output_type": "display_data"
    },
    {
     "data": {
      "text/plain": [
       "0.08529425003994817"
      ]
     },
     "metadata": {},
     "output_type": "display_data"
    },
    {
     "data": {
      "text/plain": [
       "'Average harvested timber volume (log & pulp) (m3/ha, evenflow)'"
      ]
     },
     "metadata": {},
     "output_type": "display_data"
    },
    {
     "data": {
      "text/plain": [
       "3.3807522357965905"
      ]
     },
     "metadata": {},
     "output_type": "display_data"
    },
    {
     "data": {
      "text/plain": [
       "'Average harvested biomass volume (m3/ha, evenflow)'"
      ]
     },
     "metadata": {},
     "output_type": "display_data"
    },
    {
     "data": {
      "text/plain": [
       "0.6683348035327452"
      ]
     },
     "metadata": {},
     "output_type": "display_data"
    },
    {
     "data": {
      "text/plain": [
       "'Total Deadwood volume by 2050 (%, relative to 2016 values)'"
      ]
     },
     "metadata": {},
     "output_type": "display_data"
    },
    {
     "data": {
      "text/plain": [
       "1.1706924507518572"
      ]
     },
     "metadata": {},
     "output_type": "display_data"
    },
    {
     "data": {
      "text/plain": [
       "'Total No. of trees diameter >= 40 cm  by 2050 (%, relative to 2016 values)'"
      ]
     },
     "metadata": {},
     "output_type": "display_data"
    },
    {
     "data": {
      "text/plain": [
       "0.3333333333333334"
      ]
     },
     "metadata": {},
     "output_type": "display_data"
    },
    {
     "data": {
      "text/plain": [
       "'Total share of deciduous trees by 2050 (related to V) (%, relative to 2016 values)'"
      ]
     },
     "metadata": {},
     "output_type": "display_data"
    },
    {
     "data": {
      "text/plain": [
       "0.08987359054095069"
      ]
     },
     "metadata": {},
     "output_type": "display_data"
    },
    {
     "data": {
      "text/plain": [
       "'Total Recreation index (max minimum over all years)'"
      ]
     },
     "metadata": {},
     "output_type": "display_data"
    },
    {
     "data": {
      "text/plain": [
       "6734729.643279576"
      ]
     },
     "metadata": {},
     "output_type": "display_data"
    },
    {
     "data": {
      "text/plain": [
       "'Total Scenic index (max minimum over all years)'"
      ]
     },
     "metadata": {},
     "output_type": "display_data"
    },
    {
     "data": {
      "text/plain": [
       "6080800.820732712"
      ]
     },
     "metadata": {},
     "output_type": "display_data"
    },
    {
     "name": "stdout",
     "output_type": "stream",
     "text": [
      "\r",
      " 50%|█████     | 5/10 [00:22<00:22,  4.43s/it]"
     ]
    },
    {
     "data": {
      "text/plain": [
       "'Optimizing for Total Deadwood volume by 2050 (%, relative to 2016 values)'"
      ]
     },
     "metadata": {},
     "output_type": "display_data"
    },
    {
     "data": {
      "text/plain": [
       "'Found an optimal solution in 1 seconds'"
      ]
     },
     "metadata": {},
     "output_type": "display_data"
    },
    {
     "data": {
      "text/plain": [
       "'Objective values are:'"
      ]
     },
     "metadata": {},
     "output_type": "display_data"
    },
    {
     "data": {
      "text/plain": [
       "'GLOBIOM, total Sawlogs (m3/year, u. bark)'"
      ]
     },
     "metadata": {},
     "output_type": "display_data"
    },
    {
     "data": {
      "text/plain": [
       "-1.0"
      ]
     },
     "metadata": {},
     "output_type": "display_data"
    },
    {
     "data": {
      "text/plain": [
       "'GLOBIOM, total Pulpwood (m3/year, u. bark)'"
      ]
     },
     "metadata": {},
     "output_type": "display_data"
    },
    {
     "data": {
      "text/plain": [
       "-1.0"
      ]
     },
     "metadata": {},
     "output_type": "display_data"
    },
    {
     "data": {
      "text/plain": [
       "'GLOBIOM, total Biomass (m3/year)'"
      ]
     },
     "metadata": {},
     "output_type": "display_data"
    },
    {
     "data": {
      "text/plain": [
       "-1.0"
      ]
     },
     "metadata": {},
     "output_type": "display_data"
    },
    {
     "data": {
      "text/plain": [
       "'Average harvested timber volume (log & pulp) (m3/ha, evenflow)'"
      ]
     },
     "metadata": {},
     "output_type": "display_data"
    },
    {
     "data": {
      "text/plain": [
       "0.0"
      ]
     },
     "metadata": {},
     "output_type": "display_data"
    },
    {
     "data": {
      "text/plain": [
       "'Average harvested biomass volume (m3/ha, evenflow)'"
      ]
     },
     "metadata": {},
     "output_type": "display_data"
    },
    {
     "data": {
      "text/plain": [
       "0.0"
      ]
     },
     "metadata": {},
     "output_type": "display_data"
    },
    {
     "data": {
      "text/plain": [
       "'Total Deadwood volume by 2050 (%, relative to 2016 values)'"
      ]
     },
     "metadata": {},
     "output_type": "display_data"
    },
    {
     "data": {
      "text/plain": [
       "4.720384770498175"
      ]
     },
     "metadata": {},
     "output_type": "display_data"
    },
    {
     "data": {
      "text/plain": [
       "'Total No. of trees diameter >= 40 cm  by 2050 (%, relative to 2016 values)'"
      ]
     },
     "metadata": {},
     "output_type": "display_data"
    },
    {
     "data": {
      "text/plain": [
       "6.171755725190841"
      ]
     },
     "metadata": {},
     "output_type": "display_data"
    },
    {
     "data": {
      "text/plain": [
       "'Total share of deciduous trees by 2050 (related to V) (%, relative to 2016 values)'"
      ]
     },
     "metadata": {},
     "output_type": "display_data"
    },
    {
     "data": {
      "text/plain": [
       "0.47829075810487737"
      ]
     },
     "metadata": {},
     "output_type": "display_data"
    },
    {
     "data": {
      "text/plain": [
       "'Total Recreation index (max minimum over all years)'"
      ]
     },
     "metadata": {},
     "output_type": "display_data"
    },
    {
     "data": {
      "text/plain": [
       "7468148.032000015"
      ]
     },
     "metadata": {},
     "output_type": "display_data"
    },
    {
     "data": {
      "text/plain": [
       "'Total Scenic index (max minimum over all years)'"
      ]
     },
     "metadata": {},
     "output_type": "display_data"
    },
    {
     "data": {
      "text/plain": [
       "6921648.154000009"
      ]
     },
     "metadata": {},
     "output_type": "display_data"
    },
    {
     "name": "stdout",
     "output_type": "stream",
     "text": [
      "\r",
      " 60%|██████    | 6/10 [00:26<00:17,  4.40s/it]"
     ]
    },
    {
     "data": {
      "text/plain": [
       "'Optimizing for Total No. of trees diameter >= 40 cm  by 2050 (%, relative to 2016 values)'"
      ]
     },
     "metadata": {},
     "output_type": "display_data"
    },
    {
     "data": {
      "text/plain": [
       "'Found an optimal solution in 0 seconds'"
      ]
     },
     "metadata": {},
     "output_type": "display_data"
    },
    {
     "data": {
      "text/plain": [
       "'Objective values are:'"
      ]
     },
     "metadata": {},
     "output_type": "display_data"
    },
    {
     "data": {
      "text/plain": [
       "'GLOBIOM, total Sawlogs (m3/year, u. bark)'"
      ]
     },
     "metadata": {},
     "output_type": "display_data"
    },
    {
     "data": {
      "text/plain": [
       "-0.5294121033300686"
      ]
     },
     "metadata": {},
     "output_type": "display_data"
    },
    {
     "data": {
      "text/plain": [
       "'GLOBIOM, total Pulpwood (m3/year, u. bark)'"
      ]
     },
     "metadata": {},
     "output_type": "display_data"
    },
    {
     "data": {
      "text/plain": [
       "-0.8658223709488482"
      ]
     },
     "metadata": {},
     "output_type": "display_data"
    },
    {
     "data": {
      "text/plain": [
       "'GLOBIOM, total Biomass (m3/year)'"
      ]
     },
     "metadata": {},
     "output_type": "display_data"
    },
    {
     "data": {
      "text/plain": [
       "-0.9964055089350004"
      ]
     },
     "metadata": {},
     "output_type": "display_data"
    },
    {
     "data": {
      "text/plain": [
       "'Average harvested timber volume (log & pulp) (m3/ha, evenflow)'"
      ]
     },
     "metadata": {},
     "output_type": "display_data"
    },
    {
     "data": {
      "text/plain": [
       "1.2677697037451088"
      ]
     },
     "metadata": {},
     "output_type": "display_data"
    },
    {
     "data": {
      "text/plain": [
       "'Average harvested biomass volume (m3/ha, evenflow)'"
      ]
     },
     "metadata": {},
     "output_type": "display_data"
    },
    {
     "data": {
      "text/plain": [
       "0.0020346562325321404"
      ]
     },
     "metadata": {},
     "output_type": "display_data"
    },
    {
     "data": {
      "text/plain": [
       "'Total Deadwood volume by 2050 (%, relative to 2016 values)'"
      ]
     },
     "metadata": {},
     "output_type": "display_data"
    },
    {
     "data": {
      "text/plain": [
       "1.4998808680234317"
      ]
     },
     "metadata": {},
     "output_type": "display_data"
    },
    {
     "data": {
      "text/plain": [
       "'Total No. of trees diameter >= 40 cm  by 2050 (%, relative to 2016 values)'"
      ]
     },
     "metadata": {},
     "output_type": "display_data"
    },
    {
     "data": {
      "text/plain": [
       "20.39588634435963"
      ]
     },
     "metadata": {},
     "output_type": "display_data"
    },
    {
     "data": {
      "text/plain": [
       "'Total share of deciduous trees by 2050 (related to V) (%, relative to 2016 values)'"
      ]
     },
     "metadata": {},
     "output_type": "display_data"
    },
    {
     "data": {
      "text/plain": [
       "1.0785950632899812"
      ]
     },
     "metadata": {},
     "output_type": "display_data"
    },
    {
     "data": {
      "text/plain": [
       "'Total Recreation index (max minimum over all years)'"
      ]
     },
     "metadata": {},
     "output_type": "display_data"
    },
    {
     "data": {
      "text/plain": [
       "6851637.9980000155"
      ]
     },
     "metadata": {},
     "output_type": "display_data"
    },
    {
     "data": {
      "text/plain": [
       "'Total Scenic index (max minimum over all years)'"
      ]
     },
     "metadata": {},
     "output_type": "display_data"
    },
    {
     "data": {
      "text/plain": [
       "6372434.383999997"
      ]
     },
     "metadata": {},
     "output_type": "display_data"
    },
    {
     "name": "stdout",
     "output_type": "stream",
     "text": [
      "\r",
      " 70%|███████   | 7/10 [00:30<00:12,  4.25s/it]"
     ]
    },
    {
     "data": {
      "text/plain": [
       "'Optimizing for Total share of deciduous trees by 2050 (related to V) (%, relative to 2016 values)'"
      ]
     },
     "metadata": {},
     "output_type": "display_data"
    },
    {
     "data": {
      "text/plain": [
       "'Found an optimal solution in 0 seconds'"
      ]
     },
     "metadata": {},
     "output_type": "display_data"
    },
    {
     "data": {
      "text/plain": [
       "'Objective values are:'"
      ]
     },
     "metadata": {},
     "output_type": "display_data"
    },
    {
     "data": {
      "text/plain": [
       "'GLOBIOM, total Sawlogs (m3/year, u. bark)'"
      ]
     },
     "metadata": {},
     "output_type": "display_data"
    },
    {
     "data": {
      "text/plain": [
       "-0.15044292867452402"
      ]
     },
     "metadata": {},
     "output_type": "display_data"
    },
    {
     "data": {
      "text/plain": [
       "'GLOBIOM, total Pulpwood (m3/year, u. bark)'"
      ]
     },
     "metadata": {},
     "output_type": "display_data"
    },
    {
     "data": {
      "text/plain": [
       "-0.699361959977717"
      ]
     },
     "metadata": {},
     "output_type": "display_data"
    },
    {
     "data": {
      "text/plain": [
       "'GLOBIOM, total Biomass (m3/year)'"
      ]
     },
     "metadata": {},
     "output_type": "display_data"
    },
    {
     "data": {
      "text/plain": [
       "-0.9517948628821696"
      ]
     },
     "metadata": {},
     "output_type": "display_data"
    },
    {
     "data": {
      "text/plain": [
       "'Average harvested timber volume (log & pulp) (m3/ha, evenflow)'"
      ]
     },
     "metadata": {},
     "output_type": "display_data"
    },
    {
     "data": {
      "text/plain": [
       "2.1196996842946887"
      ]
     },
     "metadata": {},
     "output_type": "display_data"
    },
    {
     "data": {
      "text/plain": [
       "'Average harvested biomass volume (m3/ha, evenflow)'"
      ]
     },
     "metadata": {},
     "output_type": "display_data"
    },
    {
     "data": {
      "text/plain": [
       "0.017238680827277808"
      ]
     },
     "metadata": {},
     "output_type": "display_data"
    },
    {
     "data": {
      "text/plain": [
       "'Total Deadwood volume by 2050 (%, relative to 2016 values)'"
      ]
     },
     "metadata": {},
     "output_type": "display_data"
    },
    {
     "data": {
      "text/plain": [
       "1.2253681239725307"
      ]
     },
     "metadata": {},
     "output_type": "display_data"
    },
    {
     "data": {
      "text/plain": [
       "'Total No. of trees diameter >= 40 cm  by 2050 (%, relative to 2016 values)'"
      ]
     },
     "metadata": {},
     "output_type": "display_data"
    },
    {
     "data": {
      "text/plain": [
       "3.9083969465648867"
      ]
     },
     "metadata": {},
     "output_type": "display_data"
    },
    {
     "data": {
      "text/plain": [
       "'Total share of deciduous trees by 2050 (related to V) (%, relative to 2016 values)'"
      ]
     },
     "metadata": {},
     "output_type": "display_data"
    },
    {
     "data": {
      "text/plain": [
       "1.4016673177073269"
      ]
     },
     "metadata": {},
     "output_type": "display_data"
    },
    {
     "data": {
      "text/plain": [
       "'Total Recreation index (max minimum over all years)'"
      ]
     },
     "metadata": {},
     "output_type": "display_data"
    },
    {
     "data": {
      "text/plain": [
       "6775262.46587858"
      ]
     },
     "metadata": {},
     "output_type": "display_data"
    },
    {
     "data": {
      "text/plain": [
       "'Total Scenic index (max minimum over all years)'"
      ]
     },
     "metadata": {},
     "output_type": "display_data"
    },
    {
     "data": {
      "text/plain": [
       "6268736.370098854"
      ]
     },
     "metadata": {},
     "output_type": "display_data"
    },
    {
     "name": "stdout",
     "output_type": "stream",
     "text": [
      "\r",
      " 80%|████████  | 8/10 [00:34<00:08,  4.30s/it]"
     ]
    },
    {
     "data": {
      "text/plain": [
       "'Optimizing for Total Recreation index (max minimum over all years)'"
      ]
     },
     "metadata": {},
     "output_type": "display_data"
    },
    {
     "data": {
      "text/plain": [
       "'Found an optimal solution in 1 seconds'"
      ]
     },
     "metadata": {},
     "output_type": "display_data"
    },
    {
     "data": {
      "text/plain": [
       "'Objective values are:'"
      ]
     },
     "metadata": {},
     "output_type": "display_data"
    },
    {
     "data": {
      "text/plain": [
       "'GLOBIOM, total Sawlogs (m3/year, u. bark)'"
      ]
     },
     "metadata": {},
     "output_type": "display_data"
    },
    {
     "data": {
      "text/plain": [
       "-0.7577898449089683"
      ]
     },
     "metadata": {},
     "output_type": "display_data"
    },
    {
     "data": {
      "text/plain": [
       "'GLOBIOM, total Pulpwood (m3/year, u. bark)'"
      ]
     },
     "metadata": {},
     "output_type": "display_data"
    },
    {
     "data": {
      "text/plain": [
       "-0.7530392051229926"
      ]
     },
     "metadata": {},
     "output_type": "display_data"
    },
    {
     "data": {
      "text/plain": [
       "'GLOBIOM, total Biomass (m3/year)'"
      ]
     },
     "metadata": {},
     "output_type": "display_data"
    },
    {
     "data": {
      "text/plain": [
       "-0.7248575018050541"
      ]
     },
     "metadata": {},
     "output_type": "display_data"
    },
    {
     "data": {
      "text/plain": [
       "'Average harvested timber volume (log & pulp) (m3/ha, evenflow)'"
      ]
     },
     "metadata": {},
     "output_type": "display_data"
    },
    {
     "data": {
      "text/plain": [
       "1.381117942984907"
      ]
     },
     "metadata": {},
     "output_type": "display_data"
    },
    {
     "data": {
      "text/plain": [
       "'Average harvested biomass volume (m3/ha, evenflow)'"
      ]
     },
     "metadata": {},
     "output_type": "display_data"
    },
    {
     "data": {
      "text/plain": [
       "0.08211850195640025"
      ]
     },
     "metadata": {},
     "output_type": "display_data"
    },
    {
     "data": {
      "text/plain": [
       "'Total Deadwood volume by 2050 (%, relative to 2016 values)'"
      ]
     },
     "metadata": {},
     "output_type": "display_data"
    },
    {
     "data": {
      "text/plain": [
       "3.172180353683614"
      ]
     },
     "metadata": {},
     "output_type": "display_data"
    },
    {
     "data": {
      "text/plain": [
       "'Total No. of trees diameter >= 40 cm  by 2050 (%, relative to 2016 values)'"
      ]
     },
     "metadata": {},
     "output_type": "display_data"
    },
    {
     "data": {
      "text/plain": [
       "11.091603053435117"
      ]
     },
     "metadata": {},
     "output_type": "display_data"
    },
    {
     "data": {
      "text/plain": [
       "'Total share of deciduous trees by 2050 (related to V) (%, relative to 2016 values)'"
      ]
     },
     "metadata": {},
     "output_type": "display_data"
    },
    {
     "data": {
      "text/plain": [
       "0.5243277223133976"
      ]
     },
     "metadata": {},
     "output_type": "display_data"
    },
    {
     "data": {
      "text/plain": [
       "'Total Recreation index (max minimum over all years)'"
      ]
     },
     "metadata": {},
     "output_type": "display_data"
    },
    {
     "data": {
      "text/plain": [
       "7599694.349055961"
      ]
     },
     "metadata": {},
     "output_type": "display_data"
    },
    {
     "data": {
      "text/plain": [
       "'Total Scenic index (max minimum over all years)'"
      ]
     },
     "metadata": {},
     "output_type": "display_data"
    },
    {
     "data": {
      "text/plain": [
       "6922196.674700716"
      ]
     },
     "metadata": {},
     "output_type": "display_data"
    },
    {
     "name": "stdout",
     "output_type": "stream",
     "text": [
      "\r",
      " 90%|█████████ | 9/10 [00:39<00:04,  4.51s/it]"
     ]
    },
    {
     "data": {
      "text/plain": [
       "'Optimizing for Total Scenic index (max minimum over all years)'"
      ]
     },
     "metadata": {},
     "output_type": "display_data"
    },
    {
     "data": {
      "text/plain": [
       "'Found an optimal solution in 0 seconds'"
      ]
     },
     "metadata": {},
     "output_type": "display_data"
    },
    {
     "data": {
      "text/plain": [
       "'Objective values are:'"
      ]
     },
     "metadata": {},
     "output_type": "display_data"
    },
    {
     "data": {
      "text/plain": [
       "'GLOBIOM, total Sawlogs (m3/year, u. bark)'"
      ]
     },
     "metadata": {},
     "output_type": "display_data"
    },
    {
     "data": {
      "text/plain": [
       "-0.8169031446403655"
      ]
     },
     "metadata": {},
     "output_type": "display_data"
    },
    {
     "data": {
      "text/plain": [
       "'GLOBIOM, total Pulpwood (m3/year, u. bark)'"
      ]
     },
     "metadata": {},
     "output_type": "display_data"
    },
    {
     "data": {
      "text/plain": [
       "-0.814086498547115"
      ]
     },
     "metadata": {},
     "output_type": "display_data"
    },
    {
     "data": {
      "text/plain": [
       "'GLOBIOM, total Biomass (m3/year)'"
      ]
     },
     "metadata": {},
     "output_type": "display_data"
    },
    {
     "data": {
      "text/plain": [
       "-0.7717584416365824"
      ]
     },
     "metadata": {},
     "output_type": "display_data"
    },
    {
     "data": {
      "text/plain": [
       "'Average harvested timber volume (log & pulp) (m3/ha, evenflow)'"
      ]
     },
     "metadata": {},
     "output_type": "display_data"
    },
    {
     "data": {
      "text/plain": [
       "1.1008044515817315"
      ]
     },
     "metadata": {},
     "output_type": "display_data"
    },
    {
     "data": {
      "text/plain": [
       "'Average harvested biomass volume (m3/ha, evenflow)'"
      ]
     },
     "metadata": {},
     "output_type": "display_data"
    },
    {
     "data": {
      "text/plain": [
       "0.08728339854667419"
      ]
     },
     "metadata": {},
     "output_type": "display_data"
    },
    {
     "data": {
      "text/plain": [
       "'Total Deadwood volume by 2050 (%, relative to 2016 values)'"
      ]
     },
     "metadata": {},
     "output_type": "display_data"
    },
    {
     "data": {
      "text/plain": [
       "3.4422622060704438"
      ]
     },
     "metadata": {},
     "output_type": "display_data"
    },
    {
     "data": {
      "text/plain": [
       "'Total No. of trees diameter >= 40 cm  by 2050 (%, relative to 2016 values)'"
      ]
     },
     "metadata": {},
     "output_type": "display_data"
    },
    {
     "data": {
      "text/plain": [
       "6.913273960983886"
      ]
     },
     "metadata": {},
     "output_type": "display_data"
    },
    {
     "data": {
      "text/plain": [
       "'Total share of deciduous trees by 2050 (related to V) (%, relative to 2016 values)'"
      ]
     },
     "metadata": {},
     "output_type": "display_data"
    },
    {
     "data": {
      "text/plain": [
       "0.6053565045233318"
      ]
     },
     "metadata": {},
     "output_type": "display_data"
    },
    {
     "data": {
      "text/plain": [
       "'Total Recreation index (max minimum over all years)'"
      ]
     },
     "metadata": {},
     "output_type": "display_data"
    },
    {
     "data": {
      "text/plain": [
       "7560863.194247515"
      ]
     },
     "metadata": {},
     "output_type": "display_data"
    },
    {
     "data": {
      "text/plain": [
       "'Total Scenic index (max minimum over all years)'"
      ]
     },
     "metadata": {},
     "output_type": "display_data"
    },
    {
     "data": {
      "text/plain": [
       "6987017.443732449"
      ]
     },
     "metadata": {},
     "output_type": "display_data"
    },
    {
     "name": "stdout",
     "output_type": "stream",
     "text": [
      "100%|██████████| 10/10 [00:44<00:00,  4.43s/it]\n",
      "CPU times: user 45.3 s, sys: 21.7 s, total: 1min 7s\n",
      "Wall time: 44.3 s\n"
     ]
    }
   ],
   "source": [
    "%%time\n",
    "mfo.calculateObjectiveRanges(debug=True)"
   ]
  },
  {
   "cell_type": "code",
   "execution_count": 42,
   "metadata": {},
   "outputs": [
    {
     "data": {
      "text/plain": [
       "{'Total_Harvested_V_log_GLOBIOM': (-1.0, 1.362537000643552),\n",
       " 'Total_Harvested_V_pulp_GLOBIOM': (-1.0, 0.025786499518185364),\n",
       " 'Total_Biomass_GLOBIOM': (-1.0, 0.3076849201792899),\n",
       " 'Average_Harvested_V': (0.0, 5.153204327374458),\n",
       " 'Biomass_Evenflow': (0.0, 0.6683348035327452),\n",
       " 'relative_Amount_Deadwood_2050': (0.7285512279907059, 4.720384770498175),\n",
       " 'relative_N_where_D_gt_40_2050': (0.3333333333333334, 20.39588634435963),\n",
       " 'relative_prc_V_deciduous_2050': (0.08987359054095069, 1.4016673177073269),\n",
       " 'Sum_Total_Recreation': (6415318.105113068, 7599694.349055961),\n",
       " 'Sum_Total_Scenic': (5746735.572063065, 6987017.443732449)}"
      ]
     },
     "execution_count": 42,
     "metadata": {},
     "output_type": "execute_result"
    }
   ],
   "source": [
    "mfo.objectiveRanges"
   ]
  },
  {
   "cell_type": "markdown",
   "metadata": {},
   "source": [
    "## Show GUI"
   ]
  },
  {
   "cell_type": "markdown",
   "metadata": {},
   "source": [
    "* If \"Enabled constraints\" should be considered, start with ticking box \"only CCF ...\" and push \"Change constraints\"\n",
    "* Epsilon constraints are only considered if sliders are moved and button \"Set epsilon constraints\" is pushed\n",
    "* By pushing \"OPTIMIZE\" an optimal solution under the given constraints and reference points is searched\n",
    "\n",
    "<b>SEE example figure below for scenario BES and Bottom-up.</b>"
   ]
  },
  {
   "cell_type": "markdown",
   "metadata": {},
   "source": [
    "![image](./crossscaleGUI_FIN.PNG)"
   ]
  },
  {
   "cell_type": "code",
   "execution_count": 43,
   "metadata": {
    "scrolled": false
   },
   "outputs": [
    {
     "data": {
      "text/html": [
       "<style>\n",
       "            .widget-label { min-width: 60% !important; }\n",
       "        </style>"
      ],
      "text/plain": [
       "<IPython.core.display.HTML object>"
      ]
     },
     "metadata": {},
     "output_type": "display_data"
    },
    {
     "data": {
      "text/html": [
       "<h2>Epsilon constraint values</h2>"
      ],
      "text/plain": [
       "<IPython.core.display.HTML object>"
      ]
     },
     "metadata": {},
     "output_type": "display_data"
    },
    {
     "data": {
      "application/vnd.jupyter.widget-view+json": {
       "model_id": "14fec0c087c34d01bd34aa1453935f05",
       "version_major": 2,
       "version_minor": 0
      },
      "text/plain": [
       "interactive(children=(FloatSlider(value=-1.0, description='GLOBIOM, total Sawlogs (m3/year, u. bark)', layout=…"
      ]
     },
     "metadata": {},
     "output_type": "display_data"
    },
    {
     "data": {
      "text/html": [
       "<h2>Reference point</h2>"
      ],
      "text/plain": [
       "<IPython.core.display.HTML object>"
      ]
     },
     "metadata": {},
     "output_type": "display_data"
    },
    {
     "data": {
      "application/vnd.jupyter.widget-view+json": {
       "model_id": "bddf77d4647a4090a11745de69b290b8",
       "version_major": 2,
       "version_minor": 0
      },
      "text/plain": [
       "interactive(children=(FloatSlider(value=0.181268500321776, description='GLOBIOM, total Sawlogs (m3/year, u. ba…"
      ]
     },
     "metadata": {},
     "output_type": "display_data"
    },
    {
     "data": {
      "text/html": [
       "<h2>Enabled constraints</h2>"
      ],
      "text/plain": [
       "<IPython.core.display.HTML object>"
      ]
     },
     "metadata": {},
     "output_type": "display_data"
    },
    {
     "data": {
      "application/vnd.jupyter.widget-view+json": {
       "model_id": "7cb4f86c100a4c7cad1eb9f42cf99a00",
       "version_major": 2,
       "version_minor": 0
      },
      "text/plain": [
       "interactive(children=(Checkbox(value=False, description='Only CCF on peat lands'), Button(description='Change …"
      ]
     },
     "metadata": {},
     "output_type": "display_data"
    },
    {
     "data": {
      "application/vnd.jupyter.widget-view+json": {
       "model_id": "5397ce66a695442cbe209776b4aa09fc",
       "version_major": 2,
       "version_minor": 0
      },
      "text/plain": [
       "Button(description='Print solution', style=ButtonStyle())"
      ]
     },
     "metadata": {},
     "output_type": "display_data"
    }
   ],
   "source": [
    "mfo.showGUI (debug=True)"
   ]
  },
  {
   "cell_type": "markdown",
   "metadata": {},
   "source": [
    "## Visualization of optimal solution"
   ]
  },
  {
   "cell_type": "code",
   "execution_count": 44,
   "metadata": {},
   "outputs": [],
   "source": [
    "regimeAmounts = {regime:0 for regime in mfo.regimes}\n",
    "for key in mfo.regimesDecision.keys():\n",
    "    regimeAmounts[key[1]] +=mfo.regimesDecision[key].solution_value()*mfo.standAreas.loc[key[0],\"represented_area_by_NFIplot\"]/mfo.standAreas[\"represented_area_by_NFIplot\"].sum()"
   ]
  },
  {
   "cell_type": "code",
   "execution_count": 53,
   "metadata": {},
   "outputs": [
    {
     "name": "stdout",
     "output_type": "stream",
     "text": [
      "Populating the interactive namespace from numpy and matplotlib\n"
     ]
    }
   ],
   "source": [
    "%pylab notebook"
   ]
  },
  {
   "cell_type": "code",
   "execution_count": 46,
   "metadata": {},
   "outputs": [],
   "source": [
    "# [val for val in regimeAmounts.values()]"
   ]
  },
  {
   "cell_type": "code",
   "execution_count": 47,
   "metadata": {},
   "outputs": [
    {
     "data": {
      "application/javascript": [
       "/* Put everything inside the global mpl namespace */\n",
       "window.mpl = {};\n",
       "\n",
       "\n",
       "mpl.get_websocket_type = function() {\n",
       "    if (typeof(WebSocket) !== 'undefined') {\n",
       "        return WebSocket;\n",
       "    } else if (typeof(MozWebSocket) !== 'undefined') {\n",
       "        return MozWebSocket;\n",
       "    } else {\n",
       "        alert('Your browser does not have WebSocket support. ' +\n",
       "              'Please try Chrome, Safari or Firefox ≥ 6. ' +\n",
       "              'Firefox 4 and 5 are also supported but you ' +\n",
       "              'have to enable WebSockets in about:config.');\n",
       "    };\n",
       "}\n",
       "\n",
       "mpl.figure = function(figure_id, websocket, ondownload, parent_element) {\n",
       "    this.id = figure_id;\n",
       "\n",
       "    this.ws = websocket;\n",
       "\n",
       "    this.supports_binary = (this.ws.binaryType != undefined);\n",
       "\n",
       "    if (!this.supports_binary) {\n",
       "        var warnings = document.getElementById(\"mpl-warnings\");\n",
       "        if (warnings) {\n",
       "            warnings.style.display = 'block';\n",
       "            warnings.textContent = (\n",
       "                \"This browser does not support binary websocket messages. \" +\n",
       "                    \"Performance may be slow.\");\n",
       "        }\n",
       "    }\n",
       "\n",
       "    this.imageObj = new Image();\n",
       "\n",
       "    this.context = undefined;\n",
       "    this.message = undefined;\n",
       "    this.canvas = undefined;\n",
       "    this.rubberband_canvas = undefined;\n",
       "    this.rubberband_context = undefined;\n",
       "    this.format_dropdown = undefined;\n",
       "\n",
       "    this.image_mode = 'full';\n",
       "\n",
       "    this.root = $('<div/>');\n",
       "    this._root_extra_style(this.root)\n",
       "    this.root.attr('style', 'display: inline-block');\n",
       "\n",
       "    $(parent_element).append(this.root);\n",
       "\n",
       "    this._init_header(this);\n",
       "    this._init_canvas(this);\n",
       "    this._init_toolbar(this);\n",
       "\n",
       "    var fig = this;\n",
       "\n",
       "    this.waiting = false;\n",
       "\n",
       "    this.ws.onopen =  function () {\n",
       "            fig.send_message(\"supports_binary\", {value: fig.supports_binary});\n",
       "            fig.send_message(\"send_image_mode\", {});\n",
       "            if (mpl.ratio != 1) {\n",
       "                fig.send_message(\"set_dpi_ratio\", {'dpi_ratio': mpl.ratio});\n",
       "            }\n",
       "            fig.send_message(\"refresh\", {});\n",
       "        }\n",
       "\n",
       "    this.imageObj.onload = function() {\n",
       "            if (fig.image_mode == 'full') {\n",
       "                // Full images could contain transparency (where diff images\n",
       "                // almost always do), so we need to clear the canvas so that\n",
       "                // there is no ghosting.\n",
       "                fig.context.clearRect(0, 0, fig.canvas.width, fig.canvas.height);\n",
       "            }\n",
       "            fig.context.drawImage(fig.imageObj, 0, 0);\n",
       "        };\n",
       "\n",
       "    this.imageObj.onunload = function() {\n",
       "        fig.ws.close();\n",
       "    }\n",
       "\n",
       "    this.ws.onmessage = this._make_on_message_function(this);\n",
       "\n",
       "    this.ondownload = ondownload;\n",
       "}\n",
       "\n",
       "mpl.figure.prototype._init_header = function() {\n",
       "    var titlebar = $(\n",
       "        '<div class=\"ui-dialog-titlebar ui-widget-header ui-corner-all ' +\n",
       "        'ui-helper-clearfix\"/>');\n",
       "    var titletext = $(\n",
       "        '<div class=\"ui-dialog-title\" style=\"width: 100%; ' +\n",
       "        'text-align: center; padding: 3px;\"/>');\n",
       "    titlebar.append(titletext)\n",
       "    this.root.append(titlebar);\n",
       "    this.header = titletext[0];\n",
       "}\n",
       "\n",
       "\n",
       "\n",
       "mpl.figure.prototype._canvas_extra_style = function(canvas_div) {\n",
       "\n",
       "}\n",
       "\n",
       "\n",
       "mpl.figure.prototype._root_extra_style = function(canvas_div) {\n",
       "\n",
       "}\n",
       "\n",
       "mpl.figure.prototype._init_canvas = function() {\n",
       "    var fig = this;\n",
       "\n",
       "    var canvas_div = $('<div/>');\n",
       "\n",
       "    canvas_div.attr('style', 'position: relative; clear: both; outline: 0');\n",
       "\n",
       "    function canvas_keyboard_event(event) {\n",
       "        return fig.key_event(event, event['data']);\n",
       "    }\n",
       "\n",
       "    canvas_div.keydown('key_press', canvas_keyboard_event);\n",
       "    canvas_div.keyup('key_release', canvas_keyboard_event);\n",
       "    this.canvas_div = canvas_div\n",
       "    this._canvas_extra_style(canvas_div)\n",
       "    this.root.append(canvas_div);\n",
       "\n",
       "    var canvas = $('<canvas/>');\n",
       "    canvas.addClass('mpl-canvas');\n",
       "    canvas.attr('style', \"left: 0; top: 0; z-index: 0; outline: 0\")\n",
       "\n",
       "    this.canvas = canvas[0];\n",
       "    this.context = canvas[0].getContext(\"2d\");\n",
       "\n",
       "    var backingStore = this.context.backingStorePixelRatio ||\n",
       "\tthis.context.webkitBackingStorePixelRatio ||\n",
       "\tthis.context.mozBackingStorePixelRatio ||\n",
       "\tthis.context.msBackingStorePixelRatio ||\n",
       "\tthis.context.oBackingStorePixelRatio ||\n",
       "\tthis.context.backingStorePixelRatio || 1;\n",
       "\n",
       "    mpl.ratio = (window.devicePixelRatio || 1) / backingStore;\n",
       "\n",
       "    var rubberband = $('<canvas/>');\n",
       "    rubberband.attr('style', \"position: absolute; left: 0; top: 0; z-index: 1;\")\n",
       "\n",
       "    var pass_mouse_events = true;\n",
       "\n",
       "    canvas_div.resizable({\n",
       "        start: function(event, ui) {\n",
       "            pass_mouse_events = false;\n",
       "        },\n",
       "        resize: function(event, ui) {\n",
       "            fig.request_resize(ui.size.width, ui.size.height);\n",
       "        },\n",
       "        stop: function(event, ui) {\n",
       "            pass_mouse_events = true;\n",
       "            fig.request_resize(ui.size.width, ui.size.height);\n",
       "        },\n",
       "    });\n",
       "\n",
       "    function mouse_event_fn(event) {\n",
       "        if (pass_mouse_events)\n",
       "            return fig.mouse_event(event, event['data']);\n",
       "    }\n",
       "\n",
       "    rubberband.mousedown('button_press', mouse_event_fn);\n",
       "    rubberband.mouseup('button_release', mouse_event_fn);\n",
       "    // Throttle sequential mouse events to 1 every 20ms.\n",
       "    rubberband.mousemove('motion_notify', mouse_event_fn);\n",
       "\n",
       "    rubberband.mouseenter('figure_enter', mouse_event_fn);\n",
       "    rubberband.mouseleave('figure_leave', mouse_event_fn);\n",
       "\n",
       "    canvas_div.on(\"wheel\", function (event) {\n",
       "        event = event.originalEvent;\n",
       "        event['data'] = 'scroll'\n",
       "        if (event.deltaY < 0) {\n",
       "            event.step = 1;\n",
       "        } else {\n",
       "            event.step = -1;\n",
       "        }\n",
       "        mouse_event_fn(event);\n",
       "    });\n",
       "\n",
       "    canvas_div.append(canvas);\n",
       "    canvas_div.append(rubberband);\n",
       "\n",
       "    this.rubberband = rubberband;\n",
       "    this.rubberband_canvas = rubberband[0];\n",
       "    this.rubberband_context = rubberband[0].getContext(\"2d\");\n",
       "    this.rubberband_context.strokeStyle = \"#000000\";\n",
       "\n",
       "    this._resize_canvas = function(width, height) {\n",
       "        // Keep the size of the canvas, canvas container, and rubber band\n",
       "        // canvas in synch.\n",
       "        canvas_div.css('width', width)\n",
       "        canvas_div.css('height', height)\n",
       "\n",
       "        canvas.attr('width', width * mpl.ratio);\n",
       "        canvas.attr('height', height * mpl.ratio);\n",
       "        canvas.attr('style', 'width: ' + width + 'px; height: ' + height + 'px;');\n",
       "\n",
       "        rubberband.attr('width', width);\n",
       "        rubberband.attr('height', height);\n",
       "    }\n",
       "\n",
       "    // Set the figure to an initial 600x600px, this will subsequently be updated\n",
       "    // upon first draw.\n",
       "    this._resize_canvas(600, 600);\n",
       "\n",
       "    // Disable right mouse context menu.\n",
       "    $(this.rubberband_canvas).bind(\"contextmenu\",function(e){\n",
       "        return false;\n",
       "    });\n",
       "\n",
       "    function set_focus () {\n",
       "        canvas.focus();\n",
       "        canvas_div.focus();\n",
       "    }\n",
       "\n",
       "    window.setTimeout(set_focus, 100);\n",
       "}\n",
       "\n",
       "mpl.figure.prototype._init_toolbar = function() {\n",
       "    var fig = this;\n",
       "\n",
       "    var nav_element = $('<div/>');\n",
       "    nav_element.attr('style', 'width: 100%');\n",
       "    this.root.append(nav_element);\n",
       "\n",
       "    // Define a callback function for later on.\n",
       "    function toolbar_event(event) {\n",
       "        return fig.toolbar_button_onclick(event['data']);\n",
       "    }\n",
       "    function toolbar_mouse_event(event) {\n",
       "        return fig.toolbar_button_onmouseover(event['data']);\n",
       "    }\n",
       "\n",
       "    for(var toolbar_ind in mpl.toolbar_items) {\n",
       "        var name = mpl.toolbar_items[toolbar_ind][0];\n",
       "        var tooltip = mpl.toolbar_items[toolbar_ind][1];\n",
       "        var image = mpl.toolbar_items[toolbar_ind][2];\n",
       "        var method_name = mpl.toolbar_items[toolbar_ind][3];\n",
       "\n",
       "        if (!name) {\n",
       "            // put a spacer in here.\n",
       "            continue;\n",
       "        }\n",
       "        var button = $('<button/>');\n",
       "        button.addClass('ui-button ui-widget ui-state-default ui-corner-all ' +\n",
       "                        'ui-button-icon-only');\n",
       "        button.attr('role', 'button');\n",
       "        button.attr('aria-disabled', 'false');\n",
       "        button.click(method_name, toolbar_event);\n",
       "        button.mouseover(tooltip, toolbar_mouse_event);\n",
       "\n",
       "        var icon_img = $('<span/>');\n",
       "        icon_img.addClass('ui-button-icon-primary ui-icon');\n",
       "        icon_img.addClass(image);\n",
       "        icon_img.addClass('ui-corner-all');\n",
       "\n",
       "        var tooltip_span = $('<span/>');\n",
       "        tooltip_span.addClass('ui-button-text');\n",
       "        tooltip_span.html(tooltip);\n",
       "\n",
       "        button.append(icon_img);\n",
       "        button.append(tooltip_span);\n",
       "\n",
       "        nav_element.append(button);\n",
       "    }\n",
       "\n",
       "    var fmt_picker_span = $('<span/>');\n",
       "\n",
       "    var fmt_picker = $('<select/>');\n",
       "    fmt_picker.addClass('mpl-toolbar-option ui-widget ui-widget-content');\n",
       "    fmt_picker_span.append(fmt_picker);\n",
       "    nav_element.append(fmt_picker_span);\n",
       "    this.format_dropdown = fmt_picker[0];\n",
       "\n",
       "    for (var ind in mpl.extensions) {\n",
       "        var fmt = mpl.extensions[ind];\n",
       "        var option = $(\n",
       "            '<option/>', {selected: fmt === mpl.default_extension}).html(fmt);\n",
       "        fmt_picker.append(option);\n",
       "    }\n",
       "\n",
       "    // Add hover states to the ui-buttons\n",
       "    $( \".ui-button\" ).hover(\n",
       "        function() { $(this).addClass(\"ui-state-hover\");},\n",
       "        function() { $(this).removeClass(\"ui-state-hover\");}\n",
       "    );\n",
       "\n",
       "    var status_bar = $('<span class=\"mpl-message\"/>');\n",
       "    nav_element.append(status_bar);\n",
       "    this.message = status_bar[0];\n",
       "}\n",
       "\n",
       "mpl.figure.prototype.request_resize = function(x_pixels, y_pixels) {\n",
       "    // Request matplotlib to resize the figure. Matplotlib will then trigger a resize in the client,\n",
       "    // which will in turn request a refresh of the image.\n",
       "    this.send_message('resize', {'width': x_pixels, 'height': y_pixels});\n",
       "}\n",
       "\n",
       "mpl.figure.prototype.send_message = function(type, properties) {\n",
       "    properties['type'] = type;\n",
       "    properties['figure_id'] = this.id;\n",
       "    this.ws.send(JSON.stringify(properties));\n",
       "}\n",
       "\n",
       "mpl.figure.prototype.send_draw_message = function() {\n",
       "    if (!this.waiting) {\n",
       "        this.waiting = true;\n",
       "        this.ws.send(JSON.stringify({type: \"draw\", figure_id: this.id}));\n",
       "    }\n",
       "}\n",
       "\n",
       "\n",
       "mpl.figure.prototype.handle_save = function(fig, msg) {\n",
       "    var format_dropdown = fig.format_dropdown;\n",
       "    var format = format_dropdown.options[format_dropdown.selectedIndex].value;\n",
       "    fig.ondownload(fig, format);\n",
       "}\n",
       "\n",
       "\n",
       "mpl.figure.prototype.handle_resize = function(fig, msg) {\n",
       "    var size = msg['size'];\n",
       "    if (size[0] != fig.canvas.width || size[1] != fig.canvas.height) {\n",
       "        fig._resize_canvas(size[0], size[1]);\n",
       "        fig.send_message(\"refresh\", {});\n",
       "    };\n",
       "}\n",
       "\n",
       "mpl.figure.prototype.handle_rubberband = function(fig, msg) {\n",
       "    var x0 = msg['x0'] / mpl.ratio;\n",
       "    var y0 = (fig.canvas.height - msg['y0']) / mpl.ratio;\n",
       "    var x1 = msg['x1'] / mpl.ratio;\n",
       "    var y1 = (fig.canvas.height - msg['y1']) / mpl.ratio;\n",
       "    x0 = Math.floor(x0) + 0.5;\n",
       "    y0 = Math.floor(y0) + 0.5;\n",
       "    x1 = Math.floor(x1) + 0.5;\n",
       "    y1 = Math.floor(y1) + 0.5;\n",
       "    var min_x = Math.min(x0, x1);\n",
       "    var min_y = Math.min(y0, y1);\n",
       "    var width = Math.abs(x1 - x0);\n",
       "    var height = Math.abs(y1 - y0);\n",
       "\n",
       "    fig.rubberband_context.clearRect(\n",
       "        0, 0, fig.canvas.width / mpl.ratio, fig.canvas.height / mpl.ratio);\n",
       "\n",
       "    fig.rubberband_context.strokeRect(min_x, min_y, width, height);\n",
       "}\n",
       "\n",
       "mpl.figure.prototype.handle_figure_label = function(fig, msg) {\n",
       "    // Updates the figure title.\n",
       "    fig.header.textContent = msg['label'];\n",
       "}\n",
       "\n",
       "mpl.figure.prototype.handle_cursor = function(fig, msg) {\n",
       "    var cursor = msg['cursor'];\n",
       "    switch(cursor)\n",
       "    {\n",
       "    case 0:\n",
       "        cursor = 'pointer';\n",
       "        break;\n",
       "    case 1:\n",
       "        cursor = 'default';\n",
       "        break;\n",
       "    case 2:\n",
       "        cursor = 'crosshair';\n",
       "        break;\n",
       "    case 3:\n",
       "        cursor = 'move';\n",
       "        break;\n",
       "    }\n",
       "    fig.rubberband_canvas.style.cursor = cursor;\n",
       "}\n",
       "\n",
       "mpl.figure.prototype.handle_message = function(fig, msg) {\n",
       "    fig.message.textContent = msg['message'];\n",
       "}\n",
       "\n",
       "mpl.figure.prototype.handle_draw = function(fig, msg) {\n",
       "    // Request the server to send over a new figure.\n",
       "    fig.send_draw_message();\n",
       "}\n",
       "\n",
       "mpl.figure.prototype.handle_image_mode = function(fig, msg) {\n",
       "    fig.image_mode = msg['mode'];\n",
       "}\n",
       "\n",
       "mpl.figure.prototype.updated_canvas_event = function() {\n",
       "    // Called whenever the canvas gets updated.\n",
       "    this.send_message(\"ack\", {});\n",
       "}\n",
       "\n",
       "// A function to construct a web socket function for onmessage handling.\n",
       "// Called in the figure constructor.\n",
       "mpl.figure.prototype._make_on_message_function = function(fig) {\n",
       "    return function socket_on_message(evt) {\n",
       "        if (evt.data instanceof Blob) {\n",
       "            /* FIXME: We get \"Resource interpreted as Image but\n",
       "             * transferred with MIME type text/plain:\" errors on\n",
       "             * Chrome.  But how to set the MIME type?  It doesn't seem\n",
       "             * to be part of the websocket stream */\n",
       "            evt.data.type = \"image/png\";\n",
       "\n",
       "            /* Free the memory for the previous frames */\n",
       "            if (fig.imageObj.src) {\n",
       "                (window.URL || window.webkitURL).revokeObjectURL(\n",
       "                    fig.imageObj.src);\n",
       "            }\n",
       "\n",
       "            fig.imageObj.src = (window.URL || window.webkitURL).createObjectURL(\n",
       "                evt.data);\n",
       "            fig.updated_canvas_event();\n",
       "            fig.waiting = false;\n",
       "            return;\n",
       "        }\n",
       "        else if (typeof evt.data === 'string' && evt.data.slice(0, 21) == \"data:image/png;base64\") {\n",
       "            fig.imageObj.src = evt.data;\n",
       "            fig.updated_canvas_event();\n",
       "            fig.waiting = false;\n",
       "            return;\n",
       "        }\n",
       "\n",
       "        var msg = JSON.parse(evt.data);\n",
       "        var msg_type = msg['type'];\n",
       "\n",
       "        // Call the  \"handle_{type}\" callback, which takes\n",
       "        // the figure and JSON message as its only arguments.\n",
       "        try {\n",
       "            var callback = fig[\"handle_\" + msg_type];\n",
       "        } catch (e) {\n",
       "            console.log(\"No handler for the '\" + msg_type + \"' message type: \", msg);\n",
       "            return;\n",
       "        }\n",
       "\n",
       "        if (callback) {\n",
       "            try {\n",
       "                // console.log(\"Handling '\" + msg_type + \"' message: \", msg);\n",
       "                callback(fig, msg);\n",
       "            } catch (e) {\n",
       "                console.log(\"Exception inside the 'handler_\" + msg_type + \"' callback:\", e, e.stack, msg);\n",
       "            }\n",
       "        }\n",
       "    };\n",
       "}\n",
       "\n",
       "// from http://stackoverflow.com/questions/1114465/getting-mouse-location-in-canvas\n",
       "mpl.findpos = function(e) {\n",
       "    //this section is from http://www.quirksmode.org/js/events_properties.html\n",
       "    var targ;\n",
       "    if (!e)\n",
       "        e = window.event;\n",
       "    if (e.target)\n",
       "        targ = e.target;\n",
       "    else if (e.srcElement)\n",
       "        targ = e.srcElement;\n",
       "    if (targ.nodeType == 3) // defeat Safari bug\n",
       "        targ = targ.parentNode;\n",
       "\n",
       "    // jQuery normalizes the pageX and pageY\n",
       "    // pageX,Y are the mouse positions relative to the document\n",
       "    // offset() returns the position of the element relative to the document\n",
       "    var x = e.pageX - $(targ).offset().left;\n",
       "    var y = e.pageY - $(targ).offset().top;\n",
       "\n",
       "    return {\"x\": x, \"y\": y};\n",
       "};\n",
       "\n",
       "/*\n",
       " * return a copy of an object with only non-object keys\n",
       " * we need this to avoid circular references\n",
       " * http://stackoverflow.com/a/24161582/3208463\n",
       " */\n",
       "function simpleKeys (original) {\n",
       "  return Object.keys(original).reduce(function (obj, key) {\n",
       "    if (typeof original[key] !== 'object')\n",
       "        obj[key] = original[key]\n",
       "    return obj;\n",
       "  }, {});\n",
       "}\n",
       "\n",
       "mpl.figure.prototype.mouse_event = function(event, name) {\n",
       "    var canvas_pos = mpl.findpos(event)\n",
       "\n",
       "    if (name === 'button_press')\n",
       "    {\n",
       "        this.canvas.focus();\n",
       "        this.canvas_div.focus();\n",
       "    }\n",
       "\n",
       "    var x = canvas_pos.x * mpl.ratio;\n",
       "    var y = canvas_pos.y * mpl.ratio;\n",
       "\n",
       "    this.send_message(name, {x: x, y: y, button: event.button,\n",
       "                             step: event.step,\n",
       "                             guiEvent: simpleKeys(event)});\n",
       "\n",
       "    /* This prevents the web browser from automatically changing to\n",
       "     * the text insertion cursor when the button is pressed.  We want\n",
       "     * to control all of the cursor setting manually through the\n",
       "     * 'cursor' event from matplotlib */\n",
       "    event.preventDefault();\n",
       "    return false;\n",
       "}\n",
       "\n",
       "mpl.figure.prototype._key_event_extra = function(event, name) {\n",
       "    // Handle any extra behaviour associated with a key event\n",
       "}\n",
       "\n",
       "mpl.figure.prototype.key_event = function(event, name) {\n",
       "\n",
       "    // Prevent repeat events\n",
       "    if (name == 'key_press')\n",
       "    {\n",
       "        if (event.which === this._key)\n",
       "            return;\n",
       "        else\n",
       "            this._key = event.which;\n",
       "    }\n",
       "    if (name == 'key_release')\n",
       "        this._key = null;\n",
       "\n",
       "    var value = '';\n",
       "    if (event.ctrlKey && event.which != 17)\n",
       "        value += \"ctrl+\";\n",
       "    if (event.altKey && event.which != 18)\n",
       "        value += \"alt+\";\n",
       "    if (event.shiftKey && event.which != 16)\n",
       "        value += \"shift+\";\n",
       "\n",
       "    value += 'k';\n",
       "    value += event.which.toString();\n",
       "\n",
       "    this._key_event_extra(event, name);\n",
       "\n",
       "    this.send_message(name, {key: value,\n",
       "                             guiEvent: simpleKeys(event)});\n",
       "    return false;\n",
       "}\n",
       "\n",
       "mpl.figure.prototype.toolbar_button_onclick = function(name) {\n",
       "    if (name == 'download') {\n",
       "        this.handle_save(this, null);\n",
       "    } else {\n",
       "        this.send_message(\"toolbar_button\", {name: name});\n",
       "    }\n",
       "};\n",
       "\n",
       "mpl.figure.prototype.toolbar_button_onmouseover = function(tooltip) {\n",
       "    this.message.textContent = tooltip;\n",
       "};\n",
       "mpl.toolbar_items = [[\"Home\", \"Reset original view\", \"fa fa-home icon-home\", \"home\"], [\"Back\", \"Back to previous view\", \"fa fa-arrow-left icon-arrow-left\", \"back\"], [\"Forward\", \"Forward to next view\", \"fa fa-arrow-right icon-arrow-right\", \"forward\"], [\"\", \"\", \"\", \"\"], [\"Pan\", \"Pan axes with left mouse, zoom with right\", \"fa fa-arrows icon-move\", \"pan\"], [\"Zoom\", \"Zoom to rectangle\", \"fa fa-square-o icon-check-empty\", \"zoom\"], [\"\", \"\", \"\", \"\"], [\"Download\", \"Download plot\", \"fa fa-floppy-o icon-save\", \"download\"]];\n",
       "\n",
       "mpl.extensions = [\"eps\", \"pdf\", \"png\", \"ps\", \"raw\", \"svg\"];\n",
       "\n",
       "mpl.default_extension = \"png\";var comm_websocket_adapter = function(comm) {\n",
       "    // Create a \"websocket\"-like object which calls the given IPython comm\n",
       "    // object with the appropriate methods. Currently this is a non binary\n",
       "    // socket, so there is still some room for performance tuning.\n",
       "    var ws = {};\n",
       "\n",
       "    ws.close = function() {\n",
       "        comm.close()\n",
       "    };\n",
       "    ws.send = function(m) {\n",
       "        //console.log('sending', m);\n",
       "        comm.send(m);\n",
       "    };\n",
       "    // Register the callback with on_msg.\n",
       "    comm.on_msg(function(msg) {\n",
       "        //console.log('receiving', msg['content']['data'], msg);\n",
       "        // Pass the mpl event to the overridden (by mpl) onmessage function.\n",
       "        ws.onmessage(msg['content']['data'])\n",
       "    });\n",
       "    return ws;\n",
       "}\n",
       "\n",
       "mpl.mpl_figure_comm = function(comm, msg) {\n",
       "    // This is the function which gets called when the mpl process\n",
       "    // starts-up an IPython Comm through the \"matplotlib\" channel.\n",
       "\n",
       "    var id = msg.content.data.id;\n",
       "    // Get hold of the div created by the display call when the Comm\n",
       "    // socket was opened in Python.\n",
       "    var element = $(\"#\" + id);\n",
       "    var ws_proxy = comm_websocket_adapter(comm)\n",
       "\n",
       "    function ondownload(figure, format) {\n",
       "        window.open(figure.imageObj.src);\n",
       "    }\n",
       "\n",
       "    var fig = new mpl.figure(id, ws_proxy,\n",
       "                           ondownload,\n",
       "                           element.get(0));\n",
       "\n",
       "    // Call onopen now - mpl needs it, as it is assuming we've passed it a real\n",
       "    // web socket which is closed, not our websocket->open comm proxy.\n",
       "    ws_proxy.onopen();\n",
       "\n",
       "    fig.parent_element = element.get(0);\n",
       "    fig.cell_info = mpl.find_output_cell(\"<div id='\" + id + \"'></div>\");\n",
       "    if (!fig.cell_info) {\n",
       "        console.error(\"Failed to find cell for figure\", id, fig);\n",
       "        return;\n",
       "    }\n",
       "\n",
       "    var output_index = fig.cell_info[2]\n",
       "    var cell = fig.cell_info[0];\n",
       "\n",
       "};\n",
       "\n",
       "mpl.figure.prototype.handle_close = function(fig, msg) {\n",
       "    var width = fig.canvas.width/mpl.ratio\n",
       "    fig.root.unbind('remove')\n",
       "\n",
       "    // Update the output cell to use the data from the current canvas.\n",
       "    fig.push_to_output();\n",
       "    var dataURL = fig.canvas.toDataURL();\n",
       "    // Re-enable the keyboard manager in IPython - without this line, in FF,\n",
       "    // the notebook keyboard shortcuts fail.\n",
       "    IPython.keyboard_manager.enable()\n",
       "    $(fig.parent_element).html('<img src=\"' + dataURL + '\" width=\"' + width + '\">');\n",
       "    fig.close_ws(fig, msg);\n",
       "}\n",
       "\n",
       "mpl.figure.prototype.close_ws = function(fig, msg){\n",
       "    fig.send_message('closing', msg);\n",
       "    // fig.ws.close()\n",
       "}\n",
       "\n",
       "mpl.figure.prototype.push_to_output = function(remove_interactive) {\n",
       "    // Turn the data on the canvas into data in the output cell.\n",
       "    var width = this.canvas.width/mpl.ratio\n",
       "    var dataURL = this.canvas.toDataURL();\n",
       "    this.cell_info[1]['text/html'] = '<img src=\"' + dataURL + '\" width=\"' + width + '\">';\n",
       "}\n",
       "\n",
       "mpl.figure.prototype.updated_canvas_event = function() {\n",
       "    // Tell IPython that the notebook contents must change.\n",
       "    IPython.notebook.set_dirty(true);\n",
       "    this.send_message(\"ack\", {});\n",
       "    var fig = this;\n",
       "    // Wait a second, then push the new image to the DOM so\n",
       "    // that it is saved nicely (might be nice to debounce this).\n",
       "    setTimeout(function () { fig.push_to_output() }, 1000);\n",
       "}\n",
       "\n",
       "mpl.figure.prototype._init_toolbar = function() {\n",
       "    var fig = this;\n",
       "\n",
       "    var nav_element = $('<div/>');\n",
       "    nav_element.attr('style', 'width: 100%');\n",
       "    this.root.append(nav_element);\n",
       "\n",
       "    // Define a callback function for later on.\n",
       "    function toolbar_event(event) {\n",
       "        return fig.toolbar_button_onclick(event['data']);\n",
       "    }\n",
       "    function toolbar_mouse_event(event) {\n",
       "        return fig.toolbar_button_onmouseover(event['data']);\n",
       "    }\n",
       "\n",
       "    for(var toolbar_ind in mpl.toolbar_items){\n",
       "        var name = mpl.toolbar_items[toolbar_ind][0];\n",
       "        var tooltip = mpl.toolbar_items[toolbar_ind][1];\n",
       "        var image = mpl.toolbar_items[toolbar_ind][2];\n",
       "        var method_name = mpl.toolbar_items[toolbar_ind][3];\n",
       "\n",
       "        if (!name) { continue; };\n",
       "\n",
       "        var button = $('<button class=\"btn btn-default\" href=\"#\" title=\"' + name + '\"><i class=\"fa ' + image + ' fa-lg\"></i></button>');\n",
       "        button.click(method_name, toolbar_event);\n",
       "        button.mouseover(tooltip, toolbar_mouse_event);\n",
       "        nav_element.append(button);\n",
       "    }\n",
       "\n",
       "    // Add the status bar.\n",
       "    var status_bar = $('<span class=\"mpl-message\" style=\"text-align:right; float: right;\"/>');\n",
       "    nav_element.append(status_bar);\n",
       "    this.message = status_bar[0];\n",
       "\n",
       "    // Add the close button to the window.\n",
       "    var buttongrp = $('<div class=\"btn-group inline pull-right\"></div>');\n",
       "    var button = $('<button class=\"btn btn-mini btn-primary\" href=\"#\" title=\"Stop Interaction\"><i class=\"fa fa-power-off icon-remove icon-large\"></i></button>');\n",
       "    button.click(function (evt) { fig.handle_close(fig, {}); } );\n",
       "    button.mouseover('Stop Interaction', toolbar_mouse_event);\n",
       "    buttongrp.append(button);\n",
       "    var titlebar = this.root.find($('.ui-dialog-titlebar'));\n",
       "    titlebar.prepend(buttongrp);\n",
       "}\n",
       "\n",
       "mpl.figure.prototype._root_extra_style = function(el){\n",
       "    var fig = this\n",
       "    el.on(\"remove\", function(){\n",
       "\tfig.close_ws(fig, {});\n",
       "    });\n",
       "}\n",
       "\n",
       "mpl.figure.prototype._canvas_extra_style = function(el){\n",
       "    // this is important to make the div 'focusable\n",
       "    el.attr('tabindex', 0)\n",
       "    // reach out to IPython and tell the keyboard manager to turn it's self\n",
       "    // off when our div gets focus\n",
       "\n",
       "    // location in version 3\n",
       "    if (IPython.notebook.keyboard_manager) {\n",
       "        IPython.notebook.keyboard_manager.register_events(el);\n",
       "    }\n",
       "    else {\n",
       "        // location in version 2\n",
       "        IPython.keyboard_manager.register_events(el);\n",
       "    }\n",
       "\n",
       "}\n",
       "\n",
       "mpl.figure.prototype._key_event_extra = function(event, name) {\n",
       "    var manager = IPython.notebook.keyboard_manager;\n",
       "    if (!manager)\n",
       "        manager = IPython.keyboard_manager;\n",
       "\n",
       "    // Check for shift+enter\n",
       "    if (event.shiftKey && event.which == 13) {\n",
       "        this.canvas_div.blur();\n",
       "        // select the cell after this one\n",
       "        var index = IPython.notebook.find_cell_index(this.cell_info[0]);\n",
       "        IPython.notebook.select(index + 1);\n",
       "    }\n",
       "}\n",
       "\n",
       "mpl.figure.prototype.handle_save = function(fig, msg) {\n",
       "    fig.ondownload(fig, null);\n",
       "}\n",
       "\n",
       "\n",
       "mpl.find_output_cell = function(html_output) {\n",
       "    // Return the cell and output element which can be found *uniquely* in the notebook.\n",
       "    // Note - this is a bit hacky, but it is done because the \"notebook_saving.Notebook\"\n",
       "    // IPython event is triggered only after the cells have been serialised, which for\n",
       "    // our purposes (turning an active figure into a static one), is too late.\n",
       "    var cells = IPython.notebook.get_cells();\n",
       "    var ncells = cells.length;\n",
       "    for (var i=0; i<ncells; i++) {\n",
       "        var cell = cells[i];\n",
       "        if (cell.cell_type === 'code'){\n",
       "            for (var j=0; j<cell.output_area.outputs.length; j++) {\n",
       "                var data = cell.output_area.outputs[j];\n",
       "                if (data.data) {\n",
       "                    // IPython >= 3 moved mimebundle to data attribute of output\n",
       "                    data = data.data;\n",
       "                }\n",
       "                if (data['text/html'] == html_output) {\n",
       "                    return [cell, data, j];\n",
       "                }\n",
       "            }\n",
       "        }\n",
       "    }\n",
       "}\n",
       "\n",
       "// Register the function which deals with the matplotlib target/channel.\n",
       "// The kernel may be null if the page has been refreshed.\n",
       "if (IPython.notebook.kernel != null) {\n",
       "    IPython.notebook.kernel.comm_manager.register_target('matplotlib', mpl.mpl_figure_comm);\n",
       "}\n"
      ],
      "text/plain": [
       "<IPython.core.display.Javascript object>"
      ]
     },
     "metadata": {},
     "output_type": "display_data"
    },
    {
     "data": {
      "text/html": [
       "<img src=\"data:image/png;base64,iVBORw0KGgoAAAANSUhEUgAAAoAAAAHgCAYAAAA10dzkAAAgAElEQVR4nOzdeXwU9R3/8YRAwiESoCKXDCIgrVjPBsVqFGlr1aJV8QcqUA/wgJ/VVlxAAQ80oqIo4M2lqBGVQweUcF+BcIUACfcZAgmHJJxJyOb9+4MfWwLZXN8M2dm8no/HPNo9hvmYbCav7OzOhggAAACVSkhFDwAAAIDziwAEAACoZAhAAACASoYABAAAqGQIQAAAgEqGAAQAAKhkCEAAAIBKhgAEAACoZAhAAACASoYABAAAqGQIQAAAgEqGAAQAAKhkCEAAAIBKhgAEAACoZAhAAACASoYABAAAqGQIQAAAgEqGAAQAAKhkCEAAAIBKhgAEAACoZAhAAACASoYABAAAqGQIQAAAgEqGAAQAAKhkCEAAAIBKhgAEAACoZAhAAACASoYABAAAqGQIQAAAgEqGAAQAAKhkCEAAAIBKhgAEAACoZAhAAACASoYABAAAqGQIQAAAgEqGAAQAAKhkCEAAAIBKhgAEAACoZAhAAACASoYABAAAqGQIQAAAgEqGAAQAAKhkCEAAAIBKhgAEAACoZAhAAACASoYABAAAqGQIQAAAgEqGAAQAAKhkCEAAAIBKhgAEAACoZAhAAACASoYABAAAqGQIQAAAgEqGAAQAAKhkCEAAAIBKhgAEAACoZAhAA16vV6mpqcrMzFRWVhYLCwsLCwuLC5bMzEylpqbK6/VWdEpUGALQQGpqqkJCQlhYWFhYWFhcuKSmplZ0SlQYAtBAZmam7wFU0X/NsLCwsLCwsJRsOf0ETmZmZkWnRIUhAA1kZWUpJCREWVlZFT0KAAAoIX5/E4BGeAABAOA+/P4mAI3wAAIAwH34/U0AGuEBBACA+/D7mwA0wgMIAAD34fc3AWiEBxAAAO7D728C0AgPIAAA3Iff3wSgER5AAAC4D7+/CUAjPIAAAHAffn8TgEZ4AAEA4D78/iYAjfAAAgDAffj9TQAa4QEEAID78PubADTCAwgAAPfh9zcBaIQHEAAA7sPvbwLQyPl+ACXuOqSOw+ap++iE87I9AACCEQFIABpx+gFkeexSLQAAoHgEIAFohAAEAMB9CEAC0AgBCACA+xCABKARAhAAAPchAAlAIwQgAADuQwASgEYIQAAA3IcAJACNEIAAALgPAUgAGiEAAQBwHwKQADRCAAIA4D4EIAFohAAEAMB9CEAC0AgBCACA+xCABKARAhAAAPchAAlAIwQgAADuQwASgEYIQAAA3IcAJACNEIAAALgPAUgAGiEAAQBwHwKQADRCAAIA4D4EIAFohAAEAMB9CEAC0AgBCACA+xCABKARAhAAAPchAAlAIwQgAADuQwASgEYIQAAA3IcAJACNEIAAALgPAUgAGiEAAQBwHwKQADRCAAIA4D4EIAFohAAEAMB9CEAC0AgBCACA+xCAQRaAI0eOlGVZioiIUFRUlBISEoq8/6FDh/TMM8+oYcOGCg8PV6tWrTRt2rQSb48ABADAfQjAIArA2NhYhYeHa8yYMUpOTlbPnj0VGRmpjIyMQu+fk5Oj66+/XnfeeacWLVqk7du3a968eVq9enWJt0kAAgDgPgRgEAVgVFSUevfu7bvs9XrVuHFjxcTEFHr/jz/+WC1atFBubm6Zt0kAAgDgPgRgkARgTk6OwsLCNHny5ALXd+/eXZ06dSp0nb///e96+OGH1bNnTzVo0EBXXHGF3njjDeXl5fndTnZ2trKysnxLamoqAQgAgMsQgEESgGlpaQoJCVF8fHyB6/v27auoqKhC17n88ssVERGhxx57TCtWrFBsbKzq1aunV155xe92Bg8erJCQkHMWAhAAAPcgACtxALZq1UqXXHJJgWf8hg0bpoYNG/rdDs8AAgDgfgRgkARgWQ4B33LLLbr99tsLXDd9+nSFhIQoJyenRNvlNYAAALgPARgkASidehNInz59fJe9Xq+aNGni900g/fv3l2VZ8nq9vuuGDx+uRo0alXibBCAAAO5DAAZRAMbGxioiIkLjxo1TSkqKevXqpcjISKWnp0uSunXrpn79+vnuv2vXLtWuXVt9+vTRxo0bZdu2GjRooCFDhpR4mwQgAADuQwAGUQBK0ogRI9SsWTOFh4crKipKS5cu9d0WHR2tHj16FLh/fHy82rVrp4iICLVo0aLYdwGfjQAEAMB9CMAgC8DzjQAEAMB9CEAC0AgBCACA+xCABKARAhAAAPchAAlAIwQgAADuQwASgEYIQAAA3IcAJACNEIAAALgPAUgAGiEAAQBwHwKQADRCAAIA4D4EIAFohAAEAMB9CEAC0AgBCACA+xCABKARAhAAAPchAAlAIwQgAADuQwASgEYIQAAA3IcAJACNEIAAALgPAUgAGiEAAQBwHwKQADRCAAIA4D4EIAFohAAEAMB9CEAC0AgBCACA+xCABKARAhAAAPchAAlAIwQgAADuQwASgEYIQAAA3IcAJACNEIAAALgPAUgAGiEAAQBwHwKQADRCAAIA4D4EIAFohAAEAMB9CEAC0AgBCACA+xCABKARAhAAAPchAAlAIwQgAADuQwASgEYIQAAA3IcAJACNEIAAALgPAUgAGiEAAQBwHwKQADRCAAIA4D4EIAFohAAEAMB9CEAC0AgBCACA+xCABKARAhAAAPchAAlAIwQgAADuQwASgEYIQAAA3IcAJACNEIAAALgPAUgAGiEAAQBwHwKQADRCAAIA4D4EIAFohAAEAMB9CEAC0AgBCACA+xCABKARAhAAAPchAIMsAEeOHCnLshQREaGoqCglJCT4ve/YsWMVEhJSYImIiCjV9ghAAADchwAMogCMjY1VeHi4xowZo+TkZPXs2VORkZHKyMgo9P5jx47VhRdeqL179/qW9PT0Um2TAAQAwH0IwCAKwKioKPXu3dt32ev1qnHjxoqJiSn0/mPHjlWdOnWMtkkAAgDgPgRgkARgTk6OwsLCNHny5ALXd+/eXZ06dSp0nbFjxyosLEzNmjVT06ZN1alTJ61bt65U2yUAAQBwHwIwSAIwLS1NISEhio+PL3B93759FRUVVeg68fHxGj9+vBITEzVv3jzdfffduvDCC5Wamup3O9nZ2crKyvItqampBCAAAC5DAFbiADxbbm6uLrvsMr388st+7zN48OBz3jhCAAIA4C4EYJAEYFkOARfmgQceUJcuXfzezjOAAAC4HwEYJAEonXoTSJ8+fXyXvV6vmjRp4vdNIGfLy8vT5Zdfrueff77E2+Q1gAAAuA8BGEQBGBsbq4iICI0bN04pKSnq1auXIiMjfad26datm/r16+e7/6uvvqoZM2Zo69atWrlypbp06aLq1asrOTm5xNskAAEAcB8CMIgCUJJGjBihZs2aKTw8XFFRUVq6dKnvtujoaPXo0cN3+bnnnvPd9+KLL9add96pVatWlWp7BCAAAO5DAAZZAJ5vBCAAAO5DABKARghAAADchwAkAI0QgAAAuA8BSAAaIQABAHAfApAANEIAAgDgPgQgAWiEAAQAwH0IQALQCAEIAID7EIAEoBECEAAA9yEACUAjBCAAAO5DABKARghAAADchwAkAI0QgAAAuA8BSAAaIQABAHAfApAANEIAAgDgPgQgAWiEAAQAwH0IQALQCAEIAID7EIAEoBECEAAA9yEACUAjBCAAAO5DABKARghAAADchwAkAI0QgAAAuA8BSAAaIQABAHAfApAANEIAAgDgPgQgAWiEAAQAwH0IQALQCAEIAID7EIAEoBECEAAA9yEACUAjBCAAAO5DABKARgItAL3efEfmAAAgmBCABKCRQAvAYzknHZkDAIBgQgASgEYCLQD3Hc52ZA4AAIIJAUgAGgm0ANx54JgjcwAAEEwIQALQSKAF4Pq9lfeBDABASRGABKCRQAvAFTt+c2QOAACCCQFIABoJtABcuGm/I3MAABBMCEAC0EigBeCv6/Y6MgcAAMGEACQAjQRaAE5etduROQAACCYEIAFoJNACcMLSHY7MAQBAMCEACUAjgRaAny/Y6sgcAAAEEwKQADQSaAE4fOYmR+YAACCYEIAEoJFAC8A3p6c4MgcAAMGEACQAjQRaAA6cstaROQAACCYEIAFoJNAC8D/frXZkDgAAggkBSAAaCbQAfHrCCkfmAAAgmBCABKCRQAvA7qMTHJkDAIBgQgASgEYCLQA7fxzvyBwAAAQTApAANBJoAXjnBwscmQMAgGBCAAZZAI4cOVKWZSkiIkJRUVFKSCjZIdFvv/1WISEhuueee0q1vUALwNvemevIHAAABBMCMIgCMDY2VuHh4RozZoySk5PVs2dPRUZGKiMjo8j1tm/friZNmujmm292fQC2e2OWI3MAABBMCMAgCsCoqCj17t3bd9nr9apx48aKiYnxu05eXp7at2+vL774Qj169HB9ALYd/KsjcwAAEEwIwCAJwJycHIWFhWny5MkFru/evbs6derkd71Bgwbp3nvvlaQSBWB2draysrJ8S2pqakAF4GX9pyk/P9+RWQAACBYEYJAEYFpamkJCQhQfX/BdsH379lVUVFSh6yxcuFBNmjTR/v37JZUsAAcPHqyQkJBzlkAJQMtjK/tkniOzAAAQLAjAShqAhw8fVvPmzTV9+nTfdcHwDKDlsXXoWI4jswAAECwIwCAJwNIeAk5MTFRISIjCwsJ8S2hoqEJDQxUWFqYtW7aUaLuB9hpAy2Nr96HjjswCAECwIACDJAClU28C6dOnj++y1+tVkyZNCn0TyIkTJ7R27doCyz333KMOHTpo7dq1yskp2bNogRiAmzMOOzILAADBggAMogCMjY1VRESExo0bp5SUFPXq1UuRkZFKT0+XJHXr1k39+vXzu34wvAvY8thKSj3kyCwAAAQLAjCIAlCSRowYoWbNmik8PFxRUVFaunSp77bo6Gj16NHD77rBEoDxWw44MgsAAMGCAAyyADzfAjEAZ69Pd2QWAACCBQFIABoJxAD8aXWaI7MAABAsCEAC0EggBuB3y3Y5MgsAAMGCACQAjQRiAI5ZtM2RWQAACBYEIAFoJBADcOSczY7MAgBAsCAACUAjgRiAb/+63pFZAAAIFgQgAWgkEAPwlZ/WOTILAADBggAkAI0EYgB6fkhyZBYAAIIFAUgAGgnEAOzzzSpHZgEAIFgQgASgkUAMwMfHLXNkFgAAggUBSAAaCcQA7PLpEkdmAQAgWBCABKCRQAzATiMXOTILAADBggAkAI0EYgB2HDbPkVkAAAgWBCABaCQQA7B9zGxHZgEAIFgQgASgkUAMwGtei3NkFgAAggUBSAAaCcQAbP3SdEdmAQAgWBCABKCRQAxAy2Mrz5vvyDwAAAQDApAANBKoAXj4RK4j8wAAEAwIQALQSKAFYIv+02R5bGVknXBkHgAAggEBSAAaCbQAbDvoV1keW9v2H3VkHgAAggEBSAAaCbQA/NOQmbI8ttalZToyDwAAwYAAJACNBFoA3vrOXFkeW8u2H3RkHgAAggEBSAAaCbQA/PvwBbI8tuZt3OfIPAAABAMCkAA0EmgB+MDHi2V5bP2ydo8j8wAAEAwIQALQSKAFYLfRCbI8tn5YkerIPAAABAMCkAA0EmgB+NRXK2R5bH25ZIcj8wAAEAwIQALQSKAF4PPfJcry2Ppk3hZH5gEAIBgQgASgkUALwJcmr5HlsfVe3EZH5gEAIBgQgASgkUALwDenpcjy2BpiJzsyDwAAwYAAJACNBFoAvj9zoyyPrQGT1jgyDwAAwYAAJACNBFoAfjZ/66nXAsYmOjIPAADBgAAkAI0EWgB+tWSHLI+tXl8ud2QeAACCAQFIABoJtACctCpVlsfWI18sdWQeAACCAQFIABoJtAD8Ze1eWR5b93202JF5AAAIBgQgAWgk0AJw/sZ9sjy27hi+wJF5AAAIBgQgAWgk0AJwxY6Dsjy2bnl7jiPzAAAQDAhAAtBIoAVgclqWLI+t64fMdGQeAACCAQFIABoJtADcceCoLI+tKwb96sg8AAAEAwKQADQSaAGYcfiELI+t5v1s5efnOzITAABuRwASgEYCLQCPZp/0/f8TuXmOzAQAgNsRgASgkUALQK833/f/DxzJdmQmAADcjgAkAI0EWgBKUpuXf5HlsbXr4DFHZgIAwO0IQALQSCAG4LWvxcny2Nqw97AjMwEA4HYEYJAF4MiRI2VZliIiIhQVFaWEhAS/9/3xxx913XXXqU6dOqpZs6auuuoqffnll6XaXiAG4E1vzZblsbVq52+OzAQAgNsRgEEUgLGxsQoPD9eYMWOUnJysnj17KjIyUhkZGYXef+7cuZo0aZJSUlK0ZcsWDR8+XGFhYfr115KfQiUQA/Cv782X5bG1aPN+R2YCAMDtCMAgCsCoqCj17t3bd9nr9apx48aKiYkp8b9xzTXX6OWXXy7x/QMxAO8ZuUiWx1ZccrojMwEA4HYEYJAEYE5OjsLCwjR58uQC13fv3l2dOnUqdv38/HzNmjVLNWvWVFxcXIm3G4gB+NDnS2R5bE1J3O3ITAAAuB0BGCQBmJaWppCQEMXHxxe4vm/fvoqKivK7XmZmpmrVqqWqVasqIiJCo0ePLnI72dnZysrK8i2pqakBF4CPj1suy2Prm4SdjswEAIDbEYCVPAC9Xq82b96sxMREvfvuu6pTp47mzp3r9/6DBw9WSEjIOUsgBeCz366S5bH1xcJtjswEAIDbEYBBEoCmh4BPe/zxx/XXv/7V7+1ueAaw349Jsjy2Ppy1yZGZAABwOwIwSAJQOvUmkD59+vgue71eNWnSpFRvAnn00UcVHR1d4vsH4msAX/0pWZbH1lu/rHdkJgAA3I4ADKIAjI2NVUREhMaNG6eUlBT16tVLkZGRSk8/9W7Ybt26qV+/fr77v/nmm4qLi9PWrVuVkpKid999V1WrVtXnn39e4m0GYgC+O2ODLI+tQVPWOjITAABuRwAGUQBK0ogRI9SsWTOFh4crKipKS5cu9d0WHR2tHj16+C6/9NJLatmypapXr666devqxhtvVGxsbKm2F4gBOGruZlkeWy9MXO3ITAAAuB0BGGQBeL4FYgCOW7xdlsfWM1+vdGQmAADcjgAkAI0EYgB+t3yXLI+tf43x/zF4AABUZgQgAWgkEAPQTtojy2PrwU/ii/nXAQConAhAAtBIIAbgnPUZsjy27v5woSMzAQDgdgQgAWgkEANwydYDsjy2Orw715GZAABwOwKQADQSiAG4JjVTlsfWDW/OcmQmAADcjgAkAI0EYgBuzjgiy2Prj6/McGQmAADcjgAkAI0EYgDuyTwuy2Or1YDpjswEAIDbEYAEoJFADMDMY7m+y7l5XkfmAgDAzQhAAtBIIAZgzkmv73Lm8VxH5gIAwM0IQALQSCAGoCS1HDBNlsfWnszjjswFAICbEYAEoJFADcA/vjJDlsfWln1HHJkLAAA3IwAJQCOBGoA3vDlLlsfWmtRMR+YCAMDNCEAC0EigBuBt786V5bG1dOsBR+YCAMDNCEAC0EigBuDdHy6U5bE1Z32GI3MBAOBmBCABaCRQA7DzJ/GyPLbspD2OzAUAgJsRgASgkUANwH+NSZDlsTVx+S5H5gIAwM0IQALQSKAG4DMTVsry2Bq3eLsjcwEA4GYEIAFoJFAD8IWJq2V5bH00d4sjcwEA4GYEIAFoJFADcNCUtbI8tt6dscGRuQAAcDMCkAA0EqgBGDN9vSyPrdd+TnZkLgAA3IwAJACNBGoAfjhrkyyPrX4/JjkyFwAAbkYAEoBGAjUAP1+wVZbH1rPfrnJkLgAA3IwAJACNBGoAfpOwU5bH1hPjlzsyFwAAbkYAEoBGAjUApyTuluWx9dDnSxyZCwAANyMACUAjgRqAccnpsjy27h21yJG5AABwMwKQADQSqAG4aPN+WR5bf31vviNzAQDgZgQgAWgkUANw1c7fZHls/XnobEfmAgDAzQhAAtBIoAbghr2HZXlsXftanCNzAQDgZgQgAWgkUANw18Fjsjy22rz8iyNzAQDgZgQgAWgkUAPwwJFs33Veb74jswEA4FYEIAFoJFAD8HhOnu+6o9knHZkNAAC3IgAJQCOBGoD5+flq3u/UdfsOZzsyGwAAbkUAEoBGAjUAJekPA3+R5bG148BRR2YDAMCtCEAC0EggB+D1Q2bK8thK2VN5H9wAABSGACQAjQRyAN7y9hxZHlsrdhx0ZDYAANyKACQAjQRyAP7t/fmyPLYWbNrnyGwAALgVAUgAGgnkALzvo8WyPLZ+WbvXkdkAAHArApAANBLIAfjIF0tleWxNWpXqyGwAALgVAUgAGgnkAOz15XJZHlsTlu5wZDYAANyKACQAjQRyAD4XmyjLY+uz+VsdmQ0AALciAAlAI4EcgAMmrZHlsTV85iZHZgMAwK0IQALQSCAH4BA7WZbH1pvTUhyZDQAAtyIACUAjgRyAw+I2yvLYennyWkdmAwDArQjAIAvAkSNHyrIsRUREKCoqSgkJCX7v+9lnn+nPf/6zIiMjFRkZqdtvv73I+xcmkAPwk3lbZHlsPf9doiOzAQDgVgRgEAVgbGyswsPDNWbMGCUnJ6tnz56KjIxURkZGofd/6KGHNGrUKCUmJmr9+vX617/+pTp16mj37t0l3mYgB+CX8dtleWw99dUKR2YDAMCtCMAgCsCoqCj17t3bd9nr9apx48aKiYkp0fp5eXmqXbu2xo8fX+JtBnIA/rAiVZbHVvfRpXtWEwCAYEcABkkA5uTkKCwsTJMnTy5wfffu3dWpU6cS/RuHDx9W9erV9fPPP/u9T3Z2trKysnxLampqwAbg9DV7ZHlsPfDxYkdmAwDArQjAIAnAtLQ0hYSEKD4+vsD1ffv2VVRUVIn+jaefflotWrTQiRMn/N5n8ODBCgkJOWcJxACct3GfLI+tOz9Y4MhsAAC4FQFIAEqSYmJiVLduXSUlJRV5Pzc9A7hs+0FZHlu3vjPXkdkAAHArAjBIAtDkEPA777yjOnXqaPny5aXebiC/BnBdWqYsj62oN2Y6MhsAAG5FAAZJAEqn3gTSp08f32Wv16smTZoU+SaQoUOH6sILL9SSJUvKtM1ADsBt+4/K8thqO+hXR2YDAMCtCMAgCsDY2FhFRERo3LhxSklJUa9evRQZGan09HRJUrdu3dSvXz/f/d966y2Fh4frhx9+0N69e33LkSNHSrzNQA7A9KwTsjy2WvSfpvz8fEfmAwDAjQjAIApASRoxYoSaNWum8PBwRUVFaenSpb7boqOj1aNHD99ly7IKfUPH4MGDS7y9QA7AwydyfdefyM1zZD4AANyIAAyyADzfAjkA87z5vut/O5rjyHwAALgRAUgAGgnkAJSk1i9Nl+WxtfvQcUfmAwDAjQhAAtBIoAfg1a/OkOWxtSn9sCPzAQDgRgQgAWgk0AOwfcxsWR5bq3cdcmQ+AADciAAkAI0EegB2HDZPlsfW4i37HZkPAAA3IgAJQCOBHoCdRiyU5bE1KyXdkfkAAHAjApAANBLoAdjl0yWyPLamrk5zZD4AANyIACQAjQR6AD42dpksj63YZTsdmQ8AADciAAlAI4EegH2+WSXLY2vMom2OzAcAgBsRgASgkUAPwBe/T5LlsTVyzmZH5gMAwI0IQALQSKAH4Cs/rZPlsfX2r+sdmQ8AADciAAlAI4EegG//ul6Wx9bgqescmQ8AADciAAlAI4EegCPnbJblsfXi90mOzAcAgBsRgASgkUAPwDGLtsny2Or99UpH5gMAwI0IQALQSKAHYOyynbI8th4bu8yR+QAAcCMCkAA0EugB+NPqNFkeW10+XeLIfAAAuBEBSAAaCfQAnJWSLstjq9OIhY7MBwCAGxGABKCRQA/A+C0HZHlsdRw2z5H5AABwIwKQADQS6AG4etchWR5b7WNmOzIfAABuRAASgEYCPQA3ZxyW5bF19aszHJkPAAA3IgAJQCOBHoC7Dx2X5bHV6qXpjswHAIAbEYAEoJFAD8Dfjub4bjuZ53VkRgAA3IYAJACNBHoAZp/M892WdSLXkRkBAHAbApAANBLoAZifn68W/afJ8thKzzrhyIwAALgNAUgAGgn0AJSktoN/leWxtW3/UUdmBADAbQhAAtCIGwIw6o2Zsjy21u7OdGRGAADchgAkAI24IQBve2euLI+tZdsPOjIjAABuQwASgEbcEIB3frBAlsfW3A0ZjswIAIDbEIAEoBE3BOADHy+W5bE1fc0eR2YEAMBtCEAC0IgbArD76ARZHlvfr0h1ZEYAANyGACQAjbghAJ/6aoUsj60v47c7MiMAAG5DABKARtwQgP/5brUsj61P5m1xZEYAANyGACQAjbghAF+evFaWx9awuI2OzAgAgNsQgASgETcE4JvTU2R5bA2xkx2ZEQAAtyEACUAjbgjA4TM3yfLY6j9pjSMzAgDgNgQgAWjEDQH42fytsjy2notNdGRGAADchgAkAI24IQAnLN0hy2Or5/jljswIAIDbEIAEoBE3BOCkVamyPLYe+WKpIzMCAOA2BCABaMQNAfjrur2yPLb+OWqRIzMCAOA2BCABaMQNAbhg0z5ZHlt/e3++IzMCAOA2BCABaMQNAbhix2+yPLZueXuOIzMCAOA2BCABaMQNAZiyJ0uWx9Z1r890ZEYAANyGACQAjbghAHceOCbLY+sPA39xZEYAANyGAAyyABw5cqQsy1JERISioqKUkJDg977r1q3TfffdJ8uyFBISovfff7/U23NDAO47nC3LY6t5P1v5+fmOzAkAgJsQgEEUgLGxsQoPD9eYMWOUnJysnj17KjIyUhkZGYXef9myZXrhhRf07bffqmHDhkEbgEezT/puP56T58icAAC4CQEYRAEYFRWl3r17+y57vV41btxYMTExxa5rWVbQBqDXm++7ff+RbEfmBADATQjAIAnAnJwchYWFafLkyQWu7969uzp16lTs+sEcgJLU5uVfZHls7Tp4zJE5AQBwEwIwSAIwLZPPVe0AACAASURBVC1NISEhio+PL3B93759FRUVVez6JQ3A7OxsZWVl+ZbU1FRXBOB1r8fJ8tjasPewI3MCAOAmBCABKKnkATh48GCFhIScswR6AP556GxZHlsrd/7myJwAALgJARgkAXi+DgG79RnAv70/X5bH1qLN+x2ZEwAANyEAgyQApVNvAunTp4/vstfrVZMmTSr9m0Ak6d5Ri2R5bM1Yt9eROQEAcBMCMIgCMDY2VhERERo3bpxSUlLUq1cvRUZGKj09XZLUrVs39evXz3f/nJwcJSYmKjExUY0aNdILL7ygxMREbd68ucTbdEsAPvT5ElkeW1MSdzsyJwAAbkIABlEAStKIESPUrFkzhYeHKyoqSkuXLvXdFh0drR49evgub9++vdDX80VHR5d4e24JwCfGL5flsfX10p2OzAkAgJsQgEEWgOebWwLw2W9XyfLY+nzBVkfmBADATQhAAtCIWwKw349rZHlsfThrkyNzAgDgJgQgAWjELQH42s/Jsjy2Yqavd2ROAADchAAkAI24JQCHzdggy2Nr0JS1jswJAICbEIAEoBG3BOBHc7fI8tj678TVjswJAICbEIAEoBG3BOD4+O2yPLaembDSkTkBAHATApAANOKWAJy4fJcsj60eYxIcmRMAADchAAlAI24JQDtpjyyPrc6fxPu9DwAAlQUBSAAacUsAztmQIctj664PFzgyJwAAbkIAEoBG3BKAS7cekOWxddu7cx2ZEwAANyEACUAjbgnAtbszZXls3fDmLEfmBADATQhAAtCIWwJwy74jsjy2rhz8qyNzAgDgJgQgAWjELQG4N/OELI+tlgOmOTInAABuQgASgEbcEoCZx3N998k56XVkVgAA3IIAJACNuCUAc/O8vvtkHst1ZFYAANyCACQAjbglACWp1YDpsjy20g4dd2RWAADcggAkAI24KQD/+MoMWR5bmzOOODIrAABuQQASgEbcFIA3vjlLlsfWmtRMR2YFAMAtCEAC0IibArDDu3NleWwt2XrAkVkBAHALApAANOKmAPzHiIWyPLbmrM9wZFYAANyCACQAjbgpAB/8JF6Wx9bPSWmOzAoAgFsQgASgETcF4L/GJMjy2Ppu+S5HZgUAwC0IQALQiJsC8JmvV8ry2Bq7aJsjswIA4BYEIAFoxE0B+MLE1bI8tkbN3ezIrAAAuAUBSAAacVMADp66TpbH1rszNjgyKwAAbkEAEoBG3BSAb/2yXpbH1qs/JTsya3G83nwt2rxfGVknKmT7AACcRgASgEbcFIAjZm+S5bHV78ckR2YtSsqeLN330WJZHlvXD5mp1N+OnfcZAAA4jQAkAI24KQC/WLhNlsfW//1mlSOzOjk7gMrhSPZJfZOwU7NS0it6lDLZnHGYoxwuQQASgEbcFIDfJuyU5bH1+Ljljsx6pvz8fAIQQIntPHBMr/2crLaDfvXtE17/OVkn87wVPVqx8rz5+mXtHj3w8amjHG0H/ap5G/dV9FgoBgFIABpxUwBOSdwty2Or62dLHJn1tO37j6rb6AQCEECR3P6HoptnBwEoEYBG3BSAccnpsjy27hm5yJFZT+Tm6f2ZG9XqpemlnpudI1B5nMjN03fLd+mO4QtcuZ/YceCo76wKbpsd/0MAEoBG3BSAizfvl+Wx9Zf35pX7nPM37lP023N8czz8+VJ2jgAKyMg6oWEzNuja1+LK9EdiRe4n8vPztWTrAfUcv1zN+7lrdhSOACQAjbgpAFft/E2Wx9ZNb80ut/n2Zp7wfcKI5bH1pyEz9XNSWpkO7UxJ3F1ucwEIHGtSM/VcbKJaDpjm+3m/8c1Z+njellLvJz6et0X5+fnnbfbsk3n6YUWq7vyg4LOV3cvwMpcdB46et7lRPAKQADTipgDcmH5YlsfWta/FGc91Ms+rzxds1R8G/iLLY+vSfqfOL3j4RG6ZZ285YJoWb95vPBuAincyz6tpa/bo/v9/+qfTy30fLZadtMf35o6yPJP2729X6URunqPz7z+SrQ9mbdL1Q2b6tnv5y9PVf9Iabc44XKbZr351hpZuPeDo3Cg5ApAANOKmANx18JhvJ2ZixY7fCrx2595Ri7QuLdN4dstz6t1zKXsq7w8j4GYncvO0aPN+xUxfr/Yxs30/15f1n6Z/f7tKq3cdOmed0u4jWvQ/9SziP0Ys1J7M4+U6f35+vtakZqrv96sLvJY56o2ZGjlns347mmM0++k/dL9bvqtc50bZEIAEoBE3BeDBozm+++V5S38I5fCJXPWftMb3b/zxlRn6JmGnvH7+rdLO3vmTeN/Odveh8t2xAyh/Xm/pX+px9n6qtOvGbzmgq1+dIctz6qTyK3f+ZvzfsfvQcY2cs1m3D5tXYFv/GLFQUxJ3K9fPqWhKO/uZL5d5c1pKmfbDKD8EIAFoxE0BeCI3z3e/I9knHd92adfPPJarv7x3agfccdg8ZR7LLWQqABVp18Fj+jZhp575eqUvxM5nAJ6e4W/vz5flsdVqwHRNLMMzalkncs/77F5vvobFbfRdfnzcch0twb7YKcdz8rQx/bBmJqdr9MJtevWnZMUu2+k3eIMNAUgAGnFTAObn5/vevZZxuPgz1Z/vAJSktEPHFfXGqdfcdP4k3vHX+QAoWuaxXE1fs0cDJq3RLWe8099kOVNZ1z2afVK9vlzuu/61Epw0OjfPq1kp6Xrm65VqXQ6nqyrrulMSd/sOMd8xfIHSHDrikZ+fr4ysE1q+/aB+XJmq9+I26vnYxHNel2n6u8WtCEAC0IibAlCSrvj/Z9nfvr/4d6NVRABKpz43+PSnATzz9Uq/h5gBmMnPz9eR7JPadfCYklIPae6GDE1etVujF27Tm9NS1GnEQl161ilPWvSfpvs/Wqz34jZq+faDFRZR0qlD0O+d8YzaI18sPefIQX5+vlbvOqTBU9cZnX6mvGdfseM3Xff6qXmuHzJTiYW8PrIkvN58pR06roWb9mt8/Ha98tM6PT5umToOm6fLXy5b5FZUAJ79GkunEYAEoBG3BeDpd7Qlp/mf90j2SQ0447V+5zsApVPnLDx9yojXfk4u/RcOqMS83nwl7jqkH1em6ouF2/TOrxs0YNIaPT1hhf7Pp/H62/vz9achM9VqQMkC4fZh8zR46jrNTE4v8E5/qWxvhDBZvzDT1+xRm5dPnZEg+u052pxxWLsOHtOI2Zt027tzC6x/3etxeuWndVqTmlnhs6f+9r9D2a1fmq6pq9P8fk+PZp/U2t2ZmpK4W8PiNqr31yv19+ELfP/d/pZL+5069VfXz5bI80OSRs3drJ+T0ko9e+pvx0r68CuVE7l5mro6TY98sVStBkzXvsPZjmynMAQgAWjEbQF4+mTNK3YcLPT2xZv3F3j3XkUFoPS/j66zPLY+X7C19F88oBLJ8546UfHgqevU7o1ZZfoZPh8RVN4RdVpyWpZv33X2pxFd/vJ0/d9vVmnO+owCh4kDYfYj2Sf12NhlvvsMi9uoeRv3afTCbXpp8hp1/WxJuXw/z1ba9Vu9NF1vTk9R5nHz12aX1/fcFAFIABpxWwCePn3L/LM+qPxo9km9NPl/z/rd9FbpI9CJ2T8540SxPxXx1zFQGeXmeTV/475S/6wt2LRPa3dnaveh4+c9gkzXr8htl+fsZ8rz5muInVzs+te+FqcHPl6sF79POu/759PL1a/O0JhF25RzsvRvFDl4NEejF24rt6+bKQKQADTitgA8/eLfX9bu9V23eMv+AsH30uQ1Opp98rzvYAqTn5/v+8zNVgOmK35L2U6imp+fr9w8L68nhOudyM3TzOR0/ee71frjK+f/XbgVvT6zm2+7LOvPXp9e4DQ50W/P0S9r9xT7qSwn87yasz5DT321osAnwZjMXl4IQALQiNsC8JEvTn1G748rU3U0+6RenrzWt277mNkFPonjfO9g/Mnz5uvJL1fI8ti6YtCv6vxJvP45apH+MWKh7hi+QH95b55ue2eu/jx0tm54c5aue32mrnp1hq4Y9KtavzRdl/X/306n9UvTddeHC/T8d4n6ZN4WzdmQobRDx8/rR0sheOXn5+vg0Ryt3Z2puOR0fbVkh75fkarZ69O1cudv2r7/qDKP5Zb6D5FjOSc1fc0e9flmle+NXKeX028kcEuIlGfIMPv53T+fzPNqwtIdBR5z93+0WKsKORfj1n1H9NYv631ndTi9/GPEQuPZywsBGGQBOHLkSFmWpYiICEVFRSkhIaHI+0+cOFGXX365IiIi1LZtW02bNq1U23NbAJ4+bcLz3yXqz0P/96zfgElrzjk3YEXsYMq6runSdtCvuu+jxer34xqNXbRNi7fs14Ej5+/FyOUpPz9fmcdztX5vluasz9BXS3Zo2IwNGrNom+Zv3KfU347xTGgZHc0+qc0ZhzV/4z59m7BTw+I26oWJq/XQ50t02ztzS/yuyxb9p+m61+N0+7B56vxxvHqOXy7PD0mKmb5en87fou+W79LM5HRNXrVbT3654px/t90bszR46jot3XpAeWU4GfOZyvLzUpHrM7v5tk3XP5J9UsNmbCjwuHzm65VavzdL3y3fpQc+LniamWtei9OrPyX7PuXJdPbyQgAGUQDGxsYqPDxcY8aMUXJysnr27KnIyEhlZGQUev/FixcrLCxMb7/9tlJSUvTyyy+rWrVqWrt2bYm36bYAfD42scD928fM1iI/n79bkTuYsuwcV+z4TUmph5ScllWm9Qtbrn0tTl0+XaLBU9fp66U7NTM5XUu3HlByWpZ2HTymQ8dyij33WHk7kZunbfuPavHm/Zq4fJc+mLVJ/X5MUrfRCeo4bN45zxAVtlz+8nT97f35embCSr07Y4MmrUrV6l2HznmHZ0U5npOnHQeOavn2g/pl7R5NX7NHccnpmrMhQws37Vf8lgNavv2gEncd0trdmdqw97C27DuinQeOafeh48rIOqGDR3OUdSJXR7JPav+RbO06eEyb0g9rTWqmErYd1LyN+/TL2r2akrhb3ybs1JhF2zRq7mYNi9uoN6al6OXJa/Xfiav16Nhl+tv788t8uLW8lj8Pna03pqVo5c7fzgn48/2zVpHrM7v5tstjfUnam3lCL0xc7Tu/7JnLpf1sPTp2mX5Zu+ec1wuWx7bLAwEYRAEYFRWl3r17+y57vV41btxYMTExhd7/wQcf1F133VXgunbt2unJJ58s8TbdFoADp/zvkG//Qp71K89tu2nnuGHvYU1dnaZ3ft2gJ8Yv1y1vzyl0p+ZvafPyL/rTkJnq8O5cdRq5SI98sVRPT1ihvt+v1ms/J+v9mRv16fwt+mjuFn04a5OGxW3U0F/W641pKXrlp3UaOGWt+v24Ri9MXK3nYhPV++uVevLLFXp83DJ1H52ghz5fors+XFAu5zErbrl+yEw9+Em8+v24Rp8v2KrZ69O1OeOIdh08pr2ZJ7T/SLYyj+XqaPZJZZ/MK/GziV5vvvYfyVbKnizN27hP369I1ai5m/XKT+v0zNcr1fmTeN32ztwSBWwgLP8ak6D+k9Zo5JzNZVp//d4sLd6yX3bSnvP+eK/InzVmr/htu3328kIABkkA5uTkKCwsTJMnTy5wfffu3dWpU6dC17nkkkv0/vvvF7hu0KBB+uMf/+h3O9nZ2crKyvItu3btUkhIiFJTUwtcX17LJc9NLNVisq7p+sEye1m2XZHLs+MXKWbKSo2dk1ym9Z//Kl7/fH+mrnl5SplnaPb8RLX47w9q/eIP+kO/H3XVgMm6buAURQ3+STe99rOuGzhFzf/zfbn/t0cN/knXDZyiqwZMLtP6d787Q50/nKVuH885748ZNz/emd19swfL/rk8l9TUVIWEhCgzM9M8QlwqKAIwLS1NISEhio+PL3B93759FRUVVeg61apV0zfffFPgulGjRqlBgwZ+tzN48GCFhISwsLCwsLCwBMGSmppqHiEuRQCeobgAPPsZwEOHDmnr1q3KzMx07K8Uf3+1lOVZR5N1K3p9Zmd2N22b2Zmd2c/ftsuyZGZmKjU1VV7v+X0ddyAJigA8X4eAA0FWVtlft2CybkWvz+zM7qZtm67P7Mzupm2brm+6bZRNUASgdOpNIH369PFd9nq9atKkSZFvArn77rsLXHfjjTeW6k0gFYEdBLOfz/WZndndtG3T9ZndnbOjbIImAGNjYxUREaFx48YpJSVFvXr1UmRkpNLT0yVJ3bp1U79+/Xz3X7x4sapWrap3331X69ev1+DBg0t9GpiKwA6C2c/n+szO7G7atun6zO7O2VE2QROAkjRixAg1a9ZM4eHhioqK0tKlS323RUdHq0ePHgXuP3HiRLVu3Vrh4eG64oorSn0i6IqQnZ2twYMHKzu79CcqNlm3otdndmZ307ZN12d2ZnfTtk3XN902yiaoAhAAAADFIwABAAAqGQIQAACgkiEAAQAAKhkCEAAAoJIhAF0u0E9bAwAAAg8B6EKHDx/Wp59+qj/96U+qUqVKRY8DOO7kyZPauXPned9uenp6mbf7yiuvaP/+/SW6786dO5Wfn1+m7QBAWRCALjJ//nx1795dtWrVUqtWreTxeLRs2TK/98/KKvwzEPPy8s7j1Off6NGjy/18Utu2bVNcXFyJnnHt1q2bDh8+7Lu8evVq5ebmltss33//vd/bHn300QLbDharV68u9o+dUaNG6fbbb1fnzp01a9asArft379fl156qd91Dx8+rIcffljNmjVT9+7dlZOTo2eeeUahoaGqUqWKbrnlFr8nqS3sZywzM1PVqlVTQkKC77qiVKlSRRkZGUXeJxjNnj1bJ0+edOzf//HHH3XllVeWap3c3Fxt2rRJmZmZRd5v4MCBOnbsmO/yb7/9VqYZz5Sfn6/Zs2fLtu0y/3tbt27VunXrSv0Zt0ePHtXo0aM1cuRIbdq0qUzbNpWTk6MjR45UyLYrIwIwwO3du1cxMTFq2bKlGjRooD59+qhq1apKTk4udt3Tv7zOXqpVq6bWrVvrs88+K/EcaWlpGjRokB566CH997//1fr164tdZ//+/Ro6dKjuvfde3XDDDbrhhht077336u2339a+ffuKXPfsX4aJiYnq3r272rdvr/vvv19z5871u+7Zv0wbNWqk7du3FzvvaU8//bRvJ3T8+HHdf//9qlKliu/redtttxW5kzp7+7Vr19bWrVtLvP2TJ09q7dq12rhxY4Hrp0yZoj/+8Y8KDw8v8bbLIicnR999952ee+45denSRV26dNFzzz2niRMnKicnx+96N998sw4dOuS7PHXqVB0/ftxoltOKC8APPvhANWvWVO/evfXII48oPDxcb775pu/29PT0Itfv06eP2rRpow8//FC33nqr7rnnHrVt21aLFi3S/Pnz9Yc//EEDBgwodN3CfsbOfLyc/t+ihIaGllsAHj16VGPGjNGAAQM0YsQIHThwoNh1yvo9L0xp9hVnP17btWun3bt3l2p7n3zyie6//3517drVd/L/2bNn6+qrr1bNmjX11FNP+V136NChvsdoXl6e/vvf/yo8PFxVqlRR1apV9eijj/r948305/zQoUPq3r272rZtqyeeeEJZWVm66aabFBoaqtDQUF188cVKSkryu35ubq4GDRqku+++W0OGDFFeXp66dOnie/z9/ve/97vf27lzp2655RZdcMEF6tixo3bu3KnWrVv7tl2zZk3Nnz+/yPkPHz6sFStW+PaFK1euVLdu3fTAAw9owoQJxf73jxkzRn369PHdt1+/fr6vfceOHUv0uIUZAjCA3X333brwwgvVtWtX2bbte+aupAE4b968QpcpU6Zo4MCBqlOnjsaMGVPoujVq1PBFWnJysurUqaOWLVuqc+fOatOmjWrWrFnkzmnZsmWqW7eumjRpoh49eujFF1/Uiy++qB49eqhp06aqV6+eli9f7nf9M3euixcvVrVq1RQdHa2+ffvqL3/5i6pWrep3B3X2L9MLLrigVDvmM7fdv39/NW3aVHPmzNGxY8e0aNEiXXbZZQU+VrA8t7927VpZluXbif/zn/9Uenq6brnlFtWrV08ej0epqakl3nZpbd68WS1atFD16tUVHR2tBx98UA8++KCio6NVvXp1tWzZUps3by7RtkvzC/Gaa64pcmnTpk2REfWHP/xBX3/9te/y4sWLddFFF2ngwIGSig/ASy65RHPmzJF0KmBCQ0P1888/+263bVuXX355oes2adJEd911l+bMmeP7GZs7d67CwsI0duxY33VFCQ0NLfaPIn9+//vf6+DBg5KkXbt2qXnz5qpTp47+9Kc/qV69emrQoIG2bdvmd32T77lktq8w/VmNiYlRtWrVdN1116lWrVqqWbOm3njjDTVs2FAxMTHFPot25s/6O++8o7p162rMmDFKTk7WhAkT1KBBAw0dOtSR2R9//HG1atVKQ4YMUbt27XTjjTfqhhtu0NKlS7Vs2TLdeuut53xe/Zn+85//6KKLLtITTzyhFi1aqFOnTrr88ssVGxuriRMn6sorr9RDDz1U6LqdO3fWDTfcoAkTJqhTp05q06aN7rrrLqWnp2vfvn26//77ddttt/nd9vz581W7dm2FhoaqXr16mjFjhmrXrq02bdroiiuuUJUqVYp8gmHIkCGqUaOGOnbsqHr16umpp55Sw4YN9dZbb+ntt99W06ZNiwx3lA8CMICFhYXp+eefP+fp+JIGYHFGjx6ta665ptDbzty53XPPPfrHP/7hO1Tj9XrVpUuXIndO7dq1U69evQp9XVN+fr569eqlG264we/6Z27/L3/5ix577LECt//73/9Whw4dil1XKv2O+cz127Ztq2+++abA7VOnTlXr1q1LtH5pt3/nnXfq9ttv188//6yHHnpIoaGhatOmjd55550SPZsWGhqqLVu2+D38X9zhyI4dO+qee+4p9D5ZWVm655579Ne//tXvtsv63x0REaEePXrolVdeKXR58skniwy4GjVqnPNsx9q1a3XxxRerX79+xQZgRESEdu3a5btcs2bNAs/A7tixQzVr1ix03YMHD+ree+/VbbfdVuDZq9L8nIaGhurJJ5/U888/X+Tib93TX/eHH35Y7du39x2+PHLkiDp27KiuXbv63bbJ9/zs7Zd2X2H6s9q6dWuNGzdOkrRgwQKFhobqrrvu0tGjR0u0/pnbv+aaa/Tpp58WuH3ChAm64oorHJm9cePGvj8Mdu/erdDQ0AJHNhISEnTxxRf7Xb9Zs2a+jy/duHGjQkNDNX36dN/t8+bNU5MmTQpd9+KLL1ZCQoKkU4/f0NBQxcfH+25fvXq16tev73fbN998sx577DHt3r1br732miIjI9W/f3/f7a+//rquuuoqv+u3bNnSt19dvny5qlSpoh9++MF3+/Tp09WsWTO/66N8EIABbMmSJXriiSdUu3ZtRUVFacSIEdq/f3+5BeCWLVtUu3btQm87c+d2ySWXaMGCBQVuX7VqlRo1auT3365evXqRh37Wr1+v6tWr+739zO03atRIS5YsKXD7unXr9Lvf/a7QdatUqVLg2ZTatWsX+QxIYds+vf7vfvc7rVu3rsDtO3bsUI0aNYpcf+7cuUpKSlJSUpJq1aqladOm+S6fXgpz0UUXKTExUZKUmZmp0NBQffnll6Wa3d8hyZIcjqxRo0aRr3Ncs2aN3/92k1+I1113nT766CO/tycmJhb7DN7Zj1Hp1DNSF198sbp3717k+o0bN9bKlSt9l7t27Vrgv2XdunWqW7dukf8NH330kRo3buz7xVbaAGzfvr1uvfVWv4u/Z2TO/Lq3aNFCcXFxBW5fvHixLrnkEr/bNvmen7390u4rTH9Wq1evXiDcw8PDtWLFihKvf+bPev369c/5Omzbts1v+FepUsX3x1ZmZqZq166tpKSkEv+xFRYWpj179vgu16hRQ1u2bPFd3rt3b5GP2apVqxb4g6N69eoFnizYs2ePwsLC/P53p6en+y7XqlWrwM9qcX8w1alTx7d/z8nJUZUqVbR69Wrf7Zs3b9YFF1zgd/3w8PBzvm8bNmzwXd69e7eqVavmd32UDwLQBU6/OPemm25StWrVVKVKFQ0fPtz4xf4rV65U06ZNC73tzB2zZVnnBMu2bduKDLjmzZtr/Pjxfm8fP368LMvye/uZz2RdeumlWrVqVYHbt2zZ4nfHHBoaqsjISNWtW1d169ZVaGio6tSp47t8eilq26efjWnQoME5v1BXrlzpNz5Pr386ts5eiouwwiKqNC/IDg0N1aRJk/we/i/ucGSjRo0KHPo8208//eT3l/npWJ06daqmTp2qmjVr6rPPPvNdPr0U5tlnn9W///1vv9vdsmWLbr31Vr+3d+3aVc8991yht61bt04XXXRRkb/Q7rjjDn3yySd+bx87dqzat2/v9/bTkpOTddVVV6lr166lDsCyHro/M2IaN258TsTs2LGjyJ9Vk++5ZLavCA0N1ZVXXuk71B8WFqYrrrjinJcA+HP2ofMLLrig1H/svfHGG/rggw/UqFGjc15WkpSU5HdfcfYfW/4uF7Xtov5gKi7CTNavyG2Xx/ooHwSgy2zYsEF9+/ZVw4YNVb16df3jH/8o07+Tm5urLl266P777y/09jMjqlq1avrqq68K3B4XF6fmzZv7/fdHjhypiIgIPfvss5o6daqWLl2qpUuXaurUqXr22WdVo0YNjRo1yu/6Z+5MQ0NDz3k9ydSpU9WyZctC1x03blyJFn+io6MLPPPy+eefF7j99ddfV3R0tN/1d+zYUaKlMKbPKpi+BnDgwIGqW7eu3nvvPSUlJSk9PV3p6elKSkrSe++9p3r16mnw4MF+t13c4tROPSkpye/rWaVTh4NfeeUVv7cfPHiwwBtYzjZ9+vQi33h0ppycHD3//PO6+uqrSxwjJm/eOTOiLrjgggKH0qRTr9fydyhQMvuen95+WfcV/g75n70Ute0zD52Hh4frW5lQlAAAHCtJREFUscceK9Ghc+lUsDZv3ty3vP/++wVuHz58uN+XqhT3R1Zxf2ydGZ8ffPCBqlevroEDB/ouDxkypNiIKuoPrvHjxxcZgEV93Yp7yUVxz9yWJACLOkoye/ZsAvA8IABdKi8vT1OmTCkyAP/5z38WunTo0EEXX3yxGjZs6PfF3WfH0tmHYF977bUid6ySFBsbq3bt2qlq1aq+AKhataratWun7777rsh1z96Jnv2O2OHDh+vtt98u8t8oqW+++abErxmSTp1moag3YpTW008/7TtfXHk/q1AWb731lho1anROhDdq1MjvC+LPtzO/Zm5bv7B1Tb5vZ8fSr7/+WuD2F154QV26dCny3zD5npfHvqKkFi1aVOAUT2f/sVaaQ+clsWTJknOOPpRVTExMgT8yzo5Pf4s/Jn9wleTrVtQz7sU9c3vllVcWu58q61ESlB8CMIDFx8efc2hm/Pjxat68uS666CL17NmzyPPd/etf/yp0efbZZzVq1Khiz3NVXnJzc7Vnzx7t2bOnXM+Hd6bSRtyZSnv6hvJ25vZNn1Vo3rx5uZ0+Ydu2bYqPj1d8fHypDquV1J133lngNVClYfo9q8j1C1t33Lhx5X7uyrJw+nsunRtxpVHRP6sm3Dz72UyfuTU5SoLyQwAGsDvuuENvvfWW7/KaNWtUtWpVPfHEExo2bJgaNmxY5KGZysRk51rUmxWWLVumoUOH6r///W+JDyuZbH/8+PHlGgL79u3TwoULtXDhwjKfZsQppX3XZHmtW9HrF7XuJZdcom7duumLL74o8IaAYFKeP6uXXnppuf3Bk5aWpu+++04jRozwHYY9vZQH08dc27ZtC7xxorQq8g8uk+iXzJ+xR+EIwADWsGHDAufKGzBggG666Sbf5YkTJ+r3v/99mf7trKwsffTRR7ruuuvKtH5KSkqRn6wgSZ9//rm6d+/ue21WbGys2rRpo0svvVSDBg0q03b9ceIX8htvvOE7DcvZh0xMDisVtf3y+kSIo0eP6tFHHz3n8Ptjjz1W4NMLCrNnzx599dVXmjZt2jknAT569KheffVV4/kkArAwX331lXr27KlWrVopNDRUTZs21cMPP6zPPvuszJ/OsGXLlmIfr3FxcRo0aJBmz54t6dTrBu+44w7ddtttRb62sizK82tXXifQHjt2rMLDw3XBBRecc2i2uP1cSQXrY7YkKvoZexSOAAxgZ5+b7KabbtKQIUN8l7dv317kW+0LM2fOHD3yyCOqWbOmGjVqpGeeeaZMsxX3yQzvv/++atWqpfvuu0+NGjXSkCFDVL9+fQ0ZMkSvvvqqLrzwwnPOuWXCiZ1bgwYNNHbsWMPJSrf98vqF1qtXL7Vo0ULTp0/3vXFk2rRpuuyyy4o8weqyZcsUGRmpCy+8UDVq1FDLli0LnAanPN+dRwAWbc+ePfr222/18MMPq2rVqmX+uhf3s/rVV1+patWquvbaa3XBBRdo7NixioyM1BNPPKHHHntM4eHhRX78YGkFYgA2bdpUQ4YMKfXHp5VGZXjMBur6KBwBGMCaNWvmOy1BTk6OatSoUeAzTtesWVPsucmkU+dUGjJkiC677DLVr19fVapUUWxsbJEfPl/cCWkfeeSRIn+ptGnTxvfJDKtWrVLVqlX1xRdf+G7/4osvyvzsY2Gc2Lk1bNjwvHwm5tkBWB6HauvXr1/ou1bnzJlT5ClsOnbsqEcffVRer1eHDx/W008/rfr16/teCE8Amq9f3LrHjh3TjBkz1L9/f91www2KiIjQ1Vdf7fc0N2cfrjx7efHFF4v8nl199dW+w5yzZs1SjRo19N577/luf/fddwsceTBV3gF45jth/S3FqVevnuOH3IP5MRvo66NwBGAAe+qpp3TjjTdqwYIF+s9//qP69esXOCQ3YcIEXX/99X7X/+GHH/T3v/9dtWrV0gMPPKApU6YoJyenROcnq1Kliq699lq/7w67/vrriz2h8M6dO32XIyIiCjyTtHnzZkVGRpbky1AiTuzchg4dWuS56crL2QF45rvr/C3FqVGjhlJSUs65ft26dX7PnyhJdevWPecd1zExMapbt66WLVtGAJbD+kWte+ONN6p69eq65ppr9Pzzz2vKlCnFfpxZaGioGjdu7PddpI0bNy7ye1arVq0Cb/ioVq1agXP5rV+/vshPhSgtk6/d2YcCy+vUQ3379lVMTEyZZiqpYH3MumF9FI4ADGD79+/XzTffrNDQUNWuXVuTJk0qcHuHDh38fkC9dOpM8wMGDDjnhNElCcDWrVufcz6vMxX3yQz169cvECBNmzYt8K6u4s4UX1omO4grrrii0BdXe71e3XHHHWrRooXuvvvuc06nU16eeuqpAqeBeeGFF8r87rrTOnTooM6dO+vEiRO+644fP67OnTvr9ttv97te3bp1C/2UknfeeUeRkZGaNGlSQATgmV8zt61f1Lp169ZV/fr11bVrV3366afnxHhhmjdvXuRplYr7WY2MjCzwKQxnf1+K+jSMsjgz4nbu3FnkkYizOXUIOC8vT3fccYeio6PVp08fR97w9fe//73Mb8KQKjaiTF+DRwAGJgLQBTIzM5WXl3fO9QcPHjznRfpn6tWrl+rUqaP27dvr448/9j2TUJIAfOihh/wecpJOva4oNDTU7+033XSTYmNj/d7+888/q23btkXOUBpnRpy/z78t7GtYlN69eysiIkJ33HGHevTocc7pdEpj27ZtiouLK/Ijt6Ty+4W2du1aNW7cWPXr11eHDh3UoUMH1a9fX02aNDnno+3OdPPNN+vjjz8u9LahQ4cqIiKi3ALwzTff9J0XrVu3bgX+UFm9enWpThlUkeubbvtM+fn5SkpK0gcffKD77rtPv/vd79S4cWN17dr1nJOhn3b//ffrxRdf9PtvFvezev3112vKlCm+y1lZWQWibObMmUV+9rVJxJm+6am83jT1+uuvl8sbvnJzc7Vp0yZHTrHl5mcAKzogUTgCMMgdP35c48aN0y233KKIiAh16vT/2jv/mCbOP46nLRQKR2mtUqlWBVFEWYIDdXNxZMYYUBRjkQEzUcg2AtPNCRrnxGXzBzA2pjHqMjJw0xl1gvhjyeJvHFOHqEDGSPDHmE7FhM0fOBed3fv7h2lzd7273t1zpXzdvZL7o3nuc89Tyt29n+f5/JgNnU7nVYjcunWLKA9TY2Oju6YtF5s3b8amTZt420lEHF893MDAQIwePZr3RcqGoigcOnRI1Ll0CgoK0NvbC+Dp39/hcDCSm77yyivudjZKvdCAp75kX3zxBZYuXYqlS5eiqqoKDx8+FLSpqqrC/PnzedvLysoEk9M+evQIu3fvxpIlS5CVlYWsrCwsWbIEe/bsEZyssL+31BeGP+1J++bj33//xblz57BgwQLBIJD29nZGtgA2jx8/FryX6+rqPEqg0SktLcWqVat420mrmJD8vys1YTKZTJIDvsrLy93305MnT1BUVAS9Xg+tVouAgADk5uYqmvf0m2++kZ3rFGBOuKTyww8/MNK4kK7cSoV0xV6FG1UA/ofo7OzEihUrYLPZYDQakZ2djdraWkWuTZKImcueRMTxJU+ur69HSUkJwsPDRaW2GDZsmLvguRToL8T33nsPQ4cOxfHjx/HXX3+hsbERI0eOxIoVKzhtlXqh+YNLly4hOjoawcHBSE5ORmZmJjIzM5GcnIzg4GDExMTwVp7xVhvUG/60J+2bzvnz5/Hpp59i1qxZMJvNCAgIYPgDKgFpTja2vVJ1jOWwcOFC4proAGC1WiUHfNHv84qKCpjNZlRXV6O9vR07duxARESEpMo5Dx48QHV1NVauXIlNmzaJym8od8LF5saNG1i9ejVycnJQVFTk9bmn5ESVi9raWjz33HM+u77KU1QB+B/E6XTi4MGDSE9Ph16vV+SaSud5UkrEcfHll1+KCqSorq5GZmam17x5bOgvxPj4eOzcuZPRvn//ft4tta6uLsbM+ueff3bXx2xtbRXcvqVDTyjcV1sn06ZNQ3p6Omet4nv37iE9PR3Tp0/ntFUF4FN0Oh2SkpJQVFSEAwcO+GQrUel7lUTEsWvS8h183LlzB1u2bHF/zsnJYfjpZmRkiFr1Wr9+PRYvXix57K7fffz48R5prXbs2IFx48bx2sfFxeGPP/4AAFy7dg0jRoxAeHg4JkyYgAEDBiAiIkKwGgvJhMtgMLh/s/b2doSHhyMmJgbz5s3DmDFjEBISwukLzPXd5fL555/D4XAgOzsbZ8+eBQAcO3YMCQkJCAkJEUxXpaIMqgD8D0CfSV67dg0lJSUoLi5GQ0ODYrO4vvZPESviuLh8+TLCwsK8npeQkICwsDBQFIX4+HjRkbj0F+LAgQM9RFtXVxcMBgOn7alTpxiR3RRFMWpmarVaHDlyxOvYSRMK9/T0oLCwEHFxcbBYLDCbzYyDC4PBIOha0NbWxvu9vRWHdx18+NOetG86XOJZaZS+V0lEnEajweTJk2XX8q2oqEBOTg5jbA6Hw+2nGxsbK6pa0pw5c2A0GhEVFSU64It+n1ssFo//fW/BM3QR9dprr2Hy5Mluwd/b24tp06YhOzub116pCVd6ejpmzZqFf/75B8DTBYKsrCykpaUJjp1k5ba0tBSBgYFITExEaGgoQkJCsG7dOgwePBilpaVeI99VlEEVgM8wbW1tGD58OLRaLWJjY3Hx4kVYrVZQFAWj0QidTod9+/Yp0ldfC0CxIo6L8+fPY+jQoV7PkxuJS38hRkRE4PDhwx798+Xie/XVVxmlpyiKQkNDA7q6uvDrr7/i3Xffxdy5c0V+06fISSicmpqKUaNGoaysDDU1Ndi2bRvj4CIyMtKjdjWdAwcOIDIykrONtDi8P+2VKGyvVOCSGHwhAOWKONKVpIkTJzImROyx1dXVISEhwet1+OqmCwV8aTQarFu3Dhs3bkRkZKSHH2Vra6tgnlb6d4+OjvZ4Tvz444+w2+289qQTLlffdrsdp06dYrRfuHCB91512ZOs3I4ePdr9HDl16hQ0Gg1mzpxJ5EakIh1VAD7DpKSkIC0tDY2NjcjPz8eQIUOQl5cHp9MJp9OJwsJCTJo0SZG++loAihVxbB4/foysrCw4HA7Jtnyw/RfZUYRVVVWM89esWYPk5GTOa8XExDAe6uy/i7cHMx2pCYXpUBSFlpYWUf24KCkpgdlsRmVlJVpbW9Hd3Y3u7m60traisrISAwYM4F2NIS0O7097JQrbKxW4JAZfCEC5Io7Ul2zgwIGMFE6JiYm4fv26+/OVK1cQGhoq+/ps6P6P7JJxn332GePcDRs24IUXXuC9Fn0VzWazeYi5rq4uBAcH89qTTLi0Wq277+HDh3usUF+9elWwb9KV2+DgYMbvptfr0dzczHu+im9QBeAzjMVicd/Yvb290Gg0jJuso6MD4eHhivTVlwLQm4hjb9+4jqlTp8JqtWLw4MG8vjFykOpTdeXKFcZLig77wVhbW8vwQezq6hLltyknoTCdpKQknDlzRvT5LsrKyhAZGckQNBqNBpGRkZIc4v9r+NLnlY3S96o/o4BJVsHkIOVeP3PmjLuCDhf0pO8URWHv3r2M9oaGBgwZMoTXnmTCpdFoYDKZYDabERgY6JHz9fDhw4LR/kpEb9O3kCmKEvR3VPENqgB8hvHmnN5fqjpw2ZOIOL5tnLfffhubN29W3LFeyRxVgwYN4izh5uLEiROCpdxcyEkoTKepqQlTp07FyZMn0dPT47E16Y2rV6/i9OnTOH36tKgHe2dnJ7KysjivfffuXWRnZwv+jf1pT9q3GEh8Xtn4IghErhjYtm0bUUTyuHHj8NVXX/G2V1dXY+zYsbKvz0bJe53tUvL9998z2ouLi5GVlSV4DbkTLrZLB3uy99FHHwlu4ZKu3LK3kPV6PfLy8nySgFuFH1UAPsN4m2UpKQD5qmnIte9rEUeC0EuhqakJ5eXlKCoqEvVwS0tLQ25uLm9fCxYswMyZM72OSU5CYTqdnZ3ucn/0Q2xpLam88cYbWLZsGW/78uXLBaMC/WlP2rcYhHxeSXOykdqTijiAGbUupSbvqlWrYLfb0d3d7dF269Yt2O12vP/++0Rjo8N3r9+4cQO7d+/Gpk2bPGox9wVSJ1xSUTL1D+DpJiN1C1lFGVQB+Ayj0WgwY8YM9+pZQEAApk+f7v48Y8YM3pc5qVN6Xzq1S+HevXvYsmULEhMTFbsm30th3bp1kqsLHD9+HFqtFsXFxYwH7O3bt7F06VLodDocO3ZM0vjEJhSmM2HCBLz44ovYtWsXTpw44bE1ycfNmzexfft2fPfddx55yB48eIAPP/yQ02706NFoamrivW5zc7NgNQp/2pP2LQYhn9f+Uk1DrogD5Eet379/H3FxcQgLC0NhYSE2bNiADRs2oKCgAGFhYRgzZowieQJdcN3rNTU10Ov1oCjKwy8wKipKsb79CXvVVwnRr+J/VAH4DOMtss1bhBuJU7ovndrliLjjx49j/vz5CAkJQWRkJAoLC2X3z4ZPAEZEREiuLgA8rZLiqijg8tPRarXQ6/WC1VPokCYUNhgMjPqwYmhqaoLJZILRaITBYEBMTAwjBY7QinNwcLDXIA0hXy5/2pP27Q1vPq/9pZoGaeohF1Kj1v/880/k5+fDbDa7o6/NZjPy8/PdefaUguteHzp0KNauXQun06loX5cvX/a6Cnb48GGsXr3aPSlsaGhASkoKXnnlFcV8RgH+Z5xc0R8VFSUq0bWKb1EFoAonpE7pvnBqlyrifv/9d6xduxYjR46ExWKBVqvFrl27JG13iYHv4Th48GDJ1QVc/Pbbb6isrERBQQEKCgpQWVkpaYudNKHwlClTROUbpDNt2jTk5ubC6XTi/v37KCgogMVicTvCCwlAq9UquLJ59OhRWK1W3nZ/2pP2DZD5vJLmZCO150JO6iGSqHXg6Ur37du3cfv2bd57nLQKCpf/5IABAySveIqhpaVF8O+2fft2BAQE4PnnnwdFUaipqYHJZMLrr7+OvLw86PV6fPvtt4qMhe8ZJ1f0/z9XPHqWUAWgiixIndLF2ssRcXv37kVqaipCQ0ORkZGB+vp6PHr0CAEBAWhvb5c9Zj74/B/Ly8vxzjvvKN6fGEgTCu/Zswdjx45FTU0NmpubRSU1NpvNHsEmpaWlMJvNaGpqEhSA8+bNw5w5c3jHM3v2bGRkZPC2+9OetG+AzOeVNCcbqT0duSKONGpdLGwBp0RN22XLlqG0tFTyWNi+guxj+fLlggIwISHB7WN49OhRGAwGVFZWuts/+eQTvPTSS5LHxYWY4Bcpol8VgP0DVQCqyIIkEbMYexIRp9PpsHLlSg/fH7ECUCn/RafTiZSUFERHR4uuLuBCbik3pcYuJ6mx2WzmFIcVFRUwmUyoq6vjtb1w4QKCgoLgcDjw008/4e7du7h79y7Onj2LuXPnIigoCOfPn+cdrz/tSfsmhTQnG6m9CxIRRxq1LhYlU9i4ePLkCVJSUpCcnIxFixZJEt42m43hM0g/bDaboIgKDQ1lBHwEBgYy7r+Ojg5YLBai7+ZCSADKEf0ajQZff/019u/fL3io+BZVAKrIQm4iZrH2JCLuzTffRHh4OCZPnoytW7e6X0JiBaBS/otvvfUWgoKCkJKSggULFojyvXRBsrWixNjlJDWeMmUKtm7dytlWXl6OoKAgwRfawYMHMWjQII+xDxo0SNTLwJ/2pH0L4c3ntb/4AJKIONKodbEomcTaxZo1ayQHewHAiBEjsHv3bt72ixcvCt4vJpOJ4afL/m7eStFJgS91kFzRzzXB5JpwqvgWVQCqSIa0moYYe1IR9/DhQ2zbtg0vv/wygoKCMHv2bOh0OsGksS6U8l+kKAqHDh3yep43pGyt9GVCYQCYMWMGbt68CQCoqqrC/Pnzec8tKysTTC4LPP3d6urq8PHHH6O8vBz79u1jJML2hj/tSftmI9bntb9EASsl4uRErYuFSwCS+j+aTCZZwV4OhwPLly/nbW9paYFGo+FtT0pKYgR03bt3j7GdfeTIEd7ocyW2vgH5ol/dAu4fqAJQhRPSahpKVOMgEXF0Ojs7sWLFCthsNhiNRmRnZ6O2tlbSNeiI9V8cNmwYOjo6ZPdD6hTPhZIJhQHlEuMeO3YMcXFxvMmUx44d61GvtL/Yk/ZNR47Pa39ZAaQjVcSRRq2LhUsAkvo/Wq1WWcFe7e3tOHfuHG/748ePBaPL6+rqPOoP0yktLcWqVas42/wt+pXqX4UMVQCqcEKaiFnpRM5KiDin04mDBw8iPT1dVDk1PsT6P1ZXVyMzM1PWKpCvnOJJfTfZKCUAZ82axXBgZ7Nx40bBQAt/2pP2DZD5vJLmZFMqpxuJiCONWhcLVxUTUv/H9evXY/HixT4ZLx3SCGa6vb9Fv7oC2D9QBaDK/xVSRBw9z9S1a9dQUlKC4uJiNDQ0ED18xPo/JiQkICwsDBRFIT4+HuPHj2ccQvjKKZ7Ud5MNlwDs6elBYWEh4uLiYLFYYDabGQcXw4YNwy+//MLbT0dHB+x2O2+7P+1J+wbIA5cAskTMStiTiDi5UeukW5lKCJE5c+bAaDQiKipKcrCXFJQs4adU6h+5on/hwoWKJuhWkYcqAFUkQ1pNQ4q9HBHX1taG4cOHQ6vVIjY2FhcvXoTVagVFUTAajdDpdNi3b5+ssUvxf2TX+mQfQvjCKZ7Ud5MLLgGYmpqKUaNGoaysDDU1NR51R7kICgoSdAm4dOkSgoODedv9aU/aN0Du8wqQJ2ImtZcj4kij1vuD/6OcRPtyULLeulKpf+SK/jt37mDLli3uzzk5OQzRnJGRgTt37sj7oiqiUQWgimhIq2lIsScRcSkpKUhLS0NjYyPy8/MxZMgQ5OXlwel0wul0orCwEJMmTeLtWwn/RSns3LkTDx484G2XsrXS12PneilRFIWWlhZJ14mOjhYU5bW1tYJltfxpT9q3C6V8XgF5iZjl2pOIOCUqDvU3/0c+SLdwlRaASqT+kbtyW1FRgZycHMbYHA6HWzTHxsbigw8+kHVtFfGoAlBFENJqGnLtSUScxWJx58Pq7e2FRqNBc3Ozu72jowPh4eG8fSvtv+gNrq0dkq2Vvhw710spKSkJZ86ckXSdRYsWIT4+Hn///bdH28OHDxEfHy/oZ+VPe9K+uZDr80oaOCQ3p5tcEUcatU66ldmXNW1Jt3CVFoAkwpd05XbixImMSkPs71ZXV4eEhATZ41MRhyoAVTghraZBak8i4tgPN/bDRagihT/gerD3lVM8m9zcXEm+OevXr/fYqmlqasLUqVNx8uRJ9PT0eLwkuOju7obNZoPdbkd5eTnq6+tRX1+PsrIy2O122Gw2dHd3847Dn/akfQshxeeVNHBIrr0vUw95i1pXaiuT1P9RDEoKOFJ70q1v0pXbgQMHMqonJSYm4vr16+7PV65cQWhoqOzxqYhDFYAqnJA6pZPak4g49qoARVGMjPkkApDU/5ELrgc7aSk3LsSMXQmfqM7OTiQlJXm8HLwld+3q6kJqaqr7XNf5qampjN+vP9qT9u2CJHCJNHDIV4FHJKmHvEWtK7WVSer/KAZSAad0EAjJfU4q+g0Gg6BrQ1tbGwwGg+zxqYjjf7+s3St244MHAAAAAElFTkSuQmCC\" width=\"640\">"
      ],
      "text/plain": [
       "<IPython.core.display.HTML object>"
      ]
     },
     "metadata": {},
     "output_type": "display_data"
    },
    {
     "data": {
      "text/plain": [
       "[<matplotlib.lines.Line2D at 0x7f9c6b104ac0>]"
      ]
     },
     "execution_count": 47,
     "metadata": {},
     "output_type": "execute_result"
    }
   ],
   "source": [
    "plt.plot([key for key in regimeAmounts.keys()],[val for val in regimeAmounts.values()])"
   ]
  },
  {
   "cell_type": "code",
   "execution_count": 48,
   "metadata": {},
   "outputs": [
    {
     "data": {
      "text/plain": [
       "([<matplotlib.axis.XTick at 0x7f9c6b0d9310>,\n",
       "  <matplotlib.axis.XTick at 0x7f9c6b0d92e0>,\n",
       "  <matplotlib.axis.XTick at 0x7f9c6b0d46a0>,\n",
       "  <matplotlib.axis.XTick at 0x7f9c6b05cdf0>,\n",
       "  <matplotlib.axis.XTick at 0x7f9c6b06c340>,\n",
       "  <matplotlib.axis.XTick at 0x7f9c6b06c850>,\n",
       "  <matplotlib.axis.XTick at 0x7f9c6b06cd60>,\n",
       "  <matplotlib.axis.XTick at 0x7f9c6b06c8e0>,\n",
       "  <matplotlib.axis.XTick at 0x7f9c6b070100>,\n",
       "  <matplotlib.axis.XTick at 0x7f9c6b070610>,\n",
       "  <matplotlib.axis.XTick at 0x7f9c6b070b20>,\n",
       "  <matplotlib.axis.XTick at 0x7f9c6b076070>,\n",
       "  <matplotlib.axis.XTick at 0x7f9c6b076580>,\n",
       "  <matplotlib.axis.XTick at 0x7f9c6b076a90>,\n",
       "  <matplotlib.axis.XTick at 0x7f9c6b076fa0>,\n",
       "  <matplotlib.axis.XTick at 0x7f9c6b07c4f0>,\n",
       "  <matplotlib.axis.XTick at 0x7f9c6b076610>,\n",
       "  <matplotlib.axis.XTick at 0x7f9c6b0706a0>,\n",
       "  <matplotlib.axis.XTick at 0x7f9c6b05cf40>,\n",
       "  <matplotlib.axis.XTick at 0x7f9c6b07ca90>,\n",
       "  <matplotlib.axis.XTick at 0x7f9c6b07cfa0>,\n",
       "  <matplotlib.axis.XTick at 0x7f9c6b0834f0>,\n",
       "  <matplotlib.axis.XTick at 0x7f9c6b083a00>,\n",
       "  <matplotlib.axis.XTick at 0x7f9c6b083f10>,\n",
       "  <matplotlib.axis.XTick at 0x7f9c6b088460>,\n",
       "  <matplotlib.axis.XTick at 0x7f9c6b088970>,\n",
       "  <matplotlib.axis.XTick at 0x7f9c6b083580>,\n",
       "  <matplotlib.axis.XTick at 0x7f9c6b07c160>,\n",
       "  <matplotlib.axis.XTick at 0x7f9c6b088ca0>],\n",
       " [Text(0, 0, 'SA'),\n",
       "  Text(0, 0, 'BAU'),\n",
       "  Text(0, 0, 'BAU_15'),\n",
       "  Text(0, 0, 'BAU_30'),\n",
       "  Text(0, 0, 'BAU_5'),\n",
       "  Text(0, 0, 'BAU_F'),\n",
       "  Text(0, 0, 'BAU_m5'),\n",
       "  Text(0, 0, 'BAU_m5_F'),\n",
       "  Text(0, 0, 'BAUwGTR'),\n",
       "  Text(0, 0, 'BAUwoT'),\n",
       "  Text(0, 0, 'BAUwoT_m20'),\n",
       "  Text(0, 0, 'BAUwoT_m20_F'),\n",
       "  Text(0, 0, 'CCF_1'),\n",
       "  Text(0, 0, 'CCF_2'),\n",
       "  Text(0, 0, 'CCF_3'),\n",
       "  Text(0, 0, 'CCF_4'),\n",
       "  Text(0, 0, 'BAUwT'),\n",
       "  Text(0, 0, 'BAUwT_15'),\n",
       "  Text(0, 0, 'BAUwT_30'),\n",
       "  Text(0, 0, 'BAUwT_5'),\n",
       "  Text(0, 0, 'BAUwT_F'),\n",
       "  Text(0, 0, 'BAUwT_GTR'),\n",
       "  Text(0, 0, 'BAUwT_m5'),\n",
       "  Text(0, 0, 'BAUwT_m5_F'),\n",
       "  Text(0, 0, 'BAUwT_15_B'),\n",
       "  Text(0, 0, 'BAUwT_30_B'),\n",
       "  Text(0, 0, 'BAUwT_5_B'),\n",
       "  Text(0, 0, 'BAUwT_B'),\n",
       "  Text(0, 0, 'BAUwT_GTR_B')])"
      ]
     },
     "execution_count": 48,
     "metadata": {},
     "output_type": "execute_result"
    }
   ],
   "source": [
    "plt.bar(range(len(regimeAmounts)), list(regimeAmounts.values()), align='center')\n",
    "plt.xticks(range(len(regimeAmounts)), list(regimeAmounts.keys()),rotation=\"vertical\")"
   ]
  },
  {
   "cell_type": "markdown",
   "metadata": {},
   "source": [
    "## Export data as csv\n",
    "\n",
    "- <b>Solution_alldata</b> contains the optimal regime per stand AND the timely development of indicator values plus all other input columns (represented_are_by_NFIplot, region, NUTS2)\n",
    "- <b>Solution</b> contains only the selected optimal regime and its share (if multiple regimes per stand are selected)\n"
   ]
  },
  {
   "cell_type": "code",
   "execution_count": 49,
   "metadata": {},
   "outputs": [],
   "source": [
    "try:\n",
    "    os.mkdir(\"results\")\n",
    "except FileExistsError:\n",
    "    pass\n",
    "b = []\n",
    "c = []\n",
    "for key in mfo.regimesDecision.keys():\n",
    "    if mfo.regimesDecision[key].solution_value() > 0:\n",
    "        b = b+ [(key[0],x*5+2016, key[1]) for x in range(0,21)]\n",
    "        c = c+ [(key[0],key[1],mfo.regimesDecision[key].solution_value())]\n",
    "data2b = mfo.data.iloc[mfo.data.index.isin(b)]\n",
    "data2b.to_csv(\"./results/solution_alldata_\"+scenario+\"_\"+RCP+\"_\"+extension+\".csv\")\n",
    "c1 = pd.DataFrame(c)\n",
    "c1.to_csv(\"./results/solution_\"+scenario+\"_\"+RCP+\"_\"+extension+\".csv\")"
   ]
  },
  {
   "cell_type": "markdown",
   "metadata": {},
   "source": [
    "## Export objective ranges "
   ]
  },
  {
   "cell_type": "markdown",
   "metadata": {},
   "source": [
    "Save as json file"
   ]
  },
  {
   "cell_type": "code",
   "execution_count": 50,
   "metadata": {},
   "outputs": [],
   "source": [
    "import json\n",
    "mfo.objectiveRanges\n",
    "\n",
    "with open('./results/objectiveRanges_'+scenario+'_'+RCP+'_'+extension+'.json', 'w') as json_file:\n",
    "  json.dump(mfo.objectiveRanges, json_file)"
   ]
  },
  {
   "cell_type": "markdown",
   "metadata": {},
   "source": [
    "Save as CSV."
   ]
  },
  {
   "cell_type": "code",
   "execution_count": 51,
   "metadata": {},
   "outputs": [],
   "source": [
    "df = pd.read_json('./results/objectiveRanges_'+scenario+'_'+RCP+'_'+extension+'.json')\n",
    "\n",
    "df.to_csv('./results/objectiveRanges_'+scenario+'_'+RCP+'_'+extension+'.csv')"
   ]
  },
  {
   "cell_type": "markdown",
   "metadata": {},
   "source": [
    "## Export objective values\n",
    "The optimal solution for each objective."
   ]
  },
  {
   "cell_type": "code",
   "execution_count": 52,
   "metadata": {},
   "outputs": [],
   "source": [
    "with open(\"./results/objectiveValues_\"+scenario+'_'+RCP+'_'+extension+\".csv\",\"w\") as file: \n",
    "    delim = \"\" \n",
    "    for objName in mfo.objectiveTypes.keys(): \n",
    "        file.write(delim+objName) \n",
    "        delim = \",\" \n",
    "    file.write(\"\\n\") \n",
    "    delim = \"\" \n",
    "    for objName in mfo.objectiveTypes.keys(): \n",
    "        file.write(delim+str(mfo.objective[objName].solution_value())) \n",
    "        delim = \",\" \n",
    "    file.write(\"\\n\")"
   ]
  },
  {
   "cell_type": "code",
   "execution_count": null,
   "metadata": {},
   "outputs": [],
   "source": []
  }
 ],
 "metadata": {
  "kernelspec": {
   "display_name": "Python 3",
   "language": "python",
   "name": "python3"
  },
  "language_info": {
   "codemirror_mode": {
    "name": "ipython",
    "version": 3
   },
   "file_extension": ".py",
   "mimetype": "text/x-python",
   "name": "python",
   "nbconvert_exporter": "python",
   "pygments_lexer": "ipython3",
   "version": "3.8.3"
  }
 },
 "nbformat": 4,
 "nbformat_minor": 2
}
