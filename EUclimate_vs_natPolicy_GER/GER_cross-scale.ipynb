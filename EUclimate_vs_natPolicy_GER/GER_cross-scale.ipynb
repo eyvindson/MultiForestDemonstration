{
 "cells": [
  {
   "cell_type": "markdown",
   "metadata": {},
   "source": [
    "# EU climate change mitigation targets compromise forest ecosystem services and biodiversity\n",
    "\n",
    "## Germany"
   ]
  },
  {
   "cell_type": "markdown",
   "metadata": {},
   "source": [
    "\n",
    "Above the code cells, there are short instructions how the users can modify the codes in the cells. If there are no instructions, no changes should be needed for the cell by default.\n",
    "\n",
    "A detailed description is provided in the README.md.\n",
    "\n",
    "## Basic definitions\n",
    "Simulated forest data - name and climate scenario"
   ]
  },
  {
   "cell_type": "markdown",
   "metadata": {},
   "source": [
    "Specify policy scenario:\n",
    "\n",
    "- \"FS\" -  National Forest Strategy\n",
    "- \"BDS\" - Biodiversity Strategy\n",
    "- \"BES\" - Bioeconomy Strategy"
   ]
  },
  {
   "cell_type": "code",
   "execution_count": 1,
   "metadata": {},
   "outputs": [],
   "source": [
    "scenario =\"NFS\""
   ]
  },
  {
   "cell_type": "markdown",
   "metadata": {},
   "source": [
    "## Specify \"if\" and \"which\" GLOBIOM scenario is used\n",
    "\n",
    "**ATTENTION**: each scenario relates to specific CC simulation!<br>\n",
    "Three scenarios define the perdiodic future demand for log, pulp/fuelwood, and forest residues.<br>\n",
    "- 1.5 degrees - RCP 0 (no CC)\n",
    "- LTS - RCP 2.6\n",
    "- NDC - RCP 4.5\n"
   ]
  },
  {
   "cell_type": "code",
   "execution_count": 2,
   "metadata": {},
   "outputs": [],
   "source": [
    "RCP = \"RCP0\"  # \"RCP0\"  or \"RCP26\" or \"RCP45\""
   ]
  },
  {
   "cell_type": "code",
   "execution_count": 3,
   "metadata": {},
   "outputs": [],
   "source": [
    "glob_demands = True # True or False"
   ]
  },
  {
   "cell_type": "code",
   "execution_count": 4,
   "metadata": {},
   "outputs": [],
   "source": [
    "approach = \"bottomup\" # \"topdown\" or \"bottomup\""
   ]
  },
  {
   "cell_type": "markdown",
   "metadata": {},
   "source": [
    "## Read the data"
   ]
  },
  {
   "cell_type": "code",
   "execution_count": 5,
   "metadata": {},
   "outputs": [],
   "source": [
    "import os\n",
    "import numpy as np\n",
    "import sys\n",
    "import requests\n",
    "import wget"
   ]
  },
  {
   "cell_type": "markdown",
   "metadata": {},
   "source": [
    "### Read .py class"
   ]
  },
  {
   "cell_type": "code",
   "execution_count": 6,
   "metadata": {},
   "outputs": [],
   "source": [
    "if glob_demands == True : \n",
    "    nameGLOB = \"_GLOB\"\n",
    "else :\n",
    "    nameGLOB = \"\""
   ]
  },
  {
   "cell_type": "code",
   "execution_count": 7,
   "metadata": {
    "scrolled": true
   },
   "outputs": [],
   "source": [
    "import multiFunctionalOptimization as MFO"
   ]
  },
  {
   "cell_type": "code",
   "execution_count": 8,
   "metadata": {},
   "outputs": [
    {
     "data": {
      "text/plain": [
       "<module 'multiFunctionalOptimization' from 'E:\\\\MultiForest\\\\Optimization\\\\multiforestOptimizationNotebook\\\\MultiForestDemonstration\\\\multiFunctionalOptimization.py'>"
      ]
     },
     "execution_count": 8,
     "metadata": {},
     "output_type": "execute_result"
    }
   ],
   "source": [
    "from importlib import reload\n",
    "reload(MFO)"
   ]
  },
  {
   "cell_type": "code",
   "execution_count": 9,
   "metadata": {},
   "outputs": [
    {
     "data": {
      "text/plain": [
       "'Using CLP'"
      ]
     },
     "metadata": {},
     "output_type": "display_data"
    }
   ],
   "source": [
    "mfo = MFO.MultiFunctionalOptimization()"
   ]
  },
  {
   "cell_type": "code",
   "execution_count": 10,
   "metadata": {},
   "outputs": [
    {
     "data": {
      "text/plain": [
       "'rslt_RCP0_Bavaria_Germany_pause_2_V1_GLOB.zip'"
      ]
     },
     "execution_count": 10,
     "metadata": {},
     "output_type": "execute_result"
    }
   ],
   "source": [
    "filename = \"rslt_\"+RCP+\"_Bavaria_Germany_pause_2_V1\"+nameGLOB+\".zip\"\n",
    "filename"
   ]
  },
  {
   "cell_type": "markdown",
   "metadata": {},
   "source": [
    "### Import data"
   ]
  },
  {
   "cell_type": "code",
   "execution_count": 11,
   "metadata": {},
   "outputs": [],
   "source": [
    "if not filename in os.listdir(\".\"):\n",
    "    url = \"https://syncandshare.lrz.de/dl/fiQMgp5WcrfEe9sJUZptH7Mu/Data/\"+filename\n",
    "    r = requests.get(url, allow_redirects=True)\n",
    "    open(filename, 'wb').write(r.content)\n"
   ]
  },
  {
   "cell_type": "code",
   "execution_count": 12,
   "metadata": {},
   "outputs": [],
   "source": [
    "### Read data"
   ]
  },
  {
   "cell_type": "code",
   "execution_count": 13,
   "metadata": {},
   "outputs": [
    {
     "data": {
      "text/plain": [
       "'sample size 745/3725(20%)'"
      ]
     },
     "metadata": {},
     "output_type": "display_data"
    },
    {
     "name": "stdout",
     "output_type": "stream",
     "text": [
      "Wall time: 3.12 s\n"
     ]
    }
   ],
   "source": [
    "%%time\n",
    "mfo.readData(filename,\n",
    "             sampleRatio=0.2 #If no sample ratio given, the ratio is assumed to be 1\n",
    "            ) "
   ]
  },
  {
   "cell_type": "code",
   "execution_count": 14,
   "metadata": {},
   "outputs": [
    {
     "data": {
      "text/plain": [
       "Index(['year', 'id', 'regime', 'ecoregion', 'V_strat', 'V_strat_reg',\n",
       "       'Ve_strat', 'Vm_strat', 'iV_strat', 'pct_coni', 'pct_reg_coni',\n",
       "       'pct_deci', 'pct_reg_deci', 'spruce_pct', 'spruce_reg_pct', 'fir_pct',\n",
       "       'fir_reg_pct', 'pine_pct', 'pine_reg_pct', 'larch_pct', 'larch_reg_pct',\n",
       "       'beech_pct', 'beech_reg_pct', 'oak_pct', 'oak_reg_pct',\n",
       "       'douglasfir_pct', 'douglasfir_reg_pct', 'hardbrl_pct',\n",
       "       'hardbrl_reg_pct', 'softbrl_pct', 'softbrl_reg_pct', 'spi', 'spi_reg',\n",
       "       'maxh', 'maxh_reg', 'spint', 'freq_h_0_50', 'freq_h_50_80',\n",
       "       'freq_h_80_100', 'cntlayers', 'shan_species', 'shan_species_reg',\n",
       "       'shan_height', 'volHa_dbhGR10', 'volHa_dbhGR20', 'volHa_dbhGR30',\n",
       "       'volHa_dbhGR40', 'volHa_dbhGR50', 'volHa_dbhGR60', 'volHa_dead_dbhGR30',\n",
       "       'volHa_dead_dbhGR40', 'volHa_dead_dbhGR50', 'volHa_dead_dbhGR60',\n",
       "       'sawntimber', 'industrywood', 'yieldloss', 'remaininstand',\n",
       "       'represented_area_by_NFIplot', 'region', 'NUTS2', 'clear_cut',\n",
       "       'protected', 'pnv_beech', 'pnv_spruce', 'pnv_pine', 'pnv_fir',\n",
       "       'pnv_oak', 'pnv_hardbrl', 'landtenure', 'ffh', 'V (gross harvest)',\n",
       "       'CSagbDeadMerchWood', 'CFagbHarvestResidToDeadWood', 'V (remain)',\n",
       "       'stormBBRisk', 'Biodiversity', 'RandA.ASP1.Diversity',\n",
       "       'RandA.ASP2.Deadwood', 'RandA.ASP3.DensityIntensity',\n",
       "       'RecreationAndAesthetics', 'V Sawlogs', 'V PulpWood', 'V RemainWood',\n",
       "       'V HarvestResidues', 'CFpulpWoodToEnergy', 'CFsawlogsToEnergy',\n",
       "       'CSagbLivingTotal', 'CSbgbLivingTotal', 'BalanceCarbonTotalYear',\n",
       "       'covered_area_per', 'relative_Volume', 'fuelwood', 'GLOBpulpwood',\n",
       "       'GLOBsawlogs', 'GLOBresidues', 'GLOBfuelwood'],\n",
       "      dtype='object')"
      ]
     },
     "execution_count": 14,
     "metadata": {},
     "output_type": "execute_result"
    }
   ],
   "source": [
    "mfo.data.columns"
   ]
  },
  {
   "cell_type": "markdown",
   "metadata": {},
   "source": [
    "## Create new columns"
   ]
  },
  {
   "cell_type": "code",
   "execution_count": 15,
   "metadata": {},
   "outputs": [],
   "source": [
    "if glob_demands == True :     \n",
    "    glob_sawlogs = mfo.data.groupby('year')['GLOBsawlogs'].apply(lambda x: list(np.unique(x)))\n",
    "    df = glob_sawlogs.to_frame().reset_index()\n",
    "    df = df[\"GLOBsawlogs\"]\n",
    "    flattened_list = [y for x in df for y in x]\n",
    "    glob_sawlogs = flattened_list\n",
    "    glob_sawlogs"
   ]
  },
  {
   "cell_type": "code",
   "execution_count": 16,
   "metadata": {},
   "outputs": [],
   "source": [
    "if glob_demands == True : \n",
    "    glob_pulwood = mfo.data.groupby('year')['GLOBpulpwood'].apply(lambda x: (np.unique(x)))\n",
    "    df = glob_pulwood.to_frame().reset_index()\n",
    "    df = df[\"GLOBpulpwood\"]\n",
    "    flattened_list = [y for x in df for y in x]\n",
    "    glob_pulwood = flattened_list\n",
    "    glob_pulwood"
   ]
  },
  {
   "cell_type": "code",
   "execution_count": 17,
   "metadata": {},
   "outputs": [],
   "source": [
    "if glob_demands == True : \n",
    "    glob_residues = mfo.data.groupby('year')['GLOBresidues'].apply(lambda x: (np.unique(x)))\n",
    "    df = glob_residues.to_frame().reset_index()\n",
    "    df = df[\"GLOBresidues\"]\n",
    "    flattened_list = [y for x in df for y in x]\n",
    "    glob_residues = flattened_list\n",
    "    glob_residues"
   ]
  },
  {
   "cell_type": "code",
   "execution_count": 18,
   "metadata": {},
   "outputs": [],
   "source": [
    "if glob_demands == True : \n",
    "    glob_fuelwood = mfo.data.groupby('year')['GLOBfuelwood'].apply(lambda x: (np.unique(x)))\n",
    "    df = glob_fuelwood.to_frame().reset_index()\n",
    "    df = df[\"GLOBfuelwood\"]\n",
    "    flattened_list = [y for x in df for y in x]\n",
    "    glob_fuelwood = flattened_list\n",
    "    glob_fuelwood"
   ]
  },
  {
   "cell_type": "code",
   "execution_count": 19,
   "metadata": {},
   "outputs": [],
   "source": [
    "if glob_demands == True : \n",
    "    zipped_lists = zip(glob_pulwood, glob_fuelwood)\n",
    "    glod_pulp_fuel = [x + y for (x, y) in zipped_lists]\n",
    "    glod_pulp_fuel"
   ]
  },
  {
   "cell_type": "code",
   "execution_count": 20,
   "metadata": {},
   "outputs": [],
   "source": [
    "mfo.data[\"HarvestedVolume\"] = (mfo.data[\"Ve_strat\"].values)*mfo.data[\"represented_area_by_NFIplot\"].values"
   ]
  },
  {
   "cell_type": "code",
   "execution_count": 21,
   "metadata": {},
   "outputs": [],
   "source": [
    "mfo.data[\"CarbonBalance\"] = (mfo.data[\"BalanceCarbonTotalYear\"].values)*mfo.data[\"represented_area_by_NFIplot\"].values"
   ]
  },
  {
   "cell_type": "code",
   "execution_count": 22,
   "metadata": {},
   "outputs": [],
   "source": [
    "mfo.data[\"AnnualIncrement\"] = mfo.data[\"iV_strat\"].values*mfo.data[\"represented_area_by_NFIplot\"].values"
   ]
  },
  {
   "cell_type": "code",
   "execution_count": 23,
   "metadata": {},
   "outputs": [],
   "source": [
    "mfo.data[\"speciesProfileIndex\"] = mfo.data[\"spi\"].values "
   ]
  },
  {
   "cell_type": "code",
   "execution_count": 24,
   "metadata": {},
   "outputs": [],
   "source": [
    "mfo.data[\"VolumeLargeTrees\"] = mfo.data[\"volHa_dbhGR60\"].values*mfo.data[\"represented_area_by_NFIplot\"].values"
   ]
  },
  {
   "cell_type": "code",
   "execution_count": 25,
   "metadata": {},
   "outputs": [],
   "source": [
    "mfo.data[\"speciesInterminglingIndex\"] = mfo.data[\"spint\"].values"
   ]
  },
  {
   "cell_type": "code",
   "execution_count": 26,
   "metadata": {},
   "outputs": [],
   "source": [
    "mfo.data[\"ShannonIndexSpecies\"] = mfo.data[\"shan_species\"].values"
   ]
  },
  {
   "cell_type": "code",
   "execution_count": 27,
   "metadata": {},
   "outputs": [],
   "source": [
    "mfo.data[\"ShannonIndexTreeHeight\"] = mfo.data[\"shan_height\"].values"
   ]
  },
  {
   "cell_type": "code",
   "execution_count": 28,
   "metadata": {},
   "outputs": [],
   "source": [
    "mfo.data[\"standingVolume\"] = mfo.data[\"V_strat\"]*mfo.data[\"represented_area_by_NFIplot\"].values"
   ]
  },
  {
   "cell_type": "code",
   "execution_count": 29,
   "metadata": {},
   "outputs": [],
   "source": [
    "mfo.data[\"noNaturalSpecies\"] = mfo.data.apply(lambda x: sum([x[name] for name in mfo.data.columns if \"pnv\" in name]),axis=1)"
   ]
  },
  {
   "cell_type": "code",
   "execution_count": 30,
   "metadata": {},
   "outputs": [],
   "source": [
    "mfo.data[\"stateForest\"] = mfo.data['landtenure'].apply(lambda x: 1 if x < 1000 else 0)"
   ]
  },
  {
   "cell_type": "code",
   "execution_count": 31,
   "metadata": {},
   "outputs": [],
   "source": [
    "mfo.data[\"SawTimber\"] = mfo.data[\"V Sawlogs\"].values*mfo.data[\"represented_area_by_NFIplot\"].values"
   ]
  },
  {
   "cell_type": "code",
   "execution_count": 32,
   "metadata": {},
   "outputs": [],
   "source": [
    "mfo.data[\"PulpWood\"] =mfo.data[\"V PulpWood\"].values*mfo.data[\"represented_area_by_NFIplot\"].values"
   ]
  },
  {
   "cell_type": "code",
   "execution_count": 33,
   "metadata": {},
   "outputs": [],
   "source": [
    "mfo.data[\"ForestResidues\"] =mfo.data[\"V HarvestResidues\"].values*mfo.data[\"represented_area_by_NFIplot\"].values"
   ]
  },
  {
   "cell_type": "code",
   "execution_count": 34,
   "metadata": {},
   "outputs": [],
   "source": [
    "mfo.data[\"Fuelwood\"] = mfo.data[\"fuelwood\"].values*mfo.data[\"represented_area_by_NFIplot\"].values"
   ]
  },
  {
   "cell_type": "code",
   "execution_count": 35,
   "metadata": {},
   "outputs": [],
   "source": [
    "mfo.data[\"energyProds\"] =mfo.data[\"CFsawlogsToEnergy\"].values*mfo.data[\"represented_area_by_NFIplot\"].values"
   ]
  },
  {
   "cell_type": "code",
   "execution_count": 36,
   "metadata": {},
   "outputs": [],
   "source": [
    "mfo.data[\"TotalLivingCarbon\"] = (mfo.data[\"CSagbLivingTotal\"].values + mfo.data[\"CSbgbLivingTotal\"].values )*mfo.data[\"represented_area_by_NFIplot\"].values"
   ]
  },
  {
   "cell_type": "code",
   "execution_count": 37,
   "metadata": {},
   "outputs": [
    {
     "name": "stderr",
     "output_type": "stream",
     "text": [
      "C:\\Users\\torano\\anaconda3\\lib\\site-packages\\ipykernel_launcher.py:4: RuntimeWarning: invalid value encountered in true_divide\n",
      "  after removing the cwd from sys.path.\n",
      "C:\\Users\\torano\\anaconda3\\lib\\site-packages\\ipykernel_launcher.py:5: RuntimeWarning: invalid value encountered in true_divide\n",
      "  \"\"\"\n"
     ]
    }
   ],
   "source": [
    "mfo.data[\"pnvDeviation\"] =((mfo.data[\"pnv_spruce\"].values*100/mfo.data[\"noNaturalSpecies\"].values - mfo.data[\"spruce_pct\"].values)**2 + \n",
    "                      (mfo.data[\"pnv_beech\"].values*100/mfo.data[\"noNaturalSpecies\"].values - mfo.data[\"beech_pct\"].values)**2 +\n",
    "                      (mfo.data[\"pnv_pine\"].values*100/mfo.data[\"noNaturalSpecies\"].values - mfo.data[\"pine_pct\"].values)**2+\n",
    "                      (mfo.data[\"pnv_fir\"].values*100/mfo.data[\"noNaturalSpecies\"].values - mfo.data[\"fir_pct\"].values)**2+\n",
    "                      (mfo.data[\"pnv_oak\"].values*100/mfo.data[\"noNaturalSpecies\"].values - mfo.data[\"oak_pct\"].values)**2)"
   ]
  },
  {
   "cell_type": "code",
   "execution_count": 38,
   "metadata": {},
   "outputs": [],
   "source": [
    "import numpy as np"
   ]
  },
  {
   "cell_type": "code",
   "execution_count": 39,
   "metadata": {},
   "outputs": [],
   "source": [
    "mfo.data[\"pnvDeviation\"].replace(np.nan,0,inplace=True)"
   ]
  },
  {
   "cell_type": "code",
   "execution_count": 40,
   "metadata": {},
   "outputs": [
    {
     "data": {
      "text/plain": [
       "5           8483.904800\n",
       "7           6449.696100\n",
       "21         15221.355800\n",
       "23         16714.163600\n",
       "24          6666.666667\n",
       "               ...     \n",
       "1009453     5443.435200\n",
       "1009465        0.000000\n",
       "1009469     7776.125000\n",
       "1009471    14572.982500\n",
       "1009474    20000.000000\n",
       "Name: pnvDeviation, Length: 201895, dtype: float64"
      ]
     },
     "execution_count": 40,
     "metadata": {},
     "output_type": "execute_result"
    }
   ],
   "source": [
    "mfo.data[\"pnvDeviation\"]"
   ]
  },
  {
   "cell_type": "code",
   "execution_count": 41,
   "metadata": {},
   "outputs": [
    {
     "data": {
      "text/plain": [
       "CCF_P1           13410\n",
       "BAU_FS1          13410\n",
       "BAU_RR_p2        13410\n",
       "CCF_P3_p2        13410\n",
       "BAU_RR_p1        13410\n",
       "CCF_STATE        13410\n",
       "NOT              13410\n",
       "CCF_P3           13410\n",
       "BAU_1            13410\n",
       "CCF_P2           13410\n",
       "BAU_0_p1         13410\n",
       "CCF_P3_p1        13410\n",
       "BAU_0_p2         13410\n",
       "BAU_RR           13410\n",
       "BAU_0            13410\n",
       "initial_state      745\n",
       "Name: regime, dtype: int64"
      ]
     },
     "execution_count": 41,
     "metadata": {},
     "output_type": "execute_result"
    }
   ],
   "source": [
    "mfo.data[mfo.regimesEnu].value_counts()"
   ]
  },
  {
   "cell_type": "markdown",
   "metadata": {},
   "source": [
    "### Add column to restrict SA¶"
   ]
  },
  {
   "cell_type": "code",
   "execution_count": 42,
   "metadata": {},
   "outputs": [],
   "source": [
    "regimeClassNames = {\"regimeClass0name\":\"CCF\",\"regimeClass1name\":\"SA\"}\n",
    "regimeClassregimes = {\"regimeClass0regimes\":[\"CCF_P3 \",\"CCF_P3_p1\",\"CCF_P3_p2\"],\"regimeClass1regimes\":[\"NOT\"]}"
   ]
  },
  {
   "cell_type": "code",
   "execution_count": 43,
   "metadata": {},
   "outputs": [],
   "source": [
    "mfo.addRegimeClassifications(regimeClassNames = regimeClassNames,regimeClassregimes=regimeClassregimes)"
   ]
  },
  {
   "cell_type": "code",
   "execution_count": 44,
   "metadata": {},
   "outputs": [],
   "source": [
    "mfo.finalizeData(initialRegime=\"initial_state\")"
   ]
  },
  {
   "cell_type": "code",
   "execution_count": 45,
   "metadata": {},
   "outputs": [
    {
     "data": {
      "text/html": [
       "<div>\n",
       "<style scoped>\n",
       "    .dataframe tbody tr th:only-of-type {\n",
       "        vertical-align: middle;\n",
       "    }\n",
       "\n",
       "    .dataframe tbody tr th {\n",
       "        vertical-align: top;\n",
       "    }\n",
       "\n",
       "    .dataframe thead th {\n",
       "        text-align: right;\n",
       "    }\n",
       "</style>\n",
       "<table border=\"1\" class=\"dataframe\">\n",
       "  <thead>\n",
       "    <tr style=\"text-align: right;\">\n",
       "      <th></th>\n",
       "      <th></th>\n",
       "      <th></th>\n",
       "      <th>ecoregion</th>\n",
       "      <th>V_strat</th>\n",
       "      <th>V_strat_reg</th>\n",
       "      <th>Ve_strat</th>\n",
       "      <th>Vm_strat</th>\n",
       "      <th>iV_strat</th>\n",
       "      <th>pct_coni</th>\n",
       "      <th>pct_reg_coni</th>\n",
       "      <th>pct_deci</th>\n",
       "      <th>pct_reg_deci</th>\n",
       "      <th>...</th>\n",
       "      <th>stateForest</th>\n",
       "      <th>SawTimber</th>\n",
       "      <th>PulpWood</th>\n",
       "      <th>ForestResidues</th>\n",
       "      <th>Fuelwood</th>\n",
       "      <th>energyProds</th>\n",
       "      <th>TotalLivingCarbon</th>\n",
       "      <th>pnvDeviation</th>\n",
       "      <th>CCF_forests</th>\n",
       "      <th>SA_forests</th>\n",
       "    </tr>\n",
       "    <tr>\n",
       "      <th>id</th>\n",
       "      <th>year</th>\n",
       "      <th>regime</th>\n",
       "      <th></th>\n",
       "      <th></th>\n",
       "      <th></th>\n",
       "      <th></th>\n",
       "      <th></th>\n",
       "      <th></th>\n",
       "      <th></th>\n",
       "      <th></th>\n",
       "      <th></th>\n",
       "      <th></th>\n",
       "      <th></th>\n",
       "      <th></th>\n",
       "      <th></th>\n",
       "      <th></th>\n",
       "      <th></th>\n",
       "      <th></th>\n",
       "      <th></th>\n",
       "      <th></th>\n",
       "      <th></th>\n",
       "      <th></th>\n",
       "      <th></th>\n",
       "    </tr>\n",
       "  </thead>\n",
       "  <tbody>\n",
       "    <tr>\n",
       "      <th>6</th>\n",
       "      <th>2012</th>\n",
       "      <th>initial_state</th>\n",
       "      <td>9.6.2</td>\n",
       "      <td>138.631058</td>\n",
       "      <td>0.0</td>\n",
       "      <td>0.0</td>\n",
       "      <td>0.0</td>\n",
       "      <td>138.631058</td>\n",
       "      <td>36.0</td>\n",
       "      <td>0.0</td>\n",
       "      <td>64.0</td>\n",
       "      <td>0.0</td>\n",
       "      <td>...</td>\n",
       "      <td>1</td>\n",
       "      <td>0.0</td>\n",
       "      <td>0.0</td>\n",
       "      <td>0.0</td>\n",
       "      <td>0.0</td>\n",
       "      <td>0.0</td>\n",
       "      <td>53294.405274</td>\n",
       "      <td>3532.1936</td>\n",
       "      <td>False</td>\n",
       "      <td>False</td>\n",
       "    </tr>\n",
       "    <tr>\n",
       "      <th>10</th>\n",
       "      <th>2012</th>\n",
       "      <th>initial_state</th>\n",
       "      <td>9.15.5</td>\n",
       "      <td>228.104820</td>\n",
       "      <td>0.0</td>\n",
       "      <td>0.0</td>\n",
       "      <td>0.0</td>\n",
       "      <td>228.104820</td>\n",
       "      <td>7.0</td>\n",
       "      <td>0.0</td>\n",
       "      <td>93.0</td>\n",
       "      <td>0.0</td>\n",
       "      <td>...</td>\n",
       "      <td>1</td>\n",
       "      <td>0.0</td>\n",
       "      <td>0.0</td>\n",
       "      <td>0.0</td>\n",
       "      <td>0.0</td>\n",
       "      <td>0.0</td>\n",
       "      <td>45645.839112</td>\n",
       "      <td>2788.2760</td>\n",
       "      <td>False</td>\n",
       "      <td>False</td>\n",
       "    </tr>\n",
       "    <tr>\n",
       "      <th>14</th>\n",
       "      <th>2012</th>\n",
       "      <th>initial_state</th>\n",
       "      <td>9.5.2</td>\n",
       "      <td>182.529020</td>\n",
       "      <td>0.0</td>\n",
       "      <td>0.0</td>\n",
       "      <td>0.0</td>\n",
       "      <td>182.529020</td>\n",
       "      <td>5.0</td>\n",
       "      <td>0.0</td>\n",
       "      <td>95.0</td>\n",
       "      <td>0.0</td>\n",
       "      <td>...</td>\n",
       "      <td>1</td>\n",
       "      <td>0.0</td>\n",
       "      <td>0.0</td>\n",
       "      <td>0.0</td>\n",
       "      <td>0.0</td>\n",
       "      <td>0.0</td>\n",
       "      <td>36610.808570</td>\n",
       "      <td>2207.9282</td>\n",
       "      <td>False</td>\n",
       "      <td>False</td>\n",
       "    </tr>\n",
       "    <tr>\n",
       "      <th>18</th>\n",
       "      <th>2012</th>\n",
       "      <th>initial_state</th>\n",
       "      <td>9.5.8</td>\n",
       "      <td>395.745146</td>\n",
       "      <td>0.0</td>\n",
       "      <td>0.0</td>\n",
       "      <td>0.0</td>\n",
       "      <td>395.745146</td>\n",
       "      <td>28.0</td>\n",
       "      <td>0.0</td>\n",
       "      <td>72.0</td>\n",
       "      <td>0.0</td>\n",
       "      <td>...</td>\n",
       "      <td>1</td>\n",
       "      <td>0.0</td>\n",
       "      <td>0.0</td>\n",
       "      <td>0.0</td>\n",
       "      <td>0.0</td>\n",
       "      <td>0.0</td>\n",
       "      <td>154026.328969</td>\n",
       "      <td>5271.9176</td>\n",
       "      <td>False</td>\n",
       "      <td>False</td>\n",
       "    </tr>\n",
       "    <tr>\n",
       "      <th>20</th>\n",
       "      <th>2012</th>\n",
       "      <th>initial_state</th>\n",
       "      <td>9.6.3</td>\n",
       "      <td>185.863275</td>\n",
       "      <td>0.0</td>\n",
       "      <td>0.0</td>\n",
       "      <td>0.0</td>\n",
       "      <td>185.863275</td>\n",
       "      <td>0.0</td>\n",
       "      <td>0.0</td>\n",
       "      <td>100.0</td>\n",
       "      <td>0.0</td>\n",
       "      <td>...</td>\n",
       "      <td>1</td>\n",
       "      <td>0.0</td>\n",
       "      <td>0.0</td>\n",
       "      <td>0.0</td>\n",
       "      <td>0.0</td>\n",
       "      <td>0.0</td>\n",
       "      <td>37487.865513</td>\n",
       "      <td>10000.0000</td>\n",
       "      <td>False</td>\n",
       "      <td>False</td>\n",
       "    </tr>\n",
       "  </tbody>\n",
       "</table>\n",
       "<p>5 rows × 113 columns</p>\n",
       "</div>"
      ],
      "text/plain": [
       "                      ecoregion     V_strat  V_strat_reg  Ve_strat  Vm_strat  \\\n",
       "id year regime                                                                 \n",
       "6  2012 initial_state     9.6.2  138.631058          0.0       0.0       0.0   \n",
       "10 2012 initial_state    9.15.5  228.104820          0.0       0.0       0.0   \n",
       "14 2012 initial_state     9.5.2  182.529020          0.0       0.0       0.0   \n",
       "18 2012 initial_state     9.5.8  395.745146          0.0       0.0       0.0   \n",
       "20 2012 initial_state     9.6.3  185.863275          0.0       0.0       0.0   \n",
       "\n",
       "                         iV_strat  pct_coni  pct_reg_coni  pct_deci  \\\n",
       "id year regime                                                        \n",
       "6  2012 initial_state  138.631058      36.0           0.0      64.0   \n",
       "10 2012 initial_state  228.104820       7.0           0.0      93.0   \n",
       "14 2012 initial_state  182.529020       5.0           0.0      95.0   \n",
       "18 2012 initial_state  395.745146      28.0           0.0      72.0   \n",
       "20 2012 initial_state  185.863275       0.0           0.0     100.0   \n",
       "\n",
       "                       pct_reg_deci  ...  stateForest  SawTimber  PulpWood  \\\n",
       "id year regime                       ...                                     \n",
       "6  2012 initial_state           0.0  ...            1        0.0       0.0   \n",
       "10 2012 initial_state           0.0  ...            1        0.0       0.0   \n",
       "14 2012 initial_state           0.0  ...            1        0.0       0.0   \n",
       "18 2012 initial_state           0.0  ...            1        0.0       0.0   \n",
       "20 2012 initial_state           0.0  ...            1        0.0       0.0   \n",
       "\n",
       "                       ForestResidues  Fuelwood  energyProds  \\\n",
       "id year regime                                                 \n",
       "6  2012 initial_state             0.0       0.0          0.0   \n",
       "10 2012 initial_state             0.0       0.0          0.0   \n",
       "14 2012 initial_state             0.0       0.0          0.0   \n",
       "18 2012 initial_state             0.0       0.0          0.0   \n",
       "20 2012 initial_state             0.0       0.0          0.0   \n",
       "\n",
       "                       TotalLivingCarbon  pnvDeviation  CCF_forests  \\\n",
       "id year regime                                                        \n",
       "6  2012 initial_state       53294.405274     3532.1936        False   \n",
       "10 2012 initial_state       45645.839112     2788.2760        False   \n",
       "14 2012 initial_state       36610.808570     2207.9282        False   \n",
       "18 2012 initial_state      154026.328969     5271.9176        False   \n",
       "20 2012 initial_state       37487.865513    10000.0000        False   \n",
       "\n",
       "                       SA_forests  \n",
       "id year regime                     \n",
       "6  2012 initial_state       False  \n",
       "10 2012 initial_state       False  \n",
       "14 2012 initial_state       False  \n",
       "18 2012 initial_state       False  \n",
       "20 2012 initial_state       False  \n",
       "\n",
       "[5 rows x 113 columns]"
      ]
     },
     "execution_count": 45,
     "metadata": {},
     "output_type": "execute_result"
    }
   ],
   "source": [
    "mfo.initialData.head()"
   ]
  },
  {
   "cell_type": "code",
   "execution_count": 46,
   "metadata": {},
   "outputs": [
    {
     "data": {
      "text/html": [
       "<div>\n",
       "<style scoped>\n",
       "    .dataframe tbody tr th:only-of-type {\n",
       "        vertical-align: middle;\n",
       "    }\n",
       "\n",
       "    .dataframe tbody tr th {\n",
       "        vertical-align: top;\n",
       "    }\n",
       "\n",
       "    .dataframe thead th {\n",
       "        text-align: right;\n",
       "    }\n",
       "</style>\n",
       "<table border=\"1\" class=\"dataframe\">\n",
       "  <thead>\n",
       "    <tr style=\"text-align: right;\">\n",
       "      <th></th>\n",
       "      <th></th>\n",
       "      <th></th>\n",
       "      <th>ecoregion</th>\n",
       "      <th>V_strat</th>\n",
       "      <th>V_strat_reg</th>\n",
       "      <th>Ve_strat</th>\n",
       "      <th>Vm_strat</th>\n",
       "      <th>iV_strat</th>\n",
       "      <th>pct_coni</th>\n",
       "      <th>pct_reg_coni</th>\n",
       "      <th>pct_deci</th>\n",
       "      <th>pct_reg_deci</th>\n",
       "      <th>...</th>\n",
       "      <th>Relative_GLOBfuelwood</th>\n",
       "      <th>Relative_AnnualIncrement</th>\n",
       "      <th>Relative_speciesProfileIndex</th>\n",
       "      <th>Relative_VolumeLargeTrees</th>\n",
       "      <th>Relative_speciesInterminglingIndex</th>\n",
       "      <th>Relative_ShannonIndexSpecies</th>\n",
       "      <th>Relative_ShannonIndexTreeHeight</th>\n",
       "      <th>Relative_standingVolume</th>\n",
       "      <th>Relative_TotalLivingCarbon</th>\n",
       "      <th>Relative_pnvDeviation</th>\n",
       "    </tr>\n",
       "    <tr>\n",
       "      <th>id</th>\n",
       "      <th>year</th>\n",
       "      <th>regime</th>\n",
       "      <th></th>\n",
       "      <th></th>\n",
       "      <th></th>\n",
       "      <th></th>\n",
       "      <th></th>\n",
       "      <th></th>\n",
       "      <th></th>\n",
       "      <th></th>\n",
       "      <th></th>\n",
       "      <th></th>\n",
       "      <th></th>\n",
       "      <th></th>\n",
       "      <th></th>\n",
       "      <th></th>\n",
       "      <th></th>\n",
       "      <th></th>\n",
       "      <th></th>\n",
       "      <th></th>\n",
       "      <th></th>\n",
       "      <th></th>\n",
       "      <th></th>\n",
       "    </tr>\n",
       "  </thead>\n",
       "  <tbody>\n",
       "    <tr>\n",
       "      <th rowspan=\"5\" valign=\"top\">6</th>\n",
       "      <th rowspan=\"5\" valign=\"top\">2017</th>\n",
       "      <th>BAU_0</th>\n",
       "      <td>9.6.2</td>\n",
       "      <td>202.927642</td>\n",
       "      <td>0.614593</td>\n",
       "      <td>0.0</td>\n",
       "      <td>16.772962</td>\n",
       "      <td>81.069546</td>\n",
       "      <td>30.0</td>\n",
       "      <td>33.0</td>\n",
       "      <td>70.0</td>\n",
       "      <td>67.0</td>\n",
       "      <td>...</td>\n",
       "      <td>0.001228</td>\n",
       "      <td>0.000286</td>\n",
       "      <td>0.002338</td>\n",
       "      <td>0.0</td>\n",
       "      <td>0.002557</td>\n",
       "      <td>0.00262</td>\n",
       "      <td>0.005693</td>\n",
       "      <td>0.000715</td>\n",
       "      <td>0.000785</td>\n",
       "      <td>0.000421</td>\n",
       "    </tr>\n",
       "    <tr>\n",
       "      <th>BAU_0_p1</th>\n",
       "      <td>9.6.2</td>\n",
       "      <td>202.912150</td>\n",
       "      <td>0.588503</td>\n",
       "      <td>0.0</td>\n",
       "      <td>16.612431</td>\n",
       "      <td>80.893523</td>\n",
       "      <td>30.0</td>\n",
       "      <td>39.0</td>\n",
       "      <td>70.0</td>\n",
       "      <td>61.0</td>\n",
       "      <td>...</td>\n",
       "      <td>0.001228</td>\n",
       "      <td>0.000285</td>\n",
       "      <td>0.002346</td>\n",
       "      <td>0.0</td>\n",
       "      <td>0.002557</td>\n",
       "      <td>0.00262</td>\n",
       "      <td>0.005687</td>\n",
       "      <td>0.000715</td>\n",
       "      <td>0.000785</td>\n",
       "      <td>0.000420</td>\n",
       "    </tr>\n",
       "    <tr>\n",
       "      <th>BAU_0_p2</th>\n",
       "      <td>9.6.2</td>\n",
       "      <td>186.253553</td>\n",
       "      <td>0.992174</td>\n",
       "      <td>0.0</td>\n",
       "      <td>27.230879</td>\n",
       "      <td>74.853373</td>\n",
       "      <td>28.0</td>\n",
       "      <td>36.0</td>\n",
       "      <td>72.0</td>\n",
       "      <td>64.0</td>\n",
       "      <td>...</td>\n",
       "      <td>0.001228</td>\n",
       "      <td>0.000264</td>\n",
       "      <td>0.002333</td>\n",
       "      <td>0.0</td>\n",
       "      <td>0.002557</td>\n",
       "      <td>0.00262</td>\n",
       "      <td>0.005687</td>\n",
       "      <td>0.000656</td>\n",
       "      <td>0.000723</td>\n",
       "      <td>0.000363</td>\n",
       "    </tr>\n",
       "    <tr>\n",
       "      <th>BAU_1</th>\n",
       "      <td>9.6.2</td>\n",
       "      <td>203.502270</td>\n",
       "      <td>0.634451</td>\n",
       "      <td>0.0</td>\n",
       "      <td>16.233236</td>\n",
       "      <td>81.104448</td>\n",
       "      <td>31.0</td>\n",
       "      <td>45.0</td>\n",
       "      <td>69.0</td>\n",
       "      <td>55.0</td>\n",
       "      <td>...</td>\n",
       "      <td>0.001228</td>\n",
       "      <td>0.000286</td>\n",
       "      <td>0.002333</td>\n",
       "      <td>0.0</td>\n",
       "      <td>0.002557</td>\n",
       "      <td>0.00262</td>\n",
       "      <td>0.005683</td>\n",
       "      <td>0.000717</td>\n",
       "      <td>0.000786</td>\n",
       "      <td>0.000438</td>\n",
       "    </tr>\n",
       "    <tr>\n",
       "      <th>BAU_FS1</th>\n",
       "      <td>9.6.2</td>\n",
       "      <td>201.778571</td>\n",
       "      <td>0.645147</td>\n",
       "      <td>0.0</td>\n",
       "      <td>17.888440</td>\n",
       "      <td>81.035954</td>\n",
       "      <td>30.0</td>\n",
       "      <td>38.0</td>\n",
       "      <td>70.0</td>\n",
       "      <td>62.0</td>\n",
       "      <td>...</td>\n",
       "      <td>0.001228</td>\n",
       "      <td>0.000286</td>\n",
       "      <td>0.002338</td>\n",
       "      <td>0.0</td>\n",
       "      <td>0.002557</td>\n",
       "      <td>0.00262</td>\n",
       "      <td>0.005689</td>\n",
       "      <td>0.000711</td>\n",
       "      <td>0.000781</td>\n",
       "      <td>0.000418</td>\n",
       "    </tr>\n",
       "  </tbody>\n",
       "</table>\n",
       "<p>5 rows × 165 columns</p>\n",
       "</div>"
      ],
      "text/plain": [
       "                 ecoregion     V_strat  V_strat_reg  Ve_strat   Vm_strat  \\\n",
       "id year regime                                                             \n",
       "6  2017 BAU_0        9.6.2  202.927642     0.614593       0.0  16.772962   \n",
       "        BAU_0_p1     9.6.2  202.912150     0.588503       0.0  16.612431   \n",
       "        BAU_0_p2     9.6.2  186.253553     0.992174       0.0  27.230879   \n",
       "        BAU_1        9.6.2  203.502270     0.634451       0.0  16.233236   \n",
       "        BAU_FS1      9.6.2  201.778571     0.645147       0.0  17.888440   \n",
       "\n",
       "                   iV_strat  pct_coni  pct_reg_coni  pct_deci  pct_reg_deci  \\\n",
       "id year regime                                                                \n",
       "6  2017 BAU_0     81.069546      30.0          33.0      70.0          67.0   \n",
       "        BAU_0_p1  80.893523      30.0          39.0      70.0          61.0   \n",
       "        BAU_0_p2  74.853373      28.0          36.0      72.0          64.0   \n",
       "        BAU_1     81.104448      31.0          45.0      69.0          55.0   \n",
       "        BAU_FS1   81.035954      30.0          38.0      70.0          62.0   \n",
       "\n",
       "                  ...  Relative_GLOBfuelwood  Relative_AnnualIncrement  \\\n",
       "id year regime    ...                                                    \n",
       "6  2017 BAU_0     ...               0.001228                  0.000286   \n",
       "        BAU_0_p1  ...               0.001228                  0.000285   \n",
       "        BAU_0_p2  ...               0.001228                  0.000264   \n",
       "        BAU_1     ...               0.001228                  0.000286   \n",
       "        BAU_FS1   ...               0.001228                  0.000286   \n",
       "\n",
       "                  Relative_speciesProfileIndex  Relative_VolumeLargeTrees  \\\n",
       "id year regime                                                              \n",
       "6  2017 BAU_0                         0.002338                        0.0   \n",
       "        BAU_0_p1                      0.002346                        0.0   \n",
       "        BAU_0_p2                      0.002333                        0.0   \n",
       "        BAU_1                         0.002333                        0.0   \n",
       "        BAU_FS1                       0.002338                        0.0   \n",
       "\n",
       "                  Relative_speciesInterminglingIndex  \\\n",
       "id year regime                                         \n",
       "6  2017 BAU_0                               0.002557   \n",
       "        BAU_0_p1                            0.002557   \n",
       "        BAU_0_p2                            0.002557   \n",
       "        BAU_1                               0.002557   \n",
       "        BAU_FS1                             0.002557   \n",
       "\n",
       "                  Relative_ShannonIndexSpecies  \\\n",
       "id year regime                                   \n",
       "6  2017 BAU_0                          0.00262   \n",
       "        BAU_0_p1                       0.00262   \n",
       "        BAU_0_p2                       0.00262   \n",
       "        BAU_1                          0.00262   \n",
       "        BAU_FS1                        0.00262   \n",
       "\n",
       "                  Relative_ShannonIndexTreeHeight  Relative_standingVolume  \\\n",
       "id year regime                                                               \n",
       "6  2017 BAU_0                            0.005693                 0.000715   \n",
       "        BAU_0_p1                         0.005687                 0.000715   \n",
       "        BAU_0_p2                         0.005687                 0.000656   \n",
       "        BAU_1                            0.005683                 0.000717   \n",
       "        BAU_FS1                          0.005689                 0.000711   \n",
       "\n",
       "                  Relative_TotalLivingCarbon  Relative_pnvDeviation  \n",
       "id year regime                                                       \n",
       "6  2017 BAU_0                       0.000785               0.000421  \n",
       "        BAU_0_p1                    0.000785               0.000420  \n",
       "        BAU_0_p2                    0.000723               0.000363  \n",
       "        BAU_1                       0.000786               0.000438  \n",
       "        BAU_FS1                     0.000781               0.000418  \n",
       "\n",
       "[5 rows x 165 columns]"
      ]
     },
     "execution_count": 46,
     "metadata": {},
     "output_type": "execute_result"
    }
   ],
   "source": [
    "mfo.data.head()"
   ]
  },
  {
   "cell_type": "markdown",
   "metadata": {},
   "source": [
    "## Objectives"
   ]
  },
  {
   "cell_type": "markdown",
   "metadata": {},
   "source": [
    "### FS - Forest Strategy"
   ]
  },
  {
   "cell_type": "code",
   "execution_count": 47,
   "metadata": {},
   "outputs": [],
   "source": [
    "if scenario == 'NFS':\n",
    "    \n",
    "    objectives_abs = {\n",
    "        \"HarvestedVolume\": [\"Sum of extracted volume (maximize, m3/ha) (4)\",\"HarvestedVolume\",\n",
    "                            \"max\",\"min\",\"areaWeightedAverage\"],\n",
    "        \"AnnualIncrement\": [\"Annual increment of standing volume (maximimze, m3/ha/5year) (4)\",\"AnnualIncrement\",\n",
    "                            \"max\",\"min\",\"areaWeightedAverage\"],\n",
    "        \"CteStandingVolume\" : [\"Standing volume must be maintained ct. (m3) (4)\", \"Relative_standingVolume\",\n",
    "                             \"max\", \"minYearlyIncrease\", \"areaWeightedAverage\"],\n",
    "        \"EnergyWood\" : [\"Energy Wood for industry must be maintained ct. (tC) (3)\", \"energyProds\", \n",
    "                       \"max\", \"minYearlyIncrease\", \"sum\"],\n",
    "        \"totalCarbonBalance\" : [\"carbon balance must be constant or maximized (tC) (2)\", \"CarbonBalance\",\n",
    "                             \"max\", \"min\", \"sum\"]  \n",
    "    }\n",
    "    objectives_rel = {\n",
    "        \"speciesProfileIndex\": [\"Species profile index (Pretzsch) (maximize the mean) (2)\",\"speciesProfileIndex\",\n",
    "                             \"max\",\"average\",\"areaWeightedAverage\"],                           \n",
    "        \"ShannonIndexSpecies\": [\"Shannon index of species (maximize the mean) (2)\",\"ShannonIndexSpecies\",\n",
    "                            \"max\",\"average\",\"areaWeightedAverage\"],\n",
    "        \"RiskStormBB\" :[\"Risk of storms and Bark Beetel (minimize the maximum risk) (2)\", \"Relative_stormBBRisk\", \n",
    "                       \"min\", \"max\",\"areaWeightedAverage\"],\n",
    "        \"RecreationAsth\" : [\"Recreation and Aesthetics maximize the mean) (4)\", \"RecreationAndAesthetics\",\n",
    "                           \"max\", \"average\", \"areaWeightedAverage\"],\n",
    "        \"Biodiveristy\": [\"Biodiversity fuzzy indicator (mantain ct, evenflow) (4)\", \"Biodiversity\", \n",
    "                             \"max\", \"average\", \"areaWeightedAverage\"],\n",
    "        \"CrownCoverage\":[\"Mean Crown coverage must be maintened (minimize change, evenflow) (4)\",\"covered_area_per\",\n",
    "                         \"max\", \"min\", \"areaWeightedAverage\"],\n",
    "    }\n",
    "\n",
    "    objectives = {\n",
    "        **objectives_abs,\n",
    "        **objectives_rel,\n",
    "    }"
   ]
  },
  {
   "cell_type": "markdown",
   "metadata": {},
   "source": [
    "### BDS - Biodiversity Strategy"
   ]
  },
  {
   "cell_type": "code",
   "execution_count": 48,
   "metadata": {},
   "outputs": [],
   "source": [
    "if scenario == 'BDS':\n",
    "    objectives_abs = {\n",
    "    \"totalCarbonBalance\" : [\"carbon balance must be constant or increase (tC) (4)\", \"CarbonBalance\",\n",
    "                         \"max\", \"average\", \"areaWeightedAverage\"]\n",
    "    }\n",
    "    objectives_rel = {\n",
    "    \"relative_LivingCarbon\": [\"Living carbon stored in Forests must increase by 5% by 2020 (tC - 10% relative to 2007 values) (4)\", \"Relative_TotalLivingCarbon\",\n",
    "                                \"max\",\"targetYearWithSlope\",\"sum\", 2020],\n",
    "    \"speciesProfileIndex\": [\"Species profile index (Pretzsch) (maximum over all years)  (4)\",\"speciesProfileIndex\",\n",
    "                         \"max\",\"average\",\"areaWeightedAverage\"],  \n",
    "    \"ShannonIndexSpecies\": [\"Shannon index of species (maximum over all years) (4)\",\"ShannonIndexSpecies\",\n",
    "                        \"max\",\"average\",\"areaWeightedAverage\"],\n",
    "    \"Biodiveristy\": [\"Biodiversity fuzzy indicator (maximum over all years) (4)\", \"Biodiversity\", \n",
    "                         \"max\", \"average\", \"areaWeightedAverage\"],\n",
    "\n",
    "    }\n",
    "    objectives_SA = {\n",
    " \n",
    "     \"Ratio_SA_forests\": [\"Ratio of protected areas (%, SA forests) (1)\",\n",
    "                         \"SA_forests\",\n",
    "                         \"max\",\"firstYear\",\"areaWeightedAverage\"]  \n",
    "    }\n",
    "    objectives = {\n",
    "        **objectives_SA,\n",
    "        **objectives_abs,\n",
    "        **objectives_rel,\n",
    "    }\n",
    "    objectives.update(\n",
    "        {\"pnvDeviation\": [\"deviation from potential natural vegetation (min over all years) (4)\",\"pnvDeviation\",\n",
    "        \"min\",\"max\",\"areaWeightedAverage\"],\n",
    "        }\n",
    "    )\n",
    " "
   ]
  },
  {
   "cell_type": "markdown",
   "metadata": {},
   "source": [
    "### BES - Bioeconomy Strategy"
   ]
  },
  {
   "cell_type": "code",
   "execution_count": 49,
   "metadata": {},
   "outputs": [],
   "source": [
    "if scenario == 'BES':\n",
    "    \n",
    "    objectives_abs = {\n",
    "        \n",
    "    \"energyproducts\": [\"remaning products for energy use (tC maximize) (4)\", \"energyProds\",\n",
    "                        \"max\",\"min\",\"sum\"],\n",
    "    \"PulpWood\" : [\"wood products for industry (m3 maximize)  (4)\", \"PulpWood\",\n",
    "                        \"max\",\"min\",\"sum\"],\n",
    "    \"totalCarbonBalance\" : [\"carbon balance must be constant or increase (tC) (2)\", \"CarbonBalance\",\n",
    "                         \"max\", \"average\", \"sum\"],\n",
    "    \"SawTimberProduction\" : [\"timber production (m3 maximize) (4)\", \"SawTimber\",\n",
    "                         \"max\", \"min\", \"sum\"],\n",
    "\n",
    "    }\n",
    "    objectives_rel = {\n",
    "        \n",
    "     \"Biodiversity\": [\"Biodiversity fuzzy indicator (maximize) (1)\", \"Biodiversity\", \n",
    "                    \"max\", \"min\", \"areaWeightedAverage\"],\n",
    "     \"CrownCoverage\":[\"Mean Crown coverage must be maintened ct (% cover) (1)\",\"covered_area_per\",\n",
    "                     \"max\", \"min\", \"areaWeightedAverage\"],\n",
    "    }\n",
    "    objectives = {\n",
    "        **objectives_abs,\n",
    "        **objectives_rel,\n",
    "    }\n",
    "    "
   ]
  },
  {
   "cell_type": "markdown",
   "metadata": {},
   "source": [
    "### GLOBIOM demands bottom-up approach"
   ]
  },
  {
   "cell_type": "code",
   "execution_count": 50,
   "metadata": {},
   "outputs": [],
   "source": [
    "if glob_demands == True and approach == \"bottomup\":\n",
    "    \n",
    "    objectives_GLOBdemand = {\n",
    "    \n",
    "    \"pulpwood_demand\": [\"GLOBIOM pulp wood demand (m3/ha) u. bark\", \"PulpWood\",\n",
    "                        \"max\", \"periodicTargets\", \"sum\", glod_pulp_fuel],\n",
    "    \"sawlogs_demand\":  [\"GLOBIOM saw logs demand (m3/ha) u. bark\", \"SawTimber\",\n",
    "                        \"max\", \"periodicTargets\", \"sum\", glob_sawlogs], \n",
    "    \"residues_demand\": [\"GLOBIOM residues demand (m3/ha)\", \"ForestResidues\",\n",
    "                        \"max\", \"periodicTargets\", \"sum\", glob_residues], \n",
    "    }\n",
    "    objectives.update(objectives_GLOBdemand)"
   ]
  },
  {
   "cell_type": "code",
   "execution_count": 51,
   "metadata": {},
   "outputs": [
    {
     "data": {
      "text/plain": [
       "{'HarvestedVolume': ['Sum of extracted volume (maximize, m3/ha) (4)',\n",
       "  'HarvestedVolume',\n",
       "  'max',\n",
       "  'min',\n",
       "  'areaWeightedAverage'],\n",
       " 'AnnualIncrement': ['Annual increment of standing volume (maximimze, m3/ha/5year) (4)',\n",
       "  'AnnualIncrement',\n",
       "  'max',\n",
       "  'min',\n",
       "  'areaWeightedAverage'],\n",
       " 'CteStandingVolume': ['Standing volume must be maintained ct. (m3) (4)',\n",
       "  'Relative_standingVolume',\n",
       "  'max',\n",
       "  'minYearlyIncrease',\n",
       "  'areaWeightedAverage'],\n",
       " 'EnergyWood': ['Energy Wood for industry must be maintained ct. (tC) (3)',\n",
       "  'energyProds',\n",
       "  'max',\n",
       "  'minYearlyIncrease',\n",
       "  'sum'],\n",
       " 'totalCarbonBalance': ['carbon balance must be constant or maximized (tC) (2)',\n",
       "  'CarbonBalance',\n",
       "  'max',\n",
       "  'min',\n",
       "  'sum'],\n",
       " 'speciesProfileIndex': ['Species profile index (Pretzsch) (maximize the mean) (2)',\n",
       "  'speciesProfileIndex',\n",
       "  'max',\n",
       "  'average',\n",
       "  'areaWeightedAverage'],\n",
       " 'ShannonIndexSpecies': ['Shannon index of species (maximize the mean) (2)',\n",
       "  'ShannonIndexSpecies',\n",
       "  'max',\n",
       "  'average',\n",
       "  'areaWeightedAverage'],\n",
       " 'RiskStormBB': ['Risk of storms and Bark Beetel (minimize the maximum risk) (2)',\n",
       "  'Relative_stormBBRisk',\n",
       "  'min',\n",
       "  'max',\n",
       "  'areaWeightedAverage'],\n",
       " 'RecreationAsth': ['Recreation and Aesthetics maximize the mean) (4)',\n",
       "  'RecreationAndAesthetics',\n",
       "  'max',\n",
       "  'average',\n",
       "  'areaWeightedAverage'],\n",
       " 'Biodiveristy': ['Biodiversity fuzzy indicator (mantain ct, evenflow) (4)',\n",
       "  'Biodiversity',\n",
       "  'max',\n",
       "  'average',\n",
       "  'areaWeightedAverage'],\n",
       " 'CrownCoverage': ['Mean Crown coverage must be maintened (minimize change, evenflow) (4)',\n",
       "  'covered_area_per',\n",
       "  'max',\n",
       "  'min',\n",
       "  'areaWeightedAverage'],\n",
       " 'pulpwood_demand': ['GLOBIOM pulp wood demand (m3/ha) u. bark',\n",
       "  'PulpWood',\n",
       "  'max',\n",
       "  'periodicTargets',\n",
       "  'sum',\n",
       "  [9418000.0,\n",
       "   8613000.0,\n",
       "   8260000.0,\n",
       "   8585000.0,\n",
       "   9180000.0,\n",
       "   10180000.0,\n",
       "   11008000.0,\n",
       "   11578000.0,\n",
       "   12076000.0,\n",
       "   12466000.0,\n",
       "   12576000.0,\n",
       "   12266000.0,\n",
       "   12100000.0,\n",
       "   12150000.0,\n",
       "   12188000.0,\n",
       "   12208000.0,\n",
       "   12240000.0,\n",
       "   12290000.0,\n",
       "   12340000.0]],\n",
       " 'sawlogs_demand': ['GLOBIOM saw logs demand (m3/ha) u. bark',\n",
       "  'SawTimber',\n",
       "  'max',\n",
       "  'periodicTargets',\n",
       "  'sum',\n",
       "  [17546000,\n",
       "   18011000,\n",
       "   18464000,\n",
       "   18899000,\n",
       "   19524000,\n",
       "   20434000,\n",
       "   21258000,\n",
       "   21953000,\n",
       "   22346000,\n",
       "   22286000,\n",
       "   22420000,\n",
       "   22845000,\n",
       "   23086000,\n",
       "   23051000,\n",
       "   23030000,\n",
       "   23030000,\n",
       "   23030000,\n",
       "   23030000,\n",
       "   23030000]],\n",
       " 'residues_demand': ['GLOBIOM residues demand (m3/ha)',\n",
       "  'ForestResidues',\n",
       "  'max',\n",
       "  'periodicTargets',\n",
       "  'sum',\n",
       "  [738000,\n",
       "   733000,\n",
       "   736000,\n",
       "   751000,\n",
       "   1656000,\n",
       "   3896000,\n",
       "   5722000,\n",
       "   6927000,\n",
       "   7776000,\n",
       "   8091000,\n",
       "   8272000,\n",
       "   8252000,\n",
       "   8242000,\n",
       "   8247000,\n",
       "   8246000,\n",
       "   8236000,\n",
       "   8200000,\n",
       "   8125000,\n",
       "   8050000]]}"
      ]
     },
     "execution_count": 51,
     "metadata": {},
     "output_type": "execute_result"
    }
   ],
   "source": [
    "objectives"
   ]
  },
  {
   "cell_type": "code",
   "execution_count": 52,
   "metadata": {
    "scrolled": true
   },
   "outputs": [
    {
     "data": {
      "text/plain": [
       "'Defining objectives'"
      ]
     },
     "metadata": {},
     "output_type": "display_data"
    },
    {
     "data": {
      "text/plain": [
       "'Aggregating stand wise'"
      ]
     },
     "metadata": {},
     "output_type": "display_data"
    },
    {
     "name": "stderr",
     "output_type": "stream",
     "text": [
      "100%|██████████| 14/14 [00:27<00:00,  1.98s/it]\n"
     ]
    },
    {
     "data": {
      "text/plain": [
       "'Aggregating year wise'"
      ]
     },
     "metadata": {},
     "output_type": "display_data"
    },
    {
     "name": "stdout",
     "output_type": "stream",
     "text": [
      "100%|██████████| 14/14 [00:00<00:00, 2793.68it/s]\n"
     ]
    },
    {
     "data": {
      "text/plain": [
       "'Objectives added'"
      ]
     },
     "metadata": {},
     "output_type": "display_data"
    }
   ],
   "source": [
    "mfo.defineObjectives(objectives)"
   ]
  },
  {
   "cell_type": "markdown",
   "metadata": {},
   "source": [
    "### GLOBIOM demands top-down approach - option for assortment transfer"
   ]
  },
  {
   "cell_type": "code",
   "execution_count": 53,
   "metadata": {},
   "outputs": [],
   "source": [
    "if glob_demands == True and approach == \"topdown\" :\n",
    "    \n",
    "    mfo.addGlobiomTargets(\n",
    "        {\n",
    "        \"log\": glob_sawlogs,\n",
    "        \"pulp\": glob_pulwood,\n",
    "        \"residues\": glob_residues\n",
    "        },\n",
    "        {\n",
    "            #Log is converted primarily into log, and sencondary into pulp; no transferrate, both are volumes under bark\n",
    "            \"SawTimber\":\n",
    "                {\"log\":[1,\"primary\"],\"pulp\":[1,\"secondary\"], \"residues\":[1.136,\"secondary\"]},\n",
    "                #{\"log\":[1,\"primary\"],\"pulp\":[1,\"secondary\"]}, \n",
    "                                          \n",
    "            # Pulp is converted primarily into pulp, and sencondary into residues; \n",
    "            # with transferrate 1.136, because pulp volume is under bark, residues are over bark (barkfactor = 1.136)  \n",
    "            \"PulpWood\":\n",
    "                {\"pulp\":[1,\"primary\"], \"residues\":[1.136,\"secondary\"]}, \n",
    "            \n",
    "            \"ForestResidues\":\n",
    "                {\"residues\":[1,\"primary\"]} #Biomass only to residues\n",
    "        },\n",
    "        \n",
    "        # ----------------\n",
    "        # by default exactMatching is FALSE\n",
    "        # ----------------\n",
    "        # Functionality was implemented for Norway and their nationl policy scenarios\n",
    "        # NOT required for Cross-scale analysis V2\n",
    "        exactMatching= False   \n",
    "        \n",
    "    )\n",
    "    \n",
    "    print(\"objective function with assortment transfer loaded\")"
   ]
  },
  {
   "cell_type": "markdown",
   "metadata": {},
   "source": [
    "## Define Enabled Constrains"
   ]
  },
  {
   "cell_type": "code",
   "execution_count": 54,
   "metadata": {},
   "outputs": [],
   "source": [
    "NotCCregimes = [regime for regime in mfo.regimes if \"BAU\" not in regime] "
   ]
  },
  {
   "cell_type": "code",
   "execution_count": 55,
   "metadata": {},
   "outputs": [
    {
     "data": {
      "text/plain": [
       "['CCF_P1', 'CCF_P2', 'CCF_P3', 'CCF_P3_p1', 'CCF_P3_p2', 'CCF_STATE', 'NOT']"
      ]
     },
     "execution_count": 55,
     "metadata": {},
     "output_type": "execute_result"
    }
   ],
   "source": [
    "NotCCregimes"
   ]
  },
  {
   "cell_type": "code",
   "execution_count": 56,
   "metadata": {},
   "outputs": [],
   "source": [
    "constraintTypes = {\"NoCC_Prot\":[\"Allowed regimes\",\"NO CleatCut on protected land\",NotCCregimes,\"protected\"],\n",
    "                   \"NoCC_State\":[\"Allowed regimes\",\"NO CleatCut on state forest\",NotCCregimes,\"stateForest\"]}"
   ]
  },
  {
   "cell_type": "code",
   "execution_count": 57,
   "metadata": {},
   "outputs": [],
   "source": [
    "mfo.defineConstraints(constraintTypes)"
   ]
  },
  {
   "cell_type": "markdown",
   "metadata": {},
   "source": [
    "## Calculate objective ranges"
   ]
  },
  {
   "cell_type": "markdown",
   "metadata": {},
   "source": [
    "You can run the following function twice to improve ranges accuracy.\n",
    "\n",
    "Especially, if some objectives get as lowerbounds 0:s, then it makes sense to reoptimize"
   ]
  },
  {
   "cell_type": "code",
   "execution_count": null,
   "metadata": {
    "scrolled": true
   },
   "outputs": [
    {
     "data": {
      "text/plain": [
       "'Calculating objective ranges'"
      ]
     },
     "metadata": {},
     "output_type": "display_data"
    },
    {
     "name": "stdout",
     "output_type": "stream",
     "text": [
      "\r",
      "  0%|          | 0/14 [00:00<?, ?it/s]"
     ]
    },
    {
     "data": {
      "text/plain": [
       "'Optimizing for Sum of extracted volume (maximize, m3/ha) (4)'"
      ]
     },
     "metadata": {},
     "output_type": "display_data"
    },
    {
     "data": {
      "text/plain": [
       "'Found an optimal solution in 1 seconds'"
      ]
     },
     "metadata": {},
     "output_type": "display_data"
    },
    {
     "data": {
      "text/plain": [
       "'Objective values are:'"
      ]
     },
     "metadata": {},
     "output_type": "display_data"
    },
    {
     "data": {
      "text/plain": [
       "'Sum of extracted volume (maximize, m3/ha) (4)'"
      ]
     },
     "metadata": {},
     "output_type": "display_data"
    },
    {
     "data": {
      "text/plain": [
       "136543.72343877345"
      ]
     },
     "metadata": {},
     "output_type": "display_data"
    },
    {
     "data": {
      "text/plain": [
       "'Annual increment of standing volume (maximimze, m3/ha/5year) (4)'"
      ]
     },
     "metadata": {},
     "output_type": "display_data"
    },
    {
     "data": {
      "text/plain": [
       "0.0"
      ]
     },
     "metadata": {},
     "output_type": "display_data"
    },
    {
     "data": {
      "text/plain": [
       "'Standing volume must be maintained ct. (m3) (4)'"
      ]
     },
     "metadata": {},
     "output_type": "display_data"
    },
    {
     "data": {
      "text/plain": [
       "-0.000293972906051525"
      ]
     },
     "metadata": {},
     "output_type": "display_data"
    },
    {
     "data": {
      "text/plain": [
       "'Energy Wood for industry must be maintained ct. (tC) (3)'"
      ]
     },
     "metadata": {},
     "output_type": "display_data"
    },
    {
     "data": {
      "text/plain": [
       "-1311985.1444142743"
      ]
     },
     "metadata": {},
     "output_type": "display_data"
    },
    {
     "data": {
      "text/plain": [
       "'carbon balance must be constant or maximized (tC) (2)'"
      ]
     },
     "metadata": {},
     "output_type": "display_data"
    },
    {
     "data": {
      "text/plain": [
       "-1868361.0973387551"
      ]
     },
     "metadata": {},
     "output_type": "display_data"
    },
    {
     "data": {
      "text/plain": [
       "'Species profile index (Pretzsch) (maximize the mean) (2)'"
      ]
     },
     "metadata": {},
     "output_type": "display_data"
    },
    {
     "data": {
      "text/plain": [
       "0.9326811258506543"
      ]
     },
     "metadata": {},
     "output_type": "display_data"
    },
    {
     "data": {
      "text/plain": [
       "'Shannon index of species (maximize the mean) (2)'"
      ]
     },
     "metadata": {},
     "output_type": "display_data"
    },
    {
     "data": {
      "text/plain": [
       "0.5035312154915528"
      ]
     },
     "metadata": {},
     "output_type": "display_data"
    },
    {
     "data": {
      "text/plain": [
       "'Risk of storms and Bark Beetel (minimize the maximum risk) (2)'"
      ]
     },
     "metadata": {},
     "output_type": "display_data"
    },
    {
     "data": {
      "text/plain": [
       "0.0015480405400905483"
      ]
     },
     "metadata": {},
     "output_type": "display_data"
    },
    {
     "data": {
      "text/plain": [
       "'Recreation and Aesthetics maximize the mean) (4)'"
      ]
     },
     "metadata": {},
     "output_type": "display_data"
    },
    {
     "data": {
      "text/plain": [
       "0.39564893216688773"
      ]
     },
     "metadata": {},
     "output_type": "display_data"
    },
    {
     "data": {
      "text/plain": [
       "'Biodiversity fuzzy indicator (mantain ct, evenflow) (4)'"
      ]
     },
     "metadata": {},
     "output_type": "display_data"
    },
    {
     "data": {
      "text/plain": [
       "0.2336235347590092"
      ]
     },
     "metadata": {},
     "output_type": "display_data"
    },
    {
     "data": {
      "text/plain": [
       "'Mean Crown coverage must be maintened (minimize change, evenflow) (4)'"
      ]
     },
     "metadata": {},
     "output_type": "display_data"
    },
    {
     "data": {
      "text/plain": [
       "0.0"
      ]
     },
     "metadata": {},
     "output_type": "display_data"
    },
    {
     "data": {
      "text/plain": [
       "'GLOBIOM pulp wood demand (m3/ha) u. bark'"
      ]
     },
     "metadata": {},
     "output_type": "display_data"
    },
    {
     "data": {
      "text/plain": [
       "0.0"
      ]
     },
     "metadata": {},
     "output_type": "display_data"
    },
    {
     "data": {
      "text/plain": [
       "'GLOBIOM saw logs demand (m3/ha) u. bark'"
      ]
     },
     "metadata": {},
     "output_type": "display_data"
    },
    {
     "data": {
      "text/plain": [
       "0.0"
      ]
     },
     "metadata": {},
     "output_type": "display_data"
    },
    {
     "data": {
      "text/plain": [
       "'GLOBIOM residues demand (m3/ha)'"
      ]
     },
     "metadata": {},
     "output_type": "display_data"
    },
    {
     "data": {
      "text/plain": [
       "0.0"
      ]
     },
     "metadata": {},
     "output_type": "display_data"
    },
    {
     "name": "stdout",
     "output_type": "stream",
     "text": [
      "\r",
      "  7%|▋         | 1/14 [00:03<00:47,  3.64s/it]"
     ]
    },
    {
     "data": {
      "text/plain": [
       "'Optimizing for Annual increment of standing volume (maximimze, m3/ha/5year) (4)'"
      ]
     },
     "metadata": {},
     "output_type": "display_data"
    },
    {
     "data": {
      "text/plain": [
       "'Found an optimal solution in 0 seconds'"
      ]
     },
     "metadata": {},
     "output_type": "display_data"
    },
    {
     "data": {
      "text/plain": [
       "'Objective values are:'"
      ]
     },
     "metadata": {},
     "output_type": "display_data"
    },
    {
     "data": {
      "text/plain": [
       "'Sum of extracted volume (maximize, m3/ha) (4)'"
      ]
     },
     "metadata": {},
     "output_type": "display_data"
    },
    {
     "data": {
      "text/plain": [
       "0.0"
      ]
     },
     "metadata": {},
     "output_type": "display_data"
    },
    {
     "data": {
      "text/plain": [
       "'Annual increment of standing volume (maximimze, m3/ha/5year) (4)'"
      ]
     },
     "metadata": {},
     "output_type": "display_data"
    },
    {
     "data": {
      "text/plain": [
       "130054.30342679321"
      ]
     },
     "metadata": {},
     "output_type": "display_data"
    },
    {
     "data": {
      "text/plain": [
       "'Standing volume must be maintained ct. (m3) (4)'"
      ]
     },
     "metadata": {},
     "output_type": "display_data"
    },
    {
     "data": {
      "text/plain": [
       "-0.00042415258453677544"
      ]
     },
     "metadata": {},
     "output_type": "display_data"
    },
    {
     "data": {
      "text/plain": [
       "'Energy Wood for industry must be maintained ct. (tC) (3)'"
      ]
     },
     "metadata": {},
     "output_type": "display_data"
    },
    {
     "data": {
      "text/plain": [
       "-1086272.9632481048"
      ]
     },
     "metadata": {},
     "output_type": "display_data"
    },
    {
     "data": {
      "text/plain": [
       "'carbon balance must be constant or maximized (tC) (2)'"
      ]
     },
     "metadata": {},
     "output_type": "display_data"
    },
    {
     "data": {
      "text/plain": [
       "0.0"
      ]
     },
     "metadata": {},
     "output_type": "display_data"
    },
    {
     "data": {
      "text/plain": [
       "'Species profile index (Pretzsch) (maximize the mean) (2)'"
      ]
     },
     "metadata": {},
     "output_type": "display_data"
    },
    {
     "data": {
      "text/plain": [
       "1.0113563334924742"
      ]
     },
     "metadata": {},
     "output_type": "display_data"
    },
    {
     "data": {
      "text/plain": [
       "'Shannon index of species (maximize the mean) (2)'"
      ]
     },
     "metadata": {},
     "output_type": "display_data"
    },
    {
     "data": {
      "text/plain": [
       "0.520527071422511"
      ]
     },
     "metadata": {},
     "output_type": "display_data"
    },
    {
     "data": {
      "text/plain": [
       "'Risk of storms and Bark Beetel (minimize the maximum risk) (2)'"
      ]
     },
     "metadata": {},
     "output_type": "display_data"
    },
    {
     "data": {
      "text/plain": [
       "0.0016346201686637898"
      ]
     },
     "metadata": {},
     "output_type": "display_data"
    },
    {
     "data": {
      "text/plain": [
       "'Recreation and Aesthetics maximize the mean) (4)'"
      ]
     },
     "metadata": {},
     "output_type": "display_data"
    },
    {
     "data": {
      "text/plain": [
       "0.4060961873970428"
      ]
     },
     "metadata": {},
     "output_type": "display_data"
    },
    {
     "data": {
      "text/plain": [
       "'Biodiversity fuzzy indicator (mantain ct, evenflow) (4)'"
      ]
     },
     "metadata": {},
     "output_type": "display_data"
    },
    {
     "data": {
      "text/plain": [
       "0.3010261486487832"
      ]
     },
     "metadata": {},
     "output_type": "display_data"
    },
    {
     "data": {
      "text/plain": [
       "'Mean Crown coverage must be maintened (minimize change, evenflow) (4)'"
      ]
     },
     "metadata": {},
     "output_type": "display_data"
    },
    {
     "data": {
      "text/plain": [
       "0.0"
      ]
     },
     "metadata": {},
     "output_type": "display_data"
    },
    {
     "data": {
      "text/plain": [
       "'GLOBIOM pulp wood demand (m3/ha) u. bark'"
      ]
     },
     "metadata": {},
     "output_type": "display_data"
    },
    {
     "data": {
      "text/plain": [
       "-0.4231423667107269"
      ]
     },
     "metadata": {},
     "output_type": "display_data"
    },
    {
     "data": {
      "text/plain": [
       "'GLOBIOM saw logs demand (m3/ha) u. bark'"
      ]
     },
     "metadata": {},
     "output_type": "display_data"
    },
    {
     "data": {
      "text/plain": [
       "0.0"
      ]
     },
     "metadata": {},
     "output_type": "display_data"
    },
    {
     "data": {
      "text/plain": [
       "'GLOBIOM residues demand (m3/ha)'"
      ]
     },
     "metadata": {},
     "output_type": "display_data"
    },
    {
     "data": {
      "text/plain": [
       "0.0"
      ]
     },
     "metadata": {},
     "output_type": "display_data"
    },
    {
     "name": "stdout",
     "output_type": "stream",
     "text": [
      "\r",
      " 14%|█▍        | 2/14 [00:06<00:42,  3.51s/it]"
     ]
    },
    {
     "data": {
      "text/plain": [
       "'Optimizing for Standing volume must be maintained ct. (m3) (4)'"
      ]
     },
     "metadata": {},
     "output_type": "display_data"
    },
    {
     "data": {
      "text/plain": [
       "'Found an optimal solution in 1 seconds'"
      ]
     },
     "metadata": {},
     "output_type": "display_data"
    },
    {
     "data": {
      "text/plain": [
       "'Objective values are:'"
      ]
     },
     "metadata": {},
     "output_type": "display_data"
    },
    {
     "data": {
      "text/plain": [
       "'Sum of extracted volume (maximize, m3/ha) (4)'"
      ]
     },
     "metadata": {},
     "output_type": "display_data"
    },
    {
     "data": {
      "text/plain": [
       "0.0"
      ]
     },
     "metadata": {},
     "output_type": "display_data"
    },
    {
     "data": {
      "text/plain": [
       "'Annual increment of standing volume (maximimze, m3/ha/5year) (4)'"
      ]
     },
     "metadata": {},
     "output_type": "display_data"
    },
    {
     "data": {
      "text/plain": [
       "0.0"
      ]
     },
     "metadata": {},
     "output_type": "display_data"
    },
    {
     "data": {
      "text/plain": [
       "'Standing volume must be maintained ct. (m3) (4)'"
      ]
     },
     "metadata": {},
     "output_type": "display_data"
    },
    {
     "data": {
      "text/plain": [
       "0.00012585736613358162"
      ]
     },
     "metadata": {},
     "output_type": "display_data"
    },
    {
     "data": {
      "text/plain": [
       "'Energy Wood for industry must be maintained ct. (tC) (3)'"
      ]
     },
     "metadata": {},
     "output_type": "display_data"
    },
    {
     "data": {
      "text/plain": [
       "-2413926.956605134"
      ]
     },
     "metadata": {},
     "output_type": "display_data"
    },
    {
     "data": {
      "text/plain": [
       "'carbon balance must be constant or maximized (tC) (2)'"
      ]
     },
     "metadata": {},
     "output_type": "display_data"
    },
    {
     "data": {
      "text/plain": [
       "-1852316.6697039192"
      ]
     },
     "metadata": {},
     "output_type": "display_data"
    },
    {
     "data": {
      "text/plain": [
       "'Species profile index (Pretzsch) (maximize the mean) (2)'"
      ]
     },
     "metadata": {},
     "output_type": "display_data"
    },
    {
     "data": {
      "text/plain": [
       "0.9845477028308499"
      ]
     },
     "metadata": {},
     "output_type": "display_data"
    },
    {
     "data": {
      "text/plain": [
       "'Shannon index of species (maximize the mean) (2)'"
      ]
     },
     "metadata": {},
     "output_type": "display_data"
    },
    {
     "data": {
      "text/plain": [
       "0.47958705357481646"
      ]
     },
     "metadata": {},
     "output_type": "display_data"
    },
    {
     "data": {
      "text/plain": [
       "'Risk of storms and Bark Beetel (minimize the maximum risk) (2)'"
      ]
     },
     "metadata": {},
     "output_type": "display_data"
    },
    {
     "data": {
      "text/plain": [
       "0.0016520434590665443"
      ]
     },
     "metadata": {},
     "output_type": "display_data"
    },
    {
     "data": {
      "text/plain": [
       "'Recreation and Aesthetics maximize the mean) (4)'"
      ]
     },
     "metadata": {},
     "output_type": "display_data"
    },
    {
     "data": {
      "text/plain": [
       "0.4069294619326191"
      ]
     },
     "metadata": {},
     "output_type": "display_data"
    },
    {
     "data": {
      "text/plain": [
       "'Biodiversity fuzzy indicator (mantain ct, evenflow) (4)'"
      ]
     },
     "metadata": {},
     "output_type": "display_data"
    },
    {
     "data": {
      "text/plain": [
       "0.27697852252271965"
      ]
     },
     "metadata": {},
     "output_type": "display_data"
    },
    {
     "data": {
      "text/plain": [
       "'Mean Crown coverage must be maintened (minimize change, evenflow) (4)'"
      ]
     },
     "metadata": {},
     "output_type": "display_data"
    },
    {
     "data": {
      "text/plain": [
       "0.0"
      ]
     },
     "metadata": {},
     "output_type": "display_data"
    },
    {
     "data": {
      "text/plain": [
       "'GLOBIOM pulp wood demand (m3/ha) u. bark'"
      ]
     },
     "metadata": {},
     "output_type": "display_data"
    },
    {
     "data": {
      "text/plain": [
       "-0.3433349087184431"
      ]
     },
     "metadata": {},
     "output_type": "display_data"
    },
    {
     "data": {
      "text/plain": [
       "'GLOBIOM saw logs demand (m3/ha) u. bark'"
      ]
     },
     "metadata": {},
     "output_type": "display_data"
    },
    {
     "data": {
      "text/plain": [
       "-0.18126638996498845"
      ]
     },
     "metadata": {},
     "output_type": "display_data"
    },
    {
     "data": {
      "text/plain": [
       "'GLOBIOM residues demand (m3/ha)'"
      ]
     },
     "metadata": {},
     "output_type": "display_data"
    },
    {
     "data": {
      "text/plain": [
       "0.0"
      ]
     },
     "metadata": {},
     "output_type": "display_data"
    },
    {
     "name": "stdout",
     "output_type": "stream",
     "text": [
      "\r",
      " 21%|██▏       | 3/14 [00:10<00:38,  3.53s/it]"
     ]
    },
    {
     "data": {
      "text/plain": [
       "'Optimizing for Energy Wood for industry must be maintained ct. (tC) (3)'"
      ]
     },
     "metadata": {},
     "output_type": "display_data"
    },
    {
     "data": {
      "text/plain": [
       "'Found an optimal solution in 1 seconds'"
      ]
     },
     "metadata": {},
     "output_type": "display_data"
    },
    {
     "data": {
      "text/plain": [
       "'Objective values are:'"
      ]
     },
     "metadata": {},
     "output_type": "display_data"
    },
    {
     "data": {
      "text/plain": [
       "'Sum of extracted volume (maximize, m3/ha) (4)'"
      ]
     },
     "metadata": {},
     "output_type": "display_data"
    },
    {
     "data": {
      "text/plain": [
       "0.0"
      ]
     },
     "metadata": {},
     "output_type": "display_data"
    },
    {
     "data": {
      "text/plain": [
       "'Annual increment of standing volume (maximimze, m3/ha/5year) (4)'"
      ]
     },
     "metadata": {},
     "output_type": "display_data"
    },
    {
     "data": {
      "text/plain": [
       "0.0"
      ]
     },
     "metadata": {},
     "output_type": "display_data"
    },
    {
     "data": {
      "text/plain": [
       "'Standing volume must be maintained ct. (m3) (4)'"
      ]
     },
     "metadata": {},
     "output_type": "display_data"
    },
    {
     "data": {
      "text/plain": [
       "-0.000527806068193905"
      ]
     },
     "metadata": {},
     "output_type": "display_data"
    },
    {
     "data": {
      "text/plain": [
       "'Energy Wood for industry must be maintained ct. (tC) (3)'"
      ]
     },
     "metadata": {},
     "output_type": "display_data"
    },
    {
     "data": {
      "text/plain": [
       "103226.50957101677"
      ]
     },
     "metadata": {},
     "output_type": "display_data"
    },
    {
     "data": {
      "text/plain": [
       "'carbon balance must be constant or maximized (tC) (2)'"
      ]
     },
     "metadata": {},
     "output_type": "display_data"
    },
    {
     "data": {
      "text/plain": [
       "-1879791.712314244"
      ]
     },
     "metadata": {},
     "output_type": "display_data"
    },
    {
     "data": {
      "text/plain": [
       "'Species profile index (Pretzsch) (maximize the mean) (2)'"
      ]
     },
     "metadata": {},
     "output_type": "display_data"
    },
    {
     "data": {
      "text/plain": [
       "0.9982687691734583"
      ]
     },
     "metadata": {},
     "output_type": "display_data"
    },
    {
     "data": {
      "text/plain": [
       "'Shannon index of species (maximize the mean) (2)'"
      ]
     },
     "metadata": {},
     "output_type": "display_data"
    },
    {
     "data": {
      "text/plain": [
       "0.5086913951943693"
      ]
     },
     "metadata": {},
     "output_type": "display_data"
    },
    {
     "data": {
      "text/plain": [
       "'Risk of storms and Bark Beetel (minimize the maximum risk) (2)'"
      ]
     },
     "metadata": {},
     "output_type": "display_data"
    },
    {
     "data": {
      "text/plain": [
       "0.001700064185839938"
      ]
     },
     "metadata": {},
     "output_type": "display_data"
    },
    {
     "data": {
      "text/plain": [
       "'Recreation and Aesthetics maximize the mean) (4)'"
      ]
     },
     "metadata": {},
     "output_type": "display_data"
    },
    {
     "data": {
      "text/plain": [
       "0.42215914510731223"
      ]
     },
     "metadata": {},
     "output_type": "display_data"
    },
    {
     "data": {
      "text/plain": [
       "'Biodiversity fuzzy indicator (mantain ct, evenflow) (4)'"
      ]
     },
     "metadata": {},
     "output_type": "display_data"
    },
    {
     "data": {
      "text/plain": [
       "0.3081380371214149"
      ]
     },
     "metadata": {},
     "output_type": "display_data"
    },
    {
     "data": {
      "text/plain": [
       "'Mean Crown coverage must be maintened (minimize change, evenflow) (4)'"
      ]
     },
     "metadata": {},
     "output_type": "display_data"
    },
    {
     "data": {
      "text/plain": [
       "0.0"
      ]
     },
     "metadata": {},
     "output_type": "display_data"
    },
    {
     "data": {
      "text/plain": [
       "'GLOBIOM pulp wood demand (m3/ha) u. bark'"
      ]
     },
     "metadata": {},
     "output_type": "display_data"
    },
    {
     "data": {
      "text/plain": [
       "-0.200315120082597"
      ]
     },
     "metadata": {},
     "output_type": "display_data"
    },
    {
     "data": {
      "text/plain": [
       "'GLOBIOM saw logs demand (m3/ha) u. bark'"
      ]
     },
     "metadata": {},
     "output_type": "display_data"
    },
    {
     "data": {
      "text/plain": [
       "0.0"
      ]
     },
     "metadata": {},
     "output_type": "display_data"
    },
    {
     "data": {
      "text/plain": [
       "'GLOBIOM residues demand (m3/ha)'"
      ]
     },
     "metadata": {},
     "output_type": "display_data"
    },
    {
     "data": {
      "text/plain": [
       "0.0"
      ]
     },
     "metadata": {},
     "output_type": "display_data"
    },
    {
     "name": "stdout",
     "output_type": "stream",
     "text": [
      "\r",
      " 29%|██▊       | 4/14 [00:14<00:36,  3.66s/it]"
     ]
    },
    {
     "data": {
      "text/plain": [
       "'Optimizing for carbon balance must be constant or maximized (tC) (2)'"
      ]
     },
     "metadata": {},
     "output_type": "display_data"
    },
    {
     "data": {
      "text/plain": [
       "'Found an optimal solution in 1 seconds'"
      ]
     },
     "metadata": {},
     "output_type": "display_data"
    },
    {
     "data": {
      "text/plain": [
       "'Objective values are:'"
      ]
     },
     "metadata": {},
     "output_type": "display_data"
    },
    {
     "data": {
      "text/plain": [
       "'Sum of extracted volume (maximize, m3/ha) (4)'"
      ]
     },
     "metadata": {},
     "output_type": "display_data"
    },
    {
     "data": {
      "text/plain": [
       "0.0"
      ]
     },
     "metadata": {},
     "output_type": "display_data"
    },
    {
     "data": {
      "text/plain": [
       "'Annual increment of standing volume (maximimze, m3/ha/5year) (4)'"
      ]
     },
     "metadata": {},
     "output_type": "display_data"
    },
    {
     "data": {
      "text/plain": [
       "0.0"
      ]
     },
     "metadata": {},
     "output_type": "display_data"
    },
    {
     "data": {
      "text/plain": [
       "'Standing volume must be maintained ct. (m3) (4)'"
      ]
     },
     "metadata": {},
     "output_type": "display_data"
    },
    {
     "data": {
      "text/plain": [
       "-0.0001460303666242892"
      ]
     },
     "metadata": {},
     "output_type": "display_data"
    },
    {
     "data": {
      "text/plain": [
       "'Energy Wood for industry must be maintained ct. (tC) (3)'"
      ]
     },
     "metadata": {},
     "output_type": "display_data"
    },
    {
     "data": {
      "text/plain": [
       "-638569.2160529473"
      ]
     },
     "metadata": {},
     "output_type": "display_data"
    },
    {
     "data": {
      "text/plain": [
       "'carbon balance must be constant or maximized (tC) (2)'"
      ]
     },
     "metadata": {},
     "output_type": "display_data"
    },
    {
     "data": {
      "text/plain": [
       "2911439.849808649"
      ]
     },
     "metadata": {},
     "output_type": "display_data"
    },
    {
     "data": {
      "text/plain": [
       "'Species profile index (Pretzsch) (maximize the mean) (2)'"
      ]
     },
     "metadata": {},
     "output_type": "display_data"
    },
    {
     "data": {
      "text/plain": [
       "1.0600004190583108"
      ]
     },
     "metadata": {},
     "output_type": "display_data"
    },
    {
     "data": {
      "text/plain": [
       "'Shannon index of species (maximize the mean) (2)'"
      ]
     },
     "metadata": {},
     "output_type": "display_data"
    },
    {
     "data": {
      "text/plain": [
       "0.5152506341567015"
      ]
     },
     "metadata": {},
     "output_type": "display_data"
    },
    {
     "data": {
      "text/plain": [
       "'Risk of storms and Bark Beetel (minimize the maximum risk) (2)'"
      ]
     },
     "metadata": {},
     "output_type": "display_data"
    },
    {
     "data": {
      "text/plain": [
       "0.0016993419454643902"
      ]
     },
     "metadata": {},
     "output_type": "display_data"
    },
    {
     "data": {
      "text/plain": [
       "'Recreation and Aesthetics maximize the mean) (4)'"
      ]
     },
     "metadata": {},
     "output_type": "display_data"
    },
    {
     "data": {
      "text/plain": [
       "0.42058419873821346"
      ]
     },
     "metadata": {},
     "output_type": "display_data"
    },
    {
     "data": {
      "text/plain": [
       "'Biodiversity fuzzy indicator (mantain ct, evenflow) (4)'"
      ]
     },
     "metadata": {},
     "output_type": "display_data"
    },
    {
     "data": {
      "text/plain": [
       "0.34516425758018515"
      ]
     },
     "metadata": {},
     "output_type": "display_data"
    },
    {
     "data": {
      "text/plain": [
       "'Mean Crown coverage must be maintened (minimize change, evenflow) (4)'"
      ]
     },
     "metadata": {},
     "output_type": "display_data"
    },
    {
     "data": {
      "text/plain": [
       "0.0"
      ]
     },
     "metadata": {},
     "output_type": "display_data"
    },
    {
     "data": {
      "text/plain": [
       "'GLOBIOM pulp wood demand (m3/ha) u. bark'"
      ]
     },
     "metadata": {},
     "output_type": "display_data"
    },
    {
     "data": {
      "text/plain": [
       "-0.5732536701331401"
      ]
     },
     "metadata": {},
     "output_type": "display_data"
    },
    {
     "data": {
      "text/plain": [
       "'GLOBIOM saw logs demand (m3/ha) u. bark'"
      ]
     },
     "metadata": {},
     "output_type": "display_data"
    },
    {
     "data": {
      "text/plain": [
       "-0.3871320844671251"
      ]
     },
     "metadata": {},
     "output_type": "display_data"
    },
    {
     "data": {
      "text/plain": [
       "'GLOBIOM residues demand (m3/ha)'"
      ]
     },
     "metadata": {},
     "output_type": "display_data"
    },
    {
     "data": {
      "text/plain": [
       "-0.2599716214101837"
      ]
     },
     "metadata": {},
     "output_type": "display_data"
    },
    {
     "name": "stdout",
     "output_type": "stream",
     "text": [
      "\r",
      " 36%|███▌      | 5/14 [00:18<00:33,  3.70s/it]"
     ]
    },
    {
     "data": {
      "text/plain": [
       "'Optimizing for Species profile index (Pretzsch) (maximize the mean) (2)'"
      ]
     },
     "metadata": {},
     "output_type": "display_data"
    },
    {
     "data": {
      "text/plain": [
       "'Found an optimal solution in 0 seconds'"
      ]
     },
     "metadata": {},
     "output_type": "display_data"
    },
    {
     "data": {
      "text/plain": [
       "'Objective values are:'"
      ]
     },
     "metadata": {},
     "output_type": "display_data"
    },
    {
     "data": {
      "text/plain": [
       "'Sum of extracted volume (maximize, m3/ha) (4)'"
      ]
     },
     "metadata": {},
     "output_type": "display_data"
    },
    {
     "data": {
      "text/plain": [
       "0.0"
      ]
     },
     "metadata": {},
     "output_type": "display_data"
    },
    {
     "data": {
      "text/plain": [
       "'Annual increment of standing volume (maximimze, m3/ha/5year) (4)'"
      ]
     },
     "metadata": {},
     "output_type": "display_data"
    },
    {
     "data": {
      "text/plain": [
       "0.0"
      ]
     },
     "metadata": {},
     "output_type": "display_data"
    },
    {
     "data": {
      "text/plain": [
       "'Standing volume must be maintained ct. (m3) (4)'"
      ]
     },
     "metadata": {},
     "output_type": "display_data"
    },
    {
     "data": {
      "text/plain": [
       "-0.0002468906114929694"
      ]
     },
     "metadata": {},
     "output_type": "display_data"
    },
    {
     "data": {
      "text/plain": [
       "'Energy Wood for industry must be maintained ct. (tC) (3)'"
      ]
     },
     "metadata": {},
     "output_type": "display_data"
    },
    {
     "data": {
      "text/plain": [
       "-1611283.9935699797"
      ]
     },
     "metadata": {},
     "output_type": "display_data"
    },
    {
     "data": {
      "text/plain": [
       "'carbon balance must be constant or maximized (tC) (2)'"
      ]
     },
     "metadata": {},
     "output_type": "display_data"
    },
    {
     "data": {
      "text/plain": [
       "-357359.81287733116"
      ]
     },
     "metadata": {},
     "output_type": "display_data"
    },
    {
     "data": {
      "text/plain": [
       "'Species profile index (Pretzsch) (maximize the mean) (2)'"
      ]
     },
     "metadata": {},
     "output_type": "display_data"
    },
    {
     "data": {
      "text/plain": [
       "1.2574682973139493"
      ]
     },
     "metadata": {},
     "output_type": "display_data"
    },
    {
     "data": {
      "text/plain": [
       "'Shannon index of species (maximize the mean) (2)'"
      ]
     },
     "metadata": {},
     "output_type": "display_data"
    },
    {
     "data": {
      "text/plain": [
       "0.7130319378700248"
      ]
     },
     "metadata": {},
     "output_type": "display_data"
    },
    {
     "data": {
      "text/plain": [
       "'Risk of storms and Bark Beetel (minimize the maximum risk) (2)'"
      ]
     },
     "metadata": {},
     "output_type": "display_data"
    },
    {
     "data": {
      "text/plain": [
       "0.0016255078238305396"
      ]
     },
     "metadata": {},
     "output_type": "display_data"
    },
    {
     "data": {
      "text/plain": [
       "'Recreation and Aesthetics maximize the mean) (4)'"
      ]
     },
     "metadata": {},
     "output_type": "display_data"
    },
    {
     "data": {
      "text/plain": [
       "0.4343950013249448"
      ]
     },
     "metadata": {},
     "output_type": "display_data"
    },
    {
     "data": {
      "text/plain": [
       "'Biodiversity fuzzy indicator (mantain ct, evenflow) (4)'"
      ]
     },
     "metadata": {},
     "output_type": "display_data"
    },
    {
     "data": {
      "text/plain": [
       "0.3789789851161155"
      ]
     },
     "metadata": {},
     "output_type": "display_data"
    },
    {
     "data": {
      "text/plain": [
       "'Mean Crown coverage must be maintened (minimize change, evenflow) (4)'"
      ]
     },
     "metadata": {},
     "output_type": "display_data"
    },
    {
     "data": {
      "text/plain": [
       "0.0"
      ]
     },
     "metadata": {},
     "output_type": "display_data"
    },
    {
     "data": {
      "text/plain": [
       "'GLOBIOM pulp wood demand (m3/ha) u. bark'"
      ]
     },
     "metadata": {},
     "output_type": "display_data"
    },
    {
     "data": {
      "text/plain": [
       "-0.22074133340684535"
      ]
     },
     "metadata": {},
     "output_type": "display_data"
    },
    {
     "data": {
      "text/plain": [
       "'GLOBIOM saw logs demand (m3/ha) u. bark'"
      ]
     },
     "metadata": {},
     "output_type": "display_data"
    },
    {
     "data": {
      "text/plain": [
       "0.0"
      ]
     },
     "metadata": {},
     "output_type": "display_data"
    },
    {
     "data": {
      "text/plain": [
       "'GLOBIOM residues demand (m3/ha)'"
      ]
     },
     "metadata": {},
     "output_type": "display_data"
    },
    {
     "data": {
      "text/plain": [
       "0.0"
      ]
     },
     "metadata": {},
     "output_type": "display_data"
    },
    {
     "name": "stdout",
     "output_type": "stream",
     "text": [
      "\r",
      " 43%|████▎     | 6/14 [00:21<00:28,  3.54s/it]"
     ]
    },
    {
     "data": {
      "text/plain": [
       "'Optimizing for Shannon index of species (maximize the mean) (2)'"
      ]
     },
     "metadata": {},
     "output_type": "display_data"
    },
    {
     "data": {
      "text/plain": [
       "'Found an optimal solution in 0 seconds'"
      ]
     },
     "metadata": {},
     "output_type": "display_data"
    },
    {
     "data": {
      "text/plain": [
       "'Objective values are:'"
      ]
     },
     "metadata": {},
     "output_type": "display_data"
    },
    {
     "data": {
      "text/plain": [
       "'Sum of extracted volume (maximize, m3/ha) (4)'"
      ]
     },
     "metadata": {},
     "output_type": "display_data"
    },
    {
     "data": {
      "text/plain": [
       "0.0"
      ]
     },
     "metadata": {},
     "output_type": "display_data"
    },
    {
     "data": {
      "text/plain": [
       "'Annual increment of standing volume (maximimze, m3/ha/5year) (4)'"
      ]
     },
     "metadata": {},
     "output_type": "display_data"
    },
    {
     "data": {
      "text/plain": [
       "0.0"
      ]
     },
     "metadata": {},
     "output_type": "display_data"
    },
    {
     "data": {
      "text/plain": [
       "'Standing volume must be maintained ct. (m3) (4)'"
      ]
     },
     "metadata": {},
     "output_type": "display_data"
    },
    {
     "data": {
      "text/plain": [
       "-0.0003423512601355128"
      ]
     },
     "metadata": {},
     "output_type": "display_data"
    },
    {
     "data": {
      "text/plain": [
       "'Energy Wood for industry must be maintained ct. (tC) (3)'"
      ]
     },
     "metadata": {},
     "output_type": "display_data"
    },
    {
     "data": {
      "text/plain": [
       "-2118684.527373477"
      ]
     },
     "metadata": {},
     "output_type": "display_data"
    },
    {
     "data": {
      "text/plain": [
       "'carbon balance must be constant or maximized (tC) (2)'"
      ]
     },
     "metadata": {},
     "output_type": "display_data"
    },
    {
     "data": {
      "text/plain": [
       "-2422716.6139066988"
      ]
     },
     "metadata": {},
     "output_type": "display_data"
    },
    {
     "data": {
      "text/plain": [
       "'Species profile index (Pretzsch) (maximize the mean) (2)'"
      ]
     },
     "metadata": {},
     "output_type": "display_data"
    },
    {
     "data": {
      "text/plain": [
       "1.2043695050025556"
      ]
     },
     "metadata": {},
     "output_type": "display_data"
    },
    {
     "data": {
      "text/plain": [
       "'Shannon index of species (maximize the mean) (2)'"
      ]
     },
     "metadata": {},
     "output_type": "display_data"
    },
    {
     "data": {
      "text/plain": [
       "0.7517989016635329"
      ]
     },
     "metadata": {},
     "output_type": "display_data"
    },
    {
     "data": {
      "text/plain": [
       "'Risk of storms and Bark Beetel (minimize the maximum risk) (2)'"
      ]
     },
     "metadata": {},
     "output_type": "display_data"
    },
    {
     "data": {
      "text/plain": [
       "0.001587763371735657"
      ]
     },
     "metadata": {},
     "output_type": "display_data"
    },
    {
     "data": {
      "text/plain": [
       "'Recreation and Aesthetics maximize the mean) (4)'"
      ]
     },
     "metadata": {},
     "output_type": "display_data"
    },
    {
     "data": {
      "text/plain": [
       "0.43202410005899833"
      ]
     },
     "metadata": {},
     "output_type": "display_data"
    },
    {
     "data": {
      "text/plain": [
       "'Biodiversity fuzzy indicator (mantain ct, evenflow) (4)'"
      ]
     },
     "metadata": {},
     "output_type": "display_data"
    },
    {
     "data": {
      "text/plain": [
       "0.34461493714022734"
      ]
     },
     "metadata": {},
     "output_type": "display_data"
    },
    {
     "data": {
      "text/plain": [
       "'Mean Crown coverage must be maintened (minimize change, evenflow) (4)'"
      ]
     },
     "metadata": {},
     "output_type": "display_data"
    },
    {
     "data": {
      "text/plain": [
       "0.0"
      ]
     },
     "metadata": {},
     "output_type": "display_data"
    },
    {
     "data": {
      "text/plain": [
       "'GLOBIOM pulp wood demand (m3/ha) u. bark'"
      ]
     },
     "metadata": {},
     "output_type": "display_data"
    },
    {
     "data": {
      "text/plain": [
       "0.0"
      ]
     },
     "metadata": {},
     "output_type": "display_data"
    },
    {
     "data": {
      "text/plain": [
       "'GLOBIOM saw logs demand (m3/ha) u. bark'"
      ]
     },
     "metadata": {},
     "output_type": "display_data"
    },
    {
     "data": {
      "text/plain": [
       "0.0"
      ]
     },
     "metadata": {},
     "output_type": "display_data"
    },
    {
     "data": {
      "text/plain": [
       "'GLOBIOM residues demand (m3/ha)'"
      ]
     },
     "metadata": {},
     "output_type": "display_data"
    },
    {
     "data": {
      "text/plain": [
       "0.0"
      ]
     },
     "metadata": {},
     "output_type": "display_data"
    },
    {
     "name": "stdout",
     "output_type": "stream",
     "text": [
      "\r",
      " 50%|█████     | 7/14 [00:24<00:23,  3.41s/it]"
     ]
    },
    {
     "data": {
      "text/plain": [
       "'Optimizing for Risk of storms and Bark Beetel (minimize the maximum risk) (2)'"
      ]
     },
     "metadata": {},
     "output_type": "display_data"
    },
    {
     "data": {
      "text/plain": [
       "'Found an optimal solution in 0 seconds'"
      ]
     },
     "metadata": {},
     "output_type": "display_data"
    },
    {
     "data": {
      "text/plain": [
       "'Objective values are:'"
      ]
     },
     "metadata": {},
     "output_type": "display_data"
    },
    {
     "data": {
      "text/plain": [
       "'Sum of extracted volume (maximize, m3/ha) (4)'"
      ]
     },
     "metadata": {},
     "output_type": "display_data"
    },
    {
     "data": {
      "text/plain": [
       "0.0"
      ]
     },
     "metadata": {},
     "output_type": "display_data"
    },
    {
     "data": {
      "text/plain": [
       "'Annual increment of standing volume (maximimze, m3/ha/5year) (4)'"
      ]
     },
     "metadata": {},
     "output_type": "display_data"
    },
    {
     "data": {
      "text/plain": [
       "0.0"
      ]
     },
     "metadata": {},
     "output_type": "display_data"
    },
    {
     "data": {
      "text/plain": [
       "'Standing volume must be maintained ct. (m3) (4)'"
      ]
     },
     "metadata": {},
     "output_type": "display_data"
    },
    {
     "data": {
      "text/plain": [
       "-0.0010000866989760444"
      ]
     },
     "metadata": {},
     "output_type": "display_data"
    },
    {
     "data": {
      "text/plain": [
       "'Energy Wood for industry must be maintained ct. (tC) (3)'"
      ]
     },
     "metadata": {},
     "output_type": "display_data"
    },
    {
     "data": {
      "text/plain": [
       "-5977473.873257188"
      ]
     },
     "metadata": {},
     "output_type": "display_data"
    },
    {
     "data": {
      "text/plain": [
       "'carbon balance must be constant or maximized (tC) (2)'"
      ]
     },
     "metadata": {},
     "output_type": "display_data"
    },
    {
     "data": {
      "text/plain": [
       "-10660442.306046221"
      ]
     },
     "metadata": {},
     "output_type": "display_data"
    },
    {
     "data": {
      "text/plain": [
       "'Species profile index (Pretzsch) (maximize the mean) (2)'"
      ]
     },
     "metadata": {},
     "output_type": "display_data"
    },
    {
     "data": {
      "text/plain": [
       "0.8444423916759187"
      ]
     },
     "metadata": {},
     "output_type": "display_data"
    },
    {
     "data": {
      "text/plain": [
       "'Shannon index of species (maximize the mean) (2)'"
      ]
     },
     "metadata": {},
     "output_type": "display_data"
    },
    {
     "data": {
      "text/plain": [
       "0.4404520546391619"
      ]
     },
     "metadata": {},
     "output_type": "display_data"
    },
    {
     "data": {
      "text/plain": [
       "'Risk of storms and Bark Beetel (minimize the maximum risk) (2)'"
      ]
     },
     "metadata": {},
     "output_type": "display_data"
    },
    {
     "data": {
      "text/plain": [
       "0.0012879377989922"
      ]
     },
     "metadata": {},
     "output_type": "display_data"
    },
    {
     "data": {
      "text/plain": [
       "'Recreation and Aesthetics maximize the mean) (4)'"
      ]
     },
     "metadata": {},
     "output_type": "display_data"
    },
    {
     "data": {
      "text/plain": [
       "0.38158088946760965"
      ]
     },
     "metadata": {},
     "output_type": "display_data"
    },
    {
     "data": {
      "text/plain": [
       "'Biodiversity fuzzy indicator (mantain ct, evenflow) (4)'"
      ]
     },
     "metadata": {},
     "output_type": "display_data"
    },
    {
     "data": {
      "text/plain": [
       "0.20180246526868198"
      ]
     },
     "metadata": {},
     "output_type": "display_data"
    },
    {
     "data": {
      "text/plain": [
       "'Mean Crown coverage must be maintened (minimize change, evenflow) (4)'"
      ]
     },
     "metadata": {},
     "output_type": "display_data"
    },
    {
     "data": {
      "text/plain": [
       "0.0"
      ]
     },
     "metadata": {},
     "output_type": "display_data"
    },
    {
     "data": {
      "text/plain": [
       "'GLOBIOM pulp wood demand (m3/ha) u. bark'"
      ]
     },
     "metadata": {},
     "output_type": "display_data"
    },
    {
     "data": {
      "text/plain": [
       "0.0"
      ]
     },
     "metadata": {},
     "output_type": "display_data"
    },
    {
     "data": {
      "text/plain": [
       "'GLOBIOM saw logs demand (m3/ha) u. bark'"
      ]
     },
     "metadata": {},
     "output_type": "display_data"
    },
    {
     "data": {
      "text/plain": [
       "0.0"
      ]
     },
     "metadata": {},
     "output_type": "display_data"
    },
    {
     "data": {
      "text/plain": [
       "'GLOBIOM residues demand (m3/ha)'"
      ]
     },
     "metadata": {},
     "output_type": "display_data"
    },
    {
     "data": {
      "text/plain": [
       "0.0"
      ]
     },
     "metadata": {},
     "output_type": "display_data"
    },
    {
     "name": "stdout",
     "output_type": "stream",
     "text": [
      "\r",
      " 57%|█████▋    | 8/14 [00:27<00:19,  3.26s/it]"
     ]
    },
    {
     "data": {
      "text/plain": [
       "'Optimizing for Recreation and Aesthetics maximize the mean) (4)'"
      ]
     },
     "metadata": {},
     "output_type": "display_data"
    },
    {
     "data": {
      "text/plain": [
       "'Found an optimal solution in 0 seconds'"
      ]
     },
     "metadata": {},
     "output_type": "display_data"
    },
    {
     "data": {
      "text/plain": [
       "'Objective values are:'"
      ]
     },
     "metadata": {},
     "output_type": "display_data"
    },
    {
     "data": {
      "text/plain": [
       "'Sum of extracted volume (maximize, m3/ha) (4)'"
      ]
     },
     "metadata": {},
     "output_type": "display_data"
    },
    {
     "data": {
      "text/plain": [
       "0.0"
      ]
     },
     "metadata": {},
     "output_type": "display_data"
    },
    {
     "data": {
      "text/plain": [
       "'Annual increment of standing volume (maximimze, m3/ha/5year) (4)'"
      ]
     },
     "metadata": {},
     "output_type": "display_data"
    },
    {
     "data": {
      "text/plain": [
       "0.0"
      ]
     },
     "metadata": {},
     "output_type": "display_data"
    },
    {
     "data": {
      "text/plain": [
       "'Standing volume must be maintained ct. (m3) (4)'"
      ]
     },
     "metadata": {},
     "output_type": "display_data"
    },
    {
     "data": {
      "text/plain": [
       "-0.00036645534295604124"
      ]
     },
     "metadata": {},
     "output_type": "display_data"
    },
    {
     "data": {
      "text/plain": [
       "'Energy Wood for industry must be maintained ct. (tC) (3)'"
      ]
     },
     "metadata": {},
     "output_type": "display_data"
    },
    {
     "data": {
      "text/plain": [
       "-1085797.204153276"
      ]
     },
     "metadata": {},
     "output_type": "display_data"
    },
    {
     "data": {
      "text/plain": [
       "'carbon balance must be constant or maximized (tC) (2)'"
      ]
     },
     "metadata": {},
     "output_type": "display_data"
    },
    {
     "data": {
      "text/plain": [
       "0.0"
      ]
     },
     "metadata": {},
     "output_type": "display_data"
    },
    {
     "data": {
      "text/plain": [
       "'Species profile index (Pretzsch) (maximize the mean) (2)'"
      ]
     },
     "metadata": {},
     "output_type": "display_data"
    },
    {
     "data": {
      "text/plain": [
       "1.1043679598361913"
      ]
     },
     "metadata": {},
     "output_type": "display_data"
    },
    {
     "data": {
      "text/plain": [
       "'Shannon index of species (maximize the mean) (2)'"
      ]
     },
     "metadata": {},
     "output_type": "display_data"
    },
    {
     "data": {
      "text/plain": [
       "0.5885504958559046"
      ]
     },
     "metadata": {},
     "output_type": "display_data"
    },
    {
     "data": {
      "text/plain": [
       "'Risk of storms and Bark Beetel (minimize the maximum risk) (2)'"
      ]
     },
     "metadata": {},
     "output_type": "display_data"
    },
    {
     "data": {
      "text/plain": [
       "0.0017771142461400072"
      ]
     },
     "metadata": {},
     "output_type": "display_data"
    },
    {
     "data": {
      "text/plain": [
       "'Recreation and Aesthetics maximize the mean) (4)'"
      ]
     },
     "metadata": {},
     "output_type": "display_data"
    },
    {
     "data": {
      "text/plain": [
       "0.47705721854915345"
      ]
     },
     "metadata": {},
     "output_type": "display_data"
    },
    {
     "data": {
      "text/plain": [
       "'Biodiversity fuzzy indicator (mantain ct, evenflow) (4)'"
      ]
     },
     "metadata": {},
     "output_type": "display_data"
    },
    {
     "data": {
      "text/plain": [
       "0.3831759095083129"
      ]
     },
     "metadata": {},
     "output_type": "display_data"
    },
    {
     "data": {
      "text/plain": [
       "'Mean Crown coverage must be maintened (minimize change, evenflow) (4)'"
      ]
     },
     "metadata": {},
     "output_type": "display_data"
    },
    {
     "data": {
      "text/plain": [
       "0.0"
      ]
     },
     "metadata": {},
     "output_type": "display_data"
    },
    {
     "data": {
      "text/plain": [
       "'GLOBIOM pulp wood demand (m3/ha) u. bark'"
      ]
     },
     "metadata": {},
     "output_type": "display_data"
    },
    {
     "data": {
      "text/plain": [
       "-0.5191329834766217"
      ]
     },
     "metadata": {},
     "output_type": "display_data"
    },
    {
     "data": {
      "text/plain": [
       "'GLOBIOM saw logs demand (m3/ha) u. bark'"
      ]
     },
     "metadata": {},
     "output_type": "display_data"
    },
    {
     "data": {
      "text/plain": [
       "0.0"
      ]
     },
     "metadata": {},
     "output_type": "display_data"
    },
    {
     "data": {
      "text/plain": [
       "'GLOBIOM residues demand (m3/ha)'"
      ]
     },
     "metadata": {},
     "output_type": "display_data"
    },
    {
     "data": {
      "text/plain": [
       "0.0"
      ]
     },
     "metadata": {},
     "output_type": "display_data"
    },
    {
     "name": "stdout",
     "output_type": "stream",
     "text": [
      "\r",
      " 64%|██████▍   | 9/14 [00:30<00:16,  3.20s/it]"
     ]
    }
   ],
   "source": [
    "\n",
    "%%time\n",
    "mfo.calculateObjectiveRanges(debug=True)"
   ]
  },
  {
   "cell_type": "code",
   "execution_count": null,
   "metadata": {},
   "outputs": [],
   "source": [
    "mfo.objectiveRanges"
   ]
  },
  {
   "cell_type": "markdown",
   "metadata": {},
   "source": [
    "## Show GUI"
   ]
  },
  {
   "cell_type": "code",
   "execution_count": null,
   "metadata": {
    "scrolled": false
   },
   "outputs": [],
   "source": [
    "mfo.showGUI()"
   ]
  },
  {
   "cell_type": "markdown",
   "metadata": {},
   "source": [
    "## Visualization of optimal solution"
   ]
  },
  {
   "cell_type": "code",
   "execution_count": null,
   "metadata": {},
   "outputs": [],
   "source": [
    "regimeAmounts = {regime:0 for regime in mfo.regimes}\n",
    "for key in mfo.regimesDecision.keys():\n",
    "    regimeAmounts[key[1]] +=mfo.regimesDecision[key].solution_value()*mfo.standAreas.loc[key[0],\"represented_area_by_NFIplot\"]/mfo.standAreas[\"represented_area_by_NFIplot\"].sum()"
   ]
  },
  {
   "cell_type": "code",
   "execution_count": null,
   "metadata": {
    "scrolled": true
   },
   "outputs": [],
   "source": [
    "%pylab notebook"
   ]
  },
  {
   "cell_type": "code",
   "execution_count": null,
   "metadata": {},
   "outputs": [],
   "source": [
    "[val for val in regimeAmounts.values()]"
   ]
  },
  {
   "cell_type": "code",
   "execution_count": null,
   "metadata": {
    "scrolled": false
   },
   "outputs": [],
   "source": [
    "plt.plot([key for key in regimeAmounts.keys()],[val for val in regimeAmounts.values()])"
   ]
  },
  {
   "cell_type": "code",
   "execution_count": null,
   "metadata": {
    "scrolled": true
   },
   "outputs": [],
   "source": [
    "plt.bar(range(len(regimeAmounts)), list(regimeAmounts.values()), align='center')\n",
    "plt.xticks(range(len(regimeAmounts)), list(regimeAmounts.keys()),rotation=\"vertical\")"
   ]
  },
  {
   "cell_type": "markdown",
   "metadata": {},
   "source": [
    "## Export data as csv\n",
    "- Solution_alldata contains the optimal regime per stand AND the timely development of indicator values plus all other input columns (represented_are_by_NFIplot, region, NUTS2)\n",
    "- Solution contains only the selected optimal regime and its share (if multiple regimes per stand are selected)"
   ]
  },
  {
   "cell_type": "code",
   "execution_count": null,
   "metadata": {},
   "outputs": [],
   "source": [
    "if glob_demands == True : \n",
    "    approach_glob = \"Glob_\"+approach\n",
    "else :\n",
    "    approach_glob = \"NoGlob\"\n",
    "approach_glob"
   ]
  },
  {
   "cell_type": "code",
   "execution_count": null,
   "metadata": {},
   "outputs": [],
   "source": [
    "import pandas as pd\n",
    "import os"
   ]
  },
  {
   "cell_type": "code",
   "execution_count": null,
   "metadata": {},
   "outputs": [],
   "source": [
    "import os\n",
    "\n",
    "try:\n",
    "    os.mkdir(\"results\")\n",
    "except FileExistsError:\n",
    "    pass\n",
    "b = []\n",
    "c = []\n",
    "for key in mfo.regimesDecision.keys():\n",
    "    if mfo.regimesDecision[key].solution_value() > 0:\n",
    "        b = b+ [(key[0],x*5+2012, key[1]) for x in range(0,21)]\n",
    "        c = c+ [(key[0],key[1],mfo.regimesDecision[key].solution_value())]\n",
    "data2b = mfo.data.iloc[mfo.data.index.isin(b)]\n",
    "data2b.to_csv(\"./results/\"+approach_glob+'_'+scenario+\"_\"+RCP+\"_data.csv\")\n",
    "c1 = pd.DataFrame(c)\n",
    "c1.to_csv(\"./results/\"+approach_glob+'_'+scenario+\"_\"+RCP+\"_solutions.csv\")"
   ]
  },
  {
   "cell_type": "markdown",
   "metadata": {},
   "source": [
    "## Export objective ranges"
   ]
  },
  {
   "cell_type": "code",
   "execution_count": null,
   "metadata": {
    "scrolled": true
   },
   "outputs": [],
   "source": [
    "for key in mfo.regimesDecision.keys():\n",
    "        print(key,mfo.regimesDecision[key].solution_value())"
   ]
  },
  {
   "cell_type": "markdown",
   "metadata": {},
   "source": [
    "Save as json file"
   ]
  },
  {
   "cell_type": "code",
   "execution_count": null,
   "metadata": {},
   "outputs": [],
   "source": [
    "import json\n",
    "mfo.objectiveRanges\n",
    "\n",
    "with open('./objectiveRanges_'+approach_glob+'_'+scenario+'_'+RCP+'.json', 'w') as json_file:\n",
    "  json.dump(mfo.objectiveRanges, json_file)"
   ]
  },
  {
   "cell_type": "markdown",
   "metadata": {},
   "source": [
    "Save as CSV."
   ]
  },
  {
   "cell_type": "code",
   "execution_count": null,
   "metadata": {},
   "outputs": [],
   "source": [
    "import pandas\n",
    "df = pandas.read_json('./objectiveRanges_'+approach_glob+'_'+scenario+'_'+RCP+'.json')\n",
    "\n",
    "df.to_csv('./objectiveRanges_'+approach_glob+'_'+scenario+'_'+RCP+'.csv')"
   ]
  },
  {
   "cell_type": "markdown",
   "metadata": {},
   "source": [
    "## Export objective values\n",
    "The optimal solution for each objective."
   ]
  },
  {
   "cell_type": "code",
   "execution_count": null,
   "metadata": {},
   "outputs": [],
   "source": [
    "import os\n",
    "with open(\"./objectiveValues_\"+approach_glob+\"_\"+scenario+\"_\"+RCP+\".csv\",\"w\") as file:\n",
    "    delim = \"\"\n",
    "    for objName in mfo.objectiveTypes.keys():\n",
    "        file.write(delim+objName)\n",
    "        delim = \",\"\n",
    "    file.write(\"\\n\")\n",
    "    delim = \"\"\n",
    "    for objName in mfo.objectiveTypes.keys():\n",
    "        file.write(delim+str(mfo.objective[objName].solution_value()))\n",
    "        delim = \",\"\n",
    "    file.write(\"\\n\")"
   ]
  }
 ],
 "metadata": {
  "kernelspec": {
   "display_name": "Python 3",
   "language": "python",
   "name": "python3"
  },
  "language_info": {
   "codemirror_mode": {
    "name": "ipython",
    "version": 3
   },
   "file_extension": ".py",
   "mimetype": "text/x-python",
   "name": "python",
   "nbconvert_exporter": "python",
   "pygments_lexer": "ipython3",
   "version": "3.8.3"
  }
 },
 "nbformat": 4,
 "nbformat_minor": 2
}
