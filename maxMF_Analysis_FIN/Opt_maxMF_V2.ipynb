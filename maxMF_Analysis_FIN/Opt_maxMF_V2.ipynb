{
 "cells": [
  {
   "cell_type": "markdown",
   "metadata": {},
   "source": [
    "# Multiforest optimization notebook"
   ]
  },
  {
   "cell_type": "markdown",
   "metadata": {},
   "source": [
    "Above the code cells, there will be instructions how the users should modify the codes in the cells. If there are no instructions, then by default no changes should be needed for the cell."
   ]
  },
  {
   "cell_type": "markdown",
   "metadata": {},
   "source": [
    "## Specify input output"
   ]
  },
  {
   "cell_type": "markdown",
   "metadata": {},
   "source": [
    "Define CC scenario data"
   ]
  },
  {
   "cell_type": "code",
   "execution_count": null,
   "metadata": {},
   "outputs": [],
   "source": [
    "RCP = \"RCP0\"\n",
    "filename = \"rslt_inoutmetsaan_\"+RCP+\"_V13.zip\"\n",
    "sample = 0.1"
   ]
  },
  {
   "cell_type": "markdown",
   "metadata": {},
   "source": [
    "Name definition for saved output, rule: _scenario_RCP_extension"
   ]
  },
  {
   "cell_type": "code",
   "execution_count": null,
   "metadata": {},
   "outputs": [],
   "source": [
    "scenario = \"MF\"\n",
    "extension = \"test\" # some additional info to the saved output"
   ]
  },
  {
   "cell_type": "markdown",
   "metadata": {},
   "source": [
    "## Read .py class"
   ]
  },
  {
   "cell_type": "code",
   "execution_count": null,
   "metadata": {},
   "outputs": [],
   "source": [
    "import multiFunctionalOptimization as MFO"
   ]
  },
  {
   "cell_type": "code",
   "execution_count": null,
   "metadata": {},
   "outputs": [],
   "source": [
    "from importlib import reload\n",
    "reload(MFO)"
   ]
  },
  {
   "cell_type": "code",
   "execution_count": null,
   "metadata": {},
   "outputs": [],
   "source": [
    "mfo = MFO.MultiFunctionalOptimization(solver='CPLEX')"
   ]
  },
  {
   "cell_type": "code",
   "execution_count": null,
   "metadata": {},
   "outputs": [],
   "source": [
    "import wget\n",
    "import os\n",
    "import pandas as pd\n",
    "import numpy as np"
   ]
  },
  {
   "cell_type": "markdown",
   "metadata": {},
   "source": [
    "## Read data"
   ]
  },
  {
   "cell_type": "code",
   "execution_count": null,
   "metadata": {
    "scrolled": true
   },
   "outputs": [],
   "source": [
    "if not filename in os.listdir(\".\"):\n",
    "    wget.download(\"https://a3s.fi/swift/v1/AUTH_9d5edfac7197434ab0e9b60b9f62c600/MF_opt_data/\"+filename)"
   ]
  },
  {
   "cell_type": "code",
   "execution_count": null,
   "metadata": {
    "scrolled": false
   },
   "outputs": [],
   "source": [
    "%%time\n",
    "mfo.readData(filename,\n",
    "             # If no sample ratio given, the ratio is assumed to be 1\n",
    "             sampleRatio= sample\n",
    "             # Sample equally in all regions. \n",
    "             # Give the name of the column along the sampling should be equal (here region).             \n",
    "             ,samplingSubsets = \"region\"\n",
    "            )                 "
   ]
  },
  {
   "cell_type": "markdown",
   "metadata": {},
   "source": [
    "* <b>NEW</b>: taking same sample among notebooks, see .py line 84 and 92\n",
    "* Save the id of sampled stands to check if they are identical among notebooks"
   ]
  },
  {
   "cell_type": "code",
   "execution_count": null,
   "metadata": {},
   "outputs": [],
   "source": [
    "id = mfo.data.id\n",
    "\n",
    "# https://www.freecodecamp.org/news/python-unique-list-how-to-get-all-the-unique-values-in-a-list-or-array/\n",
    "def get_unique_numbers(numbers):\n",
    "\n",
    "    list_of_unique_numbers = []\n",
    "\n",
    "    unique_numbers = set(numbers)\n",
    "\n",
    "    for number in unique_numbers:\n",
    "        list_of_unique_numbers.append(number)\n",
    "\n",
    "    return list_of_unique_numbers\n",
    "\n",
    "id = get_unique_numbers(id)\n",
    "id = pd.DataFrame(id)\n",
    "id.to_csv(\"./id_\"+scenario+\"_\"+RCP+\"_\"+extension+\"_18052021.csv\")"
   ]
  },
  {
   "cell_type": "markdown",
   "metadata": {},
   "source": [
    "## Create some new variables in the data"
   ]
  },
  {
   "cell_type": "markdown",
   "metadata": {},
   "source": [
    "Calculate total (per stand) values from relative values"
   ]
  },
  {
   "cell_type": "markdown",
   "metadata": {},
   "source": [
    "\"Relative to Area\" = indicator value relates 1 hectar -> scaled to represented area of NFI plot <br>\n",
    "\"Relative to volume\" = indicator relates to standing V (e.g. %-share of deciduous trees) -> scaled to the represented volume of the plot <br>\n",
    "\"Absolute Value\" = takes the inticator value as it is <br>\n",
    "\n",
    "New columns are: <br>\n",
    "* Total_... hectare value multiplied by represented area (or volume)<br>\n"
   ]
  },
  {
   "cell_type": "code",
   "execution_count": null,
   "metadata": {},
   "outputs": [],
   "source": [
    "columnTypes = {\n",
    "    'i_Vm3':(float,\"Relative to Area\"),\n",
    "    'Harvested_V':(float,\"Relative to Area\"),\n",
    "    'Harvested_V_log_under_bark':(float,\"Relative to Area\"), \n",
    "    'Harvested_V_pulp_under_bark':(float,\"Relative to Area\"),\n",
    "    'Harvested_V_under_bark':(float,\"Relative to Area\"), \n",
    "    'Biomass':(float,\"Relative to Area\"),\n",
    "    'ALL_MARKETED_MUSHROOMS':(float,\"Relative to Area\"), \n",
    "    'BILBERRY':(float,\"Relative to Area\"), \n",
    "    'COWBERRY':(float,\"Relative to Area\"),\n",
    "    'HSI_MOOSE':(float,\"Relative to Area\"),\n",
    "    'CAPERCAILLIE':(float,\"Relative to Area\"), \n",
    "    'HAZEL_GROUSE':(float,\"Relative to Area\"), \n",
    "    'V_total_deadwood':(float,\"Relative to Area\"), \n",
    "    'N_where_D_gt_40':(float,\"Relative to Area\"),\n",
    "    'prc_V_deciduous':(float,\"Relative to Area\"),\n",
    "    'CARBON_SINK':(float,\"Relative to Area\"), \n",
    "    'Recreation':(float,\"Relative to Area\"),\n",
    "    'Scenic':(float,\"Relative to Area\")\n",
    "}"
   ]
  },
  {
   "cell_type": "code",
   "execution_count": null,
   "metadata": {},
   "outputs": [],
   "source": [
    "mfo.calculateTotalValuesFromRelativeValues(columnTypes=columnTypes)"
   ]
  },
  {
   "cell_type": "markdown",
   "metadata": {},
   "source": [
    "List the new variables created:"
   ]
  },
  {
   "cell_type": "code",
   "execution_count": null,
   "metadata": {},
   "outputs": [],
   "source": [
    "[name for name in mfo.data.columns if \"Total_\" in name and \"Relative\" not in name]"
   ]
  },
  {
   "cell_type": "markdown",
   "metadata": {},
   "source": [
    "## Create new column:\n",
    "1) Column indicating if regime is \"CCF_3, CCF_4, BAUwGTR\" (TRUE/FLASE) <br>\n",
    "Important for ES Biodiversity, allowed regimes for conservation sites."
   ]
  },
  {
   "cell_type": "markdown",
   "metadata": {},
   "source": [
    "2) Column indicating if regime is \"SA\" (TRUE/FALSE)<br>\n",
    "Important for ES Biodiversity, allowed regimes for statutory protection sites."
   ]
  },
  {
   "cell_type": "markdown",
   "metadata": {},
   "source": [
    "3) Column indicating if regime is \"BAUwT_B, BAUwT_5_B, BAUwT_15_B, BAUwT_30_B, BAUwT_GTR_B\" <br>\n",
    "Important for ES Resillience, allowed regimes for climate change adaption."
   ]
  },
  {
   "cell_type": "markdown",
   "metadata": {},
   "source": [
    "4) Column indicating if regime is within all four CCF<br>\n",
    "Important for ES Water under GLOBIOM V2 (enabled constraint -> soft target)."
   ]
  },
  {
   "cell_type": "code",
   "execution_count": null,
   "metadata": {},
   "outputs": [],
   "source": [
    "regimeClassNames = {\"regimeClass0name\":\"CCF\",\n",
    "                    \"regimeClass1name\":\"SA\",\n",
    "                    \"regimeClass2name\":\"Broadleave\",\n",
    "                    \"regimeClass3name\":\"AllCCF\"}\n",
    "regimeClassregimes = {\"regimeClass0regimes\":[\"CCF_3\",\"CCF_4\",\"BAUwGTR\"],\n",
    "                      \"regimeClass1regimes\":[\"SA\"],\n",
    "                      \"regimeClass2regimes\":[\"BAUwT_B\", \"BAUwT_5_B\", \"BAUwT_15_B\", \"BAUwT_30_B\", \"BAUwT_GTR_B\"],\n",
    "                      \"regimeClass3regimes\":[\"CCF_1\",\"CCF_2\",\"CCF_3\",\"CCF_4\"]}"
   ]
  },
  {
   "cell_type": "code",
   "execution_count": null,
   "metadata": {},
   "outputs": [],
   "source": [
    "mfo.addRegimeClassifications(regimeClassNames = regimeClassNames,regimeClassregimes=regimeClassregimes)"
   ]
  },
  {
   "cell_type": "markdown",
   "metadata": {},
   "source": [
    "## New column for \"soft target\" of only CCF on peat (ES Water)"
   ]
  },
  {
   "cell_type": "code",
   "execution_count": null,
   "metadata": {},
   "outputs": [],
   "source": [
    "# Column indicating if CCF and SA are on peat land - allowed regimes for water protection\n",
    "mfo.data['CCFonPeat'] = np.where( \n",
    "    ( (mfo.data['AllCCF_forests'] == True ) & (mfo.data['PEAT'] == 1 ) ) | \n",
    "    ( (mfo.data['SA_forests'] == True) & (mfo.data['PEAT'] == 1 ) )\n",
    "    , 1, 0\n",
    ")"
   ]
  },
  {
   "cell_type": "code",
   "execution_count": null,
   "metadata": {},
   "outputs": [],
   "source": [
    "# Create subsample to get the total peat area\n",
    "peat = mfo.data[[\"id\",\"represented_area_by_NFIplot\",\"PEAT\"]]\n",
    "peat = peat[(peat[\"PEAT\"] == 1)]\n",
    "peat = peat.drop_duplicates(['id'])\n",
    "totalPeat = peat[\"represented_area_by_NFIplot\"].sum() / sample # divide by the sample ratio !!\n",
    "totalPeat"
   ]
  },
  {
   "cell_type": "code",
   "execution_count": null,
   "metadata": {},
   "outputs": [],
   "source": [
    "len(peat)"
   ]
  },
  {
   "cell_type": "code",
   "execution_count": null,
   "metadata": {},
   "outputs": [],
   "source": [
    "# Column defining a peat stand´s area in relation to total peat area (USED for OPTIMIZATION!)\n",
    "mfo.data['peatCCFArea'] = np.where(\n",
    "    (mfo.data['CCFonPeat'] == 1 ), mfo.data['represented_area_by_NFIplot'] / totalPeat, 0\n",
    ")"
   ]
  },
  {
   "cell_type": "markdown",
   "metadata": {},
   "source": [
    "## Define initial value:\n",
    "1) Define initial values; initial state is recognized by the regime \"initial_state\"\n",
    "\n",
    "2) Create new variables that describe the <b>relative change to initial situation (start year) \"Relative_\"</b>:"
   ]
  },
  {
   "cell_type": "code",
   "execution_count": null,
   "metadata": {},
   "outputs": [],
   "source": [
    "mfo.finalizeData(initialRegime=\"initial_state\")"
   ]
  },
  {
   "cell_type": "markdown",
   "metadata": {},
   "source": [
    "New variables created:"
   ]
  },
  {
   "cell_type": "code",
   "execution_count": null,
   "metadata": {},
   "outputs": [],
   "source": [
    "[name for name in mfo.data.columns if \"Relative_\" in name]"
   ]
  },
  {
   "cell_type": "code",
   "execution_count": null,
   "metadata": {},
   "outputs": [],
   "source": [
    "mfo.data.head()"
   ]
  },
  {
   "cell_type": "code",
   "execution_count": null,
   "metadata": {},
   "outputs": [],
   "source": [
    "mfo.initialData.head()"
   ]
  },
  {
   "cell_type": "markdown",
   "metadata": {},
   "source": [
    "## Start defining the optimization problem"
   ]
  },
  {
   "cell_type": "markdown",
   "metadata": {},
   "source": [
    "<b>Objective format:</b>\n",
    "\n",
    "Unique_key :[Long human readable name, column name in data, max/min objective, year wise aggregation, stand wise aggregation (, target year OR periodic targets)]\n",
    "\n",
    "<b>Options for \"objective\":</b> \"max\"imise or \"min\"imise it <br>\n",
    "<b>year wise aggregation:</b> \"min\" (minimum value), \"average\", \"firstYear\", \"sum\", \"targetYearWithSlope\",\"targetYear\",\"lastYear\", \"periodicTargets\" <br>\n",
    "<b>stand wise aggregation:</b> \"sum\", \"areaWeightedAverage\", \"areaWeightedSum\" <br>\n",
    "<b>targe year:</b> any year except the first one"
   ]
  },
  {
   "cell_type": "markdown",
   "metadata": {},
   "source": [
    "## Group objective by ecosystem services"
   ]
  },
  {
   "cell_type": "code",
   "execution_count": null,
   "metadata": {},
   "outputs": [],
   "source": [
    "wood_production = { \n",
    "    ## Previous policy objectives\n",
    "    # Scenario BAU\n",
    "    # max_TargetYearWithSlope_Sum_Objectives\n",
    "    #\"Total_i_Vm3_2025\": [\"Total annual timber volume increment by 2025 (m3)\",\n",
    "    #                     \"Total_i_Vm3\",\n",
    "    #                     \"max\",\"targetYearWithSlope\",\"sum\",2025], \n",
    "    # Scenario BAU\n",
    "    # max_TargetYearWithSlope_Sum_Objectives\n",
    "    #\"Total_i_Vm3_2050\": [\"Total annual timber volume increment by 2050 (m3)\",\n",
    "    #                     \"Total_i_Vm3\",\n",
    "    #                     \"max\",\"targetYearWithSlope\",\"sum\",2050], \n",
    "    # Scenario BAU\n",
    "    # max_TargetYearWithSlope_Sum_Objectives\n",
    "    #\"Total_Harvested_V_2025\" :[\"Total annual harvested timber volume by 2025 (log & pulp) (m3)\",\n",
    "    #                           \"Total_Harvested_V\",\n",
    "    #                           \"max\",\"targetYearWithSlope\",\"sum\",2025], \n",
    "    # Scenario Biodiv & Intens\n",
    "    # max_Min_AreaWeightedAverage_Objectives\n",
    "    #\"Average_Harvested_V\" : [\"Average harvested timber volume (log & pulp) (m3/ha, evenflow)\",\n",
    "    #                         \"Harvested_V\",\n",
    "    #                         \"max\",\"min\",\"areaWeightedAverage\"],\n",
    "    \n",
    "    ## Modified objective function(s) for multifunctionality assessment\n",
    "    # Increment\n",
    "    # used \"areaWeightedSum\" here for harmonizing among objectives\n",
    "    # is however the same as using \"Total_...\" of an indicatore and \"sum\"\n",
    "    # Both ways are leading to the same end     \n",
    "    \"Sum_i_Vm3\": [\"Annual timber volume increment(m3)\",\n",
    "                  \"i_Vm3\",\"max\",\"min\",\"areaWeightedSum\"], \n",
    "    # Harvested volume\n",
    "    \"Sum_Harvested_V\" :[\"Annual harvested timber volume (m3)\",\n",
    "                        \"Harvested_V\",\"max\",\"min\",\"areaWeightedSum\"] \n",
    "}"
   ]
  },
  {
   "cell_type": "code",
   "execution_count": null,
   "metadata": {},
   "outputs": [],
   "source": [
    "bioenergy = { \n",
    "    ## Previous policy objectives\n",
    "    # Scenario BAU\n",
    "    # max_TargetYearWithSlope_Sum_Objectives\n",
    "    #\"Total_Biomass_2025\": [\"Total annual harvested biomass volume by 2025 (m3)\",\n",
    "    #                       \"Total_Biomass\",\n",
    "    #                       \"max\",\"targetYearWithSlope\",\"sum\",2025]\n",
    "\n",
    "    ## Modified objective function(s) for multifunctionality assessment\n",
    "    # Biomass\n",
    "    \"Sum_Biomass\": [\"Annual harvested biomass volume (m3)\",\n",
    "                    \"Biomass\",\"max\",\"min\",\"areaWeightedSum\"]\n",
    "}"
   ]
  },
  {
   "cell_type": "code",
   "execution_count": null,
   "metadata": {},
   "outputs": [],
   "source": [
    "nonwood = { \n",
    "    ## Previous policy objectives\n",
    "    # Scenario BAU\n",
    "    # max_Min_Sum_Objectives\n",
    "    #\"Relative_BILBERRY\": [\"Bilberry yield (relative to 2016, max minimum over yrs)\",\n",
    "    #                      \"Relative_Total_BILBERRY\",\n",
    "    #                      \"max\",\"min\",\"sum\"],\n",
    "    #\"Relative_COWBERRY\": [\"Cowberry yield (relative to 2016, max minimum over yrs)\",\n",
    "    #                      \"Relative_Total_COWBERRY\",\n",
    "    #                      \"max\",\"min\",\"sum\"],\n",
    "    #\"Relative_ALL_MARKETED_MUSHROOMS\": [\"All marketed mushroom yield (relative to 2016, max minimum over yrs)\",\n",
    "    #                     \"Relative_Total_ALL_MARKETED_MUSHROOMS\",\n",
    "    #                     \"max\",\"min\",\"sum\"]  \n",
    "    \n",
    "    ## Modified objective function(s) for multifunctionality assessment\n",
    "    # Bilberries \n",
    "    \"Sum_BILBERRY\": [\"Bilberry yield (kg)\",\n",
    "                     \"BILBERRY\",\"max\",\"min\",\"areaWeightedSum\"],\n",
    "    # Cowberries\n",
    "    \"Sum_COWBERRY\": [\"Cowberry yield (kg)\",\n",
    "                     \"COWBERRY\",\"max\",\"min\",\"areaWeightedSum\"],\n",
    "    # Mushrooms\n",
    "    \"Sum_ALL_MARKETED_MUSHROOMS\": [\"Marketed mushroom yield (kg)\",\n",
    "                                   \"ALL_MARKETED_MUSHROOMS\",\"max\",\"min\",\"areaWeightedSum\"]    \n",
    "}"
   ]
  },
  {
   "cell_type": "code",
   "execution_count": null,
   "metadata": {},
   "outputs": [],
   "source": [
    "game = {\n",
    "    ## Previous policy objectives\n",
    "    # Scenario BAU & Biodiv\n",
    "    # max_Average_sum_Objectives\n",
    "    #\"Sum_Total_HSI_MOOSE\": [\"Total habitat index for MOOSE (max average over all years)\",\n",
    "    #                       \"Total_HSI_MOOSE\",\n",
    "    #                       \"max\",\"average\",\"sum\"],\n",
    "    #\"Sum_Total_HAZEL_GROUSE\": [\"Total habitat index for HAZEL_GROUSE (max average over yrs)\",\n",
    "    #                       \"Total_HAZEL_GROUSE\",\n",
    "    #                       \"max\",\"average\",\"sum\"],\n",
    "    #\"Sum_Total_CAPERCAILLIE\": [\"Total habitat index for CAPERCAILLIE (max average over yrs)\",\n",
    "    #                       \"Total_CAPERCAILLIE\",\n",
    "    #                       \"max\",\"average\",\"sum\"]    \n",
    "    \n",
    "    ## Modified objective function(s) for multifunctionality assessment\n",
    "    # Moose\n",
    "    # here used \"average\" instead \"min\" -> due to how the indices were designed\n",
    "    \"Sum_HSI_MOOSE\": [\"Habitat index for MOOSE (index)\",\n",
    "                      \"HSI_MOOSE\",\"max\",\"average\",\"areaWeightedSum\"], \n",
    "    # Hazel Grouse\n",
    "    \"Sum_HAZEL_GROUSE\": [\"Habitat index for HAZEL_GROUSE (index)\",\n",
    "                         \"HAZEL_GROUSE\",\"max\",\"average\",\"areaWeightedSum\"],\n",
    "    # Capercaillie\n",
    "    \"Sum_CAPERCAILLIE\": [\"Habitat index for CAPERCAILLIE (index)\",\n",
    "                         \"CAPERCAILLIE\",\"max\",\"average\",\"areaWeightedSum\"]    \n",
    "}"
   ]
  },
  {
   "cell_type": "code",
   "execution_count": null,
   "metadata": {},
   "outputs": [],
   "source": [
    "biodiversity = {\n",
    "    ## Previous policy objectives\n",
    "    # Scenario BAU\n",
    "    # max_targetYear_areaWeightedAverage  (target values defined in (m3/ha)\n",
    "    # ! \"targetYear\" instead \"targetYearWithSlope\", the latter doesn´t provide reasonable results\n",
    "    # ! Reason: linear increase to target year causes troubles if zero/negative values exist\n",
    "    #\"Average_Deadwood_V_2025\": [\"Average Deadwood volume by 2025 (m3/ha)\", \n",
    "    #                            \"V_total_deadwood\",\n",
    "    #                            \"max\", \"targetYear\", \"areaWeightedAverage\", 2025], \n",
    "    # Scenario BAU\n",
    "    # maximise the end value independent of initial situation\n",
    "    # max_lastYear_sum_Objectives\n",
    "    #\"Total_N_where_D_gt_40\": [\"Total No. of trees diameter >= 40 cm  (max end value)\",\n",
    "    #                          \"Total_N_where_D_gt_40\",\n",
    "    #                          \"max\",\"lastYear\",\"sum\"],    \n",
    "    # Scenario BAU \n",
    "    # maximise the end value independent of initial situation\n",
    "    # max_lastYear_sum_Objectives\n",
    "    #\"Total_prc_V_deciduous\":  [\"Total %-share of deciduous trees (related to V) (max end value)\", \n",
    "    #                           \"Total_prc_V_deciduous\",\n",
    "    #                           \"max\", \"lastYear\",\"sum\"],\n",
    "    \n",
    "    ## Share of set aside - same objective fct. as in policy scenario \n",
    "    #\"Ratio_SA_forests\": [\"Ratio of protected areas (%, SA forests)\",\n",
    "    #                     \"SA_forests\",\"max\",\"firstYear\",\"areaWeightedAverage\"],   \n",
    "    \n",
    "    # Share of conservation management - same objective fct. as in policy scenario\n",
    "    \"Ratio_CCF_forests\": [\"Ratio of BC sites in commercial forests (%, CCF_3, CCF_4 and BAUwGTR)\",\n",
    "                          \"CCF_forests\",\"max\",\"firstYear\",\"areaWeightedAverage\"],\n",
    "    \n",
    "    \n",
    "    ## Modified objective function(s) for multifunctionality assessment\n",
    "    # Deadwood\n",
    "    \"Sum_Deadwood_V\": [\"Deadwood volume (m3)\", \n",
    "                       \"V_total_deadwood\",\"max\",\"min\",\"areaWeightedSum\"], \n",
    "    # Deciduous trees (% of volume)\n",
    "    \"Sum_prc_V_deciduous\":  [\"Share of deciduous trees (% of standing volume)\", \n",
    "                             \"prc_V_deciduous\",\"max\", \"min\",\"areaWeightedSum\"],\n",
    "    # Large trees\n",
    "    \"Sum_N_where_D_gt_40\": [\"No. of large trees DBH >= 40 cm  (per ha)\",\n",
    "                            \"N_where_D_gt_40\",\"max\",\"min\",\"areaWeightedSum\"]    \n",
    "    \n",
    "}"
   ]
  },
  {
   "cell_type": "code",
   "execution_count": null,
   "metadata": {},
   "outputs": [],
   "source": [
    "climate_regulation = {\n",
    "    ## Previous policy objectives\n",
    "    # Scenario BAU\n",
    "    # max_TargetYearWithSlope_Sum_Objectives\n",
    "    #\"Total_CARBON_SINK_2025\": [\"Total sequestration in carbon dioxide by 2025 (t CO2)\",\n",
    "    #                           \"Total_CARBON_SINK\",\n",
    "    #                           \"max\",\"targetYearWithSlope\",\"sum\",2025] ,\n",
    "    \n",
    "    ## Modified objective function(s) for multifunctionality assessment\n",
    "    # Carbon sink\n",
    "    \"Sum_CARBON_SINK\": [\"Sequestration of carbon dioxide (t CO2)\",\n",
    "                        \"CARBON_SINK\", \"max\",\"min\",\"areaWeightedSum\"] \n",
    "}"
   ]
  },
  {
   "cell_type": "code",
   "execution_count": null,
   "metadata": {},
   "outputs": [],
   "source": [
    "recreation = {\n",
    "    ## Previous policy objectives\n",
    "    # Scenario BAU, Biodiv & Intens\n",
    "    # max_min_sum_Objectives\n",
    "    #\"Sum_Total_Recreation\" : [\"Total Recreation index (max minimum over yrs)\",\n",
    "    #                          \"Total_Recreation\",\n",
    "    #                          \"max\",\"min\",\"sum\"],\n",
    "    #\"Sum_Total_Scenic\" : [\"Total Scenic index (max minimum over yrs)\",\n",
    "    #                      \"Total_Scenic\",\n",
    "    #                      \"max\",\"min\",\"sum\"]\n",
    "    \n",
    "    ## Modified objective function(s) for multifunctionality assessment\n",
    "    # Recreation index\n",
    "    \"Sum_Recreation\": [\"Recreation index (-)\",\n",
    "                       \"Recreation\",\"max\",\"min\",\"areaWeightedSum\"],\n",
    "    # Scenic beauty index\n",
    "    \"Sum_Scenic\": [\"Scenic index (-)\",\n",
    "                   \"Scenic\",\"max\",\"min\",\"areaWeightedSum\"]\n",
    "}"
   ]
  },
  {
   "cell_type": "code",
   "execution_count": null,
   "metadata": {},
   "outputs": [],
   "source": [
    "resilience = {\n",
    "    # Share of Adaption to Climate Change (ACC) management - same objective fct. as in policy scenario\n",
    "    \"Ratio_ACC_forests\": [\"Ratio of adaptive management regimes (%, ..._B regimes)\",\n",
    "                          \"Broadleave_forests\",\"max\",\"firstYear\",\"areaWeightedAverage\"]\n",
    "}"
   ]
  },
  {
   "cell_type": "code",
   "execution_count": null,
   "metadata": {},
   "outputs": [],
   "source": [
    "water = {\n",
    "    # Share of CCF management on peat - same objective fct. as in policy scenario\n",
    "    \"Ratio_CCF_onPeat\": [\"Ratio of CCF on Peatland (%, all four CCF and SA)\",\n",
    "                         \"peatCCFArea\",\"max\", \"firstYear\", \"sum\"]         \n",
    "}"
   ]
  },
  {
   "cell_type": "code",
   "execution_count": null,
   "metadata": {},
   "outputs": [],
   "source": [
    "objectives = {\n",
    "              **wood_production,\n",
    "              **bioenergy,\n",
    "              **nonwood,\n",
    "              **game,\n",
    "              **biodiversity,\n",
    "              **climate_regulation,\n",
    "              **recreation,\n",
    "              **resilience,\n",
    "              **water\n",
    "             }"
   ]
  },
  {
   "cell_type": "code",
   "execution_count": null,
   "metadata": {},
   "outputs": [],
   "source": [
    "len(objectives)"
   ]
  },
  {
   "cell_type": "code",
   "execution_count": null,
   "metadata": {},
   "outputs": [],
   "source": [
    "objectives.keys()"
   ]
  },
  {
   "cell_type": "code",
   "execution_count": null,
   "metadata": {},
   "outputs": [],
   "source": [
    "mfo.data.columns"
   ]
  },
  {
   "cell_type": "code",
   "execution_count": null,
   "metadata": {},
   "outputs": [],
   "source": [
    "[(col,mfo.data.dtypes[col]) for col in mfo.data.columns if \"prc\" in col]"
   ]
  },
  {
   "cell_type": "markdown",
   "metadata": {},
   "source": [
    "## Define initial values if not available in data (initial_state)\n",
    "\n",
    "Not NEEDED anymore?\n",
    "\n",
    "Examples are increment, harvests, biomass and carbon sink. They are required for the \"targetYearWithSlope\" objective."
   ]
  },
  {
   "cell_type": "code",
   "execution_count": null,
   "metadata": {},
   "outputs": [],
   "source": [
    "#initialValues = {\"Total_i_Vm3\":107*10**6,               # value from National Forest Policy\n",
    "#                 \"Total_Harvested_V\": 72.3*10**6,       # value from National Forest Policy\n",
    "#                 \"Total_Biomass\": 2.9*10**6,            # value from National Forest Policy\n",
    "#                 \"Total_CARBON_SINK\" : 34.1*10**6,      # value from National Forest Policy\n",
    "#                                 \n",
    "#                 \"SA_forests\" : 0.106,     # from ForestStatistics 2018\n",
    "#                 \"CCF_forests\" : 0.015,    # from ForestStatistics 2018\n",
    "#                 \"BAUwGTR_forests\":0.015}  # from ForestStatistics 2018"
   ]
  },
  {
   "cell_type": "code",
   "execution_count": null,
   "metadata": {
    "scrolled": true
   },
   "outputs": [],
   "source": [
    "#mfo.defineObjectives(objectives, initialValues = initialValues)\n",
    "mfo.defineObjectives(objectives) "
   ]
  },
  {
   "cell_type": "markdown",
   "metadata": {},
   "source": [
    "## Define the constraints\n",
    "\n",
    "Not NEEDED anymore?"
   ]
  },
  {
   "cell_type": "code",
   "execution_count": null,
   "metadata": {},
   "outputs": [],
   "source": [
    "#CCFregimes = [regime for regime in mfo.regimes if \"CCF\" in regime] + [\"SA\"]"
   ]
  },
  {
   "cell_type": "code",
   "execution_count": null,
   "metadata": {},
   "outputs": [],
   "source": [
    "#CCFregimes"
   ]
  },
  {
   "cell_type": "markdown",
   "metadata": {},
   "source": [
    "Constraint format:\n",
    "- Shortname: \"constraint type\",\"allowed regimes\",\"human readable name\",(regimes),\"column in data\")"
   ]
  },
  {
   "cell_type": "code",
   "execution_count": null,
   "metadata": {},
   "outputs": [],
   "source": [
    "#constraintTypes = {\"CCFonPeat\":[\"Allowed regimes\",\"Only CCF on peat lands\",CCFregimes,\"PEAT\"]}"
   ]
  },
  {
   "cell_type": "code",
   "execution_count": null,
   "metadata": {},
   "outputs": [],
   "source": [
    "#mfo.defineConstraints(constraintTypes)"
   ]
  },
  {
   "cell_type": "markdown",
   "metadata": {},
   "source": [
    "## Calculate objective ranges"
   ]
  },
  {
   "cell_type": "code",
   "execution_count": null,
   "metadata": {},
   "outputs": [],
   "source": [
    "mfo.data"
   ]
  },
  {
   "cell_type": "code",
   "execution_count": null,
   "metadata": {
    "scrolled": false
   },
   "outputs": [],
   "source": [
    "%%time\n",
    "mfo.calculateObjectiveRanges(debug=True)"
   ]
  },
  {
   "cell_type": "code",
   "execution_count": null,
   "metadata": {},
   "outputs": [],
   "source": [
    "mfo.objectiveRanges"
   ]
  },
  {
   "cell_type": "markdown",
   "metadata": {},
   "source": [
    "# NEW - optimize for maximum Multifunctionality\n",
    "\n",
    "Following Eyvindson et al. (2021). Now without a GUI, not needed."
   ]
  },
  {
   "cell_type": "markdown",
   "metadata": {},
   "source": [
    "## Define the ecosytem service categories"
   ]
  },
  {
   "cell_type": "code",
   "execution_count": null,
   "metadata": {},
   "outputs": [],
   "source": [
    "ESS = {'wood_production':wood_production,\n",
    "       'bioenergy':bioenergy,\n",
    "       'nonwood':nonwood,\n",
    "       'game':game,\n",
    "       'biodiversity':biodiversity,\n",
    "       'climate_regulation':climate_regulation,\n",
    "       'recreation':recreation,\n",
    "       'resilience':resilience,\n",
    "       'water':water}"
   ]
  },
  {
   "cell_type": "markdown",
   "metadata": {},
   "source": [
    "## Define how solutions by ESS are going to be aggregated\n",
    "\n",
    "Based on the minimum value (MIN) or average value (AVG) for each ESS group. \n",
    "    \n",
    "SOME LOGIC IS NEEDED FOR THIS. If there is only one objective in an ESS group, it doesn't matter. Has an ESS group multiple objectives, it does matter.\n",
    "\n",
    "<b>Justification for using the MIN/AVG:</b> MIN is aiming for equity between the objectives, while using AVG is aiming for efficiency. E.g. Biodiversity, equity is likely more important than efficiency -- as who is to determine which species is more important than another ?"
   ]
  },
  {
   "cell_type": "code",
   "execution_count": 2,
   "metadata": {},
   "outputs": [
    {
     "data": {
      "text/plain": [
       "{'wood_production': 'AVG',\n",
       " 'bioenergy': 'AVG',\n",
       " 'nonwood': 'AVG',\n",
       " 'game': 'MIN',\n",
       " 'biodiversity': 'MIN',\n",
       " 'climate_regulation': 'AVG',\n",
       " 'recreation': 'MIN',\n",
       " 'resilience': 'AVG',\n",
       " 'water': 'AVG'}"
      ]
     },
     "execution_count": 2,
     "metadata": {},
     "output_type": "execute_result"
    }
   ],
   "source": [
    "AGG = {'wood_production':\"AVG\",\n",
    "       'bioenergy':\"AVG\",\n",
    "       'nonwood':\"AVG\",\n",
    "       'game':\"MIN\",\n",
    "       'biodiversity':\"MIN\",\n",
    "       'climate_regulation':\"AVG\",\n",
    "       'recreation':\"MIN\",\n",
    "       'resilience':\"AVG\",\n",
    "       'water':\"AVG\"}\n",
    "AGG"
   ]
  },
  {
   "cell_type": "markdown",
   "metadata": {},
   "source": [
    "## Ideal and anti-ideal value obtainable for each ESS category"
   ]
  },
  {
   "cell_type": "code",
   "execution_count": 3,
   "metadata": {},
   "outputs": [
    {
     "ename": "NameError",
     "evalue": "name 'mfo' is not defined",
     "output_type": "error",
     "traceback": [
      "\u001b[0;31m---------------------------------------------------------------------------\u001b[0m",
      "\u001b[0;31mNameError\u001b[0m                                 Traceback (most recent call last)",
      "\u001b[0;32m<ipython-input-3-21e4a9142e40>\u001b[0m in \u001b[0;36m<module>\u001b[0;34m\u001b[0m\n\u001b[0;32m----> 1\u001b[0;31m \u001b[0mmfo\u001b[0m\u001b[0;34m.\u001b[0m\u001b[0maddEyvindsonMultifunctionality\u001b[0m\u001b[0;34m(\u001b[0m\u001b[0mESS\u001b[0m\u001b[0;34m,\u001b[0m\u001b[0mAGG\u001b[0m\u001b[0;34m)\u001b[0m\u001b[0;34m\u001b[0m\u001b[0;34m\u001b[0m\u001b[0m\n\u001b[0m",
      "\u001b[0;31mNameError\u001b[0m: name 'mfo' is not defined"
     ]
    }
   ],
   "source": [
    "mfo.addEyvindsonMultifunctionality(ESS,AGG)"
   ]
  },
  {
   "cell_type": "markdown",
   "metadata": {},
   "source": [
    "## Maximum multifunctionality\n",
    "    \n",
    "The maximum that is achievable in each ESS category."
   ]
  },
  {
   "cell_type": "code",
   "execution_count": null,
   "metadata": {},
   "outputs": [],
   "source": [
    "mfo.solveMultifunctionality()"
   ]
  },
  {
   "cell_type": "markdown",
   "metadata": {},
   "source": [
    "## Calculate some additional metrics of the latest calculated solution"
   ]
  },
  {
   "cell_type": "markdown",
   "metadata": {},
   "source": [
    "#### Modifications in this section\n",
    "\n",
    "You may add here visualizations and further calculations based on optimization if needed. These can be included in the GUI to be developed for the stakeholder meetings."
   ]
  },
  {
   "cell_type": "code",
   "execution_count": null,
   "metadata": {},
   "outputs": [],
   "source": [
    "regimeAmounts = {regime:0 for regime in mfo.regimes}\n",
    "for key in mfo.regimesDecision.keys():\n",
    "    regimeAmounts[key[1]] +=mfo.regimesDecision[key].solution_value()*mfo.standAreas.loc[key[0],\"represented_area_by_NFIplot\"]/mfo.standAreas[\"represented_area_by_NFIplot\"].sum()"
   ]
  },
  {
   "cell_type": "code",
   "execution_count": null,
   "metadata": {},
   "outputs": [],
   "source": [
    "%pylab notebook"
   ]
  },
  {
   "cell_type": "code",
   "execution_count": null,
   "metadata": {},
   "outputs": [],
   "source": [
    "[val for val in regimeAmounts.values()]"
   ]
  },
  {
   "cell_type": "code",
   "execution_count": null,
   "metadata": {},
   "outputs": [],
   "source": [
    "plt.plot([key for key in regimeAmounts.keys()],[val for val in regimeAmounts.values()])"
   ]
  },
  {
   "cell_type": "code",
   "execution_count": null,
   "metadata": {},
   "outputs": [],
   "source": [
    "plt.bar(range(len(regimeAmounts)), list(regimeAmounts.values()), align='center')\n",
    "plt.xticks(range(len(regimeAmounts)), list(regimeAmounts.keys()),rotation=\"vertical\")"
   ]
  },
  {
   "cell_type": "markdown",
   "metadata": {},
   "source": [
    "## Export data as csv\n",
    "\n",
    "- <b>Solution_alldata</b> contains the optimal regime per stand AND the timely development of indicator values plus all other input columns (represented_are_by_NFIplot, region, NUTS2)\n",
    "- <b>Solution</b> contains only the selected optimal regime and its share (if multiple regimes per stand are selected)"
   ]
  },
  {
   "cell_type": "code",
   "execution_count": null,
   "metadata": {},
   "outputs": [],
   "source": [
    "try:\n",
    "    os.mkdir(\"results\")\n",
    "except FileExistsError:\n",
    "    pass\n",
    "b = []\n",
    "c = []\n",
    "for key in mfo.regimesDecision.keys():\n",
    "    if mfo.regimesDecision[key].solution_value() > 0:\n",
    "        b = b+ [(key[0],x*5+2016, key[1]) for x in range(0,21)]\n",
    "        c = c+ [(key[0],key[1],mfo.regimesDecision[key].solution_value())]\n",
    "data2b = mfo.data.iloc[mfo.data.index.isin(b)]\n",
    "data2b.to_csv(\"./results/solution_alldata_\"+scenario+\"_\"+RCP+\"_\"+extension+\".csv\")\n",
    "c1 = pd.DataFrame(c)\n",
    "c1.to_csv(\"./results/solution_\"+scenario+\"_\"+RCP+\"_\"+extension+\".csv\")"
   ]
  },
  {
   "cell_type": "markdown",
   "metadata": {},
   "source": [
    "## Export objective ranges "
   ]
  },
  {
   "cell_type": "markdown",
   "metadata": {},
   "source": [
    "Can save re-calculation times if big data sets are optimisded <br>\n",
    "<font color='red'>But, how to use it later for this purpose?</font>"
   ]
  },
  {
   "cell_type": "code",
   "execution_count": null,
   "metadata": {},
   "outputs": [],
   "source": [
    "import json\n",
    "mfo.objectiveRanges\n",
    "\n",
    "with open('./results/objectiveRanges_'+scenario+'_'+RCP+'_'+extension+'.json', 'w') as json_file:\n",
    "  json.dump(mfo.objectiveRanges, json_file)"
   ]
  },
  {
   "cell_type": "markdown",
   "metadata": {},
   "source": [
    "Save the objective ranges also as CSV."
   ]
  },
  {
   "cell_type": "code",
   "execution_count": null,
   "metadata": {},
   "outputs": [],
   "source": [
    "df = pd.read_json('./results/objectiveRanges_'+scenario+'_'+RCP+'_'+extension+'.json')\n",
    "\n",
    "df.to_csv('./results/objectiveRanges_'+scenario+'_'+RCP+'_'+extension+'.csv')"
   ]
  },
  {
   "cell_type": "markdown",
   "metadata": {},
   "source": [
    "## Export objective values\n",
    "The optimal solution for each objective."
   ]
  },
  {
   "cell_type": "code",
   "execution_count": null,
   "metadata": {},
   "outputs": [],
   "source": [
    "with open(\"./results/objectiveValues_\"+scenario+'_'+RCP+'_'+extension+\".csv\",\"w\") as file: \n",
    "    delim = \"\" \n",
    "    for objName in mfo.objectiveTypes.keys(): \n",
    "        file.write(delim+objName) \n",
    "        delim = \",\" \n",
    "    file.write(\"\\n\") \n",
    "    delim = \"\" \n",
    "    for objName in mfo.objectiveTypes.keys(): \n",
    "        file.write(delim+str(mfo.objective[objName].solution_value())) \n",
    "        delim = \",\" \n",
    "    file.write(\"\\n\")"
   ]
  },
  {
   "cell_type": "code",
   "execution_count": null,
   "metadata": {},
   "outputs": [],
   "source": []
  }
 ],
 "metadata": {
  "kernelspec": {
   "display_name": "Python 3",
   "language": "python",
   "name": "python3"
  },
  "language_info": {
   "codemirror_mode": {
    "name": "ipython",
    "version": 3
   },
   "file_extension": ".py",
   "mimetype": "text/x-python",
   "name": "python",
   "nbconvert_exporter": "python",
   "pygments_lexer": "ipython3",
   "version": "3.8.3"
  }
 },
 "nbformat": 4,
 "nbformat_minor": 2
}
